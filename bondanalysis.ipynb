{
 "cells": [
  {
   "cell_type": "markdown",
   "metadata": {},
   "source": [
    "# coupon bond pricing using pricing module"
   ]
  },
  {
   "cell_type": "code",
   "execution_count": 4,
   "metadata": {},
   "outputs": [
    {
     "name": "stdout",
     "output_type": "stream",
     "text": [
      "Coupon bond price is: 11,124.28\n"
     ]
    }
   ],
   "source": [
    "# This is to calculate coupon bond price using couponbondprice module.\n",
    "\n",
    "import import_ipynb\n",
    "from couponbondprice import *\n",
    "\n",
    "def main():\n",
    "    face=10000; couponrate=0.05;d=89;q=182;n=7;m=2; bondyield=0.01822\n",
    "    \n",
    "    bondprice= couponprice(face,couponrate,d,q,n,m,bondyield)\n",
    "    print(\"Coupon bond price is:\",format(bondprice, \",.2f\"))\n",
    "    \n",
    "main()"
   ]
  },
  {
   "cell_type": "markdown",
   "metadata": {},
   "source": [
    "# calculating bond buy and hold return"
   ]
  },
  {
   "cell_type": "code",
   "execution_count": 12,
   "metadata": {},
   "outputs": [
    {
     "name": "stdout",
     "output_type": "stream",
     "text": [
      "Return from bond investment is: 0.0174\n"
     ]
    }
   ],
   "source": [
    "# This is to calculate bond investment return using couponbondprice module.\n",
    "\n",
    "import import_ipynb\n",
    "from couponbondprice import *\n",
    "\n",
    "def main():\n",
    "    face=10000; couponrate=0.05;d=89;q=182;n=7;m=2; bondyield=0.01822\n",
    "    bondprice= couponprice(face,couponrate,d,q,n,m,bondyield)\n",
    "    investmentperiod=(d+q*(n-1))/365\n",
    "    coupon=face*(couponrate/m)\n",
    "    bondreturn= ((face+(coupon*n))/bondprice-1)*(1/investmentperiod)\n",
    "    print(\"Return from bond investment is:\",format(bondreturn, \".4f\"))\n",
    "    \n",
    "main()"
   ]
  },
  {
   "cell_type": "markdown",
   "metadata": {},
   "source": [
    "# yield curve riding strategy with no shift"
   ]
  },
  {
   "cell_type": "code",
   "execution_count": 16,
   "metadata": {},
   "outputs": [
    {
     "name": "stdout",
     "output_type": "stream",
     "text": [
      "buy price is; 11,124.28\n",
      "sell price is; 10,661.10\n",
      "investment period is; 1.24\n",
      "expected return from yield curve riding strategy is; 0.0208\n"
     ]
    }
   ],
   "source": [
    "# this is to calculate investment return from yield curve riding strategy\n",
    "# d1= number of days to first coupon from buy date\n",
    "# n1=number of coupons to receive before sell\n",
    "# d2= number of days to first coupon from sell date\n",
    "# n2=number of coupons remaining after sell date through maturity\n",
    "# q= coupon interval(days) \n",
    "# m=coupon frequency per year\n",
    "\n",
    "import import_ipynb\n",
    "from couponbondprice import *\n",
    "\n",
    "def main():\n",
    "\n",
    "    face=10000;  couponrate=0.05; d1=89; d2=182; q=182; n1=3; n2=4; m=2;\n",
    "    buyyield=0.01822\n",
    "    sellyield=0.01627 # sellyield is an original yield on curve\n",
    "    \n",
    "    buyprice=couponprice(face, couponrate, d1,q,n1+n2,m,buyyield)\n",
    "    sellprice=couponprice(face, couponrate, d2,q,n2,m,sellyield) \n",
    "    \n",
    "    coupon=(face*couponrate)/m\n",
    "    totalcoupon=coupon*n1\n",
    "    investperiod=(d1+q*(n1-1))/365\n",
    "    exreturn= ((sellprice+totalcoupon)/buyprice -1) *(1/investperiod)\n",
    "\n",
    "    print(\"buy price is;\", format(buyprice, \",.2f\"));\n",
    "    print(\"sell price is;\", format(sellprice, \",.2f\"))\n",
    "    print(\"investment period is;\", format(investperiod, \".2f\"))\n",
    "    print(\"expected return from yield curve riding strategy is;\", \\\n",
    "          format(exreturn, \".4f\"))\n",
    "    \n",
    "main()"
   ]
  },
  {
   "cell_type": "code",
   "execution_count": 19,
   "metadata": {},
   "outputs": [
    {
     "name": "stdout",
     "output_type": "stream",
     "text": [
      "buy price is; 11,124.28\n",
      "sell price is; 10,347.62\n",
      "investment period is; 2.24\n",
      "expected return from yield curve riding strategy is; 0.0190\n"
     ]
    }
   ],
   "source": [
    "import import_ipynb\n",
    "from couponbondprice import *\n",
    "\n",
    "def main():\n",
    "\n",
    "    face=10000;  couponrate=0.05; d1=89; d2=182; q=182; n1=5; n2=2; m=2;\n",
    "    buyyield=0.01822\n",
    "    sellyield=0.01485 # sellyield is an original yield on curve\n",
    "    \n",
    "    buyprice=couponprice(face, couponrate, d1,q,n1+n2,m,buyyield)\n",
    "    sellprice=couponprice(face, couponrate, d2,q,n2,m,sellyield) \n",
    "    \n",
    "    coupon=(face*couponrate)/m\n",
    "    totalcoupon=coupon*n1\n",
    "    investperiod=(d1+q*(n1-1))/365\n",
    "    exreturn= ((sellprice+totalcoupon)/buyprice -1) *(1/investperiod)\n",
    "\n",
    "    print(\"buy price is;\", format(buyprice, \",.2f\"));\n",
    "    print(\"sell price is;\", format(sellprice, \",.2f\"))\n",
    "    print(\"investment period is;\", format(investperiod, \".2f\"))\n",
    "    print(\"expected return from yield curve riding strategy is;\", \\\n",
    "          format(exreturn, \".4f\"))\n",
    "    \n",
    "main()"
   ]
  },
  {
   "cell_type": "code",
   "execution_count": null,
   "metadata": {},
   "outputs": [],
   "source": []
  },
  {
   "cell_type": "code",
   "execution_count": null,
   "metadata": {},
   "outputs": [],
   "source": []
  },
  {
   "cell_type": "markdown",
   "metadata": {},
   "source": [
    "# yield curve riding strategy with paralell shift"
   ]
  },
  {
   "cell_type": "code",
   "execution_count": 18,
   "metadata": {},
   "outputs": [
    {
     "name": "stdout",
     "output_type": "stream",
     "text": [
      "buy price is; 11,124.28\n",
      "sell price is; 10,246.89\n",
      "investment period is; 2.24\n",
      "expected return from yield curve riding strategy is; 0.0150\n"
     ]
    }
   ],
   "source": [
    "import import_ipynb\n",
    "from couponbondprice import *\n",
    "\n",
    "def main():\n",
    "\n",
    "    face=10000;  couponrate=0.05; d1=89; d2=182; q=182; n1=5; n2=2; m=2;\n",
    "    buyyield=0.01822\n",
    "    shift=0.01\n",
    "    sellyield=0.01485+shift # sellyield is an original yield on curve plus shift\n",
    "    \n",
    "    buyprice=couponprice(face, couponrate, d1,q,n1+n2,m,buyyield)\n",
    "    sellprice=couponprice(face, couponrate, d2,q,n2,m,sellyield) \n",
    "    \n",
    "    coupon=(face*couponrate)/m\n",
    "    totalcoupon=coupon*n1\n",
    "    investperiod=(d1+q*(n1-1))/365\n",
    "    exreturn= ((sellprice+totalcoupon)/buyprice -1) *(1/investperiod)\n",
    "\n",
    "    print(\"buy price is;\", format(buyprice, \",.2f\"));\n",
    "    print(\"sell price is;\", format(sellprice, \",.2f\"))\n",
    "    print(\"investment period is;\", format(investperiod, \".2f\"))\n",
    "    print(\"expected return from yield curve riding strategy is;\", \\\n",
    "          format(exreturn, \".4f\"))\n",
    "main()"
   ]
  },
  {
   "cell_type": "code",
   "execution_count": null,
   "metadata": {},
   "outputs": [],
   "source": []
  },
  {
   "cell_type": "code",
   "execution_count": null,
   "metadata": {},
   "outputs": [],
   "source": []
  }
 ],
 "metadata": {
  "kernelspec": {
   "display_name": "Python 3",
   "language": "python",
   "name": "python3"
  },
  "language_info": {
   "codemirror_mode": {
    "name": "ipython",
    "version": 3
   },
   "file_extension": ".py",
   "mimetype": "text/x-python",
   "name": "python",
   "nbconvert_exporter": "python",
   "pygments_lexer": "ipython3",
   "version": "3.6.6"
  },
  "toc": {
   "base_numbering": 1,
   "nav_menu": {},
   "number_sections": true,
   "sideBar": true,
   "skip_h1_title": false,
   "title_cell": "Table of Contents",
   "title_sidebar": "Contents",
   "toc_cell": false,
   "toc_position": {},
   "toc_section_display": true,
   "toc_window_display": false
  },
  "varInspector": {
   "cols": {
    "lenName": 16,
    "lenType": 16,
    "lenVar": 40
   },
   "kernels_config": {
    "python": {
     "delete_cmd_postfix": "",
     "delete_cmd_prefix": "del ",
     "library": "var_list.py",
     "varRefreshCmd": "print(var_dic_list())"
    },
    "r": {
     "delete_cmd_postfix": ") ",
     "delete_cmd_prefix": "rm(",
     "library": "var_list.r",
     "varRefreshCmd": "cat(var_dic_list()) "
    }
   },
   "types_to_exclude": [
    "module",
    "function",
    "builtin_function_or_method",
    "instance",
    "_Feature"
   ],
   "window_display": false
  }
 },
 "nbformat": 4,
 "nbformat_minor": 2
}
