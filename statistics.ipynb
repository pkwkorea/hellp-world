{
 "cells": [
  {
   "cell_type": "markdown",
   "metadata": {
    "heading_collapsed": true
   },
   "source": [
    "# regression"
   ]
  },
  {
   "cell_type": "markdown",
   "metadata": {
    "heading_collapsed": true,
    "hidden": true
   },
   "source": [
    "## covariance and correlation"
   ]
  },
  {
   "cell_type": "code",
   "execution_count": 9,
   "metadata": {
    "hidden": true
   },
   "outputs": [
    {
     "data": {
      "text/html": [
       "<div>\n",
       "<style scoped>\n",
       "    .dataframe tbody tr th:only-of-type {\n",
       "        vertical-align: middle;\n",
       "    }\n",
       "\n",
       "    .dataframe tbody tr th {\n",
       "        vertical-align: top;\n",
       "    }\n",
       "\n",
       "    .dataframe thead th {\n",
       "        text-align: right;\n",
       "    }\n",
       "</style>\n",
       "<table border=\"1\" class=\"dataframe\">\n",
       "  <thead>\n",
       "    <tr style=\"text-align: right;\">\n",
       "      <th></th>\n",
       "      <th>ID</th>\n",
       "      <th>Salary</th>\n",
       "      <th>Education</th>\n",
       "      <th>Experience</th>\n",
       "      <th>Gender</th>\n",
       "    </tr>\n",
       "  </thead>\n",
       "  <tbody>\n",
       "    <tr>\n",
       "      <th>90</th>\n",
       "      <td>91</td>\n",
       "      <td>64540</td>\n",
       "      <td>16</td>\n",
       "      <td>10</td>\n",
       "      <td>1</td>\n",
       "    </tr>\n",
       "    <tr>\n",
       "      <th>91</th>\n",
       "      <td>92</td>\n",
       "      <td>83430</td>\n",
       "      <td>14</td>\n",
       "      <td>14</td>\n",
       "      <td>0</td>\n",
       "    </tr>\n",
       "    <tr>\n",
       "      <th>92</th>\n",
       "      <td>93</td>\n",
       "      <td>109360</td>\n",
       "      <td>17</td>\n",
       "      <td>19</td>\n",
       "      <td>1</td>\n",
       "    </tr>\n",
       "    <tr>\n",
       "      <th>93</th>\n",
       "      <td>94</td>\n",
       "      <td>67670</td>\n",
       "      <td>18</td>\n",
       "      <td>11</td>\n",
       "      <td>0</td>\n",
       "    </tr>\n",
       "    <tr>\n",
       "      <th>94</th>\n",
       "      <td>95</td>\n",
       "      <td>98940</td>\n",
       "      <td>15</td>\n",
       "      <td>13</td>\n",
       "      <td>1</td>\n",
       "    </tr>\n",
       "    <tr>\n",
       "      <th>95</th>\n",
       "      <td>96</td>\n",
       "      <td>89150</td>\n",
       "      <td>18</td>\n",
       "      <td>10</td>\n",
       "      <td>0</td>\n",
       "    </tr>\n",
       "    <tr>\n",
       "      <th>96</th>\n",
       "      <td>97</td>\n",
       "      <td>92720</td>\n",
       "      <td>15</td>\n",
       "      <td>14</td>\n",
       "      <td>1</td>\n",
       "    </tr>\n",
       "    <tr>\n",
       "      <th>97</th>\n",
       "      <td>98</td>\n",
       "      <td>68670</td>\n",
       "      <td>14</td>\n",
       "      <td>15</td>\n",
       "      <td>1</td>\n",
       "    </tr>\n",
       "    <tr>\n",
       "      <th>98</th>\n",
       "      <td>99</td>\n",
       "      <td>57040</td>\n",
       "      <td>15</td>\n",
       "      <td>10</td>\n",
       "      <td>0</td>\n",
       "    </tr>\n",
       "    <tr>\n",
       "      <th>99</th>\n",
       "      <td>100</td>\n",
       "      <td>67920</td>\n",
       "      <td>16</td>\n",
       "      <td>15</td>\n",
       "      <td>1</td>\n",
       "    </tr>\n",
       "  </tbody>\n",
       "</table>\n",
       "</div>"
      ],
      "text/plain": [
       "     ID  Salary  Education  Experience  Gender\n",
       "90   91   64540         16          10       1\n",
       "91   92   83430         14          14       0\n",
       "92   93  109360         17          19       1\n",
       "93   94   67670         18          11       0\n",
       "94   95   98940         15          13       1\n",
       "95   96   89150         18          10       0\n",
       "96   97   92720         15          14       1\n",
       "97   98   68670         14          15       1\n",
       "98   99   57040         15          10       0\n",
       "99  100   67920         16          15       1"
      ]
     },
     "execution_count": 9,
     "metadata": {},
     "output_type": "execute_result"
    }
   ],
   "source": [
    "import pandas as pd\n",
    "salary=pd.read_excel(\"salary.xlsx\")\n",
    "salary.tail(10)"
   ]
  },
  {
   "cell_type": "code",
   "execution_count": 98,
   "metadata": {
    "hidden": true
   },
   "outputs": [
    {
     "data": {
      "text/html": [
       "<div>\n",
       "<style scoped>\n",
       "    .dataframe tbody tr th:only-of-type {\n",
       "        vertical-align: middle;\n",
       "    }\n",
       "\n",
       "    .dataframe tbody tr th {\n",
       "        vertical-align: top;\n",
       "    }\n",
       "\n",
       "    .dataframe thead th {\n",
       "        text-align: right;\n",
       "    }\n",
       "</style>\n",
       "<table border=\"1\" class=\"dataframe\">\n",
       "  <thead>\n",
       "    <tr style=\"text-align: right;\">\n",
       "      <th></th>\n",
       "      <th>Salary</th>\n",
       "      <th>Education</th>\n",
       "      <th>Experience</th>\n",
       "    </tr>\n",
       "  </thead>\n",
       "  <tbody>\n",
       "    <tr>\n",
       "      <th>Salary</th>\n",
       "      <td>8.369585e+08</td>\n",
       "      <td>6754.823232</td>\n",
       "      <td>135703.814141</td>\n",
       "    </tr>\n",
       "    <tr>\n",
       "      <th>Education</th>\n",
       "      <td>6.754823e+03</td>\n",
       "      <td>2.593434</td>\n",
       "      <td>0.323232</td>\n",
       "    </tr>\n",
       "    <tr>\n",
       "      <th>Experience</th>\n",
       "      <td>1.357038e+05</td>\n",
       "      <td>0.323232</td>\n",
       "      <td>32.409697</td>\n",
       "    </tr>\n",
       "  </tbody>\n",
       "</table>\n",
       "</div>"
      ],
      "text/plain": [
       "                  Salary    Education     Experience\n",
       "Salary      8.369585e+08  6754.823232  135703.814141\n",
       "Education   6.754823e+03     2.593434       0.323232\n",
       "Experience  1.357038e+05     0.323232      32.409697"
      ]
     },
     "execution_count": 98,
     "metadata": {},
     "output_type": "execute_result"
    }
   ],
   "source": [
    "salarycov=salary[[\"Salary\",\"Education\",\"Experience\"]].cov()\n",
    "salarycov"
   ]
  },
  {
   "cell_type": "code",
   "execution_count": 56,
   "metadata": {
    "hidden": true
   },
   "outputs": [
    {
     "data": {
      "text/html": [
       "<div>\n",
       "<style scoped>\n",
       "    .dataframe tbody tr th:only-of-type {\n",
       "        vertical-align: middle;\n",
       "    }\n",
       "\n",
       "    .dataframe tbody tr th {\n",
       "        vertical-align: top;\n",
       "    }\n",
       "\n",
       "    .dataframe thead th {\n",
       "        text-align: right;\n",
       "    }\n",
       "</style>\n",
       "<table border=\"1\" class=\"dataframe\">\n",
       "  <thead>\n",
       "    <tr style=\"text-align: right;\">\n",
       "      <th></th>\n",
       "      <th>Salary</th>\n",
       "      <th>Education</th>\n",
       "      <th>Experience</th>\n",
       "    </tr>\n",
       "  </thead>\n",
       "  <tbody>\n",
       "    <tr>\n",
       "      <th>Salary</th>\n",
       "      <td>1.000000</td>\n",
       "      <td>0.144985</td>\n",
       "      <td>0.823953</td>\n",
       "    </tr>\n",
       "    <tr>\n",
       "      <th>Education</th>\n",
       "      <td>0.144985</td>\n",
       "      <td>1.000000</td>\n",
       "      <td>0.035257</td>\n",
       "    </tr>\n",
       "    <tr>\n",
       "      <th>Experience</th>\n",
       "      <td>0.823953</td>\n",
       "      <td>0.035257</td>\n",
       "      <td>1.000000</td>\n",
       "    </tr>\n",
       "  </tbody>\n",
       "</table>\n",
       "</div>"
      ],
      "text/plain": [
       "              Salary  Education  Experience\n",
       "Salary      1.000000   0.144985    0.823953\n",
       "Education   0.144985   1.000000    0.035257\n",
       "Experience  0.823953   0.035257    1.000000"
      ]
     },
     "execution_count": 56,
     "metadata": {},
     "output_type": "execute_result"
    }
   ],
   "source": [
    "salarycorr=salary[[\"Salary\",\"Education\",\"Experience\"]].corr()\n",
    "salarycorr"
   ]
  },
  {
   "cell_type": "code",
   "execution_count": 90,
   "metadata": {
    "hidden": true
   },
   "outputs": [
    {
     "data": {
      "text/html": [
       "<table class=\"simpletable\">\n",
       "<caption>OLS Regression Results</caption>\n",
       "<tr>\n",
       "  <th>Dep. Variable:</th>         <td>Salary</td>      <th>  R-squared:         </th> <td>   0.693</td>\n",
       "</tr>\n",
       "<tr>\n",
       "  <th>Model:</th>                   <td>OLS</td>       <th>  Adj. R-squared:    </th> <td>   0.684</td>\n",
       "</tr>\n",
       "<tr>\n",
       "  <th>Method:</th>             <td>Least Squares</td>  <th>  F-statistic:       </th> <td>   72.29</td>\n",
       "</tr>\n",
       "<tr>\n",
       "  <th>Date:</th>             <td>Sat, 19 Jan 2019</td> <th>  Prob (F-statistic):</th> <td>1.55e-24</td>\n",
       "</tr>\n",
       "<tr>\n",
       "  <th>Time:</th>                 <td>20:45:43</td>     <th>  Log-Likelihood:    </th> <td> -1109.6</td>\n",
       "</tr>\n",
       "<tr>\n",
       "  <th>No. Observations:</th>      <td>   100</td>      <th>  AIC:               </th> <td>   2227.</td>\n",
       "</tr>\n",
       "<tr>\n",
       "  <th>Df Residuals:</th>          <td>    96</td>      <th>  BIC:               </th> <td>   2238.</td>\n",
       "</tr>\n",
       "<tr>\n",
       "  <th>Df Model:</th>              <td>     3</td>      <th>                     </th>     <td> </td>   \n",
       "</tr>\n",
       "<tr>\n",
       "  <th>Covariance Type:</th>      <td>nonrobust</td>    <th>                     </th>     <td> </td>   \n",
       "</tr>\n",
       "</table>\n",
       "<table class=\"simpletable\">\n",
       "<tr>\n",
       "       <td></td>         <th>coef</th>     <th>std err</th>      <th>t</th>      <th>P>|t|</th>  <th>[0.025</th>    <th>0.975]</th>  \n",
       "</tr>\n",
       "<tr>\n",
       "  <th>const</th>      <td>-5835.1044</td> <td> 1.61e+04</td> <td>   -0.363</td> <td> 0.718</td> <td>-3.78e+04</td> <td> 2.61e+04</td>\n",
       "</tr>\n",
       "<tr>\n",
       "  <th>Education</th>  <td> 2118.8982</td> <td> 1018.486</td> <td>    2.080</td> <td> 0.040</td> <td>   97.220</td> <td> 4140.577</td>\n",
       "</tr>\n",
       "<tr>\n",
       "  <th>Experience</th> <td> 4099.3383</td> <td>  317.194</td> <td>   12.924</td> <td> 0.000</td> <td> 3469.714</td> <td> 4728.963</td>\n",
       "</tr>\n",
       "<tr>\n",
       "  <th>Gender</th>     <td> 1850.9849</td> <td> 3703.070</td> <td>    0.500</td> <td> 0.618</td> <td>-5499.551</td> <td> 9201.521</td>\n",
       "</tr>\n",
       "</table>\n",
       "<table class=\"simpletable\">\n",
       "<tr>\n",
       "  <th>Omnibus:</th>       <td> 0.423</td> <th>  Durbin-Watson:     </th> <td>   1.861</td>\n",
       "</tr>\n",
       "<tr>\n",
       "  <th>Prob(Omnibus):</th> <td> 0.810</td> <th>  Jarque-Bera (JB):  </th> <td>   0.549</td>\n",
       "</tr>\n",
       "<tr>\n",
       "  <th>Skew:</th>          <td> 0.138</td> <th>  Prob(JB):          </th> <td>   0.760</td>\n",
       "</tr>\n",
       "<tr>\n",
       "  <th>Kurtosis:</th>      <td> 2.764</td> <th>  Cond. No.          </th> <td>    217.</td>\n",
       "</tr>\n",
       "</table><br/><br/>Warnings:<br/>[1] Standard Errors assume that the covariance matrix of the errors is correctly specified."
      ],
      "text/plain": [
       "<class 'statsmodels.iolib.summary.Summary'>\n",
       "\"\"\"\n",
       "                            OLS Regression Results                            \n",
       "==============================================================================\n",
       "Dep. Variable:                 Salary   R-squared:                       0.693\n",
       "Model:                            OLS   Adj. R-squared:                  0.684\n",
       "Method:                 Least Squares   F-statistic:                     72.29\n",
       "Date:                Sat, 19 Jan 2019   Prob (F-statistic):           1.55e-24\n",
       "Time:                        20:45:43   Log-Likelihood:                -1109.6\n",
       "No. Observations:                 100   AIC:                             2227.\n",
       "Df Residuals:                      96   BIC:                             2238.\n",
       "Df Model:                           3                                         \n",
       "Covariance Type:            nonrobust                                         \n",
       "==============================================================================\n",
       "                 coef    std err          t      P>|t|      [0.025      0.975]\n",
       "------------------------------------------------------------------------------\n",
       "const      -5835.1044   1.61e+04     -0.363      0.718   -3.78e+04    2.61e+04\n",
       "Education   2118.8982   1018.486      2.080      0.040      97.220    4140.577\n",
       "Experience  4099.3383    317.194     12.924      0.000    3469.714    4728.963\n",
       "Gender      1850.9849   3703.070      0.500      0.618   -5499.551    9201.521\n",
       "==============================================================================\n",
       "Omnibus:                        0.423   Durbin-Watson:                   1.861\n",
       "Prob(Omnibus):                  0.810   Jarque-Bera (JB):                0.549\n",
       "Skew:                           0.138   Prob(JB):                        0.760\n",
       "Kurtosis:                       2.764   Cond. No.                         217.\n",
       "==============================================================================\n",
       "\n",
       "Warnings:\n",
       "[1] Standard Errors assume that the covariance matrix of the errors is correctly specified.\n",
       "\"\"\""
      ]
     },
     "execution_count": 90,
     "metadata": {},
     "output_type": "execute_result"
    }
   ],
   "source": [
    "import statsmodels.api as sm\n",
    "from statsmodels.api import add_constant\n",
    "\n",
    "y=salary[\"Salary\"]\n",
    "x=sm.add_constant(salary[[\"Education\",\"Experience\",\"Gender\"]])\n",
    "mod = sm.OLS(y, x)\n",
    "res = mod.fit()\n",
    "res.summary()"
   ]
  },
  {
   "cell_type": "code",
   "execution_count": null,
   "metadata": {
    "hidden": true
   },
   "outputs": [],
   "source": []
  },
  {
   "cell_type": "code",
   "execution_count": 14,
   "metadata": {
    "hidden": true
   },
   "outputs": [
    {
     "data": {
      "text/html": [
       "<table class=\"simpletable\">\n",
       "<caption>OLS Regression Results</caption>\n",
       "<tr>\n",
       "  <th>Dep. Variable:</th>         <td>Salary</td>      <th>  R-squared:         </th> <td>   0.693</td>\n",
       "</tr>\n",
       "<tr>\n",
       "  <th>Model:</th>                   <td>OLS</td>       <th>  Adj. R-squared:    </th> <td>   0.684</td>\n",
       "</tr>\n",
       "<tr>\n",
       "  <th>Method:</th>             <td>Least Squares</td>  <th>  F-statistic:       </th> <td>   72.29</td>\n",
       "</tr>\n",
       "<tr>\n",
       "  <th>Date:</th>             <td>Sat, 26 Jan 2019</td> <th>  Prob (F-statistic):</th> <td>1.55e-24</td>\n",
       "</tr>\n",
       "<tr>\n",
       "  <th>Time:</th>                 <td>12:01:40</td>     <th>  Log-Likelihood:    </th> <td> -1109.6</td>\n",
       "</tr>\n",
       "<tr>\n",
       "  <th>No. Observations:</th>      <td>   100</td>      <th>  AIC:               </th> <td>   2227.</td>\n",
       "</tr>\n",
       "<tr>\n",
       "  <th>Df Residuals:</th>          <td>    96</td>      <th>  BIC:               </th> <td>   2238.</td>\n",
       "</tr>\n",
       "<tr>\n",
       "  <th>Df Model:</th>              <td>     3</td>      <th>                     </th>     <td> </td>   \n",
       "</tr>\n",
       "<tr>\n",
       "  <th>Covariance Type:</th>      <td>nonrobust</td>    <th>                     </th>     <td> </td>   \n",
       "</tr>\n",
       "</table>\n",
       "<table class=\"simpletable\">\n",
       "<tr>\n",
       "       <td></td>         <th>coef</th>     <th>std err</th>      <th>t</th>      <th>P>|t|</th>  <th>[0.025</th>    <th>0.975]</th>  \n",
       "</tr>\n",
       "<tr>\n",
       "  <th>const</th>      <td>-5835.1044</td> <td> 1.61e+04</td> <td>   -0.363</td> <td> 0.718</td> <td>-3.78e+04</td> <td> 2.61e+04</td>\n",
       "</tr>\n",
       "<tr>\n",
       "  <th>Education</th>  <td> 2118.8982</td> <td> 1018.486</td> <td>    2.080</td> <td> 0.040</td> <td>   97.220</td> <td> 4140.577</td>\n",
       "</tr>\n",
       "<tr>\n",
       "  <th>Experience</th> <td> 4099.3383</td> <td>  317.194</td> <td>   12.924</td> <td> 0.000</td> <td> 3469.714</td> <td> 4728.963</td>\n",
       "</tr>\n",
       "<tr>\n",
       "  <th>Gender</th>     <td> 1850.9849</td> <td> 3703.070</td> <td>    0.500</td> <td> 0.618</td> <td>-5499.551</td> <td> 9201.521</td>\n",
       "</tr>\n",
       "</table>\n",
       "<table class=\"simpletable\">\n",
       "<tr>\n",
       "  <th>Omnibus:</th>       <td> 0.423</td> <th>  Durbin-Watson:     </th> <td>   1.861</td>\n",
       "</tr>\n",
       "<tr>\n",
       "  <th>Prob(Omnibus):</th> <td> 0.810</td> <th>  Jarque-Bera (JB):  </th> <td>   0.549</td>\n",
       "</tr>\n",
       "<tr>\n",
       "  <th>Skew:</th>          <td> 0.138</td> <th>  Prob(JB):          </th> <td>   0.760</td>\n",
       "</tr>\n",
       "<tr>\n",
       "  <th>Kurtosis:</th>      <td> 2.764</td> <th>  Cond. No.          </th> <td>    217.</td>\n",
       "</tr>\n",
       "</table><br/><br/>Warnings:<br/>[1] Standard Errors assume that the covariance matrix of the errors is correctly specified."
      ],
      "text/plain": [
       "<class 'statsmodels.iolib.summary.Summary'>\n",
       "\"\"\"\n",
       "                            OLS Regression Results                            \n",
       "==============================================================================\n",
       "Dep. Variable:                 Salary   R-squared:                       0.693\n",
       "Model:                            OLS   Adj. R-squared:                  0.684\n",
       "Method:                 Least Squares   F-statistic:                     72.29\n",
       "Date:                Sat, 26 Jan 2019   Prob (F-statistic):           1.55e-24\n",
       "Time:                        12:01:40   Log-Likelihood:                -1109.6\n",
       "No. Observations:                 100   AIC:                             2227.\n",
       "Df Residuals:                      96   BIC:                             2238.\n",
       "Df Model:                           3                                         \n",
       "Covariance Type:            nonrobust                                         \n",
       "==============================================================================\n",
       "                 coef    std err          t      P>|t|      [0.025      0.975]\n",
       "------------------------------------------------------------------------------\n",
       "const      -5835.1044   1.61e+04     -0.363      0.718   -3.78e+04    2.61e+04\n",
       "Education   2118.8982   1018.486      2.080      0.040      97.220    4140.577\n",
       "Experience  4099.3383    317.194     12.924      0.000    3469.714    4728.963\n",
       "Gender      1850.9849   3703.070      0.500      0.618   -5499.551    9201.521\n",
       "==============================================================================\n",
       "Omnibus:                        0.423   Durbin-Watson:                   1.861\n",
       "Prob(Omnibus):                  0.810   Jarque-Bera (JB):                0.549\n",
       "Skew:                           0.138   Prob(JB):                        0.760\n",
       "Kurtosis:                       2.764   Cond. No.                         217.\n",
       "==============================================================================\n",
       "\n",
       "Warnings:\n",
       "[1] Standard Errors assume that the covariance matrix of the errors is correctly specified.\n",
       "\"\"\""
      ]
     },
     "execution_count": 14,
     "metadata": {},
     "output_type": "execute_result"
    }
   ],
   "source": [
    "# full coding for regression\n",
    "\n",
    "import pandas as pd\n",
    "import statsmodels.api as sm\n",
    "from statsmodels.api import add_constant\n",
    "\n",
    "salary=pd.read_excel(\"salary.xlsx\")\n",
    "y=salary[\"Salary\"]\n",
    "x=sm.add_constant(salary[[\"Education\",\"Experience\",\"Gender\"]])\n",
    "mod = sm.OLS(y, x)\n",
    "res = mod.fit()\n",
    "res.summary()"
   ]
  },
  {
   "cell_type": "markdown",
   "metadata": {
    "hidden": true
   },
   "source": [
    "## scatter plot"
   ]
  },
  {
   "cell_type": "code",
   "execution_count": 178,
   "metadata": {
    "hidden": true
   },
   "outputs": [
    {
     "data": {
      "image/png": "[encoded data removed]",
      "text/plain": [
       "<Figure size 432x288 with 1 Axes>"
      ]
     },
     "metadata": {
      "needs_background": "light"
     },
     "output_type": "display_data"
    }
   ],
   "source": [
    "incomedata.plot.scatter(x='education', y='income');"
   ]
  },
  {
   "cell_type": "markdown",
   "metadata": {
    "hidden": true
   },
   "source": [
    "## simple regression"
   ]
  },
  {
   "cell_type": "code",
   "execution_count": 81,
   "metadata": {
    "hidden": true
   },
   "outputs": [
    {
     "data": {
      "text/html": [
       "<div>\n",
       "<style scoped>\n",
       "    .dataframe tbody tr th:only-of-type {\n",
       "        vertical-align: middle;\n",
       "    }\n",
       "\n",
       "    .dataframe tbody tr th {\n",
       "        vertical-align: top;\n",
       "    }\n",
       "\n",
       "    .dataframe thead th {\n",
       "        text-align: right;\n",
       "    }\n",
       "</style>\n",
       "<table border=\"1\" class=\"dataframe\">\n",
       "  <thead>\n",
       "    <tr style=\"text-align: right;\">\n",
       "      <th></th>\n",
       "      <th>소득</th>\n",
       "      <th>교육</th>\n",
       "    </tr>\n",
       "  </thead>\n",
       "  <tbody>\n",
       "    <tr>\n",
       "      <th>0</th>\n",
       "      <td>85</td>\n",
       "      <td>8</td>\n",
       "    </tr>\n",
       "    <tr>\n",
       "      <th>1</th>\n",
       "      <td>174</td>\n",
       "      <td>16</td>\n",
       "    </tr>\n",
       "    <tr>\n",
       "      <th>2</th>\n",
       "      <td>82</td>\n",
       "      <td>9</td>\n",
       "    </tr>\n",
       "    <tr>\n",
       "      <th>3</th>\n",
       "      <td>70</td>\n",
       "      <td>12</td>\n",
       "    </tr>\n",
       "    <tr>\n",
       "      <th>4</th>\n",
       "      <td>83</td>\n",
       "      <td>16</td>\n",
       "    </tr>\n",
       "  </tbody>\n",
       "</table>\n",
       "</div>"
      ],
      "text/plain": [
       "    소득  교육\n",
       "0   85   8\n",
       "1  174  16\n",
       "2   82   9\n",
       "3   70  12\n",
       "4   83  16"
      ]
     },
     "execution_count": 81,
     "metadata": {},
     "output_type": "execute_result"
    }
   ],
   "source": [
    "import pandas as pd\n",
    "소득=pd.read_excel('소득자료.xlsx')\n",
    "소득.head()"
   ]
  },
  {
   "cell_type": "code",
   "execution_count": 91,
   "metadata": {
    "hidden": true
   },
   "outputs": [
    {
     "data": {
      "text/html": [
       "<table class=\"simpletable\">\n",
       "<caption>OLS Regression Results</caption>\n",
       "<tr>\n",
       "  <th>Dep. Variable:</th>           <td>소득</td>        <th>  R-squared:         </th> <td>   0.435</td>\n",
       "</tr>\n",
       "<tr>\n",
       "  <th>Model:</th>                   <td>OLS</td>       <th>  Adj. R-squared:    </th> <td>   0.431</td>\n",
       "</tr>\n",
       "<tr>\n",
       "  <th>Method:</th>             <td>Least Squares</td>  <th>  F-statistic:       </th> <td>   113.8</td>\n",
       "</tr>\n",
       "<tr>\n",
       "  <th>Date:</th>             <td>Sat, 19 Jan 2019</td> <th>  Prob (F-statistic):</th> <td>4.57e-20</td>\n",
       "</tr>\n",
       "<tr>\n",
       "  <th>Time:</th>                 <td>20:54:58</td>     <th>  Log-Likelihood:    </th> <td> -625.70</td>\n",
       "</tr>\n",
       "<tr>\n",
       "  <th>No. Observations:</th>      <td>   150</td>      <th>  AIC:               </th> <td>   1255.</td>\n",
       "</tr>\n",
       "<tr>\n",
       "  <th>Df Residuals:</th>          <td>   148</td>      <th>  BIC:               </th> <td>   1261.</td>\n",
       "</tr>\n",
       "<tr>\n",
       "  <th>Df Model:</th>              <td>     1</td>      <th>                     </th>     <td> </td>   \n",
       "</tr>\n",
       "<tr>\n",
       "  <th>Covariance Type:</th>      <td>nonrobust</td>    <th>                     </th>     <td> </td>   \n",
       "</tr>\n",
       "</table>\n",
       "<table class=\"simpletable\">\n",
       "<tr>\n",
       "    <td></td>       <th>coef</th>     <th>std err</th>      <th>t</th>      <th>P>|t|</th>  <th>[0.025</th>    <th>0.975]</th>  \n",
       "</tr>\n",
       "<tr>\n",
       "  <th>const</th> <td>   23.6313</td> <td>    5.268</td> <td>    4.486</td> <td> 0.000</td> <td>   13.221</td> <td>   34.042</td>\n",
       "</tr>\n",
       "<tr>\n",
       "  <th>교육</th>    <td>    4.1368</td> <td>    0.388</td> <td>   10.669</td> <td> 0.000</td> <td>    3.371</td> <td>    4.903</td>\n",
       "</tr>\n",
       "</table>\n",
       "<table class=\"simpletable\">\n",
       "<tr>\n",
       "  <th>Omnibus:</th>       <td>103.679</td> <th>  Durbin-Watson:     </th> <td>   1.709</td> \n",
       "</tr>\n",
       "<tr>\n",
       "  <th>Prob(Omnibus):</th> <td> 0.000</td>  <th>  Jarque-Bera (JB):  </th> <td>1139.482</td> \n",
       "</tr>\n",
       "<tr>\n",
       "  <th>Skew:</th>          <td> 2.282</td>  <th>  Prob(JB):          </th> <td>3.67e-248</td>\n",
       "</tr>\n",
       "<tr>\n",
       "  <th>Kurtosis:</th>      <td>15.708</td>  <th>  Cond. No.          </th> <td>    55.8</td> \n",
       "</tr>\n",
       "</table><br/><br/>Warnings:<br/>[1] Standard Errors assume that the covariance matrix of the errors is correctly specified."
      ],
      "text/plain": [
       "<class 'statsmodels.iolib.summary.Summary'>\n",
       "\"\"\"\n",
       "                            OLS Regression Results                            \n",
       "==============================================================================\n",
       "Dep. Variable:                     소득   R-squared:                       0.435\n",
       "Model:                            OLS   Adj. R-squared:                  0.431\n",
       "Method:                 Least Squares   F-statistic:                     113.8\n",
       "Date:                Sat, 19 Jan 2019   Prob (F-statistic):           4.57e-20\n",
       "Time:                        20:54:58   Log-Likelihood:                -625.70\n",
       "No. Observations:                 150   AIC:                             1255.\n",
       "Df Residuals:                     148   BIC:                             1261.\n",
       "Df Model:                           1                                         \n",
       "Covariance Type:            nonrobust                                         \n",
       "==============================================================================\n",
       "                 coef    std err          t      P>|t|      [0.025      0.975]\n",
       "------------------------------------------------------------------------------\n",
       "const         23.6313      5.268      4.486      0.000      13.221      34.042\n",
       "교육             4.1368      0.388     10.669      0.000       3.371       4.903\n",
       "==============================================================================\n",
       "Omnibus:                      103.679   Durbin-Watson:                   1.709\n",
       "Prob(Omnibus):                  0.000   Jarque-Bera (JB):             1139.482\n",
       "Skew:                           2.282   Prob(JB):                    3.67e-248\n",
       "Kurtosis:                      15.708   Cond. No.                         55.8\n",
       "==============================================================================\n",
       "\n",
       "Warnings:\n",
       "[1] Standard Errors assume that the covariance matrix of the errors is correctly specified.\n",
       "\"\"\""
      ]
     },
     "execution_count": 91,
     "metadata": {},
     "output_type": "execute_result"
    }
   ],
   "source": [
    "import statsmodels.api as sm\n",
    "from statsmodels.api import add_constant\n",
    "\n",
    "y=소득[\"소득\"]\n",
    "x=sm.add_constant(소득[\"교육\"])\n",
    "model = sm.OLS(y, x)\n",
    "result = model.fit()\n",
    "result.summary()"
   ]
  },
  {
   "cell_type": "markdown",
   "metadata": {
    "hidden": true
   },
   "source": [
    "## multiple regression"
   ]
  },
  {
   "cell_type": "code",
   "execution_count": 68,
   "metadata": {
    "hidden": true
   },
   "outputs": [
    {
     "data": {
      "text/html": [
       "<div>\n",
       "<style scoped>\n",
       "    .dataframe tbody tr th:only-of-type {\n",
       "        vertical-align: middle;\n",
       "    }\n",
       "\n",
       "    .dataframe tbody tr th {\n",
       "        vertical-align: top;\n",
       "    }\n",
       "\n",
       "    .dataframe thead th {\n",
       "        text-align: right;\n",
       "    }\n",
       "</style>\n",
       "<table border=\"1\" class=\"dataframe\">\n",
       "  <thead>\n",
       "    <tr style=\"text-align: right;\">\n",
       "      <th></th>\n",
       "      <th>Longvity</th>\n",
       "      <th>Mother</th>\n",
       "      <th>Father</th>\n",
       "      <th>Gmothers</th>\n",
       "      <th>Gfathers</th>\n",
       "      <th>Smoker</th>\n",
       "    </tr>\n",
       "  </thead>\n",
       "  <tbody>\n",
       "    <tr>\n",
       "      <th>0</th>\n",
       "      <td>80</td>\n",
       "      <td>85</td>\n",
       "      <td>78</td>\n",
       "      <td>72</td>\n",
       "      <td>71</td>\n",
       "      <td>0</td>\n",
       "    </tr>\n",
       "    <tr>\n",
       "      <th>1</th>\n",
       "      <td>73</td>\n",
       "      <td>88</td>\n",
       "      <td>63</td>\n",
       "      <td>76</td>\n",
       "      <td>66</td>\n",
       "      <td>1</td>\n",
       "    </tr>\n",
       "    <tr>\n",
       "      <th>2</th>\n",
       "      <td>70</td>\n",
       "      <td>66</td>\n",
       "      <td>75</td>\n",
       "      <td>67</td>\n",
       "      <td>57</td>\n",
       "      <td>1</td>\n",
       "    </tr>\n",
       "    <tr>\n",
       "      <th>3</th>\n",
       "      <td>72</td>\n",
       "      <td>72</td>\n",
       "      <td>67</td>\n",
       "      <td>68</td>\n",
       "      <td>55</td>\n",
       "      <td>1</td>\n",
       "    </tr>\n",
       "    <tr>\n",
       "      <th>4</th>\n",
       "      <td>79</td>\n",
       "      <td>88</td>\n",
       "      <td>73</td>\n",
       "      <td>64</td>\n",
       "      <td>73</td>\n",
       "      <td>0</td>\n",
       "    </tr>\n",
       "  </tbody>\n",
       "</table>\n",
       "</div>"
      ],
      "text/plain": [
       "   Longvity  Mother  Father  Gmothers  Gfathers  Smoker\n",
       "0        80      85      78        72        71       0\n",
       "1        73      88      63        76        66       1\n",
       "2        70      66      75        67        57       1\n",
       "3        72      72      67        68        55       1\n",
       "4        79      88      73        64        73       0"
      ]
     },
     "execution_count": 68,
     "metadata": {},
     "output_type": "execute_result"
    }
   ],
   "source": [
    "import pandas as pd\n",
    "from statsmodels.formula.api import ols\n",
    "\n",
    "보험=pd.read_excel('insurance.xls')\n",
    "보험.head()"
   ]
  },
  {
   "cell_type": "code",
   "execution_count": 69,
   "metadata": {
    "hidden": true
   },
   "outputs": [
    {
     "data": {
      "text/html": [
       "<div>\n",
       "<style scoped>\n",
       "    .dataframe tbody tr th:only-of-type {\n",
       "        vertical-align: middle;\n",
       "    }\n",
       "\n",
       "    .dataframe tbody tr th {\n",
       "        vertical-align: top;\n",
       "    }\n",
       "\n",
       "    .dataframe thead th {\n",
       "        text-align: right;\n",
       "    }\n",
       "</style>\n",
       "<table border=\"1\" class=\"dataframe\">\n",
       "  <thead>\n",
       "    <tr style=\"text-align: right;\">\n",
       "      <th></th>\n",
       "      <th>수명</th>\n",
       "      <th>모수명</th>\n",
       "      <th>부수명</th>\n",
       "      <th>조모수명</th>\n",
       "      <th>조부수명</th>\n",
       "      <th>흡연여부</th>\n",
       "    </tr>\n",
       "  </thead>\n",
       "  <tbody>\n",
       "    <tr>\n",
       "      <th>0</th>\n",
       "      <td>80</td>\n",
       "      <td>85</td>\n",
       "      <td>78</td>\n",
       "      <td>72</td>\n",
       "      <td>71</td>\n",
       "      <td>0</td>\n",
       "    </tr>\n",
       "    <tr>\n",
       "      <th>1</th>\n",
       "      <td>73</td>\n",
       "      <td>88</td>\n",
       "      <td>63</td>\n",
       "      <td>76</td>\n",
       "      <td>66</td>\n",
       "      <td>1</td>\n",
       "    </tr>\n",
       "    <tr>\n",
       "      <th>2</th>\n",
       "      <td>70</td>\n",
       "      <td>66</td>\n",
       "      <td>75</td>\n",
       "      <td>67</td>\n",
       "      <td>57</td>\n",
       "      <td>1</td>\n",
       "    </tr>\n",
       "    <tr>\n",
       "      <th>3</th>\n",
       "      <td>72</td>\n",
       "      <td>72</td>\n",
       "      <td>67</td>\n",
       "      <td>68</td>\n",
       "      <td>55</td>\n",
       "      <td>1</td>\n",
       "    </tr>\n",
       "    <tr>\n",
       "      <th>4</th>\n",
       "      <td>79</td>\n",
       "      <td>88</td>\n",
       "      <td>73</td>\n",
       "      <td>64</td>\n",
       "      <td>73</td>\n",
       "      <td>0</td>\n",
       "    </tr>\n",
       "  </tbody>\n",
       "</table>\n",
       "</div>"
      ],
      "text/plain": [
       "   수명  모수명  부수명  조모수명  조부수명  흡연여부\n",
       "0  80   85   78    72    71     0\n",
       "1  73   88   63    76    66     1\n",
       "2  70   66   75    67    57     1\n",
       "3  72   72   67    68    55     1\n",
       "4  79   88   73    64    73     0"
      ]
     },
     "execution_count": 69,
     "metadata": {},
     "output_type": "execute_result"
    }
   ],
   "source": [
    "보험.rename( columns={\"Longvity\":\"수명\",\"Mother\": \"모수명\",\"Father\": \"부수명\",\"Gmothers\": \"조모수명\",\"Gfathers\":\"조부수명\",\\\n",
    "          \"Smoker\":\"흡연여부\"},inplace=True)\n",
    "보험.head()"
   ]
  },
  {
   "cell_type": "code",
   "execution_count": 92,
   "metadata": {
    "hidden": true
   },
   "outputs": [
    {
     "data": {
      "text/html": [
       "<table class=\"simpletable\">\n",
       "<caption>OLS Regression Results</caption>\n",
       "<tr>\n",
       "  <th>Dep. Variable:</th>           <td>수명</td>        <th>  R-squared:         </th> <td>   0.999</td> \n",
       "</tr>\n",
       "<tr>\n",
       "  <th>Model:</th>                   <td>OLS</td>       <th>  Adj. R-squared:    </th> <td>   0.999</td> \n",
       "</tr>\n",
       "<tr>\n",
       "  <th>Method:</th>             <td>Least Squares</td>  <th>  F-statistic:       </th> <td>1.687e+04</td>\n",
       "</tr>\n",
       "<tr>\n",
       "  <th>Date:</th>             <td>Sat, 19 Jan 2019</td> <th>  Prob (F-statistic):</th> <td>2.18e-138</td>\n",
       "</tr>\n",
       "<tr>\n",
       "  <th>Time:</th>                 <td>20:55:12</td>     <th>  Log-Likelihood:    </th> <td> -230.76</td> \n",
       "</tr>\n",
       "<tr>\n",
       "  <th>No. Observations:</th>      <td>   100</td>      <th>  AIC:               </th> <td>   471.5</td> \n",
       "</tr>\n",
       "<tr>\n",
       "  <th>Df Residuals:</th>          <td>    95</td>      <th>  BIC:               </th> <td>   484.5</td> \n",
       "</tr>\n",
       "<tr>\n",
       "  <th>Df Model:</th>              <td>     5</td>      <th>                     </th>     <td> </td>    \n",
       "</tr>\n",
       "<tr>\n",
       "  <th>Covariance Type:</th>      <td>nonrobust</td>    <th>                     </th>     <td> </td>    \n",
       "</tr>\n",
       "</table>\n",
       "<table class=\"simpletable\">\n",
       "<tr>\n",
       "    <td></td>      <th>coef</th>     <th>std err</th>      <th>t</th>      <th>P>|t|</th>  <th>[0.025</th>    <th>0.975]</th>  \n",
       "</tr>\n",
       "<tr>\n",
       "  <th>모수명</th>  <td>    0.3747</td> <td>    0.055</td> <td>    6.799</td> <td> 0.000</td> <td>    0.265</td> <td>    0.484</td>\n",
       "</tr>\n",
       "<tr>\n",
       "  <th>부수명</th>  <td>    0.3707</td> <td>    0.048</td> <td>    7.778</td> <td> 0.000</td> <td>    0.276</td> <td>    0.465</td>\n",
       "</tr>\n",
       "<tr>\n",
       "  <th>조모수명</th> <td>    0.1286</td> <td>    0.056</td> <td>    2.293</td> <td> 0.024</td> <td>    0.017</td> <td>    0.240</td>\n",
       "</tr>\n",
       "<tr>\n",
       "  <th>조부수명</th> <td>    0.1693</td> <td>    0.056</td> <td>    3.011</td> <td> 0.003</td> <td>    0.058</td> <td>    0.281</td>\n",
       "</tr>\n",
       "<tr>\n",
       "  <th>흡연여부</th> <td>   -2.1059</td> <td>    0.568</td> <td>   -3.705</td> <td> 0.000</td> <td>   -3.234</td> <td>   -0.977</td>\n",
       "</tr>\n",
       "</table>\n",
       "<table class=\"simpletable\">\n",
       "<tr>\n",
       "  <th>Omnibus:</th>       <td> 1.366</td> <th>  Durbin-Watson:     </th> <td>   2.056</td>\n",
       "</tr>\n",
       "<tr>\n",
       "  <th>Prob(Omnibus):</th> <td> 0.505</td> <th>  Jarque-Bera (JB):  </th> <td>   0.844</td>\n",
       "</tr>\n",
       "<tr>\n",
       "  <th>Skew:</th>          <td>-0.084</td> <th>  Prob(JB):          </th> <td>   0.656</td>\n",
       "</tr>\n",
       "<tr>\n",
       "  <th>Kurtosis:</th>      <td> 3.418</td> <th>  Cond. No.          </th> <td>    319.</td>\n",
       "</tr>\n",
       "</table><br/><br/>Warnings:<br/>[1] Standard Errors assume that the covariance matrix of the errors is correctly specified."
      ],
      "text/plain": [
       "<class 'statsmodels.iolib.summary.Summary'>\n",
       "\"\"\"\n",
       "                            OLS Regression Results                            \n",
       "==============================================================================\n",
       "Dep. Variable:                     수명   R-squared:                       0.999\n",
       "Model:                            OLS   Adj. R-squared:                  0.999\n",
       "Method:                 Least Squares   F-statistic:                 1.687e+04\n",
       "Date:                Sat, 19 Jan 2019   Prob (F-statistic):          2.18e-138\n",
       "Time:                        20:55:12   Log-Likelihood:                -230.76\n",
       "No. Observations:                 100   AIC:                             471.5\n",
       "Df Residuals:                      95   BIC:                             484.5\n",
       "Df Model:                           5                                         \n",
       "Covariance Type:            nonrobust                                         \n",
       "==============================================================================\n",
       "                 coef    std err          t      P>|t|      [0.025      0.975]\n",
       "------------------------------------------------------------------------------\n",
       "모수명            0.3747      0.055      6.799      0.000       0.265       0.484\n",
       "부수명            0.3707      0.048      7.778      0.000       0.276       0.465\n",
       "조모수명           0.1286      0.056      2.293      0.024       0.017       0.240\n",
       "조부수명           0.1693      0.056      3.011      0.003       0.058       0.281\n",
       "흡연여부          -2.1059      0.568     -3.705      0.000      -3.234      -0.977\n",
       "==============================================================================\n",
       "Omnibus:                        1.366   Durbin-Watson:                   2.056\n",
       "Prob(Omnibus):                  0.505   Jarque-Bera (JB):                0.844\n",
       "Skew:                          -0.084   Prob(JB):                        0.656\n",
       "Kurtosis:                       3.418   Cond. No.                         319.\n",
       "==============================================================================\n",
       "\n",
       "Warnings:\n",
       "[1] Standard Errors assume that the covariance matrix of the errors is correctly specified.\n",
       "\"\"\""
      ]
     },
     "execution_count": 92,
     "metadata": {},
     "output_type": "execute_result"
    }
   ],
   "source": [
    "import statsmodels.api as sm\n",
    "\n",
    "y=보험[\"수명\"]\n",
    "x=보험[[\"모수명\",\"부수명\",\"조모수명\",\"조부수명\",\"흡연여부\"]]\n",
    "model = sm.OLS(y, x)\n",
    "result = model.fit()\n",
    "result.summary()"
   ]
  },
  {
   "cell_type": "code",
   "execution_count": 74,
   "metadata": {
    "hidden": true
   },
   "outputs": [
    {
     "data": {
      "text/html": [
       "<div>\n",
       "<style scoped>\n",
       "    .dataframe tbody tr th:only-of-type {\n",
       "        vertical-align: middle;\n",
       "    }\n",
       "\n",
       "    .dataframe tbody tr th {\n",
       "        vertical-align: top;\n",
       "    }\n",
       "\n",
       "    .dataframe thead th {\n",
       "        text-align: right;\n",
       "    }\n",
       "</style>\n",
       "<table border=\"1\" class=\"dataframe\">\n",
       "  <thead>\n",
       "    <tr style=\"text-align: right;\">\n",
       "      <th></th>\n",
       "      <th>Weeks</th>\n",
       "      <th>Age</th>\n",
       "      <th>Years</th>\n",
       "      <th>Pay</th>\n",
       "    </tr>\n",
       "  </thead>\n",
       "  <tbody>\n",
       "    <tr>\n",
       "      <th>0</th>\n",
       "      <td>13</td>\n",
       "      <td>37</td>\n",
       "      <td>16</td>\n",
       "      <td>46</td>\n",
       "    </tr>\n",
       "    <tr>\n",
       "      <th>1</th>\n",
       "      <td>13</td>\n",
       "      <td>53</td>\n",
       "      <td>19</td>\n",
       "      <td>48</td>\n",
       "    </tr>\n",
       "    <tr>\n",
       "      <th>2</th>\n",
       "      <td>11</td>\n",
       "      <td>36</td>\n",
       "      <td>8</td>\n",
       "      <td>35</td>\n",
       "    </tr>\n",
       "    <tr>\n",
       "      <th>3</th>\n",
       "      <td>14</td>\n",
       "      <td>44</td>\n",
       "      <td>16</td>\n",
       "      <td>33</td>\n",
       "    </tr>\n",
       "    <tr>\n",
       "      <th>4</th>\n",
       "      <td>3</td>\n",
       "      <td>28</td>\n",
       "      <td>4</td>\n",
       "      <td>40</td>\n",
       "    </tr>\n",
       "  </tbody>\n",
       "</table>\n",
       "</div>"
      ],
      "text/plain": [
       "   Weeks  Age  Years  Pay\n",
       "0     13   37     16   46\n",
       "1     13   53     19   48\n",
       "2     11   36      8   35\n",
       "3     14   44     16   33\n",
       "4      3   28      4   40"
      ]
     },
     "execution_count": 74,
     "metadata": {},
     "output_type": "execute_result"
    }
   ],
   "source": [
    "import pandas as pd\n",
    "layoffpay=pd.read_excel('layoffpay.xls')\n",
    "layoffpay.head()"
   ]
  },
  {
   "cell_type": "code",
   "execution_count": 93,
   "metadata": {
    "hidden": true
   },
   "outputs": [
    {
     "data": {
      "text/html": [
       "<table class=\"simpletable\">\n",
       "<caption>OLS Regression Results</caption>\n",
       "<tr>\n",
       "  <th>Dep. Variable:</th>           <td>Pay</td>       <th>  R-squared:         </th> <td>   0.960</td>\n",
       "</tr>\n",
       "<tr>\n",
       "  <th>Model:</th>                   <td>OLS</td>       <th>  Adj. R-squared:    </th> <td>   0.957</td>\n",
       "</tr>\n",
       "<tr>\n",
       "  <th>Method:</th>             <td>Least Squares</td>  <th>  F-statistic:       </th> <td>   375.1</td>\n",
       "</tr>\n",
       "<tr>\n",
       "  <th>Date:</th>             <td>Sat, 19 Jan 2019</td> <th>  Prob (F-statistic):</th> <td>8.07e-33</td>\n",
       "</tr>\n",
       "<tr>\n",
       "  <th>Time:</th>                 <td>20:55:25</td>     <th>  Log-Likelihood:    </th> <td> -169.02</td>\n",
       "</tr>\n",
       "<tr>\n",
       "  <th>No. Observations:</th>      <td>    50</td>      <th>  AIC:               </th> <td>   344.0</td>\n",
       "</tr>\n",
       "<tr>\n",
       "  <th>Df Residuals:</th>          <td>    47</td>      <th>  BIC:               </th> <td>   349.8</td>\n",
       "</tr>\n",
       "<tr>\n",
       "  <th>Df Model:</th>              <td>     3</td>      <th>                     </th>     <td> </td>   \n",
       "</tr>\n",
       "<tr>\n",
       "  <th>Covariance Type:</th>      <td>nonrobust</td>    <th>                     </th>     <td> </td>   \n",
       "</tr>\n",
       "</table>\n",
       "<table class=\"simpletable\">\n",
       "<tr>\n",
       "    <td></td>       <th>coef</th>     <th>std err</th>      <th>t</th>      <th>P>|t|</th>  <th>[0.025</th>    <th>0.975]</th>  \n",
       "</tr>\n",
       "<tr>\n",
       "  <th>Weeks</th> <td>    0.1761</td> <td>    0.532</td> <td>    0.331</td> <td> 0.742</td> <td>   -0.894</td> <td>    1.246</td>\n",
       "</tr>\n",
       "<tr>\n",
       "  <th>Age</th>   <td>    0.9994</td> <td>    0.112</td> <td>    8.920</td> <td> 0.000</td> <td>    0.774</td> <td>    1.225</td>\n",
       "</tr>\n",
       "<tr>\n",
       "  <th>Years</th> <td>   -0.6320</td> <td>    0.393</td> <td>   -1.609</td> <td> 0.114</td> <td>   -1.422</td> <td>    0.158</td>\n",
       "</tr>\n",
       "</table>\n",
       "<table class=\"simpletable\">\n",
       "<tr>\n",
       "  <th>Omnibus:</th>       <td> 0.338</td> <th>  Durbin-Watson:     </th> <td>   1.631</td>\n",
       "</tr>\n",
       "<tr>\n",
       "  <th>Prob(Omnibus):</th> <td> 0.844</td> <th>  Jarque-Bera (JB):  </th> <td>   0.512</td>\n",
       "</tr>\n",
       "<tr>\n",
       "  <th>Skew:</th>          <td> 0.130</td> <th>  Prob(JB):          </th> <td>   0.774</td>\n",
       "</tr>\n",
       "<tr>\n",
       "  <th>Kurtosis:</th>      <td> 2.578</td> <th>  Cond. No.          </th> <td>    25.5</td>\n",
       "</tr>\n",
       "</table><br/><br/>Warnings:<br/>[1] Standard Errors assume that the covariance matrix of the errors is correctly specified."
      ],
      "text/plain": [
       "<class 'statsmodels.iolib.summary.Summary'>\n",
       "\"\"\"\n",
       "                            OLS Regression Results                            \n",
       "==============================================================================\n",
       "Dep. Variable:                    Pay   R-squared:                       0.960\n",
       "Model:                            OLS   Adj. R-squared:                  0.957\n",
       "Method:                 Least Squares   F-statistic:                     375.1\n",
       "Date:                Sat, 19 Jan 2019   Prob (F-statistic):           8.07e-33\n",
       "Time:                        20:55:25   Log-Likelihood:                -169.02\n",
       "No. Observations:                  50   AIC:                             344.0\n",
       "Df Residuals:                      47   BIC:                             349.8\n",
       "Df Model:                           3                                         \n",
       "Covariance Type:            nonrobust                                         \n",
       "==============================================================================\n",
       "                 coef    std err          t      P>|t|      [0.025      0.975]\n",
       "------------------------------------------------------------------------------\n",
       "Weeks          0.1761      0.532      0.331      0.742      -0.894       1.246\n",
       "Age            0.9994      0.112      8.920      0.000       0.774       1.225\n",
       "Years         -0.6320      0.393     -1.609      0.114      -1.422       0.158\n",
       "==============================================================================\n",
       "Omnibus:                        0.338   Durbin-Watson:                   1.631\n",
       "Prob(Omnibus):                  0.844   Jarque-Bera (JB):                0.512\n",
       "Skew:                           0.130   Prob(JB):                        0.774\n",
       "Kurtosis:                       2.578   Cond. No.                         25.5\n",
       "==============================================================================\n",
       "\n",
       "Warnings:\n",
       "[1] Standard Errors assume that the covariance matrix of the errors is correctly specified.\n",
       "\"\"\""
      ]
     },
     "execution_count": 93,
     "metadata": {},
     "output_type": "execute_result"
    }
   ],
   "source": [
    "import statsmodels.api as sm\n",
    "\n",
    "y=layoffpay[\"Pay\"]\n",
    "x=layoffpay[[\"Weeks\",\"Age\",\"Years\"]]\n",
    "model = sm.OLS(y, x)\n",
    "result = model.fit()\n",
    "result.summary()"
   ]
  },
  {
   "cell_type": "markdown",
   "metadata": {
    "hidden": true
   },
   "source": [
    "## time series regression"
   ]
  },
  {
   "cell_type": "code",
   "execution_count": null,
   "metadata": {
    "hidden": true
   },
   "outputs": [],
   "source": []
  },
  {
   "cell_type": "markdown",
   "metadata": {
    "heading_collapsed": true
   },
   "source": [
    "# box pie line histogram"
   ]
  },
  {
   "cell_type": "code",
   "execution_count": 434,
   "metadata": {
    "hidden": true
   },
   "outputs": [
    {
     "data": {
      "text/plain": [
       "<matplotlib.axes._subplots.AxesSubplot at 0x648ad22f98>"
      ]
     },
     "execution_count": 434,
     "metadata": {},
     "output_type": "execute_result"
    },
    {
     "data": {
      "image/png": "[encoded data removed]",
      "text/plain": [
       "<Figure size 864x576 with 1 Axes>"
      ]
     },
     "metadata": {
      "needs_background": "light"
     },
     "output_type": "display_data"
    }
   ],
   "source": [
    "# 범주자료 chart\n",
    "import pandas as pd\n",
    "\n",
    "data=pd.read_excel('survey.xls')\n",
    "data.groupby('job').size().plot(kind='bar',figsize=(12,8))"
   ]
  },
  {
   "cell_type": "code",
   "execution_count": 433,
   "metadata": {
    "hidden": true
   },
   "outputs": [
    {
     "name": "stdout",
     "output_type": "stream",
     "text": [
      "col_0  frequency\n",
      "job             \n",
      "1             73\n",
      "2             52\n",
      "3             36\n",
      "4             64\n",
      "5             28\n"
     ]
    },
    {
     "data": {
      "text/plain": [
       "<matplotlib.axes._subplots.AxesSubplot at 0x648a24d6d8>"
      ]
     },
     "execution_count": 433,
     "metadata": {},
     "output_type": "execute_result"
    },
    {
     "data": {
      "image/png": "[encoded data removed]",
      "text/plain": [
       "<Figure size 864x576 with 1 Axes>"
      ]
     },
     "metadata": {
      "needs_background": "light"
     },
     "output_type": "display_data"
    }
   ],
   "source": [
    "# frequency tabel 만들기와 bar chart 그리기\n",
    "\n",
    "import pandas as pd\n",
    "\n",
    "data2=pd.read_excel('survey.xls')\n",
    "table = pd.crosstab(index=data2[\"job\"], columns=\"frequency\"); print(table)\n",
    "table.iloc[:,0].plot.bar( title=\"job type\",figsize=(12,8))"
   ]
  },
  {
   "cell_type": "code",
   "execution_count": 419,
   "metadata": {
    "hidden": true
   },
   "outputs": [
    {
     "data": {
      "text/plain": [
       "<matplotlib.axes._subplots.AxesSubplot at 0x64880b58d0>"
      ]
     },
     "execution_count": 419,
     "metadata": {},
     "output_type": "execute_result"
    },
    {
     "data": {
      "image/png": "[encoded data removed]",
      "text/plain": [
       "<Figure size 720x432 with 1 Axes>"
      ]
     },
     "metadata": {},
     "output_type": "display_data"
    }
   ],
   "source": [
    "table.iloc[:,0].plot.pie(figsize=(10,6))"
   ]
  },
  {
   "cell_type": "code",
   "execution_count": 432,
   "metadata": {
    "hidden": true
   },
   "outputs": [
    {
     "data": {
      "text/plain": [
       "array([[<matplotlib.axes._subplots.AxesSubplot object at 0x000000648A3F5048>]],\n",
       "      dtype=object)"
      ]
     },
     "execution_count": 432,
     "metadata": {},
     "output_type": "execute_result"
    },
    {
     "data": {
      "image/png": "[encoded data removed]",
      "text/plain": [
       "<Figure size 864x576 with 1 Axes>"
      ]
     },
     "metadata": {
      "needs_background": "light"
     },
     "output_type": "display_data"
    }
   ],
   "source": [
    "data.hist(column='salary', bins=20, figsize=(12,8))"
   ]
  },
  {
   "cell_type": "code",
   "execution_count": 421,
   "metadata": {
    "hidden": true
   },
   "outputs": [
    {
     "data": {
      "text/plain": [
       "<matplotlib.axes._subplots.AxesSubplot at 0x64881500f0>"
      ]
     },
     "execution_count": 421,
     "metadata": {},
     "output_type": "execute_result"
    },
    {
     "data": {
      "image/png": "[encoded data removed]",
      "text/plain": [
       "<Figure size 720x432 with 1 Axes>"
      ]
     },
     "metadata": {
      "needs_background": "light"
     },
     "output_type": "display_data"
    }
   ],
   "source": [
    "data.iloc[:,4].hist( bins=20,figsize=(10,6))"
   ]
  },
  {
   "cell_type": "code",
   "execution_count": 46,
   "metadata": {
    "hidden": true
   },
   "outputs": [
    {
     "data": {
      "text/plain": [
       "<matplotlib.axes._subplots.AxesSubplot at 0x52af76b160>"
      ]
     },
     "execution_count": 46,
     "metadata": {},
     "output_type": "execute_result"
    }
   ],
   "source": [
    "# 시계열자료 line chart그리기\n",
    "%matplotlib tk\n",
    "\n",
    "#한글 폰트 사용\n",
    "from matplotlib import font_manager,rc\n",
    "import matplotlib\n",
    "import matplotlib.pyplot as plt\n",
    "#폰트 경로\n",
    "font_path = \"C:/Windows/Fonts/HMKMRHD.TTF\"\n",
    "#폰트 이름 얻어오기\n",
    "font_name = font_manager.FontProperties(fname=font_path).get_name()\n",
    "#font 설정\n",
    "matplotlib.rc('font',family=font_name)\n",
    "\n",
    "import pandas as pd\n",
    "주가자료=pd.read_excel('data.xlsx')\n",
    "주가자료.iloc[:,[2,3]].plot( title= \"주가변동\",legend=True,figsize=(10,6)) # False legend를 표시하지 않음 True(default) legend 표시"
   ]
  },
  {
   "cell_type": "code",
   "execution_count": 48,
   "metadata": {
    "hidden": true
   },
   "outputs": [
    {
     "data": {
      "text/plain": [
       "array([<matplotlib.axes._subplots.AxesSubplot object at 0x00000052B0942588>,\n",
       "       <matplotlib.axes._subplots.AxesSubplot object at 0x00000052AE492BE0>,\n",
       "       <matplotlib.axes._subplots.AxesSubplot object at 0x00000052AFE31198>],\n",
       "      dtype=object)"
      ]
     },
     "execution_count": 48,
     "metadata": {},
     "output_type": "execute_result"
    }
   ],
   "source": [
    "# 시계열자료 별도의 line chart그리기\n",
    "%matplotlib tk\n",
    "\n",
    "\n",
    "#한글 폰트 사용\n",
    "from matplotlib import font_manager,rc\n",
    "import matplotlib\n",
    "import matplotlib.pyplot as plt\n",
    "#폰트 경로\n",
    "font_path = \"C:/Windows/Fonts/HMKMRHD.TTF\"\n",
    "#폰트 이름 얻어오기\n",
    "font_name = font_manager.FontProperties(fname=font_path).get_name()\n",
    "#font 설정\n",
    "matplotlib.rc('font',family=font_name)\n",
    "\n",
    "import pandas as pd\n",
    "stocks=pd.read_excel('data.xlsx')\n",
    "stocks.plot(title=\" KT, SKT,  현대모비스 주가변동\",legend=True,subplots=True,figsize=(12,8))"
   ]
  },
  {
   "cell_type": "code",
   "execution_count": 49,
   "metadata": {
    "hidden": true
   },
   "outputs": [
    {
     "data": {
      "text/plain": [
       "<matplotlib.axes._subplots.AxesSubplot at 0x52b0544278>"
      ]
     },
     "execution_count": 49,
     "metadata": {},
     "output_type": "execute_result"
    }
   ],
   "source": [
    "# 시계열자료 별도의 line chart그리기\n",
    "\n",
    "stocks.iloc[:,1].plot(title=\"KT 주가변동\",figsize=(14,8))\n"
   ]
  },
  {
   "cell_type": "code",
   "execution_count": 429,
   "metadata": {
    "hidden": true
   },
   "outputs": [
    {
     "data": {
      "text/plain": [
       "array([[<matplotlib.axes._subplots.AxesSubplot object at 0x0000006489A43198>]],\n",
       "      dtype=object)"
      ]
     },
     "execution_count": 429,
     "metadata": {},
     "output_type": "execute_result"
    },
    {
     "data": {
      "image/png": "[encoded data removed]",
      "text/plain": [
       "<Figure size 864x576 with 1 Axes>"
      ]
     },
     "metadata": {
      "needs_background": "light"
     },
     "output_type": "display_data"
    }
   ],
   "source": [
    "samsung=pd.read_excel('samsung.xls')\n",
    "samsung.hist(column='return', bins=40,figsize=(12,8))"
   ]
  },
  {
   "cell_type": "code",
   "execution_count": 54,
   "metadata": {
    "hidden": true
   },
   "outputs": [
    {
     "data": {
      "text/html": [
       "<div>\n",
       "<style scoped>\n",
       "    .dataframe tbody tr th:only-of-type {\n",
       "        vertical-align: middle;\n",
       "    }\n",
       "\n",
       "    .dataframe tbody tr th {\n",
       "        vertical-align: top;\n",
       "    }\n",
       "\n",
       "    .dataframe thead th {\n",
       "        text-align: right;\n",
       "    }\n",
       "</style>\n",
       "<table border=\"1\" class=\"dataframe\">\n",
       "  <thead>\n",
       "    <tr style=\"text-align: right;\">\n",
       "      <th></th>\n",
       "      <th>기업체수</th>\n",
       "      <th>사업체수</th>\n",
       "      <th>종사자수</th>\n",
       "      <th>남종사자수</th>\n",
       "      <th>여종사자수</th>\n",
       "      <th>상용근로자</th>\n",
       "      <th>임시근로자</th>\n",
       "      <th>자산</th>\n",
       "      <th>유동자산</th>\n",
       "      <th>비유동자산</th>\n",
       "      <th>부채</th>\n",
       "      <th>자본</th>\n",
       "      <th>매출액</th>\n",
       "      <th>매출원가</th>\n",
       "      <th>영업비용</th>\n",
       "      <th>법인세차감전순이익</th>\n",
       "      <th>부가가치</th>\n",
       "      <th>자회사관련회사수</th>\n",
       "      <th>자회사관련회사수(국내)</th>\n",
       "      <th>자회사관련회사수(국외)</th>\n",
       "    </tr>\n",
       "    <tr>\n",
       "      <th>산업</th>\n",
       "      <th></th>\n",
       "      <th></th>\n",
       "      <th></th>\n",
       "      <th></th>\n",
       "      <th></th>\n",
       "      <th></th>\n",
       "      <th></th>\n",
       "      <th></th>\n",
       "      <th></th>\n",
       "      <th></th>\n",
       "      <th></th>\n",
       "      <th></th>\n",
       "      <th></th>\n",
       "      <th></th>\n",
       "      <th></th>\n",
       "      <th></th>\n",
       "      <th></th>\n",
       "      <th></th>\n",
       "      <th></th>\n",
       "      <th></th>\n",
       "    </tr>\n",
       "  </thead>\n",
       "  <tbody>\n",
       "    <tr>\n",
       "      <th>농 업, 임업  및 어 업</th>\n",
       "      <td>26</td>\n",
       "      <td>74</td>\n",
       "      <td>3871</td>\n",
       "      <td>3031</td>\n",
       "      <td>840</td>\n",
       "      <td>3741</td>\n",
       "      <td>130</td>\n",
       "      <td>1741142</td>\n",
       "      <td>664556</td>\n",
       "      <td>887252</td>\n",
       "      <td>708165</td>\n",
       "      <td>1032977</td>\n",
       "      <td>1248177</td>\n",
       "      <td>1067993</td>\n",
       "      <td>1220166</td>\n",
       "      <td>59176</td>\n",
       "      <td>272172</td>\n",
       "      <td>55</td>\n",
       "      <td>33</td>\n",
       "      <td>22</td>\n",
       "    </tr>\n",
       "    <tr>\n",
       "      <th>광 업</th>\n",
       "      <td>13</td>\n",
       "      <td>35</td>\n",
       "      <td>1371</td>\n",
       "      <td>1241</td>\n",
       "      <td>130</td>\n",
       "      <td>1344</td>\n",
       "      <td>27</td>\n",
       "      <td>855946</td>\n",
       "      <td>180200</td>\n",
       "      <td>647187</td>\n",
       "      <td>303481</td>\n",
       "      <td>552465</td>\n",
       "      <td>515623</td>\n",
       "      <td>351911</td>\n",
       "      <td>446253</td>\n",
       "      <td>67040</td>\n",
       "      <td>204170</td>\n",
       "      <td>11</td>\n",
       "      <td>11</td>\n",
       "      <td>0</td>\n",
       "    </tr>\n",
       "    <tr>\n",
       "      <th>제 조 업</th>\n",
       "      <td>6017</td>\n",
       "      <td>21208</td>\n",
       "      <td>1876348</td>\n",
       "      <td>1463661</td>\n",
       "      <td>412687</td>\n",
       "      <td>1797262</td>\n",
       "      <td>51443</td>\n",
       "      <td>1531468772</td>\n",
       "      <td>588448161</td>\n",
       "      <td>890224215</td>\n",
       "      <td>620326948</td>\n",
       "      <td>911141824</td>\n",
       "      <td>1295850547</td>\n",
       "      <td>1047085324</td>\n",
       "      <td>1212596432</td>\n",
       "      <td>87685629</td>\n",
       "      <td>273459704</td>\n",
       "      <td>9485</td>\n",
       "      <td>4061</td>\n",
       "      <td>5424</td>\n",
       "    </tr>\n",
       "    <tr>\n",
       "      <th>전 기 가 스 업 증기업</th>\n",
       "      <td>57</td>\n",
       "      <td>440</td>\n",
       "      <td>34015</td>\n",
       "      <td>30099</td>\n",
       "      <td>3916</td>\n",
       "      <td>33186</td>\n",
       "      <td>612</td>\n",
       "      <td>138696473</td>\n",
       "      <td>17736259</td>\n",
       "      <td>115830391</td>\n",
       "      <td>76772255</td>\n",
       "      <td>61924218</td>\n",
       "      <td>55738620</td>\n",
       "      <td>45065258</td>\n",
       "      <td>47595739</td>\n",
       "      <td>6822985</td>\n",
       "      <td>18480612</td>\n",
       "      <td>180</td>\n",
       "      <td>128</td>\n",
       "      <td>52</td>\n",
       "    </tr>\n",
       "    <tr>\n",
       "      <th>하수·폐기물처리  원료재생 및 환경복원업</th>\n",
       "      <td>137</td>\n",
       "      <td>324</td>\n",
       "      <td>13313</td>\n",
       "      <td>12012</td>\n",
       "      <td>1301</td>\n",
       "      <td>12787</td>\n",
       "      <td>500</td>\n",
       "      <td>5474992</td>\n",
       "      <td>1393337</td>\n",
       "      <td>3762323</td>\n",
       "      <td>2731653</td>\n",
       "      <td>2743339</td>\n",
       "      <td>4053553</td>\n",
       "      <td>3363433</td>\n",
       "      <td>3768236</td>\n",
       "      <td>209216</td>\n",
       "      <td>1228986</td>\n",
       "      <td>105</td>\n",
       "      <td>96</td>\n",
       "      <td>9</td>\n",
       "    </tr>\n",
       "  </tbody>\n",
       "</table>\n",
       "</div>"
      ],
      "text/plain": [
       "                        기업체수   사업체수     종사자수    남종사자수   여종사자수    상용근로자  임시근로자  \\\n",
       "산업                                                                              \n",
       "농 업, 임업  및 어 업            26     74     3871     3031     840     3741    130   \n",
       "광 업                       13     35     1371     1241     130     1344     27   \n",
       "제 조 업                   6017  21208  1876348  1463661  412687  1797262  51443   \n",
       "전 기 가 스 업 증기업             57    440    34015    30099    3916    33186    612   \n",
       "하수·폐기물처리  원료재생 및 환경복원업   137    324    13313    12012    1301    12787    500   \n",
       "\n",
       "                                자산       유동자산      비유동자산         부채  \\\n",
       "산업                                                                    \n",
       "농 업, 임업  및 어 업             1741142     664556     887252     708165   \n",
       "광 업                         855946     180200     647187     303481   \n",
       "제 조 업                   1531468772  588448161  890224215  620326948   \n",
       "전 기 가 스 업 증기업            138696473   17736259  115830391   76772255   \n",
       "하수·폐기물처리  원료재생 및 환경복원업     5474992    1393337    3762323    2731653   \n",
       "\n",
       "                               자본         매출액        매출원가        영업비용  \\\n",
       "산업                                                                      \n",
       "농 업, 임업  및 어 업            1032977     1248177     1067993     1220166   \n",
       "광 업                        552465      515623      351911      446253   \n",
       "제 조 업                   911141824  1295850547  1047085324  1212596432   \n",
       "전 기 가 스 업 증기업            61924218    55738620    45065258    47595739   \n",
       "하수·폐기물처리  원료재생 및 환경복원업    2743339     4053553     3363433     3768236   \n",
       "\n",
       "                        법인세차감전순이익       부가가치  자회사관련회사수  자회사관련회사수(국내)  \\\n",
       "산업                                                                     \n",
       "농 업, 임업  및 어 업              59176     272172        55            33   \n",
       "광 업                         67040     204170        11            11   \n",
       "제 조 업                    87685629  273459704      9485          4061   \n",
       "전 기 가 스 업 증기업             6822985   18480612       180           128   \n",
       "하수·폐기물처리  원료재생 및 환경복원업     209216    1228986       105            96   \n",
       "\n",
       "                        자회사관련회사수(국외)  \n",
       "산업                                    \n",
       "농 업, 임업  및 어 업                    22  \n",
       "광 업                                0  \n",
       "제 조 업                           5424  \n",
       "전 기 가 스 업 증기업                     52  \n",
       "하수·폐기물처리  원료재생 및 환경복원업             9  "
      ]
     },
     "execution_count": 54,
     "metadata": {},
     "output_type": "execute_result"
    }
   ],
   "source": [
    "import pandas as pd\n",
    "산업=pd.read_excel('산업지표.xlsx') # 한글이름 파일 파일내 한글 변수 읽고 처리\n",
    "\n",
    "#한글 폰트 사용\n",
    "from matplotlib import font_manager,rc\n",
    "import matplotlib\n",
    "import matplotlib.pyplot as plt\n",
    "#폰트 경로\n",
    "font_path = \"C:/Windows/Fonts/HMKMRHD.TTF\"\n",
    "#폰트 이름 얻어오기\n",
    "font_name = font_manager.FontProperties(fname=font_path).get_name()\n",
    "#font 설정\n",
    "matplotlib.rc('font',family=font_name)\n",
    "\n",
    "\n",
    "산업.head()"
   ]
  },
  {
   "cell_type": "code",
   "execution_count": 13,
   "metadata": {
    "hidden": true
   },
   "outputs": [
    {
     "data": {
      "text/plain": [
       "<matplotlib.axes._subplots.AxesSubplot at 0x52abe3abe0>"
      ]
     },
     "execution_count": 13,
     "metadata": {},
     "output_type": "execute_result"
    },
    {
     "data": {
      "image/png": "[encoded data removed]",
      "text/plain": [
       "<Figure size 864x576 with 1 Axes>"
      ]
     },
     "metadata": {
      "needs_background": "light"
     },
     "output_type": "display_data"
    }
   ],
   "source": [
    "# 여러 변수 bar chart 한 그래프에 그리기\n",
    "\n",
    "import pandas as pd\n",
    "산업=pd.read_excel('산업지표.xlsx') \n",
    "\n",
    "#한글 폰트 사용\n",
    "from matplotlib import font_manager,rc\n",
    "import matplotlib\n",
    "import matplotlib.pyplot as plt\n",
    "#폰트 경로\n",
    "font_path = \"C:/Windows/Fonts/HMKMRHD.TTF\"\n",
    "#폰트 이름 얻어오기\n",
    "font_name = font_manager.FontProperties(fname=font_path).get_name()\n",
    "#font 설정\n",
    "matplotlib.rc('font',family=font_name)\n",
    "\n",
    "산업.set_index(\"산업\",drop=True,inplace=True) # x axis에 연령값들을 사용\n",
    "산업.iloc[:,[7,8,10]].plot.bar( title=\"산업별 자산 유동자산 부채규모\",figsize=(12,8))"
   ]
  },
  {
   "cell_type": "code",
   "execution_count": 14,
   "metadata": {
    "hidden": true
   },
   "outputs": [
    {
     "data": {
      "text/plain": [
       "array([<matplotlib.axes._subplots.AxesSubplot object at 0x00000052AD67F160>,\n",
       "       <matplotlib.axes._subplots.AxesSubplot object at 0x00000052AD6C6748>,\n",
       "       <matplotlib.axes._subplots.AxesSubplot object at 0x00000052AD6DECC0>],\n",
       "      dtype=object)"
      ]
     },
     "execution_count": 14,
     "metadata": {},
     "output_type": "execute_result"
    },
    {
     "data": {
      "image/png": "[encoded data removed]",
      "text/plain": [
       "<Figure size 864x576 with 3 Axes>"
      ]
     },
     "metadata": {
      "needs_background": "light"
     },
     "output_type": "display_data"
    }
   ],
   "source": [
    "# 여러 변수 bar chart 다른 그래프에 그리기\n",
    "\n",
    "import pandas as pd\n",
    "산업=pd.read_excel('산업지표.xlsx') \n",
    "\n",
    "#한글 폰트 사용\n",
    "from matplotlib import font_manager,rc\n",
    "import matplotlib\n",
    "import matplotlib.pyplot as plt\n",
    "#폰트 경로\n",
    "font_path = \"C:/Windows/Fonts/HMKMRHD.TTF\"\n",
    "#폰트 이름 얻어오기\n",
    "font_name = font_manager.FontProperties(fname=font_path).get_name()\n",
    "#font 설정\n",
    "matplotlib.rc('font',family=font_name)\n",
    "\n",
    "산업.set_index(\"산업\",drop=True,inplace=True) # x axis에 연령값들을 사용\n",
    "산업.iloc[:,[7,8,10]].plot.bar(subplots=True,figsize=(12,8))"
   ]
  },
  {
   "cell_type": "code",
   "execution_count": 16,
   "metadata": {
    "hidden": true
   },
   "outputs": [
    {
     "data": {
      "text/plain": [
       "<matplotlib.axes._subplots.AxesSubplot at 0x52add09080>"
      ]
     },
     "execution_count": 16,
     "metadata": {},
     "output_type": "execute_result"
    },
    {
     "data": {
      "image/png": "[encoded data removed]",
      "text/plain": [
       "<Figure size 1008x576 with 1 Axes>"
      ]
     },
     "metadata": {
      "needs_background": "light"
     },
     "output_type": "display_data"
    }
   ],
   "source": [
    "import pandas as pd\n",
    "data=pd.read_excel('영화.xlsx') # 한글이름 파일 파일내 한글 변수 읽고 처리\n",
    "\n",
    "#한글 폰트 사용\n",
    "from matplotlib import font_manager,rc\n",
    "import matplotlib\n",
    "import matplotlib.pyplot as plt\n",
    "#폰트 경로\n",
    "font_path = \"C:/Windows/Fonts/HMKMRHD.TTF\"\n",
    "#폰트 이름 얻어오기\n",
    "font_name = font_manager.FontProperties(fname=font_path).get_name()\n",
    "#font 설정\n",
    "matplotlib.rc('font',family=font_name)\n",
    "\n",
    "data.set_index(\"연령\",drop=True,inplace=True) # x axis에 연령값들을 사용\n",
    "data.plot.bar(title=\"연령별 영화관람횟수\",figsize=(14,8))"
   ]
  },
  {
   "cell_type": "code",
   "execution_count": 17,
   "metadata": {
    "hidden": true
   },
   "outputs": [
    {
     "data": {
      "text/plain": [
       "<matplotlib.axes._subplots.AxesSubplot at 0x52adcdedd8>"
      ]
     },
     "execution_count": 17,
     "metadata": {},
     "output_type": "execute_result"
    },
    {
     "data": {
      "image/png": "[encoded data removed]",
      "text/plain": [
       "<Figure size 1008x576 with 1 Axes>"
      ]
     },
     "metadata": {
      "needs_background": "light"
     },
     "output_type": "display_data"
    }
   ],
   "source": [
    "import pandas as pd\n",
    "여행=pd.read_excel('travel.xlsx')\n",
    "\n",
    "#한글 폰트 사용\n",
    "from matplotlib import font_manager,rc\n",
    "import matplotlib\n",
    "import matplotlib.pyplot as plt\n",
    "#폰트 경로\n",
    "font_path = \"C:/Windows/Fonts/HMKMRHD.TTF\"\n",
    "#폰트 이름 얻어오기\n",
    "font_name = font_manager.FontProperties(fname=font_path).get_name()\n",
    "#font 설정\n",
    "matplotlib.rc('font',family=font_name)\n",
    "\n",
    "여행.set_index(\"연령\",drop=True,inplace=True) # x axis에 age값들을 사용\n",
    "여행.plot.bar(title=\"연령별 여행의 목적\",figsize=(14,8))"
   ]
  },
  {
   "cell_type": "markdown",
   "metadata": {
    "heading_collapsed": true
   },
   "source": [
    "# 기술통계"
   ]
  },
  {
   "cell_type": "code",
   "execution_count": 8,
   "metadata": {
    "hidden": true
   },
   "outputs": [
    {
     "name": "stdout",
     "output_type": "stream",
     "text": [
      "모든 변수들의 기술통계량;\n",
      "             사원번호         만족도          연봉\n",
      "count  253.000000  253.000000  253.000000\n",
      "mean   127.000000    1.996047   47.126482\n",
      "std     73.179004    0.847489    6.843475\n",
      "min      1.000000    1.000000   26.000000\n",
      "25%     64.000000    1.000000   43.000000\n",
      "50%    127.000000    2.000000   47.000000\n",
      "75%    190.000000    3.000000   52.000000\n",
      "max    253.000000    4.000000   65.000000\n",
      "연봉의 기술통계량;\n",
      "count    253.000000\n",
      "mean      47.126482\n",
      "std        6.843475\n",
      "min       26.000000\n",
      "25%       43.000000\n",
      "50%       47.000000\n",
      "75%       52.000000\n",
      "max       65.000000\n",
      "Name: 연봉, dtype: float64\n"
     ]
    }
   ],
   "source": [
    "import pandas as pd\n",
    "data=pd.read_excel('survey.xlsx')\n",
    "\n",
    "# 모든 변수들의 기술통계량 계산\n",
    "기술통계=data.describe()\n",
    "print(\"모든 변수들의 기술통계량;\")\n",
    "print(기술통계)\n",
    "\n",
    "# 연봉의 기술통계량 계산\n",
    "연봉기술통계=data.iloc[:,4].describe()\n",
    "print(\"연봉의 기술통계량;\"); \n",
    "print(연봉기술통계)"
   ]
  },
  {
   "cell_type": "code",
   "execution_count": 155,
   "metadata": {
    "hidden": true
   },
   "outputs": [
    {
     "name": "stdout",
     "output_type": "stream",
     "text": [
      "직업별 기술통계량;\n"
     ]
    },
    {
     "data": {
      "text/html": [
       "<div>\n",
       "<style scoped>\n",
       "    .dataframe tbody tr th:only-of-type {\n",
       "        vertical-align: middle;\n",
       "    }\n",
       "\n",
       "    .dataframe tbody tr th {\n",
       "        vertical-align: top;\n",
       "    }\n",
       "\n",
       "    .dataframe thead tr th {\n",
       "        text-align: left;\n",
       "    }\n",
       "\n",
       "    .dataframe thead tr:last-of-type th {\n",
       "        text-align: right;\n",
       "    }\n",
       "</style>\n",
       "<table border=\"1\" class=\"dataframe\">\n",
       "  <thead>\n",
       "    <tr>\n",
       "      <th></th>\n",
       "      <th colspan=\"8\" halign=\"left\">salary</th>\n",
       "      <th colspan=\"8\" halign=\"left\">satisfaction</th>\n",
       "    </tr>\n",
       "    <tr>\n",
       "      <th></th>\n",
       "      <th>count</th>\n",
       "      <th>mean</th>\n",
       "      <th>std</th>\n",
       "      <th>min</th>\n",
       "      <th>25%</th>\n",
       "      <th>50%</th>\n",
       "      <th>75%</th>\n",
       "      <th>max</th>\n",
       "      <th>count</th>\n",
       "      <th>mean</th>\n",
       "      <th>std</th>\n",
       "      <th>min</th>\n",
       "      <th>25%</th>\n",
       "      <th>50%</th>\n",
       "      <th>75%</th>\n",
       "      <th>max</th>\n",
       "    </tr>\n",
       "    <tr>\n",
       "      <th>job</th>\n",
       "      <th></th>\n",
       "      <th></th>\n",
       "      <th></th>\n",
       "      <th></th>\n",
       "      <th></th>\n",
       "      <th></th>\n",
       "      <th></th>\n",
       "      <th></th>\n",
       "      <th></th>\n",
       "      <th></th>\n",
       "      <th></th>\n",
       "      <th></th>\n",
       "      <th></th>\n",
       "      <th></th>\n",
       "      <th></th>\n",
       "      <th></th>\n",
       "    </tr>\n",
       "  </thead>\n",
       "  <tbody>\n",
       "    <tr>\n",
       "      <th>1</th>\n",
       "      <td>73.0</td>\n",
       "      <td>50.452055</td>\n",
       "      <td>5.164088</td>\n",
       "      <td>40.0</td>\n",
       "      <td>47.00</td>\n",
       "      <td>51.0</td>\n",
       "      <td>54.00</td>\n",
       "      <td>62.0</td>\n",
       "      <td>73.0</td>\n",
       "      <td>2.027397</td>\n",
       "      <td>0.744845</td>\n",
       "      <td>1.0</td>\n",
       "      <td>2.0</td>\n",
       "      <td>2.0</td>\n",
       "      <td>3.00</td>\n",
       "      <td>4.0</td>\n",
       "    </tr>\n",
       "    <tr>\n",
       "      <th>2</th>\n",
       "      <td>52.0</td>\n",
       "      <td>52.076923</td>\n",
       "      <td>6.537512</td>\n",
       "      <td>37.0</td>\n",
       "      <td>46.00</td>\n",
       "      <td>53.0</td>\n",
       "      <td>58.00</td>\n",
       "      <td>65.0</td>\n",
       "      <td>52.0</td>\n",
       "      <td>1.711538</td>\n",
       "      <td>0.749811</td>\n",
       "      <td>1.0</td>\n",
       "      <td>1.0</td>\n",
       "      <td>2.0</td>\n",
       "      <td>2.00</td>\n",
       "      <td>3.0</td>\n",
       "    </tr>\n",
       "    <tr>\n",
       "      <th>3</th>\n",
       "      <td>36.0</td>\n",
       "      <td>43.666667</td>\n",
       "      <td>4.472136</td>\n",
       "      <td>34.0</td>\n",
       "      <td>41.00</td>\n",
       "      <td>44.0</td>\n",
       "      <td>46.25</td>\n",
       "      <td>54.0</td>\n",
       "      <td>36.0</td>\n",
       "      <td>1.833333</td>\n",
       "      <td>0.878310</td>\n",
       "      <td>1.0</td>\n",
       "      <td>1.0</td>\n",
       "      <td>2.0</td>\n",
       "      <td>2.25</td>\n",
       "      <td>4.0</td>\n",
       "    </tr>\n",
       "    <tr>\n",
       "      <th>4</th>\n",
       "      <td>64.0</td>\n",
       "      <td>44.687500</td>\n",
       "      <td>4.552603</td>\n",
       "      <td>33.0</td>\n",
       "      <td>42.00</td>\n",
       "      <td>45.0</td>\n",
       "      <td>48.00</td>\n",
       "      <td>54.0</td>\n",
       "      <td>64.0</td>\n",
       "      <td>2.171875</td>\n",
       "      <td>0.968630</td>\n",
       "      <td>1.0</td>\n",
       "      <td>1.0</td>\n",
       "      <td>2.0</td>\n",
       "      <td>3.00</td>\n",
       "      <td>4.0</td>\n",
       "    </tr>\n",
       "    <tr>\n",
       "      <th>5</th>\n",
       "      <td>28.0</td>\n",
       "      <td>39.285714</td>\n",
       "      <td>6.329573</td>\n",
       "      <td>26.0</td>\n",
       "      <td>35.75</td>\n",
       "      <td>37.5</td>\n",
       "      <td>45.00</td>\n",
       "      <td>51.0</td>\n",
       "      <td>28.0</td>\n",
       "      <td>2.250000</td>\n",
       "      <td>0.799305</td>\n",
       "      <td>1.0</td>\n",
       "      <td>2.0</td>\n",
       "      <td>2.0</td>\n",
       "      <td>3.00</td>\n",
       "      <td>4.0</td>\n",
       "    </tr>\n",
       "  </tbody>\n",
       "</table>\n",
       "</div>"
      ],
      "text/plain": [
       "    salary                                                      satisfaction  \\\n",
       "     count       mean       std   min    25%   50%    75%   max        count   \n",
       "job                                                                            \n",
       "1     73.0  50.452055  5.164088  40.0  47.00  51.0  54.00  62.0         73.0   \n",
       "2     52.0  52.076923  6.537512  37.0  46.00  53.0  58.00  65.0         52.0   \n",
       "3     36.0  43.666667  4.472136  34.0  41.00  44.0  46.25  54.0         36.0   \n",
       "4     64.0  44.687500  4.552603  33.0  42.00  45.0  48.00  54.0         64.0   \n",
       "5     28.0  39.285714  6.329573  26.0  35.75  37.5  45.00  51.0         28.0   \n",
       "\n",
       "                                                   \n",
       "         mean       std  min  25%  50%   75%  max  \n",
       "job                                                \n",
       "1    2.027397  0.744845  1.0  2.0  2.0  3.00  4.0  \n",
       "2    1.711538  0.749811  1.0  1.0  2.0  2.00  3.0  \n",
       "3    1.833333  0.878310  1.0  1.0  2.0  2.25  4.0  \n",
       "4    2.171875  0.968630  1.0  1.0  2.0  3.00  4.0  \n",
       "5    2.250000  0.799305  1.0  2.0  2.0  3.00  4.0  "
      ]
     },
     "execution_count": 155,
     "metadata": {},
     "output_type": "execute_result"
    }
   ],
   "source": [
    "# 집단별 기술통계\n",
    "\n",
    "import pandas as pd\n",
    "data1=pd.read_excel('survey.xls')\n",
    "\n",
    "stats=data1.groupby('job').describe()\n",
    "print(\"직업별 기술통계량;\")\n",
    "stats.iloc[:, 16:32]"
   ]
  },
  {
   "cell_type": "code",
   "execution_count": 160,
   "metadata": {
    "hidden": true
   },
   "outputs": [
    {
     "name": "stdout",
     "output_type": "stream",
     "text": [
      "직업별 기술통계량;\n"
     ]
    },
    {
     "data": {
      "text/html": [
       "<div>\n",
       "<style scoped>\n",
       "    .dataframe tbody tr th:only-of-type {\n",
       "        vertical-align: middle;\n",
       "    }\n",
       "\n",
       "    .dataframe tbody tr th {\n",
       "        vertical-align: top;\n",
       "    }\n",
       "\n",
       "    .dataframe thead tr th {\n",
       "        text-align: left;\n",
       "    }\n",
       "\n",
       "    .dataframe thead tr:last-of-type th {\n",
       "        text-align: right;\n",
       "    }\n",
       "</style>\n",
       "<table border=\"1\" class=\"dataframe\">\n",
       "  <thead>\n",
       "    <tr>\n",
       "      <th></th>\n",
       "      <th colspan=\"8\" halign=\"left\">salary</th>\n",
       "    </tr>\n",
       "    <tr>\n",
       "      <th></th>\n",
       "      <th>count</th>\n",
       "      <th>mean</th>\n",
       "      <th>std</th>\n",
       "      <th>min</th>\n",
       "      <th>25%</th>\n",
       "      <th>50%</th>\n",
       "      <th>75%</th>\n",
       "      <th>max</th>\n",
       "    </tr>\n",
       "    <tr>\n",
       "      <th>job</th>\n",
       "      <th></th>\n",
       "      <th></th>\n",
       "      <th></th>\n",
       "      <th></th>\n",
       "      <th></th>\n",
       "      <th></th>\n",
       "      <th></th>\n",
       "      <th></th>\n",
       "    </tr>\n",
       "  </thead>\n",
       "  <tbody>\n",
       "    <tr>\n",
       "      <th>1</th>\n",
       "      <td>73.0</td>\n",
       "      <td>50.452055</td>\n",
       "      <td>5.164088</td>\n",
       "      <td>40.0</td>\n",
       "      <td>47.00</td>\n",
       "      <td>51.0</td>\n",
       "      <td>54.00</td>\n",
       "      <td>62.0</td>\n",
       "    </tr>\n",
       "    <tr>\n",
       "      <th>2</th>\n",
       "      <td>52.0</td>\n",
       "      <td>52.076923</td>\n",
       "      <td>6.537512</td>\n",
       "      <td>37.0</td>\n",
       "      <td>46.00</td>\n",
       "      <td>53.0</td>\n",
       "      <td>58.00</td>\n",
       "      <td>65.0</td>\n",
       "    </tr>\n",
       "    <tr>\n",
       "      <th>3</th>\n",
       "      <td>36.0</td>\n",
       "      <td>43.666667</td>\n",
       "      <td>4.472136</td>\n",
       "      <td>34.0</td>\n",
       "      <td>41.00</td>\n",
       "      <td>44.0</td>\n",
       "      <td>46.25</td>\n",
       "      <td>54.0</td>\n",
       "    </tr>\n",
       "    <tr>\n",
       "      <th>4</th>\n",
       "      <td>64.0</td>\n",
       "      <td>44.687500</td>\n",
       "      <td>4.552603</td>\n",
       "      <td>33.0</td>\n",
       "      <td>42.00</td>\n",
       "      <td>45.0</td>\n",
       "      <td>48.00</td>\n",
       "      <td>54.0</td>\n",
       "    </tr>\n",
       "    <tr>\n",
       "      <th>5</th>\n",
       "      <td>28.0</td>\n",
       "      <td>39.285714</td>\n",
       "      <td>6.329573</td>\n",
       "      <td>26.0</td>\n",
       "      <td>35.75</td>\n",
       "      <td>37.5</td>\n",
       "      <td>45.00</td>\n",
       "      <td>51.0</td>\n",
       "    </tr>\n",
       "  </tbody>\n",
       "</table>\n",
       "</div>"
      ],
      "text/plain": [
       "    salary                                                     \n",
       "     count       mean       std   min    25%   50%    75%   max\n",
       "job                                                            \n",
       "1     73.0  50.452055  5.164088  40.0  47.00  51.0  54.00  62.0\n",
       "2     52.0  52.076923  6.537512  37.0  46.00  53.0  58.00  65.0\n",
       "3     36.0  43.666667  4.472136  34.0  41.00  44.0  46.25  54.0\n",
       "4     64.0  44.687500  4.552603  33.0  42.00  45.0  48.00  54.0\n",
       "5     28.0  39.285714  6.329573  26.0  35.75  37.5  45.00  51.0"
      ]
     },
     "execution_count": 160,
     "metadata": {},
     "output_type": "execute_result"
    }
   ],
   "source": [
    "# 집단별 기술통계\n",
    "\n",
    "import pandas as pd\n",
    "data1=pd.read_excel('survey.xls')\n",
    "\n",
    "stats=data1.iloc[:,[1,4]].groupby('job').describe() # job data와 salary data만을 분석\n",
    "print(\"직업별 연봉 기술통계량;\")\n",
    "stats"
   ]
  },
  {
   "cell_type": "code",
   "execution_count": 156,
   "metadata": {
    "hidden": true
   },
   "outputs": [
    {
     "name": "stdout",
     "output_type": "stream",
     "text": [
      "성별 기술통계량;\n"
     ]
    },
    {
     "data": {
      "text/html": [
       "<div>\n",
       "<style scoped>\n",
       "    .dataframe tbody tr th:only-of-type {\n",
       "        vertical-align: middle;\n",
       "    }\n",
       "\n",
       "    .dataframe tbody tr th {\n",
       "        vertical-align: top;\n",
       "    }\n",
       "\n",
       "    .dataframe thead tr th {\n",
       "        text-align: left;\n",
       "    }\n",
       "\n",
       "    .dataframe thead tr:last-of-type th {\n",
       "        text-align: right;\n",
       "    }\n",
       "</style>\n",
       "<table border=\"1\" class=\"dataframe\">\n",
       "  <thead>\n",
       "    <tr>\n",
       "      <th></th>\n",
       "      <th colspan=\"8\" halign=\"left\">salary</th>\n",
       "      <th colspan=\"8\" halign=\"left\">satisfaction</th>\n",
       "    </tr>\n",
       "    <tr>\n",
       "      <th></th>\n",
       "      <th>count</th>\n",
       "      <th>mean</th>\n",
       "      <th>std</th>\n",
       "      <th>min</th>\n",
       "      <th>25%</th>\n",
       "      <th>50%</th>\n",
       "      <th>75%</th>\n",
       "      <th>max</th>\n",
       "      <th>count</th>\n",
       "      <th>mean</th>\n",
       "      <th>std</th>\n",
       "      <th>min</th>\n",
       "      <th>25%</th>\n",
       "      <th>50%</th>\n",
       "      <th>75%</th>\n",
       "      <th>max</th>\n",
       "    </tr>\n",
       "    <tr>\n",
       "      <th>gender</th>\n",
       "      <th></th>\n",
       "      <th></th>\n",
       "      <th></th>\n",
       "      <th></th>\n",
       "      <th></th>\n",
       "      <th></th>\n",
       "      <th></th>\n",
       "      <th></th>\n",
       "      <th></th>\n",
       "      <th></th>\n",
       "      <th></th>\n",
       "      <th></th>\n",
       "      <th></th>\n",
       "      <th></th>\n",
       "      <th></th>\n",
       "      <th></th>\n",
       "    </tr>\n",
       "  </thead>\n",
       "  <tbody>\n",
       "    <tr>\n",
       "      <th>1</th>\n",
       "      <td>131.0</td>\n",
       "      <td>47.343511</td>\n",
       "      <td>6.327925</td>\n",
       "      <td>34.0</td>\n",
       "      <td>44.0</td>\n",
       "      <td>47.0</td>\n",
       "      <td>52.0</td>\n",
       "      <td>64.0</td>\n",
       "      <td>131.0</td>\n",
       "      <td>2.022901</td>\n",
       "      <td>0.863496</td>\n",
       "      <td>1.0</td>\n",
       "      <td>1.0</td>\n",
       "      <td>2.0</td>\n",
       "      <td>3.0</td>\n",
       "      <td>4.0</td>\n",
       "    </tr>\n",
       "    <tr>\n",
       "      <th>2</th>\n",
       "      <td>122.0</td>\n",
       "      <td>46.893443</td>\n",
       "      <td>7.376316</td>\n",
       "      <td>26.0</td>\n",
       "      <td>43.0</td>\n",
       "      <td>46.0</td>\n",
       "      <td>51.0</td>\n",
       "      <td>65.0</td>\n",
       "      <td>122.0</td>\n",
       "      <td>1.967213</td>\n",
       "      <td>0.832545</td>\n",
       "      <td>1.0</td>\n",
       "      <td>1.0</td>\n",
       "      <td>2.0</td>\n",
       "      <td>3.0</td>\n",
       "      <td>4.0</td>\n",
       "    </tr>\n",
       "  </tbody>\n",
       "</table>\n",
       "</div>"
      ],
      "text/plain": [
       "       salary                                                    satisfaction  \\\n",
       "        count       mean       std   min   25%   50%   75%   max        count   \n",
       "gender                                                                          \n",
       "1       131.0  47.343511  6.327925  34.0  44.0  47.0  52.0  64.0        131.0   \n",
       "2       122.0  46.893443  7.376316  26.0  43.0  46.0  51.0  65.0        122.0   \n",
       "\n",
       "                                                     \n",
       "            mean       std  min  25%  50%  75%  max  \n",
       "gender                                               \n",
       "1       2.022901  0.863496  1.0  1.0  2.0  3.0  4.0  \n",
       "2       1.967213  0.832545  1.0  1.0  2.0  3.0  4.0  "
      ]
     },
     "execution_count": 156,
     "metadata": {},
     "output_type": "execute_result"
    }
   ],
   "source": [
    "# 직업별 기술통계\n",
    "\n",
    "import pandas as pd\n",
    "data1=pd.read_excel('survey.xls')\n",
    "\n",
    "stats=data1.groupby('gender').describe()\n",
    "print(\"성별 기술통계량;\")\n",
    "stats.iloc[:, 16:32]"
   ]
  },
  {
   "cell_type": "code",
   "execution_count": 161,
   "metadata": {
    "hidden": true
   },
   "outputs": [
    {
     "name": "stdout",
     "output_type": "stream",
     "text": [
      "성별 연봉 기술통계량;\n"
     ]
    },
    {
     "data": {
      "text/html": [
       "<div>\n",
       "<style scoped>\n",
       "    .dataframe tbody tr th:only-of-type {\n",
       "        vertical-align: middle;\n",
       "    }\n",
       "\n",
       "    .dataframe tbody tr th {\n",
       "        vertical-align: top;\n",
       "    }\n",
       "\n",
       "    .dataframe thead tr th {\n",
       "        text-align: left;\n",
       "    }\n",
       "\n",
       "    .dataframe thead tr:last-of-type th {\n",
       "        text-align: right;\n",
       "    }\n",
       "</style>\n",
       "<table border=\"1\" class=\"dataframe\">\n",
       "  <thead>\n",
       "    <tr>\n",
       "      <th></th>\n",
       "      <th colspan=\"8\" halign=\"left\">salary</th>\n",
       "    </tr>\n",
       "    <tr>\n",
       "      <th></th>\n",
       "      <th>count</th>\n",
       "      <th>mean</th>\n",
       "      <th>std</th>\n",
       "      <th>min</th>\n",
       "      <th>25%</th>\n",
       "      <th>50%</th>\n",
       "      <th>75%</th>\n",
       "      <th>max</th>\n",
       "    </tr>\n",
       "    <tr>\n",
       "      <th>gender</th>\n",
       "      <th></th>\n",
       "      <th></th>\n",
       "      <th></th>\n",
       "      <th></th>\n",
       "      <th></th>\n",
       "      <th></th>\n",
       "      <th></th>\n",
       "      <th></th>\n",
       "    </tr>\n",
       "  </thead>\n",
       "  <tbody>\n",
       "    <tr>\n",
       "      <th>1</th>\n",
       "      <td>131.0</td>\n",
       "      <td>47.343511</td>\n",
       "      <td>6.327925</td>\n",
       "      <td>34.0</td>\n",
       "      <td>44.0</td>\n",
       "      <td>47.0</td>\n",
       "      <td>52.0</td>\n",
       "      <td>64.0</td>\n",
       "    </tr>\n",
       "    <tr>\n",
       "      <th>2</th>\n",
       "      <td>122.0</td>\n",
       "      <td>46.893443</td>\n",
       "      <td>7.376316</td>\n",
       "      <td>26.0</td>\n",
       "      <td>43.0</td>\n",
       "      <td>46.0</td>\n",
       "      <td>51.0</td>\n",
       "      <td>65.0</td>\n",
       "    </tr>\n",
       "  </tbody>\n",
       "</table>\n",
       "</div>"
      ],
      "text/plain": [
       "       salary                                                   \n",
       "        count       mean       std   min   25%   50%   75%   max\n",
       "gender                                                          \n",
       "1       131.0  47.343511  6.327925  34.0  44.0  47.0  52.0  64.0\n",
       "2       122.0  46.893443  7.376316  26.0  43.0  46.0  51.0  65.0"
      ]
     },
     "execution_count": 161,
     "metadata": {},
     "output_type": "execute_result"
    }
   ],
   "source": [
    "import pandas as pd\n",
    "data1=pd.read_excel('survey.xls')\n",
    "\n",
    "stats=data1.iloc[:,[2,4]].groupby('gender').describe() # gender data와 salary data만을 분석\n",
    "print(\"성별 연봉 기술통계량;\")\n",
    "stats"
   ]
  },
  {
   "cell_type": "markdown",
   "metadata": {},
   "source": [
    "# probability distribution and random number generation"
   ]
  },
  {
   "cell_type": "markdown",
   "metadata": {},
   "source": [
    "## 정규분포"
   ]
  },
  {
   "cell_type": "code",
   "execution_count": 36,
   "metadata": {},
   "outputs": [
    {
     "name": "stdout",
     "output_type": "stream",
     "text": [
      "0.3821\n"
     ]
    }
   ],
   "source": [
    "# 정규분포 누적확률계산 norm.cdf(x,mu,sigma)\n",
    "\n",
    "from scipy.stats import norm\n",
    "prob = norm.cdf(2, 5, 10)\n",
    "print(format(prob,\".4f\"))"
   ]
  },
  {
   "cell_type": "code",
   "execution_count": 35,
   "metadata": {},
   "outputs": [
    {
     "name": "stdout",
     "output_type": "stream",
     "text": [
      "0.0250\n"
     ]
    }
   ],
   "source": [
    "# 정규분포 누적확률계산 norm.cdf(x,mu,sigma)\n",
    "\n",
    "from scipy.stats import norm\n",
    "prob = norm.cdf(-1.96, 0, 1)\n",
    "print(format(prob,\".4f\"))"
   ]
  },
  {
   "cell_type": "code",
   "execution_count": 33,
   "metadata": {},
   "outputs": [
    {
     "name": "stdout",
     "output_type": "stream",
     "text": [
      "0.0062\n"
     ]
    }
   ],
   "source": [
    "#정규분포 구간확률계산 norm.cdf(x,mu,sigma)\n",
    "\n",
    "from scipy.stats import norm\n",
    "prob1 = norm.cdf(20, 12, 3.2)\n",
    "prob=1-prob1\n",
    "print(format(prob,\".4f\"))"
   ]
  },
  {
   "cell_type": "code",
   "execution_count": null,
   "metadata": {},
   "outputs": [],
   "source": [
    "#정규분포 구간확률계산 norm.cdf(x,mu,sigma)\n",
    "\n",
    "from scipy.stats import norm\n",
    "prob1 = norm.cdf(1.96, 0, 1)\n",
    "prob2 = norm.cdf(-1.52, 0, 1)\n",
    "prob=prob1-prob2\n",
    "print(format(prob,\".4f\"))"
   ]
  },
  {
   "cell_type": "code",
   "execution_count": 37,
   "metadata": {},
   "outputs": [
    {
     "name": "stdout",
     "output_type": "stream",
     "text": [
      "9.6994\n"
     ]
    }
   ],
   "source": [
    "# 정규분포누적확률에 대응하는 X값 찾기 ppf(p, mu, sigma)\n",
    "from scipy.stats import norm\n",
    "x=norm.ppf(0.6808, 5, 10)\n",
    "print(format(x, \".4f\"))"
   ]
  },
  {
   "cell_type": "code",
   "execution_count": 8,
   "metadata": {},
   "outputs": [
    {
     "name": "stdout",
     "output_type": "stream",
     "text": [
      "0.8416\n"
     ]
    }
   ],
   "source": [
    "# 누적확률에 대응하는 Z값 찾기 ppf(p, 0, 1)\n",
    "from scipy.stats import norm\n",
    "z=norm.ppf(0.8, 0, 1)\n",
    "print(format(z, \".4f\"))"
   ]
  },
  {
   "cell_type": "code",
   "execution_count": 2,
   "metadata": {},
   "outputs": [
    {
     "name": "stdout",
     "output_type": "stream",
     "text": [
      "0    18.315865\n",
      "1    12.152790\n",
      "2   -10.454003\n",
      "3     4.916162\n",
      "4    11.213360\n",
      "5    -2.200856\n",
      "6     7.655116\n",
      "7     6.085485\n",
      "8     5.042914\n",
      "9     3.253998\n",
      "dtype: float64\n"
     ]
    }
   ],
   "source": [
    "# 정규난수 추출하기\n",
    "import numpy as np\n",
    "import pandas as pd\n",
    "np.random.seed(10)\n",
    "mu, sigma= 5,10\n",
    "a=pd.Series(np.random.normal(mu, sigma, 10))\n",
    "print(a)"
   ]
  },
  {
   "cell_type": "code",
   "execution_count": 3,
   "metadata": {},
   "outputs": [
    {
     "name": "stdout",
     "output_type": "stream",
     "text": [
      "[[ 18.31586504  12.15278974 -10.45400292]\n",
      " [  4.9161615   11.21335974  -2.20085561]\n",
      " [  7.65511586   6.08548526   5.04291431]\n",
      " [  3.25399789   9.3302619   17.03037374]]\n"
     ]
    }
   ],
   "source": [
    "# 정규난수 추출하기\n",
    "import numpy as np\n",
    "np.random.seed(10)\n",
    "mu, sigma= 5,10\n",
    "a=np.random.normal(mu, sigma, (4,3))\n",
    "print(a)"
   ]
  },
  {
   "cell_type": "code",
   "execution_count": 5,
   "metadata": {},
   "outputs": [
    {
     "name": "stdout",
     "output_type": "stream",
     "text": [
      "[ 18.31586504  12.15278974 -10.45400292]\n"
     ]
    }
   ],
   "source": [
    "import numpy as np\n",
    "np.random.seed(10)\n",
    "mu, sigma= 5,10\n",
    "a=np.random.normal(mu, sigma, 3)\n",
    "print(a)"
   ]
  },
  {
   "cell_type": "code",
   "execution_count": 2,
   "metadata": {},
   "outputs": [
    {
     "data": {
      "text/plain": [
       "array([[ 1.3315865 ,  0.71527897, -1.54540029],\n",
       "       [-0.00838385,  0.62133597, -0.72008556],\n",
       "       [ 0.26551159,  0.10854853,  0.00429143],\n",
       "       [-0.17460021,  0.43302619,  1.20303737],\n",
       "       [-0.96506567,  1.02827408,  0.22863013]])"
      ]
     },
     "execution_count": 2,
     "metadata": {},
     "output_type": "execute_result"
    }
   ],
   "source": [
    "# 표준정규난수 추출하기\n",
    "import numpy as np\n",
    "np.random.seed(10)\n",
    "M=5\n",
    "a=np.random.normal(0,1, (M,3))\n",
    "a"
   ]
  },
  {
   "cell_type": "markdown",
   "metadata": {},
   "source": [
    "## 이항분포"
   ]
  },
  {
   "cell_type": "code",
   "execution_count": 15,
   "metadata": {},
   "outputs": [
    {
     "data": {
      "text/plain": [
       "0.18227594104650963"
      ]
     },
     "execution_count": 15,
     "metadata": {},
     "output_type": "execute_result"
    }
   ],
   "source": [
    "# 확률계산 binom.pmf(x,n,p)\n",
    "\n",
    "from scipy.stats import binom\n",
    "prob = binom.pmf(3, 100, 0.02)\n",
    "prob"
   ]
  },
  {
   "cell_type": "code",
   "execution_count": 16,
   "metadata": {},
   "outputs": [
    {
     "data": {
      "text/plain": [
       "2.9407332347710807e-13"
      ]
     },
     "execution_count": 16,
     "metadata": {},
     "output_type": "execute_result"
    }
   ],
   "source": [
    "# 확률계산 binom.pmf(x,n,p)\n",
    "\n",
    "from scipy.stats import binom\n",
    "prob = binom.pmf(2, 100, 0.3)\n",
    "prob"
   ]
  },
  {
   "cell_type": "code",
   "execution_count": 167,
   "metadata": {},
   "outputs": [
    {
     "data": {
      "text/plain": [
       "0.9672065024000001"
      ]
     },
     "execution_count": 167,
     "metadata": {},
     "output_type": "execute_result"
    }
   ],
   "source": [
    "# 누적확률계산 binom.cdf(x,n,p)\n",
    "\n",
    "from scipy.stats import binom\n",
    "prob = binom.cdf(4, 10, 0.2)\n",
    "prob"
   ]
  },
  {
   "cell_type": "code",
   "execution_count": 32,
   "metadata": {},
   "outputs": [
    {
     "data": {
      "text/plain": [
       "<matplotlib.axes._subplots.AxesSubplot at 0xd5f9be5320>"
      ]
     },
     "execution_count": 32,
     "metadata": {},
     "output_type": "execute_result"
    }
   ],
   "source": [
    "# 이항분포 난수 생성\n",
    "import numpy as np\n",
    "import pandas as pd\n",
    "%matplotlib tk\n",
    "np.random.seed(10)\n",
    "M=100000\n",
    "defect=pd.DataFrame(np.random.binomial(1000, 0.03, M),columns=['불량품수량'])\n",
    "defect.plot.hist(10)"
   ]
  },
  {
   "cell_type": "markdown",
   "metadata": {},
   "source": [
    "## t 분포"
   ]
  },
  {
   "cell_type": "code",
   "execution_count": 48,
   "metadata": {},
   "outputs": [
    {
     "name": "stdout",
     "output_type": "stream",
     "text": [
      "0.0970\n"
     ]
    }
   ],
   "source": [
    "# 확률계산 t.cdf(t값,자유도)\n",
    "\n",
    "from scipy.stats import t\n",
    "prob1=t.cdf(-1.5,5)\n",
    "print(format(prob1,\".4f\"))"
   ]
  },
  {
   "cell_type": "code",
   "execution_count": 20,
   "metadata": {},
   "outputs": [
    {
     "name": "stdout",
     "output_type": "stream",
     "text": [
      "0.0402\n"
     ]
    }
   ],
   "source": [
    "# 확률계산 t.cdf(t값,자유도)\n",
    "\n",
    "from scipy.stats import t\n",
    "prob2=(t.cdf(-2.08,100-4))*2\n",
    "print(format(prob2,\".4f\"))"
   ]
  },
  {
   "cell_type": "code",
   "execution_count": 176,
   "metadata": {},
   "outputs": [
    {
     "data": {
      "text/plain": [
       "-1.6972608943617384"
      ]
     },
     "execution_count": 176,
     "metadata": {},
     "output_type": "execute_result"
    }
   ],
   "source": [
    "# 누적확률에 대응하는 t값 찾기 ppf(p, 자유도)\n",
    "\n",
    "tvalue=t.ppf(0.05, 30)\n",
    "tvalue"
   ]
  },
  {
   "cell_type": "markdown",
   "metadata": {},
   "source": [
    "## 균일분포"
   ]
  },
  {
   "cell_type": "code",
   "execution_count": 172,
   "metadata": {},
   "outputs": [
    {
     "data": {
      "text/plain": [
       "0.3333333333333333"
      ]
     },
     "execution_count": 172,
     "metadata": {},
     "output_type": "execute_result"
    }
   ],
   "source": [
    "# 확률계산 randint.cdf(x, low, high)\n",
    "\n",
    "from scipy.stats import randint\n",
    "prob = randint.cdf(3, 4, 10)\n",
    "prob"
   ]
  },
  {
   "cell_type": "code",
   "execution_count": 35,
   "metadata": {},
   "outputs": [
    {
     "data": {
      "text/plain": [
       "array([[1089, 1095, 1144, 1108],\n",
       "       [1109, 1088, 1153, 1080],\n",
       "       [1120, 1116, 1096, 1091],\n",
       "       [1134, 1142, 1113, 1152],\n",
       "       [1158, 1129, 1131, 1134]])"
      ]
     },
     "execution_count": 35,
     "metadata": {},
     "output_type": "execute_result"
    }
   ],
   "source": [
    "# 균일분포 난수 생성\n",
    "import numpy as np\n",
    "import pandas as pd\n",
    "%matplotlib tk\n",
    "np.random.seed(10)\n",
    "M=5\n",
    "exrate=np.random.randint(1080, 1160, (M,4))\n",
    "exrate"
   ]
  },
  {
   "cell_type": "code",
   "execution_count": null,
   "metadata": {},
   "outputs": [],
   "source": []
  },
  {
   "cell_type": "markdown",
   "metadata": {},
   "source": [
    "## 포아송분포"
   ]
  },
  {
   "cell_type": "code",
   "execution_count": 28,
   "metadata": {},
   "outputs": [
    {
     "data": {
      "text/plain": [
       "0.03475996392232706"
      ]
     },
     "execution_count": 28,
     "metadata": {},
     "output_type": "execute_result"
    }
   ],
   "source": [
    "# 확률계산 poisson.pmf(x,mu)\n",
    "\n",
    "from scipy.stats import poisson\n",
    "prob=poisson.pmf(65,72)\n",
    "prob"
   ]
  },
  {
   "cell_type": "code",
   "execution_count": 29,
   "metadata": {},
   "outputs": [
    {
     "data": {
      "text/plain": [
       "0.22313016014842982"
      ]
     },
     "execution_count": 29,
     "metadata": {},
     "output_type": "execute_result"
    }
   ],
   "source": [
    "# 확률계산 poisson.pmf(x,mu)\n",
    "\n",
    "from scipy.stats import poisson\n",
    "prob=poisson.pmf(0,1.5)\n",
    "prob"
   ]
  },
  {
   "cell_type": "code",
   "execution_count": 27,
   "metadata": {},
   "outputs": [
    {
     "data": {
      "text/plain": [
       "0.22421687788244196"
      ]
     },
     "execution_count": 27,
     "metadata": {},
     "output_type": "execute_result"
    }
   ],
   "source": [
    "from scipy.stats import poisson\n",
    "prob=poisson.cdf(65,72)\n",
    "prob"
   ]
  },
  {
   "cell_type": "markdown",
   "metadata": {},
   "source": [
    "## F 분포"
   ]
  },
  {
   "cell_type": "code",
   "execution_count": null,
   "metadata": {},
   "outputs": [],
   "source": []
  },
  {
   "cell_type": "markdown",
   "metadata": {
    "heading_collapsed": true
   },
   "source": [
    "# t 검정"
   ]
  },
  {
   "cell_type": "code",
   "execution_count": 16,
   "metadata": {
    "hidden": true
   },
   "outputs": [
    {
     "name": "stdout",
     "output_type": "stream",
     "text": [
      "Time    3.611606\n",
      "dtype: float64\n"
     ]
    },
    {
     "data": {
      "text/plain": [
       "Ttest_1sampResult(statistic=array([7.00443355]), pvalue=array([6.40165517e-12]))"
      ]
     },
     "execution_count": 16,
     "metadata": {},
     "output_type": "execute_result"
    }
   ],
   "source": [
    "import pandas as pd\n",
    "from scipy import stats\n",
    "\n",
    "data=pd.read_excel('time.xls')\n",
    "timemean=data.mean();print(timemean)\n",
    "stats.ttest_1samp(data, 3.5)"
   ]
  },
  {
   "cell_type": "code",
   "execution_count": null,
   "metadata": {
    "hidden": true
   },
   "outputs": [],
   "source": []
  },
  {
   "cell_type": "markdown",
   "metadata": {
    "heading_collapsed": true
   },
   "source": [
    "# 두모집단 비교"
   ]
  },
  {
   "cell_type": "markdown",
   "metadata": {
    "hidden": true
   },
   "source": [
    "## 2 sample"
   ]
  },
  {
   "cell_type": "code",
   "execution_count": 3,
   "metadata": {
    "hidden": true
   },
   "outputs": [
    {
     "data": {
      "text/html": [
       "<div>\n",
       "<style scoped>\n",
       "    .dataframe tbody tr th:only-of-type {\n",
       "        vertical-align: middle;\n",
       "    }\n",
       "\n",
       "    .dataframe tbody tr th {\n",
       "        vertical-align: top;\n",
       "    }\n",
       "\n",
       "    .dataframe thead th {\n",
       "        text-align: right;\n",
       "    }\n",
       "</style>\n",
       "<table border=\"1\" class=\"dataframe\">\n",
       "  <thead>\n",
       "    <tr style=\"text-align: right;\">\n",
       "      <th></th>\n",
       "      <th>Small space</th>\n",
       "      <th>Large space</th>\n",
       "    </tr>\n",
       "  </thead>\n",
       "  <tbody>\n",
       "    <tr>\n",
       "      <th>0</th>\n",
       "      <td>1043</td>\n",
       "      <td>2229</td>\n",
       "    </tr>\n",
       "    <tr>\n",
       "      <th>1</th>\n",
       "      <td>1234</td>\n",
       "      <td>2095</td>\n",
       "    </tr>\n",
       "    <tr>\n",
       "      <th>2</th>\n",
       "      <td>1395</td>\n",
       "      <td>2399</td>\n",
       "    </tr>\n",
       "    <tr>\n",
       "      <th>3</th>\n",
       "      <td>1282</td>\n",
       "      <td>1938</td>\n",
       "    </tr>\n",
       "    <tr>\n",
       "      <th>4</th>\n",
       "      <td>1364</td>\n",
       "      <td>2064</td>\n",
       "    </tr>\n",
       "  </tbody>\n",
       "</table>\n",
       "</div>"
      ],
      "text/plain": [
       "   Small space  Large space\n",
       "0         1043         2229\n",
       "1         1234         2095\n",
       "2         1395         2399\n",
       "3         1282         1938\n",
       "4         1364         2064"
      ]
     },
     "execution_count": 3,
     "metadata": {},
     "output_type": "execute_result"
    }
   ],
   "source": [
    "import pandas as pd\n",
    "\n",
    "space=pd.read_excel('space.xls')\n",
    "space.head()"
   ]
  },
  {
   "cell_type": "code",
   "execution_count": 13,
   "metadata": {
    "hidden": true
   },
   "outputs": [
    {
     "data": {
      "text/plain": [
       "Ttest_indResult(statistic=-11.208118261492604, pvalue=5.313094312340915e-15)"
      ]
     },
     "execution_count": 13,
     "metadata": {},
     "output_type": "execute_result"
    }
   ],
   "source": [
    "from scipy import stats\n",
    "stats.ttest_ind(space['Small space'], space['Large space'])"
   ]
  },
  {
   "cell_type": "code",
   "execution_count": 22,
   "metadata": {
    "hidden": true
   },
   "outputs": [
    {
     "name": "stdout",
     "output_type": "stream",
     "text": [
      "   standard  new\n",
      "0        32   35\n",
      "1        37   31\n",
      "2        35   29\n",
      "3        28   25\n",
      "4        41   34\n",
      "5        44   40\n",
      "6        35   27\n",
      "7        31   32\n",
      "8        34   31\n"
     ]
    },
    {
     "data": {
      "text/plain": [
       "Ttest_indResult(statistic=1.6494846165734016, pvalue=0.11853980248116995)"
      ]
     },
     "execution_count": 22,
     "metadata": {},
     "output_type": "execute_result"
    }
   ],
   "source": [
    "import pandas as pd\n",
    "from scipy import stats\n",
    "\n",
    "method=pd.read_excel('method.xls', sheet_name='training method');print(method)\n",
    "stats.ttest_ind(method.iloc[:,0], method.iloc[:,1])"
   ]
  },
  {
   "cell_type": "code",
   "execution_count": 24,
   "metadata": {
    "hidden": true
   },
   "outputs": [
    {
     "name": "stdout",
     "output_type": "stream",
     "text": [
      "    주택규모(평방미터)  단열재 미설치  단열재설치\n",
      "0         1251      504    452\n",
      "1         1395      550    474\n",
      "2         1525      571    524\n",
      "3         1604      608    542\n",
      "4         1703      622    557\n",
      "5         1844      620    557\n",
      "6         1986      682    619\n",
      "7         2002      699    641\n",
      "8         2095      741    670\n",
      "9         2158      855    800\n",
      "10        2233      900    838\n",
      "11        2320      912    850\n",
      "12        2461     1043    990\n",
      "13        2573     1123   1103\n",
      "14        2804     1203   1155\n"
     ]
    },
    {
     "data": {
      "text/plain": [
       "Ttest_relResult(statistic=16.917232431565555, pvalue=1.026298842019256e-10)"
      ]
     },
     "execution_count": 24,
     "metadata": {},
     "output_type": "execute_result"
    }
   ],
   "source": [
    "import pandas as pd\n",
    "from scipy import stats\n",
    "\n",
    "method=pd.read_excel('method.xls');print(method)\n",
    "stats.ttest_rel(method.iloc[:,1], method.iloc[:,2])"
   ]
  },
  {
   "cell_type": "markdown",
   "metadata": {
    "heading_collapsed": true,
    "hidden": true
   },
   "source": [
    "## paired"
   ]
  },
  {
   "cell_type": "code",
   "execution_count": 29,
   "metadata": {
    "hidden": true
   },
   "outputs": [
    {
     "name": "stdout",
     "output_type": "stream",
     "text": [
      "    pair  Finance  Marketing\n",
      "0      1    31235      29662\n",
      "1      2    32477      33710\n",
      "2      3    35274      31989\n",
      "3      4    37898      30137\n",
      "4      5    45835      38788\n",
      "5      6    49296      46467\n",
      "6      7    51071      47438\n",
      "7      8    55425      39984\n",
      "8      9    56244      61965\n",
      "9     10    56625      53559\n",
      "10    11    58187      54970\n",
      "11    12    63728      46793\n",
      "12    13    64718      68675\n",
      "13    14    67716      54110\n",
      "14    15    69131      68110\n",
      "15    16    69367      51555\n",
      "16    17    71200      59462\n",
      "17    18    74566      74825\n",
      "18    19    82618      81591\n",
      "19    20    87089      77038\n",
      "20    21    88009      92705\n",
      "21    22    88664      78272\n",
      "22    23    95171      89329\n",
      "23    24    98089      99205\n",
      "24    25   106322      99003\n"
     ]
    },
    {
     "data": {
      "text/plain": [
       "Ttest_relResult(statistic=3.809688413516561, pvalue=0.0008510859875589974)"
      ]
     },
     "execution_count": 29,
     "metadata": {},
     "output_type": "execute_result"
    }
   ],
   "source": [
    "# 두 집단 자료가 column별로 나누여져 있는 경우\n",
    "import pandas as pd\n",
    "from scipy import stats\n",
    "\n",
    "salary=pd.read_excel('method.xls',sheet_name='MBA');print(salary)\n",
    "stats.ttest_rel(salary.iloc[:,1], salary.iloc[:,2])"
   ]
  },
  {
   "cell_type": "code",
   "execution_count": 85,
   "metadata": {
    "hidden": true
   },
   "outputs": [
    {
     "name": "stdout",
     "output_type": "stream",
     "text": [
      "      major  salary\n",
      "0   finance   31235\n",
      "1   finance   32477\n",
      "2   finance   35274\n",
      "3   finance   37898\n",
      "4   finance   45835\n",
      "5   finance   49296\n",
      "6   finance   51071\n",
      "7   finance   55425\n",
      "8   finance   56244\n",
      "9   finance   56625\n",
      "10  finance   58187\n",
      "11  finance   63728\n",
      "12  finance   64718\n",
      "13  finance   67716\n",
      "14  finance   69131\n",
      "15  finance   69367\n",
      "16  finance   71200\n",
      "17  finance   74566\n",
      "18  finance   82618\n",
      "19  finance   87089\n",
      "20  finance   88009\n",
      "21  finance   88664\n",
      "22  finance   95171\n",
      "23  finance   98089\n",
      "24  finance  106322\n"
     ]
    },
    {
     "data": {
      "text/plain": [
       "Ttest_relResult(statistic=3.809688413516561, pvalue=0.0008510859875589974)"
      ]
     },
     "execution_count": 85,
     "metadata": {},
     "output_type": "execute_result"
    }
   ],
   "source": [
    "#  data를 두개의 data로 나누어서 paired t-test\n",
    "\n",
    "import pandas as pd\n",
    "from scipy import stats\n",
    "\n",
    "mba=pd.read_excel('mba.xls')\n",
    "finance = mba[mba['major'] == 'finance'] ;print(finance)\n",
    "marketing = mba[mba['major'] == 'marketing']  \n",
    "stats.ttest_rel(finance.iloc[:,1], marketing.iloc[:,1])"
   ]
  },
  {
   "cell_type": "code",
   "execution_count": 253,
   "metadata": {
    "hidden": true
   },
   "outputs": [
    {
     "name": "stdout",
     "output_type": "stream",
     "text": [
      "0      31235\n",
      "1      32477\n",
      "2      35274\n",
      "3      37898\n",
      "4      45835\n",
      "5      49296\n",
      "6      51071\n",
      "7      55425\n",
      "8      56244\n",
      "9      56625\n",
      "10     58187\n",
      "11     63728\n",
      "12     64718\n",
      "13     67716\n",
      "14     69131\n",
      "15     69367\n",
      "16     71200\n",
      "17     74566\n",
      "18     82618\n",
      "19     87089\n",
      "20     88009\n",
      "21     88664\n",
      "22     95171\n",
      "23     98089\n",
      "24    106322\n",
      "Name: salary, dtype: int64\n"
     ]
    },
    {
     "data": {
      "text/plain": [
       "Ttest_relResult(statistic=3.809688413516561, pvalue=0.0008510859875589974)"
      ]
     },
     "execution_count": 253,
     "metadata": {},
     "output_type": "execute_result"
    }
   ],
   "source": [
    "#  data를 두개의 data로 나누어서 paired t-test\n",
    "import pandas as pd\n",
    "from scipy import stats\n",
    "\n",
    "mba=pd.read_excel('mba.xls')\n",
    "finance =mba[mba['major']  == 'finance']['salary'] ;print(finance)\n",
    "marketing = mba[mba['major'] == 'marketing']  ['salary']\n",
    "stats.ttest_rel(finance, marketing)"
   ]
  },
  {
   "cell_type": "code",
   "execution_count": 90,
   "metadata": {
    "hidden": true
   },
   "outputs": [
    {
     "name": "stdout",
     "output_type": "stream",
     "text": [
      "        major  salary\n",
      "0     finance   31235\n",
      "1     finance   32477\n",
      "2     finance   35274\n",
      "3     finance   37898\n",
      "4     finance   45835\n",
      "5     finance   49296\n",
      "6     finance   51071\n",
      "7     finance   55425\n",
      "8     finance   56244\n",
      "9     finance   56625\n",
      "10    finance   58187\n",
      "11    finance   63728\n",
      "12    finance   64718\n",
      "13    finance   67716\n",
      "14    finance   69131\n",
      "15    finance   69367\n",
      "16    finance   71200\n",
      "17    finance   74566\n",
      "18    finance   82618\n",
      "19    finance   87089\n",
      "20    finance   88009\n",
      "21    finance   88664\n",
      "22    finance   95171\n",
      "23    finance   98089\n",
      "24    finance  106322\n",
      "25  marketing   29662\n",
      "26  marketing   33710\n",
      "27  marketing   31989\n",
      "28  marketing   30137\n",
      "29  marketing   38788\n",
      "30  marketing   46467\n",
      "31  marketing   47438\n",
      "32  marketing   39984\n",
      "33  marketing   61965\n",
      "34  marketing   53559\n",
      "35  marketing   54970\n",
      "36  marketing   46793\n",
      "37  marketing   68675\n",
      "38  marketing   54110\n",
      "39  marketing   68110\n",
      "40  marketing   51555\n",
      "41  marketing   59462\n",
      "42  marketing   74825\n",
      "43  marketing   81591\n",
      "44  marketing   77038\n",
      "45  marketing   92705\n",
      "46  marketing   78272\n",
      "47  marketing   89329\n",
      "48  marketing   99205\n",
      "49  marketing   99003\n"
     ]
    },
    {
     "data": {
      "text/plain": [
       "Ttest_relResult(statistic=3.5953353035291076, pvalue=0.001527401324361445)"
      ]
     },
     "execution_count": 90,
     "metadata": {},
     "output_type": "execute_result"
    }
   ],
   "source": [
    "# data indexing을 이용하여 paired t-test\n",
    "import pandas as pd\n",
    "from scipy import stats\n",
    "\n",
    "mba3=pd.read_excel('mba.xls'); print(mba3)\n",
    "stats.ttest_rel(mba3.iloc[0:24,1], mba3.iloc[25:49,1])"
   ]
  },
  {
   "cell_type": "markdown",
   "metadata": {
    "heading_collapsed": true
   },
   "source": [
    "# data manipulation, sorting, data 나누기 etc"
   ]
  },
  {
   "cell_type": "markdown",
   "metadata": {
    "hidden": true
   },
   "source": [
    "## sorting"
   ]
  },
  {
   "cell_type": "code",
   "execution_count": 20,
   "metadata": {
    "hidden": true
   },
   "outputs": [
    {
     "data": {
      "text/html": [
       "<div>\n",
       "<style scoped>\n",
       "    .dataframe tbody tr th:only-of-type {\n",
       "        vertical-align: middle;\n",
       "    }\n",
       "\n",
       "    .dataframe tbody tr th {\n",
       "        vertical-align: top;\n",
       "    }\n",
       "\n",
       "    .dataframe thead th {\n",
       "        text-align: right;\n",
       "    }\n",
       "</style>\n",
       "<table border=\"1\" class=\"dataframe\">\n",
       "  <thead>\n",
       "    <tr style=\"text-align: right;\">\n",
       "      <th></th>\n",
       "      <th>번호</th>\n",
       "      <th>직업</th>\n",
       "      <th>성멸</th>\n",
       "      <th>만족도</th>\n",
       "      <th>연봉</th>\n",
       "    </tr>\n",
       "  </thead>\n",
       "  <tbody>\n",
       "    <tr>\n",
       "      <th>0</th>\n",
       "      <td>1</td>\n",
       "      <td>1</td>\n",
       "      <td>1</td>\n",
       "      <td>3</td>\n",
       "      <td>51</td>\n",
       "    </tr>\n",
       "    <tr>\n",
       "      <th>1</th>\n",
       "      <td>2</td>\n",
       "      <td>4</td>\n",
       "      <td>1</td>\n",
       "      <td>3</td>\n",
       "      <td>38</td>\n",
       "    </tr>\n",
       "    <tr>\n",
       "      <th>2</th>\n",
       "      <td>3</td>\n",
       "      <td>5</td>\n",
       "      <td>1</td>\n",
       "      <td>3</td>\n",
       "      <td>51</td>\n",
       "    </tr>\n",
       "    <tr>\n",
       "      <th>3</th>\n",
       "      <td>4</td>\n",
       "      <td>1</td>\n",
       "      <td>1</td>\n",
       "      <td>2</td>\n",
       "      <td>52</td>\n",
       "    </tr>\n",
       "    <tr>\n",
       "      <th>4</th>\n",
       "      <td>5</td>\n",
       "      <td>2</td>\n",
       "      <td>1</td>\n",
       "      <td>3</td>\n",
       "      <td>49</td>\n",
       "    </tr>\n",
       "  </tbody>\n",
       "</table>\n",
       "</div>"
      ],
      "text/plain": [
       "   번호  직업  성멸  만족도  연봉\n",
       "0   1   1   1    3  51\n",
       "1   2   4   1    3  38\n",
       "2   3   5   1    3  51\n",
       "3   4   1   1    2  52\n",
       "4   5   2   1    3  49"
      ]
     },
     "execution_count": 20,
     "metadata": {},
     "output_type": "execute_result"
    }
   ],
   "source": [
    "\n",
    "#한글 폰트 사용\n",
    "from matplotlib import font_manager,rc\n",
    "import matplotlib\n",
    "import matplotlib.pyplot as plt\n",
    "#폰트 경로\n",
    "font_path = \"C:/Windows/Fonts/HANDotumExt.TTF\"\n",
    "#폰트 이름 얻어오기\n",
    "font_name = font_manager.FontProperties(fname=font_path).get_name()\n",
    "#font 설정\n",
    "matplotlib.rc('font',family=font_name)\n",
    "\n",
    "import pandas as pd\n",
    "\n",
    "설문=pd.read_excel('survey.xls'); \n",
    "설문.head() # 첫 5행 보기 마지막 5행은 tail"
   ]
  },
  {
   "cell_type": "code",
   "execution_count": 25,
   "metadata": {
    "hidden": true
   },
   "outputs": [],
   "source": [
    "# 범주별 sorting\n",
    "\n",
    "#한글 폰트 사용\n",
    "from matplotlib import font_manager,rc\n",
    "import matplotlib\n",
    "import matplotlib.pyplot as plt\n",
    "#폰트 경로\n",
    "font_path = \"C:/Windows/Fonts/HANDotumExt.TTF\"\n",
    "#폰트 이름 얻어오기\n",
    "font_name = font_manager.FontProperties(fname=font_path).get_name()\n",
    "#font 설정\n",
    "matplotlib.rc('font',family=font_name)\n",
    "\n",
    "import pandas as pd\n",
    "\n",
    "설문=pd.read_excel('survey.xls')\n",
    "\n",
    "설문직업별=설문.sort_values(by='직업') #직업별로 sorting"
   ]
  },
  {
   "cell_type": "code",
   "execution_count": 28,
   "metadata": {
    "hidden": true
   },
   "outputs": [],
   "source": [
    "# 범주별 sorting\n",
    "\n",
    "#한글 폰트 사용\n",
    "from matplotlib import font_manager,rc\n",
    "import matplotlib\n",
    "import matplotlib.pyplot as plt\n",
    "#폰트 경로\n",
    "font_path = \"C:/Windows/Fonts/HANDotumExt.TTF\"\n",
    "#폰트 이름 얻어오기\n",
    "font_name = font_manager.FontProperties(fname=font_path).get_name()\n",
    "#font 설정\n",
    "matplotlib.rc('font',family=font_name)\n",
    "\n",
    "import pandas as pd\n",
    "\n",
    "설문=pd.read_excel('survey.xls')\n",
    "\n",
    "설문성별=설문.sort_values(by='성별') #성별로 sorting"
   ]
  },
  {
   "cell_type": "code",
   "execution_count": 31,
   "metadata": {
    "hidden": true
   },
   "outputs": [],
   "source": [
    "# 오름차순 sorting \n",
    "\n",
    "#한글 폰트 사용\n",
    "from matplotlib import font_manager,rc\n",
    "import matplotlib\n",
    "import matplotlib.pyplot as plt\n",
    "#폰트 경로\n",
    "font_path = \"C:/Windows/Fonts/HANDotumExt.TTF\"\n",
    "#폰트 이름 얻어오기\n",
    "font_name = font_manager.FontProperties(fname=font_path).get_name()\n",
    "#font 설정\n",
    "matplotlib.rc('font',family=font_name)\n",
    "\n",
    "import pandas as pd\n",
    "\n",
    "설문=pd.read_excel('survey.xls')\n",
    "연봉오름차순=설문.iloc[0:10,:].sort_values(by='연봉')"
   ]
  },
  {
   "cell_type": "code",
   "execution_count": 33,
   "metadata": {
    "hidden": true
   },
   "outputs": [],
   "source": [
    "# 내림차순 sorting \n",
    "# 오름차순 sorting \n",
    "\n",
    "import pandas as pd\n",
    "\n",
    "설문=pd.read_excel('survey.xls')\n",
    "연봉내림차순=설문.iloc[0:10,:].sort_values(by='연봉', ascending=False) # ascending = False 사용"
   ]
  },
  {
   "cell_type": "markdown",
   "metadata": {
    "hidden": true
   },
   "source": [
    "##  data 나누기"
   ]
  },
  {
   "cell_type": "code",
   "execution_count": 50,
   "metadata": {
    "hidden": true
   },
   "outputs": [
    {
     "data": {
      "text/plain": [
       "10    58187\n",
       "15    69367\n",
       "1     32477\n",
       "2     35274\n",
       "14    69131\n",
       "17    74566\n",
       "11    63728\n",
       "6     51071\n",
       "16    71200\n",
       "13    67716\n",
       "Name: 연봉, dtype: int64"
      ]
     },
     "execution_count": 50,
     "metadata": {},
     "output_type": "execute_result"
    }
   ],
   "source": [
    "import pandas as pd\n",
    "\n",
    "mba=pd.read_excel('mba.xls')\n",
    "\n",
    "재무전공 = mba[mba['전공'] == 'finance']['연봉']\n",
    "마케팅전공 = mba[mba['전공'] == 'marketing'] ['연봉']\n",
    "재무전공.sample(10) # 임의의 표본 추출"
   ]
  },
  {
   "cell_type": "markdown",
   "metadata": {
    "hidden": true
   },
   "source": [
    "## 일정한 조건을 충족하는 자료 뽑기"
   ]
  },
  {
   "cell_type": "code",
   "execution_count": 35,
   "metadata": {
    "hidden": true
   },
   "outputs": [
    {
     "data": {
      "text/html": [
       "<div>\n",
       "<style scoped>\n",
       "    .dataframe tbody tr th:only-of-type {\n",
       "        vertical-align: middle;\n",
       "    }\n",
       "\n",
       "    .dataframe tbody tr th {\n",
       "        vertical-align: top;\n",
       "    }\n",
       "\n",
       "    .dataframe thead th {\n",
       "        text-align: right;\n",
       "    }\n",
       "</style>\n",
       "<table border=\"1\" class=\"dataframe\">\n",
       "  <thead>\n",
       "    <tr style=\"text-align: right;\">\n",
       "      <th></th>\n",
       "      <th>전공</th>\n",
       "      <th>연봉</th>\n",
       "    </tr>\n",
       "  </thead>\n",
       "  <tbody>\n",
       "    <tr>\n",
       "      <th>22</th>\n",
       "      <td>finance</td>\n",
       "      <td>95171</td>\n",
       "    </tr>\n",
       "    <tr>\n",
       "      <th>23</th>\n",
       "      <td>finance</td>\n",
       "      <td>98089</td>\n",
       "    </tr>\n",
       "    <tr>\n",
       "      <th>24</th>\n",
       "      <td>finance</td>\n",
       "      <td>106322</td>\n",
       "    </tr>\n",
       "    <tr>\n",
       "      <th>45</th>\n",
       "      <td>marketing</td>\n",
       "      <td>92705</td>\n",
       "    </tr>\n",
       "    <tr>\n",
       "      <th>48</th>\n",
       "      <td>marketing</td>\n",
       "      <td>99205</td>\n",
       "    </tr>\n",
       "    <tr>\n",
       "      <th>49</th>\n",
       "      <td>marketing</td>\n",
       "      <td>99003</td>\n",
       "    </tr>\n",
       "  </tbody>\n",
       "</table>\n",
       "</div>"
      ],
      "text/plain": [
       "           전공      연봉\n",
       "22    finance   95171\n",
       "23    finance   98089\n",
       "24    finance  106322\n",
       "45  marketing   92705\n",
       "48  marketing   99205\n",
       "49  marketing   99003"
      ]
     },
     "execution_count": 35,
     "metadata": {},
     "output_type": "execute_result"
    }
   ],
   "source": [
    "\n",
    "\n",
    "#한글 폰트 사용\n",
    "from matplotlib import font_manager,rc\n",
    "import matplotlib\n",
    "import matplotlib.pyplot as plt\n",
    "#폰트 경로\n",
    "font_path = \"C:/Windows/Fonts/HANDotumExt.TTF\"\n",
    "#폰트 이름 얻어오기\n",
    "font_name = font_manager.FontProperties(fname=font_path).get_name()\n",
    "#font 설정\n",
    "matplotlib.rc('font',family=font_name)\n",
    "\n",
    "import pandas as pd\n",
    "mba=pd.read_excel('mba.xls')\n",
    "data= mba[mba['연봉'] > 90000]\n",
    "data"
   ]
  },
  {
   "cell_type": "markdown",
   "metadata": {
    "heading_collapsed": true,
    "hidden": true
   },
   "source": [
    "## 행 열 지우기"
   ]
  },
  {
   "cell_type": "code",
   "execution_count": 36,
   "metadata": {
    "hidden": true
   },
   "outputs": [
    {
     "data": {
      "text/html": [
       "<div>\n",
       "<style scoped>\n",
       "    .dataframe tbody tr th:only-of-type {\n",
       "        vertical-align: middle;\n",
       "    }\n",
       "\n",
       "    .dataframe tbody tr th {\n",
       "        vertical-align: top;\n",
       "    }\n",
       "\n",
       "    .dataframe thead th {\n",
       "        text-align: right;\n",
       "    }\n",
       "</style>\n",
       "<table border=\"1\" class=\"dataframe\">\n",
       "  <thead>\n",
       "    <tr style=\"text-align: right;\">\n",
       "      <th></th>\n",
       "      <th>전공</th>\n",
       "      <th>연봉</th>\n",
       "    </tr>\n",
       "  </thead>\n",
       "  <tbody>\n",
       "    <tr>\n",
       "      <th>1</th>\n",
       "      <td>finance</td>\n",
       "      <td>32477</td>\n",
       "    </tr>\n",
       "    <tr>\n",
       "      <th>2</th>\n",
       "      <td>finance</td>\n",
       "      <td>35274</td>\n",
       "    </tr>\n",
       "    <tr>\n",
       "      <th>3</th>\n",
       "      <td>finance</td>\n",
       "      <td>37898</td>\n",
       "    </tr>\n",
       "    <tr>\n",
       "      <th>4</th>\n",
       "      <td>finance</td>\n",
       "      <td>45835</td>\n",
       "    </tr>\n",
       "    <tr>\n",
       "      <th>5</th>\n",
       "      <td>finance</td>\n",
       "      <td>49296</td>\n",
       "    </tr>\n",
       "  </tbody>\n",
       "</table>\n",
       "</div>"
      ],
      "text/plain": [
       "        전공     연봉\n",
       "1  finance  32477\n",
       "2  finance  35274\n",
       "3  finance  37898\n",
       "4  finance  45835\n",
       "5  finance  49296"
      ]
     },
     "execution_count": 36,
     "metadata": {},
     "output_type": "execute_result"
    }
   ],
   "source": [
    "\n",
    "# 행지우기\n",
    "\n",
    "#한글 폰트 사용\n",
    "from matplotlib import font_manager,rc\n",
    "import matplotlib\n",
    "import matplotlib.pyplot as plt\n",
    "#폰트 경로\n",
    "font_path = \"C:/Windows/Fonts/HANDotumExt.TTF\"\n",
    "#폰트 이름 얻어오기\n",
    "font_name = font_manager.FontProperties(fname=font_path).get_name()\n",
    "#font 설정\n",
    "matplotlib.rc('font',family=font_name)\n",
    "\n",
    "import pandas as pd\n",
    "\n",
    "mba=pd.read_excel('mba.xls')\n",
    "mbanew=mba.drop(0, axis=0)\n",
    "mbanew.head()"
   ]
  },
  {
   "cell_type": "code",
   "execution_count": 38,
   "metadata": {
    "hidden": true
   },
   "outputs": [
    {
     "data": {
      "text/html": [
       "<div>\n",
       "<style scoped>\n",
       "    .dataframe tbody tr th:only-of-type {\n",
       "        vertical-align: middle;\n",
       "    }\n",
       "\n",
       "    .dataframe tbody tr th {\n",
       "        vertical-align: top;\n",
       "    }\n",
       "\n",
       "    .dataframe thead th {\n",
       "        text-align: right;\n",
       "    }\n",
       "</style>\n",
       "<table border=\"1\" class=\"dataframe\">\n",
       "  <thead>\n",
       "    <tr style=\"text-align: right;\">\n",
       "      <th></th>\n",
       "      <th>연봉</th>\n",
       "    </tr>\n",
       "  </thead>\n",
       "  <tbody>\n",
       "    <tr>\n",
       "      <th>0</th>\n",
       "      <td>31235</td>\n",
       "    </tr>\n",
       "    <tr>\n",
       "      <th>1</th>\n",
       "      <td>32477</td>\n",
       "    </tr>\n",
       "    <tr>\n",
       "      <th>2</th>\n",
       "      <td>35274</td>\n",
       "    </tr>\n",
       "    <tr>\n",
       "      <th>3</th>\n",
       "      <td>37898</td>\n",
       "    </tr>\n",
       "    <tr>\n",
       "      <th>4</th>\n",
       "      <td>45835</td>\n",
       "    </tr>\n",
       "  </tbody>\n",
       "</table>\n",
       "</div>"
      ],
      "text/plain": [
       "      연봉\n",
       "0  31235\n",
       "1  32477\n",
       "2  35274\n",
       "3  37898\n",
       "4  45835"
      ]
     },
     "execution_count": 38,
     "metadata": {},
     "output_type": "execute_result"
    }
   ],
   "source": [
    "# 열 지우기\n",
    "\n",
    "from matplotlib import font_manager,rc\n",
    "import matplotlib\n",
    "import matplotlib.pyplot as plt\n",
    "#폰트 경로\n",
    "font_path = \"C:/Windows/Fonts/HANDotumExt.TTF\"\n",
    "#폰트 이름 얻어오기\n",
    "font_name = font_manager.FontProperties(fname=font_path).get_name()\n",
    "#font 설정\n",
    "matplotlib.rc('font',family=font_name)\n",
    "\n",
    "import pandas as pd\n",
    "\n",
    "mba=pd.read_excel('mba.xls')\n",
    "mbanew1=mba.drop(mba.columns[0], axis=1)\n",
    "mbanew1.head()"
   ]
  },
  {
   "cell_type": "markdown",
   "metadata": {
    "heading_collapsed": true,
    "hidden": true
   },
   "source": [
    "## concatenate data 관측치 추가"
   ]
  },
  {
   "cell_type": "code",
   "execution_count": 39,
   "metadata": {
    "hidden": true
   },
   "outputs": [
    {
     "data": {
      "text/html": [
       "<div>\n",
       "<style scoped>\n",
       "    .dataframe tbody tr th:only-of-type {\n",
       "        vertical-align: middle;\n",
       "    }\n",
       "\n",
       "    .dataframe tbody tr th {\n",
       "        vertical-align: top;\n",
       "    }\n",
       "\n",
       "    .dataframe thead th {\n",
       "        text-align: right;\n",
       "    }\n",
       "</style>\n",
       "<table border=\"1\" class=\"dataframe\">\n",
       "  <thead>\n",
       "    <tr style=\"text-align: right;\">\n",
       "      <th></th>\n",
       "      <th>갑</th>\n",
       "      <th>을</th>\n",
       "      <th>병</th>\n",
       "      <th>정</th>\n",
       "    </tr>\n",
       "  </thead>\n",
       "  <tbody>\n",
       "    <tr>\n",
       "      <th>0</th>\n",
       "      <td>A0</td>\n",
       "      <td>B0</td>\n",
       "      <td>C0</td>\n",
       "      <td>D0</td>\n",
       "    </tr>\n",
       "    <tr>\n",
       "      <th>1</th>\n",
       "      <td>A1</td>\n",
       "      <td>B1</td>\n",
       "      <td>C1</td>\n",
       "      <td>D1</td>\n",
       "    </tr>\n",
       "    <tr>\n",
       "      <th>2</th>\n",
       "      <td>A2</td>\n",
       "      <td>B2</td>\n",
       "      <td>C2</td>\n",
       "      <td>D2</td>\n",
       "    </tr>\n",
       "    <tr>\n",
       "      <th>3</th>\n",
       "      <td>A3</td>\n",
       "      <td>B3</td>\n",
       "      <td>C3</td>\n",
       "      <td>D3</td>\n",
       "    </tr>\n",
       "  </tbody>\n",
       "</table>\n",
       "</div>"
      ],
      "text/plain": [
       "    갑   을   병   정\n",
       "0  A0  B0  C0  D0\n",
       "1  A1  B1  C1  D1\n",
       "2  A2  B2  C2  D2\n",
       "3  A3  B3  C3  D3"
      ]
     },
     "execution_count": 39,
     "metadata": {},
     "output_type": "execute_result"
    }
   ],
   "source": [
    "data1 = pd.DataFrame({'갑': ['A0', 'A1', 'A2', 'A3'],\\\n",
    "        '을': ['B0', 'B1', 'B2', 'B3'],\\\n",
    "        '병': ['C0', 'C1', 'C2', 'C3'],\\\n",
    "        '정': ['D0', 'D1', 'D2', 'D3']},\\\n",
    "                  index=[0, 1, 2, 3])\n",
    "data1"
   ]
  },
  {
   "cell_type": "code",
   "execution_count": 40,
   "metadata": {
    "hidden": true
   },
   "outputs": [
    {
     "data": {
      "text/html": [
       "<div>\n",
       "<style scoped>\n",
       "    .dataframe tbody tr th:only-of-type {\n",
       "        vertical-align: middle;\n",
       "    }\n",
       "\n",
       "    .dataframe tbody tr th {\n",
       "        vertical-align: top;\n",
       "    }\n",
       "\n",
       "    .dataframe thead th {\n",
       "        text-align: right;\n",
       "    }\n",
       "</style>\n",
       "<table border=\"1\" class=\"dataframe\">\n",
       "  <thead>\n",
       "    <tr style=\"text-align: right;\">\n",
       "      <th></th>\n",
       "      <th>갑</th>\n",
       "      <th>을</th>\n",
       "      <th>병</th>\n",
       "      <th>정</th>\n",
       "    </tr>\n",
       "  </thead>\n",
       "  <tbody>\n",
       "    <tr>\n",
       "      <th>4</th>\n",
       "      <td>A4</td>\n",
       "      <td>B4</td>\n",
       "      <td>C4</td>\n",
       "      <td>D4</td>\n",
       "    </tr>\n",
       "    <tr>\n",
       "      <th>5</th>\n",
       "      <td>A5</td>\n",
       "      <td>B5</td>\n",
       "      <td>C5</td>\n",
       "      <td>D5</td>\n",
       "    </tr>\n",
       "    <tr>\n",
       "      <th>6</th>\n",
       "      <td>A6</td>\n",
       "      <td>B6</td>\n",
       "      <td>C6</td>\n",
       "      <td>D6</td>\n",
       "    </tr>\n",
       "    <tr>\n",
       "      <th>7</th>\n",
       "      <td>A7</td>\n",
       "      <td>B7</td>\n",
       "      <td>C7</td>\n",
       "      <td>D7</td>\n",
       "    </tr>\n",
       "  </tbody>\n",
       "</table>\n",
       "</div>"
      ],
      "text/plain": [
       "    갑   을   병   정\n",
       "4  A4  B4  C4  D4\n",
       "5  A5  B5  C5  D5\n",
       "6  A6  B6  C6  D6\n",
       "7  A7  B7  C7  D7"
      ]
     },
     "execution_count": 40,
     "metadata": {},
     "output_type": "execute_result"
    }
   ],
   "source": [
    "data2 = pd.DataFrame({'갑': ['A4', 'A5', 'A6', 'A7'],\\\n",
    "                  '을': ['B4', 'B5', 'B6', 'B7'],\\\n",
    "                  '병': ['C4', 'C5', 'C6', 'C7'],\\\n",
    "                  '정': ['D4', 'D5', 'D6', 'D7']},\\\n",
    "                       index=[4, 5, 6, 7])\n",
    "data2"
   ]
  },
  {
   "cell_type": "code",
   "execution_count": 41,
   "metadata": {
    "hidden": true
   },
   "outputs": [
    {
     "data": {
      "text/html": [
       "<div>\n",
       "<style scoped>\n",
       "    .dataframe tbody tr th:only-of-type {\n",
       "        vertical-align: middle;\n",
       "    }\n",
       "\n",
       "    .dataframe tbody tr th {\n",
       "        vertical-align: top;\n",
       "    }\n",
       "\n",
       "    .dataframe thead th {\n",
       "        text-align: right;\n",
       "    }\n",
       "</style>\n",
       "<table border=\"1\" class=\"dataframe\">\n",
       "  <thead>\n",
       "    <tr style=\"text-align: right;\">\n",
       "      <th></th>\n",
       "      <th>갑</th>\n",
       "      <th>을</th>\n",
       "      <th>병</th>\n",
       "      <th>정</th>\n",
       "    </tr>\n",
       "  </thead>\n",
       "  <tbody>\n",
       "    <tr>\n",
       "      <th>8</th>\n",
       "      <td>A8</td>\n",
       "      <td>B8</td>\n",
       "      <td>C8</td>\n",
       "      <td>D8</td>\n",
       "    </tr>\n",
       "    <tr>\n",
       "      <th>9</th>\n",
       "      <td>A9</td>\n",
       "      <td>B9</td>\n",
       "      <td>C9</td>\n",
       "      <td>D9</td>\n",
       "    </tr>\n",
       "    <tr>\n",
       "      <th>10</th>\n",
       "      <td>A10</td>\n",
       "      <td>B10</td>\n",
       "      <td>C10</td>\n",
       "      <td>D10</td>\n",
       "    </tr>\n",
       "    <tr>\n",
       "      <th>11</th>\n",
       "      <td>A11</td>\n",
       "      <td>B11</td>\n",
       "      <td>C11</td>\n",
       "      <td>D11</td>\n",
       "    </tr>\n",
       "  </tbody>\n",
       "</table>\n",
       "</div>"
      ],
      "text/plain": [
       "      갑    을    병    정\n",
       "8    A8   B8   C8   D8\n",
       "9    A9   B9   C9   D9\n",
       "10  A10  B10  C10  D10\n",
       "11  A11  B11  C11  D11"
      ]
     },
     "execution_count": 41,
     "metadata": {},
     "output_type": "execute_result"
    }
   ],
   "source": [
    "data3 = pd.DataFrame({'갑': ['A8', 'A9', 'A10', 'A11'],\n",
    "   ...:                     '을': ['B8', 'B9', 'B10', 'B11'],\n",
    "   ...:                     '병': ['C8', 'C9', 'C10', 'C11'],\n",
    "   ...:                     '정': ['D8', 'D9', 'D10', 'D11']},\n",
    "   ...:                     index=[8, 9, 10, 11])\n",
    "data3"
   ]
  },
  {
   "cell_type": "code",
   "execution_count": 42,
   "metadata": {
    "hidden": true
   },
   "outputs": [
    {
     "data": {
      "text/html": [
       "<div>\n",
       "<style scoped>\n",
       "    .dataframe tbody tr th:only-of-type {\n",
       "        vertical-align: middle;\n",
       "    }\n",
       "\n",
       "    .dataframe tbody tr th {\n",
       "        vertical-align: top;\n",
       "    }\n",
       "\n",
       "    .dataframe thead th {\n",
       "        text-align: right;\n",
       "    }\n",
       "</style>\n",
       "<table border=\"1\" class=\"dataframe\">\n",
       "  <thead>\n",
       "    <tr style=\"text-align: right;\">\n",
       "      <th></th>\n",
       "      <th>갑</th>\n",
       "      <th>을</th>\n",
       "      <th>병</th>\n",
       "      <th>정</th>\n",
       "    </tr>\n",
       "  </thead>\n",
       "  <tbody>\n",
       "    <tr>\n",
       "      <th>0</th>\n",
       "      <td>A0</td>\n",
       "      <td>B0</td>\n",
       "      <td>C0</td>\n",
       "      <td>D0</td>\n",
       "    </tr>\n",
       "    <tr>\n",
       "      <th>1</th>\n",
       "      <td>A1</td>\n",
       "      <td>B1</td>\n",
       "      <td>C1</td>\n",
       "      <td>D1</td>\n",
       "    </tr>\n",
       "    <tr>\n",
       "      <th>2</th>\n",
       "      <td>A2</td>\n",
       "      <td>B2</td>\n",
       "      <td>C2</td>\n",
       "      <td>D2</td>\n",
       "    </tr>\n",
       "    <tr>\n",
       "      <th>3</th>\n",
       "      <td>A3</td>\n",
       "      <td>B3</td>\n",
       "      <td>C3</td>\n",
       "      <td>D3</td>\n",
       "    </tr>\n",
       "    <tr>\n",
       "      <th>4</th>\n",
       "      <td>A4</td>\n",
       "      <td>B4</td>\n",
       "      <td>C4</td>\n",
       "      <td>D4</td>\n",
       "    </tr>\n",
       "    <tr>\n",
       "      <th>5</th>\n",
       "      <td>A5</td>\n",
       "      <td>B5</td>\n",
       "      <td>C5</td>\n",
       "      <td>D5</td>\n",
       "    </tr>\n",
       "    <tr>\n",
       "      <th>6</th>\n",
       "      <td>A6</td>\n",
       "      <td>B6</td>\n",
       "      <td>C6</td>\n",
       "      <td>D6</td>\n",
       "    </tr>\n",
       "    <tr>\n",
       "      <th>7</th>\n",
       "      <td>A7</td>\n",
       "      <td>B7</td>\n",
       "      <td>C7</td>\n",
       "      <td>D7</td>\n",
       "    </tr>\n",
       "    <tr>\n",
       "      <th>8</th>\n",
       "      <td>A8</td>\n",
       "      <td>B8</td>\n",
       "      <td>C8</td>\n",
       "      <td>D8</td>\n",
       "    </tr>\n",
       "    <tr>\n",
       "      <th>9</th>\n",
       "      <td>A9</td>\n",
       "      <td>B9</td>\n",
       "      <td>C9</td>\n",
       "      <td>D9</td>\n",
       "    </tr>\n",
       "    <tr>\n",
       "      <th>10</th>\n",
       "      <td>A10</td>\n",
       "      <td>B10</td>\n",
       "      <td>C10</td>\n",
       "      <td>D10</td>\n",
       "    </tr>\n",
       "    <tr>\n",
       "      <th>11</th>\n",
       "      <td>A11</td>\n",
       "      <td>B11</td>\n",
       "      <td>C11</td>\n",
       "      <td>D11</td>\n",
       "    </tr>\n",
       "  </tbody>\n",
       "</table>\n",
       "</div>"
      ],
      "text/plain": [
       "      갑    을    병    정\n",
       "0    A0   B0   C0   D0\n",
       "1    A1   B1   C1   D1\n",
       "2    A2   B2   C2   D2\n",
       "3    A3   B3   C3   D3\n",
       "4    A4   B4   C4   D4\n",
       "5    A5   B5   C5   D5\n",
       "6    A6   B6   C6   D6\n",
       "7    A7   B7   C7   D7\n",
       "8    A8   B8   C8   D8\n",
       "9    A9   B9   C9   D9\n",
       "10  A10  B10  C10  D10\n",
       "11  A11  B11  C11  D11"
      ]
     },
     "execution_count": 42,
     "metadata": {},
     "output_type": "execute_result"
    }
   ],
   "source": [
    "세로합치기 = pd.concat([data1, data2, data3])\n",
    "세로합치기"
   ]
  },
  {
   "cell_type": "markdown",
   "metadata": {
    "hidden": true
   },
   "source": [
    "## merge data 변수 추가"
   ]
  },
  {
   "cell_type": "code",
   "execution_count": 44,
   "metadata": {
    "hidden": true
   },
   "outputs": [
    {
     "name": "stdout",
     "output_type": "stream",
     "text": [
      "      기업   A   B\n",
      "0  firm1  A0  B0\n",
      "1  firm2  A1  B1\n",
      "2  firm3  A2  B2\n",
      "3  firm4  A3  B3\n",
      "      기업   C   D\n",
      "0  firm1  C0  D0\n",
      "1  firm2  C1  D1\n",
      "2  firm3  C2  D2\n",
      "3  firm4  C3  D3\n"
     ]
    },
    {
     "data": {
      "text/html": [
       "<div>\n",
       "<style scoped>\n",
       "    .dataframe tbody tr th:only-of-type {\n",
       "        vertical-align: middle;\n",
       "    }\n",
       "\n",
       "    .dataframe tbody tr th {\n",
       "        vertical-align: top;\n",
       "    }\n",
       "\n",
       "    .dataframe thead th {\n",
       "        text-align: right;\n",
       "    }\n",
       "</style>\n",
       "<table border=\"1\" class=\"dataframe\">\n",
       "  <thead>\n",
       "    <tr style=\"text-align: right;\">\n",
       "      <th></th>\n",
       "      <th>기업</th>\n",
       "      <th>A</th>\n",
       "      <th>B</th>\n",
       "      <th>C</th>\n",
       "      <th>D</th>\n",
       "    </tr>\n",
       "  </thead>\n",
       "  <tbody>\n",
       "    <tr>\n",
       "      <th>0</th>\n",
       "      <td>firm1</td>\n",
       "      <td>A0</td>\n",
       "      <td>B0</td>\n",
       "      <td>C0</td>\n",
       "      <td>D0</td>\n",
       "    </tr>\n",
       "    <tr>\n",
       "      <th>1</th>\n",
       "      <td>firm2</td>\n",
       "      <td>A1</td>\n",
       "      <td>B1</td>\n",
       "      <td>C1</td>\n",
       "      <td>D1</td>\n",
       "    </tr>\n",
       "    <tr>\n",
       "      <th>2</th>\n",
       "      <td>firm3</td>\n",
       "      <td>A2</td>\n",
       "      <td>B2</td>\n",
       "      <td>C2</td>\n",
       "      <td>D2</td>\n",
       "    </tr>\n",
       "    <tr>\n",
       "      <th>3</th>\n",
       "      <td>firm4</td>\n",
       "      <td>A3</td>\n",
       "      <td>B3</td>\n",
       "      <td>C3</td>\n",
       "      <td>D3</td>\n",
       "    </tr>\n",
       "  </tbody>\n",
       "</table>\n",
       "</div>"
      ],
      "text/plain": [
       "      기업   A   B   C   D\n",
       "0  firm1  A0  B0  C0  D0\n",
       "1  firm2  A1  B1  C1  D1\n",
       "2  firm3  A2  B2  C2  D2\n",
       "3  firm4  A3  B3  C3  D3"
      ]
     },
     "execution_count": 44,
     "metadata": {},
     "output_type": "execute_result"
    }
   ],
   "source": [
    "data5 = pd.DataFrame({'기업': ['firm1', 'firm2', 'firm3', 'firm4'],\\\n",
    "                       'A': ['A0', 'A1', 'A2', 'A3'],\\\n",
    "                       'B': ['B0', 'B1', 'B2', 'B3']})\n",
    "\n",
    "data6= pd.DataFrame({'기업': ['firm1', 'firm2', 'firm3', 'firm4'],\\\n",
    "                     'C': ['C0', 'C1', 'C2', 'C3'],\\\n",
    "                     'D': ['D0', 'D1', 'D2', 'D3']})\n",
    "   \n",
    "print(data5);print(data6)\n",
    "merged = pd.merge(data5, data6, on='기업')\n",
    "merged"
   ]
  },
  {
   "cell_type": "markdown",
   "metadata": {
    "heading_collapsed": true
   },
   "source": [
    "# regression 2"
   ]
  },
  {
   "cell_type": "code",
   "execution_count": 259,
   "metadata": {
    "hidden": true
   },
   "outputs": [
    {
     "name": "stdout",
     "output_type": "stream",
     "text": [
      "                            OLS Regression Results                            \n",
      "==============================================================================\n",
      "Dep. Variable:                 memory   R-squared:                       0.289\n",
      "Model:                            OLS   Adj. R-squared:                  0.277\n",
      "Method:                 Least Squares   F-statistic:                     23.61\n",
      "Date:                Sat, 27 Oct 2018   Prob (F-statistic):           9.35e-06\n",
      "Time:                        20:31:06   Log-Likelihood:                -190.50\n",
      "No. Observations:                  60   AIC:                             385.0\n",
      "Df Residuals:                      58   BIC:                             389.2\n",
      "Df Model:                           1                                         \n",
      "Covariance Type:            nonrobust                                         \n",
      "==============================================================================\n",
      "                 coef    std err          t      P>|t|      [0.025      0.975]\n",
      "------------------------------------------------------------------------------\n",
      "Intercept      3.6357      2.226      1.633      0.108      -0.820       8.091\n",
      "adtime         0.2675      0.055      4.859      0.000       0.157       0.378\n",
      "==============================================================================\n",
      "Omnibus:                        0.142   Durbin-Watson:                   1.810\n",
      "Prob(Omnibus):                  0.931   Jarque-Bera (JB):                0.052\n",
      "Skew:                          -0.067   Prob(JB):                        0.974\n",
      "Kurtosis:                       2.947   Cond. No.                         118.\n",
      "==============================================================================\n",
      "\n",
      "Warnings:\n",
      "[1] Standard Errors assume that the covariance matrix of the errors is correctly specified.\n"
     ]
    },
    {
     "data": {
      "image/png": "[encoded data removed]",
      "text/plain": [
       "<Figure size 432x288 with 1 Axes>"
      ]
     },
     "metadata": {
      "needs_background": "light"
     },
     "output_type": "display_data"
    }
   ],
   "source": [
    "import pandas as pd\n",
    "from statsmodels.formula.api import ols\n",
    "\n",
    "광고효과=pd.read_excel('adeffect.xls')\n",
    "\n",
    "#scatter plot\n",
    "광고효과.plot.scatter(x='adtime', y='memory')\n",
    "\n",
    "# simple regression\n",
    "model = ols(\"memory ~ adtime\", adeffect).fit()\n",
    "print(model.summary())"
   ]
  },
  {
   "cell_type": "markdown",
   "metadata": {
    "heading_collapsed": true
   },
   "source": [
    "# list"
   ]
  },
  {
   "cell_type": "code",
   "execution_count": 390,
   "metadata": {
    "hidden": true
   },
   "outputs": [
    {
     "data": {
      "text/plain": [
       "['삼성전자', 'LG전자', '네이버']"
      ]
     },
     "execution_count": 390,
     "metadata": {},
     "output_type": "execute_result"
    }
   ],
   "source": [
    "mystocks = [\"삼성전자\", \"LG전자\", \"네이버\"]\n",
    "mystocks"
   ]
  },
  {
   "cell_type": "code",
   "execution_count": 392,
   "metadata": {
    "hidden": true
   },
   "outputs": [
    {
     "data": {
      "text/plain": [
       "'LG전자'"
      ]
     },
     "execution_count": 392,
     "metadata": {},
     "output_type": "execute_result"
    }
   ],
   "source": [
    "mystocks[1]"
   ]
  },
  {
   "cell_type": "code",
   "execution_count": null,
   "metadata": {
    "hidden": true
   },
   "outputs": [],
   "source": []
  },
  {
   "cell_type": "code",
   "execution_count": null,
   "metadata": {
    "hidden": true
   },
   "outputs": [],
   "source": []
  },
  {
   "cell_type": "markdown",
   "metadata": {},
   "source": [
    "# more on sorting"
   ]
  },
  {
   "cell_type": "code",
   "execution_count": 51,
   "metadata": {},
   "outputs": [
    {
     "data": {
      "text/html": [
       "<div>\n",
       "<style scoped>\n",
       "    .dataframe tbody tr th:only-of-type {\n",
       "        vertical-align: middle;\n",
       "    }\n",
       "\n",
       "    .dataframe tbody tr th {\n",
       "        vertical-align: top;\n",
       "    }\n",
       "\n",
       "    .dataframe thead th {\n",
       "        text-align: right;\n",
       "    }\n",
       "</style>\n",
       "<table border=\"1\" class=\"dataframe\">\n",
       "  <thead>\n",
       "    <tr style=\"text-align: right;\">\n",
       "      <th></th>\n",
       "      <th>은행</th>\n",
       "      <th>상품</th>\n",
       "      <th>세전이자율</th>\n",
       "      <th>세후이자율</th>\n",
       "      <th>세후이자</th>\n",
       "      <th>최대금리</th>\n",
       "      <th>제한없음</th>\n",
       "      <th>이자계산</th>\n",
       "    </tr>\n",
       "  </thead>\n",
       "  <tbody>\n",
       "    <tr>\n",
       "      <th>23</th>\n",
       "      <td>고려저축은행</td>\n",
       "      <td>(비대면)정기예금</td>\n",
       "      <td>2.80%</td>\n",
       "      <td>2.37%</td>\n",
       "      <td>236,880</td>\n",
       "      <td>2.80%</td>\n",
       "      <td>제한없음</td>\n",
       "      <td>단리</td>\n",
       "    </tr>\n",
       "    <tr>\n",
       "      <th>357</th>\n",
       "      <td>광주은행</td>\n",
       "      <td>아파트사랑정기예금</td>\n",
       "      <td>1.68%</td>\n",
       "      <td>1.42%</td>\n",
       "      <td>142,130</td>\n",
       "      <td>2.23%</td>\n",
       "      <td>제한없음</td>\n",
       "      <td>단리</td>\n",
       "    </tr>\n",
       "    <tr>\n",
       "      <th>119</th>\n",
       "      <td>오투저축은행</td>\n",
       "      <td>비대면 정기예금</td>\n",
       "      <td>2.70%</td>\n",
       "      <td>2.28%</td>\n",
       "      <td>231,268</td>\n",
       "      <td>2.70%</td>\n",
       "      <td>제한없음</td>\n",
       "      <td>복리</td>\n",
       "    </tr>\n",
       "    <tr>\n",
       "      <th>341</th>\n",
       "      <td>대구은행</td>\n",
       "      <td>내손안에 예금</td>\n",
       "      <td>1.86%</td>\n",
       "      <td>1.57%</td>\n",
       "      <td>157,360</td>\n",
       "      <td>2.21%</td>\n",
       "      <td>제한없음</td>\n",
       "      <td>단리</td>\n",
       "    </tr>\n",
       "    <tr>\n",
       "      <th>77</th>\n",
       "      <td>엔에이치저축은행</td>\n",
       "      <td>인터넷뱅킹정기예금</td>\n",
       "      <td>2.75%</td>\n",
       "      <td>2.33%</td>\n",
       "      <td>235,605</td>\n",
       "      <td>2.75%</td>\n",
       "      <td>제한없음</td>\n",
       "      <td>복리</td>\n",
       "    </tr>\n",
       "    <tr>\n",
       "      <th>139</th>\n",
       "      <td>한국투자저축은행</td>\n",
       "      <td>정기예금</td>\n",
       "      <td>2.70%</td>\n",
       "      <td>2.28%</td>\n",
       "      <td>231,268</td>\n",
       "      <td>2.70%</td>\n",
       "      <td>제한없음</td>\n",
       "      <td>복리</td>\n",
       "    </tr>\n",
       "    <tr>\n",
       "      <th>43</th>\n",
       "      <td>동원제일저축은행</td>\n",
       "      <td>정기예금</td>\n",
       "      <td>2.80%</td>\n",
       "      <td>2.37%</td>\n",
       "      <td>239,944</td>\n",
       "      <td>2.80%</td>\n",
       "      <td>제한없음</td>\n",
       "      <td>복리</td>\n",
       "    </tr>\n",
       "    <tr>\n",
       "      <th>306</th>\n",
       "      <td>스타저축은행</td>\n",
       "      <td>정기예금(비대면)</td>\n",
       "      <td>2.40%</td>\n",
       "      <td>2.03%</td>\n",
       "      <td>205,288</td>\n",
       "      <td>2.40%</td>\n",
       "      <td>제한없음</td>\n",
       "      <td>복리</td>\n",
       "    </tr>\n",
       "    <tr>\n",
       "      <th>305</th>\n",
       "      <td>스타저축은행</td>\n",
       "      <td>정기예금(비대면)</td>\n",
       "      <td>2.40%</td>\n",
       "      <td>2.03%</td>\n",
       "      <td>203,040</td>\n",
       "      <td>2.40%</td>\n",
       "      <td>제한없음</td>\n",
       "      <td>단리</td>\n",
       "    </tr>\n",
       "    <tr>\n",
       "      <th>258</th>\n",
       "      <td>IBK저축은행</td>\n",
       "      <td>참기특한 정기예금</td>\n",
       "      <td>2.60%</td>\n",
       "      <td>2.20%</td>\n",
       "      <td>222,600</td>\n",
       "      <td>2.60%</td>\n",
       "      <td>제한없음</td>\n",
       "      <td>복리</td>\n",
       "    </tr>\n",
       "  </tbody>\n",
       "</table>\n",
       "</div>"
      ],
      "text/plain": [
       "           은행         상품  세전이자율  세후이자율     세후이자   최대금리  제한없음 이자계산\n",
       "23     고려저축은행  (비대면)정기예금  2.80%  2.37%  236,880  2.80%  제한없음   단리\n",
       "357      광주은행  아파트사랑정기예금  1.68%  1.42%  142,130  2.23%  제한없음   단리\n",
       "119    오투저축은행   비대면 정기예금  2.70%  2.28%  231,268  2.70%  제한없음   복리\n",
       "341      대구은행    내손안에 예금  1.86%  1.57%  157,360  2.21%  제한없음   단리\n",
       "77   엔에이치저축은행  인터넷뱅킹정기예금  2.75%  2.33%  235,605  2.75%  제한없음   복리\n",
       "139  한국투자저축은행       정기예금  2.70%  2.28%  231,268  2.70%  제한없음   복리\n",
       "43   동원제일저축은행       정기예금  2.80%  2.37%  239,944  2.80%  제한없음   복리\n",
       "306    스타저축은행  정기예금(비대면)  2.40%  2.03%  205,288  2.40%  제한없음   복리\n",
       "305    스타저축은행  정기예금(비대면)  2.40%  2.03%  203,040  2.40%  제한없음   단리\n",
       "258   IBK저축은행  참기특한 정기예금  2.60%  2.20%  222,600  2.60%  제한없음   복리"
      ]
     },
     "execution_count": 51,
     "metadata": {},
     "output_type": "execute_result"
    }
   ],
   "source": [
    "import pandas as pd\n",
    "\n",
    "이자율자료=pd.read_excel('예금금리.xlsx')\n",
    "이자율자료.sample(10)"
   ]
  },
  {
   "cell_type": "code",
   "execution_count": 52,
   "metadata": {},
   "outputs": [
    {
     "data": {
      "text/html": [
       "<div>\n",
       "<style scoped>\n",
       "    .dataframe tbody tr th:only-of-type {\n",
       "        vertical-align: middle;\n",
       "    }\n",
       "\n",
       "    .dataframe tbody tr th {\n",
       "        vertical-align: top;\n",
       "    }\n",
       "\n",
       "    .dataframe thead th {\n",
       "        text-align: right;\n",
       "    }\n",
       "</style>\n",
       "<table border=\"1\" class=\"dataframe\">\n",
       "  <thead>\n",
       "    <tr style=\"text-align: right;\">\n",
       "      <th></th>\n",
       "      <th>은행</th>\n",
       "      <th>상품</th>\n",
       "      <th>세전이자율</th>\n",
       "      <th>세후이자율</th>\n",
       "      <th>세후이자</th>\n",
       "      <th>최대금리</th>\n",
       "      <th>제한없음</th>\n",
       "      <th>이자계산</th>\n",
       "    </tr>\n",
       "  </thead>\n",
       "  <tbody>\n",
       "    <tr>\n",
       "      <th>0</th>\n",
       "      <td>페퍼저축은행</td>\n",
       "      <td>회전정기예금 (비대면)</td>\n",
       "      <td>2.92%</td>\n",
       "      <td>2.47%</td>\n",
       "      <td>250,365</td>\n",
       "      <td>2.92%</td>\n",
       "      <td>제한없음</td>\n",
       "      <td>복리</td>\n",
       "    </tr>\n",
       "    <tr>\n",
       "      <th>1</th>\n",
       "      <td>페퍼저축은행</td>\n",
       "      <td>회전정기예금 (비대면)</td>\n",
       "      <td>2.92%</td>\n",
       "      <td>2.47%</td>\n",
       "      <td>247,030</td>\n",
       "      <td>2.92%</td>\n",
       "      <td>제한없음</td>\n",
       "      <td>단리</td>\n",
       "    </tr>\n",
       "    <tr>\n",
       "      <th>2</th>\n",
       "      <td>키움예스저축은행</td>\n",
       "      <td>SB톡톡 정기예금(비대면)</td>\n",
       "      <td>2.90%</td>\n",
       "      <td>2.45%</td>\n",
       "      <td>245,340</td>\n",
       "      <td>2.90%</td>\n",
       "      <td>제한없음</td>\n",
       "      <td>단리</td>\n",
       "    </tr>\n",
       "    <tr>\n",
       "      <th>4</th>\n",
       "      <td>키움저축은행</td>\n",
       "      <td>SB톡톡정기예금</td>\n",
       "      <td>2.90%</td>\n",
       "      <td>2.45%</td>\n",
       "      <td>248,627</td>\n",
       "      <td>2.90%</td>\n",
       "      <td>제한없음</td>\n",
       "      <td>복리</td>\n",
       "    </tr>\n",
       "    <tr>\n",
       "      <th>5</th>\n",
       "      <td>키움저축은행</td>\n",
       "      <td>SB톡톡정기예금</td>\n",
       "      <td>2.90%</td>\n",
       "      <td>2.45%</td>\n",
       "      <td>245,340</td>\n",
       "      <td>2.90%</td>\n",
       "      <td>제한없음</td>\n",
       "      <td>단리</td>\n",
       "    </tr>\n",
       "  </tbody>\n",
       "</table>\n",
       "</div>"
      ],
      "text/plain": [
       "         은행              상품  세전이자율  세후이자율     세후이자   최대금리  제한없음 이자계산\n",
       "0    페퍼저축은행    회전정기예금 (비대면)  2.92%  2.47%  250,365  2.92%  제한없음   복리\n",
       "1    페퍼저축은행    회전정기예금 (비대면)  2.92%  2.47%  247,030  2.92%  제한없음   단리\n",
       "2  키움예스저축은행  SB톡톡 정기예금(비대면)  2.90%  2.45%  245,340  2.90%  제한없음   단리\n",
       "4    키움저축은행        SB톡톡정기예금  2.90%  2.45%  248,627  2.90%  제한없음   복리\n",
       "5    키움저축은행        SB톡톡정기예금  2.90%  2.45%  245,340  2.90%  제한없음   단리"
      ]
     },
     "execution_count": 52,
     "metadata": {},
     "output_type": "execute_result"
    }
   ],
   "source": [
    "# 내림차순 sorting \n",
    "금리높은순서=이자율자료.sort_values(by='세전이자율', ascending=False) # ascending = False 사용\n",
    "금리높은순서.head()"
   ]
  },
  {
   "cell_type": "code",
   "execution_count": 53,
   "metadata": {},
   "outputs": [
    {
     "data": {
      "text/html": [
       "<div>\n",
       "<style scoped>\n",
       "    .dataframe tbody tr th:only-of-type {\n",
       "        vertical-align: middle;\n",
       "    }\n",
       "\n",
       "    .dataframe tbody tr th {\n",
       "        vertical-align: top;\n",
       "    }\n",
       "\n",
       "    .dataframe thead th {\n",
       "        text-align: right;\n",
       "    }\n",
       "</style>\n",
       "<table border=\"1\" class=\"dataframe\">\n",
       "  <thead>\n",
       "    <tr style=\"text-align: right;\">\n",
       "      <th></th>\n",
       "      <th>은행</th>\n",
       "      <th>상품</th>\n",
       "      <th>세전이자율</th>\n",
       "      <th>세후이자율</th>\n",
       "      <th>세후이자</th>\n",
       "      <th>최대금리</th>\n",
       "      <th>제한없음</th>\n",
       "      <th>이자계산</th>\n",
       "    </tr>\n",
       "  </thead>\n",
       "  <tbody>\n",
       "    <tr>\n",
       "      <th>395</th>\n",
       "      <td>한국산업은행</td>\n",
       "      <td>정기예금</td>\n",
       "      <td>0.90%</td>\n",
       "      <td>0.76%</td>\n",
       "      <td>76,140</td>\n",
       "      <td>0.90%</td>\n",
       "      <td>제한없음</td>\n",
       "      <td>단리</td>\n",
       "    </tr>\n",
       "    <tr>\n",
       "      <th>394</th>\n",
       "      <td>부산은행</td>\n",
       "      <td>메리트정기예금</td>\n",
       "      <td>1.15%</td>\n",
       "      <td>0.97%</td>\n",
       "      <td>97,290</td>\n",
       "      <td>1.15%</td>\n",
       "      <td>제한없음</td>\n",
       "      <td>단리</td>\n",
       "    </tr>\n",
       "    <tr>\n",
       "      <th>393</th>\n",
       "      <td>전북은행</td>\n",
       "      <td>정기예금</td>\n",
       "      <td>1.20%</td>\n",
       "      <td>1.02%</td>\n",
       "      <td>101,520</td>\n",
       "      <td>1.20%</td>\n",
       "      <td>제한없음</td>\n",
       "      <td>단리</td>\n",
       "    </tr>\n",
       "    <tr>\n",
       "      <th>392</th>\n",
       "      <td>KEB하나은행</td>\n",
       "      <td>행복Together정기예금</td>\n",
       "      <td>1.30%</td>\n",
       "      <td>1.10%</td>\n",
       "      <td>109,980</td>\n",
       "      <td>1.60%</td>\n",
       "      <td>제한없음</td>\n",
       "      <td>단리</td>\n",
       "    </tr>\n",
       "    <tr>\n",
       "      <th>391</th>\n",
       "      <td>KEB하나은행</td>\n",
       "      <td>하나머니세상 정기예금</td>\n",
       "      <td>1.30%</td>\n",
       "      <td>1.10%</td>\n",
       "      <td>109,980</td>\n",
       "      <td>2.20%</td>\n",
       "      <td>제한없음</td>\n",
       "      <td>단리</td>\n",
       "    </tr>\n",
       "  </tbody>\n",
       "</table>\n",
       "</div>"
      ],
      "text/plain": [
       "          은행              상품  세전이자율  세후이자율     세후이자   최대금리  제한없음 이자계산\n",
       "395   한국산업은행            정기예금  0.90%  0.76%   76,140  0.90%  제한없음   단리\n",
       "394     부산은행         메리트정기예금  1.15%  0.97%   97,290  1.15%  제한없음   단리\n",
       "393     전북은행            정기예금  1.20%  1.02%  101,520  1.20%  제한없음   단리\n",
       "392  KEB하나은행  행복Together정기예금  1.30%  1.10%  109,980  1.60%  제한없음   단리\n",
       "391  KEB하나은행     하나머니세상 정기예금  1.30%  1.10%  109,980  2.20%  제한없음   단리"
      ]
     },
     "execution_count": 53,
     "metadata": {},
     "output_type": "execute_result"
    }
   ],
   "source": [
    "# 오름차순 sorting \n",
    "금리낮은순서=이자율자료.sort_values(by='세전이자율', ascending=True) # ascending = True 사용\n",
    "금리낮은순서.head()"
   ]
  },
  {
   "cell_type": "markdown",
   "metadata": {},
   "source": [
    "# 신뢰구간"
   ]
  },
  {
   "cell_type": "code",
   "execution_count": 8,
   "metadata": {},
   "outputs": [
    {
     "data": {
      "text/plain": [
       "(0.029262908322237477, 0.06673709167776253)"
      ]
     },
     "execution_count": 8,
     "metadata": {},
     "output_type": "execute_result"
    }
   ],
   "source": [
    "import statsmodels.stats.proportion as smp\n",
    "\n",
    "ci=statsmodels.stats.proportion.proportion_confint(24, 500, alpha=0.05, method='normal')\n",
    "ci"
   ]
  },
  {
   "cell_type": "code",
   "execution_count": null,
   "metadata": {},
   "outputs": [],
   "source": []
  }
 ],
 "metadata": {
  "kernelspec": {
   "display_name": "Python 3",
   "language": "python",
   "name": "python3"
  },
  "language_info": {
   "codemirror_mode": {
    "name": "ipython",
    "version": 3
   },
   "file_extension": ".py",
   "mimetype": "text/x-python",
   "name": "python",
   "nbconvert_exporter": "python",
   "pygments_lexer": "ipython3",
   "version": "3.6.6"
  },
  "toc": {
   "base_numbering": 1,
   "nav_menu": {},
   "number_sections": true,
   "sideBar": true,
   "skip_h1_title": false,
   "title_cell": "Table of Contents",
   "title_sidebar": "Contents",
   "toc_cell": false,
   "toc_position": {},
   "toc_section_display": true,
   "toc_window_display": false
  },
  "varInspector": {
   "cols": {
    "lenName": 16,
    "lenType": 16,
    "lenVar": 40
   },
   "kernels_config": {
    "python": {
     "delete_cmd_postfix": "",
     "delete_cmd_prefix": "del ",
     "library": "var_list.py",
     "varRefreshCmd": "print(var_dic_list())"
    },
    "r": {
     "delete_cmd_postfix": ") ",
     "delete_cmd_prefix": "rm(",
     "library": "var_list.r",
     "varRefreshCmd": "cat(var_dic_list()) "
    }
   },
   "types_to_exclude": [
    "module",
    "function",
    "builtin_function_or_method",
    "instance",
    "_Feature"
   ],
   "window_display": false
  }
 },
 "nbformat": 4,
 "nbformat_minor": 2
}
