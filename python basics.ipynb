{
 "cells": [
  {
   "cell_type": "markdown",
   "metadata": {
    "heading_collapsed": true
   },
   "source": [
    "# data types and input"
   ]
  },
  {
   "cell_type": "code",
   "execution_count": 1,
   "metadata": {
    "hidden": true
   },
   "outputs": [
    {
     "name": "stdout",
     "output_type": "stream",
     "text": [
      "Kate Austen\n",
      "123 Full Circle Drive\n",
      "Asheville, NC 28899\n"
     ]
    }
   ],
   "source": [
    "print('Kate Austen')\n",
    "print('123 Full Circle Drive')\n",
    "print('Asheville, NC 28899')\n"
   ]
  },
  {
   "cell_type": "code",
   "execution_count": 2,
   "metadata": {
    "hidden": true
   },
   "outputs": [
    {
     "name": "stdout",
     "output_type": "stream",
     "text": [
      "Kate Austen\n",
      "123 Dharma Lane\n",
      "Asheville, NC 28899\n"
     ]
    }
   ],
   "source": [
    "print(\"Kate Austen\")\n",
    "print(\"123 Dharma Lane\")\n",
    "print(\"Asheville, NC 28899\")\n"
   ]
  },
  {
   "cell_type": "code",
   "execution_count": 3,
   "metadata": {
    "hidden": true
   },
   "outputs": [
    {
     "name": "stdout",
     "output_type": "stream",
     "text": [
      "Don't fear!\n",
      "I'm here!\n"
     ]
    }
   ],
   "source": [
    "print(\"Don't fear!\")\n",
    "print(\"I'm here!\")"
   ]
  },
  {
   "cell_type": "code",
   "execution_count": 4,
   "metadata": {
    "hidden": true
   },
   "outputs": [
    {
     "name": "stdout",
     "output_type": "stream",
     "text": [
      "Your assignment is to read \"Hamlet\" by tomorrow.\n"
     ]
    }
   ],
   "source": [
    "print('Your assignment is to read \"Hamlet\" by tomorrow.')"
   ]
  },
  {
   "cell_type": "code",
   "execution_count": 5,
   "metadata": {
    "hidden": true
   },
   "outputs": [
    {
     "name": "stdout",
     "output_type": "stream",
     "text": [
      "Kate Austen\n",
      "123 Full Circle Drive\n",
      "Asheville, NC 28899\n"
     ]
    }
   ],
   "source": [
    "# This program displays a person's name and address.\n",
    "print('Kate Austen')\n",
    "print('123 Full Circle Drive')\n",
    "print('Asheville, NC 28899')\n"
   ]
  },
  {
   "cell_type": "code",
   "execution_count": 33,
   "metadata": {
    "hidden": true
   },
   "outputs": [
    {
     "name": "stdout",
     "output_type": "stream",
     "text": [
      "이고려\n",
      "고려대학교 세종캠퍼스 재학생\n",
      "세종자치특별시 \n"
     ]
    }
   ],
   "source": [
    "# This program displays a person's name and address.\n",
    "print('이고려')\n",
    "print('고려대학교 세종캠퍼스 재학생')\n",
    "print('세종자치특별시 ')"
   ]
  },
  {
   "cell_type": "code",
   "execution_count": 6,
   "metadata": {
    "hidden": true
   },
   "outputs": [
    {
     "name": "stdout",
     "output_type": "stream",
     "text": [
      "Kate Austen\n",
      "123 Full Circle Drive\n",
      "Asheville, NC 28899\n"
     ]
    }
   ],
   "source": [
    "print('Kate Austen')           # Name\n",
    "print('123 Full Circle Drive') # Street address\n",
    "print('Asheville, NC 28899')   # City, state, and ZIP\n"
   ]
  },
  {
   "cell_type": "code",
   "execution_count": 7,
   "metadata": {
    "hidden": true
   },
   "outputs": [
    {
     "name": "stdout",
     "output_type": "stream",
     "text": [
      "I am staying in room number\n",
      "503\n"
     ]
    }
   ],
   "source": [
    "# This program demonstrates a variable.\n",
    "room = 503\n",
    "print('I am staying in room number')\n",
    "print(room)\n"
   ]
  },
  {
   "cell_type": "code",
   "execution_count": 34,
   "metadata": {
    "hidden": true
   },
   "outputs": [
    {
     "name": "stdout",
     "output_type": "stream",
     "text": [
      "제가 투숙하고 있는 방은 다음과 같습니다;\n",
      "503\n"
     ]
    }
   ],
   "source": [
    "# This program demonstrates a variable.\n",
    "room = 503\n",
    "print('제가 투숙하고 있는 방은 다음과 같습니다;')\n",
    "print(room)"
   ]
  },
  {
   "cell_type": "code",
   "execution_count": 8,
   "metadata": {
    "hidden": true
   },
   "outputs": [
    {
     "name": "stdout",
     "output_type": "stream",
     "text": [
      "The top speed is\n",
      "160\n",
      "The distance traveled is\n",
      "300\n"
     ]
    }
   ],
   "source": [
    "# Create two variables: top_speed and distance.\n",
    "top_speed = 160\n",
    "distance = 300\n",
    "\n",
    "# Display the values referenced by the variables.\n",
    "print('The top speed is')\n",
    "print(top_speed)\n",
    "print('The distance traveled is')\n",
    "print(distance)\n"
   ]
  },
  {
   "cell_type": "code",
   "execution_count": 9,
   "metadata": {
    "hidden": true
   },
   "outputs": [
    {
     "name": "stdout",
     "output_type": "stream",
     "text": [
      "I am staying in room number 503\n"
     ]
    }
   ],
   "source": [
    "# This program demonstrates a variable.\n",
    "room = 503\n",
    "print('I am staying in room number', room)\n"
   ]
  },
  {
   "cell_type": "code",
   "execution_count": 37,
   "metadata": {
    "hidden": true
   },
   "outputs": [
    {
     "name": "stdout",
     "output_type": "stream",
     "text": [
      "저는 503 호에 투숙하고 있습니다.\n"
     ]
    }
   ],
   "source": [
    "# This program demonstrates a variable.\n",
    "room = 503\n",
    "print('저는', room, '호에 투숙하고 있습니다.')"
   ]
  },
  {
   "cell_type": "code",
   "execution_count": 31,
   "metadata": {
    "hidden": true
   },
   "outputs": [
    {
     "name": "stdout",
     "output_type": "stream",
     "text": [
      "I have $ 2.75 in my account.\n",
      "But now I have $ 99.95 in my account!\n"
     ]
    }
   ],
   "source": [
    "# This program demonstrates variable reassignment.\n",
    "# Assign a value to the dollars variable.\n",
    "\n",
    "dollars = 2.75\n",
    "print('I have $', dollars, 'in my account.')\n",
    "\n",
    "# Reassign dollars so it references a different value.\n",
    "dollars = 99.95\n",
    "print('But now I have $', dollars, 'in my account!')\n"
   ]
  },
  {
   "cell_type": "code",
   "execution_count": 12,
   "metadata": {
    "hidden": true
   },
   "outputs": [
    {
     "name": "stdout",
     "output_type": "stream",
     "text": [
      "Kathryn Marino\n"
     ]
    }
   ],
   "source": [
    "# Create variables to reference two strings.\n",
    "first_name = 'Kathryn'\n",
    "last_name = 'Marino'\n",
    "\n",
    "# Display the values referenced by the variables.\n",
    "print(first_name, last_name)\n"
   ]
  },
  {
   "cell_type": "code",
   "execution_count": 2,
   "metadata": {
    "hidden": true
   },
   "outputs": [
    {
     "name": "stdout",
     "output_type": "stream",
     "text": [
      "Enter your name: 이고려\n",
      "Hello 이고려\n"
     ]
    }
   ],
   "source": [
    "# Get the user's first name.\n",
    "myname = input('Enter your name: ')\n",
    "\n",
    "# Print a greeting to the user.\n",
    "print('Hello', myname)"
   ]
  },
  {
   "cell_type": "code",
   "execution_count": 3,
   "metadata": {
    "hidden": true
   },
   "outputs": [
    {
     "name": "stdout",
     "output_type": "stream",
     "text": [
      "Enter your first name: Michael\n",
      "Enter your last name: Park\n",
      "Hello Michael Park\n"
     ]
    }
   ],
   "source": [
    "# Get the user's first name.\n",
    "first_name = input('Enter your first name: ')\n",
    "\n",
    "# Get the user's last name.\n",
    "last_name = input('Enter your last name: ')\n",
    "\n",
    "# Print a greeting to the user.\n",
    "print('Hello', first_name, last_name)\n"
   ]
  },
  {
   "cell_type": "code",
   "execution_count": 8,
   "metadata": {
    "hidden": true
   },
   "outputs": [
    {
     "name": "stdout",
     "output_type": "stream",
     "text": [
      "What is your name? John Lee\n",
      "What is your age? 30\n",
      "What is your income? 3000000\n",
      "\n",
      "Here is the data you entered:\n",
      "Name: John Lee\n",
      "Age: 30\n",
      "Income: 3000000.0\n"
     ]
    }
   ],
   "source": [
    "name = input('What is your name? ')\n",
    "age = int(input('What is your age? '))\n",
    "income = float(input('What is your income? '))\n",
    "print()\n",
    "\n",
    "# Display the data.\n",
    "print('Here is the data you entered:')\n",
    "print('Name:', name)\n",
    "print('Age:', age)\n",
    "print('Income:', income)"
   ]
  },
  {
   "cell_type": "code",
   "execution_count": 14,
   "metadata": {
    "hidden": true
   },
   "outputs": [
    {
     "name": "stdout",
     "output_type": "stream",
     "text": [
      "Your pay is 3700.0\n"
     ]
    }
   ],
   "source": [
    "# Assign a value to the salary variable.\n",
    "salary = 2500.0\n",
    "\n",
    "# Assign a value to the bonus variable.\n",
    "bonus = 1200.0\n",
    "\n",
    "# Calculate the total pay by adding salary and bonus. Assign the result to pay.\n",
    "pay = salary + bonus\n",
    "\n",
    "# Display the pay.\n",
    "print('Your pay is', pay)\n"
   ]
  },
  {
   "cell_type": "code",
   "execution_count": 38,
   "metadata": {
    "hidden": true
   },
   "outputs": [
    {
     "name": "stdout",
     "output_type": "stream",
     "text": [
      "Enter the item's original price: 5000\n",
      "The sale price is 4000.0\n"
     ]
    }
   ],
   "source": [
    "# 할인율이 20%인 경우 정가에서 할인가격 계산하기.\n",
    "\n",
    "# Get the item's original price.\n",
    "price = float(input(\"Enter the item's original price: \"))\n",
    "\n",
    "# Calculate the amount of the discount.\n",
    "discount = price * 0.2\n",
    "\n",
    "# Calculate the sale price.\n",
    "sale_price = price - discount\n",
    "\n",
    "# Display the sale price.\n",
    "print('The sale price is', sale_price)\n"
   ]
  },
  {
   "cell_type": "code",
   "execution_count": 24,
   "metadata": {
    "hidden": true
   },
   "outputs": [
    {
     "name": "stdout",
     "output_type": "stream",
     "text": [
      "첫번째 시험점수를 입력하시오: 88\n",
      "두번째 시험점수를 입력하시오: 79\n",
      "세번째 시험점수를 입력하시오: 70\n",
      "평균점수는 79.0 입니다.\n"
     ]
    }
   ],
   "source": [
    "# Get three test scores and assign them to the test1, test2, and test3 variables.\n",
    "\n",
    "시험1 = float(input('첫번째 시험점수를 입력하시오: '))\n",
    "시험2 = float(input('두번째 시험점수를 입력하시오: '))\n",
    "시험3 = float(input('세번째 시험점수를 입력하시오: '))\n",
    "\n",
    "# Calculate the average of the three scores and assign the result to the average variable.\n",
    "평균 = (시험1+시험2+시험3) / 3.0\n",
    "\n",
    "# Display the average.\n",
    "print('평균점수는', 평균, '입니다.')\n"
   ]
  },
  {
   "cell_type": "code",
   "execution_count": 19,
   "metadata": {
    "hidden": true
   },
   "outputs": [
    {
     "name": "stdout",
     "output_type": "stream",
     "text": [
      "Enter a number of seconds: 9555\n",
      "Here is the time in hours, minutes, and seconds:\n",
      "Hours: 2.0\n",
      "Minutes: 39.0\n",
      "Seconds: 15.0\n"
     ]
    }
   ],
   "source": [
    "# Get a number of seconds from the user.\n",
    "total_seconds = float(input('Enter a number of seconds: '))\n",
    "\n",
    "# Get the number of hours.\n",
    "hours = total_seconds // 3600\n",
    "\n",
    "# Get the number of remaining minutes.\n",
    "minutes = (total_seconds // 60) % 60\n",
    "\n",
    "# Get the number of remaining seconds.\n",
    "seconds = total_seconds % 60\n",
    "\n",
    "# Display the results.\n",
    "print('Here is the time in hours, minutes, and seconds:')\n",
    "print('Hours:', hours)\n",
    "print('Minutes:', minutes)\n",
    "print('Seconds:', seconds)\n"
   ]
  },
  {
   "cell_type": "code",
   "execution_count": null,
   "metadata": {
    "hidden": true
   },
   "outputs": [],
   "source": [
    "# 원금을 입력한다\n",
    "\n",
    "pv = float(input('원금을 입력하시오: '))\n",
    "\n",
    "# 연이자율을 입력한다\n",
    "rate = float(input('이자율을 소수로 입력하시오: '))\n",
    "\n",
    "# 연간 복리횟수를 입력한다\n",
    "m = int(input('연간 복리횟수(예; 월복리인 경우 12)를 입력하시오: '))\n",
    "\n",
    "# Get the number of years that the money will appreciate.\n",
    "\n",
    "years = eval(input('만기를 연단위로 입력하시오: '))\n",
    "\n",
    "# 월복리 가정시 미래 원리금합계를 계산한다\n",
    "fv=pv*((1+rate/m)**(m*years))\n",
    "\n",
    "# Display the amount needed to deposit.\n",
    "print('원금', str(pv)+'의 원리금 합계는' , fv, '입니다.')\n"
   ]
  },
  {
   "cell_type": "code",
   "execution_count": 7,
   "metadata": {
    "hidden": true
   },
   "outputs": [
    {
     "name": "stdout",
     "output_type": "stream",
     "text": [
      "The monthly payment is 416.67\n"
     ]
    }
   ],
   "source": [
    "# This program demonstrates how a floating-point number can be formatted.\n",
    "amount_due = 5000.0\n",
    "monthly_payment = amount_due / 12\n",
    "print('The monthly payment is', format(monthly_payment, '.2f'))"
   ]
  },
  {
   "cell_type": "code",
   "execution_count": 29,
   "metadata": {
    "hidden": true
   },
   "outputs": [
    {
     "name": "stdout",
     "output_type": "stream",
     "text": [
      "Your annual pay is $60,000.00\n"
     ]
    }
   ],
   "source": [
    "# This program demonstrates how a floating-point number can be displayed as currency.\n",
    "monthly_pay = 5000.0\n",
    "annual_pay = monthly_pay * 12\n",
    "print('Your annual pay is $', format(annual_pay, ',.2f'),  sep='')\n"
   ]
  },
  {
   "cell_type": "code",
   "execution_count": 30,
   "metadata": {
    "hidden": true
   },
   "outputs": [
    {
     "name": "stdout",
     "output_type": "stream",
     "text": [
      "Your annual pay is $ 60,000.00\n"
     ]
    }
   ],
   "source": [
    "# This program demonstrates how a floating-point number can be displayed as currency.\n",
    "monthly_pay = 5000.0\n",
    "annual_pay = monthly_pay * 12\n",
    "print('Your annual pay is $', format(annual_pay, ',.2f'))"
   ]
  },
  {
   "cell_type": "code",
   "execution_count": 22,
   "metadata": {
    "hidden": true
   },
   "outputs": [
    {
     "name": "stdout",
     "output_type": "stream",
     "text": [
      " 127.90\n",
      "3465.15\n",
      "   3.78\n",
      " 264.82\n",
      "  88.08\n",
      " 800.00\n"
     ]
    }
   ],
   "source": [
    "# This program displays the following floating-point numbers in a column with their decimal points aligned.\n",
    "num1 = 127.899\n",
    "num2 = 3465.148\n",
    "num3 = 3.776\n",
    "num4 = 264.821\n",
    "num5 = 88.081\n",
    "num6 = 799.999\n",
    "\n",
    "# Display each number in a field of 7 spaces with 2 decimal places.\n",
    "print(format(num1, '7.2f'))\n",
    "print(format(num2, '7.2f'))\n",
    "print(format(num3, '7.2f'))\n",
    "print(format(num4, '7.2f'))\n",
    "print(format(num5, '7.2f'))\n",
    "print(format(num6, '7.2f'))\n"
   ]
  },
  {
   "cell_type": "code",
   "execution_count": 1,
   "metadata": {
    "hidden": true
   },
   "outputs": [
    {
     "name": "stdout",
     "output_type": "stream",
     "text": [
      "One\n",
      "Two\n",
      "Three\n"
     ]
    }
   ],
   "source": [
    "print('One')\n",
    "print('Two')\n",
    "print('Three')"
   ]
  },
  {
   "cell_type": "code",
   "execution_count": 2,
   "metadata": {
    "hidden": true
   },
   "outputs": [
    {
     "name": "stdout",
     "output_type": "stream",
     "text": [
      "One Two Three\n"
     ]
    }
   ],
   "source": [
    "print('One', end=' ')\n",
    "print('Two', end=' ')\n",
    "print('Three')"
   ]
  },
  {
   "cell_type": "code",
   "execution_count": 3,
   "metadata": {
    "hidden": true
   },
   "outputs": [
    {
     "name": "stdout",
     "output_type": "stream",
     "text": [
      "OneTwoThree\n"
     ]
    }
   ],
   "source": [
    "print('One', end='')\n",
    "print('Two', end='')\n",
    "print('Three')"
   ]
  },
  {
   "cell_type": "code",
   "execution_count": 4,
   "metadata": {
    "hidden": true
   },
   "outputs": [
    {
     "name": "stdout",
     "output_type": "stream",
     "text": [
      "OneTwoThree\n"
     ]
    }
   ],
   "source": [
    "print('One', 'Two', 'Three', sep='')"
   ]
  },
  {
   "cell_type": "code",
   "execution_count": 5,
   "metadata": {
    "hidden": true
   },
   "outputs": [
    {
     "name": "stdout",
     "output_type": "stream",
     "text": [
      "One*Two*Three\n"
     ]
    }
   ],
   "source": [
    "print('One', 'Two', 'Three', sep='*')"
   ]
  },
  {
   "cell_type": "code",
   "execution_count": 6,
   "metadata": {
    "hidden": true
   },
   "outputs": [
    {
     "name": "stdout",
     "output_type": "stream",
     "text": [
      "One~~~Two~~~Three\n"
     ]
    }
   ],
   "source": [
    "print('One', 'Two', 'Three', sep='~~~')"
   ]
  },
  {
   "cell_type": "code",
   "execution_count": null,
   "metadata": {
    "hidden": true
   },
   "outputs": [],
   "source": []
  },
  {
   "cell_type": "code",
   "execution_count": null,
   "metadata": {
    "hidden": true
   },
   "outputs": [],
   "source": []
  },
  {
   "cell_type": "code",
   "execution_count": null,
   "metadata": {
    "hidden": true
   },
   "outputs": [],
   "source": []
  },
  {
   "cell_type": "code",
   "execution_count": null,
   "metadata": {
    "hidden": true
   },
   "outputs": [],
   "source": []
  },
  {
   "cell_type": "code",
   "execution_count": null,
   "metadata": {
    "hidden": true
   },
   "outputs": [],
   "source": []
  },
  {
   "cell_type": "code",
   "execution_count": null,
   "metadata": {
    "hidden": true
   },
   "outputs": [],
   "source": [
    "a = int(input('첫 번째 숫자를 입력하세요: '))    # int를 사용하여 입력 값을 정수로 변환\n",
    "b = int(input('두 번째 숫자를 입력하세요: '))    # int를 사용하여 입력 값을 정수로 변환\n",
    " \n",
    "a*b"
   ]
  },
  {
   "cell_type": "code",
   "execution_count": 176,
   "metadata": {
    "hidden": true
   },
   "outputs": [
    {
     "name": "stdout",
     "output_type": "stream",
     "text": [
      "4\n"
     ]
    },
    {
     "data": {
      "text/plain": [
       "'4'"
      ]
     },
     "execution_count": 176,
     "metadata": {},
     "output_type": "execute_result"
    }
   ],
   "source": [
    "a = input()\n",
    "a"
   ]
  },
  {
   "cell_type": "code",
   "execution_count": 174,
   "metadata": {
    "hidden": true
   },
   "outputs": [
    {
     "name": "stdout",
     "output_type": "stream",
     "text": [
      "2\n",
      "3\n"
     ]
    },
    {
     "data": {
      "text/plain": [
       "6"
      ]
     },
     "execution_count": 174,
     "metadata": {},
     "output_type": "execute_result"
    }
   ],
   "source": [
    "a = int(input())    # int를 사용하여 입력 값을 정수로 변환\n",
    "b = int(input())   # int를 사용하여 입력 값을 정수로 변환\n",
    " \n",
    "a*b"
   ]
  },
  {
   "cell_type": "code",
   "execution_count": null,
   "metadata": {
    "hidden": true
   },
   "outputs": [],
   "source": [
    "a = input('문자열을 입력하세요: ')  \n",
    "a"
   ]
  },
  {
   "cell_type": "code",
   "execution_count": null,
   "metadata": {
    "hidden": true
   },
   "outputs": [],
   "source": [
    "a = int(input())    # int를 사용하여 입력 값을 정수로 변환\n",
    "b = int(input())    # int를 사용하여 입력 값을 정수로 변환\n",
    " \n",
    "a*b"
   ]
  },
  {
   "cell_type": "code",
   "execution_count": 32,
   "metadata": {
    "hidden": true
   },
   "outputs": [
    {
     "name": "stdout",
     "output_type": "stream",
     "text": [
      "이자율을 입력하세요: 0.02\n"
     ]
    },
    {
     "data": {
      "text/plain": [
       "2"
      ]
     },
     "execution_count": 32,
     "metadata": {},
     "output_type": "execute_result"
    }
   ],
   "source": [
    "c = eval(input('이자율을 입력하세요: '))    # eval를 사용하여 입력 값을 수로 변환\n",
    "이자=100*c\n",
    "이자"
   ]
  },
  {
   "cell_type": "code",
   "execution_count": 5,
   "metadata": {
    "hidden": true
   },
   "outputs": [
    {
     "name": "stdout",
     "output_type": "stream",
     "text": [
      "허어\n"
     ]
    },
    {
     "data": {
      "text/plain": [
       "'허어'"
      ]
     },
     "execution_count": 5,
     "metadata": {},
     "output_type": "execute_result"
    }
   ],
   "source": [
    "a = input()  \n",
    "a"
   ]
  },
  {
   "cell_type": "code",
   "execution_count": 16,
   "metadata": {
    "hidden": true
   },
   "outputs": [],
   "source": [
    "file=open('test2.txt','r')"
   ]
  },
  {
   "cell_type": "code",
   "execution_count": 30,
   "metadata": {
    "hidden": true
   },
   "outputs": [
    {
     "name": "stdout",
     "output_type": "stream",
     "text": [
      "When in the Course of human events, it becomes necessary for one people to dissolve the political bands which have connected them with another, and to assume among the powers of the earth, the separate and equal station to which the Laws of Nature and of Nature's God entitle them, a decent respect to the opinions of mankind requires that they should declare the causes which impel them to the separation.\n",
      "\n"
     ]
    }
   ],
   "source": [
    "file=open('test2.txt','r')\n",
    "line1=file.readline()\n",
    "print(line1)"
   ]
  },
  {
   "cell_type": "code",
   "execution_count": 32,
   "metadata": {
    "hidden": true
   },
   "outputs": [
    {
     "name": "stdout",
     "output_type": "stream",
     "text": [
      "When in the Course of human events, it becomes necessary for one people to dissolve the political bands which have connected them with another, and to assume among the powers of the earth, the separate and equal station to which the Laws of Nature and of Nature's God entitle them, a decent respect to the opinions of mankind requires that they should declare the causes which impel them to the separation.\n",
      "\n",
      "\n",
      "\n",
      "We hold these truths to be self-evident, that all men are created equal, that they are endowed by their Creator with certain unalienable Rights, that among these are Life, Liberty and the pursuit of Happiness.--That to secure these rights, Governments are instituted among Men, deriving their just powers from the consent of the governed, --That whenever any Form of Government becomes destructive of these ends, it is the Right of the People to alter or to abolish it, and to institute new Government, laying its foundation on such principles and organizing its powers in such form, as to them shall seem most likely to effect their Safety and Happiness. Prudence, indeed, will dictate that Governments long established should not be changed for light and transient causes; and accordingly all experience hath shewn, that mankind are more disposed to suffer, while evils are sufferable, than to right themselves by abolishing the forms to which they are accustomed. But when a long train of abuses and usurpations, pursuing invariably the same Object evinces a design to reduce them under absolute Despotism, it is their right, it is their duty, to throw off such Government, and to provide new Guards for their future security.--Such has been the patient sufferance of these Colonies; and such is now the necessity which constrains them to alter their former Systems of Government. The history of the present King of Great Britain is a history of repeated injuries and usurpations, all having in direct object the establishment of an absolute Tyranny over these States. To prove this, let Facts be submitted to a candid world.\n",
      "\n",
      "\n",
      "\n",
      "He has refused his Assent to Laws, the most wholesome and necessary for the public good.\n",
      "\n",
      "\n",
      "\n",
      "He has forbidden his Governors to pass Laws of immediate and pressing importance, unless suspended in their operation till his Assent should be obtained; and when so suspended, he has utterly neglected to attend to them.\n",
      "\n",
      "\n",
      "\n",
      "He has refused to pass other Laws for the accommodation of large districts of people, unless those people would relinquish the right of Representation in the Legislature, a right inestimable to them and formidable to tyrants only.\n",
      "\n",
      "\n",
      "\n",
      "He has called together legislative bodies at places unusual, uncomfortable, and distant from the depository of their public Records, for the sole purpose of fatiguing them into compliance with his measures.\n",
      "\n",
      "\n",
      "\n",
      "He has dissolved Representative Houses repeatedly, for opposing with manly firmness his invasions on the rights of the people.\n",
      "\n",
      "\n",
      "\n",
      "He has refused for a long time, after such dissolutions, to cause others to be elected; whereby the Legislative powers, incapable of Annihilation, have returned to the People at large for their exercise; the State remaining in the mean time exposed to all the dangers of invasion from without, and convulsions within.\n",
      "\n",
      "\n",
      "\n",
      "He has endeavoured to prevent the population of these States; for that purpose obstructing the Laws for Naturalization of Foreigners; refusing to pass others to encourage their migrations hither, and raising the conditions of new Appropriations of Lands.\n",
      "\n",
      "\n",
      "\n",
      "He has obstructed the Administration of Justice, by refusing his Assent to Laws for establishing Judiciary powers.\n",
      "\n",
      "\n",
      "\n",
      "He has made Judges dependent on his Will alone, for the tenure of their offices, and the amount and payment of their salaries.\n",
      "\n",
      "\n",
      "\n",
      "He has erected a multitude of New Offices, and sent hither swarms of Officers to harrass our people, and eat out their substance.\n",
      "\n",
      "\n",
      "\n",
      "He has kept among us, in times of peace, Standing Armies without the Consent of our legislatures.\n",
      "\n",
      "\n",
      "\n",
      "He has affected to render the Military independent of and superior to the Civil power.\n",
      "\n",
      "\n",
      "\n",
      "He has combined with others to subject us to a jurisdiction foreign to our constitution, and unacknowledged by our laws; giving his Assent to their Acts of pretended Legislation:\n",
      "\n",
      "\n",
      "\n",
      "For Quartering large bodies of armed troops among us:\n",
      "\n",
      "\n",
      "\n",
      "For protecting them, by a mock Trial, from punishment for any Murders which they should commit on the Inhabitants of these States:\n",
      "\n",
      "\n",
      "\n",
      "For cutting off our Trade with all parts of the world:\n",
      "\n",
      "\n",
      "\n",
      "For imposing Taxes on us without our Consent:\n",
      "\n",
      "\n",
      "\n",
      "For depriving us in many cases, of the benefits of Trial by Jury:\n",
      "\n",
      "\n",
      "\n",
      "For transporting us beyond Seas to be tried for pretended offences\n",
      "\n",
      "\n",
      "\n",
      "For abolishing the free System of English Laws in a neighbouring Province, establishing therein an Arbitrary government, and enlarging its Boundaries so as to render it at once an example and fit instrument for introducing the same absolute rule into these Colonies:\n",
      "\n",
      "\n",
      "\n",
      "For taking away our Charters, abolishing our most valuable Laws, and altering fundamentally the Forms of our Governments:\n",
      "\n",
      "\n",
      "\n",
      "For suspending our own Legislatures, and declaring themselves invested with power to legislate for us in all cases whatsoever.\n",
      "\n",
      "\n",
      "\n",
      "He has abdicated Government here, by declaring us out of his Protection and waging War against us.\n",
      "\n",
      "\n",
      "\n",
      "He has plundered our seas, ravaged our Coasts, burnt our towns, and destroyed the lives of our people.\n",
      "\n",
      "\n",
      "\n",
      "He is at this time transporting large Armies of foreign Mercenaries to compleat the works of death, desolation and tyranny, already begun with circumstances of Cruelty & perfidy scarcely paralleled in the most barbarous ages, and totally unworthy the Head of a civilized nation.\n",
      "\n",
      "\n",
      "\n",
      "He has constrained our fellow Citizens taken Captive on the high Seas to bear Arms against their Country, to become the executioners of their friends and Brethren, or to fall themselves by their Hands.\n",
      "\n",
      "\n",
      "\n",
      "He has excited domestic insurrections amongst us, and has endeavoured to bring on the inhabitants of our frontiers, the merciless Indian Savages, whose known rule of warfare, is an undistinguished destruction of all ages, sexes and conditions.\n",
      "\n",
      "\n",
      "\n",
      "In every stage of these Oppressions We have Petitioned for Redress in the most humble terms: Our repeated Petitions have been answered only by repeated injury. A Prince whose character is thus marked by every act which may define a Tyrant, is unfit to be the ruler of a free people.\n",
      "\n",
      "\n",
      "\n",
      "Nor have We been wanting in attentions to our Brittish brethren. We have warned them from time to time of attempts by their legislature to extend an unwarrantable jurisdiction over us. We have reminded them of the circumstances of our emigration and settlement here. We have appealed to their native justice and magnanimity, and we have conjured them by the ties of our common kindred to disavow these usurpations, which, would inevitably interrupt our connections and correspondence. They too have been deaf to the voice of justice and of consanguinity. We must, therefore, acquiesce in the necessity, which denounces our Separation, and hold them, as we hold the rest of mankind, Enemies in War, in Peace Friends.\n",
      "\n",
      "\n",
      "\n",
      "We, therefore, the Representatives of the United States of America, in General Congress, Assembled, appealing to the Supreme Judge of the world for the rectitude of our intentions, do, in the Name, and by Authority of the good People of these Colonies, solemnly publish and declare, That these United Colonies are, and of Right ought to be Free and Independent States; that they are Absolved from all Allegiance to the British Crown, and that all political connection between them and the State of Great Britain, is and ought to be totally dissolved; and that as Free and Independent States, they have full Power to levy War, conclude Peace, contract Alliances, establish Commerce, and to do all other Acts and Things which Independent States may of right do. And for the support of this Declaration, with a firm reliance on the protection of divine Providence, we mutually pledge to each other our Lives, our Fortunes and our sacred Honor.\n"
     ]
    }
   ],
   "source": [
    "file=open('test2.txt','r')\n",
    "while True:\n",
    "    lines = file.readline()\n",
    "    if not lines: break\n",
    "    print(lines)"
   ]
  },
  {
   "cell_type": "code",
   "execution_count": 34,
   "metadata": {
    "hidden": true
   },
   "outputs": [
    {
     "name": "stdout",
     "output_type": "stream",
     "text": [
      "[\"When in the Course of human events, it becomes necessary for one people to dissolve the political bands which have connected them with another, and to assume among the powers of the earth, the separate and equal station to which the Laws of Nature and of Nature's God entitle them, a decent respect to the opinions of mankind requires that they should declare the causes which impel them to the separation.\\n\", '\\n', 'We hold these truths to be self-evident, that all men are created equal, that they are endowed by their Creator with certain unalienable Rights, that among these are Life, Liberty and the pursuit of Happiness.--That to secure these rights, Governments are instituted among Men, deriving their just powers from the consent of the governed, --That whenever any Form of Government becomes destructive of these ends, it is the Right of the People to alter or to abolish it, and to institute new Government, laying its foundation on such principles and organizing its powers in such form, as to them shall seem most likely to effect their Safety and Happiness. Prudence, indeed, will dictate that Governments long established should not be changed for light and transient causes; and accordingly all experience hath shewn, that mankind are more disposed to suffer, while evils are sufferable, than to right themselves by abolishing the forms to which they are accustomed. But when a long train of abuses and usurpations, pursuing invariably the same Object evinces a design to reduce them under absolute Despotism, it is their right, it is their duty, to throw off such Government, and to provide new Guards for their future security.--Such has been the patient sufferance of these Colonies; and such is now the necessity which constrains them to alter their former Systems of Government. The history of the present King of Great Britain is a history of repeated injuries and usurpations, all having in direct object the establishment of an absolute Tyranny over these States. To prove this, let Facts be submitted to a candid world.\\n', '\\n', 'He has refused his Assent to Laws, the most wholesome and necessary for the public good.\\n', '\\n', 'He has forbidden his Governors to pass Laws of immediate and pressing importance, unless suspended in their operation till his Assent should be obtained; and when so suspended, he has utterly neglected to attend to them.\\n', '\\n', 'He has refused to pass other Laws for the accommodation of large districts of people, unless those people would relinquish the right of Representation in the Legislature, a right inestimable to them and formidable to tyrants only.\\n', '\\n', 'He has called together legislative bodies at places unusual, uncomfortable, and distant from the depository of their public Records, for the sole purpose of fatiguing them into compliance with his measures.\\n', '\\n', 'He has dissolved Representative Houses repeatedly, for opposing with manly firmness his invasions on the rights of the people.\\n', '\\n', 'He has refused for a long time, after such dissolutions, to cause others to be elected; whereby the Legislative powers, incapable of Annihilation, have returned to the People at large for their exercise; the State remaining in the mean time exposed to all the dangers of invasion from without, and convulsions within.\\n', '\\n', 'He has endeavoured to prevent the population of these States; for that purpose obstructing the Laws for Naturalization of Foreigners; refusing to pass others to encourage their migrations hither, and raising the conditions of new Appropriations of Lands.\\n', '\\n', 'He has obstructed the Administration of Justice, by refusing his Assent to Laws for establishing Judiciary powers.\\n', '\\n', 'He has made Judges dependent on his Will alone, for the tenure of their offices, and the amount and payment of their salaries.\\n', '\\n', 'He has erected a multitude of New Offices, and sent hither swarms of Officers to harrass our people, and eat out their substance.\\n', '\\n', 'He has kept among us, in times of peace, Standing Armies without the Consent of our legislatures.\\n', '\\n', 'He has affected to render the Military independent of and superior to the Civil power.\\n', '\\n', 'He has combined with others to subject us to a jurisdiction foreign to our constitution, and unacknowledged by our laws; giving his Assent to their Acts of pretended Legislation:\\n', '\\n', 'For Quartering large bodies of armed troops among us:\\n', '\\n', 'For protecting them, by a mock Trial, from punishment for any Murders which they should commit on the Inhabitants of these States:\\n', '\\n', 'For cutting off our Trade with all parts of the world:\\n', '\\n', 'For imposing Taxes on us without our Consent:\\n', '\\n', 'For depriving us in many cases, of the benefits of Trial by Jury:\\n', '\\n', 'For transporting us beyond Seas to be tried for pretended offences\\n', '\\n', 'For abolishing the free System of English Laws in a neighbouring Province, establishing therein an Arbitrary government, and enlarging its Boundaries so as to render it at once an example and fit instrument for introducing the same absolute rule into these Colonies:\\n', '\\n', 'For taking away our Charters, abolishing our most valuable Laws, and altering fundamentally the Forms of our Governments:\\n', '\\n', 'For suspending our own Legislatures, and declaring themselves invested with power to legislate for us in all cases whatsoever.\\n', '\\n', 'He has abdicated Government here, by declaring us out of his Protection and waging War against us.\\n', '\\n', 'He has plundered our seas, ravaged our Coasts, burnt our towns, and destroyed the lives of our people.\\n', '\\n', 'He is at this time transporting large Armies of foreign Mercenaries to compleat the works of death, desolation and tyranny, already begun with circumstances of Cruelty & perfidy scarcely paralleled in the most barbarous ages, and totally unworthy the Head of a civilized nation.\\n', '\\n', 'He has constrained our fellow Citizens taken Captive on the high Seas to bear Arms against their Country, to become the executioners of their friends and Brethren, or to fall themselves by their Hands.\\n', '\\n', 'He has excited domestic insurrections amongst us, and has endeavoured to bring on the inhabitants of our frontiers, the merciless Indian Savages, whose known rule of warfare, is an undistinguished destruction of all ages, sexes and conditions.\\n', '\\n', 'In every stage of these Oppressions We have Petitioned for Redress in the most humble terms: Our repeated Petitions have been answered only by repeated injury. A Prince whose character is thus marked by every act which may define a Tyrant, is unfit to be the ruler of a free people.\\n', '\\n', 'Nor have We been wanting in attentions to our Brittish brethren. We have warned them from time to time of attempts by their legislature to extend an unwarrantable jurisdiction over us. We have reminded them of the circumstances of our emigration and settlement here. We have appealed to their native justice and magnanimity, and we have conjured them by the ties of our common kindred to disavow these usurpations, which, would inevitably interrupt our connections and correspondence. They too have been deaf to the voice of justice and of consanguinity. We must, therefore, acquiesce in the necessity, which denounces our Separation, and hold them, as we hold the rest of mankind, Enemies in War, in Peace Friends.\\n', '\\n', 'We, therefore, the Representatives of the United States of America, in General Congress, Assembled, appealing to the Supreme Judge of the world for the rectitude of our intentions, do, in the Name, and by Authority of the good People of these Colonies, solemnly publish and declare, That these United Colonies are, and of Right ought to be Free and Independent States; that they are Absolved from all Allegiance to the British Crown, and that all political connection between them and the State of Great Britain, is and ought to be totally dissolved; and that as Free and Independent States, they have full Power to levy War, conclude Peace, contract Alliances, establish Commerce, and to do all other Acts and Things which Independent States may of right do. And for the support of this Declaration, with a firm reliance on the protection of divine Providence, we mutually pledge to each other our Lives, our Fortunes and our sacred Honor.']\n",
      "[\"When in the Course of human events, it becomes necessary for one people to dissolve the political bands which have connected them with another, and to assume among the powers of the earth, the separate and equal station to which the Laws of Nature and of Nature's God entitle them, a decent respect to the opinions of mankind requires that they should declare the causes which impel them to the separation.\\n\", '\\n', 'We hold these truths to be self-evident, that all men are created equal, that they are endowed by their Creator with certain unalienable Rights, that among these are Life, Liberty and the pursuit of Happiness.--That to secure these rights, Governments are instituted among Men, deriving their just powers from the consent of the governed, --That whenever any Form of Government becomes destructive of these ends, it is the Right of the People to alter or to abolish it, and to institute new Government, laying its foundation on such principles and organizing its powers in such form, as to them shall seem most likely to effect their Safety and Happiness. Prudence, indeed, will dictate that Governments long established should not be changed for light and transient causes; and accordingly all experience hath shewn, that mankind are more disposed to suffer, while evils are sufferable, than to right themselves by abolishing the forms to which they are accustomed. But when a long train of abuses and usurpations, pursuing invariably the same Object evinces a design to reduce them under absolute Despotism, it is their right, it is their duty, to throw off such Government, and to provide new Guards for their future security.--Such has been the patient sufferance of these Colonies; and such is now the necessity which constrains them to alter their former Systems of Government. The history of the present King of Great Britain is a history of repeated injuries and usurpations, all having in direct object the establishment of an absolute Tyranny over these States. To prove this, let Facts be submitted to a candid world.\\n', '\\n', 'He has refused his Assent to Laws, the most wholesome and necessary for the public good.\\n', '\\n', 'He has forbidden his Governors to pass Laws of immediate and pressing importance, unless suspended in their operation till his Assent should be obtained; and when so suspended, he has utterly neglected to attend to them.\\n', '\\n', 'He has refused to pass other Laws for the accommodation of large districts of people, unless those people would relinquish the right of Representation in the Legislature, a right inestimable to them and formidable to tyrants only.\\n', '\\n', 'He has called together legislative bodies at places unusual, uncomfortable, and distant from the depository of their public Records, for the sole purpose of fatiguing them into compliance with his measures.\\n', '\\n', 'He has dissolved Representative Houses repeatedly, for opposing with manly firmness his invasions on the rights of the people.\\n', '\\n', 'He has refused for a long time, after such dissolutions, to cause others to be elected; whereby the Legislative powers, incapable of Annihilation, have returned to the People at large for their exercise; the State remaining in the mean time exposed to all the dangers of invasion from without, and convulsions within.\\n', '\\n', 'He has endeavoured to prevent the population of these States; for that purpose obstructing the Laws for Naturalization of Foreigners; refusing to pass others to encourage their migrations hither, and raising the conditions of new Appropriations of Lands.\\n', '\\n', 'He has obstructed the Administration of Justice, by refusing his Assent to Laws for establishing Judiciary powers.\\n', '\\n', 'He has made Judges dependent on his Will alone, for the tenure of their offices, and the amount and payment of their salaries.\\n', '\\n', 'He has erected a multitude of New Offices, and sent hither swarms of Officers to harrass our people, and eat out their substance.\\n', '\\n', 'He has kept among us, in times of peace, Standing Armies without the Consent of our legislatures.\\n', '\\n', 'He has affected to render the Military independent of and superior to the Civil power.\\n', '\\n', 'He has combined with others to subject us to a jurisdiction foreign to our constitution, and unacknowledged by our laws; giving his Assent to their Acts of pretended Legislation:\\n', '\\n', 'For Quartering large bodies of armed troops among us:\\n', '\\n', 'For protecting them, by a mock Trial, from punishment for any Murders which they should commit on the Inhabitants of these States:\\n', '\\n', 'For cutting off our Trade with all parts of the world:\\n', '\\n', 'For imposing Taxes on us without our Consent:\\n', '\\n', 'For depriving us in many cases, of the benefits of Trial by Jury:\\n', '\\n', 'For transporting us beyond Seas to be tried for pretended offences\\n', '\\n', 'For abolishing the free System of English Laws in a neighbouring Province, establishing therein an Arbitrary government, and enlarging its Boundaries so as to render it at once an example and fit instrument for introducing the same absolute rule into these Colonies:\\n', '\\n', 'For taking away our Charters, abolishing our most valuable Laws, and altering fundamentally the Forms of our Governments:\\n', '\\n', 'For suspending our own Legislatures, and declaring themselves invested with power to legislate for us in all cases whatsoever.\\n', '\\n', 'He has abdicated Government here, by declaring us out of his Protection and waging War against us.\\n', '\\n', 'He has plundered our seas, ravaged our Coasts, burnt our towns, and destroyed the lives of our people.\\n', '\\n', 'He is at this time transporting large Armies of foreign Mercenaries to compleat the works of death, desolation and tyranny, already begun with circumstances of Cruelty & perfidy scarcely paralleled in the most barbarous ages, and totally unworthy the Head of a civilized nation.\\n', '\\n', 'He has constrained our fellow Citizens taken Captive on the high Seas to bear Arms against their Country, to become the executioners of their friends and Brethren, or to fall themselves by their Hands.\\n', '\\n', 'He has excited domestic insurrections amongst us, and has endeavoured to bring on the inhabitants of our frontiers, the merciless Indian Savages, whose known rule of warfare, is an undistinguished destruction of all ages, sexes and conditions.\\n', '\\n', 'In every stage of these Oppressions We have Petitioned for Redress in the most humble terms: Our repeated Petitions have been answered only by repeated injury. A Prince whose character is thus marked by every act which may define a Tyrant, is unfit to be the ruler of a free people.\\n', '\\n', 'Nor have We been wanting in attentions to our Brittish brethren. We have warned them from time to time of attempts by their legislature to extend an unwarrantable jurisdiction over us. We have reminded them of the circumstances of our emigration and settlement here. We have appealed to their native justice and magnanimity, and we have conjured them by the ties of our common kindred to disavow these usurpations, which, would inevitably interrupt our connections and correspondence. They too have been deaf to the voice of justice and of consanguinity. We must, therefore, acquiesce in the necessity, which denounces our Separation, and hold them, as we hold the rest of mankind, Enemies in War, in Peace Friends.\\n', '\\n', 'We, therefore, the Representatives of the United States of America, in General Congress, Assembled, appealing to the Supreme Judge of the world for the rectitude of our intentions, do, in the Name, and by Authority of the good People of these Colonies, solemnly publish and declare, That these United Colonies are, and of Right ought to be Free and Independent States; that they are Absolved from all Allegiance to the British Crown, and that all political connection between them and the State of Great Britain, is and ought to be totally dissolved; and that as Free and Independent States, they have full Power to levy War, conclude Peace, contract Alliances, establish Commerce, and to do all other Acts and Things which Independent States may of right do. And for the support of this Declaration, with a firm reliance on the protection of divine Providence, we mutually pledge to each other our Lives, our Fortunes and our sacred Honor.']\n",
      "[\"When in the Course of human events, it becomes necessary for one people to dissolve the political bands which have connected them with another, and to assume among the powers of the earth, the separate and equal station to which the Laws of Nature and of Nature's God entitle them, a decent respect to the opinions of mankind requires that they should declare the causes which impel them to the separation.\\n\", '\\n', 'We hold these truths to be self-evident, that all men are created equal, that they are endowed by their Creator with certain unalienable Rights, that among these are Life, Liberty and the pursuit of Happiness.--That to secure these rights, Governments are instituted among Men, deriving their just powers from the consent of the governed, --That whenever any Form of Government becomes destructive of these ends, it is the Right of the People to alter or to abolish it, and to institute new Government, laying its foundation on such principles and organizing its powers in such form, as to them shall seem most likely to effect their Safety and Happiness. Prudence, indeed, will dictate that Governments long established should not be changed for light and transient causes; and accordingly all experience hath shewn, that mankind are more disposed to suffer, while evils are sufferable, than to right themselves by abolishing the forms to which they are accustomed. But when a long train of abuses and usurpations, pursuing invariably the same Object evinces a design to reduce them under absolute Despotism, it is their right, it is their duty, to throw off such Government, and to provide new Guards for their future security.--Such has been the patient sufferance of these Colonies; and such is now the necessity which constrains them to alter their former Systems of Government. The history of the present King of Great Britain is a history of repeated injuries and usurpations, all having in direct object the establishment of an absolute Tyranny over these States. To prove this, let Facts be submitted to a candid world.\\n', '\\n', 'He has refused his Assent to Laws, the most wholesome and necessary for the public good.\\n', '\\n', 'He has forbidden his Governors to pass Laws of immediate and pressing importance, unless suspended in their operation till his Assent should be obtained; and when so suspended, he has utterly neglected to attend to them.\\n', '\\n', 'He has refused to pass other Laws for the accommodation of large districts of people, unless those people would relinquish the right of Representation in the Legislature, a right inestimable to them and formidable to tyrants only.\\n', '\\n', 'He has called together legislative bodies at places unusual, uncomfortable, and distant from the depository of their public Records, for the sole purpose of fatiguing them into compliance with his measures.\\n', '\\n', 'He has dissolved Representative Houses repeatedly, for opposing with manly firmness his invasions on the rights of the people.\\n', '\\n', 'He has refused for a long time, after such dissolutions, to cause others to be elected; whereby the Legislative powers, incapable of Annihilation, have returned to the People at large for their exercise; the State remaining in the mean time exposed to all the dangers of invasion from without, and convulsions within.\\n', '\\n', 'He has endeavoured to prevent the population of these States; for that purpose obstructing the Laws for Naturalization of Foreigners; refusing to pass others to encourage their migrations hither, and raising the conditions of new Appropriations of Lands.\\n', '\\n', 'He has obstructed the Administration of Justice, by refusing his Assent to Laws for establishing Judiciary powers.\\n', '\\n', 'He has made Judges dependent on his Will alone, for the tenure of their offices, and the amount and payment of their salaries.\\n', '\\n', 'He has erected a multitude of New Offices, and sent hither swarms of Officers to harrass our people, and eat out their substance.\\n', '\\n', 'He has kept among us, in times of peace, Standing Armies without the Consent of our legislatures.\\n', '\\n', 'He has affected to render the Military independent of and superior to the Civil power.\\n', '\\n', 'He has combined with others to subject us to a jurisdiction foreign to our constitution, and unacknowledged by our laws; giving his Assent to their Acts of pretended Legislation:\\n', '\\n', 'For Quartering large bodies of armed troops among us:\\n', '\\n', 'For protecting them, by a mock Trial, from punishment for any Murders which they should commit on the Inhabitants of these States:\\n', '\\n', 'For cutting off our Trade with all parts of the world:\\n', '\\n', 'For imposing Taxes on us without our Consent:\\n', '\\n', 'For depriving us in many cases, of the benefits of Trial by Jury:\\n', '\\n', 'For transporting us beyond Seas to be tried for pretended offences\\n', '\\n', 'For abolishing the free System of English Laws in a neighbouring Province, establishing therein an Arbitrary government, and enlarging its Boundaries so as to render it at once an example and fit instrument for introducing the same absolute rule into these Colonies:\\n', '\\n', 'For taking away our Charters, abolishing our most valuable Laws, and altering fundamentally the Forms of our Governments:\\n', '\\n', 'For suspending our own Legislatures, and declaring themselves invested with power to legislate for us in all cases whatsoever.\\n', '\\n', 'He has abdicated Government here, by declaring us out of his Protection and waging War against us.\\n', '\\n', 'He has plundered our seas, ravaged our Coasts, burnt our towns, and destroyed the lives of our people.\\n', '\\n', 'He is at this time transporting large Armies of foreign Mercenaries to compleat the works of death, desolation and tyranny, already begun with circumstances of Cruelty & perfidy scarcely paralleled in the most barbarous ages, and totally unworthy the Head of a civilized nation.\\n', '\\n', 'He has constrained our fellow Citizens taken Captive on the high Seas to bear Arms against their Country, to become the executioners of their friends and Brethren, or to fall themselves by their Hands.\\n', '\\n', 'He has excited domestic insurrections amongst us, and has endeavoured to bring on the inhabitants of our frontiers, the merciless Indian Savages, whose known rule of warfare, is an undistinguished destruction of all ages, sexes and conditions.\\n', '\\n', 'In every stage of these Oppressions We have Petitioned for Redress in the most humble terms: Our repeated Petitions have been answered only by repeated injury. A Prince whose character is thus marked by every act which may define a Tyrant, is unfit to be the ruler of a free people.\\n', '\\n', 'Nor have We been wanting in attentions to our Brittish brethren. We have warned them from time to time of attempts by their legislature to extend an unwarrantable jurisdiction over us. We have reminded them of the circumstances of our emigration and settlement here. We have appealed to their native justice and magnanimity, and we have conjured them by the ties of our common kindred to disavow these usurpations, which, would inevitably interrupt our connections and correspondence. They too have been deaf to the voice of justice and of consanguinity. We must, therefore, acquiesce in the necessity, which denounces our Separation, and hold them, as we hold the rest of mankind, Enemies in War, in Peace Friends.\\n', '\\n', 'We, therefore, the Representatives of the United States of America, in General Congress, Assembled, appealing to the Supreme Judge of the world for the rectitude of our intentions, do, in the Name, and by Authority of the good People of these Colonies, solemnly publish and declare, That these United Colonies are, and of Right ought to be Free and Independent States; that they are Absolved from all Allegiance to the British Crown, and that all political connection between them and the State of Great Britain, is and ought to be totally dissolved; and that as Free and Independent States, they have full Power to levy War, conclude Peace, contract Alliances, establish Commerce, and to do all other Acts and Things which Independent States may of right do. And for the support of this Declaration, with a firm reliance on the protection of divine Providence, we mutually pledge to each other our Lives, our Fortunes and our sacred Honor.']\n",
      "[\"When in the Course of human events, it becomes necessary for one people to dissolve the political bands which have connected them with another, and to assume among the powers of the earth, the separate and equal station to which the Laws of Nature and of Nature's God entitle them, a decent respect to the opinions of mankind requires that they should declare the causes which impel them to the separation.\\n\", '\\n', 'We hold these truths to be self-evident, that all men are created equal, that they are endowed by their Creator with certain unalienable Rights, that among these are Life, Liberty and the pursuit of Happiness.--That to secure these rights, Governments are instituted among Men, deriving their just powers from the consent of the governed, --That whenever any Form of Government becomes destructive of these ends, it is the Right of the People to alter or to abolish it, and to institute new Government, laying its foundation on such principles and organizing its powers in such form, as to them shall seem most likely to effect their Safety and Happiness. Prudence, indeed, will dictate that Governments long established should not be changed for light and transient causes; and accordingly all experience hath shewn, that mankind are more disposed to suffer, while evils are sufferable, than to right themselves by abolishing the forms to which they are accustomed. But when a long train of abuses and usurpations, pursuing invariably the same Object evinces a design to reduce them under absolute Despotism, it is their right, it is their duty, to throw off such Government, and to provide new Guards for their future security.--Such has been the patient sufferance of these Colonies; and such is now the necessity which constrains them to alter their former Systems of Government. The history of the present King of Great Britain is a history of repeated injuries and usurpations, all having in direct object the establishment of an absolute Tyranny over these States. To prove this, let Facts be submitted to a candid world.\\n', '\\n', 'He has refused his Assent to Laws, the most wholesome and necessary for the public good.\\n', '\\n', 'He has forbidden his Governors to pass Laws of immediate and pressing importance, unless suspended in their operation till his Assent should be obtained; and when so suspended, he has utterly neglected to attend to them.\\n', '\\n', 'He has refused to pass other Laws for the accommodation of large districts of people, unless those people would relinquish the right of Representation in the Legislature, a right inestimable to them and formidable to tyrants only.\\n', '\\n', 'He has called together legislative bodies at places unusual, uncomfortable, and distant from the depository of their public Records, for the sole purpose of fatiguing them into compliance with his measures.\\n', '\\n', 'He has dissolved Representative Houses repeatedly, for opposing with manly firmness his invasions on the rights of the people.\\n', '\\n', 'He has refused for a long time, after such dissolutions, to cause others to be elected; whereby the Legislative powers, incapable of Annihilation, have returned to the People at large for their exercise; the State remaining in the mean time exposed to all the dangers of invasion from without, and convulsions within.\\n', '\\n', 'He has endeavoured to prevent the population of these States; for that purpose obstructing the Laws for Naturalization of Foreigners; refusing to pass others to encourage their migrations hither, and raising the conditions of new Appropriations of Lands.\\n', '\\n', 'He has obstructed the Administration of Justice, by refusing his Assent to Laws for establishing Judiciary powers.\\n', '\\n', 'He has made Judges dependent on his Will alone, for the tenure of their offices, and the amount and payment of their salaries.\\n', '\\n', 'He has erected a multitude of New Offices, and sent hither swarms of Officers to harrass our people, and eat out their substance.\\n', '\\n', 'He has kept among us, in times of peace, Standing Armies without the Consent of our legislatures.\\n', '\\n', 'He has affected to render the Military independent of and superior to the Civil power.\\n', '\\n', 'He has combined with others to subject us to a jurisdiction foreign to our constitution, and unacknowledged by our laws; giving his Assent to their Acts of pretended Legislation:\\n', '\\n', 'For Quartering large bodies of armed troops among us:\\n', '\\n', 'For protecting them, by a mock Trial, from punishment for any Murders which they should commit on the Inhabitants of these States:\\n', '\\n', 'For cutting off our Trade with all parts of the world:\\n', '\\n', 'For imposing Taxes on us without our Consent:\\n', '\\n', 'For depriving us in many cases, of the benefits of Trial by Jury:\\n', '\\n', 'For transporting us beyond Seas to be tried for pretended offences\\n', '\\n', 'For abolishing the free System of English Laws in a neighbouring Province, establishing therein an Arbitrary government, and enlarging its Boundaries so as to render it at once an example and fit instrument for introducing the same absolute rule into these Colonies:\\n', '\\n', 'For taking away our Charters, abolishing our most valuable Laws, and altering fundamentally the Forms of our Governments:\\n', '\\n', 'For suspending our own Legislatures, and declaring themselves invested with power to legislate for us in all cases whatsoever.\\n', '\\n', 'He has abdicated Government here, by declaring us out of his Protection and waging War against us.\\n', '\\n', 'He has plundered our seas, ravaged our Coasts, burnt our towns, and destroyed the lives of our people.\\n', '\\n', 'He is at this time transporting large Armies of foreign Mercenaries to compleat the works of death, desolation and tyranny, already begun with circumstances of Cruelty & perfidy scarcely paralleled in the most barbarous ages, and totally unworthy the Head of a civilized nation.\\n', '\\n', 'He has constrained our fellow Citizens taken Captive on the high Seas to bear Arms against their Country, to become the executioners of their friends and Brethren, or to fall themselves by their Hands.\\n', '\\n', 'He has excited domestic insurrections amongst us, and has endeavoured to bring on the inhabitants of our frontiers, the merciless Indian Savages, whose known rule of warfare, is an undistinguished destruction of all ages, sexes and conditions.\\n', '\\n', 'In every stage of these Oppressions We have Petitioned for Redress in the most humble terms: Our repeated Petitions have been answered only by repeated injury. A Prince whose character is thus marked by every act which may define a Tyrant, is unfit to be the ruler of a free people.\\n', '\\n', 'Nor have We been wanting in attentions to our Brittish brethren. We have warned them from time to time of attempts by their legislature to extend an unwarrantable jurisdiction over us. We have reminded them of the circumstances of our emigration and settlement here. We have appealed to their native justice and magnanimity, and we have conjured them by the ties of our common kindred to disavow these usurpations, which, would inevitably interrupt our connections and correspondence. They too have been deaf to the voice of justice and of consanguinity. We must, therefore, acquiesce in the necessity, which denounces our Separation, and hold them, as we hold the rest of mankind, Enemies in War, in Peace Friends.\\n', '\\n', 'We, therefore, the Representatives of the United States of America, in General Congress, Assembled, appealing to the Supreme Judge of the world for the rectitude of our intentions, do, in the Name, and by Authority of the good People of these Colonies, solemnly publish and declare, That these United Colonies are, and of Right ought to be Free and Independent States; that they are Absolved from all Allegiance to the British Crown, and that all political connection between them and the State of Great Britain, is and ought to be totally dissolved; and that as Free and Independent States, they have full Power to levy War, conclude Peace, contract Alliances, establish Commerce, and to do all other Acts and Things which Independent States may of right do. And for the support of this Declaration, with a firm reliance on the protection of divine Providence, we mutually pledge to each other our Lives, our Fortunes and our sacred Honor.']\n",
      "[\"When in the Course of human events, it becomes necessary for one people to dissolve the political bands which have connected them with another, and to assume among the powers of the earth, the separate and equal station to which the Laws of Nature and of Nature's God entitle them, a decent respect to the opinions of mankind requires that they should declare the causes which impel them to the separation.\\n\", '\\n', 'We hold these truths to be self-evident, that all men are created equal, that they are endowed by their Creator with certain unalienable Rights, that among these are Life, Liberty and the pursuit of Happiness.--That to secure these rights, Governments are instituted among Men, deriving their just powers from the consent of the governed, --That whenever any Form of Government becomes destructive of these ends, it is the Right of the People to alter or to abolish it, and to institute new Government, laying its foundation on such principles and organizing its powers in such form, as to them shall seem most likely to effect their Safety and Happiness. Prudence, indeed, will dictate that Governments long established should not be changed for light and transient causes; and accordingly all experience hath shewn, that mankind are more disposed to suffer, while evils are sufferable, than to right themselves by abolishing the forms to which they are accustomed. But when a long train of abuses and usurpations, pursuing invariably the same Object evinces a design to reduce them under absolute Despotism, it is their right, it is their duty, to throw off such Government, and to provide new Guards for their future security.--Such has been the patient sufferance of these Colonies; and such is now the necessity which constrains them to alter their former Systems of Government. The history of the present King of Great Britain is a history of repeated injuries and usurpations, all having in direct object the establishment of an absolute Tyranny over these States. To prove this, let Facts be submitted to a candid world.\\n', '\\n', 'He has refused his Assent to Laws, the most wholesome and necessary for the public good.\\n', '\\n', 'He has forbidden his Governors to pass Laws of immediate and pressing importance, unless suspended in their operation till his Assent should be obtained; and when so suspended, he has utterly neglected to attend to them.\\n', '\\n', 'He has refused to pass other Laws for the accommodation of large districts of people, unless those people would relinquish the right of Representation in the Legislature, a right inestimable to them and formidable to tyrants only.\\n', '\\n', 'He has called together legislative bodies at places unusual, uncomfortable, and distant from the depository of their public Records, for the sole purpose of fatiguing them into compliance with his measures.\\n', '\\n', 'He has dissolved Representative Houses repeatedly, for opposing with manly firmness his invasions on the rights of the people.\\n', '\\n', 'He has refused for a long time, after such dissolutions, to cause others to be elected; whereby the Legislative powers, incapable of Annihilation, have returned to the People at large for their exercise; the State remaining in the mean time exposed to all the dangers of invasion from without, and convulsions within.\\n', '\\n', 'He has endeavoured to prevent the population of these States; for that purpose obstructing the Laws for Naturalization of Foreigners; refusing to pass others to encourage their migrations hither, and raising the conditions of new Appropriations of Lands.\\n', '\\n', 'He has obstructed the Administration of Justice, by refusing his Assent to Laws for establishing Judiciary powers.\\n', '\\n', 'He has made Judges dependent on his Will alone, for the tenure of their offices, and the amount and payment of their salaries.\\n', '\\n', 'He has erected a multitude of New Offices, and sent hither swarms of Officers to harrass our people, and eat out their substance.\\n', '\\n', 'He has kept among us, in times of peace, Standing Armies without the Consent of our legislatures.\\n', '\\n', 'He has affected to render the Military independent of and superior to the Civil power.\\n', '\\n', 'He has combined with others to subject us to a jurisdiction foreign to our constitution, and unacknowledged by our laws; giving his Assent to their Acts of pretended Legislation:\\n', '\\n', 'For Quartering large bodies of armed troops among us:\\n', '\\n', 'For protecting them, by a mock Trial, from punishment for any Murders which they should commit on the Inhabitants of these States:\\n', '\\n', 'For cutting off our Trade with all parts of the world:\\n', '\\n', 'For imposing Taxes on us without our Consent:\\n', '\\n', 'For depriving us in many cases, of the benefits of Trial by Jury:\\n', '\\n', 'For transporting us beyond Seas to be tried for pretended offences\\n', '\\n', 'For abolishing the free System of English Laws in a neighbouring Province, establishing therein an Arbitrary government, and enlarging its Boundaries so as to render it at once an example and fit instrument for introducing the same absolute rule into these Colonies:\\n', '\\n', 'For taking away our Charters, abolishing our most valuable Laws, and altering fundamentally the Forms of our Governments:\\n', '\\n', 'For suspending our own Legislatures, and declaring themselves invested with power to legislate for us in all cases whatsoever.\\n', '\\n', 'He has abdicated Government here, by declaring us out of his Protection and waging War against us.\\n', '\\n', 'He has plundered our seas, ravaged our Coasts, burnt our towns, and destroyed the lives of our people.\\n', '\\n', 'He is at this time transporting large Armies of foreign Mercenaries to compleat the works of death, desolation and tyranny, already begun with circumstances of Cruelty & perfidy scarcely paralleled in the most barbarous ages, and totally unworthy the Head of a civilized nation.\\n', '\\n', 'He has constrained our fellow Citizens taken Captive on the high Seas to bear Arms against their Country, to become the executioners of their friends and Brethren, or to fall themselves by their Hands.\\n', '\\n', 'He has excited domestic insurrections amongst us, and has endeavoured to bring on the inhabitants of our frontiers, the merciless Indian Savages, whose known rule of warfare, is an undistinguished destruction of all ages, sexes and conditions.\\n', '\\n', 'In every stage of these Oppressions We have Petitioned for Redress in the most humble terms: Our repeated Petitions have been answered only by repeated injury. A Prince whose character is thus marked by every act which may define a Tyrant, is unfit to be the ruler of a free people.\\n', '\\n', 'Nor have We been wanting in attentions to our Brittish brethren. We have warned them from time to time of attempts by their legislature to extend an unwarrantable jurisdiction over us. We have reminded them of the circumstances of our emigration and settlement here. We have appealed to their native justice and magnanimity, and we have conjured them by the ties of our common kindred to disavow these usurpations, which, would inevitably interrupt our connections and correspondence. They too have been deaf to the voice of justice and of consanguinity. We must, therefore, acquiesce in the necessity, which denounces our Separation, and hold them, as we hold the rest of mankind, Enemies in War, in Peace Friends.\\n', '\\n', 'We, therefore, the Representatives of the United States of America, in General Congress, Assembled, appealing to the Supreme Judge of the world for the rectitude of our intentions, do, in the Name, and by Authority of the good People of these Colonies, solemnly publish and declare, That these United Colonies are, and of Right ought to be Free and Independent States; that they are Absolved from all Allegiance to the British Crown, and that all political connection between them and the State of Great Britain, is and ought to be totally dissolved; and that as Free and Independent States, they have full Power to levy War, conclude Peace, contract Alliances, establish Commerce, and to do all other Acts and Things which Independent States may of right do. And for the support of this Declaration, with a firm reliance on the protection of divine Providence, we mutually pledge to each other our Lives, our Fortunes and our sacred Honor.']\n",
      "[\"When in the Course of human events, it becomes necessary for one people to dissolve the political bands which have connected them with another, and to assume among the powers of the earth, the separate and equal station to which the Laws of Nature and of Nature's God entitle them, a decent respect to the opinions of mankind requires that they should declare the causes which impel them to the separation.\\n\", '\\n', 'We hold these truths to be self-evident, that all men are created equal, that they are endowed by their Creator with certain unalienable Rights, that among these are Life, Liberty and the pursuit of Happiness.--That to secure these rights, Governments are instituted among Men, deriving their just powers from the consent of the governed, --That whenever any Form of Government becomes destructive of these ends, it is the Right of the People to alter or to abolish it, and to institute new Government, laying its foundation on such principles and organizing its powers in such form, as to them shall seem most likely to effect their Safety and Happiness. Prudence, indeed, will dictate that Governments long established should not be changed for light and transient causes; and accordingly all experience hath shewn, that mankind are more disposed to suffer, while evils are sufferable, than to right themselves by abolishing the forms to which they are accustomed. But when a long train of abuses and usurpations, pursuing invariably the same Object evinces a design to reduce them under absolute Despotism, it is their right, it is their duty, to throw off such Government, and to provide new Guards for their future security.--Such has been the patient sufferance of these Colonies; and such is now the necessity which constrains them to alter their former Systems of Government. The history of the present King of Great Britain is a history of repeated injuries and usurpations, all having in direct object the establishment of an absolute Tyranny over these States. To prove this, let Facts be submitted to a candid world.\\n', '\\n', 'He has refused his Assent to Laws, the most wholesome and necessary for the public good.\\n', '\\n', 'He has forbidden his Governors to pass Laws of immediate and pressing importance, unless suspended in their operation till his Assent should be obtained; and when so suspended, he has utterly neglected to attend to them.\\n', '\\n', 'He has refused to pass other Laws for the accommodation of large districts of people, unless those people would relinquish the right of Representation in the Legislature, a right inestimable to them and formidable to tyrants only.\\n', '\\n', 'He has called together legislative bodies at places unusual, uncomfortable, and distant from the depository of their public Records, for the sole purpose of fatiguing them into compliance with his measures.\\n', '\\n', 'He has dissolved Representative Houses repeatedly, for opposing with manly firmness his invasions on the rights of the people.\\n', '\\n', 'He has refused for a long time, after such dissolutions, to cause others to be elected; whereby the Legislative powers, incapable of Annihilation, have returned to the People at large for their exercise; the State remaining in the mean time exposed to all the dangers of invasion from without, and convulsions within.\\n', '\\n', 'He has endeavoured to prevent the population of these States; for that purpose obstructing the Laws for Naturalization of Foreigners; refusing to pass others to encourage their migrations hither, and raising the conditions of new Appropriations of Lands.\\n', '\\n', 'He has obstructed the Administration of Justice, by refusing his Assent to Laws for establishing Judiciary powers.\\n', '\\n', 'He has made Judges dependent on his Will alone, for the tenure of their offices, and the amount and payment of their salaries.\\n', '\\n', 'He has erected a multitude of New Offices, and sent hither swarms of Officers to harrass our people, and eat out their substance.\\n', '\\n', 'He has kept among us, in times of peace, Standing Armies without the Consent of our legislatures.\\n', '\\n', 'He has affected to render the Military independent of and superior to the Civil power.\\n', '\\n', 'He has combined with others to subject us to a jurisdiction foreign to our constitution, and unacknowledged by our laws; giving his Assent to their Acts of pretended Legislation:\\n', '\\n', 'For Quartering large bodies of armed troops among us:\\n', '\\n', 'For protecting them, by a mock Trial, from punishment for any Murders which they should commit on the Inhabitants of these States:\\n', '\\n', 'For cutting off our Trade with all parts of the world:\\n', '\\n', 'For imposing Taxes on us without our Consent:\\n', '\\n', 'For depriving us in many cases, of the benefits of Trial by Jury:\\n', '\\n', 'For transporting us beyond Seas to be tried for pretended offences\\n', '\\n', 'For abolishing the free System of English Laws in a neighbouring Province, establishing therein an Arbitrary government, and enlarging its Boundaries so as to render it at once an example and fit instrument for introducing the same absolute rule into these Colonies:\\n', '\\n', 'For taking away our Charters, abolishing our most valuable Laws, and altering fundamentally the Forms of our Governments:\\n', '\\n', 'For suspending our own Legislatures, and declaring themselves invested with power to legislate for us in all cases whatsoever.\\n', '\\n', 'He has abdicated Government here, by declaring us out of his Protection and waging War against us.\\n', '\\n', 'He has plundered our seas, ravaged our Coasts, burnt our towns, and destroyed the lives of our people.\\n', '\\n', 'He is at this time transporting large Armies of foreign Mercenaries to compleat the works of death, desolation and tyranny, already begun with circumstances of Cruelty & perfidy scarcely paralleled in the most barbarous ages, and totally unworthy the Head of a civilized nation.\\n', '\\n', 'He has constrained our fellow Citizens taken Captive on the high Seas to bear Arms against their Country, to become the executioners of their friends and Brethren, or to fall themselves by their Hands.\\n', '\\n', 'He has excited domestic insurrections amongst us, and has endeavoured to bring on the inhabitants of our frontiers, the merciless Indian Savages, whose known rule of warfare, is an undistinguished destruction of all ages, sexes and conditions.\\n', '\\n', 'In every stage of these Oppressions We have Petitioned for Redress in the most humble terms: Our repeated Petitions have been answered only by repeated injury. A Prince whose character is thus marked by every act which may define a Tyrant, is unfit to be the ruler of a free people.\\n', '\\n', 'Nor have We been wanting in attentions to our Brittish brethren. We have warned them from time to time of attempts by their legislature to extend an unwarrantable jurisdiction over us. We have reminded them of the circumstances of our emigration and settlement here. We have appealed to their native justice and magnanimity, and we have conjured them by the ties of our common kindred to disavow these usurpations, which, would inevitably interrupt our connections and correspondence. They too have been deaf to the voice of justice and of consanguinity. We must, therefore, acquiesce in the necessity, which denounces our Separation, and hold them, as we hold the rest of mankind, Enemies in War, in Peace Friends.\\n', '\\n', 'We, therefore, the Representatives of the United States of America, in General Congress, Assembled, appealing to the Supreme Judge of the world for the rectitude of our intentions, do, in the Name, and by Authority of the good People of these Colonies, solemnly publish and declare, That these United Colonies are, and of Right ought to be Free and Independent States; that they are Absolved from all Allegiance to the British Crown, and that all political connection between them and the State of Great Britain, is and ought to be totally dissolved; and that as Free and Independent States, they have full Power to levy War, conclude Peace, contract Alliances, establish Commerce, and to do all other Acts and Things which Independent States may of right do. And for the support of this Declaration, with a firm reliance on the protection of divine Providence, we mutually pledge to each other our Lives, our Fortunes and our sacred Honor.']\n",
      "[\"When in the Course of human events, it becomes necessary for one people to dissolve the political bands which have connected them with another, and to assume among the powers of the earth, the separate and equal station to which the Laws of Nature and of Nature's God entitle them, a decent respect to the opinions of mankind requires that they should declare the causes which impel them to the separation.\\n\", '\\n', 'We hold these truths to be self-evident, that all men are created equal, that they are endowed by their Creator with certain unalienable Rights, that among these are Life, Liberty and the pursuit of Happiness.--That to secure these rights, Governments are instituted among Men, deriving their just powers from the consent of the governed, --That whenever any Form of Government becomes destructive of these ends, it is the Right of the People to alter or to abolish it, and to institute new Government, laying its foundation on such principles and organizing its powers in such form, as to them shall seem most likely to effect their Safety and Happiness. Prudence, indeed, will dictate that Governments long established should not be changed for light and transient causes; and accordingly all experience hath shewn, that mankind are more disposed to suffer, while evils are sufferable, than to right themselves by abolishing the forms to which they are accustomed. But when a long train of abuses and usurpations, pursuing invariably the same Object evinces a design to reduce them under absolute Despotism, it is their right, it is their duty, to throw off such Government, and to provide new Guards for their future security.--Such has been the patient sufferance of these Colonies; and such is now the necessity which constrains them to alter their former Systems of Government. The history of the present King of Great Britain is a history of repeated injuries and usurpations, all having in direct object the establishment of an absolute Tyranny over these States. To prove this, let Facts be submitted to a candid world.\\n', '\\n', 'He has refused his Assent to Laws, the most wholesome and necessary for the public good.\\n', '\\n', 'He has forbidden his Governors to pass Laws of immediate and pressing importance, unless suspended in their operation till his Assent should be obtained; and when so suspended, he has utterly neglected to attend to them.\\n', '\\n', 'He has refused to pass other Laws for the accommodation of large districts of people, unless those people would relinquish the right of Representation in the Legislature, a right inestimable to them and formidable to tyrants only.\\n', '\\n', 'He has called together legislative bodies at places unusual, uncomfortable, and distant from the depository of their public Records, for the sole purpose of fatiguing them into compliance with his measures.\\n', '\\n', 'He has dissolved Representative Houses repeatedly, for opposing with manly firmness his invasions on the rights of the people.\\n', '\\n', 'He has refused for a long time, after such dissolutions, to cause others to be elected; whereby the Legislative powers, incapable of Annihilation, have returned to the People at large for their exercise; the State remaining in the mean time exposed to all the dangers of invasion from without, and convulsions within.\\n', '\\n', 'He has endeavoured to prevent the population of these States; for that purpose obstructing the Laws for Naturalization of Foreigners; refusing to pass others to encourage their migrations hither, and raising the conditions of new Appropriations of Lands.\\n', '\\n', 'He has obstructed the Administration of Justice, by refusing his Assent to Laws for establishing Judiciary powers.\\n', '\\n', 'He has made Judges dependent on his Will alone, for the tenure of their offices, and the amount and payment of their salaries.\\n', '\\n', 'He has erected a multitude of New Offices, and sent hither swarms of Officers to harrass our people, and eat out their substance.\\n', '\\n', 'He has kept among us, in times of peace, Standing Armies without the Consent of our legislatures.\\n', '\\n', 'He has affected to render the Military independent of and superior to the Civil power.\\n', '\\n', 'He has combined with others to subject us to a jurisdiction foreign to our constitution, and unacknowledged by our laws; giving his Assent to their Acts of pretended Legislation:\\n', '\\n', 'For Quartering large bodies of armed troops among us:\\n', '\\n', 'For protecting them, by a mock Trial, from punishment for any Murders which they should commit on the Inhabitants of these States:\\n', '\\n', 'For cutting off our Trade with all parts of the world:\\n', '\\n', 'For imposing Taxes on us without our Consent:\\n', '\\n', 'For depriving us in many cases, of the benefits of Trial by Jury:\\n', '\\n', 'For transporting us beyond Seas to be tried for pretended offences\\n', '\\n', 'For abolishing the free System of English Laws in a neighbouring Province, establishing therein an Arbitrary government, and enlarging its Boundaries so as to render it at once an example and fit instrument for introducing the same absolute rule into these Colonies:\\n', '\\n', 'For taking away our Charters, abolishing our most valuable Laws, and altering fundamentally the Forms of our Governments:\\n', '\\n', 'For suspending our own Legislatures, and declaring themselves invested with power to legislate for us in all cases whatsoever.\\n', '\\n', 'He has abdicated Government here, by declaring us out of his Protection and waging War against us.\\n', '\\n', 'He has plundered our seas, ravaged our Coasts, burnt our towns, and destroyed the lives of our people.\\n', '\\n', 'He is at this time transporting large Armies of foreign Mercenaries to compleat the works of death, desolation and tyranny, already begun with circumstances of Cruelty & perfidy scarcely paralleled in the most barbarous ages, and totally unworthy the Head of a civilized nation.\\n', '\\n', 'He has constrained our fellow Citizens taken Captive on the high Seas to bear Arms against their Country, to become the executioners of their friends and Brethren, or to fall themselves by their Hands.\\n', '\\n', 'He has excited domestic insurrections amongst us, and has endeavoured to bring on the inhabitants of our frontiers, the merciless Indian Savages, whose known rule of warfare, is an undistinguished destruction of all ages, sexes and conditions.\\n', '\\n', 'In every stage of these Oppressions We have Petitioned for Redress in the most humble terms: Our repeated Petitions have been answered only by repeated injury. A Prince whose character is thus marked by every act which may define a Tyrant, is unfit to be the ruler of a free people.\\n', '\\n', 'Nor have We been wanting in attentions to our Brittish brethren. We have warned them from time to time of attempts by their legislature to extend an unwarrantable jurisdiction over us. We have reminded them of the circumstances of our emigration and settlement here. We have appealed to their native justice and magnanimity, and we have conjured them by the ties of our common kindred to disavow these usurpations, which, would inevitably interrupt our connections and correspondence. They too have been deaf to the voice of justice and of consanguinity. We must, therefore, acquiesce in the necessity, which denounces our Separation, and hold them, as we hold the rest of mankind, Enemies in War, in Peace Friends.\\n', '\\n', 'We, therefore, the Representatives of the United States of America, in General Congress, Assembled, appealing to the Supreme Judge of the world for the rectitude of our intentions, do, in the Name, and by Authority of the good People of these Colonies, solemnly publish and declare, That these United Colonies are, and of Right ought to be Free and Independent States; that they are Absolved from all Allegiance to the British Crown, and that all political connection between them and the State of Great Britain, is and ought to be totally dissolved; and that as Free and Independent States, they have full Power to levy War, conclude Peace, contract Alliances, establish Commerce, and to do all other Acts and Things which Independent States may of right do. And for the support of this Declaration, with a firm reliance on the protection of divine Providence, we mutually pledge to each other our Lives, our Fortunes and our sacred Honor.']\n",
      "[\"When in the Course of human events, it becomes necessary for one people to dissolve the political bands which have connected them with another, and to assume among the powers of the earth, the separate and equal station to which the Laws of Nature and of Nature's God entitle them, a decent respect to the opinions of mankind requires that they should declare the causes which impel them to the separation.\\n\", '\\n', 'We hold these truths to be self-evident, that all men are created equal, that they are endowed by their Creator with certain unalienable Rights, that among these are Life, Liberty and the pursuit of Happiness.--That to secure these rights, Governments are instituted among Men, deriving their just powers from the consent of the governed, --That whenever any Form of Government becomes destructive of these ends, it is the Right of the People to alter or to abolish it, and to institute new Government, laying its foundation on such principles and organizing its powers in such form, as to them shall seem most likely to effect their Safety and Happiness. Prudence, indeed, will dictate that Governments long established should not be changed for light and transient causes; and accordingly all experience hath shewn, that mankind are more disposed to suffer, while evils are sufferable, than to right themselves by abolishing the forms to which they are accustomed. But when a long train of abuses and usurpations, pursuing invariably the same Object evinces a design to reduce them under absolute Despotism, it is their right, it is their duty, to throw off such Government, and to provide new Guards for their future security.--Such has been the patient sufferance of these Colonies; and such is now the necessity which constrains them to alter their former Systems of Government. The history of the present King of Great Britain is a history of repeated injuries and usurpations, all having in direct object the establishment of an absolute Tyranny over these States. To prove this, let Facts be submitted to a candid world.\\n', '\\n', 'He has refused his Assent to Laws, the most wholesome and necessary for the public good.\\n', '\\n', 'He has forbidden his Governors to pass Laws of immediate and pressing importance, unless suspended in their operation till his Assent should be obtained; and when so suspended, he has utterly neglected to attend to them.\\n', '\\n', 'He has refused to pass other Laws for the accommodation of large districts of people, unless those people would relinquish the right of Representation in the Legislature, a right inestimable to them and formidable to tyrants only.\\n', '\\n', 'He has called together legislative bodies at places unusual, uncomfortable, and distant from the depository of their public Records, for the sole purpose of fatiguing them into compliance with his measures.\\n', '\\n', 'He has dissolved Representative Houses repeatedly, for opposing with manly firmness his invasions on the rights of the people.\\n', '\\n', 'He has refused for a long time, after such dissolutions, to cause others to be elected; whereby the Legislative powers, incapable of Annihilation, have returned to the People at large for their exercise; the State remaining in the mean time exposed to all the dangers of invasion from without, and convulsions within.\\n', '\\n', 'He has endeavoured to prevent the population of these States; for that purpose obstructing the Laws for Naturalization of Foreigners; refusing to pass others to encourage their migrations hither, and raising the conditions of new Appropriations of Lands.\\n', '\\n', 'He has obstructed the Administration of Justice, by refusing his Assent to Laws for establishing Judiciary powers.\\n', '\\n', 'He has made Judges dependent on his Will alone, for the tenure of their offices, and the amount and payment of their salaries.\\n', '\\n', 'He has erected a multitude of New Offices, and sent hither swarms of Officers to harrass our people, and eat out their substance.\\n', '\\n', 'He has kept among us, in times of peace, Standing Armies without the Consent of our legislatures.\\n', '\\n', 'He has affected to render the Military independent of and superior to the Civil power.\\n', '\\n', 'He has combined with others to subject us to a jurisdiction foreign to our constitution, and unacknowledged by our laws; giving his Assent to their Acts of pretended Legislation:\\n', '\\n', 'For Quartering large bodies of armed troops among us:\\n', '\\n', 'For protecting them, by a mock Trial, from punishment for any Murders which they should commit on the Inhabitants of these States:\\n', '\\n', 'For cutting off our Trade with all parts of the world:\\n', '\\n', 'For imposing Taxes on us without our Consent:\\n', '\\n', 'For depriving us in many cases, of the benefits of Trial by Jury:\\n', '\\n', 'For transporting us beyond Seas to be tried for pretended offences\\n', '\\n', 'For abolishing the free System of English Laws in a neighbouring Province, establishing therein an Arbitrary government, and enlarging its Boundaries so as to render it at once an example and fit instrument for introducing the same absolute rule into these Colonies:\\n', '\\n', 'For taking away our Charters, abolishing our most valuable Laws, and altering fundamentally the Forms of our Governments:\\n', '\\n', 'For suspending our own Legislatures, and declaring themselves invested with power to legislate for us in all cases whatsoever.\\n', '\\n', 'He has abdicated Government here, by declaring us out of his Protection and waging War against us.\\n', '\\n', 'He has plundered our seas, ravaged our Coasts, burnt our towns, and destroyed the lives of our people.\\n', '\\n', 'He is at this time transporting large Armies of foreign Mercenaries to compleat the works of death, desolation and tyranny, already begun with circumstances of Cruelty & perfidy scarcely paralleled in the most barbarous ages, and totally unworthy the Head of a civilized nation.\\n', '\\n', 'He has constrained our fellow Citizens taken Captive on the high Seas to bear Arms against their Country, to become the executioners of their friends and Brethren, or to fall themselves by their Hands.\\n', '\\n', 'He has excited domestic insurrections amongst us, and has endeavoured to bring on the inhabitants of our frontiers, the merciless Indian Savages, whose known rule of warfare, is an undistinguished destruction of all ages, sexes and conditions.\\n', '\\n', 'In every stage of these Oppressions We have Petitioned for Redress in the most humble terms: Our repeated Petitions have been answered only by repeated injury. A Prince whose character is thus marked by every act which may define a Tyrant, is unfit to be the ruler of a free people.\\n', '\\n', 'Nor have We been wanting in attentions to our Brittish brethren. We have warned them from time to time of attempts by their legislature to extend an unwarrantable jurisdiction over us. We have reminded them of the circumstances of our emigration and settlement here. We have appealed to their native justice and magnanimity, and we have conjured them by the ties of our common kindred to disavow these usurpations, which, would inevitably interrupt our connections and correspondence. They too have been deaf to the voice of justice and of consanguinity. We must, therefore, acquiesce in the necessity, which denounces our Separation, and hold them, as we hold the rest of mankind, Enemies in War, in Peace Friends.\\n', '\\n', 'We, therefore, the Representatives of the United States of America, in General Congress, Assembled, appealing to the Supreme Judge of the world for the rectitude of our intentions, do, in the Name, and by Authority of the good People of these Colonies, solemnly publish and declare, That these United Colonies are, and of Right ought to be Free and Independent States; that they are Absolved from all Allegiance to the British Crown, and that all political connection between them and the State of Great Britain, is and ought to be totally dissolved; and that as Free and Independent States, they have full Power to levy War, conclude Peace, contract Alliances, establish Commerce, and to do all other Acts and Things which Independent States may of right do. And for the support of this Declaration, with a firm reliance on the protection of divine Providence, we mutually pledge to each other our Lives, our Fortunes and our sacred Honor.']\n",
      "[\"When in the Course of human events, it becomes necessary for one people to dissolve the political bands which have connected them with another, and to assume among the powers of the earth, the separate and equal station to which the Laws of Nature and of Nature's God entitle them, a decent respect to the opinions of mankind requires that they should declare the causes which impel them to the separation.\\n\", '\\n', 'We hold these truths to be self-evident, that all men are created equal, that they are endowed by their Creator with certain unalienable Rights, that among these are Life, Liberty and the pursuit of Happiness.--That to secure these rights, Governments are instituted among Men, deriving their just powers from the consent of the governed, --That whenever any Form of Government becomes destructive of these ends, it is the Right of the People to alter or to abolish it, and to institute new Government, laying its foundation on such principles and organizing its powers in such form, as to them shall seem most likely to effect their Safety and Happiness. Prudence, indeed, will dictate that Governments long established should not be changed for light and transient causes; and accordingly all experience hath shewn, that mankind are more disposed to suffer, while evils are sufferable, than to right themselves by abolishing the forms to which they are accustomed. But when a long train of abuses and usurpations, pursuing invariably the same Object evinces a design to reduce them under absolute Despotism, it is their right, it is their duty, to throw off such Government, and to provide new Guards for their future security.--Such has been the patient sufferance of these Colonies; and such is now the necessity which constrains them to alter their former Systems of Government. The history of the present King of Great Britain is a history of repeated injuries and usurpations, all having in direct object the establishment of an absolute Tyranny over these States. To prove this, let Facts be submitted to a candid world.\\n', '\\n', 'He has refused his Assent to Laws, the most wholesome and necessary for the public good.\\n', '\\n', 'He has forbidden his Governors to pass Laws of immediate and pressing importance, unless suspended in their operation till his Assent should be obtained; and when so suspended, he has utterly neglected to attend to them.\\n', '\\n', 'He has refused to pass other Laws for the accommodation of large districts of people, unless those people would relinquish the right of Representation in the Legislature, a right inestimable to them and formidable to tyrants only.\\n', '\\n', 'He has called together legislative bodies at places unusual, uncomfortable, and distant from the depository of their public Records, for the sole purpose of fatiguing them into compliance with his measures.\\n', '\\n', 'He has dissolved Representative Houses repeatedly, for opposing with manly firmness his invasions on the rights of the people.\\n', '\\n', 'He has refused for a long time, after such dissolutions, to cause others to be elected; whereby the Legislative powers, incapable of Annihilation, have returned to the People at large for their exercise; the State remaining in the mean time exposed to all the dangers of invasion from without, and convulsions within.\\n', '\\n', 'He has endeavoured to prevent the population of these States; for that purpose obstructing the Laws for Naturalization of Foreigners; refusing to pass others to encourage their migrations hither, and raising the conditions of new Appropriations of Lands.\\n', '\\n', 'He has obstructed the Administration of Justice, by refusing his Assent to Laws for establishing Judiciary powers.\\n', '\\n', 'He has made Judges dependent on his Will alone, for the tenure of their offices, and the amount and payment of their salaries.\\n', '\\n', 'He has erected a multitude of New Offices, and sent hither swarms of Officers to harrass our people, and eat out their substance.\\n', '\\n', 'He has kept among us, in times of peace, Standing Armies without the Consent of our legislatures.\\n', '\\n', 'He has affected to render the Military independent of and superior to the Civil power.\\n', '\\n', 'He has combined with others to subject us to a jurisdiction foreign to our constitution, and unacknowledged by our laws; giving his Assent to their Acts of pretended Legislation:\\n', '\\n', 'For Quartering large bodies of armed troops among us:\\n', '\\n', 'For protecting them, by a mock Trial, from punishment for any Murders which they should commit on the Inhabitants of these States:\\n', '\\n', 'For cutting off our Trade with all parts of the world:\\n', '\\n', 'For imposing Taxes on us without our Consent:\\n', '\\n', 'For depriving us in many cases, of the benefits of Trial by Jury:\\n', '\\n', 'For transporting us beyond Seas to be tried for pretended offences\\n', '\\n', 'For abolishing the free System of English Laws in a neighbouring Province, establishing therein an Arbitrary government, and enlarging its Boundaries so as to render it at once an example and fit instrument for introducing the same absolute rule into these Colonies:\\n', '\\n', 'For taking away our Charters, abolishing our most valuable Laws, and altering fundamentally the Forms of our Governments:\\n', '\\n', 'For suspending our own Legislatures, and declaring themselves invested with power to legislate for us in all cases whatsoever.\\n', '\\n', 'He has abdicated Government here, by declaring us out of his Protection and waging War against us.\\n', '\\n', 'He has plundered our seas, ravaged our Coasts, burnt our towns, and destroyed the lives of our people.\\n', '\\n', 'He is at this time transporting large Armies of foreign Mercenaries to compleat the works of death, desolation and tyranny, already begun with circumstances of Cruelty & perfidy scarcely paralleled in the most barbarous ages, and totally unworthy the Head of a civilized nation.\\n', '\\n', 'He has constrained our fellow Citizens taken Captive on the high Seas to bear Arms against their Country, to become the executioners of their friends and Brethren, or to fall themselves by their Hands.\\n', '\\n', 'He has excited domestic insurrections amongst us, and has endeavoured to bring on the inhabitants of our frontiers, the merciless Indian Savages, whose known rule of warfare, is an undistinguished destruction of all ages, sexes and conditions.\\n', '\\n', 'In every stage of these Oppressions We have Petitioned for Redress in the most humble terms: Our repeated Petitions have been answered only by repeated injury. A Prince whose character is thus marked by every act which may define a Tyrant, is unfit to be the ruler of a free people.\\n', '\\n', 'Nor have We been wanting in attentions to our Brittish brethren. We have warned them from time to time of attempts by their legislature to extend an unwarrantable jurisdiction over us. We have reminded them of the circumstances of our emigration and settlement here. We have appealed to their native justice and magnanimity, and we have conjured them by the ties of our common kindred to disavow these usurpations, which, would inevitably interrupt our connections and correspondence. They too have been deaf to the voice of justice and of consanguinity. We must, therefore, acquiesce in the necessity, which denounces our Separation, and hold them, as we hold the rest of mankind, Enemies in War, in Peace Friends.\\n', '\\n', 'We, therefore, the Representatives of the United States of America, in General Congress, Assembled, appealing to the Supreme Judge of the world for the rectitude of our intentions, do, in the Name, and by Authority of the good People of these Colonies, solemnly publish and declare, That these United Colonies are, and of Right ought to be Free and Independent States; that they are Absolved from all Allegiance to the British Crown, and that all political connection between them and the State of Great Britain, is and ought to be totally dissolved; and that as Free and Independent States, they have full Power to levy War, conclude Peace, contract Alliances, establish Commerce, and to do all other Acts and Things which Independent States may of right do. And for the support of this Declaration, with a firm reliance on the protection of divine Providence, we mutually pledge to each other our Lives, our Fortunes and our sacred Honor.']\n",
      "[\"When in the Course of human events, it becomes necessary for one people to dissolve the political bands which have connected them with another, and to assume among the powers of the earth, the separate and equal station to which the Laws of Nature and of Nature's God entitle them, a decent respect to the opinions of mankind requires that they should declare the causes which impel them to the separation.\\n\", '\\n', 'We hold these truths to be self-evident, that all men are created equal, that they are endowed by their Creator with certain unalienable Rights, that among these are Life, Liberty and the pursuit of Happiness.--That to secure these rights, Governments are instituted among Men, deriving their just powers from the consent of the governed, --That whenever any Form of Government becomes destructive of these ends, it is the Right of the People to alter or to abolish it, and to institute new Government, laying its foundation on such principles and organizing its powers in such form, as to them shall seem most likely to effect their Safety and Happiness. Prudence, indeed, will dictate that Governments long established should not be changed for light and transient causes; and accordingly all experience hath shewn, that mankind are more disposed to suffer, while evils are sufferable, than to right themselves by abolishing the forms to which they are accustomed. But when a long train of abuses and usurpations, pursuing invariably the same Object evinces a design to reduce them under absolute Despotism, it is their right, it is their duty, to throw off such Government, and to provide new Guards for their future security.--Such has been the patient sufferance of these Colonies; and such is now the necessity which constrains them to alter their former Systems of Government. The history of the present King of Great Britain is a history of repeated injuries and usurpations, all having in direct object the establishment of an absolute Tyranny over these States. To prove this, let Facts be submitted to a candid world.\\n', '\\n', 'He has refused his Assent to Laws, the most wholesome and necessary for the public good.\\n', '\\n', 'He has forbidden his Governors to pass Laws of immediate and pressing importance, unless suspended in their operation till his Assent should be obtained; and when so suspended, he has utterly neglected to attend to them.\\n', '\\n', 'He has refused to pass other Laws for the accommodation of large districts of people, unless those people would relinquish the right of Representation in the Legislature, a right inestimable to them and formidable to tyrants only.\\n', '\\n', 'He has called together legislative bodies at places unusual, uncomfortable, and distant from the depository of their public Records, for the sole purpose of fatiguing them into compliance with his measures.\\n', '\\n', 'He has dissolved Representative Houses repeatedly, for opposing with manly firmness his invasions on the rights of the people.\\n', '\\n', 'He has refused for a long time, after such dissolutions, to cause others to be elected; whereby the Legislative powers, incapable of Annihilation, have returned to the People at large for their exercise; the State remaining in the mean time exposed to all the dangers of invasion from without, and convulsions within.\\n', '\\n', 'He has endeavoured to prevent the population of these States; for that purpose obstructing the Laws for Naturalization of Foreigners; refusing to pass others to encourage their migrations hither, and raising the conditions of new Appropriations of Lands.\\n', '\\n', 'He has obstructed the Administration of Justice, by refusing his Assent to Laws for establishing Judiciary powers.\\n', '\\n', 'He has made Judges dependent on his Will alone, for the tenure of their offices, and the amount and payment of their salaries.\\n', '\\n', 'He has erected a multitude of New Offices, and sent hither swarms of Officers to harrass our people, and eat out their substance.\\n', '\\n', 'He has kept among us, in times of peace, Standing Armies without the Consent of our legislatures.\\n', '\\n', 'He has affected to render the Military independent of and superior to the Civil power.\\n', '\\n', 'He has combined with others to subject us to a jurisdiction foreign to our constitution, and unacknowledged by our laws; giving his Assent to their Acts of pretended Legislation:\\n', '\\n', 'For Quartering large bodies of armed troops among us:\\n', '\\n', 'For protecting them, by a mock Trial, from punishment for any Murders which they should commit on the Inhabitants of these States:\\n', '\\n', 'For cutting off our Trade with all parts of the world:\\n', '\\n', 'For imposing Taxes on us without our Consent:\\n', '\\n', 'For depriving us in many cases, of the benefits of Trial by Jury:\\n', '\\n', 'For transporting us beyond Seas to be tried for pretended offences\\n', '\\n', 'For abolishing the free System of English Laws in a neighbouring Province, establishing therein an Arbitrary government, and enlarging its Boundaries so as to render it at once an example and fit instrument for introducing the same absolute rule into these Colonies:\\n', '\\n', 'For taking away our Charters, abolishing our most valuable Laws, and altering fundamentally the Forms of our Governments:\\n', '\\n', 'For suspending our own Legislatures, and declaring themselves invested with power to legislate for us in all cases whatsoever.\\n', '\\n', 'He has abdicated Government here, by declaring us out of his Protection and waging War against us.\\n', '\\n', 'He has plundered our seas, ravaged our Coasts, burnt our towns, and destroyed the lives of our people.\\n', '\\n', 'He is at this time transporting large Armies of foreign Mercenaries to compleat the works of death, desolation and tyranny, already begun with circumstances of Cruelty & perfidy scarcely paralleled in the most barbarous ages, and totally unworthy the Head of a civilized nation.\\n', '\\n', 'He has constrained our fellow Citizens taken Captive on the high Seas to bear Arms against their Country, to become the executioners of their friends and Brethren, or to fall themselves by their Hands.\\n', '\\n', 'He has excited domestic insurrections amongst us, and has endeavoured to bring on the inhabitants of our frontiers, the merciless Indian Savages, whose known rule of warfare, is an undistinguished destruction of all ages, sexes and conditions.\\n', '\\n', 'In every stage of these Oppressions We have Petitioned for Redress in the most humble terms: Our repeated Petitions have been answered only by repeated injury. A Prince whose character is thus marked by every act which may define a Tyrant, is unfit to be the ruler of a free people.\\n', '\\n', 'Nor have We been wanting in attentions to our Brittish brethren. We have warned them from time to time of attempts by their legislature to extend an unwarrantable jurisdiction over us. We have reminded them of the circumstances of our emigration and settlement here. We have appealed to their native justice and magnanimity, and we have conjured them by the ties of our common kindred to disavow these usurpations, which, would inevitably interrupt our connections and correspondence. They too have been deaf to the voice of justice and of consanguinity. We must, therefore, acquiesce in the necessity, which denounces our Separation, and hold them, as we hold the rest of mankind, Enemies in War, in Peace Friends.\\n', '\\n', 'We, therefore, the Representatives of the United States of America, in General Congress, Assembled, appealing to the Supreme Judge of the world for the rectitude of our intentions, do, in the Name, and by Authority of the good People of these Colonies, solemnly publish and declare, That these United Colonies are, and of Right ought to be Free and Independent States; that they are Absolved from all Allegiance to the British Crown, and that all political connection between them and the State of Great Britain, is and ought to be totally dissolved; and that as Free and Independent States, they have full Power to levy War, conclude Peace, contract Alliances, establish Commerce, and to do all other Acts and Things which Independent States may of right do. And for the support of this Declaration, with a firm reliance on the protection of divine Providence, we mutually pledge to each other our Lives, our Fortunes and our sacred Honor.']\n",
      "[\"When in the Course of human events, it becomes necessary for one people to dissolve the political bands which have connected them with another, and to assume among the powers of the earth, the separate and equal station to which the Laws of Nature and of Nature's God entitle them, a decent respect to the opinions of mankind requires that they should declare the causes which impel them to the separation.\\n\", '\\n', 'We hold these truths to be self-evident, that all men are created equal, that they are endowed by their Creator with certain unalienable Rights, that among these are Life, Liberty and the pursuit of Happiness.--That to secure these rights, Governments are instituted among Men, deriving their just powers from the consent of the governed, --That whenever any Form of Government becomes destructive of these ends, it is the Right of the People to alter or to abolish it, and to institute new Government, laying its foundation on such principles and organizing its powers in such form, as to them shall seem most likely to effect their Safety and Happiness. Prudence, indeed, will dictate that Governments long established should not be changed for light and transient causes; and accordingly all experience hath shewn, that mankind are more disposed to suffer, while evils are sufferable, than to right themselves by abolishing the forms to which they are accustomed. But when a long train of abuses and usurpations, pursuing invariably the same Object evinces a design to reduce them under absolute Despotism, it is their right, it is their duty, to throw off such Government, and to provide new Guards for their future security.--Such has been the patient sufferance of these Colonies; and such is now the necessity which constrains them to alter their former Systems of Government. The history of the present King of Great Britain is a history of repeated injuries and usurpations, all having in direct object the establishment of an absolute Tyranny over these States. To prove this, let Facts be submitted to a candid world.\\n', '\\n', 'He has refused his Assent to Laws, the most wholesome and necessary for the public good.\\n', '\\n', 'He has forbidden his Governors to pass Laws of immediate and pressing importance, unless suspended in their operation till his Assent should be obtained; and when so suspended, he has utterly neglected to attend to them.\\n', '\\n', 'He has refused to pass other Laws for the accommodation of large districts of people, unless those people would relinquish the right of Representation in the Legislature, a right inestimable to them and formidable to tyrants only.\\n', '\\n', 'He has called together legislative bodies at places unusual, uncomfortable, and distant from the depository of their public Records, for the sole purpose of fatiguing them into compliance with his measures.\\n', '\\n', 'He has dissolved Representative Houses repeatedly, for opposing with manly firmness his invasions on the rights of the people.\\n', '\\n', 'He has refused for a long time, after such dissolutions, to cause others to be elected; whereby the Legislative powers, incapable of Annihilation, have returned to the People at large for their exercise; the State remaining in the mean time exposed to all the dangers of invasion from without, and convulsions within.\\n', '\\n', 'He has endeavoured to prevent the population of these States; for that purpose obstructing the Laws for Naturalization of Foreigners; refusing to pass others to encourage their migrations hither, and raising the conditions of new Appropriations of Lands.\\n', '\\n', 'He has obstructed the Administration of Justice, by refusing his Assent to Laws for establishing Judiciary powers.\\n', '\\n', 'He has made Judges dependent on his Will alone, for the tenure of their offices, and the amount and payment of their salaries.\\n', '\\n', 'He has erected a multitude of New Offices, and sent hither swarms of Officers to harrass our people, and eat out their substance.\\n', '\\n', 'He has kept among us, in times of peace, Standing Armies without the Consent of our legislatures.\\n', '\\n', 'He has affected to render the Military independent of and superior to the Civil power.\\n', '\\n', 'He has combined with others to subject us to a jurisdiction foreign to our constitution, and unacknowledged by our laws; giving his Assent to their Acts of pretended Legislation:\\n', '\\n', 'For Quartering large bodies of armed troops among us:\\n', '\\n', 'For protecting them, by a mock Trial, from punishment for any Murders which they should commit on the Inhabitants of these States:\\n', '\\n', 'For cutting off our Trade with all parts of the world:\\n', '\\n', 'For imposing Taxes on us without our Consent:\\n', '\\n', 'For depriving us in many cases, of the benefits of Trial by Jury:\\n', '\\n', 'For transporting us beyond Seas to be tried for pretended offences\\n', '\\n', 'For abolishing the free System of English Laws in a neighbouring Province, establishing therein an Arbitrary government, and enlarging its Boundaries so as to render it at once an example and fit instrument for introducing the same absolute rule into these Colonies:\\n', '\\n', 'For taking away our Charters, abolishing our most valuable Laws, and altering fundamentally the Forms of our Governments:\\n', '\\n', 'For suspending our own Legislatures, and declaring themselves invested with power to legislate for us in all cases whatsoever.\\n', '\\n', 'He has abdicated Government here, by declaring us out of his Protection and waging War against us.\\n', '\\n', 'He has plundered our seas, ravaged our Coasts, burnt our towns, and destroyed the lives of our people.\\n', '\\n', 'He is at this time transporting large Armies of foreign Mercenaries to compleat the works of death, desolation and tyranny, already begun with circumstances of Cruelty & perfidy scarcely paralleled in the most barbarous ages, and totally unworthy the Head of a civilized nation.\\n', '\\n', 'He has constrained our fellow Citizens taken Captive on the high Seas to bear Arms against their Country, to become the executioners of their friends and Brethren, or to fall themselves by their Hands.\\n', '\\n', 'He has excited domestic insurrections amongst us, and has endeavoured to bring on the inhabitants of our frontiers, the merciless Indian Savages, whose known rule of warfare, is an undistinguished destruction of all ages, sexes and conditions.\\n', '\\n', 'In every stage of these Oppressions We have Petitioned for Redress in the most humble terms: Our repeated Petitions have been answered only by repeated injury. A Prince whose character is thus marked by every act which may define a Tyrant, is unfit to be the ruler of a free people.\\n', '\\n', 'Nor have We been wanting in attentions to our Brittish brethren. We have warned them from time to time of attempts by their legislature to extend an unwarrantable jurisdiction over us. We have reminded them of the circumstances of our emigration and settlement here. We have appealed to their native justice and magnanimity, and we have conjured them by the ties of our common kindred to disavow these usurpations, which, would inevitably interrupt our connections and correspondence. They too have been deaf to the voice of justice and of consanguinity. We must, therefore, acquiesce in the necessity, which denounces our Separation, and hold them, as we hold the rest of mankind, Enemies in War, in Peace Friends.\\n', '\\n', 'We, therefore, the Representatives of the United States of America, in General Congress, Assembled, appealing to the Supreme Judge of the world for the rectitude of our intentions, do, in the Name, and by Authority of the good People of these Colonies, solemnly publish and declare, That these United Colonies are, and of Right ought to be Free and Independent States; that they are Absolved from all Allegiance to the British Crown, and that all political connection between them and the State of Great Britain, is and ought to be totally dissolved; and that as Free and Independent States, they have full Power to levy War, conclude Peace, contract Alliances, establish Commerce, and to do all other Acts and Things which Independent States may of right do. And for the support of this Declaration, with a firm reliance on the protection of divine Providence, we mutually pledge to each other our Lives, our Fortunes and our sacred Honor.']\n",
      "[\"When in the Course of human events, it becomes necessary for one people to dissolve the political bands which have connected them with another, and to assume among the powers of the earth, the separate and equal station to which the Laws of Nature and of Nature's God entitle them, a decent respect to the opinions of mankind requires that they should declare the causes which impel them to the separation.\\n\", '\\n', 'We hold these truths to be self-evident, that all men are created equal, that they are endowed by their Creator with certain unalienable Rights, that among these are Life, Liberty and the pursuit of Happiness.--That to secure these rights, Governments are instituted among Men, deriving their just powers from the consent of the governed, --That whenever any Form of Government becomes destructive of these ends, it is the Right of the People to alter or to abolish it, and to institute new Government, laying its foundation on such principles and organizing its powers in such form, as to them shall seem most likely to effect their Safety and Happiness. Prudence, indeed, will dictate that Governments long established should not be changed for light and transient causes; and accordingly all experience hath shewn, that mankind are more disposed to suffer, while evils are sufferable, than to right themselves by abolishing the forms to which they are accustomed. But when a long train of abuses and usurpations, pursuing invariably the same Object evinces a design to reduce them under absolute Despotism, it is their right, it is their duty, to throw off such Government, and to provide new Guards for their future security.--Such has been the patient sufferance of these Colonies; and such is now the necessity which constrains them to alter their former Systems of Government. The history of the present King of Great Britain is a history of repeated injuries and usurpations, all having in direct object the establishment of an absolute Tyranny over these States. To prove this, let Facts be submitted to a candid world.\\n', '\\n', 'He has refused his Assent to Laws, the most wholesome and necessary for the public good.\\n', '\\n', 'He has forbidden his Governors to pass Laws of immediate and pressing importance, unless suspended in their operation till his Assent should be obtained; and when so suspended, he has utterly neglected to attend to them.\\n', '\\n', 'He has refused to pass other Laws for the accommodation of large districts of people, unless those people would relinquish the right of Representation in the Legislature, a right inestimable to them and formidable to tyrants only.\\n', '\\n', 'He has called together legislative bodies at places unusual, uncomfortable, and distant from the depository of their public Records, for the sole purpose of fatiguing them into compliance with his measures.\\n', '\\n', 'He has dissolved Representative Houses repeatedly, for opposing with manly firmness his invasions on the rights of the people.\\n', '\\n', 'He has refused for a long time, after such dissolutions, to cause others to be elected; whereby the Legislative powers, incapable of Annihilation, have returned to the People at large for their exercise; the State remaining in the mean time exposed to all the dangers of invasion from without, and convulsions within.\\n', '\\n', 'He has endeavoured to prevent the population of these States; for that purpose obstructing the Laws for Naturalization of Foreigners; refusing to pass others to encourage their migrations hither, and raising the conditions of new Appropriations of Lands.\\n', '\\n', 'He has obstructed the Administration of Justice, by refusing his Assent to Laws for establishing Judiciary powers.\\n', '\\n', 'He has made Judges dependent on his Will alone, for the tenure of their offices, and the amount and payment of their salaries.\\n', '\\n', 'He has erected a multitude of New Offices, and sent hither swarms of Officers to harrass our people, and eat out their substance.\\n', '\\n', 'He has kept among us, in times of peace, Standing Armies without the Consent of our legislatures.\\n', '\\n', 'He has affected to render the Military independent of and superior to the Civil power.\\n', '\\n', 'He has combined with others to subject us to a jurisdiction foreign to our constitution, and unacknowledged by our laws; giving his Assent to their Acts of pretended Legislation:\\n', '\\n', 'For Quartering large bodies of armed troops among us:\\n', '\\n', 'For protecting them, by a mock Trial, from punishment for any Murders which they should commit on the Inhabitants of these States:\\n', '\\n', 'For cutting off our Trade with all parts of the world:\\n', '\\n', 'For imposing Taxes on us without our Consent:\\n', '\\n', 'For depriving us in many cases, of the benefits of Trial by Jury:\\n', '\\n', 'For transporting us beyond Seas to be tried for pretended offences\\n', '\\n', 'For abolishing the free System of English Laws in a neighbouring Province, establishing therein an Arbitrary government, and enlarging its Boundaries so as to render it at once an example and fit instrument for introducing the same absolute rule into these Colonies:\\n', '\\n', 'For taking away our Charters, abolishing our most valuable Laws, and altering fundamentally the Forms of our Governments:\\n', '\\n', 'For suspending our own Legislatures, and declaring themselves invested with power to legislate for us in all cases whatsoever.\\n', '\\n', 'He has abdicated Government here, by declaring us out of his Protection and waging War against us.\\n', '\\n', 'He has plundered our seas, ravaged our Coasts, burnt our towns, and destroyed the lives of our people.\\n', '\\n', 'He is at this time transporting large Armies of foreign Mercenaries to compleat the works of death, desolation and tyranny, already begun with circumstances of Cruelty & perfidy scarcely paralleled in the most barbarous ages, and totally unworthy the Head of a civilized nation.\\n', '\\n', 'He has constrained our fellow Citizens taken Captive on the high Seas to bear Arms against their Country, to become the executioners of their friends and Brethren, or to fall themselves by their Hands.\\n', '\\n', 'He has excited domestic insurrections amongst us, and has endeavoured to bring on the inhabitants of our frontiers, the merciless Indian Savages, whose known rule of warfare, is an undistinguished destruction of all ages, sexes and conditions.\\n', '\\n', 'In every stage of these Oppressions We have Petitioned for Redress in the most humble terms: Our repeated Petitions have been answered only by repeated injury. A Prince whose character is thus marked by every act which may define a Tyrant, is unfit to be the ruler of a free people.\\n', '\\n', 'Nor have We been wanting in attentions to our Brittish brethren. We have warned them from time to time of attempts by their legislature to extend an unwarrantable jurisdiction over us. We have reminded them of the circumstances of our emigration and settlement here. We have appealed to their native justice and magnanimity, and we have conjured them by the ties of our common kindred to disavow these usurpations, which, would inevitably interrupt our connections and correspondence. They too have been deaf to the voice of justice and of consanguinity. We must, therefore, acquiesce in the necessity, which denounces our Separation, and hold them, as we hold the rest of mankind, Enemies in War, in Peace Friends.\\n', '\\n', 'We, therefore, the Representatives of the United States of America, in General Congress, Assembled, appealing to the Supreme Judge of the world for the rectitude of our intentions, do, in the Name, and by Authority of the good People of these Colonies, solemnly publish and declare, That these United Colonies are, and of Right ought to be Free and Independent States; that they are Absolved from all Allegiance to the British Crown, and that all political connection between them and the State of Great Britain, is and ought to be totally dissolved; and that as Free and Independent States, they have full Power to levy War, conclude Peace, contract Alliances, establish Commerce, and to do all other Acts and Things which Independent States may of right do. And for the support of this Declaration, with a firm reliance on the protection of divine Providence, we mutually pledge to each other our Lives, our Fortunes and our sacred Honor.']\n",
      "[\"When in the Course of human events, it becomes necessary for one people to dissolve the political bands which have connected them with another, and to assume among the powers of the earth, the separate and equal station to which the Laws of Nature and of Nature's God entitle them, a decent respect to the opinions of mankind requires that they should declare the causes which impel them to the separation.\\n\", '\\n', 'We hold these truths to be self-evident, that all men are created equal, that they are endowed by their Creator with certain unalienable Rights, that among these are Life, Liberty and the pursuit of Happiness.--That to secure these rights, Governments are instituted among Men, deriving their just powers from the consent of the governed, --That whenever any Form of Government becomes destructive of these ends, it is the Right of the People to alter or to abolish it, and to institute new Government, laying its foundation on such principles and organizing its powers in such form, as to them shall seem most likely to effect their Safety and Happiness. Prudence, indeed, will dictate that Governments long established should not be changed for light and transient causes; and accordingly all experience hath shewn, that mankind are more disposed to suffer, while evils are sufferable, than to right themselves by abolishing the forms to which they are accustomed. But when a long train of abuses and usurpations, pursuing invariably the same Object evinces a design to reduce them under absolute Despotism, it is their right, it is their duty, to throw off such Government, and to provide new Guards for their future security.--Such has been the patient sufferance of these Colonies; and such is now the necessity which constrains them to alter their former Systems of Government. The history of the present King of Great Britain is a history of repeated injuries and usurpations, all having in direct object the establishment of an absolute Tyranny over these States. To prove this, let Facts be submitted to a candid world.\\n', '\\n', 'He has refused his Assent to Laws, the most wholesome and necessary for the public good.\\n', '\\n', 'He has forbidden his Governors to pass Laws of immediate and pressing importance, unless suspended in their operation till his Assent should be obtained; and when so suspended, he has utterly neglected to attend to them.\\n', '\\n', 'He has refused to pass other Laws for the accommodation of large districts of people, unless those people would relinquish the right of Representation in the Legislature, a right inestimable to them and formidable to tyrants only.\\n', '\\n', 'He has called together legislative bodies at places unusual, uncomfortable, and distant from the depository of their public Records, for the sole purpose of fatiguing them into compliance with his measures.\\n', '\\n', 'He has dissolved Representative Houses repeatedly, for opposing with manly firmness his invasions on the rights of the people.\\n', '\\n', 'He has refused for a long time, after such dissolutions, to cause others to be elected; whereby the Legislative powers, incapable of Annihilation, have returned to the People at large for their exercise; the State remaining in the mean time exposed to all the dangers of invasion from without, and convulsions within.\\n', '\\n', 'He has endeavoured to prevent the population of these States; for that purpose obstructing the Laws for Naturalization of Foreigners; refusing to pass others to encourage their migrations hither, and raising the conditions of new Appropriations of Lands.\\n', '\\n', 'He has obstructed the Administration of Justice, by refusing his Assent to Laws for establishing Judiciary powers.\\n', '\\n', 'He has made Judges dependent on his Will alone, for the tenure of their offices, and the amount and payment of their salaries.\\n', '\\n', 'He has erected a multitude of New Offices, and sent hither swarms of Officers to harrass our people, and eat out their substance.\\n', '\\n', 'He has kept among us, in times of peace, Standing Armies without the Consent of our legislatures.\\n', '\\n', 'He has affected to render the Military independent of and superior to the Civil power.\\n', '\\n', 'He has combined with others to subject us to a jurisdiction foreign to our constitution, and unacknowledged by our laws; giving his Assent to their Acts of pretended Legislation:\\n', '\\n', 'For Quartering large bodies of armed troops among us:\\n', '\\n', 'For protecting them, by a mock Trial, from punishment for any Murders which they should commit on the Inhabitants of these States:\\n', '\\n', 'For cutting off our Trade with all parts of the world:\\n', '\\n', 'For imposing Taxes on us without our Consent:\\n', '\\n', 'For depriving us in many cases, of the benefits of Trial by Jury:\\n', '\\n', 'For transporting us beyond Seas to be tried for pretended offences\\n', '\\n', 'For abolishing the free System of English Laws in a neighbouring Province, establishing therein an Arbitrary government, and enlarging its Boundaries so as to render it at once an example and fit instrument for introducing the same absolute rule into these Colonies:\\n', '\\n', 'For taking away our Charters, abolishing our most valuable Laws, and altering fundamentally the Forms of our Governments:\\n', '\\n', 'For suspending our own Legislatures, and declaring themselves invested with power to legislate for us in all cases whatsoever.\\n', '\\n', 'He has abdicated Government here, by declaring us out of his Protection and waging War against us.\\n', '\\n', 'He has plundered our seas, ravaged our Coasts, burnt our towns, and destroyed the lives of our people.\\n', '\\n', 'He is at this time transporting large Armies of foreign Mercenaries to compleat the works of death, desolation and tyranny, already begun with circumstances of Cruelty & perfidy scarcely paralleled in the most barbarous ages, and totally unworthy the Head of a civilized nation.\\n', '\\n', 'He has constrained our fellow Citizens taken Captive on the high Seas to bear Arms against their Country, to become the executioners of their friends and Brethren, or to fall themselves by their Hands.\\n', '\\n', 'He has excited domestic insurrections amongst us, and has endeavoured to bring on the inhabitants of our frontiers, the merciless Indian Savages, whose known rule of warfare, is an undistinguished destruction of all ages, sexes and conditions.\\n', '\\n', 'In every stage of these Oppressions We have Petitioned for Redress in the most humble terms: Our repeated Petitions have been answered only by repeated injury. A Prince whose character is thus marked by every act which may define a Tyrant, is unfit to be the ruler of a free people.\\n', '\\n', 'Nor have We been wanting in attentions to our Brittish brethren. We have warned them from time to time of attempts by their legislature to extend an unwarrantable jurisdiction over us. We have reminded them of the circumstances of our emigration and settlement here. We have appealed to their native justice and magnanimity, and we have conjured them by the ties of our common kindred to disavow these usurpations, which, would inevitably interrupt our connections and correspondence. They too have been deaf to the voice of justice and of consanguinity. We must, therefore, acquiesce in the necessity, which denounces our Separation, and hold them, as we hold the rest of mankind, Enemies in War, in Peace Friends.\\n', '\\n', 'We, therefore, the Representatives of the United States of America, in General Congress, Assembled, appealing to the Supreme Judge of the world for the rectitude of our intentions, do, in the Name, and by Authority of the good People of these Colonies, solemnly publish and declare, That these United Colonies are, and of Right ought to be Free and Independent States; that they are Absolved from all Allegiance to the British Crown, and that all political connection between them and the State of Great Britain, is and ought to be totally dissolved; and that as Free and Independent States, they have full Power to levy War, conclude Peace, contract Alliances, establish Commerce, and to do all other Acts and Things which Independent States may of right do. And for the support of this Declaration, with a firm reliance on the protection of divine Providence, we mutually pledge to each other our Lives, our Fortunes and our sacred Honor.']\n",
      "[\"When in the Course of human events, it becomes necessary for one people to dissolve the political bands which have connected them with another, and to assume among the powers of the earth, the separate and equal station to which the Laws of Nature and of Nature's God entitle them, a decent respect to the opinions of mankind requires that they should declare the causes which impel them to the separation.\\n\", '\\n', 'We hold these truths to be self-evident, that all men are created equal, that they are endowed by their Creator with certain unalienable Rights, that among these are Life, Liberty and the pursuit of Happiness.--That to secure these rights, Governments are instituted among Men, deriving their just powers from the consent of the governed, --That whenever any Form of Government becomes destructive of these ends, it is the Right of the People to alter or to abolish it, and to institute new Government, laying its foundation on such principles and organizing its powers in such form, as to them shall seem most likely to effect their Safety and Happiness. Prudence, indeed, will dictate that Governments long established should not be changed for light and transient causes; and accordingly all experience hath shewn, that mankind are more disposed to suffer, while evils are sufferable, than to right themselves by abolishing the forms to which they are accustomed. But when a long train of abuses and usurpations, pursuing invariably the same Object evinces a design to reduce them under absolute Despotism, it is their right, it is their duty, to throw off such Government, and to provide new Guards for their future security.--Such has been the patient sufferance of these Colonies; and such is now the necessity which constrains them to alter their former Systems of Government. The history of the present King of Great Britain is a history of repeated injuries and usurpations, all having in direct object the establishment of an absolute Tyranny over these States. To prove this, let Facts be submitted to a candid world.\\n', '\\n', 'He has refused his Assent to Laws, the most wholesome and necessary for the public good.\\n', '\\n', 'He has forbidden his Governors to pass Laws of immediate and pressing importance, unless suspended in their operation till his Assent should be obtained; and when so suspended, he has utterly neglected to attend to them.\\n', '\\n', 'He has refused to pass other Laws for the accommodation of large districts of people, unless those people would relinquish the right of Representation in the Legislature, a right inestimable to them and formidable to tyrants only.\\n', '\\n', 'He has called together legislative bodies at places unusual, uncomfortable, and distant from the depository of their public Records, for the sole purpose of fatiguing them into compliance with his measures.\\n', '\\n', 'He has dissolved Representative Houses repeatedly, for opposing with manly firmness his invasions on the rights of the people.\\n', '\\n', 'He has refused for a long time, after such dissolutions, to cause others to be elected; whereby the Legislative powers, incapable of Annihilation, have returned to the People at large for their exercise; the State remaining in the mean time exposed to all the dangers of invasion from without, and convulsions within.\\n', '\\n', 'He has endeavoured to prevent the population of these States; for that purpose obstructing the Laws for Naturalization of Foreigners; refusing to pass others to encourage their migrations hither, and raising the conditions of new Appropriations of Lands.\\n', '\\n', 'He has obstructed the Administration of Justice, by refusing his Assent to Laws for establishing Judiciary powers.\\n', '\\n', 'He has made Judges dependent on his Will alone, for the tenure of their offices, and the amount and payment of their salaries.\\n', '\\n', 'He has erected a multitude of New Offices, and sent hither swarms of Officers to harrass our people, and eat out their substance.\\n', '\\n', 'He has kept among us, in times of peace, Standing Armies without the Consent of our legislatures.\\n', '\\n', 'He has affected to render the Military independent of and superior to the Civil power.\\n', '\\n', 'He has combined with others to subject us to a jurisdiction foreign to our constitution, and unacknowledged by our laws; giving his Assent to their Acts of pretended Legislation:\\n', '\\n', 'For Quartering large bodies of armed troops among us:\\n', '\\n', 'For protecting them, by a mock Trial, from punishment for any Murders which they should commit on the Inhabitants of these States:\\n', '\\n', 'For cutting off our Trade with all parts of the world:\\n', '\\n', 'For imposing Taxes on us without our Consent:\\n', '\\n', 'For depriving us in many cases, of the benefits of Trial by Jury:\\n', '\\n', 'For transporting us beyond Seas to be tried for pretended offences\\n', '\\n', 'For abolishing the free System of English Laws in a neighbouring Province, establishing therein an Arbitrary government, and enlarging its Boundaries so as to render it at once an example and fit instrument for introducing the same absolute rule into these Colonies:\\n', '\\n', 'For taking away our Charters, abolishing our most valuable Laws, and altering fundamentally the Forms of our Governments:\\n', '\\n', 'For suspending our own Legislatures, and declaring themselves invested with power to legislate for us in all cases whatsoever.\\n', '\\n', 'He has abdicated Government here, by declaring us out of his Protection and waging War against us.\\n', '\\n', 'He has plundered our seas, ravaged our Coasts, burnt our towns, and destroyed the lives of our people.\\n', '\\n', 'He is at this time transporting large Armies of foreign Mercenaries to compleat the works of death, desolation and tyranny, already begun with circumstances of Cruelty & perfidy scarcely paralleled in the most barbarous ages, and totally unworthy the Head of a civilized nation.\\n', '\\n', 'He has constrained our fellow Citizens taken Captive on the high Seas to bear Arms against their Country, to become the executioners of their friends and Brethren, or to fall themselves by their Hands.\\n', '\\n', 'He has excited domestic insurrections amongst us, and has endeavoured to bring on the inhabitants of our frontiers, the merciless Indian Savages, whose known rule of warfare, is an undistinguished destruction of all ages, sexes and conditions.\\n', '\\n', 'In every stage of these Oppressions We have Petitioned for Redress in the most humble terms: Our repeated Petitions have been answered only by repeated injury. A Prince whose character is thus marked by every act which may define a Tyrant, is unfit to be the ruler of a free people.\\n', '\\n', 'Nor have We been wanting in attentions to our Brittish brethren. We have warned them from time to time of attempts by their legislature to extend an unwarrantable jurisdiction over us. We have reminded them of the circumstances of our emigration and settlement here. We have appealed to their native justice and magnanimity, and we have conjured them by the ties of our common kindred to disavow these usurpations, which, would inevitably interrupt our connections and correspondence. They too have been deaf to the voice of justice and of consanguinity. We must, therefore, acquiesce in the necessity, which denounces our Separation, and hold them, as we hold the rest of mankind, Enemies in War, in Peace Friends.\\n', '\\n', 'We, therefore, the Representatives of the United States of America, in General Congress, Assembled, appealing to the Supreme Judge of the world for the rectitude of our intentions, do, in the Name, and by Authority of the good People of these Colonies, solemnly publish and declare, That these United Colonies are, and of Right ought to be Free and Independent States; that they are Absolved from all Allegiance to the British Crown, and that all political connection between them and the State of Great Britain, is and ought to be totally dissolved; and that as Free and Independent States, they have full Power to levy War, conclude Peace, contract Alliances, establish Commerce, and to do all other Acts and Things which Independent States may of right do. And for the support of this Declaration, with a firm reliance on the protection of divine Providence, we mutually pledge to each other our Lives, our Fortunes and our sacred Honor.']\n",
      "[\"When in the Course of human events, it becomes necessary for one people to dissolve the political bands which have connected them with another, and to assume among the powers of the earth, the separate and equal station to which the Laws of Nature and of Nature's God entitle them, a decent respect to the opinions of mankind requires that they should declare the causes which impel them to the separation.\\n\", '\\n', 'We hold these truths to be self-evident, that all men are created equal, that they are endowed by their Creator with certain unalienable Rights, that among these are Life, Liberty and the pursuit of Happiness.--That to secure these rights, Governments are instituted among Men, deriving their just powers from the consent of the governed, --That whenever any Form of Government becomes destructive of these ends, it is the Right of the People to alter or to abolish it, and to institute new Government, laying its foundation on such principles and organizing its powers in such form, as to them shall seem most likely to effect their Safety and Happiness. Prudence, indeed, will dictate that Governments long established should not be changed for light and transient causes; and accordingly all experience hath shewn, that mankind are more disposed to suffer, while evils are sufferable, than to right themselves by abolishing the forms to which they are accustomed. But when a long train of abuses and usurpations, pursuing invariably the same Object evinces a design to reduce them under absolute Despotism, it is their right, it is their duty, to throw off such Government, and to provide new Guards for their future security.--Such has been the patient sufferance of these Colonies; and such is now the necessity which constrains them to alter their former Systems of Government. The history of the present King of Great Britain is a history of repeated injuries and usurpations, all having in direct object the establishment of an absolute Tyranny over these States. To prove this, let Facts be submitted to a candid world.\\n', '\\n', 'He has refused his Assent to Laws, the most wholesome and necessary for the public good.\\n', '\\n', 'He has forbidden his Governors to pass Laws of immediate and pressing importance, unless suspended in their operation till his Assent should be obtained; and when so suspended, he has utterly neglected to attend to them.\\n', '\\n', 'He has refused to pass other Laws for the accommodation of large districts of people, unless those people would relinquish the right of Representation in the Legislature, a right inestimable to them and formidable to tyrants only.\\n', '\\n', 'He has called together legislative bodies at places unusual, uncomfortable, and distant from the depository of their public Records, for the sole purpose of fatiguing them into compliance with his measures.\\n', '\\n', 'He has dissolved Representative Houses repeatedly, for opposing with manly firmness his invasions on the rights of the people.\\n', '\\n', 'He has refused for a long time, after such dissolutions, to cause others to be elected; whereby the Legislative powers, incapable of Annihilation, have returned to the People at large for their exercise; the State remaining in the mean time exposed to all the dangers of invasion from without, and convulsions within.\\n', '\\n', 'He has endeavoured to prevent the population of these States; for that purpose obstructing the Laws for Naturalization of Foreigners; refusing to pass others to encourage their migrations hither, and raising the conditions of new Appropriations of Lands.\\n', '\\n', 'He has obstructed the Administration of Justice, by refusing his Assent to Laws for establishing Judiciary powers.\\n', '\\n', 'He has made Judges dependent on his Will alone, for the tenure of their offices, and the amount and payment of their salaries.\\n', '\\n', 'He has erected a multitude of New Offices, and sent hither swarms of Officers to harrass our people, and eat out their substance.\\n', '\\n', 'He has kept among us, in times of peace, Standing Armies without the Consent of our legislatures.\\n', '\\n', 'He has affected to render the Military independent of and superior to the Civil power.\\n', '\\n', 'He has combined with others to subject us to a jurisdiction foreign to our constitution, and unacknowledged by our laws; giving his Assent to their Acts of pretended Legislation:\\n', '\\n', 'For Quartering large bodies of armed troops among us:\\n', '\\n', 'For protecting them, by a mock Trial, from punishment for any Murders which they should commit on the Inhabitants of these States:\\n', '\\n', 'For cutting off our Trade with all parts of the world:\\n', '\\n', 'For imposing Taxes on us without our Consent:\\n', '\\n', 'For depriving us in many cases, of the benefits of Trial by Jury:\\n', '\\n', 'For transporting us beyond Seas to be tried for pretended offences\\n', '\\n', 'For abolishing the free System of English Laws in a neighbouring Province, establishing therein an Arbitrary government, and enlarging its Boundaries so as to render it at once an example and fit instrument for introducing the same absolute rule into these Colonies:\\n', '\\n', 'For taking away our Charters, abolishing our most valuable Laws, and altering fundamentally the Forms of our Governments:\\n', '\\n', 'For suspending our own Legislatures, and declaring themselves invested with power to legislate for us in all cases whatsoever.\\n', '\\n', 'He has abdicated Government here, by declaring us out of his Protection and waging War against us.\\n', '\\n', 'He has plundered our seas, ravaged our Coasts, burnt our towns, and destroyed the lives of our people.\\n', '\\n', 'He is at this time transporting large Armies of foreign Mercenaries to compleat the works of death, desolation and tyranny, already begun with circumstances of Cruelty & perfidy scarcely paralleled in the most barbarous ages, and totally unworthy the Head of a civilized nation.\\n', '\\n', 'He has constrained our fellow Citizens taken Captive on the high Seas to bear Arms against their Country, to become the executioners of their friends and Brethren, or to fall themselves by their Hands.\\n', '\\n', 'He has excited domestic insurrections amongst us, and has endeavoured to bring on the inhabitants of our frontiers, the merciless Indian Savages, whose known rule of warfare, is an undistinguished destruction of all ages, sexes and conditions.\\n', '\\n', 'In every stage of these Oppressions We have Petitioned for Redress in the most humble terms: Our repeated Petitions have been answered only by repeated injury. A Prince whose character is thus marked by every act which may define a Tyrant, is unfit to be the ruler of a free people.\\n', '\\n', 'Nor have We been wanting in attentions to our Brittish brethren. We have warned them from time to time of attempts by their legislature to extend an unwarrantable jurisdiction over us. We have reminded them of the circumstances of our emigration and settlement here. We have appealed to their native justice and magnanimity, and we have conjured them by the ties of our common kindred to disavow these usurpations, which, would inevitably interrupt our connections and correspondence. They too have been deaf to the voice of justice and of consanguinity. We must, therefore, acquiesce in the necessity, which denounces our Separation, and hold them, as we hold the rest of mankind, Enemies in War, in Peace Friends.\\n', '\\n', 'We, therefore, the Representatives of the United States of America, in General Congress, Assembled, appealing to the Supreme Judge of the world for the rectitude of our intentions, do, in the Name, and by Authority of the good People of these Colonies, solemnly publish and declare, That these United Colonies are, and of Right ought to be Free and Independent States; that they are Absolved from all Allegiance to the British Crown, and that all political connection between them and the State of Great Britain, is and ought to be totally dissolved; and that as Free and Independent States, they have full Power to levy War, conclude Peace, contract Alliances, establish Commerce, and to do all other Acts and Things which Independent States may of right do. And for the support of this Declaration, with a firm reliance on the protection of divine Providence, we mutually pledge to each other our Lives, our Fortunes and our sacred Honor.']\n",
      "[\"When in the Course of human events, it becomes necessary for one people to dissolve the political bands which have connected them with another, and to assume among the powers of the earth, the separate and equal station to which the Laws of Nature and of Nature's God entitle them, a decent respect to the opinions of mankind requires that they should declare the causes which impel them to the separation.\\n\", '\\n', 'We hold these truths to be self-evident, that all men are created equal, that they are endowed by their Creator with certain unalienable Rights, that among these are Life, Liberty and the pursuit of Happiness.--That to secure these rights, Governments are instituted among Men, deriving their just powers from the consent of the governed, --That whenever any Form of Government becomes destructive of these ends, it is the Right of the People to alter or to abolish it, and to institute new Government, laying its foundation on such principles and organizing its powers in such form, as to them shall seem most likely to effect their Safety and Happiness. Prudence, indeed, will dictate that Governments long established should not be changed for light and transient causes; and accordingly all experience hath shewn, that mankind are more disposed to suffer, while evils are sufferable, than to right themselves by abolishing the forms to which they are accustomed. But when a long train of abuses and usurpations, pursuing invariably the same Object evinces a design to reduce them under absolute Despotism, it is their right, it is their duty, to throw off such Government, and to provide new Guards for their future security.--Such has been the patient sufferance of these Colonies; and such is now the necessity which constrains them to alter their former Systems of Government. The history of the present King of Great Britain is a history of repeated injuries and usurpations, all having in direct object the establishment of an absolute Tyranny over these States. To prove this, let Facts be submitted to a candid world.\\n', '\\n', 'He has refused his Assent to Laws, the most wholesome and necessary for the public good.\\n', '\\n', 'He has forbidden his Governors to pass Laws of immediate and pressing importance, unless suspended in their operation till his Assent should be obtained; and when so suspended, he has utterly neglected to attend to them.\\n', '\\n', 'He has refused to pass other Laws for the accommodation of large districts of people, unless those people would relinquish the right of Representation in the Legislature, a right inestimable to them and formidable to tyrants only.\\n', '\\n', 'He has called together legislative bodies at places unusual, uncomfortable, and distant from the depository of their public Records, for the sole purpose of fatiguing them into compliance with his measures.\\n', '\\n', 'He has dissolved Representative Houses repeatedly, for opposing with manly firmness his invasions on the rights of the people.\\n', '\\n', 'He has refused for a long time, after such dissolutions, to cause others to be elected; whereby the Legislative powers, incapable of Annihilation, have returned to the People at large for their exercise; the State remaining in the mean time exposed to all the dangers of invasion from without, and convulsions within.\\n', '\\n', 'He has endeavoured to prevent the population of these States; for that purpose obstructing the Laws for Naturalization of Foreigners; refusing to pass others to encourage their migrations hither, and raising the conditions of new Appropriations of Lands.\\n', '\\n', 'He has obstructed the Administration of Justice, by refusing his Assent to Laws for establishing Judiciary powers.\\n', '\\n', 'He has made Judges dependent on his Will alone, for the tenure of their offices, and the amount and payment of their salaries.\\n', '\\n', 'He has erected a multitude of New Offices, and sent hither swarms of Officers to harrass our people, and eat out their substance.\\n', '\\n', 'He has kept among us, in times of peace, Standing Armies without the Consent of our legislatures.\\n', '\\n', 'He has affected to render the Military independent of and superior to the Civil power.\\n', '\\n', 'He has combined with others to subject us to a jurisdiction foreign to our constitution, and unacknowledged by our laws; giving his Assent to their Acts of pretended Legislation:\\n', '\\n', 'For Quartering large bodies of armed troops among us:\\n', '\\n', 'For protecting them, by a mock Trial, from punishment for any Murders which they should commit on the Inhabitants of these States:\\n', '\\n', 'For cutting off our Trade with all parts of the world:\\n', '\\n', 'For imposing Taxes on us without our Consent:\\n', '\\n', 'For depriving us in many cases, of the benefits of Trial by Jury:\\n', '\\n', 'For transporting us beyond Seas to be tried for pretended offences\\n', '\\n', 'For abolishing the free System of English Laws in a neighbouring Province, establishing therein an Arbitrary government, and enlarging its Boundaries so as to render it at once an example and fit instrument for introducing the same absolute rule into these Colonies:\\n', '\\n', 'For taking away our Charters, abolishing our most valuable Laws, and altering fundamentally the Forms of our Governments:\\n', '\\n', 'For suspending our own Legislatures, and declaring themselves invested with power to legislate for us in all cases whatsoever.\\n', '\\n', 'He has abdicated Government here, by declaring us out of his Protection and waging War against us.\\n', '\\n', 'He has plundered our seas, ravaged our Coasts, burnt our towns, and destroyed the lives of our people.\\n', '\\n', 'He is at this time transporting large Armies of foreign Mercenaries to compleat the works of death, desolation and tyranny, already begun with circumstances of Cruelty & perfidy scarcely paralleled in the most barbarous ages, and totally unworthy the Head of a civilized nation.\\n', '\\n', 'He has constrained our fellow Citizens taken Captive on the high Seas to bear Arms against their Country, to become the executioners of their friends and Brethren, or to fall themselves by their Hands.\\n', '\\n', 'He has excited domestic insurrections amongst us, and has endeavoured to bring on the inhabitants of our frontiers, the merciless Indian Savages, whose known rule of warfare, is an undistinguished destruction of all ages, sexes and conditions.\\n', '\\n', 'In every stage of these Oppressions We have Petitioned for Redress in the most humble terms: Our repeated Petitions have been answered only by repeated injury. A Prince whose character is thus marked by every act which may define a Tyrant, is unfit to be the ruler of a free people.\\n', '\\n', 'Nor have We been wanting in attentions to our Brittish brethren. We have warned them from time to time of attempts by their legislature to extend an unwarrantable jurisdiction over us. We have reminded them of the circumstances of our emigration and settlement here. We have appealed to their native justice and magnanimity, and we have conjured them by the ties of our common kindred to disavow these usurpations, which, would inevitably interrupt our connections and correspondence. They too have been deaf to the voice of justice and of consanguinity. We must, therefore, acquiesce in the necessity, which denounces our Separation, and hold them, as we hold the rest of mankind, Enemies in War, in Peace Friends.\\n', '\\n', 'We, therefore, the Representatives of the United States of America, in General Congress, Assembled, appealing to the Supreme Judge of the world for the rectitude of our intentions, do, in the Name, and by Authority of the good People of these Colonies, solemnly publish and declare, That these United Colonies are, and of Right ought to be Free and Independent States; that they are Absolved from all Allegiance to the British Crown, and that all political connection between them and the State of Great Britain, is and ought to be totally dissolved; and that as Free and Independent States, they have full Power to levy War, conclude Peace, contract Alliances, establish Commerce, and to do all other Acts and Things which Independent States may of right do. And for the support of this Declaration, with a firm reliance on the protection of divine Providence, we mutually pledge to each other our Lives, our Fortunes and our sacred Honor.']\n",
      "[\"When in the Course of human events, it becomes necessary for one people to dissolve the political bands which have connected them with another, and to assume among the powers of the earth, the separate and equal station to which the Laws of Nature and of Nature's God entitle them, a decent respect to the opinions of mankind requires that they should declare the causes which impel them to the separation.\\n\", '\\n', 'We hold these truths to be self-evident, that all men are created equal, that they are endowed by their Creator with certain unalienable Rights, that among these are Life, Liberty and the pursuit of Happiness.--That to secure these rights, Governments are instituted among Men, deriving their just powers from the consent of the governed, --That whenever any Form of Government becomes destructive of these ends, it is the Right of the People to alter or to abolish it, and to institute new Government, laying its foundation on such principles and organizing its powers in such form, as to them shall seem most likely to effect their Safety and Happiness. Prudence, indeed, will dictate that Governments long established should not be changed for light and transient causes; and accordingly all experience hath shewn, that mankind are more disposed to suffer, while evils are sufferable, than to right themselves by abolishing the forms to which they are accustomed. But when a long train of abuses and usurpations, pursuing invariably the same Object evinces a design to reduce them under absolute Despotism, it is their right, it is their duty, to throw off such Government, and to provide new Guards for their future security.--Such has been the patient sufferance of these Colonies; and such is now the necessity which constrains them to alter their former Systems of Government. The history of the present King of Great Britain is a history of repeated injuries and usurpations, all having in direct object the establishment of an absolute Tyranny over these States. To prove this, let Facts be submitted to a candid world.\\n', '\\n', 'He has refused his Assent to Laws, the most wholesome and necessary for the public good.\\n', '\\n', 'He has forbidden his Governors to pass Laws of immediate and pressing importance, unless suspended in their operation till his Assent should be obtained; and when so suspended, he has utterly neglected to attend to them.\\n', '\\n', 'He has refused to pass other Laws for the accommodation of large districts of people, unless those people would relinquish the right of Representation in the Legislature, a right inestimable to them and formidable to tyrants only.\\n', '\\n', 'He has called together legislative bodies at places unusual, uncomfortable, and distant from the depository of their public Records, for the sole purpose of fatiguing them into compliance with his measures.\\n', '\\n', 'He has dissolved Representative Houses repeatedly, for opposing with manly firmness his invasions on the rights of the people.\\n', '\\n', 'He has refused for a long time, after such dissolutions, to cause others to be elected; whereby the Legislative powers, incapable of Annihilation, have returned to the People at large for their exercise; the State remaining in the mean time exposed to all the dangers of invasion from without, and convulsions within.\\n', '\\n', 'He has endeavoured to prevent the population of these States; for that purpose obstructing the Laws for Naturalization of Foreigners; refusing to pass others to encourage their migrations hither, and raising the conditions of new Appropriations of Lands.\\n', '\\n', 'He has obstructed the Administration of Justice, by refusing his Assent to Laws for establishing Judiciary powers.\\n', '\\n', 'He has made Judges dependent on his Will alone, for the tenure of their offices, and the amount and payment of their salaries.\\n', '\\n', 'He has erected a multitude of New Offices, and sent hither swarms of Officers to harrass our people, and eat out their substance.\\n', '\\n', 'He has kept among us, in times of peace, Standing Armies without the Consent of our legislatures.\\n', '\\n', 'He has affected to render the Military independent of and superior to the Civil power.\\n', '\\n', 'He has combined with others to subject us to a jurisdiction foreign to our constitution, and unacknowledged by our laws; giving his Assent to their Acts of pretended Legislation:\\n', '\\n', 'For Quartering large bodies of armed troops among us:\\n', '\\n', 'For protecting them, by a mock Trial, from punishment for any Murders which they should commit on the Inhabitants of these States:\\n', '\\n', 'For cutting off our Trade with all parts of the world:\\n', '\\n', 'For imposing Taxes on us without our Consent:\\n', '\\n', 'For depriving us in many cases, of the benefits of Trial by Jury:\\n', '\\n', 'For transporting us beyond Seas to be tried for pretended offences\\n', '\\n', 'For abolishing the free System of English Laws in a neighbouring Province, establishing therein an Arbitrary government, and enlarging its Boundaries so as to render it at once an example and fit instrument for introducing the same absolute rule into these Colonies:\\n', '\\n', 'For taking away our Charters, abolishing our most valuable Laws, and altering fundamentally the Forms of our Governments:\\n', '\\n', 'For suspending our own Legislatures, and declaring themselves invested with power to legislate for us in all cases whatsoever.\\n', '\\n', 'He has abdicated Government here, by declaring us out of his Protection and waging War against us.\\n', '\\n', 'He has plundered our seas, ravaged our Coasts, burnt our towns, and destroyed the lives of our people.\\n', '\\n', 'He is at this time transporting large Armies of foreign Mercenaries to compleat the works of death, desolation and tyranny, already begun with circumstances of Cruelty & perfidy scarcely paralleled in the most barbarous ages, and totally unworthy the Head of a civilized nation.\\n', '\\n', 'He has constrained our fellow Citizens taken Captive on the high Seas to bear Arms against their Country, to become the executioners of their friends and Brethren, or to fall themselves by their Hands.\\n', '\\n', 'He has excited domestic insurrections amongst us, and has endeavoured to bring on the inhabitants of our frontiers, the merciless Indian Savages, whose known rule of warfare, is an undistinguished destruction of all ages, sexes and conditions.\\n', '\\n', 'In every stage of these Oppressions We have Petitioned for Redress in the most humble terms: Our repeated Petitions have been answered only by repeated injury. A Prince whose character is thus marked by every act which may define a Tyrant, is unfit to be the ruler of a free people.\\n', '\\n', 'Nor have We been wanting in attentions to our Brittish brethren. We have warned them from time to time of attempts by their legislature to extend an unwarrantable jurisdiction over us. We have reminded them of the circumstances of our emigration and settlement here. We have appealed to their native justice and magnanimity, and we have conjured them by the ties of our common kindred to disavow these usurpations, which, would inevitably interrupt our connections and correspondence. They too have been deaf to the voice of justice and of consanguinity. We must, therefore, acquiesce in the necessity, which denounces our Separation, and hold them, as we hold the rest of mankind, Enemies in War, in Peace Friends.\\n', '\\n', 'We, therefore, the Representatives of the United States of America, in General Congress, Assembled, appealing to the Supreme Judge of the world for the rectitude of our intentions, do, in the Name, and by Authority of the good People of these Colonies, solemnly publish and declare, That these United Colonies are, and of Right ought to be Free and Independent States; that they are Absolved from all Allegiance to the British Crown, and that all political connection between them and the State of Great Britain, is and ought to be totally dissolved; and that as Free and Independent States, they have full Power to levy War, conclude Peace, contract Alliances, establish Commerce, and to do all other Acts and Things which Independent States may of right do. And for the support of this Declaration, with a firm reliance on the protection of divine Providence, we mutually pledge to each other our Lives, our Fortunes and our sacred Honor.']\n",
      "[\"When in the Course of human events, it becomes necessary for one people to dissolve the political bands which have connected them with another, and to assume among the powers of the earth, the separate and equal station to which the Laws of Nature and of Nature's God entitle them, a decent respect to the opinions of mankind requires that they should declare the causes which impel them to the separation.\\n\", '\\n', 'We hold these truths to be self-evident, that all men are created equal, that they are endowed by their Creator with certain unalienable Rights, that among these are Life, Liberty and the pursuit of Happiness.--That to secure these rights, Governments are instituted among Men, deriving their just powers from the consent of the governed, --That whenever any Form of Government becomes destructive of these ends, it is the Right of the People to alter or to abolish it, and to institute new Government, laying its foundation on such principles and organizing its powers in such form, as to them shall seem most likely to effect their Safety and Happiness. Prudence, indeed, will dictate that Governments long established should not be changed for light and transient causes; and accordingly all experience hath shewn, that mankind are more disposed to suffer, while evils are sufferable, than to right themselves by abolishing the forms to which they are accustomed. But when a long train of abuses and usurpations, pursuing invariably the same Object evinces a design to reduce them under absolute Despotism, it is their right, it is their duty, to throw off such Government, and to provide new Guards for their future security.--Such has been the patient sufferance of these Colonies; and such is now the necessity which constrains them to alter their former Systems of Government. The history of the present King of Great Britain is a history of repeated injuries and usurpations, all having in direct object the establishment of an absolute Tyranny over these States. To prove this, let Facts be submitted to a candid world.\\n', '\\n', 'He has refused his Assent to Laws, the most wholesome and necessary for the public good.\\n', '\\n', 'He has forbidden his Governors to pass Laws of immediate and pressing importance, unless suspended in their operation till his Assent should be obtained; and when so suspended, he has utterly neglected to attend to them.\\n', '\\n', 'He has refused to pass other Laws for the accommodation of large districts of people, unless those people would relinquish the right of Representation in the Legislature, a right inestimable to them and formidable to tyrants only.\\n', '\\n', 'He has called together legislative bodies at places unusual, uncomfortable, and distant from the depository of their public Records, for the sole purpose of fatiguing them into compliance with his measures.\\n', '\\n', 'He has dissolved Representative Houses repeatedly, for opposing with manly firmness his invasions on the rights of the people.\\n', '\\n', 'He has refused for a long time, after such dissolutions, to cause others to be elected; whereby the Legislative powers, incapable of Annihilation, have returned to the People at large for their exercise; the State remaining in the mean time exposed to all the dangers of invasion from without, and convulsions within.\\n', '\\n', 'He has endeavoured to prevent the population of these States; for that purpose obstructing the Laws for Naturalization of Foreigners; refusing to pass others to encourage their migrations hither, and raising the conditions of new Appropriations of Lands.\\n', '\\n', 'He has obstructed the Administration of Justice, by refusing his Assent to Laws for establishing Judiciary powers.\\n', '\\n', 'He has made Judges dependent on his Will alone, for the tenure of their offices, and the amount and payment of their salaries.\\n', '\\n', 'He has erected a multitude of New Offices, and sent hither swarms of Officers to harrass our people, and eat out their substance.\\n', '\\n', 'He has kept among us, in times of peace, Standing Armies without the Consent of our legislatures.\\n', '\\n', 'He has affected to render the Military independent of and superior to the Civil power.\\n', '\\n', 'He has combined with others to subject us to a jurisdiction foreign to our constitution, and unacknowledged by our laws; giving his Assent to their Acts of pretended Legislation:\\n', '\\n', 'For Quartering large bodies of armed troops among us:\\n', '\\n', 'For protecting them, by a mock Trial, from punishment for any Murders which they should commit on the Inhabitants of these States:\\n', '\\n', 'For cutting off our Trade with all parts of the world:\\n', '\\n', 'For imposing Taxes on us without our Consent:\\n', '\\n', 'For depriving us in many cases, of the benefits of Trial by Jury:\\n', '\\n', 'For transporting us beyond Seas to be tried for pretended offences\\n', '\\n', 'For abolishing the free System of English Laws in a neighbouring Province, establishing therein an Arbitrary government, and enlarging its Boundaries so as to render it at once an example and fit instrument for introducing the same absolute rule into these Colonies:\\n', '\\n', 'For taking away our Charters, abolishing our most valuable Laws, and altering fundamentally the Forms of our Governments:\\n', '\\n', 'For suspending our own Legislatures, and declaring themselves invested with power to legislate for us in all cases whatsoever.\\n', '\\n', 'He has abdicated Government here, by declaring us out of his Protection and waging War against us.\\n', '\\n', 'He has plundered our seas, ravaged our Coasts, burnt our towns, and destroyed the lives of our people.\\n', '\\n', 'He is at this time transporting large Armies of foreign Mercenaries to compleat the works of death, desolation and tyranny, already begun with circumstances of Cruelty & perfidy scarcely paralleled in the most barbarous ages, and totally unworthy the Head of a civilized nation.\\n', '\\n', 'He has constrained our fellow Citizens taken Captive on the high Seas to bear Arms against their Country, to become the executioners of their friends and Brethren, or to fall themselves by their Hands.\\n', '\\n', 'He has excited domestic insurrections amongst us, and has endeavoured to bring on the inhabitants of our frontiers, the merciless Indian Savages, whose known rule of warfare, is an undistinguished destruction of all ages, sexes and conditions.\\n', '\\n', 'In every stage of these Oppressions We have Petitioned for Redress in the most humble terms: Our repeated Petitions have been answered only by repeated injury. A Prince whose character is thus marked by every act which may define a Tyrant, is unfit to be the ruler of a free people.\\n', '\\n', 'Nor have We been wanting in attentions to our Brittish brethren. We have warned them from time to time of attempts by their legislature to extend an unwarrantable jurisdiction over us. We have reminded them of the circumstances of our emigration and settlement here. We have appealed to their native justice and magnanimity, and we have conjured them by the ties of our common kindred to disavow these usurpations, which, would inevitably interrupt our connections and correspondence. They too have been deaf to the voice of justice and of consanguinity. We must, therefore, acquiesce in the necessity, which denounces our Separation, and hold them, as we hold the rest of mankind, Enemies in War, in Peace Friends.\\n', '\\n', 'We, therefore, the Representatives of the United States of America, in General Congress, Assembled, appealing to the Supreme Judge of the world for the rectitude of our intentions, do, in the Name, and by Authority of the good People of these Colonies, solemnly publish and declare, That these United Colonies are, and of Right ought to be Free and Independent States; that they are Absolved from all Allegiance to the British Crown, and that all political connection between them and the State of Great Britain, is and ought to be totally dissolved; and that as Free and Independent States, they have full Power to levy War, conclude Peace, contract Alliances, establish Commerce, and to do all other Acts and Things which Independent States may of right do. And for the support of this Declaration, with a firm reliance on the protection of divine Providence, we mutually pledge to each other our Lives, our Fortunes and our sacred Honor.']\n",
      "[\"When in the Course of human events, it becomes necessary for one people to dissolve the political bands which have connected them with another, and to assume among the powers of the earth, the separate and equal station to which the Laws of Nature and of Nature's God entitle them, a decent respect to the opinions of mankind requires that they should declare the causes which impel them to the separation.\\n\", '\\n', 'We hold these truths to be self-evident, that all men are created equal, that they are endowed by their Creator with certain unalienable Rights, that among these are Life, Liberty and the pursuit of Happiness.--That to secure these rights, Governments are instituted among Men, deriving their just powers from the consent of the governed, --That whenever any Form of Government becomes destructive of these ends, it is the Right of the People to alter or to abolish it, and to institute new Government, laying its foundation on such principles and organizing its powers in such form, as to them shall seem most likely to effect their Safety and Happiness. Prudence, indeed, will dictate that Governments long established should not be changed for light and transient causes; and accordingly all experience hath shewn, that mankind are more disposed to suffer, while evils are sufferable, than to right themselves by abolishing the forms to which they are accustomed. But when a long train of abuses and usurpations, pursuing invariably the same Object evinces a design to reduce them under absolute Despotism, it is their right, it is their duty, to throw off such Government, and to provide new Guards for their future security.--Such has been the patient sufferance of these Colonies; and such is now the necessity which constrains them to alter their former Systems of Government. The history of the present King of Great Britain is a history of repeated injuries and usurpations, all having in direct object the establishment of an absolute Tyranny over these States. To prove this, let Facts be submitted to a candid world.\\n', '\\n', 'He has refused his Assent to Laws, the most wholesome and necessary for the public good.\\n', '\\n', 'He has forbidden his Governors to pass Laws of immediate and pressing importance, unless suspended in their operation till his Assent should be obtained; and when so suspended, he has utterly neglected to attend to them.\\n', '\\n', 'He has refused to pass other Laws for the accommodation of large districts of people, unless those people would relinquish the right of Representation in the Legislature, a right inestimable to them and formidable to tyrants only.\\n', '\\n', 'He has called together legislative bodies at places unusual, uncomfortable, and distant from the depository of their public Records, for the sole purpose of fatiguing them into compliance with his measures.\\n', '\\n', 'He has dissolved Representative Houses repeatedly, for opposing with manly firmness his invasions on the rights of the people.\\n', '\\n', 'He has refused for a long time, after such dissolutions, to cause others to be elected; whereby the Legislative powers, incapable of Annihilation, have returned to the People at large for their exercise; the State remaining in the mean time exposed to all the dangers of invasion from without, and convulsions within.\\n', '\\n', 'He has endeavoured to prevent the population of these States; for that purpose obstructing the Laws for Naturalization of Foreigners; refusing to pass others to encourage their migrations hither, and raising the conditions of new Appropriations of Lands.\\n', '\\n', 'He has obstructed the Administration of Justice, by refusing his Assent to Laws for establishing Judiciary powers.\\n', '\\n', 'He has made Judges dependent on his Will alone, for the tenure of their offices, and the amount and payment of their salaries.\\n', '\\n', 'He has erected a multitude of New Offices, and sent hither swarms of Officers to harrass our people, and eat out their substance.\\n', '\\n', 'He has kept among us, in times of peace, Standing Armies without the Consent of our legislatures.\\n', '\\n', 'He has affected to render the Military independent of and superior to the Civil power.\\n', '\\n', 'He has combined with others to subject us to a jurisdiction foreign to our constitution, and unacknowledged by our laws; giving his Assent to their Acts of pretended Legislation:\\n', '\\n', 'For Quartering large bodies of armed troops among us:\\n', '\\n', 'For protecting them, by a mock Trial, from punishment for any Murders which they should commit on the Inhabitants of these States:\\n', '\\n', 'For cutting off our Trade with all parts of the world:\\n', '\\n', 'For imposing Taxes on us without our Consent:\\n', '\\n', 'For depriving us in many cases, of the benefits of Trial by Jury:\\n', '\\n', 'For transporting us beyond Seas to be tried for pretended offences\\n', '\\n', 'For abolishing the free System of English Laws in a neighbouring Province, establishing therein an Arbitrary government, and enlarging its Boundaries so as to render it at once an example and fit instrument for introducing the same absolute rule into these Colonies:\\n', '\\n', 'For taking away our Charters, abolishing our most valuable Laws, and altering fundamentally the Forms of our Governments:\\n', '\\n', 'For suspending our own Legislatures, and declaring themselves invested with power to legislate for us in all cases whatsoever.\\n', '\\n', 'He has abdicated Government here, by declaring us out of his Protection and waging War against us.\\n', '\\n', 'He has plundered our seas, ravaged our Coasts, burnt our towns, and destroyed the lives of our people.\\n', '\\n', 'He is at this time transporting large Armies of foreign Mercenaries to compleat the works of death, desolation and tyranny, already begun with circumstances of Cruelty & perfidy scarcely paralleled in the most barbarous ages, and totally unworthy the Head of a civilized nation.\\n', '\\n', 'He has constrained our fellow Citizens taken Captive on the high Seas to bear Arms against their Country, to become the executioners of their friends and Brethren, or to fall themselves by their Hands.\\n', '\\n', 'He has excited domestic insurrections amongst us, and has endeavoured to bring on the inhabitants of our frontiers, the merciless Indian Savages, whose known rule of warfare, is an undistinguished destruction of all ages, sexes and conditions.\\n', '\\n', 'In every stage of these Oppressions We have Petitioned for Redress in the most humble terms: Our repeated Petitions have been answered only by repeated injury. A Prince whose character is thus marked by every act which may define a Tyrant, is unfit to be the ruler of a free people.\\n', '\\n', 'Nor have We been wanting in attentions to our Brittish brethren. We have warned them from time to time of attempts by their legislature to extend an unwarrantable jurisdiction over us. We have reminded them of the circumstances of our emigration and settlement here. We have appealed to their native justice and magnanimity, and we have conjured them by the ties of our common kindred to disavow these usurpations, which, would inevitably interrupt our connections and correspondence. They too have been deaf to the voice of justice and of consanguinity. We must, therefore, acquiesce in the necessity, which denounces our Separation, and hold them, as we hold the rest of mankind, Enemies in War, in Peace Friends.\\n', '\\n', 'We, therefore, the Representatives of the United States of America, in General Congress, Assembled, appealing to the Supreme Judge of the world for the rectitude of our intentions, do, in the Name, and by Authority of the good People of these Colonies, solemnly publish and declare, That these United Colonies are, and of Right ought to be Free and Independent States; that they are Absolved from all Allegiance to the British Crown, and that all political connection between them and the State of Great Britain, is and ought to be totally dissolved; and that as Free and Independent States, they have full Power to levy War, conclude Peace, contract Alliances, establish Commerce, and to do all other Acts and Things which Independent States may of right do. And for the support of this Declaration, with a firm reliance on the protection of divine Providence, we mutually pledge to each other our Lives, our Fortunes and our sacred Honor.']\n",
      "[\"When in the Course of human events, it becomes necessary for one people to dissolve the political bands which have connected them with another, and to assume among the powers of the earth, the separate and equal station to which the Laws of Nature and of Nature's God entitle them, a decent respect to the opinions of mankind requires that they should declare the causes which impel them to the separation.\\n\", '\\n', 'We hold these truths to be self-evident, that all men are created equal, that they are endowed by their Creator with certain unalienable Rights, that among these are Life, Liberty and the pursuit of Happiness.--That to secure these rights, Governments are instituted among Men, deriving their just powers from the consent of the governed, --That whenever any Form of Government becomes destructive of these ends, it is the Right of the People to alter or to abolish it, and to institute new Government, laying its foundation on such principles and organizing its powers in such form, as to them shall seem most likely to effect their Safety and Happiness. Prudence, indeed, will dictate that Governments long established should not be changed for light and transient causes; and accordingly all experience hath shewn, that mankind are more disposed to suffer, while evils are sufferable, than to right themselves by abolishing the forms to which they are accustomed. But when a long train of abuses and usurpations, pursuing invariably the same Object evinces a design to reduce them under absolute Despotism, it is their right, it is their duty, to throw off such Government, and to provide new Guards for their future security.--Such has been the patient sufferance of these Colonies; and such is now the necessity which constrains them to alter their former Systems of Government. The history of the present King of Great Britain is a history of repeated injuries and usurpations, all having in direct object the establishment of an absolute Tyranny over these States. To prove this, let Facts be submitted to a candid world.\\n', '\\n', 'He has refused his Assent to Laws, the most wholesome and necessary for the public good.\\n', '\\n', 'He has forbidden his Governors to pass Laws of immediate and pressing importance, unless suspended in their operation till his Assent should be obtained; and when so suspended, he has utterly neglected to attend to them.\\n', '\\n', 'He has refused to pass other Laws for the accommodation of large districts of people, unless those people would relinquish the right of Representation in the Legislature, a right inestimable to them and formidable to tyrants only.\\n', '\\n', 'He has called together legislative bodies at places unusual, uncomfortable, and distant from the depository of their public Records, for the sole purpose of fatiguing them into compliance with his measures.\\n', '\\n', 'He has dissolved Representative Houses repeatedly, for opposing with manly firmness his invasions on the rights of the people.\\n', '\\n', 'He has refused for a long time, after such dissolutions, to cause others to be elected; whereby the Legislative powers, incapable of Annihilation, have returned to the People at large for their exercise; the State remaining in the mean time exposed to all the dangers of invasion from without, and convulsions within.\\n', '\\n', 'He has endeavoured to prevent the population of these States; for that purpose obstructing the Laws for Naturalization of Foreigners; refusing to pass others to encourage their migrations hither, and raising the conditions of new Appropriations of Lands.\\n', '\\n', 'He has obstructed the Administration of Justice, by refusing his Assent to Laws for establishing Judiciary powers.\\n', '\\n', 'He has made Judges dependent on his Will alone, for the tenure of their offices, and the amount and payment of their salaries.\\n', '\\n', 'He has erected a multitude of New Offices, and sent hither swarms of Officers to harrass our people, and eat out their substance.\\n', '\\n', 'He has kept among us, in times of peace, Standing Armies without the Consent of our legislatures.\\n', '\\n', 'He has affected to render the Military independent of and superior to the Civil power.\\n', '\\n', 'He has combined with others to subject us to a jurisdiction foreign to our constitution, and unacknowledged by our laws; giving his Assent to their Acts of pretended Legislation:\\n', '\\n', 'For Quartering large bodies of armed troops among us:\\n', '\\n', 'For protecting them, by a mock Trial, from punishment for any Murders which they should commit on the Inhabitants of these States:\\n', '\\n', 'For cutting off our Trade with all parts of the world:\\n', '\\n', 'For imposing Taxes on us without our Consent:\\n', '\\n', 'For depriving us in many cases, of the benefits of Trial by Jury:\\n', '\\n', 'For transporting us beyond Seas to be tried for pretended offences\\n', '\\n', 'For abolishing the free System of English Laws in a neighbouring Province, establishing therein an Arbitrary government, and enlarging its Boundaries so as to render it at once an example and fit instrument for introducing the same absolute rule into these Colonies:\\n', '\\n', 'For taking away our Charters, abolishing our most valuable Laws, and altering fundamentally the Forms of our Governments:\\n', '\\n', 'For suspending our own Legislatures, and declaring themselves invested with power to legislate for us in all cases whatsoever.\\n', '\\n', 'He has abdicated Government here, by declaring us out of his Protection and waging War against us.\\n', '\\n', 'He has plundered our seas, ravaged our Coasts, burnt our towns, and destroyed the lives of our people.\\n', '\\n', 'He is at this time transporting large Armies of foreign Mercenaries to compleat the works of death, desolation and tyranny, already begun with circumstances of Cruelty & perfidy scarcely paralleled in the most barbarous ages, and totally unworthy the Head of a civilized nation.\\n', '\\n', 'He has constrained our fellow Citizens taken Captive on the high Seas to bear Arms against their Country, to become the executioners of their friends and Brethren, or to fall themselves by their Hands.\\n', '\\n', 'He has excited domestic insurrections amongst us, and has endeavoured to bring on the inhabitants of our frontiers, the merciless Indian Savages, whose known rule of warfare, is an undistinguished destruction of all ages, sexes and conditions.\\n', '\\n', 'In every stage of these Oppressions We have Petitioned for Redress in the most humble terms: Our repeated Petitions have been answered only by repeated injury. A Prince whose character is thus marked by every act which may define a Tyrant, is unfit to be the ruler of a free people.\\n', '\\n', 'Nor have We been wanting in attentions to our Brittish brethren. We have warned them from time to time of attempts by their legislature to extend an unwarrantable jurisdiction over us. We have reminded them of the circumstances of our emigration and settlement here. We have appealed to their native justice and magnanimity, and we have conjured them by the ties of our common kindred to disavow these usurpations, which, would inevitably interrupt our connections and correspondence. They too have been deaf to the voice of justice and of consanguinity. We must, therefore, acquiesce in the necessity, which denounces our Separation, and hold them, as we hold the rest of mankind, Enemies in War, in Peace Friends.\\n', '\\n', 'We, therefore, the Representatives of the United States of America, in General Congress, Assembled, appealing to the Supreme Judge of the world for the rectitude of our intentions, do, in the Name, and by Authority of the good People of these Colonies, solemnly publish and declare, That these United Colonies are, and of Right ought to be Free and Independent States; that they are Absolved from all Allegiance to the British Crown, and that all political connection between them and the State of Great Britain, is and ought to be totally dissolved; and that as Free and Independent States, they have full Power to levy War, conclude Peace, contract Alliances, establish Commerce, and to do all other Acts and Things which Independent States may of right do. And for the support of this Declaration, with a firm reliance on the protection of divine Providence, we mutually pledge to each other our Lives, our Fortunes and our sacred Honor.']\n",
      "[\"When in the Course of human events, it becomes necessary for one people to dissolve the political bands which have connected them with another, and to assume among the powers of the earth, the separate and equal station to which the Laws of Nature and of Nature's God entitle them, a decent respect to the opinions of mankind requires that they should declare the causes which impel them to the separation.\\n\", '\\n', 'We hold these truths to be self-evident, that all men are created equal, that they are endowed by their Creator with certain unalienable Rights, that among these are Life, Liberty and the pursuit of Happiness.--That to secure these rights, Governments are instituted among Men, deriving their just powers from the consent of the governed, --That whenever any Form of Government becomes destructive of these ends, it is the Right of the People to alter or to abolish it, and to institute new Government, laying its foundation on such principles and organizing its powers in such form, as to them shall seem most likely to effect their Safety and Happiness. Prudence, indeed, will dictate that Governments long established should not be changed for light and transient causes; and accordingly all experience hath shewn, that mankind are more disposed to suffer, while evils are sufferable, than to right themselves by abolishing the forms to which they are accustomed. But when a long train of abuses and usurpations, pursuing invariably the same Object evinces a design to reduce them under absolute Despotism, it is their right, it is their duty, to throw off such Government, and to provide new Guards for their future security.--Such has been the patient sufferance of these Colonies; and such is now the necessity which constrains them to alter their former Systems of Government. The history of the present King of Great Britain is a history of repeated injuries and usurpations, all having in direct object the establishment of an absolute Tyranny over these States. To prove this, let Facts be submitted to a candid world.\\n', '\\n', 'He has refused his Assent to Laws, the most wholesome and necessary for the public good.\\n', '\\n', 'He has forbidden his Governors to pass Laws of immediate and pressing importance, unless suspended in their operation till his Assent should be obtained; and when so suspended, he has utterly neglected to attend to them.\\n', '\\n', 'He has refused to pass other Laws for the accommodation of large districts of people, unless those people would relinquish the right of Representation in the Legislature, a right inestimable to them and formidable to tyrants only.\\n', '\\n', 'He has called together legislative bodies at places unusual, uncomfortable, and distant from the depository of their public Records, for the sole purpose of fatiguing them into compliance with his measures.\\n', '\\n', 'He has dissolved Representative Houses repeatedly, for opposing with manly firmness his invasions on the rights of the people.\\n', '\\n', 'He has refused for a long time, after such dissolutions, to cause others to be elected; whereby the Legislative powers, incapable of Annihilation, have returned to the People at large for their exercise; the State remaining in the mean time exposed to all the dangers of invasion from without, and convulsions within.\\n', '\\n', 'He has endeavoured to prevent the population of these States; for that purpose obstructing the Laws for Naturalization of Foreigners; refusing to pass others to encourage their migrations hither, and raising the conditions of new Appropriations of Lands.\\n', '\\n', 'He has obstructed the Administration of Justice, by refusing his Assent to Laws for establishing Judiciary powers.\\n', '\\n', 'He has made Judges dependent on his Will alone, for the tenure of their offices, and the amount and payment of their salaries.\\n', '\\n', 'He has erected a multitude of New Offices, and sent hither swarms of Officers to harrass our people, and eat out their substance.\\n', '\\n', 'He has kept among us, in times of peace, Standing Armies without the Consent of our legislatures.\\n', '\\n', 'He has affected to render the Military independent of and superior to the Civil power.\\n', '\\n', 'He has combined with others to subject us to a jurisdiction foreign to our constitution, and unacknowledged by our laws; giving his Assent to their Acts of pretended Legislation:\\n', '\\n', 'For Quartering large bodies of armed troops among us:\\n', '\\n', 'For protecting them, by a mock Trial, from punishment for any Murders which they should commit on the Inhabitants of these States:\\n', '\\n', 'For cutting off our Trade with all parts of the world:\\n', '\\n', 'For imposing Taxes on us without our Consent:\\n', '\\n', 'For depriving us in many cases, of the benefits of Trial by Jury:\\n', '\\n', 'For transporting us beyond Seas to be tried for pretended offences\\n', '\\n', 'For abolishing the free System of English Laws in a neighbouring Province, establishing therein an Arbitrary government, and enlarging its Boundaries so as to render it at once an example and fit instrument for introducing the same absolute rule into these Colonies:\\n', '\\n', 'For taking away our Charters, abolishing our most valuable Laws, and altering fundamentally the Forms of our Governments:\\n', '\\n', 'For suspending our own Legislatures, and declaring themselves invested with power to legislate for us in all cases whatsoever.\\n', '\\n', 'He has abdicated Government here, by declaring us out of his Protection and waging War against us.\\n', '\\n', 'He has plundered our seas, ravaged our Coasts, burnt our towns, and destroyed the lives of our people.\\n', '\\n', 'He is at this time transporting large Armies of foreign Mercenaries to compleat the works of death, desolation and tyranny, already begun with circumstances of Cruelty & perfidy scarcely paralleled in the most barbarous ages, and totally unworthy the Head of a civilized nation.\\n', '\\n', 'He has constrained our fellow Citizens taken Captive on the high Seas to bear Arms against their Country, to become the executioners of their friends and Brethren, or to fall themselves by their Hands.\\n', '\\n', 'He has excited domestic insurrections amongst us, and has endeavoured to bring on the inhabitants of our frontiers, the merciless Indian Savages, whose known rule of warfare, is an undistinguished destruction of all ages, sexes and conditions.\\n', '\\n', 'In every stage of these Oppressions We have Petitioned for Redress in the most humble terms: Our repeated Petitions have been answered only by repeated injury. A Prince whose character is thus marked by every act which may define a Tyrant, is unfit to be the ruler of a free people.\\n', '\\n', 'Nor have We been wanting in attentions to our Brittish brethren. We have warned them from time to time of attempts by their legislature to extend an unwarrantable jurisdiction over us. We have reminded them of the circumstances of our emigration and settlement here. We have appealed to their native justice and magnanimity, and we have conjured them by the ties of our common kindred to disavow these usurpations, which, would inevitably interrupt our connections and correspondence. They too have been deaf to the voice of justice and of consanguinity. We must, therefore, acquiesce in the necessity, which denounces our Separation, and hold them, as we hold the rest of mankind, Enemies in War, in Peace Friends.\\n', '\\n', 'We, therefore, the Representatives of the United States of America, in General Congress, Assembled, appealing to the Supreme Judge of the world for the rectitude of our intentions, do, in the Name, and by Authority of the good People of these Colonies, solemnly publish and declare, That these United Colonies are, and of Right ought to be Free and Independent States; that they are Absolved from all Allegiance to the British Crown, and that all political connection between them and the State of Great Britain, is and ought to be totally dissolved; and that as Free and Independent States, they have full Power to levy War, conclude Peace, contract Alliances, establish Commerce, and to do all other Acts and Things which Independent States may of right do. And for the support of this Declaration, with a firm reliance on the protection of divine Providence, we mutually pledge to each other our Lives, our Fortunes and our sacred Honor.']\n",
      "[\"When in the Course of human events, it becomes necessary for one people to dissolve the political bands which have connected them with another, and to assume among the powers of the earth, the separate and equal station to which the Laws of Nature and of Nature's God entitle them, a decent respect to the opinions of mankind requires that they should declare the causes which impel them to the separation.\\n\", '\\n', 'We hold these truths to be self-evident, that all men are created equal, that they are endowed by their Creator with certain unalienable Rights, that among these are Life, Liberty and the pursuit of Happiness.--That to secure these rights, Governments are instituted among Men, deriving their just powers from the consent of the governed, --That whenever any Form of Government becomes destructive of these ends, it is the Right of the People to alter or to abolish it, and to institute new Government, laying its foundation on such principles and organizing its powers in such form, as to them shall seem most likely to effect their Safety and Happiness. Prudence, indeed, will dictate that Governments long established should not be changed for light and transient causes; and accordingly all experience hath shewn, that mankind are more disposed to suffer, while evils are sufferable, than to right themselves by abolishing the forms to which they are accustomed. But when a long train of abuses and usurpations, pursuing invariably the same Object evinces a design to reduce them under absolute Despotism, it is their right, it is their duty, to throw off such Government, and to provide new Guards for their future security.--Such has been the patient sufferance of these Colonies; and such is now the necessity which constrains them to alter their former Systems of Government. The history of the present King of Great Britain is a history of repeated injuries and usurpations, all having in direct object the establishment of an absolute Tyranny over these States. To prove this, let Facts be submitted to a candid world.\\n', '\\n', 'He has refused his Assent to Laws, the most wholesome and necessary for the public good.\\n', '\\n', 'He has forbidden his Governors to pass Laws of immediate and pressing importance, unless suspended in their operation till his Assent should be obtained; and when so suspended, he has utterly neglected to attend to them.\\n', '\\n', 'He has refused to pass other Laws for the accommodation of large districts of people, unless those people would relinquish the right of Representation in the Legislature, a right inestimable to them and formidable to tyrants only.\\n', '\\n', 'He has called together legislative bodies at places unusual, uncomfortable, and distant from the depository of their public Records, for the sole purpose of fatiguing them into compliance with his measures.\\n', '\\n', 'He has dissolved Representative Houses repeatedly, for opposing with manly firmness his invasions on the rights of the people.\\n', '\\n', 'He has refused for a long time, after such dissolutions, to cause others to be elected; whereby the Legislative powers, incapable of Annihilation, have returned to the People at large for their exercise; the State remaining in the mean time exposed to all the dangers of invasion from without, and convulsions within.\\n', '\\n', 'He has endeavoured to prevent the population of these States; for that purpose obstructing the Laws for Naturalization of Foreigners; refusing to pass others to encourage their migrations hither, and raising the conditions of new Appropriations of Lands.\\n', '\\n', 'He has obstructed the Administration of Justice, by refusing his Assent to Laws for establishing Judiciary powers.\\n', '\\n', 'He has made Judges dependent on his Will alone, for the tenure of their offices, and the amount and payment of their salaries.\\n', '\\n', 'He has erected a multitude of New Offices, and sent hither swarms of Officers to harrass our people, and eat out their substance.\\n', '\\n', 'He has kept among us, in times of peace, Standing Armies without the Consent of our legislatures.\\n', '\\n', 'He has affected to render the Military independent of and superior to the Civil power.\\n', '\\n', 'He has combined with others to subject us to a jurisdiction foreign to our constitution, and unacknowledged by our laws; giving his Assent to their Acts of pretended Legislation:\\n', '\\n', 'For Quartering large bodies of armed troops among us:\\n', '\\n', 'For protecting them, by a mock Trial, from punishment for any Murders which they should commit on the Inhabitants of these States:\\n', '\\n', 'For cutting off our Trade with all parts of the world:\\n', '\\n', 'For imposing Taxes on us without our Consent:\\n', '\\n', 'For depriving us in many cases, of the benefits of Trial by Jury:\\n', '\\n', 'For transporting us beyond Seas to be tried for pretended offences\\n', '\\n', 'For abolishing the free System of English Laws in a neighbouring Province, establishing therein an Arbitrary government, and enlarging its Boundaries so as to render it at once an example and fit instrument for introducing the same absolute rule into these Colonies:\\n', '\\n', 'For taking away our Charters, abolishing our most valuable Laws, and altering fundamentally the Forms of our Governments:\\n', '\\n', 'For suspending our own Legislatures, and declaring themselves invested with power to legislate for us in all cases whatsoever.\\n', '\\n', 'He has abdicated Government here, by declaring us out of his Protection and waging War against us.\\n', '\\n', 'He has plundered our seas, ravaged our Coasts, burnt our towns, and destroyed the lives of our people.\\n', '\\n', 'He is at this time transporting large Armies of foreign Mercenaries to compleat the works of death, desolation and tyranny, already begun with circumstances of Cruelty & perfidy scarcely paralleled in the most barbarous ages, and totally unworthy the Head of a civilized nation.\\n', '\\n', 'He has constrained our fellow Citizens taken Captive on the high Seas to bear Arms against their Country, to become the executioners of their friends and Brethren, or to fall themselves by their Hands.\\n', '\\n', 'He has excited domestic insurrections amongst us, and has endeavoured to bring on the inhabitants of our frontiers, the merciless Indian Savages, whose known rule of warfare, is an undistinguished destruction of all ages, sexes and conditions.\\n', '\\n', 'In every stage of these Oppressions We have Petitioned for Redress in the most humble terms: Our repeated Petitions have been answered only by repeated injury. A Prince whose character is thus marked by every act which may define a Tyrant, is unfit to be the ruler of a free people.\\n', '\\n', 'Nor have We been wanting in attentions to our Brittish brethren. We have warned them from time to time of attempts by their legislature to extend an unwarrantable jurisdiction over us. We have reminded them of the circumstances of our emigration and settlement here. We have appealed to their native justice and magnanimity, and we have conjured them by the ties of our common kindred to disavow these usurpations, which, would inevitably interrupt our connections and correspondence. They too have been deaf to the voice of justice and of consanguinity. We must, therefore, acquiesce in the necessity, which denounces our Separation, and hold them, as we hold the rest of mankind, Enemies in War, in Peace Friends.\\n', '\\n', 'We, therefore, the Representatives of the United States of America, in General Congress, Assembled, appealing to the Supreme Judge of the world for the rectitude of our intentions, do, in the Name, and by Authority of the good People of these Colonies, solemnly publish and declare, That these United Colonies are, and of Right ought to be Free and Independent States; that they are Absolved from all Allegiance to the British Crown, and that all political connection between them and the State of Great Britain, is and ought to be totally dissolved; and that as Free and Independent States, they have full Power to levy War, conclude Peace, contract Alliances, establish Commerce, and to do all other Acts and Things which Independent States may of right do. And for the support of this Declaration, with a firm reliance on the protection of divine Providence, we mutually pledge to each other our Lives, our Fortunes and our sacred Honor.']\n",
      "[\"When in the Course of human events, it becomes necessary for one people to dissolve the political bands which have connected them with another, and to assume among the powers of the earth, the separate and equal station to which the Laws of Nature and of Nature's God entitle them, a decent respect to the opinions of mankind requires that they should declare the causes which impel them to the separation.\\n\", '\\n', 'We hold these truths to be self-evident, that all men are created equal, that they are endowed by their Creator with certain unalienable Rights, that among these are Life, Liberty and the pursuit of Happiness.--That to secure these rights, Governments are instituted among Men, deriving their just powers from the consent of the governed, --That whenever any Form of Government becomes destructive of these ends, it is the Right of the People to alter or to abolish it, and to institute new Government, laying its foundation on such principles and organizing its powers in such form, as to them shall seem most likely to effect their Safety and Happiness. Prudence, indeed, will dictate that Governments long established should not be changed for light and transient causes; and accordingly all experience hath shewn, that mankind are more disposed to suffer, while evils are sufferable, than to right themselves by abolishing the forms to which they are accustomed. But when a long train of abuses and usurpations, pursuing invariably the same Object evinces a design to reduce them under absolute Despotism, it is their right, it is their duty, to throw off such Government, and to provide new Guards for their future security.--Such has been the patient sufferance of these Colonies; and such is now the necessity which constrains them to alter their former Systems of Government. The history of the present King of Great Britain is a history of repeated injuries and usurpations, all having in direct object the establishment of an absolute Tyranny over these States. To prove this, let Facts be submitted to a candid world.\\n', '\\n', 'He has refused his Assent to Laws, the most wholesome and necessary for the public good.\\n', '\\n', 'He has forbidden his Governors to pass Laws of immediate and pressing importance, unless suspended in their operation till his Assent should be obtained; and when so suspended, he has utterly neglected to attend to them.\\n', '\\n', 'He has refused to pass other Laws for the accommodation of large districts of people, unless those people would relinquish the right of Representation in the Legislature, a right inestimable to them and formidable to tyrants only.\\n', '\\n', 'He has called together legislative bodies at places unusual, uncomfortable, and distant from the depository of their public Records, for the sole purpose of fatiguing them into compliance with his measures.\\n', '\\n', 'He has dissolved Representative Houses repeatedly, for opposing with manly firmness his invasions on the rights of the people.\\n', '\\n', 'He has refused for a long time, after such dissolutions, to cause others to be elected; whereby the Legislative powers, incapable of Annihilation, have returned to the People at large for their exercise; the State remaining in the mean time exposed to all the dangers of invasion from without, and convulsions within.\\n', '\\n', 'He has endeavoured to prevent the population of these States; for that purpose obstructing the Laws for Naturalization of Foreigners; refusing to pass others to encourage their migrations hither, and raising the conditions of new Appropriations of Lands.\\n', '\\n', 'He has obstructed the Administration of Justice, by refusing his Assent to Laws for establishing Judiciary powers.\\n', '\\n', 'He has made Judges dependent on his Will alone, for the tenure of their offices, and the amount and payment of their salaries.\\n', '\\n', 'He has erected a multitude of New Offices, and sent hither swarms of Officers to harrass our people, and eat out their substance.\\n', '\\n', 'He has kept among us, in times of peace, Standing Armies without the Consent of our legislatures.\\n', '\\n', 'He has affected to render the Military independent of and superior to the Civil power.\\n', '\\n', 'He has combined with others to subject us to a jurisdiction foreign to our constitution, and unacknowledged by our laws; giving his Assent to their Acts of pretended Legislation:\\n', '\\n', 'For Quartering large bodies of armed troops among us:\\n', '\\n', 'For protecting them, by a mock Trial, from punishment for any Murders which they should commit on the Inhabitants of these States:\\n', '\\n', 'For cutting off our Trade with all parts of the world:\\n', '\\n', 'For imposing Taxes on us without our Consent:\\n', '\\n', 'For depriving us in many cases, of the benefits of Trial by Jury:\\n', '\\n', 'For transporting us beyond Seas to be tried for pretended offences\\n', '\\n', 'For abolishing the free System of English Laws in a neighbouring Province, establishing therein an Arbitrary government, and enlarging its Boundaries so as to render it at once an example and fit instrument for introducing the same absolute rule into these Colonies:\\n', '\\n', 'For taking away our Charters, abolishing our most valuable Laws, and altering fundamentally the Forms of our Governments:\\n', '\\n', 'For suspending our own Legislatures, and declaring themselves invested with power to legislate for us in all cases whatsoever.\\n', '\\n', 'He has abdicated Government here, by declaring us out of his Protection and waging War against us.\\n', '\\n', 'He has plundered our seas, ravaged our Coasts, burnt our towns, and destroyed the lives of our people.\\n', '\\n', 'He is at this time transporting large Armies of foreign Mercenaries to compleat the works of death, desolation and tyranny, already begun with circumstances of Cruelty & perfidy scarcely paralleled in the most barbarous ages, and totally unworthy the Head of a civilized nation.\\n', '\\n', 'He has constrained our fellow Citizens taken Captive on the high Seas to bear Arms against their Country, to become the executioners of their friends and Brethren, or to fall themselves by their Hands.\\n', '\\n', 'He has excited domestic insurrections amongst us, and has endeavoured to bring on the inhabitants of our frontiers, the merciless Indian Savages, whose known rule of warfare, is an undistinguished destruction of all ages, sexes and conditions.\\n', '\\n', 'In every stage of these Oppressions We have Petitioned for Redress in the most humble terms: Our repeated Petitions have been answered only by repeated injury. A Prince whose character is thus marked by every act which may define a Tyrant, is unfit to be the ruler of a free people.\\n', '\\n', 'Nor have We been wanting in attentions to our Brittish brethren. We have warned them from time to time of attempts by their legislature to extend an unwarrantable jurisdiction over us. We have reminded them of the circumstances of our emigration and settlement here. We have appealed to their native justice and magnanimity, and we have conjured them by the ties of our common kindred to disavow these usurpations, which, would inevitably interrupt our connections and correspondence. They too have been deaf to the voice of justice and of consanguinity. We must, therefore, acquiesce in the necessity, which denounces our Separation, and hold them, as we hold the rest of mankind, Enemies in War, in Peace Friends.\\n', '\\n', 'We, therefore, the Representatives of the United States of America, in General Congress, Assembled, appealing to the Supreme Judge of the world for the rectitude of our intentions, do, in the Name, and by Authority of the good People of these Colonies, solemnly publish and declare, That these United Colonies are, and of Right ought to be Free and Independent States; that they are Absolved from all Allegiance to the British Crown, and that all political connection between them and the State of Great Britain, is and ought to be totally dissolved; and that as Free and Independent States, they have full Power to levy War, conclude Peace, contract Alliances, establish Commerce, and to do all other Acts and Things which Independent States may of right do. And for the support of this Declaration, with a firm reliance on the protection of divine Providence, we mutually pledge to each other our Lives, our Fortunes and our sacred Honor.']\n",
      "[\"When in the Course of human events, it becomes necessary for one people to dissolve the political bands which have connected them with another, and to assume among the powers of the earth, the separate and equal station to which the Laws of Nature and of Nature's God entitle them, a decent respect to the opinions of mankind requires that they should declare the causes which impel them to the separation.\\n\", '\\n', 'We hold these truths to be self-evident, that all men are created equal, that they are endowed by their Creator with certain unalienable Rights, that among these are Life, Liberty and the pursuit of Happiness.--That to secure these rights, Governments are instituted among Men, deriving their just powers from the consent of the governed, --That whenever any Form of Government becomes destructive of these ends, it is the Right of the People to alter or to abolish it, and to institute new Government, laying its foundation on such principles and organizing its powers in such form, as to them shall seem most likely to effect their Safety and Happiness. Prudence, indeed, will dictate that Governments long established should not be changed for light and transient causes; and accordingly all experience hath shewn, that mankind are more disposed to suffer, while evils are sufferable, than to right themselves by abolishing the forms to which they are accustomed. But when a long train of abuses and usurpations, pursuing invariably the same Object evinces a design to reduce them under absolute Despotism, it is their right, it is their duty, to throw off such Government, and to provide new Guards for their future security.--Such has been the patient sufferance of these Colonies; and such is now the necessity which constrains them to alter their former Systems of Government. The history of the present King of Great Britain is a history of repeated injuries and usurpations, all having in direct object the establishment of an absolute Tyranny over these States. To prove this, let Facts be submitted to a candid world.\\n', '\\n', 'He has refused his Assent to Laws, the most wholesome and necessary for the public good.\\n', '\\n', 'He has forbidden his Governors to pass Laws of immediate and pressing importance, unless suspended in their operation till his Assent should be obtained; and when so suspended, he has utterly neglected to attend to them.\\n', '\\n', 'He has refused to pass other Laws for the accommodation of large districts of people, unless those people would relinquish the right of Representation in the Legislature, a right inestimable to them and formidable to tyrants only.\\n', '\\n', 'He has called together legislative bodies at places unusual, uncomfortable, and distant from the depository of their public Records, for the sole purpose of fatiguing them into compliance with his measures.\\n', '\\n', 'He has dissolved Representative Houses repeatedly, for opposing with manly firmness his invasions on the rights of the people.\\n', '\\n', 'He has refused for a long time, after such dissolutions, to cause others to be elected; whereby the Legislative powers, incapable of Annihilation, have returned to the People at large for their exercise; the State remaining in the mean time exposed to all the dangers of invasion from without, and convulsions within.\\n', '\\n', 'He has endeavoured to prevent the population of these States; for that purpose obstructing the Laws for Naturalization of Foreigners; refusing to pass others to encourage their migrations hither, and raising the conditions of new Appropriations of Lands.\\n', '\\n', 'He has obstructed the Administration of Justice, by refusing his Assent to Laws for establishing Judiciary powers.\\n', '\\n', 'He has made Judges dependent on his Will alone, for the tenure of their offices, and the amount and payment of their salaries.\\n', '\\n', 'He has erected a multitude of New Offices, and sent hither swarms of Officers to harrass our people, and eat out their substance.\\n', '\\n', 'He has kept among us, in times of peace, Standing Armies without the Consent of our legislatures.\\n', '\\n', 'He has affected to render the Military independent of and superior to the Civil power.\\n', '\\n', 'He has combined with others to subject us to a jurisdiction foreign to our constitution, and unacknowledged by our laws; giving his Assent to their Acts of pretended Legislation:\\n', '\\n', 'For Quartering large bodies of armed troops among us:\\n', '\\n', 'For protecting them, by a mock Trial, from punishment for any Murders which they should commit on the Inhabitants of these States:\\n', '\\n', 'For cutting off our Trade with all parts of the world:\\n', '\\n', 'For imposing Taxes on us without our Consent:\\n', '\\n', 'For depriving us in many cases, of the benefits of Trial by Jury:\\n', '\\n', 'For transporting us beyond Seas to be tried for pretended offences\\n', '\\n', 'For abolishing the free System of English Laws in a neighbouring Province, establishing therein an Arbitrary government, and enlarging its Boundaries so as to render it at once an example and fit instrument for introducing the same absolute rule into these Colonies:\\n', '\\n', 'For taking away our Charters, abolishing our most valuable Laws, and altering fundamentally the Forms of our Governments:\\n', '\\n', 'For suspending our own Legislatures, and declaring themselves invested with power to legislate for us in all cases whatsoever.\\n', '\\n', 'He has abdicated Government here, by declaring us out of his Protection and waging War against us.\\n', '\\n', 'He has plundered our seas, ravaged our Coasts, burnt our towns, and destroyed the lives of our people.\\n', '\\n', 'He is at this time transporting large Armies of foreign Mercenaries to compleat the works of death, desolation and tyranny, already begun with circumstances of Cruelty & perfidy scarcely paralleled in the most barbarous ages, and totally unworthy the Head of a civilized nation.\\n', '\\n', 'He has constrained our fellow Citizens taken Captive on the high Seas to bear Arms against their Country, to become the executioners of their friends and Brethren, or to fall themselves by their Hands.\\n', '\\n', 'He has excited domestic insurrections amongst us, and has endeavoured to bring on the inhabitants of our frontiers, the merciless Indian Savages, whose known rule of warfare, is an undistinguished destruction of all ages, sexes and conditions.\\n', '\\n', 'In every stage of these Oppressions We have Petitioned for Redress in the most humble terms: Our repeated Petitions have been answered only by repeated injury. A Prince whose character is thus marked by every act which may define a Tyrant, is unfit to be the ruler of a free people.\\n', '\\n', 'Nor have We been wanting in attentions to our Brittish brethren. We have warned them from time to time of attempts by their legislature to extend an unwarrantable jurisdiction over us. We have reminded them of the circumstances of our emigration and settlement here. We have appealed to their native justice and magnanimity, and we have conjured them by the ties of our common kindred to disavow these usurpations, which, would inevitably interrupt our connections and correspondence. They too have been deaf to the voice of justice and of consanguinity. We must, therefore, acquiesce in the necessity, which denounces our Separation, and hold them, as we hold the rest of mankind, Enemies in War, in Peace Friends.\\n', '\\n', 'We, therefore, the Representatives of the United States of America, in General Congress, Assembled, appealing to the Supreme Judge of the world for the rectitude of our intentions, do, in the Name, and by Authority of the good People of these Colonies, solemnly publish and declare, That these United Colonies are, and of Right ought to be Free and Independent States; that they are Absolved from all Allegiance to the British Crown, and that all political connection between them and the State of Great Britain, is and ought to be totally dissolved; and that as Free and Independent States, they have full Power to levy War, conclude Peace, contract Alliances, establish Commerce, and to do all other Acts and Things which Independent States may of right do. And for the support of this Declaration, with a firm reliance on the protection of divine Providence, we mutually pledge to each other our Lives, our Fortunes and our sacred Honor.']\n",
      "[\"When in the Course of human events, it becomes necessary for one people to dissolve the political bands which have connected them with another, and to assume among the powers of the earth, the separate and equal station to which the Laws of Nature and of Nature's God entitle them, a decent respect to the opinions of mankind requires that they should declare the causes which impel them to the separation.\\n\", '\\n', 'We hold these truths to be self-evident, that all men are created equal, that they are endowed by their Creator with certain unalienable Rights, that among these are Life, Liberty and the pursuit of Happiness.--That to secure these rights, Governments are instituted among Men, deriving their just powers from the consent of the governed, --That whenever any Form of Government becomes destructive of these ends, it is the Right of the People to alter or to abolish it, and to institute new Government, laying its foundation on such principles and organizing its powers in such form, as to them shall seem most likely to effect their Safety and Happiness. Prudence, indeed, will dictate that Governments long established should not be changed for light and transient causes; and accordingly all experience hath shewn, that mankind are more disposed to suffer, while evils are sufferable, than to right themselves by abolishing the forms to which they are accustomed. But when a long train of abuses and usurpations, pursuing invariably the same Object evinces a design to reduce them under absolute Despotism, it is their right, it is their duty, to throw off such Government, and to provide new Guards for their future security.--Such has been the patient sufferance of these Colonies; and such is now the necessity which constrains them to alter their former Systems of Government. The history of the present King of Great Britain is a history of repeated injuries and usurpations, all having in direct object the establishment of an absolute Tyranny over these States. To prove this, let Facts be submitted to a candid world.\\n', '\\n', 'He has refused his Assent to Laws, the most wholesome and necessary for the public good.\\n', '\\n', 'He has forbidden his Governors to pass Laws of immediate and pressing importance, unless suspended in their operation till his Assent should be obtained; and when so suspended, he has utterly neglected to attend to them.\\n', '\\n', 'He has refused to pass other Laws for the accommodation of large districts of people, unless those people would relinquish the right of Representation in the Legislature, a right inestimable to them and formidable to tyrants only.\\n', '\\n', 'He has called together legislative bodies at places unusual, uncomfortable, and distant from the depository of their public Records, for the sole purpose of fatiguing them into compliance with his measures.\\n', '\\n', 'He has dissolved Representative Houses repeatedly, for opposing with manly firmness his invasions on the rights of the people.\\n', '\\n', 'He has refused for a long time, after such dissolutions, to cause others to be elected; whereby the Legislative powers, incapable of Annihilation, have returned to the People at large for their exercise; the State remaining in the mean time exposed to all the dangers of invasion from without, and convulsions within.\\n', '\\n', 'He has endeavoured to prevent the population of these States; for that purpose obstructing the Laws for Naturalization of Foreigners; refusing to pass others to encourage their migrations hither, and raising the conditions of new Appropriations of Lands.\\n', '\\n', 'He has obstructed the Administration of Justice, by refusing his Assent to Laws for establishing Judiciary powers.\\n', '\\n', 'He has made Judges dependent on his Will alone, for the tenure of their offices, and the amount and payment of their salaries.\\n', '\\n', 'He has erected a multitude of New Offices, and sent hither swarms of Officers to harrass our people, and eat out their substance.\\n', '\\n', 'He has kept among us, in times of peace, Standing Armies without the Consent of our legislatures.\\n', '\\n', 'He has affected to render the Military independent of and superior to the Civil power.\\n', '\\n', 'He has combined with others to subject us to a jurisdiction foreign to our constitution, and unacknowledged by our laws; giving his Assent to their Acts of pretended Legislation:\\n', '\\n', 'For Quartering large bodies of armed troops among us:\\n', '\\n', 'For protecting them, by a mock Trial, from punishment for any Murders which they should commit on the Inhabitants of these States:\\n', '\\n', 'For cutting off our Trade with all parts of the world:\\n', '\\n', 'For imposing Taxes on us without our Consent:\\n', '\\n', 'For depriving us in many cases, of the benefits of Trial by Jury:\\n', '\\n', 'For transporting us beyond Seas to be tried for pretended offences\\n', '\\n', 'For abolishing the free System of English Laws in a neighbouring Province, establishing therein an Arbitrary government, and enlarging its Boundaries so as to render it at once an example and fit instrument for introducing the same absolute rule into these Colonies:\\n', '\\n', 'For taking away our Charters, abolishing our most valuable Laws, and altering fundamentally the Forms of our Governments:\\n', '\\n', 'For suspending our own Legislatures, and declaring themselves invested with power to legislate for us in all cases whatsoever.\\n', '\\n', 'He has abdicated Government here, by declaring us out of his Protection and waging War against us.\\n', '\\n', 'He has plundered our seas, ravaged our Coasts, burnt our towns, and destroyed the lives of our people.\\n', '\\n', 'He is at this time transporting large Armies of foreign Mercenaries to compleat the works of death, desolation and tyranny, already begun with circumstances of Cruelty & perfidy scarcely paralleled in the most barbarous ages, and totally unworthy the Head of a civilized nation.\\n', '\\n', 'He has constrained our fellow Citizens taken Captive on the high Seas to bear Arms against their Country, to become the executioners of their friends and Brethren, or to fall themselves by their Hands.\\n', '\\n', 'He has excited domestic insurrections amongst us, and has endeavoured to bring on the inhabitants of our frontiers, the merciless Indian Savages, whose known rule of warfare, is an undistinguished destruction of all ages, sexes and conditions.\\n', '\\n', 'In every stage of these Oppressions We have Petitioned for Redress in the most humble terms: Our repeated Petitions have been answered only by repeated injury. A Prince whose character is thus marked by every act which may define a Tyrant, is unfit to be the ruler of a free people.\\n', '\\n', 'Nor have We been wanting in attentions to our Brittish brethren. We have warned them from time to time of attempts by their legislature to extend an unwarrantable jurisdiction over us. We have reminded them of the circumstances of our emigration and settlement here. We have appealed to their native justice and magnanimity, and we have conjured them by the ties of our common kindred to disavow these usurpations, which, would inevitably interrupt our connections and correspondence. They too have been deaf to the voice of justice and of consanguinity. We must, therefore, acquiesce in the necessity, which denounces our Separation, and hold them, as we hold the rest of mankind, Enemies in War, in Peace Friends.\\n', '\\n', 'We, therefore, the Representatives of the United States of America, in General Congress, Assembled, appealing to the Supreme Judge of the world for the rectitude of our intentions, do, in the Name, and by Authority of the good People of these Colonies, solemnly publish and declare, That these United Colonies are, and of Right ought to be Free and Independent States; that they are Absolved from all Allegiance to the British Crown, and that all political connection between them and the State of Great Britain, is and ought to be totally dissolved; and that as Free and Independent States, they have full Power to levy War, conclude Peace, contract Alliances, establish Commerce, and to do all other Acts and Things which Independent States may of right do. And for the support of this Declaration, with a firm reliance on the protection of divine Providence, we mutually pledge to each other our Lives, our Fortunes and our sacred Honor.']\n",
      "[\"When in the Course of human events, it becomes necessary for one people to dissolve the political bands which have connected them with another, and to assume among the powers of the earth, the separate and equal station to which the Laws of Nature and of Nature's God entitle them, a decent respect to the opinions of mankind requires that they should declare the causes which impel them to the separation.\\n\", '\\n', 'We hold these truths to be self-evident, that all men are created equal, that they are endowed by their Creator with certain unalienable Rights, that among these are Life, Liberty and the pursuit of Happiness.--That to secure these rights, Governments are instituted among Men, deriving their just powers from the consent of the governed, --That whenever any Form of Government becomes destructive of these ends, it is the Right of the People to alter or to abolish it, and to institute new Government, laying its foundation on such principles and organizing its powers in such form, as to them shall seem most likely to effect their Safety and Happiness. Prudence, indeed, will dictate that Governments long established should not be changed for light and transient causes; and accordingly all experience hath shewn, that mankind are more disposed to suffer, while evils are sufferable, than to right themselves by abolishing the forms to which they are accustomed. But when a long train of abuses and usurpations, pursuing invariably the same Object evinces a design to reduce them under absolute Despotism, it is their right, it is their duty, to throw off such Government, and to provide new Guards for their future security.--Such has been the patient sufferance of these Colonies; and such is now the necessity which constrains them to alter their former Systems of Government. The history of the present King of Great Britain is a history of repeated injuries and usurpations, all having in direct object the establishment of an absolute Tyranny over these States. To prove this, let Facts be submitted to a candid world.\\n', '\\n', 'He has refused his Assent to Laws, the most wholesome and necessary for the public good.\\n', '\\n', 'He has forbidden his Governors to pass Laws of immediate and pressing importance, unless suspended in their operation till his Assent should be obtained; and when so suspended, he has utterly neglected to attend to them.\\n', '\\n', 'He has refused to pass other Laws for the accommodation of large districts of people, unless those people would relinquish the right of Representation in the Legislature, a right inestimable to them and formidable to tyrants only.\\n', '\\n', 'He has called together legislative bodies at places unusual, uncomfortable, and distant from the depository of their public Records, for the sole purpose of fatiguing them into compliance with his measures.\\n', '\\n', 'He has dissolved Representative Houses repeatedly, for opposing with manly firmness his invasions on the rights of the people.\\n', '\\n', 'He has refused for a long time, after such dissolutions, to cause others to be elected; whereby the Legislative powers, incapable of Annihilation, have returned to the People at large for their exercise; the State remaining in the mean time exposed to all the dangers of invasion from without, and convulsions within.\\n', '\\n', 'He has endeavoured to prevent the population of these States; for that purpose obstructing the Laws for Naturalization of Foreigners; refusing to pass others to encourage their migrations hither, and raising the conditions of new Appropriations of Lands.\\n', '\\n', 'He has obstructed the Administration of Justice, by refusing his Assent to Laws for establishing Judiciary powers.\\n', '\\n', 'He has made Judges dependent on his Will alone, for the tenure of their offices, and the amount and payment of their salaries.\\n', '\\n', 'He has erected a multitude of New Offices, and sent hither swarms of Officers to harrass our people, and eat out their substance.\\n', '\\n', 'He has kept among us, in times of peace, Standing Armies without the Consent of our legislatures.\\n', '\\n', 'He has affected to render the Military independent of and superior to the Civil power.\\n', '\\n', 'He has combined with others to subject us to a jurisdiction foreign to our constitution, and unacknowledged by our laws; giving his Assent to their Acts of pretended Legislation:\\n', '\\n', 'For Quartering large bodies of armed troops among us:\\n', '\\n', 'For protecting them, by a mock Trial, from punishment for any Murders which they should commit on the Inhabitants of these States:\\n', '\\n', 'For cutting off our Trade with all parts of the world:\\n', '\\n', 'For imposing Taxes on us without our Consent:\\n', '\\n', 'For depriving us in many cases, of the benefits of Trial by Jury:\\n', '\\n', 'For transporting us beyond Seas to be tried for pretended offences\\n', '\\n', 'For abolishing the free System of English Laws in a neighbouring Province, establishing therein an Arbitrary government, and enlarging its Boundaries so as to render it at once an example and fit instrument for introducing the same absolute rule into these Colonies:\\n', '\\n', 'For taking away our Charters, abolishing our most valuable Laws, and altering fundamentally the Forms of our Governments:\\n', '\\n', 'For suspending our own Legislatures, and declaring themselves invested with power to legislate for us in all cases whatsoever.\\n', '\\n', 'He has abdicated Government here, by declaring us out of his Protection and waging War against us.\\n', '\\n', 'He has plundered our seas, ravaged our Coasts, burnt our towns, and destroyed the lives of our people.\\n', '\\n', 'He is at this time transporting large Armies of foreign Mercenaries to compleat the works of death, desolation and tyranny, already begun with circumstances of Cruelty & perfidy scarcely paralleled in the most barbarous ages, and totally unworthy the Head of a civilized nation.\\n', '\\n', 'He has constrained our fellow Citizens taken Captive on the high Seas to bear Arms against their Country, to become the executioners of their friends and Brethren, or to fall themselves by their Hands.\\n', '\\n', 'He has excited domestic insurrections amongst us, and has endeavoured to bring on the inhabitants of our frontiers, the merciless Indian Savages, whose known rule of warfare, is an undistinguished destruction of all ages, sexes and conditions.\\n', '\\n', 'In every stage of these Oppressions We have Petitioned for Redress in the most humble terms: Our repeated Petitions have been answered only by repeated injury. A Prince whose character is thus marked by every act which may define a Tyrant, is unfit to be the ruler of a free people.\\n', '\\n', 'Nor have We been wanting in attentions to our Brittish brethren. We have warned them from time to time of attempts by their legislature to extend an unwarrantable jurisdiction over us. We have reminded them of the circumstances of our emigration and settlement here. We have appealed to their native justice and magnanimity, and we have conjured them by the ties of our common kindred to disavow these usurpations, which, would inevitably interrupt our connections and correspondence. They too have been deaf to the voice of justice and of consanguinity. We must, therefore, acquiesce in the necessity, which denounces our Separation, and hold them, as we hold the rest of mankind, Enemies in War, in Peace Friends.\\n', '\\n', 'We, therefore, the Representatives of the United States of America, in General Congress, Assembled, appealing to the Supreme Judge of the world for the rectitude of our intentions, do, in the Name, and by Authority of the good People of these Colonies, solemnly publish and declare, That these United Colonies are, and of Right ought to be Free and Independent States; that they are Absolved from all Allegiance to the British Crown, and that all political connection between them and the State of Great Britain, is and ought to be totally dissolved; and that as Free and Independent States, they have full Power to levy War, conclude Peace, contract Alliances, establish Commerce, and to do all other Acts and Things which Independent States may of right do. And for the support of this Declaration, with a firm reliance on the protection of divine Providence, we mutually pledge to each other our Lives, our Fortunes and our sacred Honor.']\n",
      "[\"When in the Course of human events, it becomes necessary for one people to dissolve the political bands which have connected them with another, and to assume among the powers of the earth, the separate and equal station to which the Laws of Nature and of Nature's God entitle them, a decent respect to the opinions of mankind requires that they should declare the causes which impel them to the separation.\\n\", '\\n', 'We hold these truths to be self-evident, that all men are created equal, that they are endowed by their Creator with certain unalienable Rights, that among these are Life, Liberty and the pursuit of Happiness.--That to secure these rights, Governments are instituted among Men, deriving their just powers from the consent of the governed, --That whenever any Form of Government becomes destructive of these ends, it is the Right of the People to alter or to abolish it, and to institute new Government, laying its foundation on such principles and organizing its powers in such form, as to them shall seem most likely to effect their Safety and Happiness. Prudence, indeed, will dictate that Governments long established should not be changed for light and transient causes; and accordingly all experience hath shewn, that mankind are more disposed to suffer, while evils are sufferable, than to right themselves by abolishing the forms to which they are accustomed. But when a long train of abuses and usurpations, pursuing invariably the same Object evinces a design to reduce them under absolute Despotism, it is their right, it is their duty, to throw off such Government, and to provide new Guards for their future security.--Such has been the patient sufferance of these Colonies; and such is now the necessity which constrains them to alter their former Systems of Government. The history of the present King of Great Britain is a history of repeated injuries and usurpations, all having in direct object the establishment of an absolute Tyranny over these States. To prove this, let Facts be submitted to a candid world.\\n', '\\n', 'He has refused his Assent to Laws, the most wholesome and necessary for the public good.\\n', '\\n', 'He has forbidden his Governors to pass Laws of immediate and pressing importance, unless suspended in their operation till his Assent should be obtained; and when so suspended, he has utterly neglected to attend to them.\\n', '\\n', 'He has refused to pass other Laws for the accommodation of large districts of people, unless those people would relinquish the right of Representation in the Legislature, a right inestimable to them and formidable to tyrants only.\\n', '\\n', 'He has called together legislative bodies at places unusual, uncomfortable, and distant from the depository of their public Records, for the sole purpose of fatiguing them into compliance with his measures.\\n', '\\n', 'He has dissolved Representative Houses repeatedly, for opposing with manly firmness his invasions on the rights of the people.\\n', '\\n', 'He has refused for a long time, after such dissolutions, to cause others to be elected; whereby the Legislative powers, incapable of Annihilation, have returned to the People at large for their exercise; the State remaining in the mean time exposed to all the dangers of invasion from without, and convulsions within.\\n', '\\n', 'He has endeavoured to prevent the population of these States; for that purpose obstructing the Laws for Naturalization of Foreigners; refusing to pass others to encourage their migrations hither, and raising the conditions of new Appropriations of Lands.\\n', '\\n', 'He has obstructed the Administration of Justice, by refusing his Assent to Laws for establishing Judiciary powers.\\n', '\\n', 'He has made Judges dependent on his Will alone, for the tenure of their offices, and the amount and payment of their salaries.\\n', '\\n', 'He has erected a multitude of New Offices, and sent hither swarms of Officers to harrass our people, and eat out their substance.\\n', '\\n', 'He has kept among us, in times of peace, Standing Armies without the Consent of our legislatures.\\n', '\\n', 'He has affected to render the Military independent of and superior to the Civil power.\\n', '\\n', 'He has combined with others to subject us to a jurisdiction foreign to our constitution, and unacknowledged by our laws; giving his Assent to their Acts of pretended Legislation:\\n', '\\n', 'For Quartering large bodies of armed troops among us:\\n', '\\n', 'For protecting them, by a mock Trial, from punishment for any Murders which they should commit on the Inhabitants of these States:\\n', '\\n', 'For cutting off our Trade with all parts of the world:\\n', '\\n', 'For imposing Taxes on us without our Consent:\\n', '\\n', 'For depriving us in many cases, of the benefits of Trial by Jury:\\n', '\\n', 'For transporting us beyond Seas to be tried for pretended offences\\n', '\\n', 'For abolishing the free System of English Laws in a neighbouring Province, establishing therein an Arbitrary government, and enlarging its Boundaries so as to render it at once an example and fit instrument for introducing the same absolute rule into these Colonies:\\n', '\\n', 'For taking away our Charters, abolishing our most valuable Laws, and altering fundamentally the Forms of our Governments:\\n', '\\n', 'For suspending our own Legislatures, and declaring themselves invested with power to legislate for us in all cases whatsoever.\\n', '\\n', 'He has abdicated Government here, by declaring us out of his Protection and waging War against us.\\n', '\\n', 'He has plundered our seas, ravaged our Coasts, burnt our towns, and destroyed the lives of our people.\\n', '\\n', 'He is at this time transporting large Armies of foreign Mercenaries to compleat the works of death, desolation and tyranny, already begun with circumstances of Cruelty & perfidy scarcely paralleled in the most barbarous ages, and totally unworthy the Head of a civilized nation.\\n', '\\n', 'He has constrained our fellow Citizens taken Captive on the high Seas to bear Arms against their Country, to become the executioners of their friends and Brethren, or to fall themselves by their Hands.\\n', '\\n', 'He has excited domestic insurrections amongst us, and has endeavoured to bring on the inhabitants of our frontiers, the merciless Indian Savages, whose known rule of warfare, is an undistinguished destruction of all ages, sexes and conditions.\\n', '\\n', 'In every stage of these Oppressions We have Petitioned for Redress in the most humble terms: Our repeated Petitions have been answered only by repeated injury. A Prince whose character is thus marked by every act which may define a Tyrant, is unfit to be the ruler of a free people.\\n', '\\n', 'Nor have We been wanting in attentions to our Brittish brethren. We have warned them from time to time of attempts by their legislature to extend an unwarrantable jurisdiction over us. We have reminded them of the circumstances of our emigration and settlement here. We have appealed to their native justice and magnanimity, and we have conjured them by the ties of our common kindred to disavow these usurpations, which, would inevitably interrupt our connections and correspondence. They too have been deaf to the voice of justice and of consanguinity. We must, therefore, acquiesce in the necessity, which denounces our Separation, and hold them, as we hold the rest of mankind, Enemies in War, in Peace Friends.\\n', '\\n', 'We, therefore, the Representatives of the United States of America, in General Congress, Assembled, appealing to the Supreme Judge of the world for the rectitude of our intentions, do, in the Name, and by Authority of the good People of these Colonies, solemnly publish and declare, That these United Colonies are, and of Right ought to be Free and Independent States; that they are Absolved from all Allegiance to the British Crown, and that all political connection between them and the State of Great Britain, is and ought to be totally dissolved; and that as Free and Independent States, they have full Power to levy War, conclude Peace, contract Alliances, establish Commerce, and to do all other Acts and Things which Independent States may of right do. And for the support of this Declaration, with a firm reliance on the protection of divine Providence, we mutually pledge to each other our Lives, our Fortunes and our sacred Honor.']\n",
      "[\"When in the Course of human events, it becomes necessary for one people to dissolve the political bands which have connected them with another, and to assume among the powers of the earth, the separate and equal station to which the Laws of Nature and of Nature's God entitle them, a decent respect to the opinions of mankind requires that they should declare the causes which impel them to the separation.\\n\", '\\n', 'We hold these truths to be self-evident, that all men are created equal, that they are endowed by their Creator with certain unalienable Rights, that among these are Life, Liberty and the pursuit of Happiness.--That to secure these rights, Governments are instituted among Men, deriving their just powers from the consent of the governed, --That whenever any Form of Government becomes destructive of these ends, it is the Right of the People to alter or to abolish it, and to institute new Government, laying its foundation on such principles and organizing its powers in such form, as to them shall seem most likely to effect their Safety and Happiness. Prudence, indeed, will dictate that Governments long established should not be changed for light and transient causes; and accordingly all experience hath shewn, that mankind are more disposed to suffer, while evils are sufferable, than to right themselves by abolishing the forms to which they are accustomed. But when a long train of abuses and usurpations, pursuing invariably the same Object evinces a design to reduce them under absolute Despotism, it is their right, it is their duty, to throw off such Government, and to provide new Guards for their future security.--Such has been the patient sufferance of these Colonies; and such is now the necessity which constrains them to alter their former Systems of Government. The history of the present King of Great Britain is a history of repeated injuries and usurpations, all having in direct object the establishment of an absolute Tyranny over these States. To prove this, let Facts be submitted to a candid world.\\n', '\\n', 'He has refused his Assent to Laws, the most wholesome and necessary for the public good.\\n', '\\n', 'He has forbidden his Governors to pass Laws of immediate and pressing importance, unless suspended in their operation till his Assent should be obtained; and when so suspended, he has utterly neglected to attend to them.\\n', '\\n', 'He has refused to pass other Laws for the accommodation of large districts of people, unless those people would relinquish the right of Representation in the Legislature, a right inestimable to them and formidable to tyrants only.\\n', '\\n', 'He has called together legislative bodies at places unusual, uncomfortable, and distant from the depository of their public Records, for the sole purpose of fatiguing them into compliance with his measures.\\n', '\\n', 'He has dissolved Representative Houses repeatedly, for opposing with manly firmness his invasions on the rights of the people.\\n', '\\n', 'He has refused for a long time, after such dissolutions, to cause others to be elected; whereby the Legislative powers, incapable of Annihilation, have returned to the People at large for their exercise; the State remaining in the mean time exposed to all the dangers of invasion from without, and convulsions within.\\n', '\\n', 'He has endeavoured to prevent the population of these States; for that purpose obstructing the Laws for Naturalization of Foreigners; refusing to pass others to encourage their migrations hither, and raising the conditions of new Appropriations of Lands.\\n', '\\n', 'He has obstructed the Administration of Justice, by refusing his Assent to Laws for establishing Judiciary powers.\\n', '\\n', 'He has made Judges dependent on his Will alone, for the tenure of their offices, and the amount and payment of their salaries.\\n', '\\n', 'He has erected a multitude of New Offices, and sent hither swarms of Officers to harrass our people, and eat out their substance.\\n', '\\n', 'He has kept among us, in times of peace, Standing Armies without the Consent of our legislatures.\\n', '\\n', 'He has affected to render the Military independent of and superior to the Civil power.\\n', '\\n', 'He has combined with others to subject us to a jurisdiction foreign to our constitution, and unacknowledged by our laws; giving his Assent to their Acts of pretended Legislation:\\n', '\\n', 'For Quartering large bodies of armed troops among us:\\n', '\\n', 'For protecting them, by a mock Trial, from punishment for any Murders which they should commit on the Inhabitants of these States:\\n', '\\n', 'For cutting off our Trade with all parts of the world:\\n', '\\n', 'For imposing Taxes on us without our Consent:\\n', '\\n', 'For depriving us in many cases, of the benefits of Trial by Jury:\\n', '\\n', 'For transporting us beyond Seas to be tried for pretended offences\\n', '\\n', 'For abolishing the free System of English Laws in a neighbouring Province, establishing therein an Arbitrary government, and enlarging its Boundaries so as to render it at once an example and fit instrument for introducing the same absolute rule into these Colonies:\\n', '\\n', 'For taking away our Charters, abolishing our most valuable Laws, and altering fundamentally the Forms of our Governments:\\n', '\\n', 'For suspending our own Legislatures, and declaring themselves invested with power to legislate for us in all cases whatsoever.\\n', '\\n', 'He has abdicated Government here, by declaring us out of his Protection and waging War against us.\\n', '\\n', 'He has plundered our seas, ravaged our Coasts, burnt our towns, and destroyed the lives of our people.\\n', '\\n', 'He is at this time transporting large Armies of foreign Mercenaries to compleat the works of death, desolation and tyranny, already begun with circumstances of Cruelty & perfidy scarcely paralleled in the most barbarous ages, and totally unworthy the Head of a civilized nation.\\n', '\\n', 'He has constrained our fellow Citizens taken Captive on the high Seas to bear Arms against their Country, to become the executioners of their friends and Brethren, or to fall themselves by their Hands.\\n', '\\n', 'He has excited domestic insurrections amongst us, and has endeavoured to bring on the inhabitants of our frontiers, the merciless Indian Savages, whose known rule of warfare, is an undistinguished destruction of all ages, sexes and conditions.\\n', '\\n', 'In every stage of these Oppressions We have Petitioned for Redress in the most humble terms: Our repeated Petitions have been answered only by repeated injury. A Prince whose character is thus marked by every act which may define a Tyrant, is unfit to be the ruler of a free people.\\n', '\\n', 'Nor have We been wanting in attentions to our Brittish brethren. We have warned them from time to time of attempts by their legislature to extend an unwarrantable jurisdiction over us. We have reminded them of the circumstances of our emigration and settlement here. We have appealed to their native justice and magnanimity, and we have conjured them by the ties of our common kindred to disavow these usurpations, which, would inevitably interrupt our connections and correspondence. They too have been deaf to the voice of justice and of consanguinity. We must, therefore, acquiesce in the necessity, which denounces our Separation, and hold them, as we hold the rest of mankind, Enemies in War, in Peace Friends.\\n', '\\n', 'We, therefore, the Representatives of the United States of America, in General Congress, Assembled, appealing to the Supreme Judge of the world for the rectitude of our intentions, do, in the Name, and by Authority of the good People of these Colonies, solemnly publish and declare, That these United Colonies are, and of Right ought to be Free and Independent States; that they are Absolved from all Allegiance to the British Crown, and that all political connection between them and the State of Great Britain, is and ought to be totally dissolved; and that as Free and Independent States, they have full Power to levy War, conclude Peace, contract Alliances, establish Commerce, and to do all other Acts and Things which Independent States may of right do. And for the support of this Declaration, with a firm reliance on the protection of divine Providence, we mutually pledge to each other our Lives, our Fortunes and our sacred Honor.']\n",
      "[\"When in the Course of human events, it becomes necessary for one people to dissolve the political bands which have connected them with another, and to assume among the powers of the earth, the separate and equal station to which the Laws of Nature and of Nature's God entitle them, a decent respect to the opinions of mankind requires that they should declare the causes which impel them to the separation.\\n\", '\\n', 'We hold these truths to be self-evident, that all men are created equal, that they are endowed by their Creator with certain unalienable Rights, that among these are Life, Liberty and the pursuit of Happiness.--That to secure these rights, Governments are instituted among Men, deriving their just powers from the consent of the governed, --That whenever any Form of Government becomes destructive of these ends, it is the Right of the People to alter or to abolish it, and to institute new Government, laying its foundation on such principles and organizing its powers in such form, as to them shall seem most likely to effect their Safety and Happiness. Prudence, indeed, will dictate that Governments long established should not be changed for light and transient causes; and accordingly all experience hath shewn, that mankind are more disposed to suffer, while evils are sufferable, than to right themselves by abolishing the forms to which they are accustomed. But when a long train of abuses and usurpations, pursuing invariably the same Object evinces a design to reduce them under absolute Despotism, it is their right, it is their duty, to throw off such Government, and to provide new Guards for their future security.--Such has been the patient sufferance of these Colonies; and such is now the necessity which constrains them to alter their former Systems of Government. The history of the present King of Great Britain is a history of repeated injuries and usurpations, all having in direct object the establishment of an absolute Tyranny over these States. To prove this, let Facts be submitted to a candid world.\\n', '\\n', 'He has refused his Assent to Laws, the most wholesome and necessary for the public good.\\n', '\\n', 'He has forbidden his Governors to pass Laws of immediate and pressing importance, unless suspended in their operation till his Assent should be obtained; and when so suspended, he has utterly neglected to attend to them.\\n', '\\n', 'He has refused to pass other Laws for the accommodation of large districts of people, unless those people would relinquish the right of Representation in the Legislature, a right inestimable to them and formidable to tyrants only.\\n', '\\n', 'He has called together legislative bodies at places unusual, uncomfortable, and distant from the depository of their public Records, for the sole purpose of fatiguing them into compliance with his measures.\\n', '\\n', 'He has dissolved Representative Houses repeatedly, for opposing with manly firmness his invasions on the rights of the people.\\n', '\\n', 'He has refused for a long time, after such dissolutions, to cause others to be elected; whereby the Legislative powers, incapable of Annihilation, have returned to the People at large for their exercise; the State remaining in the mean time exposed to all the dangers of invasion from without, and convulsions within.\\n', '\\n', 'He has endeavoured to prevent the population of these States; for that purpose obstructing the Laws for Naturalization of Foreigners; refusing to pass others to encourage their migrations hither, and raising the conditions of new Appropriations of Lands.\\n', '\\n', 'He has obstructed the Administration of Justice, by refusing his Assent to Laws for establishing Judiciary powers.\\n', '\\n', 'He has made Judges dependent on his Will alone, for the tenure of their offices, and the amount and payment of their salaries.\\n', '\\n', 'He has erected a multitude of New Offices, and sent hither swarms of Officers to harrass our people, and eat out their substance.\\n', '\\n', 'He has kept among us, in times of peace, Standing Armies without the Consent of our legislatures.\\n', '\\n', 'He has affected to render the Military independent of and superior to the Civil power.\\n', '\\n', 'He has combined with others to subject us to a jurisdiction foreign to our constitution, and unacknowledged by our laws; giving his Assent to their Acts of pretended Legislation:\\n', '\\n', 'For Quartering large bodies of armed troops among us:\\n', '\\n', 'For protecting them, by a mock Trial, from punishment for any Murders which they should commit on the Inhabitants of these States:\\n', '\\n', 'For cutting off our Trade with all parts of the world:\\n', '\\n', 'For imposing Taxes on us without our Consent:\\n', '\\n', 'For depriving us in many cases, of the benefits of Trial by Jury:\\n', '\\n', 'For transporting us beyond Seas to be tried for pretended offences\\n', '\\n', 'For abolishing the free System of English Laws in a neighbouring Province, establishing therein an Arbitrary government, and enlarging its Boundaries so as to render it at once an example and fit instrument for introducing the same absolute rule into these Colonies:\\n', '\\n', 'For taking away our Charters, abolishing our most valuable Laws, and altering fundamentally the Forms of our Governments:\\n', '\\n', 'For suspending our own Legislatures, and declaring themselves invested with power to legislate for us in all cases whatsoever.\\n', '\\n', 'He has abdicated Government here, by declaring us out of his Protection and waging War against us.\\n', '\\n', 'He has plundered our seas, ravaged our Coasts, burnt our towns, and destroyed the lives of our people.\\n', '\\n', 'He is at this time transporting large Armies of foreign Mercenaries to compleat the works of death, desolation and tyranny, already begun with circumstances of Cruelty & perfidy scarcely paralleled in the most barbarous ages, and totally unworthy the Head of a civilized nation.\\n', '\\n', 'He has constrained our fellow Citizens taken Captive on the high Seas to bear Arms against their Country, to become the executioners of their friends and Brethren, or to fall themselves by their Hands.\\n', '\\n', 'He has excited domestic insurrections amongst us, and has endeavoured to bring on the inhabitants of our frontiers, the merciless Indian Savages, whose known rule of warfare, is an undistinguished destruction of all ages, sexes and conditions.\\n', '\\n', 'In every stage of these Oppressions We have Petitioned for Redress in the most humble terms: Our repeated Petitions have been answered only by repeated injury. A Prince whose character is thus marked by every act which may define a Tyrant, is unfit to be the ruler of a free people.\\n', '\\n', 'Nor have We been wanting in attentions to our Brittish brethren. We have warned them from time to time of attempts by their legislature to extend an unwarrantable jurisdiction over us. We have reminded them of the circumstances of our emigration and settlement here. We have appealed to their native justice and magnanimity, and we have conjured them by the ties of our common kindred to disavow these usurpations, which, would inevitably interrupt our connections and correspondence. They too have been deaf to the voice of justice and of consanguinity. We must, therefore, acquiesce in the necessity, which denounces our Separation, and hold them, as we hold the rest of mankind, Enemies in War, in Peace Friends.\\n', '\\n', 'We, therefore, the Representatives of the United States of America, in General Congress, Assembled, appealing to the Supreme Judge of the world for the rectitude of our intentions, do, in the Name, and by Authority of the good People of these Colonies, solemnly publish and declare, That these United Colonies are, and of Right ought to be Free and Independent States; that they are Absolved from all Allegiance to the British Crown, and that all political connection between them and the State of Great Britain, is and ought to be totally dissolved; and that as Free and Independent States, they have full Power to levy War, conclude Peace, contract Alliances, establish Commerce, and to do all other Acts and Things which Independent States may of right do. And for the support of this Declaration, with a firm reliance on the protection of divine Providence, we mutually pledge to each other our Lives, our Fortunes and our sacred Honor.']\n",
      "[\"When in the Course of human events, it becomes necessary for one people to dissolve the political bands which have connected them with another, and to assume among the powers of the earth, the separate and equal station to which the Laws of Nature and of Nature's God entitle them, a decent respect to the opinions of mankind requires that they should declare the causes which impel them to the separation.\\n\", '\\n', 'We hold these truths to be self-evident, that all men are created equal, that they are endowed by their Creator with certain unalienable Rights, that among these are Life, Liberty and the pursuit of Happiness.--That to secure these rights, Governments are instituted among Men, deriving their just powers from the consent of the governed, --That whenever any Form of Government becomes destructive of these ends, it is the Right of the People to alter or to abolish it, and to institute new Government, laying its foundation on such principles and organizing its powers in such form, as to them shall seem most likely to effect their Safety and Happiness. Prudence, indeed, will dictate that Governments long established should not be changed for light and transient causes; and accordingly all experience hath shewn, that mankind are more disposed to suffer, while evils are sufferable, than to right themselves by abolishing the forms to which they are accustomed. But when a long train of abuses and usurpations, pursuing invariably the same Object evinces a design to reduce them under absolute Despotism, it is their right, it is their duty, to throw off such Government, and to provide new Guards for their future security.--Such has been the patient sufferance of these Colonies; and such is now the necessity which constrains them to alter their former Systems of Government. The history of the present King of Great Britain is a history of repeated injuries and usurpations, all having in direct object the establishment of an absolute Tyranny over these States. To prove this, let Facts be submitted to a candid world.\\n', '\\n', 'He has refused his Assent to Laws, the most wholesome and necessary for the public good.\\n', '\\n', 'He has forbidden his Governors to pass Laws of immediate and pressing importance, unless suspended in their operation till his Assent should be obtained; and when so suspended, he has utterly neglected to attend to them.\\n', '\\n', 'He has refused to pass other Laws for the accommodation of large districts of people, unless those people would relinquish the right of Representation in the Legislature, a right inestimable to them and formidable to tyrants only.\\n', '\\n', 'He has called together legislative bodies at places unusual, uncomfortable, and distant from the depository of their public Records, for the sole purpose of fatiguing them into compliance with his measures.\\n', '\\n', 'He has dissolved Representative Houses repeatedly, for opposing with manly firmness his invasions on the rights of the people.\\n', '\\n', 'He has refused for a long time, after such dissolutions, to cause others to be elected; whereby the Legislative powers, incapable of Annihilation, have returned to the People at large for their exercise; the State remaining in the mean time exposed to all the dangers of invasion from without, and convulsions within.\\n', '\\n', 'He has endeavoured to prevent the population of these States; for that purpose obstructing the Laws for Naturalization of Foreigners; refusing to pass others to encourage their migrations hither, and raising the conditions of new Appropriations of Lands.\\n', '\\n', 'He has obstructed the Administration of Justice, by refusing his Assent to Laws for establishing Judiciary powers.\\n', '\\n', 'He has made Judges dependent on his Will alone, for the tenure of their offices, and the amount and payment of their salaries.\\n', '\\n', 'He has erected a multitude of New Offices, and sent hither swarms of Officers to harrass our people, and eat out their substance.\\n', '\\n', 'He has kept among us, in times of peace, Standing Armies without the Consent of our legislatures.\\n', '\\n', 'He has affected to render the Military independent of and superior to the Civil power.\\n', '\\n', 'He has combined with others to subject us to a jurisdiction foreign to our constitution, and unacknowledged by our laws; giving his Assent to their Acts of pretended Legislation:\\n', '\\n', 'For Quartering large bodies of armed troops among us:\\n', '\\n', 'For protecting them, by a mock Trial, from punishment for any Murders which they should commit on the Inhabitants of these States:\\n', '\\n', 'For cutting off our Trade with all parts of the world:\\n', '\\n', 'For imposing Taxes on us without our Consent:\\n', '\\n', 'For depriving us in many cases, of the benefits of Trial by Jury:\\n', '\\n', 'For transporting us beyond Seas to be tried for pretended offences\\n', '\\n', 'For abolishing the free System of English Laws in a neighbouring Province, establishing therein an Arbitrary government, and enlarging its Boundaries so as to render it at once an example and fit instrument for introducing the same absolute rule into these Colonies:\\n', '\\n', 'For taking away our Charters, abolishing our most valuable Laws, and altering fundamentally the Forms of our Governments:\\n', '\\n', 'For suspending our own Legislatures, and declaring themselves invested with power to legislate for us in all cases whatsoever.\\n', '\\n', 'He has abdicated Government here, by declaring us out of his Protection and waging War against us.\\n', '\\n', 'He has plundered our seas, ravaged our Coasts, burnt our towns, and destroyed the lives of our people.\\n', '\\n', 'He is at this time transporting large Armies of foreign Mercenaries to compleat the works of death, desolation and tyranny, already begun with circumstances of Cruelty & perfidy scarcely paralleled in the most barbarous ages, and totally unworthy the Head of a civilized nation.\\n', '\\n', 'He has constrained our fellow Citizens taken Captive on the high Seas to bear Arms against their Country, to become the executioners of their friends and Brethren, or to fall themselves by their Hands.\\n', '\\n', 'He has excited domestic insurrections amongst us, and has endeavoured to bring on the inhabitants of our frontiers, the merciless Indian Savages, whose known rule of warfare, is an undistinguished destruction of all ages, sexes and conditions.\\n', '\\n', 'In every stage of these Oppressions We have Petitioned for Redress in the most humble terms: Our repeated Petitions have been answered only by repeated injury. A Prince whose character is thus marked by every act which may define a Tyrant, is unfit to be the ruler of a free people.\\n', '\\n', 'Nor have We been wanting in attentions to our Brittish brethren. We have warned them from time to time of attempts by their legislature to extend an unwarrantable jurisdiction over us. We have reminded them of the circumstances of our emigration and settlement here. We have appealed to their native justice and magnanimity, and we have conjured them by the ties of our common kindred to disavow these usurpations, which, would inevitably interrupt our connections and correspondence. They too have been deaf to the voice of justice and of consanguinity. We must, therefore, acquiesce in the necessity, which denounces our Separation, and hold them, as we hold the rest of mankind, Enemies in War, in Peace Friends.\\n', '\\n', 'We, therefore, the Representatives of the United States of America, in General Congress, Assembled, appealing to the Supreme Judge of the world for the rectitude of our intentions, do, in the Name, and by Authority of the good People of these Colonies, solemnly publish and declare, That these United Colonies are, and of Right ought to be Free and Independent States; that they are Absolved from all Allegiance to the British Crown, and that all political connection between them and the State of Great Britain, is and ought to be totally dissolved; and that as Free and Independent States, they have full Power to levy War, conclude Peace, contract Alliances, establish Commerce, and to do all other Acts and Things which Independent States may of right do. And for the support of this Declaration, with a firm reliance on the protection of divine Providence, we mutually pledge to each other our Lives, our Fortunes and our sacred Honor.']\n",
      "[\"When in the Course of human events, it becomes necessary for one people to dissolve the political bands which have connected them with another, and to assume among the powers of the earth, the separate and equal station to which the Laws of Nature and of Nature's God entitle them, a decent respect to the opinions of mankind requires that they should declare the causes which impel them to the separation.\\n\", '\\n', 'We hold these truths to be self-evident, that all men are created equal, that they are endowed by their Creator with certain unalienable Rights, that among these are Life, Liberty and the pursuit of Happiness.--That to secure these rights, Governments are instituted among Men, deriving their just powers from the consent of the governed, --That whenever any Form of Government becomes destructive of these ends, it is the Right of the People to alter or to abolish it, and to institute new Government, laying its foundation on such principles and organizing its powers in such form, as to them shall seem most likely to effect their Safety and Happiness. Prudence, indeed, will dictate that Governments long established should not be changed for light and transient causes; and accordingly all experience hath shewn, that mankind are more disposed to suffer, while evils are sufferable, than to right themselves by abolishing the forms to which they are accustomed. But when a long train of abuses and usurpations, pursuing invariably the same Object evinces a design to reduce them under absolute Despotism, it is their right, it is their duty, to throw off such Government, and to provide new Guards for their future security.--Such has been the patient sufferance of these Colonies; and such is now the necessity which constrains them to alter their former Systems of Government. The history of the present King of Great Britain is a history of repeated injuries and usurpations, all having in direct object the establishment of an absolute Tyranny over these States. To prove this, let Facts be submitted to a candid world.\\n', '\\n', 'He has refused his Assent to Laws, the most wholesome and necessary for the public good.\\n', '\\n', 'He has forbidden his Governors to pass Laws of immediate and pressing importance, unless suspended in their operation till his Assent should be obtained; and when so suspended, he has utterly neglected to attend to them.\\n', '\\n', 'He has refused to pass other Laws for the accommodation of large districts of people, unless those people would relinquish the right of Representation in the Legislature, a right inestimable to them and formidable to tyrants only.\\n', '\\n', 'He has called together legislative bodies at places unusual, uncomfortable, and distant from the depository of their public Records, for the sole purpose of fatiguing them into compliance with his measures.\\n', '\\n', 'He has dissolved Representative Houses repeatedly, for opposing with manly firmness his invasions on the rights of the people.\\n', '\\n', 'He has refused for a long time, after such dissolutions, to cause others to be elected; whereby the Legislative powers, incapable of Annihilation, have returned to the People at large for their exercise; the State remaining in the mean time exposed to all the dangers of invasion from without, and convulsions within.\\n', '\\n', 'He has endeavoured to prevent the population of these States; for that purpose obstructing the Laws for Naturalization of Foreigners; refusing to pass others to encourage their migrations hither, and raising the conditions of new Appropriations of Lands.\\n', '\\n', 'He has obstructed the Administration of Justice, by refusing his Assent to Laws for establishing Judiciary powers.\\n', '\\n', 'He has made Judges dependent on his Will alone, for the tenure of their offices, and the amount and payment of their salaries.\\n', '\\n', 'He has erected a multitude of New Offices, and sent hither swarms of Officers to harrass our people, and eat out their substance.\\n', '\\n', 'He has kept among us, in times of peace, Standing Armies without the Consent of our legislatures.\\n', '\\n', 'He has affected to render the Military independent of and superior to the Civil power.\\n', '\\n', 'He has combined with others to subject us to a jurisdiction foreign to our constitution, and unacknowledged by our laws; giving his Assent to their Acts of pretended Legislation:\\n', '\\n', 'For Quartering large bodies of armed troops among us:\\n', '\\n', 'For protecting them, by a mock Trial, from punishment for any Murders which they should commit on the Inhabitants of these States:\\n', '\\n', 'For cutting off our Trade with all parts of the world:\\n', '\\n', 'For imposing Taxes on us without our Consent:\\n', '\\n', 'For depriving us in many cases, of the benefits of Trial by Jury:\\n', '\\n', 'For transporting us beyond Seas to be tried for pretended offences\\n', '\\n', 'For abolishing the free System of English Laws in a neighbouring Province, establishing therein an Arbitrary government, and enlarging its Boundaries so as to render it at once an example and fit instrument for introducing the same absolute rule into these Colonies:\\n', '\\n', 'For taking away our Charters, abolishing our most valuable Laws, and altering fundamentally the Forms of our Governments:\\n', '\\n', 'For suspending our own Legislatures, and declaring themselves invested with power to legislate for us in all cases whatsoever.\\n', '\\n', 'He has abdicated Government here, by declaring us out of his Protection and waging War against us.\\n', '\\n', 'He has plundered our seas, ravaged our Coasts, burnt our towns, and destroyed the lives of our people.\\n', '\\n', 'He is at this time transporting large Armies of foreign Mercenaries to compleat the works of death, desolation and tyranny, already begun with circumstances of Cruelty & perfidy scarcely paralleled in the most barbarous ages, and totally unworthy the Head of a civilized nation.\\n', '\\n', 'He has constrained our fellow Citizens taken Captive on the high Seas to bear Arms against their Country, to become the executioners of their friends and Brethren, or to fall themselves by their Hands.\\n', '\\n', 'He has excited domestic insurrections amongst us, and has endeavoured to bring on the inhabitants of our frontiers, the merciless Indian Savages, whose known rule of warfare, is an undistinguished destruction of all ages, sexes and conditions.\\n', '\\n', 'In every stage of these Oppressions We have Petitioned for Redress in the most humble terms: Our repeated Petitions have been answered only by repeated injury. A Prince whose character is thus marked by every act which may define a Tyrant, is unfit to be the ruler of a free people.\\n', '\\n', 'Nor have We been wanting in attentions to our Brittish brethren. We have warned them from time to time of attempts by their legislature to extend an unwarrantable jurisdiction over us. We have reminded them of the circumstances of our emigration and settlement here. We have appealed to their native justice and magnanimity, and we have conjured them by the ties of our common kindred to disavow these usurpations, which, would inevitably interrupt our connections and correspondence. They too have been deaf to the voice of justice and of consanguinity. We must, therefore, acquiesce in the necessity, which denounces our Separation, and hold them, as we hold the rest of mankind, Enemies in War, in Peace Friends.\\n', '\\n', 'We, therefore, the Representatives of the United States of America, in General Congress, Assembled, appealing to the Supreme Judge of the world for the rectitude of our intentions, do, in the Name, and by Authority of the good People of these Colonies, solemnly publish and declare, That these United Colonies are, and of Right ought to be Free and Independent States; that they are Absolved from all Allegiance to the British Crown, and that all political connection between them and the State of Great Britain, is and ought to be totally dissolved; and that as Free and Independent States, they have full Power to levy War, conclude Peace, contract Alliances, establish Commerce, and to do all other Acts and Things which Independent States may of right do. And for the support of this Declaration, with a firm reliance on the protection of divine Providence, we mutually pledge to each other our Lives, our Fortunes and our sacred Honor.']\n",
      "[\"When in the Course of human events, it becomes necessary for one people to dissolve the political bands which have connected them with another, and to assume among the powers of the earth, the separate and equal station to which the Laws of Nature and of Nature's God entitle them, a decent respect to the opinions of mankind requires that they should declare the causes which impel them to the separation.\\n\", '\\n', 'We hold these truths to be self-evident, that all men are created equal, that they are endowed by their Creator with certain unalienable Rights, that among these are Life, Liberty and the pursuit of Happiness.--That to secure these rights, Governments are instituted among Men, deriving their just powers from the consent of the governed, --That whenever any Form of Government becomes destructive of these ends, it is the Right of the People to alter or to abolish it, and to institute new Government, laying its foundation on such principles and organizing its powers in such form, as to them shall seem most likely to effect their Safety and Happiness. Prudence, indeed, will dictate that Governments long established should not be changed for light and transient causes; and accordingly all experience hath shewn, that mankind are more disposed to suffer, while evils are sufferable, than to right themselves by abolishing the forms to which they are accustomed. But when a long train of abuses and usurpations, pursuing invariably the same Object evinces a design to reduce them under absolute Despotism, it is their right, it is their duty, to throw off such Government, and to provide new Guards for their future security.--Such has been the patient sufferance of these Colonies; and such is now the necessity which constrains them to alter their former Systems of Government. The history of the present King of Great Britain is a history of repeated injuries and usurpations, all having in direct object the establishment of an absolute Tyranny over these States. To prove this, let Facts be submitted to a candid world.\\n', '\\n', 'He has refused his Assent to Laws, the most wholesome and necessary for the public good.\\n', '\\n', 'He has forbidden his Governors to pass Laws of immediate and pressing importance, unless suspended in their operation till his Assent should be obtained; and when so suspended, he has utterly neglected to attend to them.\\n', '\\n', 'He has refused to pass other Laws for the accommodation of large districts of people, unless those people would relinquish the right of Representation in the Legislature, a right inestimable to them and formidable to tyrants only.\\n', '\\n', 'He has called together legislative bodies at places unusual, uncomfortable, and distant from the depository of their public Records, for the sole purpose of fatiguing them into compliance with his measures.\\n', '\\n', 'He has dissolved Representative Houses repeatedly, for opposing with manly firmness his invasions on the rights of the people.\\n', '\\n', 'He has refused for a long time, after such dissolutions, to cause others to be elected; whereby the Legislative powers, incapable of Annihilation, have returned to the People at large for their exercise; the State remaining in the mean time exposed to all the dangers of invasion from without, and convulsions within.\\n', '\\n', 'He has endeavoured to prevent the population of these States; for that purpose obstructing the Laws for Naturalization of Foreigners; refusing to pass others to encourage their migrations hither, and raising the conditions of new Appropriations of Lands.\\n', '\\n', 'He has obstructed the Administration of Justice, by refusing his Assent to Laws for establishing Judiciary powers.\\n', '\\n', 'He has made Judges dependent on his Will alone, for the tenure of their offices, and the amount and payment of their salaries.\\n', '\\n', 'He has erected a multitude of New Offices, and sent hither swarms of Officers to harrass our people, and eat out their substance.\\n', '\\n', 'He has kept among us, in times of peace, Standing Armies without the Consent of our legislatures.\\n', '\\n', 'He has affected to render the Military independent of and superior to the Civil power.\\n', '\\n', 'He has combined with others to subject us to a jurisdiction foreign to our constitution, and unacknowledged by our laws; giving his Assent to their Acts of pretended Legislation:\\n', '\\n', 'For Quartering large bodies of armed troops among us:\\n', '\\n', 'For protecting them, by a mock Trial, from punishment for any Murders which they should commit on the Inhabitants of these States:\\n', '\\n', 'For cutting off our Trade with all parts of the world:\\n', '\\n', 'For imposing Taxes on us without our Consent:\\n', '\\n', 'For depriving us in many cases, of the benefits of Trial by Jury:\\n', '\\n', 'For transporting us beyond Seas to be tried for pretended offences\\n', '\\n', 'For abolishing the free System of English Laws in a neighbouring Province, establishing therein an Arbitrary government, and enlarging its Boundaries so as to render it at once an example and fit instrument for introducing the same absolute rule into these Colonies:\\n', '\\n', 'For taking away our Charters, abolishing our most valuable Laws, and altering fundamentally the Forms of our Governments:\\n', '\\n', 'For suspending our own Legislatures, and declaring themselves invested with power to legislate for us in all cases whatsoever.\\n', '\\n', 'He has abdicated Government here, by declaring us out of his Protection and waging War against us.\\n', '\\n', 'He has plundered our seas, ravaged our Coasts, burnt our towns, and destroyed the lives of our people.\\n', '\\n', 'He is at this time transporting large Armies of foreign Mercenaries to compleat the works of death, desolation and tyranny, already begun with circumstances of Cruelty & perfidy scarcely paralleled in the most barbarous ages, and totally unworthy the Head of a civilized nation.\\n', '\\n', 'He has constrained our fellow Citizens taken Captive on the high Seas to bear Arms against their Country, to become the executioners of their friends and Brethren, or to fall themselves by their Hands.\\n', '\\n', 'He has excited domestic insurrections amongst us, and has endeavoured to bring on the inhabitants of our frontiers, the merciless Indian Savages, whose known rule of warfare, is an undistinguished destruction of all ages, sexes and conditions.\\n', '\\n', 'In every stage of these Oppressions We have Petitioned for Redress in the most humble terms: Our repeated Petitions have been answered only by repeated injury. A Prince whose character is thus marked by every act which may define a Tyrant, is unfit to be the ruler of a free people.\\n', '\\n', 'Nor have We been wanting in attentions to our Brittish brethren. We have warned them from time to time of attempts by their legislature to extend an unwarrantable jurisdiction over us. We have reminded them of the circumstances of our emigration and settlement here. We have appealed to their native justice and magnanimity, and we have conjured them by the ties of our common kindred to disavow these usurpations, which, would inevitably interrupt our connections and correspondence. They too have been deaf to the voice of justice and of consanguinity. We must, therefore, acquiesce in the necessity, which denounces our Separation, and hold them, as we hold the rest of mankind, Enemies in War, in Peace Friends.\\n', '\\n', 'We, therefore, the Representatives of the United States of America, in General Congress, Assembled, appealing to the Supreme Judge of the world for the rectitude of our intentions, do, in the Name, and by Authority of the good People of these Colonies, solemnly publish and declare, That these United Colonies are, and of Right ought to be Free and Independent States; that they are Absolved from all Allegiance to the British Crown, and that all political connection between them and the State of Great Britain, is and ought to be totally dissolved; and that as Free and Independent States, they have full Power to levy War, conclude Peace, contract Alliances, establish Commerce, and to do all other Acts and Things which Independent States may of right do. And for the support of this Declaration, with a firm reliance on the protection of divine Providence, we mutually pledge to each other our Lives, our Fortunes and our sacred Honor.']\n",
      "[\"When in the Course of human events, it becomes necessary for one people to dissolve the political bands which have connected them with another, and to assume among the powers of the earth, the separate and equal station to which the Laws of Nature and of Nature's God entitle them, a decent respect to the opinions of mankind requires that they should declare the causes which impel them to the separation.\\n\", '\\n', 'We hold these truths to be self-evident, that all men are created equal, that they are endowed by their Creator with certain unalienable Rights, that among these are Life, Liberty and the pursuit of Happiness.--That to secure these rights, Governments are instituted among Men, deriving their just powers from the consent of the governed, --That whenever any Form of Government becomes destructive of these ends, it is the Right of the People to alter or to abolish it, and to institute new Government, laying its foundation on such principles and organizing its powers in such form, as to them shall seem most likely to effect their Safety and Happiness. Prudence, indeed, will dictate that Governments long established should not be changed for light and transient causes; and accordingly all experience hath shewn, that mankind are more disposed to suffer, while evils are sufferable, than to right themselves by abolishing the forms to which they are accustomed. But when a long train of abuses and usurpations, pursuing invariably the same Object evinces a design to reduce them under absolute Despotism, it is their right, it is their duty, to throw off such Government, and to provide new Guards for their future security.--Such has been the patient sufferance of these Colonies; and such is now the necessity which constrains them to alter their former Systems of Government. The history of the present King of Great Britain is a history of repeated injuries and usurpations, all having in direct object the establishment of an absolute Tyranny over these States. To prove this, let Facts be submitted to a candid world.\\n', '\\n', 'He has refused his Assent to Laws, the most wholesome and necessary for the public good.\\n', '\\n', 'He has forbidden his Governors to pass Laws of immediate and pressing importance, unless suspended in their operation till his Assent should be obtained; and when so suspended, he has utterly neglected to attend to them.\\n', '\\n', 'He has refused to pass other Laws for the accommodation of large districts of people, unless those people would relinquish the right of Representation in the Legislature, a right inestimable to them and formidable to tyrants only.\\n', '\\n', 'He has called together legislative bodies at places unusual, uncomfortable, and distant from the depository of their public Records, for the sole purpose of fatiguing them into compliance with his measures.\\n', '\\n', 'He has dissolved Representative Houses repeatedly, for opposing with manly firmness his invasions on the rights of the people.\\n', '\\n', 'He has refused for a long time, after such dissolutions, to cause others to be elected; whereby the Legislative powers, incapable of Annihilation, have returned to the People at large for their exercise; the State remaining in the mean time exposed to all the dangers of invasion from without, and convulsions within.\\n', '\\n', 'He has endeavoured to prevent the population of these States; for that purpose obstructing the Laws for Naturalization of Foreigners; refusing to pass others to encourage their migrations hither, and raising the conditions of new Appropriations of Lands.\\n', '\\n', 'He has obstructed the Administration of Justice, by refusing his Assent to Laws for establishing Judiciary powers.\\n', '\\n', 'He has made Judges dependent on his Will alone, for the tenure of their offices, and the amount and payment of their salaries.\\n', '\\n', 'He has erected a multitude of New Offices, and sent hither swarms of Officers to harrass our people, and eat out their substance.\\n', '\\n', 'He has kept among us, in times of peace, Standing Armies without the Consent of our legislatures.\\n', '\\n', 'He has affected to render the Military independent of and superior to the Civil power.\\n', '\\n', 'He has combined with others to subject us to a jurisdiction foreign to our constitution, and unacknowledged by our laws; giving his Assent to their Acts of pretended Legislation:\\n', '\\n', 'For Quartering large bodies of armed troops among us:\\n', '\\n', 'For protecting them, by a mock Trial, from punishment for any Murders which they should commit on the Inhabitants of these States:\\n', '\\n', 'For cutting off our Trade with all parts of the world:\\n', '\\n', 'For imposing Taxes on us without our Consent:\\n', '\\n', 'For depriving us in many cases, of the benefits of Trial by Jury:\\n', '\\n', 'For transporting us beyond Seas to be tried for pretended offences\\n', '\\n', 'For abolishing the free System of English Laws in a neighbouring Province, establishing therein an Arbitrary government, and enlarging its Boundaries so as to render it at once an example and fit instrument for introducing the same absolute rule into these Colonies:\\n', '\\n', 'For taking away our Charters, abolishing our most valuable Laws, and altering fundamentally the Forms of our Governments:\\n', '\\n', 'For suspending our own Legislatures, and declaring themselves invested with power to legislate for us in all cases whatsoever.\\n', '\\n', 'He has abdicated Government here, by declaring us out of his Protection and waging War against us.\\n', '\\n', 'He has plundered our seas, ravaged our Coasts, burnt our towns, and destroyed the lives of our people.\\n', '\\n', 'He is at this time transporting large Armies of foreign Mercenaries to compleat the works of death, desolation and tyranny, already begun with circumstances of Cruelty & perfidy scarcely paralleled in the most barbarous ages, and totally unworthy the Head of a civilized nation.\\n', '\\n', 'He has constrained our fellow Citizens taken Captive on the high Seas to bear Arms against their Country, to become the executioners of their friends and Brethren, or to fall themselves by their Hands.\\n', '\\n', 'He has excited domestic insurrections amongst us, and has endeavoured to bring on the inhabitants of our frontiers, the merciless Indian Savages, whose known rule of warfare, is an undistinguished destruction of all ages, sexes and conditions.\\n', '\\n', 'In every stage of these Oppressions We have Petitioned for Redress in the most humble terms: Our repeated Petitions have been answered only by repeated injury. A Prince whose character is thus marked by every act which may define a Tyrant, is unfit to be the ruler of a free people.\\n', '\\n', 'Nor have We been wanting in attentions to our Brittish brethren. We have warned them from time to time of attempts by their legislature to extend an unwarrantable jurisdiction over us. We have reminded them of the circumstances of our emigration and settlement here. We have appealed to their native justice and magnanimity, and we have conjured them by the ties of our common kindred to disavow these usurpations, which, would inevitably interrupt our connections and correspondence. They too have been deaf to the voice of justice and of consanguinity. We must, therefore, acquiesce in the necessity, which denounces our Separation, and hold them, as we hold the rest of mankind, Enemies in War, in Peace Friends.\\n', '\\n', 'We, therefore, the Representatives of the United States of America, in General Congress, Assembled, appealing to the Supreme Judge of the world for the rectitude of our intentions, do, in the Name, and by Authority of the good People of these Colonies, solemnly publish and declare, That these United Colonies are, and of Right ought to be Free and Independent States; that they are Absolved from all Allegiance to the British Crown, and that all political connection between them and the State of Great Britain, is and ought to be totally dissolved; and that as Free and Independent States, they have full Power to levy War, conclude Peace, contract Alliances, establish Commerce, and to do all other Acts and Things which Independent States may of right do. And for the support of this Declaration, with a firm reliance on the protection of divine Providence, we mutually pledge to each other our Lives, our Fortunes and our sacred Honor.']\n",
      "[\"When in the Course of human events, it becomes necessary for one people to dissolve the political bands which have connected them with another, and to assume among the powers of the earth, the separate and equal station to which the Laws of Nature and of Nature's God entitle them, a decent respect to the opinions of mankind requires that they should declare the causes which impel them to the separation.\\n\", '\\n', 'We hold these truths to be self-evident, that all men are created equal, that they are endowed by their Creator with certain unalienable Rights, that among these are Life, Liberty and the pursuit of Happiness.--That to secure these rights, Governments are instituted among Men, deriving their just powers from the consent of the governed, --That whenever any Form of Government becomes destructive of these ends, it is the Right of the People to alter or to abolish it, and to institute new Government, laying its foundation on such principles and organizing its powers in such form, as to them shall seem most likely to effect their Safety and Happiness. Prudence, indeed, will dictate that Governments long established should not be changed for light and transient causes; and accordingly all experience hath shewn, that mankind are more disposed to suffer, while evils are sufferable, than to right themselves by abolishing the forms to which they are accustomed. But when a long train of abuses and usurpations, pursuing invariably the same Object evinces a design to reduce them under absolute Despotism, it is their right, it is their duty, to throw off such Government, and to provide new Guards for their future security.--Such has been the patient sufferance of these Colonies; and such is now the necessity which constrains them to alter their former Systems of Government. The history of the present King of Great Britain is a history of repeated injuries and usurpations, all having in direct object the establishment of an absolute Tyranny over these States. To prove this, let Facts be submitted to a candid world.\\n', '\\n', 'He has refused his Assent to Laws, the most wholesome and necessary for the public good.\\n', '\\n', 'He has forbidden his Governors to pass Laws of immediate and pressing importance, unless suspended in their operation till his Assent should be obtained; and when so suspended, he has utterly neglected to attend to them.\\n', '\\n', 'He has refused to pass other Laws for the accommodation of large districts of people, unless those people would relinquish the right of Representation in the Legislature, a right inestimable to them and formidable to tyrants only.\\n', '\\n', 'He has called together legislative bodies at places unusual, uncomfortable, and distant from the depository of their public Records, for the sole purpose of fatiguing them into compliance with his measures.\\n', '\\n', 'He has dissolved Representative Houses repeatedly, for opposing with manly firmness his invasions on the rights of the people.\\n', '\\n', 'He has refused for a long time, after such dissolutions, to cause others to be elected; whereby the Legislative powers, incapable of Annihilation, have returned to the People at large for their exercise; the State remaining in the mean time exposed to all the dangers of invasion from without, and convulsions within.\\n', '\\n', 'He has endeavoured to prevent the population of these States; for that purpose obstructing the Laws for Naturalization of Foreigners; refusing to pass others to encourage their migrations hither, and raising the conditions of new Appropriations of Lands.\\n', '\\n', 'He has obstructed the Administration of Justice, by refusing his Assent to Laws for establishing Judiciary powers.\\n', '\\n', 'He has made Judges dependent on his Will alone, for the tenure of their offices, and the amount and payment of their salaries.\\n', '\\n', 'He has erected a multitude of New Offices, and sent hither swarms of Officers to harrass our people, and eat out their substance.\\n', '\\n', 'He has kept among us, in times of peace, Standing Armies without the Consent of our legislatures.\\n', '\\n', 'He has affected to render the Military independent of and superior to the Civil power.\\n', '\\n', 'He has combined with others to subject us to a jurisdiction foreign to our constitution, and unacknowledged by our laws; giving his Assent to their Acts of pretended Legislation:\\n', '\\n', 'For Quartering large bodies of armed troops among us:\\n', '\\n', 'For protecting them, by a mock Trial, from punishment for any Murders which they should commit on the Inhabitants of these States:\\n', '\\n', 'For cutting off our Trade with all parts of the world:\\n', '\\n', 'For imposing Taxes on us without our Consent:\\n', '\\n', 'For depriving us in many cases, of the benefits of Trial by Jury:\\n', '\\n', 'For transporting us beyond Seas to be tried for pretended offences\\n', '\\n', 'For abolishing the free System of English Laws in a neighbouring Province, establishing therein an Arbitrary government, and enlarging its Boundaries so as to render it at once an example and fit instrument for introducing the same absolute rule into these Colonies:\\n', '\\n', 'For taking away our Charters, abolishing our most valuable Laws, and altering fundamentally the Forms of our Governments:\\n', '\\n', 'For suspending our own Legislatures, and declaring themselves invested with power to legislate for us in all cases whatsoever.\\n', '\\n', 'He has abdicated Government here, by declaring us out of his Protection and waging War against us.\\n', '\\n', 'He has plundered our seas, ravaged our Coasts, burnt our towns, and destroyed the lives of our people.\\n', '\\n', 'He is at this time transporting large Armies of foreign Mercenaries to compleat the works of death, desolation and tyranny, already begun with circumstances of Cruelty & perfidy scarcely paralleled in the most barbarous ages, and totally unworthy the Head of a civilized nation.\\n', '\\n', 'He has constrained our fellow Citizens taken Captive on the high Seas to bear Arms against their Country, to become the executioners of their friends and Brethren, or to fall themselves by their Hands.\\n', '\\n', 'He has excited domestic insurrections amongst us, and has endeavoured to bring on the inhabitants of our frontiers, the merciless Indian Savages, whose known rule of warfare, is an undistinguished destruction of all ages, sexes and conditions.\\n', '\\n', 'In every stage of these Oppressions We have Petitioned for Redress in the most humble terms: Our repeated Petitions have been answered only by repeated injury. A Prince whose character is thus marked by every act which may define a Tyrant, is unfit to be the ruler of a free people.\\n', '\\n', 'Nor have We been wanting in attentions to our Brittish brethren. We have warned them from time to time of attempts by their legislature to extend an unwarrantable jurisdiction over us. We have reminded them of the circumstances of our emigration and settlement here. We have appealed to their native justice and magnanimity, and we have conjured them by the ties of our common kindred to disavow these usurpations, which, would inevitably interrupt our connections and correspondence. They too have been deaf to the voice of justice and of consanguinity. We must, therefore, acquiesce in the necessity, which denounces our Separation, and hold them, as we hold the rest of mankind, Enemies in War, in Peace Friends.\\n', '\\n', 'We, therefore, the Representatives of the United States of America, in General Congress, Assembled, appealing to the Supreme Judge of the world for the rectitude of our intentions, do, in the Name, and by Authority of the good People of these Colonies, solemnly publish and declare, That these United Colonies are, and of Right ought to be Free and Independent States; that they are Absolved from all Allegiance to the British Crown, and that all political connection between them and the State of Great Britain, is and ought to be totally dissolved; and that as Free and Independent States, they have full Power to levy War, conclude Peace, contract Alliances, establish Commerce, and to do all other Acts and Things which Independent States may of right do. And for the support of this Declaration, with a firm reliance on the protection of divine Providence, we mutually pledge to each other our Lives, our Fortunes and our sacred Honor.']\n",
      "[\"When in the Course of human events, it becomes necessary for one people to dissolve the political bands which have connected them with another, and to assume among the powers of the earth, the separate and equal station to which the Laws of Nature and of Nature's God entitle them, a decent respect to the opinions of mankind requires that they should declare the causes which impel them to the separation.\\n\", '\\n', 'We hold these truths to be self-evident, that all men are created equal, that they are endowed by their Creator with certain unalienable Rights, that among these are Life, Liberty and the pursuit of Happiness.--That to secure these rights, Governments are instituted among Men, deriving their just powers from the consent of the governed, --That whenever any Form of Government becomes destructive of these ends, it is the Right of the People to alter or to abolish it, and to institute new Government, laying its foundation on such principles and organizing its powers in such form, as to them shall seem most likely to effect their Safety and Happiness. Prudence, indeed, will dictate that Governments long established should not be changed for light and transient causes; and accordingly all experience hath shewn, that mankind are more disposed to suffer, while evils are sufferable, than to right themselves by abolishing the forms to which they are accustomed. But when a long train of abuses and usurpations, pursuing invariably the same Object evinces a design to reduce them under absolute Despotism, it is their right, it is their duty, to throw off such Government, and to provide new Guards for their future security.--Such has been the patient sufferance of these Colonies; and such is now the necessity which constrains them to alter their former Systems of Government. The history of the present King of Great Britain is a history of repeated injuries and usurpations, all having in direct object the establishment of an absolute Tyranny over these States. To prove this, let Facts be submitted to a candid world.\\n', '\\n', 'He has refused his Assent to Laws, the most wholesome and necessary for the public good.\\n', '\\n', 'He has forbidden his Governors to pass Laws of immediate and pressing importance, unless suspended in their operation till his Assent should be obtained; and when so suspended, he has utterly neglected to attend to them.\\n', '\\n', 'He has refused to pass other Laws for the accommodation of large districts of people, unless those people would relinquish the right of Representation in the Legislature, a right inestimable to them and formidable to tyrants only.\\n', '\\n', 'He has called together legislative bodies at places unusual, uncomfortable, and distant from the depository of their public Records, for the sole purpose of fatiguing them into compliance with his measures.\\n', '\\n', 'He has dissolved Representative Houses repeatedly, for opposing with manly firmness his invasions on the rights of the people.\\n', '\\n', 'He has refused for a long time, after such dissolutions, to cause others to be elected; whereby the Legislative powers, incapable of Annihilation, have returned to the People at large for their exercise; the State remaining in the mean time exposed to all the dangers of invasion from without, and convulsions within.\\n', '\\n', 'He has endeavoured to prevent the population of these States; for that purpose obstructing the Laws for Naturalization of Foreigners; refusing to pass others to encourage their migrations hither, and raising the conditions of new Appropriations of Lands.\\n', '\\n', 'He has obstructed the Administration of Justice, by refusing his Assent to Laws for establishing Judiciary powers.\\n', '\\n', 'He has made Judges dependent on his Will alone, for the tenure of their offices, and the amount and payment of their salaries.\\n', '\\n', 'He has erected a multitude of New Offices, and sent hither swarms of Officers to harrass our people, and eat out their substance.\\n', '\\n', 'He has kept among us, in times of peace, Standing Armies without the Consent of our legislatures.\\n', '\\n', 'He has affected to render the Military independent of and superior to the Civil power.\\n', '\\n', 'He has combined with others to subject us to a jurisdiction foreign to our constitution, and unacknowledged by our laws; giving his Assent to their Acts of pretended Legislation:\\n', '\\n', 'For Quartering large bodies of armed troops among us:\\n', '\\n', 'For protecting them, by a mock Trial, from punishment for any Murders which they should commit on the Inhabitants of these States:\\n', '\\n', 'For cutting off our Trade with all parts of the world:\\n', '\\n', 'For imposing Taxes on us without our Consent:\\n', '\\n', 'For depriving us in many cases, of the benefits of Trial by Jury:\\n', '\\n', 'For transporting us beyond Seas to be tried for pretended offences\\n', '\\n', 'For abolishing the free System of English Laws in a neighbouring Province, establishing therein an Arbitrary government, and enlarging its Boundaries so as to render it at once an example and fit instrument for introducing the same absolute rule into these Colonies:\\n', '\\n', 'For taking away our Charters, abolishing our most valuable Laws, and altering fundamentally the Forms of our Governments:\\n', '\\n', 'For suspending our own Legislatures, and declaring themselves invested with power to legislate for us in all cases whatsoever.\\n', '\\n', 'He has abdicated Government here, by declaring us out of his Protection and waging War against us.\\n', '\\n', 'He has plundered our seas, ravaged our Coasts, burnt our towns, and destroyed the lives of our people.\\n', '\\n', 'He is at this time transporting large Armies of foreign Mercenaries to compleat the works of death, desolation and tyranny, already begun with circumstances of Cruelty & perfidy scarcely paralleled in the most barbarous ages, and totally unworthy the Head of a civilized nation.\\n', '\\n', 'He has constrained our fellow Citizens taken Captive on the high Seas to bear Arms against their Country, to become the executioners of their friends and Brethren, or to fall themselves by their Hands.\\n', '\\n', 'He has excited domestic insurrections amongst us, and has endeavoured to bring on the inhabitants of our frontiers, the merciless Indian Savages, whose known rule of warfare, is an undistinguished destruction of all ages, sexes and conditions.\\n', '\\n', 'In every stage of these Oppressions We have Petitioned for Redress in the most humble terms: Our repeated Petitions have been answered only by repeated injury. A Prince whose character is thus marked by every act which may define a Tyrant, is unfit to be the ruler of a free people.\\n', '\\n', 'Nor have We been wanting in attentions to our Brittish brethren. We have warned them from time to time of attempts by their legislature to extend an unwarrantable jurisdiction over us. We have reminded them of the circumstances of our emigration and settlement here. We have appealed to their native justice and magnanimity, and we have conjured them by the ties of our common kindred to disavow these usurpations, which, would inevitably interrupt our connections and correspondence. They too have been deaf to the voice of justice and of consanguinity. We must, therefore, acquiesce in the necessity, which denounces our Separation, and hold them, as we hold the rest of mankind, Enemies in War, in Peace Friends.\\n', '\\n', 'We, therefore, the Representatives of the United States of America, in General Congress, Assembled, appealing to the Supreme Judge of the world for the rectitude of our intentions, do, in the Name, and by Authority of the good People of these Colonies, solemnly publish and declare, That these United Colonies are, and of Right ought to be Free and Independent States; that they are Absolved from all Allegiance to the British Crown, and that all political connection between them and the State of Great Britain, is and ought to be totally dissolved; and that as Free and Independent States, they have full Power to levy War, conclude Peace, contract Alliances, establish Commerce, and to do all other Acts and Things which Independent States may of right do. And for the support of this Declaration, with a firm reliance on the protection of divine Providence, we mutually pledge to each other our Lives, our Fortunes and our sacred Honor.']\n",
      "[\"When in the Course of human events, it becomes necessary for one people to dissolve the political bands which have connected them with another, and to assume among the powers of the earth, the separate and equal station to which the Laws of Nature and of Nature's God entitle them, a decent respect to the opinions of mankind requires that they should declare the causes which impel them to the separation.\\n\", '\\n', 'We hold these truths to be self-evident, that all men are created equal, that they are endowed by their Creator with certain unalienable Rights, that among these are Life, Liberty and the pursuit of Happiness.--That to secure these rights, Governments are instituted among Men, deriving their just powers from the consent of the governed, --That whenever any Form of Government becomes destructive of these ends, it is the Right of the People to alter or to abolish it, and to institute new Government, laying its foundation on such principles and organizing its powers in such form, as to them shall seem most likely to effect their Safety and Happiness. Prudence, indeed, will dictate that Governments long established should not be changed for light and transient causes; and accordingly all experience hath shewn, that mankind are more disposed to suffer, while evils are sufferable, than to right themselves by abolishing the forms to which they are accustomed. But when a long train of abuses and usurpations, pursuing invariably the same Object evinces a design to reduce them under absolute Despotism, it is their right, it is their duty, to throw off such Government, and to provide new Guards for their future security.--Such has been the patient sufferance of these Colonies; and such is now the necessity which constrains them to alter their former Systems of Government. The history of the present King of Great Britain is a history of repeated injuries and usurpations, all having in direct object the establishment of an absolute Tyranny over these States. To prove this, let Facts be submitted to a candid world.\\n', '\\n', 'He has refused his Assent to Laws, the most wholesome and necessary for the public good.\\n', '\\n', 'He has forbidden his Governors to pass Laws of immediate and pressing importance, unless suspended in their operation till his Assent should be obtained; and when so suspended, he has utterly neglected to attend to them.\\n', '\\n', 'He has refused to pass other Laws for the accommodation of large districts of people, unless those people would relinquish the right of Representation in the Legislature, a right inestimable to them and formidable to tyrants only.\\n', '\\n', 'He has called together legislative bodies at places unusual, uncomfortable, and distant from the depository of their public Records, for the sole purpose of fatiguing them into compliance with his measures.\\n', '\\n', 'He has dissolved Representative Houses repeatedly, for opposing with manly firmness his invasions on the rights of the people.\\n', '\\n', 'He has refused for a long time, after such dissolutions, to cause others to be elected; whereby the Legislative powers, incapable of Annihilation, have returned to the People at large for their exercise; the State remaining in the mean time exposed to all the dangers of invasion from without, and convulsions within.\\n', '\\n', 'He has endeavoured to prevent the population of these States; for that purpose obstructing the Laws for Naturalization of Foreigners; refusing to pass others to encourage their migrations hither, and raising the conditions of new Appropriations of Lands.\\n', '\\n', 'He has obstructed the Administration of Justice, by refusing his Assent to Laws for establishing Judiciary powers.\\n', '\\n', 'He has made Judges dependent on his Will alone, for the tenure of their offices, and the amount and payment of their salaries.\\n', '\\n', 'He has erected a multitude of New Offices, and sent hither swarms of Officers to harrass our people, and eat out their substance.\\n', '\\n', 'He has kept among us, in times of peace, Standing Armies without the Consent of our legislatures.\\n', '\\n', 'He has affected to render the Military independent of and superior to the Civil power.\\n', '\\n', 'He has combined with others to subject us to a jurisdiction foreign to our constitution, and unacknowledged by our laws; giving his Assent to their Acts of pretended Legislation:\\n', '\\n', 'For Quartering large bodies of armed troops among us:\\n', '\\n', 'For protecting them, by a mock Trial, from punishment for any Murders which they should commit on the Inhabitants of these States:\\n', '\\n', 'For cutting off our Trade with all parts of the world:\\n', '\\n', 'For imposing Taxes on us without our Consent:\\n', '\\n', 'For depriving us in many cases, of the benefits of Trial by Jury:\\n', '\\n', 'For transporting us beyond Seas to be tried for pretended offences\\n', '\\n', 'For abolishing the free System of English Laws in a neighbouring Province, establishing therein an Arbitrary government, and enlarging its Boundaries so as to render it at once an example and fit instrument for introducing the same absolute rule into these Colonies:\\n', '\\n', 'For taking away our Charters, abolishing our most valuable Laws, and altering fundamentally the Forms of our Governments:\\n', '\\n', 'For suspending our own Legislatures, and declaring themselves invested with power to legislate for us in all cases whatsoever.\\n', '\\n', 'He has abdicated Government here, by declaring us out of his Protection and waging War against us.\\n', '\\n', 'He has plundered our seas, ravaged our Coasts, burnt our towns, and destroyed the lives of our people.\\n', '\\n', 'He is at this time transporting large Armies of foreign Mercenaries to compleat the works of death, desolation and tyranny, already begun with circumstances of Cruelty & perfidy scarcely paralleled in the most barbarous ages, and totally unworthy the Head of a civilized nation.\\n', '\\n', 'He has constrained our fellow Citizens taken Captive on the high Seas to bear Arms against their Country, to become the executioners of their friends and Brethren, or to fall themselves by their Hands.\\n', '\\n', 'He has excited domestic insurrections amongst us, and has endeavoured to bring on the inhabitants of our frontiers, the merciless Indian Savages, whose known rule of warfare, is an undistinguished destruction of all ages, sexes and conditions.\\n', '\\n', 'In every stage of these Oppressions We have Petitioned for Redress in the most humble terms: Our repeated Petitions have been answered only by repeated injury. A Prince whose character is thus marked by every act which may define a Tyrant, is unfit to be the ruler of a free people.\\n', '\\n', 'Nor have We been wanting in attentions to our Brittish brethren. We have warned them from time to time of attempts by their legislature to extend an unwarrantable jurisdiction over us. We have reminded them of the circumstances of our emigration and settlement here. We have appealed to their native justice and magnanimity, and we have conjured them by the ties of our common kindred to disavow these usurpations, which, would inevitably interrupt our connections and correspondence. They too have been deaf to the voice of justice and of consanguinity. We must, therefore, acquiesce in the necessity, which denounces our Separation, and hold them, as we hold the rest of mankind, Enemies in War, in Peace Friends.\\n', '\\n', 'We, therefore, the Representatives of the United States of America, in General Congress, Assembled, appealing to the Supreme Judge of the world for the rectitude of our intentions, do, in the Name, and by Authority of the good People of these Colonies, solemnly publish and declare, That these United Colonies are, and of Right ought to be Free and Independent States; that they are Absolved from all Allegiance to the British Crown, and that all political connection between them and the State of Great Britain, is and ought to be totally dissolved; and that as Free and Independent States, they have full Power to levy War, conclude Peace, contract Alliances, establish Commerce, and to do all other Acts and Things which Independent States may of right do. And for the support of this Declaration, with a firm reliance on the protection of divine Providence, we mutually pledge to each other our Lives, our Fortunes and our sacred Honor.']\n",
      "[\"When in the Course of human events, it becomes necessary for one people to dissolve the political bands which have connected them with another, and to assume among the powers of the earth, the separate and equal station to which the Laws of Nature and of Nature's God entitle them, a decent respect to the opinions of mankind requires that they should declare the causes which impel them to the separation.\\n\", '\\n', 'We hold these truths to be self-evident, that all men are created equal, that they are endowed by their Creator with certain unalienable Rights, that among these are Life, Liberty and the pursuit of Happiness.--That to secure these rights, Governments are instituted among Men, deriving their just powers from the consent of the governed, --That whenever any Form of Government becomes destructive of these ends, it is the Right of the People to alter or to abolish it, and to institute new Government, laying its foundation on such principles and organizing its powers in such form, as to them shall seem most likely to effect their Safety and Happiness. Prudence, indeed, will dictate that Governments long established should not be changed for light and transient causes; and accordingly all experience hath shewn, that mankind are more disposed to suffer, while evils are sufferable, than to right themselves by abolishing the forms to which they are accustomed. But when a long train of abuses and usurpations, pursuing invariably the same Object evinces a design to reduce them under absolute Despotism, it is their right, it is their duty, to throw off such Government, and to provide new Guards for their future security.--Such has been the patient sufferance of these Colonies; and such is now the necessity which constrains them to alter their former Systems of Government. The history of the present King of Great Britain is a history of repeated injuries and usurpations, all having in direct object the establishment of an absolute Tyranny over these States. To prove this, let Facts be submitted to a candid world.\\n', '\\n', 'He has refused his Assent to Laws, the most wholesome and necessary for the public good.\\n', '\\n', 'He has forbidden his Governors to pass Laws of immediate and pressing importance, unless suspended in their operation till his Assent should be obtained; and when so suspended, he has utterly neglected to attend to them.\\n', '\\n', 'He has refused to pass other Laws for the accommodation of large districts of people, unless those people would relinquish the right of Representation in the Legislature, a right inestimable to them and formidable to tyrants only.\\n', '\\n', 'He has called together legislative bodies at places unusual, uncomfortable, and distant from the depository of their public Records, for the sole purpose of fatiguing them into compliance with his measures.\\n', '\\n', 'He has dissolved Representative Houses repeatedly, for opposing with manly firmness his invasions on the rights of the people.\\n', '\\n', 'He has refused for a long time, after such dissolutions, to cause others to be elected; whereby the Legislative powers, incapable of Annihilation, have returned to the People at large for their exercise; the State remaining in the mean time exposed to all the dangers of invasion from without, and convulsions within.\\n', '\\n', 'He has endeavoured to prevent the population of these States; for that purpose obstructing the Laws for Naturalization of Foreigners; refusing to pass others to encourage their migrations hither, and raising the conditions of new Appropriations of Lands.\\n', '\\n', 'He has obstructed the Administration of Justice, by refusing his Assent to Laws for establishing Judiciary powers.\\n', '\\n', 'He has made Judges dependent on his Will alone, for the tenure of their offices, and the amount and payment of their salaries.\\n', '\\n', 'He has erected a multitude of New Offices, and sent hither swarms of Officers to harrass our people, and eat out their substance.\\n', '\\n', 'He has kept among us, in times of peace, Standing Armies without the Consent of our legislatures.\\n', '\\n', 'He has affected to render the Military independent of and superior to the Civil power.\\n', '\\n', 'He has combined with others to subject us to a jurisdiction foreign to our constitution, and unacknowledged by our laws; giving his Assent to their Acts of pretended Legislation:\\n', '\\n', 'For Quartering large bodies of armed troops among us:\\n', '\\n', 'For protecting them, by a mock Trial, from punishment for any Murders which they should commit on the Inhabitants of these States:\\n', '\\n', 'For cutting off our Trade with all parts of the world:\\n', '\\n', 'For imposing Taxes on us without our Consent:\\n', '\\n', 'For depriving us in many cases, of the benefits of Trial by Jury:\\n', '\\n', 'For transporting us beyond Seas to be tried for pretended offences\\n', '\\n', 'For abolishing the free System of English Laws in a neighbouring Province, establishing therein an Arbitrary government, and enlarging its Boundaries so as to render it at once an example and fit instrument for introducing the same absolute rule into these Colonies:\\n', '\\n', 'For taking away our Charters, abolishing our most valuable Laws, and altering fundamentally the Forms of our Governments:\\n', '\\n', 'For suspending our own Legislatures, and declaring themselves invested with power to legislate for us in all cases whatsoever.\\n', '\\n', 'He has abdicated Government here, by declaring us out of his Protection and waging War against us.\\n', '\\n', 'He has plundered our seas, ravaged our Coasts, burnt our towns, and destroyed the lives of our people.\\n', '\\n', 'He is at this time transporting large Armies of foreign Mercenaries to compleat the works of death, desolation and tyranny, already begun with circumstances of Cruelty & perfidy scarcely paralleled in the most barbarous ages, and totally unworthy the Head of a civilized nation.\\n', '\\n', 'He has constrained our fellow Citizens taken Captive on the high Seas to bear Arms against their Country, to become the executioners of their friends and Brethren, or to fall themselves by their Hands.\\n', '\\n', 'He has excited domestic insurrections amongst us, and has endeavoured to bring on the inhabitants of our frontiers, the merciless Indian Savages, whose known rule of warfare, is an undistinguished destruction of all ages, sexes and conditions.\\n', '\\n', 'In every stage of these Oppressions We have Petitioned for Redress in the most humble terms: Our repeated Petitions have been answered only by repeated injury. A Prince whose character is thus marked by every act which may define a Tyrant, is unfit to be the ruler of a free people.\\n', '\\n', 'Nor have We been wanting in attentions to our Brittish brethren. We have warned them from time to time of attempts by their legislature to extend an unwarrantable jurisdiction over us. We have reminded them of the circumstances of our emigration and settlement here. We have appealed to their native justice and magnanimity, and we have conjured them by the ties of our common kindred to disavow these usurpations, which, would inevitably interrupt our connections and correspondence. They too have been deaf to the voice of justice and of consanguinity. We must, therefore, acquiesce in the necessity, which denounces our Separation, and hold them, as we hold the rest of mankind, Enemies in War, in Peace Friends.\\n', '\\n', 'We, therefore, the Representatives of the United States of America, in General Congress, Assembled, appealing to the Supreme Judge of the world for the rectitude of our intentions, do, in the Name, and by Authority of the good People of these Colonies, solemnly publish and declare, That these United Colonies are, and of Right ought to be Free and Independent States; that they are Absolved from all Allegiance to the British Crown, and that all political connection between them and the State of Great Britain, is and ought to be totally dissolved; and that as Free and Independent States, they have full Power to levy War, conclude Peace, contract Alliances, establish Commerce, and to do all other Acts and Things which Independent States may of right do. And for the support of this Declaration, with a firm reliance on the protection of divine Providence, we mutually pledge to each other our Lives, our Fortunes and our sacred Honor.']\n",
      "[\"When in the Course of human events, it becomes necessary for one people to dissolve the political bands which have connected them with another, and to assume among the powers of the earth, the separate and equal station to which the Laws of Nature and of Nature's God entitle them, a decent respect to the opinions of mankind requires that they should declare the causes which impel them to the separation.\\n\", '\\n', 'We hold these truths to be self-evident, that all men are created equal, that they are endowed by their Creator with certain unalienable Rights, that among these are Life, Liberty and the pursuit of Happiness.--That to secure these rights, Governments are instituted among Men, deriving their just powers from the consent of the governed, --That whenever any Form of Government becomes destructive of these ends, it is the Right of the People to alter or to abolish it, and to institute new Government, laying its foundation on such principles and organizing its powers in such form, as to them shall seem most likely to effect their Safety and Happiness. Prudence, indeed, will dictate that Governments long established should not be changed for light and transient causes; and accordingly all experience hath shewn, that mankind are more disposed to suffer, while evils are sufferable, than to right themselves by abolishing the forms to which they are accustomed. But when a long train of abuses and usurpations, pursuing invariably the same Object evinces a design to reduce them under absolute Despotism, it is their right, it is their duty, to throw off such Government, and to provide new Guards for their future security.--Such has been the patient sufferance of these Colonies; and such is now the necessity which constrains them to alter their former Systems of Government. The history of the present King of Great Britain is a history of repeated injuries and usurpations, all having in direct object the establishment of an absolute Tyranny over these States. To prove this, let Facts be submitted to a candid world.\\n', '\\n', 'He has refused his Assent to Laws, the most wholesome and necessary for the public good.\\n', '\\n', 'He has forbidden his Governors to pass Laws of immediate and pressing importance, unless suspended in their operation till his Assent should be obtained; and when so suspended, he has utterly neglected to attend to them.\\n', '\\n', 'He has refused to pass other Laws for the accommodation of large districts of people, unless those people would relinquish the right of Representation in the Legislature, a right inestimable to them and formidable to tyrants only.\\n', '\\n', 'He has called together legislative bodies at places unusual, uncomfortable, and distant from the depository of their public Records, for the sole purpose of fatiguing them into compliance with his measures.\\n', '\\n', 'He has dissolved Representative Houses repeatedly, for opposing with manly firmness his invasions on the rights of the people.\\n', '\\n', 'He has refused for a long time, after such dissolutions, to cause others to be elected; whereby the Legislative powers, incapable of Annihilation, have returned to the People at large for their exercise; the State remaining in the mean time exposed to all the dangers of invasion from without, and convulsions within.\\n', '\\n', 'He has endeavoured to prevent the population of these States; for that purpose obstructing the Laws for Naturalization of Foreigners; refusing to pass others to encourage their migrations hither, and raising the conditions of new Appropriations of Lands.\\n', '\\n', 'He has obstructed the Administration of Justice, by refusing his Assent to Laws for establishing Judiciary powers.\\n', '\\n', 'He has made Judges dependent on his Will alone, for the tenure of their offices, and the amount and payment of their salaries.\\n', '\\n', 'He has erected a multitude of New Offices, and sent hither swarms of Officers to harrass our people, and eat out their substance.\\n', '\\n', 'He has kept among us, in times of peace, Standing Armies without the Consent of our legislatures.\\n', '\\n', 'He has affected to render the Military independent of and superior to the Civil power.\\n', '\\n', 'He has combined with others to subject us to a jurisdiction foreign to our constitution, and unacknowledged by our laws; giving his Assent to their Acts of pretended Legislation:\\n', '\\n', 'For Quartering large bodies of armed troops among us:\\n', '\\n', 'For protecting them, by a mock Trial, from punishment for any Murders which they should commit on the Inhabitants of these States:\\n', '\\n', 'For cutting off our Trade with all parts of the world:\\n', '\\n', 'For imposing Taxes on us without our Consent:\\n', '\\n', 'For depriving us in many cases, of the benefits of Trial by Jury:\\n', '\\n', 'For transporting us beyond Seas to be tried for pretended offences\\n', '\\n', 'For abolishing the free System of English Laws in a neighbouring Province, establishing therein an Arbitrary government, and enlarging its Boundaries so as to render it at once an example and fit instrument for introducing the same absolute rule into these Colonies:\\n', '\\n', 'For taking away our Charters, abolishing our most valuable Laws, and altering fundamentally the Forms of our Governments:\\n', '\\n', 'For suspending our own Legislatures, and declaring themselves invested with power to legislate for us in all cases whatsoever.\\n', '\\n', 'He has abdicated Government here, by declaring us out of his Protection and waging War against us.\\n', '\\n', 'He has plundered our seas, ravaged our Coasts, burnt our towns, and destroyed the lives of our people.\\n', '\\n', 'He is at this time transporting large Armies of foreign Mercenaries to compleat the works of death, desolation and tyranny, already begun with circumstances of Cruelty & perfidy scarcely paralleled in the most barbarous ages, and totally unworthy the Head of a civilized nation.\\n', '\\n', 'He has constrained our fellow Citizens taken Captive on the high Seas to bear Arms against their Country, to become the executioners of their friends and Brethren, or to fall themselves by their Hands.\\n', '\\n', 'He has excited domestic insurrections amongst us, and has endeavoured to bring on the inhabitants of our frontiers, the merciless Indian Savages, whose known rule of warfare, is an undistinguished destruction of all ages, sexes and conditions.\\n', '\\n', 'In every stage of these Oppressions We have Petitioned for Redress in the most humble terms: Our repeated Petitions have been answered only by repeated injury. A Prince whose character is thus marked by every act which may define a Tyrant, is unfit to be the ruler of a free people.\\n', '\\n', 'Nor have We been wanting in attentions to our Brittish brethren. We have warned them from time to time of attempts by their legislature to extend an unwarrantable jurisdiction over us. We have reminded them of the circumstances of our emigration and settlement here. We have appealed to their native justice and magnanimity, and we have conjured them by the ties of our common kindred to disavow these usurpations, which, would inevitably interrupt our connections and correspondence. They too have been deaf to the voice of justice and of consanguinity. We must, therefore, acquiesce in the necessity, which denounces our Separation, and hold them, as we hold the rest of mankind, Enemies in War, in Peace Friends.\\n', '\\n', 'We, therefore, the Representatives of the United States of America, in General Congress, Assembled, appealing to the Supreme Judge of the world for the rectitude of our intentions, do, in the Name, and by Authority of the good People of these Colonies, solemnly publish and declare, That these United Colonies are, and of Right ought to be Free and Independent States; that they are Absolved from all Allegiance to the British Crown, and that all political connection between them and the State of Great Britain, is and ought to be totally dissolved; and that as Free and Independent States, they have full Power to levy War, conclude Peace, contract Alliances, establish Commerce, and to do all other Acts and Things which Independent States may of right do. And for the support of this Declaration, with a firm reliance on the protection of divine Providence, we mutually pledge to each other our Lives, our Fortunes and our sacred Honor.']\n",
      "[\"When in the Course of human events, it becomes necessary for one people to dissolve the political bands which have connected them with another, and to assume among the powers of the earth, the separate and equal station to which the Laws of Nature and of Nature's God entitle them, a decent respect to the opinions of mankind requires that they should declare the causes which impel them to the separation.\\n\", '\\n', 'We hold these truths to be self-evident, that all men are created equal, that they are endowed by their Creator with certain unalienable Rights, that among these are Life, Liberty and the pursuit of Happiness.--That to secure these rights, Governments are instituted among Men, deriving their just powers from the consent of the governed, --That whenever any Form of Government becomes destructive of these ends, it is the Right of the People to alter or to abolish it, and to institute new Government, laying its foundation on such principles and organizing its powers in such form, as to them shall seem most likely to effect their Safety and Happiness. Prudence, indeed, will dictate that Governments long established should not be changed for light and transient causes; and accordingly all experience hath shewn, that mankind are more disposed to suffer, while evils are sufferable, than to right themselves by abolishing the forms to which they are accustomed. But when a long train of abuses and usurpations, pursuing invariably the same Object evinces a design to reduce them under absolute Despotism, it is their right, it is their duty, to throw off such Government, and to provide new Guards for their future security.--Such has been the patient sufferance of these Colonies; and such is now the necessity which constrains them to alter their former Systems of Government. The history of the present King of Great Britain is a history of repeated injuries and usurpations, all having in direct object the establishment of an absolute Tyranny over these States. To prove this, let Facts be submitted to a candid world.\\n', '\\n', 'He has refused his Assent to Laws, the most wholesome and necessary for the public good.\\n', '\\n', 'He has forbidden his Governors to pass Laws of immediate and pressing importance, unless suspended in their operation till his Assent should be obtained; and when so suspended, he has utterly neglected to attend to them.\\n', '\\n', 'He has refused to pass other Laws for the accommodation of large districts of people, unless those people would relinquish the right of Representation in the Legislature, a right inestimable to them and formidable to tyrants only.\\n', '\\n', 'He has called together legislative bodies at places unusual, uncomfortable, and distant from the depository of their public Records, for the sole purpose of fatiguing them into compliance with his measures.\\n', '\\n', 'He has dissolved Representative Houses repeatedly, for opposing with manly firmness his invasions on the rights of the people.\\n', '\\n', 'He has refused for a long time, after such dissolutions, to cause others to be elected; whereby the Legislative powers, incapable of Annihilation, have returned to the People at large for their exercise; the State remaining in the mean time exposed to all the dangers of invasion from without, and convulsions within.\\n', '\\n', 'He has endeavoured to prevent the population of these States; for that purpose obstructing the Laws for Naturalization of Foreigners; refusing to pass others to encourage their migrations hither, and raising the conditions of new Appropriations of Lands.\\n', '\\n', 'He has obstructed the Administration of Justice, by refusing his Assent to Laws for establishing Judiciary powers.\\n', '\\n', 'He has made Judges dependent on his Will alone, for the tenure of their offices, and the amount and payment of their salaries.\\n', '\\n', 'He has erected a multitude of New Offices, and sent hither swarms of Officers to harrass our people, and eat out their substance.\\n', '\\n', 'He has kept among us, in times of peace, Standing Armies without the Consent of our legislatures.\\n', '\\n', 'He has affected to render the Military independent of and superior to the Civil power.\\n', '\\n', 'He has combined with others to subject us to a jurisdiction foreign to our constitution, and unacknowledged by our laws; giving his Assent to their Acts of pretended Legislation:\\n', '\\n', 'For Quartering large bodies of armed troops among us:\\n', '\\n', 'For protecting them, by a mock Trial, from punishment for any Murders which they should commit on the Inhabitants of these States:\\n', '\\n', 'For cutting off our Trade with all parts of the world:\\n', '\\n', 'For imposing Taxes on us without our Consent:\\n', '\\n', 'For depriving us in many cases, of the benefits of Trial by Jury:\\n', '\\n', 'For transporting us beyond Seas to be tried for pretended offences\\n', '\\n', 'For abolishing the free System of English Laws in a neighbouring Province, establishing therein an Arbitrary government, and enlarging its Boundaries so as to render it at once an example and fit instrument for introducing the same absolute rule into these Colonies:\\n', '\\n', 'For taking away our Charters, abolishing our most valuable Laws, and altering fundamentally the Forms of our Governments:\\n', '\\n', 'For suspending our own Legislatures, and declaring themselves invested with power to legislate for us in all cases whatsoever.\\n', '\\n', 'He has abdicated Government here, by declaring us out of his Protection and waging War against us.\\n', '\\n', 'He has plundered our seas, ravaged our Coasts, burnt our towns, and destroyed the lives of our people.\\n', '\\n', 'He is at this time transporting large Armies of foreign Mercenaries to compleat the works of death, desolation and tyranny, already begun with circumstances of Cruelty & perfidy scarcely paralleled in the most barbarous ages, and totally unworthy the Head of a civilized nation.\\n', '\\n', 'He has constrained our fellow Citizens taken Captive on the high Seas to bear Arms against their Country, to become the executioners of their friends and Brethren, or to fall themselves by their Hands.\\n', '\\n', 'He has excited domestic insurrections amongst us, and has endeavoured to bring on the inhabitants of our frontiers, the merciless Indian Savages, whose known rule of warfare, is an undistinguished destruction of all ages, sexes and conditions.\\n', '\\n', 'In every stage of these Oppressions We have Petitioned for Redress in the most humble terms: Our repeated Petitions have been answered only by repeated injury. A Prince whose character is thus marked by every act which may define a Tyrant, is unfit to be the ruler of a free people.\\n', '\\n', 'Nor have We been wanting in attentions to our Brittish brethren. We have warned them from time to time of attempts by their legislature to extend an unwarrantable jurisdiction over us. We have reminded them of the circumstances of our emigration and settlement here. We have appealed to their native justice and magnanimity, and we have conjured them by the ties of our common kindred to disavow these usurpations, which, would inevitably interrupt our connections and correspondence. They too have been deaf to the voice of justice and of consanguinity. We must, therefore, acquiesce in the necessity, which denounces our Separation, and hold them, as we hold the rest of mankind, Enemies in War, in Peace Friends.\\n', '\\n', 'We, therefore, the Representatives of the United States of America, in General Congress, Assembled, appealing to the Supreme Judge of the world for the rectitude of our intentions, do, in the Name, and by Authority of the good People of these Colonies, solemnly publish and declare, That these United Colonies are, and of Right ought to be Free and Independent States; that they are Absolved from all Allegiance to the British Crown, and that all political connection between them and the State of Great Britain, is and ought to be totally dissolved; and that as Free and Independent States, they have full Power to levy War, conclude Peace, contract Alliances, establish Commerce, and to do all other Acts and Things which Independent States may of right do. And for the support of this Declaration, with a firm reliance on the protection of divine Providence, we mutually pledge to each other our Lives, our Fortunes and our sacred Honor.']\n",
      "[\"When in the Course of human events, it becomes necessary for one people to dissolve the political bands which have connected them with another, and to assume among the powers of the earth, the separate and equal station to which the Laws of Nature and of Nature's God entitle them, a decent respect to the opinions of mankind requires that they should declare the causes which impel them to the separation.\\n\", '\\n', 'We hold these truths to be self-evident, that all men are created equal, that they are endowed by their Creator with certain unalienable Rights, that among these are Life, Liberty and the pursuit of Happiness.--That to secure these rights, Governments are instituted among Men, deriving their just powers from the consent of the governed, --That whenever any Form of Government becomes destructive of these ends, it is the Right of the People to alter or to abolish it, and to institute new Government, laying its foundation on such principles and organizing its powers in such form, as to them shall seem most likely to effect their Safety and Happiness. Prudence, indeed, will dictate that Governments long established should not be changed for light and transient causes; and accordingly all experience hath shewn, that mankind are more disposed to suffer, while evils are sufferable, than to right themselves by abolishing the forms to which they are accustomed. But when a long train of abuses and usurpations, pursuing invariably the same Object evinces a design to reduce them under absolute Despotism, it is their right, it is their duty, to throw off such Government, and to provide new Guards for their future security.--Such has been the patient sufferance of these Colonies; and such is now the necessity which constrains them to alter their former Systems of Government. The history of the present King of Great Britain is a history of repeated injuries and usurpations, all having in direct object the establishment of an absolute Tyranny over these States. To prove this, let Facts be submitted to a candid world.\\n', '\\n', 'He has refused his Assent to Laws, the most wholesome and necessary for the public good.\\n', '\\n', 'He has forbidden his Governors to pass Laws of immediate and pressing importance, unless suspended in their operation till his Assent should be obtained; and when so suspended, he has utterly neglected to attend to them.\\n', '\\n', 'He has refused to pass other Laws for the accommodation of large districts of people, unless those people would relinquish the right of Representation in the Legislature, a right inestimable to them and formidable to tyrants only.\\n', '\\n', 'He has called together legislative bodies at places unusual, uncomfortable, and distant from the depository of their public Records, for the sole purpose of fatiguing them into compliance with his measures.\\n', '\\n', 'He has dissolved Representative Houses repeatedly, for opposing with manly firmness his invasions on the rights of the people.\\n', '\\n', 'He has refused for a long time, after such dissolutions, to cause others to be elected; whereby the Legislative powers, incapable of Annihilation, have returned to the People at large for their exercise; the State remaining in the mean time exposed to all the dangers of invasion from without, and convulsions within.\\n', '\\n', 'He has endeavoured to prevent the population of these States; for that purpose obstructing the Laws for Naturalization of Foreigners; refusing to pass others to encourage their migrations hither, and raising the conditions of new Appropriations of Lands.\\n', '\\n', 'He has obstructed the Administration of Justice, by refusing his Assent to Laws for establishing Judiciary powers.\\n', '\\n', 'He has made Judges dependent on his Will alone, for the tenure of their offices, and the amount and payment of their salaries.\\n', '\\n', 'He has erected a multitude of New Offices, and sent hither swarms of Officers to harrass our people, and eat out their substance.\\n', '\\n', 'He has kept among us, in times of peace, Standing Armies without the Consent of our legislatures.\\n', '\\n', 'He has affected to render the Military independent of and superior to the Civil power.\\n', '\\n', 'He has combined with others to subject us to a jurisdiction foreign to our constitution, and unacknowledged by our laws; giving his Assent to their Acts of pretended Legislation:\\n', '\\n', 'For Quartering large bodies of armed troops among us:\\n', '\\n', 'For protecting them, by a mock Trial, from punishment for any Murders which they should commit on the Inhabitants of these States:\\n', '\\n', 'For cutting off our Trade with all parts of the world:\\n', '\\n', 'For imposing Taxes on us without our Consent:\\n', '\\n', 'For depriving us in many cases, of the benefits of Trial by Jury:\\n', '\\n', 'For transporting us beyond Seas to be tried for pretended offences\\n', '\\n', 'For abolishing the free System of English Laws in a neighbouring Province, establishing therein an Arbitrary government, and enlarging its Boundaries so as to render it at once an example and fit instrument for introducing the same absolute rule into these Colonies:\\n', '\\n', 'For taking away our Charters, abolishing our most valuable Laws, and altering fundamentally the Forms of our Governments:\\n', '\\n', 'For suspending our own Legislatures, and declaring themselves invested with power to legislate for us in all cases whatsoever.\\n', '\\n', 'He has abdicated Government here, by declaring us out of his Protection and waging War against us.\\n', '\\n', 'He has plundered our seas, ravaged our Coasts, burnt our towns, and destroyed the lives of our people.\\n', '\\n', 'He is at this time transporting large Armies of foreign Mercenaries to compleat the works of death, desolation and tyranny, already begun with circumstances of Cruelty & perfidy scarcely paralleled in the most barbarous ages, and totally unworthy the Head of a civilized nation.\\n', '\\n', 'He has constrained our fellow Citizens taken Captive on the high Seas to bear Arms against their Country, to become the executioners of their friends and Brethren, or to fall themselves by their Hands.\\n', '\\n', 'He has excited domestic insurrections amongst us, and has endeavoured to bring on the inhabitants of our frontiers, the merciless Indian Savages, whose known rule of warfare, is an undistinguished destruction of all ages, sexes and conditions.\\n', '\\n', 'In every stage of these Oppressions We have Petitioned for Redress in the most humble terms: Our repeated Petitions have been answered only by repeated injury. A Prince whose character is thus marked by every act which may define a Tyrant, is unfit to be the ruler of a free people.\\n', '\\n', 'Nor have We been wanting in attentions to our Brittish brethren. We have warned them from time to time of attempts by their legislature to extend an unwarrantable jurisdiction over us. We have reminded them of the circumstances of our emigration and settlement here. We have appealed to their native justice and magnanimity, and we have conjured them by the ties of our common kindred to disavow these usurpations, which, would inevitably interrupt our connections and correspondence. They too have been deaf to the voice of justice and of consanguinity. We must, therefore, acquiesce in the necessity, which denounces our Separation, and hold them, as we hold the rest of mankind, Enemies in War, in Peace Friends.\\n', '\\n', 'We, therefore, the Representatives of the United States of America, in General Congress, Assembled, appealing to the Supreme Judge of the world for the rectitude of our intentions, do, in the Name, and by Authority of the good People of these Colonies, solemnly publish and declare, That these United Colonies are, and of Right ought to be Free and Independent States; that they are Absolved from all Allegiance to the British Crown, and that all political connection between them and the State of Great Britain, is and ought to be totally dissolved; and that as Free and Independent States, they have full Power to levy War, conclude Peace, contract Alliances, establish Commerce, and to do all other Acts and Things which Independent States may of right do. And for the support of this Declaration, with a firm reliance on the protection of divine Providence, we mutually pledge to each other our Lives, our Fortunes and our sacred Honor.']\n",
      "[\"When in the Course of human events, it becomes necessary for one people to dissolve the political bands which have connected them with another, and to assume among the powers of the earth, the separate and equal station to which the Laws of Nature and of Nature's God entitle them, a decent respect to the opinions of mankind requires that they should declare the causes which impel them to the separation.\\n\", '\\n', 'We hold these truths to be self-evident, that all men are created equal, that they are endowed by their Creator with certain unalienable Rights, that among these are Life, Liberty and the pursuit of Happiness.--That to secure these rights, Governments are instituted among Men, deriving their just powers from the consent of the governed, --That whenever any Form of Government becomes destructive of these ends, it is the Right of the People to alter or to abolish it, and to institute new Government, laying its foundation on such principles and organizing its powers in such form, as to them shall seem most likely to effect their Safety and Happiness. Prudence, indeed, will dictate that Governments long established should not be changed for light and transient causes; and accordingly all experience hath shewn, that mankind are more disposed to suffer, while evils are sufferable, than to right themselves by abolishing the forms to which they are accustomed. But when a long train of abuses and usurpations, pursuing invariably the same Object evinces a design to reduce them under absolute Despotism, it is their right, it is their duty, to throw off such Government, and to provide new Guards for their future security.--Such has been the patient sufferance of these Colonies; and such is now the necessity which constrains them to alter their former Systems of Government. The history of the present King of Great Britain is a history of repeated injuries and usurpations, all having in direct object the establishment of an absolute Tyranny over these States. To prove this, let Facts be submitted to a candid world.\\n', '\\n', 'He has refused his Assent to Laws, the most wholesome and necessary for the public good.\\n', '\\n', 'He has forbidden his Governors to pass Laws of immediate and pressing importance, unless suspended in their operation till his Assent should be obtained; and when so suspended, he has utterly neglected to attend to them.\\n', '\\n', 'He has refused to pass other Laws for the accommodation of large districts of people, unless those people would relinquish the right of Representation in the Legislature, a right inestimable to them and formidable to tyrants only.\\n', '\\n', 'He has called together legislative bodies at places unusual, uncomfortable, and distant from the depository of their public Records, for the sole purpose of fatiguing them into compliance with his measures.\\n', '\\n', 'He has dissolved Representative Houses repeatedly, for opposing with manly firmness his invasions on the rights of the people.\\n', '\\n', 'He has refused for a long time, after such dissolutions, to cause others to be elected; whereby the Legislative powers, incapable of Annihilation, have returned to the People at large for their exercise; the State remaining in the mean time exposed to all the dangers of invasion from without, and convulsions within.\\n', '\\n', 'He has endeavoured to prevent the population of these States; for that purpose obstructing the Laws for Naturalization of Foreigners; refusing to pass others to encourage their migrations hither, and raising the conditions of new Appropriations of Lands.\\n', '\\n', 'He has obstructed the Administration of Justice, by refusing his Assent to Laws for establishing Judiciary powers.\\n', '\\n', 'He has made Judges dependent on his Will alone, for the tenure of their offices, and the amount and payment of their salaries.\\n', '\\n', 'He has erected a multitude of New Offices, and sent hither swarms of Officers to harrass our people, and eat out their substance.\\n', '\\n', 'He has kept among us, in times of peace, Standing Armies without the Consent of our legislatures.\\n', '\\n', 'He has affected to render the Military independent of and superior to the Civil power.\\n', '\\n', 'He has combined with others to subject us to a jurisdiction foreign to our constitution, and unacknowledged by our laws; giving his Assent to their Acts of pretended Legislation:\\n', '\\n', 'For Quartering large bodies of armed troops among us:\\n', '\\n', 'For protecting them, by a mock Trial, from punishment for any Murders which they should commit on the Inhabitants of these States:\\n', '\\n', 'For cutting off our Trade with all parts of the world:\\n', '\\n', 'For imposing Taxes on us without our Consent:\\n', '\\n', 'For depriving us in many cases, of the benefits of Trial by Jury:\\n', '\\n', 'For transporting us beyond Seas to be tried for pretended offences\\n', '\\n', 'For abolishing the free System of English Laws in a neighbouring Province, establishing therein an Arbitrary government, and enlarging its Boundaries so as to render it at once an example and fit instrument for introducing the same absolute rule into these Colonies:\\n', '\\n', 'For taking away our Charters, abolishing our most valuable Laws, and altering fundamentally the Forms of our Governments:\\n', '\\n', 'For suspending our own Legislatures, and declaring themselves invested with power to legislate for us in all cases whatsoever.\\n', '\\n', 'He has abdicated Government here, by declaring us out of his Protection and waging War against us.\\n', '\\n', 'He has plundered our seas, ravaged our Coasts, burnt our towns, and destroyed the lives of our people.\\n', '\\n', 'He is at this time transporting large Armies of foreign Mercenaries to compleat the works of death, desolation and tyranny, already begun with circumstances of Cruelty & perfidy scarcely paralleled in the most barbarous ages, and totally unworthy the Head of a civilized nation.\\n', '\\n', 'He has constrained our fellow Citizens taken Captive on the high Seas to bear Arms against their Country, to become the executioners of their friends and Brethren, or to fall themselves by their Hands.\\n', '\\n', 'He has excited domestic insurrections amongst us, and has endeavoured to bring on the inhabitants of our frontiers, the merciless Indian Savages, whose known rule of warfare, is an undistinguished destruction of all ages, sexes and conditions.\\n', '\\n', 'In every stage of these Oppressions We have Petitioned for Redress in the most humble terms: Our repeated Petitions have been answered only by repeated injury. A Prince whose character is thus marked by every act which may define a Tyrant, is unfit to be the ruler of a free people.\\n', '\\n', 'Nor have We been wanting in attentions to our Brittish brethren. We have warned them from time to time of attempts by their legislature to extend an unwarrantable jurisdiction over us. We have reminded them of the circumstances of our emigration and settlement here. We have appealed to their native justice and magnanimity, and we have conjured them by the ties of our common kindred to disavow these usurpations, which, would inevitably interrupt our connections and correspondence. They too have been deaf to the voice of justice and of consanguinity. We must, therefore, acquiesce in the necessity, which denounces our Separation, and hold them, as we hold the rest of mankind, Enemies in War, in Peace Friends.\\n', '\\n', 'We, therefore, the Representatives of the United States of America, in General Congress, Assembled, appealing to the Supreme Judge of the world for the rectitude of our intentions, do, in the Name, and by Authority of the good People of these Colonies, solemnly publish and declare, That these United Colonies are, and of Right ought to be Free and Independent States; that they are Absolved from all Allegiance to the British Crown, and that all political connection between them and the State of Great Britain, is and ought to be totally dissolved; and that as Free and Independent States, they have full Power to levy War, conclude Peace, contract Alliances, establish Commerce, and to do all other Acts and Things which Independent States may of right do. And for the support of this Declaration, with a firm reliance on the protection of divine Providence, we mutually pledge to each other our Lives, our Fortunes and our sacred Honor.']\n",
      "[\"When in the Course of human events, it becomes necessary for one people to dissolve the political bands which have connected them with another, and to assume among the powers of the earth, the separate and equal station to which the Laws of Nature and of Nature's God entitle them, a decent respect to the opinions of mankind requires that they should declare the causes which impel them to the separation.\\n\", '\\n', 'We hold these truths to be self-evident, that all men are created equal, that they are endowed by their Creator with certain unalienable Rights, that among these are Life, Liberty and the pursuit of Happiness.--That to secure these rights, Governments are instituted among Men, deriving their just powers from the consent of the governed, --That whenever any Form of Government becomes destructive of these ends, it is the Right of the People to alter or to abolish it, and to institute new Government, laying its foundation on such principles and organizing its powers in such form, as to them shall seem most likely to effect their Safety and Happiness. Prudence, indeed, will dictate that Governments long established should not be changed for light and transient causes; and accordingly all experience hath shewn, that mankind are more disposed to suffer, while evils are sufferable, than to right themselves by abolishing the forms to which they are accustomed. But when a long train of abuses and usurpations, pursuing invariably the same Object evinces a design to reduce them under absolute Despotism, it is their right, it is their duty, to throw off such Government, and to provide new Guards for their future security.--Such has been the patient sufferance of these Colonies; and such is now the necessity which constrains them to alter their former Systems of Government. The history of the present King of Great Britain is a history of repeated injuries and usurpations, all having in direct object the establishment of an absolute Tyranny over these States. To prove this, let Facts be submitted to a candid world.\\n', '\\n', 'He has refused his Assent to Laws, the most wholesome and necessary for the public good.\\n', '\\n', 'He has forbidden his Governors to pass Laws of immediate and pressing importance, unless suspended in their operation till his Assent should be obtained; and when so suspended, he has utterly neglected to attend to them.\\n', '\\n', 'He has refused to pass other Laws for the accommodation of large districts of people, unless those people would relinquish the right of Representation in the Legislature, a right inestimable to them and formidable to tyrants only.\\n', '\\n', 'He has called together legislative bodies at places unusual, uncomfortable, and distant from the depository of their public Records, for the sole purpose of fatiguing them into compliance with his measures.\\n', '\\n', 'He has dissolved Representative Houses repeatedly, for opposing with manly firmness his invasions on the rights of the people.\\n', '\\n', 'He has refused for a long time, after such dissolutions, to cause others to be elected; whereby the Legislative powers, incapable of Annihilation, have returned to the People at large for their exercise; the State remaining in the mean time exposed to all the dangers of invasion from without, and convulsions within.\\n', '\\n', 'He has endeavoured to prevent the population of these States; for that purpose obstructing the Laws for Naturalization of Foreigners; refusing to pass others to encourage their migrations hither, and raising the conditions of new Appropriations of Lands.\\n', '\\n', 'He has obstructed the Administration of Justice, by refusing his Assent to Laws for establishing Judiciary powers.\\n', '\\n', 'He has made Judges dependent on his Will alone, for the tenure of their offices, and the amount and payment of their salaries.\\n', '\\n', 'He has erected a multitude of New Offices, and sent hither swarms of Officers to harrass our people, and eat out their substance.\\n', '\\n', 'He has kept among us, in times of peace, Standing Armies without the Consent of our legislatures.\\n', '\\n', 'He has affected to render the Military independent of and superior to the Civil power.\\n', '\\n', 'He has combined with others to subject us to a jurisdiction foreign to our constitution, and unacknowledged by our laws; giving his Assent to their Acts of pretended Legislation:\\n', '\\n', 'For Quartering large bodies of armed troops among us:\\n', '\\n', 'For protecting them, by a mock Trial, from punishment for any Murders which they should commit on the Inhabitants of these States:\\n', '\\n', 'For cutting off our Trade with all parts of the world:\\n', '\\n', 'For imposing Taxes on us without our Consent:\\n', '\\n', 'For depriving us in many cases, of the benefits of Trial by Jury:\\n', '\\n', 'For transporting us beyond Seas to be tried for pretended offences\\n', '\\n', 'For abolishing the free System of English Laws in a neighbouring Province, establishing therein an Arbitrary government, and enlarging its Boundaries so as to render it at once an example and fit instrument for introducing the same absolute rule into these Colonies:\\n', '\\n', 'For taking away our Charters, abolishing our most valuable Laws, and altering fundamentally the Forms of our Governments:\\n', '\\n', 'For suspending our own Legislatures, and declaring themselves invested with power to legislate for us in all cases whatsoever.\\n', '\\n', 'He has abdicated Government here, by declaring us out of his Protection and waging War against us.\\n', '\\n', 'He has plundered our seas, ravaged our Coasts, burnt our towns, and destroyed the lives of our people.\\n', '\\n', 'He is at this time transporting large Armies of foreign Mercenaries to compleat the works of death, desolation and tyranny, already begun with circumstances of Cruelty & perfidy scarcely paralleled in the most barbarous ages, and totally unworthy the Head of a civilized nation.\\n', '\\n', 'He has constrained our fellow Citizens taken Captive on the high Seas to bear Arms against their Country, to become the executioners of their friends and Brethren, or to fall themselves by their Hands.\\n', '\\n', 'He has excited domestic insurrections amongst us, and has endeavoured to bring on the inhabitants of our frontiers, the merciless Indian Savages, whose known rule of warfare, is an undistinguished destruction of all ages, sexes and conditions.\\n', '\\n', 'In every stage of these Oppressions We have Petitioned for Redress in the most humble terms: Our repeated Petitions have been answered only by repeated injury. A Prince whose character is thus marked by every act which may define a Tyrant, is unfit to be the ruler of a free people.\\n', '\\n', 'Nor have We been wanting in attentions to our Brittish brethren. We have warned them from time to time of attempts by their legislature to extend an unwarrantable jurisdiction over us. We have reminded them of the circumstances of our emigration and settlement here. We have appealed to their native justice and magnanimity, and we have conjured them by the ties of our common kindred to disavow these usurpations, which, would inevitably interrupt our connections and correspondence. They too have been deaf to the voice of justice and of consanguinity. We must, therefore, acquiesce in the necessity, which denounces our Separation, and hold them, as we hold the rest of mankind, Enemies in War, in Peace Friends.\\n', '\\n', 'We, therefore, the Representatives of the United States of America, in General Congress, Assembled, appealing to the Supreme Judge of the world for the rectitude of our intentions, do, in the Name, and by Authority of the good People of these Colonies, solemnly publish and declare, That these United Colonies are, and of Right ought to be Free and Independent States; that they are Absolved from all Allegiance to the British Crown, and that all political connection between them and the State of Great Britain, is and ought to be totally dissolved; and that as Free and Independent States, they have full Power to levy War, conclude Peace, contract Alliances, establish Commerce, and to do all other Acts and Things which Independent States may of right do. And for the support of this Declaration, with a firm reliance on the protection of divine Providence, we mutually pledge to each other our Lives, our Fortunes and our sacred Honor.']\n",
      "[\"When in the Course of human events, it becomes necessary for one people to dissolve the political bands which have connected them with another, and to assume among the powers of the earth, the separate and equal station to which the Laws of Nature and of Nature's God entitle them, a decent respect to the opinions of mankind requires that they should declare the causes which impel them to the separation.\\n\", '\\n', 'We hold these truths to be self-evident, that all men are created equal, that they are endowed by their Creator with certain unalienable Rights, that among these are Life, Liberty and the pursuit of Happiness.--That to secure these rights, Governments are instituted among Men, deriving their just powers from the consent of the governed, --That whenever any Form of Government becomes destructive of these ends, it is the Right of the People to alter or to abolish it, and to institute new Government, laying its foundation on such principles and organizing its powers in such form, as to them shall seem most likely to effect their Safety and Happiness. Prudence, indeed, will dictate that Governments long established should not be changed for light and transient causes; and accordingly all experience hath shewn, that mankind are more disposed to suffer, while evils are sufferable, than to right themselves by abolishing the forms to which they are accustomed. But when a long train of abuses and usurpations, pursuing invariably the same Object evinces a design to reduce them under absolute Despotism, it is their right, it is their duty, to throw off such Government, and to provide new Guards for their future security.--Such has been the patient sufferance of these Colonies; and such is now the necessity which constrains them to alter their former Systems of Government. The history of the present King of Great Britain is a history of repeated injuries and usurpations, all having in direct object the establishment of an absolute Tyranny over these States. To prove this, let Facts be submitted to a candid world.\\n', '\\n', 'He has refused his Assent to Laws, the most wholesome and necessary for the public good.\\n', '\\n', 'He has forbidden his Governors to pass Laws of immediate and pressing importance, unless suspended in their operation till his Assent should be obtained; and when so suspended, he has utterly neglected to attend to them.\\n', '\\n', 'He has refused to pass other Laws for the accommodation of large districts of people, unless those people would relinquish the right of Representation in the Legislature, a right inestimable to them and formidable to tyrants only.\\n', '\\n', 'He has called together legislative bodies at places unusual, uncomfortable, and distant from the depository of their public Records, for the sole purpose of fatiguing them into compliance with his measures.\\n', '\\n', 'He has dissolved Representative Houses repeatedly, for opposing with manly firmness his invasions on the rights of the people.\\n', '\\n', 'He has refused for a long time, after such dissolutions, to cause others to be elected; whereby the Legislative powers, incapable of Annihilation, have returned to the People at large for their exercise; the State remaining in the mean time exposed to all the dangers of invasion from without, and convulsions within.\\n', '\\n', 'He has endeavoured to prevent the population of these States; for that purpose obstructing the Laws for Naturalization of Foreigners; refusing to pass others to encourage their migrations hither, and raising the conditions of new Appropriations of Lands.\\n', '\\n', 'He has obstructed the Administration of Justice, by refusing his Assent to Laws for establishing Judiciary powers.\\n', '\\n', 'He has made Judges dependent on his Will alone, for the tenure of their offices, and the amount and payment of their salaries.\\n', '\\n', 'He has erected a multitude of New Offices, and sent hither swarms of Officers to harrass our people, and eat out their substance.\\n', '\\n', 'He has kept among us, in times of peace, Standing Armies without the Consent of our legislatures.\\n', '\\n', 'He has affected to render the Military independent of and superior to the Civil power.\\n', '\\n', 'He has combined with others to subject us to a jurisdiction foreign to our constitution, and unacknowledged by our laws; giving his Assent to their Acts of pretended Legislation:\\n', '\\n', 'For Quartering large bodies of armed troops among us:\\n', '\\n', 'For protecting them, by a mock Trial, from punishment for any Murders which they should commit on the Inhabitants of these States:\\n', '\\n', 'For cutting off our Trade with all parts of the world:\\n', '\\n', 'For imposing Taxes on us without our Consent:\\n', '\\n', 'For depriving us in many cases, of the benefits of Trial by Jury:\\n', '\\n', 'For transporting us beyond Seas to be tried for pretended offences\\n', '\\n', 'For abolishing the free System of English Laws in a neighbouring Province, establishing therein an Arbitrary government, and enlarging its Boundaries so as to render it at once an example and fit instrument for introducing the same absolute rule into these Colonies:\\n', '\\n', 'For taking away our Charters, abolishing our most valuable Laws, and altering fundamentally the Forms of our Governments:\\n', '\\n', 'For suspending our own Legislatures, and declaring themselves invested with power to legislate for us in all cases whatsoever.\\n', '\\n', 'He has abdicated Government here, by declaring us out of his Protection and waging War against us.\\n', '\\n', 'He has plundered our seas, ravaged our Coasts, burnt our towns, and destroyed the lives of our people.\\n', '\\n', 'He is at this time transporting large Armies of foreign Mercenaries to compleat the works of death, desolation and tyranny, already begun with circumstances of Cruelty & perfidy scarcely paralleled in the most barbarous ages, and totally unworthy the Head of a civilized nation.\\n', '\\n', 'He has constrained our fellow Citizens taken Captive on the high Seas to bear Arms against their Country, to become the executioners of their friends and Brethren, or to fall themselves by their Hands.\\n', '\\n', 'He has excited domestic insurrections amongst us, and has endeavoured to bring on the inhabitants of our frontiers, the merciless Indian Savages, whose known rule of warfare, is an undistinguished destruction of all ages, sexes and conditions.\\n', '\\n', 'In every stage of these Oppressions We have Petitioned for Redress in the most humble terms: Our repeated Petitions have been answered only by repeated injury. A Prince whose character is thus marked by every act which may define a Tyrant, is unfit to be the ruler of a free people.\\n', '\\n', 'Nor have We been wanting in attentions to our Brittish brethren. We have warned them from time to time of attempts by their legislature to extend an unwarrantable jurisdiction over us. We have reminded them of the circumstances of our emigration and settlement here. We have appealed to their native justice and magnanimity, and we have conjured them by the ties of our common kindred to disavow these usurpations, which, would inevitably interrupt our connections and correspondence. They too have been deaf to the voice of justice and of consanguinity. We must, therefore, acquiesce in the necessity, which denounces our Separation, and hold them, as we hold the rest of mankind, Enemies in War, in Peace Friends.\\n', '\\n', 'We, therefore, the Representatives of the United States of America, in General Congress, Assembled, appealing to the Supreme Judge of the world for the rectitude of our intentions, do, in the Name, and by Authority of the good People of these Colonies, solemnly publish and declare, That these United Colonies are, and of Right ought to be Free and Independent States; that they are Absolved from all Allegiance to the British Crown, and that all political connection between them and the State of Great Britain, is and ought to be totally dissolved; and that as Free and Independent States, they have full Power to levy War, conclude Peace, contract Alliances, establish Commerce, and to do all other Acts and Things which Independent States may of right do. And for the support of this Declaration, with a firm reliance on the protection of divine Providence, we mutually pledge to each other our Lives, our Fortunes and our sacred Honor.']\n",
      "[\"When in the Course of human events, it becomes necessary for one people to dissolve the political bands which have connected them with another, and to assume among the powers of the earth, the separate and equal station to which the Laws of Nature and of Nature's God entitle them, a decent respect to the opinions of mankind requires that they should declare the causes which impel them to the separation.\\n\", '\\n', 'We hold these truths to be self-evident, that all men are created equal, that they are endowed by their Creator with certain unalienable Rights, that among these are Life, Liberty and the pursuit of Happiness.--That to secure these rights, Governments are instituted among Men, deriving their just powers from the consent of the governed, --That whenever any Form of Government becomes destructive of these ends, it is the Right of the People to alter or to abolish it, and to institute new Government, laying its foundation on such principles and organizing its powers in such form, as to them shall seem most likely to effect their Safety and Happiness. Prudence, indeed, will dictate that Governments long established should not be changed for light and transient causes; and accordingly all experience hath shewn, that mankind are more disposed to suffer, while evils are sufferable, than to right themselves by abolishing the forms to which they are accustomed. But when a long train of abuses and usurpations, pursuing invariably the same Object evinces a design to reduce them under absolute Despotism, it is their right, it is their duty, to throw off such Government, and to provide new Guards for their future security.--Such has been the patient sufferance of these Colonies; and such is now the necessity which constrains them to alter their former Systems of Government. The history of the present King of Great Britain is a history of repeated injuries and usurpations, all having in direct object the establishment of an absolute Tyranny over these States. To prove this, let Facts be submitted to a candid world.\\n', '\\n', 'He has refused his Assent to Laws, the most wholesome and necessary for the public good.\\n', '\\n', 'He has forbidden his Governors to pass Laws of immediate and pressing importance, unless suspended in their operation till his Assent should be obtained; and when so suspended, he has utterly neglected to attend to them.\\n', '\\n', 'He has refused to pass other Laws for the accommodation of large districts of people, unless those people would relinquish the right of Representation in the Legislature, a right inestimable to them and formidable to tyrants only.\\n', '\\n', 'He has called together legislative bodies at places unusual, uncomfortable, and distant from the depository of their public Records, for the sole purpose of fatiguing them into compliance with his measures.\\n', '\\n', 'He has dissolved Representative Houses repeatedly, for opposing with manly firmness his invasions on the rights of the people.\\n', '\\n', 'He has refused for a long time, after such dissolutions, to cause others to be elected; whereby the Legislative powers, incapable of Annihilation, have returned to the People at large for their exercise; the State remaining in the mean time exposed to all the dangers of invasion from without, and convulsions within.\\n', '\\n', 'He has endeavoured to prevent the population of these States; for that purpose obstructing the Laws for Naturalization of Foreigners; refusing to pass others to encourage their migrations hither, and raising the conditions of new Appropriations of Lands.\\n', '\\n', 'He has obstructed the Administration of Justice, by refusing his Assent to Laws for establishing Judiciary powers.\\n', '\\n', 'He has made Judges dependent on his Will alone, for the tenure of their offices, and the amount and payment of their salaries.\\n', '\\n', 'He has erected a multitude of New Offices, and sent hither swarms of Officers to harrass our people, and eat out their substance.\\n', '\\n', 'He has kept among us, in times of peace, Standing Armies without the Consent of our legislatures.\\n', '\\n', 'He has affected to render the Military independent of and superior to the Civil power.\\n', '\\n', 'He has combined with others to subject us to a jurisdiction foreign to our constitution, and unacknowledged by our laws; giving his Assent to their Acts of pretended Legislation:\\n', '\\n', 'For Quartering large bodies of armed troops among us:\\n', '\\n', 'For protecting them, by a mock Trial, from punishment for any Murders which they should commit on the Inhabitants of these States:\\n', '\\n', 'For cutting off our Trade with all parts of the world:\\n', '\\n', 'For imposing Taxes on us without our Consent:\\n', '\\n', 'For depriving us in many cases, of the benefits of Trial by Jury:\\n', '\\n', 'For transporting us beyond Seas to be tried for pretended offences\\n', '\\n', 'For abolishing the free System of English Laws in a neighbouring Province, establishing therein an Arbitrary government, and enlarging its Boundaries so as to render it at once an example and fit instrument for introducing the same absolute rule into these Colonies:\\n', '\\n', 'For taking away our Charters, abolishing our most valuable Laws, and altering fundamentally the Forms of our Governments:\\n', '\\n', 'For suspending our own Legislatures, and declaring themselves invested with power to legislate for us in all cases whatsoever.\\n', '\\n', 'He has abdicated Government here, by declaring us out of his Protection and waging War against us.\\n', '\\n', 'He has plundered our seas, ravaged our Coasts, burnt our towns, and destroyed the lives of our people.\\n', '\\n', 'He is at this time transporting large Armies of foreign Mercenaries to compleat the works of death, desolation and tyranny, already begun with circumstances of Cruelty & perfidy scarcely paralleled in the most barbarous ages, and totally unworthy the Head of a civilized nation.\\n', '\\n', 'He has constrained our fellow Citizens taken Captive on the high Seas to bear Arms against their Country, to become the executioners of their friends and Brethren, or to fall themselves by their Hands.\\n', '\\n', 'He has excited domestic insurrections amongst us, and has endeavoured to bring on the inhabitants of our frontiers, the merciless Indian Savages, whose known rule of warfare, is an undistinguished destruction of all ages, sexes and conditions.\\n', '\\n', 'In every stage of these Oppressions We have Petitioned for Redress in the most humble terms: Our repeated Petitions have been answered only by repeated injury. A Prince whose character is thus marked by every act which may define a Tyrant, is unfit to be the ruler of a free people.\\n', '\\n', 'Nor have We been wanting in attentions to our Brittish brethren. We have warned them from time to time of attempts by their legislature to extend an unwarrantable jurisdiction over us. We have reminded them of the circumstances of our emigration and settlement here. We have appealed to their native justice and magnanimity, and we have conjured them by the ties of our common kindred to disavow these usurpations, which, would inevitably interrupt our connections and correspondence. They too have been deaf to the voice of justice and of consanguinity. We must, therefore, acquiesce in the necessity, which denounces our Separation, and hold them, as we hold the rest of mankind, Enemies in War, in Peace Friends.\\n', '\\n', 'We, therefore, the Representatives of the United States of America, in General Congress, Assembled, appealing to the Supreme Judge of the world for the rectitude of our intentions, do, in the Name, and by Authority of the good People of these Colonies, solemnly publish and declare, That these United Colonies are, and of Right ought to be Free and Independent States; that they are Absolved from all Allegiance to the British Crown, and that all political connection between them and the State of Great Britain, is and ought to be totally dissolved; and that as Free and Independent States, they have full Power to levy War, conclude Peace, contract Alliances, establish Commerce, and to do all other Acts and Things which Independent States may of right do. And for the support of this Declaration, with a firm reliance on the protection of divine Providence, we mutually pledge to each other our Lives, our Fortunes and our sacred Honor.']\n",
      "[\"When in the Course of human events, it becomes necessary for one people to dissolve the political bands which have connected them with another, and to assume among the powers of the earth, the separate and equal station to which the Laws of Nature and of Nature's God entitle them, a decent respect to the opinions of mankind requires that they should declare the causes which impel them to the separation.\\n\", '\\n', 'We hold these truths to be self-evident, that all men are created equal, that they are endowed by their Creator with certain unalienable Rights, that among these are Life, Liberty and the pursuit of Happiness.--That to secure these rights, Governments are instituted among Men, deriving their just powers from the consent of the governed, --That whenever any Form of Government becomes destructive of these ends, it is the Right of the People to alter or to abolish it, and to institute new Government, laying its foundation on such principles and organizing its powers in such form, as to them shall seem most likely to effect their Safety and Happiness. Prudence, indeed, will dictate that Governments long established should not be changed for light and transient causes; and accordingly all experience hath shewn, that mankind are more disposed to suffer, while evils are sufferable, than to right themselves by abolishing the forms to which they are accustomed. But when a long train of abuses and usurpations, pursuing invariably the same Object evinces a design to reduce them under absolute Despotism, it is their right, it is their duty, to throw off such Government, and to provide new Guards for their future security.--Such has been the patient sufferance of these Colonies; and such is now the necessity which constrains them to alter their former Systems of Government. The history of the present King of Great Britain is a history of repeated injuries and usurpations, all having in direct object the establishment of an absolute Tyranny over these States. To prove this, let Facts be submitted to a candid world.\\n', '\\n', 'He has refused his Assent to Laws, the most wholesome and necessary for the public good.\\n', '\\n', 'He has forbidden his Governors to pass Laws of immediate and pressing importance, unless suspended in their operation till his Assent should be obtained; and when so suspended, he has utterly neglected to attend to them.\\n', '\\n', 'He has refused to pass other Laws for the accommodation of large districts of people, unless those people would relinquish the right of Representation in the Legislature, a right inestimable to them and formidable to tyrants only.\\n', '\\n', 'He has called together legislative bodies at places unusual, uncomfortable, and distant from the depository of their public Records, for the sole purpose of fatiguing them into compliance with his measures.\\n', '\\n', 'He has dissolved Representative Houses repeatedly, for opposing with manly firmness his invasions on the rights of the people.\\n', '\\n', 'He has refused for a long time, after such dissolutions, to cause others to be elected; whereby the Legislative powers, incapable of Annihilation, have returned to the People at large for their exercise; the State remaining in the mean time exposed to all the dangers of invasion from without, and convulsions within.\\n', '\\n', 'He has endeavoured to prevent the population of these States; for that purpose obstructing the Laws for Naturalization of Foreigners; refusing to pass others to encourage their migrations hither, and raising the conditions of new Appropriations of Lands.\\n', '\\n', 'He has obstructed the Administration of Justice, by refusing his Assent to Laws for establishing Judiciary powers.\\n', '\\n', 'He has made Judges dependent on his Will alone, for the tenure of their offices, and the amount and payment of their salaries.\\n', '\\n', 'He has erected a multitude of New Offices, and sent hither swarms of Officers to harrass our people, and eat out their substance.\\n', '\\n', 'He has kept among us, in times of peace, Standing Armies without the Consent of our legislatures.\\n', '\\n', 'He has affected to render the Military independent of and superior to the Civil power.\\n', '\\n', 'He has combined with others to subject us to a jurisdiction foreign to our constitution, and unacknowledged by our laws; giving his Assent to their Acts of pretended Legislation:\\n', '\\n', 'For Quartering large bodies of armed troops among us:\\n', '\\n', 'For protecting them, by a mock Trial, from punishment for any Murders which they should commit on the Inhabitants of these States:\\n', '\\n', 'For cutting off our Trade with all parts of the world:\\n', '\\n', 'For imposing Taxes on us without our Consent:\\n', '\\n', 'For depriving us in many cases, of the benefits of Trial by Jury:\\n', '\\n', 'For transporting us beyond Seas to be tried for pretended offences\\n', '\\n', 'For abolishing the free System of English Laws in a neighbouring Province, establishing therein an Arbitrary government, and enlarging its Boundaries so as to render it at once an example and fit instrument for introducing the same absolute rule into these Colonies:\\n', '\\n', 'For taking away our Charters, abolishing our most valuable Laws, and altering fundamentally the Forms of our Governments:\\n', '\\n', 'For suspending our own Legislatures, and declaring themselves invested with power to legislate for us in all cases whatsoever.\\n', '\\n', 'He has abdicated Government here, by declaring us out of his Protection and waging War against us.\\n', '\\n', 'He has plundered our seas, ravaged our Coasts, burnt our towns, and destroyed the lives of our people.\\n', '\\n', 'He is at this time transporting large Armies of foreign Mercenaries to compleat the works of death, desolation and tyranny, already begun with circumstances of Cruelty & perfidy scarcely paralleled in the most barbarous ages, and totally unworthy the Head of a civilized nation.\\n', '\\n', 'He has constrained our fellow Citizens taken Captive on the high Seas to bear Arms against their Country, to become the executioners of their friends and Brethren, or to fall themselves by their Hands.\\n', '\\n', 'He has excited domestic insurrections amongst us, and has endeavoured to bring on the inhabitants of our frontiers, the merciless Indian Savages, whose known rule of warfare, is an undistinguished destruction of all ages, sexes and conditions.\\n', '\\n', 'In every stage of these Oppressions We have Petitioned for Redress in the most humble terms: Our repeated Petitions have been answered only by repeated injury. A Prince whose character is thus marked by every act which may define a Tyrant, is unfit to be the ruler of a free people.\\n', '\\n', 'Nor have We been wanting in attentions to our Brittish brethren. We have warned them from time to time of attempts by their legislature to extend an unwarrantable jurisdiction over us. We have reminded them of the circumstances of our emigration and settlement here. We have appealed to their native justice and magnanimity, and we have conjured them by the ties of our common kindred to disavow these usurpations, which, would inevitably interrupt our connections and correspondence. They too have been deaf to the voice of justice and of consanguinity. We must, therefore, acquiesce in the necessity, which denounces our Separation, and hold them, as we hold the rest of mankind, Enemies in War, in Peace Friends.\\n', '\\n', 'We, therefore, the Representatives of the United States of America, in General Congress, Assembled, appealing to the Supreme Judge of the world for the rectitude of our intentions, do, in the Name, and by Authority of the good People of these Colonies, solemnly publish and declare, That these United Colonies are, and of Right ought to be Free and Independent States; that they are Absolved from all Allegiance to the British Crown, and that all political connection between them and the State of Great Britain, is and ought to be totally dissolved; and that as Free and Independent States, they have full Power to levy War, conclude Peace, contract Alliances, establish Commerce, and to do all other Acts and Things which Independent States may of right do. And for the support of this Declaration, with a firm reliance on the protection of divine Providence, we mutually pledge to each other our Lives, our Fortunes and our sacred Honor.']\n",
      "[\"When in the Course of human events, it becomes necessary for one people to dissolve the political bands which have connected them with another, and to assume among the powers of the earth, the separate and equal station to which the Laws of Nature and of Nature's God entitle them, a decent respect to the opinions of mankind requires that they should declare the causes which impel them to the separation.\\n\", '\\n', 'We hold these truths to be self-evident, that all men are created equal, that they are endowed by their Creator with certain unalienable Rights, that among these are Life, Liberty and the pursuit of Happiness.--That to secure these rights, Governments are instituted among Men, deriving their just powers from the consent of the governed, --That whenever any Form of Government becomes destructive of these ends, it is the Right of the People to alter or to abolish it, and to institute new Government, laying its foundation on such principles and organizing its powers in such form, as to them shall seem most likely to effect their Safety and Happiness. Prudence, indeed, will dictate that Governments long established should not be changed for light and transient causes; and accordingly all experience hath shewn, that mankind are more disposed to suffer, while evils are sufferable, than to right themselves by abolishing the forms to which they are accustomed. But when a long train of abuses and usurpations, pursuing invariably the same Object evinces a design to reduce them under absolute Despotism, it is their right, it is their duty, to throw off such Government, and to provide new Guards for their future security.--Such has been the patient sufferance of these Colonies; and such is now the necessity which constrains them to alter their former Systems of Government. The history of the present King of Great Britain is a history of repeated injuries and usurpations, all having in direct object the establishment of an absolute Tyranny over these States. To prove this, let Facts be submitted to a candid world.\\n', '\\n', 'He has refused his Assent to Laws, the most wholesome and necessary for the public good.\\n', '\\n', 'He has forbidden his Governors to pass Laws of immediate and pressing importance, unless suspended in their operation till his Assent should be obtained; and when so suspended, he has utterly neglected to attend to them.\\n', '\\n', 'He has refused to pass other Laws for the accommodation of large districts of people, unless those people would relinquish the right of Representation in the Legislature, a right inestimable to them and formidable to tyrants only.\\n', '\\n', 'He has called together legislative bodies at places unusual, uncomfortable, and distant from the depository of their public Records, for the sole purpose of fatiguing them into compliance with his measures.\\n', '\\n', 'He has dissolved Representative Houses repeatedly, for opposing with manly firmness his invasions on the rights of the people.\\n', '\\n', 'He has refused for a long time, after such dissolutions, to cause others to be elected; whereby the Legislative powers, incapable of Annihilation, have returned to the People at large for their exercise; the State remaining in the mean time exposed to all the dangers of invasion from without, and convulsions within.\\n', '\\n', 'He has endeavoured to prevent the population of these States; for that purpose obstructing the Laws for Naturalization of Foreigners; refusing to pass others to encourage their migrations hither, and raising the conditions of new Appropriations of Lands.\\n', '\\n', 'He has obstructed the Administration of Justice, by refusing his Assent to Laws for establishing Judiciary powers.\\n', '\\n', 'He has made Judges dependent on his Will alone, for the tenure of their offices, and the amount and payment of their salaries.\\n', '\\n', 'He has erected a multitude of New Offices, and sent hither swarms of Officers to harrass our people, and eat out their substance.\\n', '\\n', 'He has kept among us, in times of peace, Standing Armies without the Consent of our legislatures.\\n', '\\n', 'He has affected to render the Military independent of and superior to the Civil power.\\n', '\\n', 'He has combined with others to subject us to a jurisdiction foreign to our constitution, and unacknowledged by our laws; giving his Assent to their Acts of pretended Legislation:\\n', '\\n', 'For Quartering large bodies of armed troops among us:\\n', '\\n', 'For protecting them, by a mock Trial, from punishment for any Murders which they should commit on the Inhabitants of these States:\\n', '\\n', 'For cutting off our Trade with all parts of the world:\\n', '\\n', 'For imposing Taxes on us without our Consent:\\n', '\\n', 'For depriving us in many cases, of the benefits of Trial by Jury:\\n', '\\n', 'For transporting us beyond Seas to be tried for pretended offences\\n', '\\n', 'For abolishing the free System of English Laws in a neighbouring Province, establishing therein an Arbitrary government, and enlarging its Boundaries so as to render it at once an example and fit instrument for introducing the same absolute rule into these Colonies:\\n', '\\n', 'For taking away our Charters, abolishing our most valuable Laws, and altering fundamentally the Forms of our Governments:\\n', '\\n', 'For suspending our own Legislatures, and declaring themselves invested with power to legislate for us in all cases whatsoever.\\n', '\\n', 'He has abdicated Government here, by declaring us out of his Protection and waging War against us.\\n', '\\n', 'He has plundered our seas, ravaged our Coasts, burnt our towns, and destroyed the lives of our people.\\n', '\\n', 'He is at this time transporting large Armies of foreign Mercenaries to compleat the works of death, desolation and tyranny, already begun with circumstances of Cruelty & perfidy scarcely paralleled in the most barbarous ages, and totally unworthy the Head of a civilized nation.\\n', '\\n', 'He has constrained our fellow Citizens taken Captive on the high Seas to bear Arms against their Country, to become the executioners of their friends and Brethren, or to fall themselves by their Hands.\\n', '\\n', 'He has excited domestic insurrections amongst us, and has endeavoured to bring on the inhabitants of our frontiers, the merciless Indian Savages, whose known rule of warfare, is an undistinguished destruction of all ages, sexes and conditions.\\n', '\\n', 'In every stage of these Oppressions We have Petitioned for Redress in the most humble terms: Our repeated Petitions have been answered only by repeated injury. A Prince whose character is thus marked by every act which may define a Tyrant, is unfit to be the ruler of a free people.\\n', '\\n', 'Nor have We been wanting in attentions to our Brittish brethren. We have warned them from time to time of attempts by their legislature to extend an unwarrantable jurisdiction over us. We have reminded them of the circumstances of our emigration and settlement here. We have appealed to their native justice and magnanimity, and we have conjured them by the ties of our common kindred to disavow these usurpations, which, would inevitably interrupt our connections and correspondence. They too have been deaf to the voice of justice and of consanguinity. We must, therefore, acquiesce in the necessity, which denounces our Separation, and hold them, as we hold the rest of mankind, Enemies in War, in Peace Friends.\\n', '\\n', 'We, therefore, the Representatives of the United States of America, in General Congress, Assembled, appealing to the Supreme Judge of the world for the rectitude of our intentions, do, in the Name, and by Authority of the good People of these Colonies, solemnly publish and declare, That these United Colonies are, and of Right ought to be Free and Independent States; that they are Absolved from all Allegiance to the British Crown, and that all political connection between them and the State of Great Britain, is and ought to be totally dissolved; and that as Free and Independent States, they have full Power to levy War, conclude Peace, contract Alliances, establish Commerce, and to do all other Acts and Things which Independent States may of right do. And for the support of this Declaration, with a firm reliance on the protection of divine Providence, we mutually pledge to each other our Lives, our Fortunes and our sacred Honor.']\n",
      "[\"When in the Course of human events, it becomes necessary for one people to dissolve the political bands which have connected them with another, and to assume among the powers of the earth, the separate and equal station to which the Laws of Nature and of Nature's God entitle them, a decent respect to the opinions of mankind requires that they should declare the causes which impel them to the separation.\\n\", '\\n', 'We hold these truths to be self-evident, that all men are created equal, that they are endowed by their Creator with certain unalienable Rights, that among these are Life, Liberty and the pursuit of Happiness.--That to secure these rights, Governments are instituted among Men, deriving their just powers from the consent of the governed, --That whenever any Form of Government becomes destructive of these ends, it is the Right of the People to alter or to abolish it, and to institute new Government, laying its foundation on such principles and organizing its powers in such form, as to them shall seem most likely to effect their Safety and Happiness. Prudence, indeed, will dictate that Governments long established should not be changed for light and transient causes; and accordingly all experience hath shewn, that mankind are more disposed to suffer, while evils are sufferable, than to right themselves by abolishing the forms to which they are accustomed. But when a long train of abuses and usurpations, pursuing invariably the same Object evinces a design to reduce them under absolute Despotism, it is their right, it is their duty, to throw off such Government, and to provide new Guards for their future security.--Such has been the patient sufferance of these Colonies; and such is now the necessity which constrains them to alter their former Systems of Government. The history of the present King of Great Britain is a history of repeated injuries and usurpations, all having in direct object the establishment of an absolute Tyranny over these States. To prove this, let Facts be submitted to a candid world.\\n', '\\n', 'He has refused his Assent to Laws, the most wholesome and necessary for the public good.\\n', '\\n', 'He has forbidden his Governors to pass Laws of immediate and pressing importance, unless suspended in their operation till his Assent should be obtained; and when so suspended, he has utterly neglected to attend to them.\\n', '\\n', 'He has refused to pass other Laws for the accommodation of large districts of people, unless those people would relinquish the right of Representation in the Legislature, a right inestimable to them and formidable to tyrants only.\\n', '\\n', 'He has called together legislative bodies at places unusual, uncomfortable, and distant from the depository of their public Records, for the sole purpose of fatiguing them into compliance with his measures.\\n', '\\n', 'He has dissolved Representative Houses repeatedly, for opposing with manly firmness his invasions on the rights of the people.\\n', '\\n', 'He has refused for a long time, after such dissolutions, to cause others to be elected; whereby the Legislative powers, incapable of Annihilation, have returned to the People at large for their exercise; the State remaining in the mean time exposed to all the dangers of invasion from without, and convulsions within.\\n', '\\n', 'He has endeavoured to prevent the population of these States; for that purpose obstructing the Laws for Naturalization of Foreigners; refusing to pass others to encourage their migrations hither, and raising the conditions of new Appropriations of Lands.\\n', '\\n', 'He has obstructed the Administration of Justice, by refusing his Assent to Laws for establishing Judiciary powers.\\n', '\\n', 'He has made Judges dependent on his Will alone, for the tenure of their offices, and the amount and payment of their salaries.\\n', '\\n', 'He has erected a multitude of New Offices, and sent hither swarms of Officers to harrass our people, and eat out their substance.\\n', '\\n', 'He has kept among us, in times of peace, Standing Armies without the Consent of our legislatures.\\n', '\\n', 'He has affected to render the Military independent of and superior to the Civil power.\\n', '\\n', 'He has combined with others to subject us to a jurisdiction foreign to our constitution, and unacknowledged by our laws; giving his Assent to their Acts of pretended Legislation:\\n', '\\n', 'For Quartering large bodies of armed troops among us:\\n', '\\n', 'For protecting them, by a mock Trial, from punishment for any Murders which they should commit on the Inhabitants of these States:\\n', '\\n', 'For cutting off our Trade with all parts of the world:\\n', '\\n', 'For imposing Taxes on us without our Consent:\\n', '\\n', 'For depriving us in many cases, of the benefits of Trial by Jury:\\n', '\\n', 'For transporting us beyond Seas to be tried for pretended offences\\n', '\\n', 'For abolishing the free System of English Laws in a neighbouring Province, establishing therein an Arbitrary government, and enlarging its Boundaries so as to render it at once an example and fit instrument for introducing the same absolute rule into these Colonies:\\n', '\\n', 'For taking away our Charters, abolishing our most valuable Laws, and altering fundamentally the Forms of our Governments:\\n', '\\n', 'For suspending our own Legislatures, and declaring themselves invested with power to legislate for us in all cases whatsoever.\\n', '\\n', 'He has abdicated Government here, by declaring us out of his Protection and waging War against us.\\n', '\\n', 'He has plundered our seas, ravaged our Coasts, burnt our towns, and destroyed the lives of our people.\\n', '\\n', 'He is at this time transporting large Armies of foreign Mercenaries to compleat the works of death, desolation and tyranny, already begun with circumstances of Cruelty & perfidy scarcely paralleled in the most barbarous ages, and totally unworthy the Head of a civilized nation.\\n', '\\n', 'He has constrained our fellow Citizens taken Captive on the high Seas to bear Arms against their Country, to become the executioners of their friends and Brethren, or to fall themselves by their Hands.\\n', '\\n', 'He has excited domestic insurrections amongst us, and has endeavoured to bring on the inhabitants of our frontiers, the merciless Indian Savages, whose known rule of warfare, is an undistinguished destruction of all ages, sexes and conditions.\\n', '\\n', 'In every stage of these Oppressions We have Petitioned for Redress in the most humble terms: Our repeated Petitions have been answered only by repeated injury. A Prince whose character is thus marked by every act which may define a Tyrant, is unfit to be the ruler of a free people.\\n', '\\n', 'Nor have We been wanting in attentions to our Brittish brethren. We have warned them from time to time of attempts by their legislature to extend an unwarrantable jurisdiction over us. We have reminded them of the circumstances of our emigration and settlement here. We have appealed to their native justice and magnanimity, and we have conjured them by the ties of our common kindred to disavow these usurpations, which, would inevitably interrupt our connections and correspondence. They too have been deaf to the voice of justice and of consanguinity. We must, therefore, acquiesce in the necessity, which denounces our Separation, and hold them, as we hold the rest of mankind, Enemies in War, in Peace Friends.\\n', '\\n', 'We, therefore, the Representatives of the United States of America, in General Congress, Assembled, appealing to the Supreme Judge of the world for the rectitude of our intentions, do, in the Name, and by Authority of the good People of these Colonies, solemnly publish and declare, That these United Colonies are, and of Right ought to be Free and Independent States; that they are Absolved from all Allegiance to the British Crown, and that all political connection between them and the State of Great Britain, is and ought to be totally dissolved; and that as Free and Independent States, they have full Power to levy War, conclude Peace, contract Alliances, establish Commerce, and to do all other Acts and Things which Independent States may of right do. And for the support of this Declaration, with a firm reliance on the protection of divine Providence, we mutually pledge to each other our Lives, our Fortunes and our sacred Honor.']\n",
      "[\"When in the Course of human events, it becomes necessary for one people to dissolve the political bands which have connected them with another, and to assume among the powers of the earth, the separate and equal station to which the Laws of Nature and of Nature's God entitle them, a decent respect to the opinions of mankind requires that they should declare the causes which impel them to the separation.\\n\", '\\n', 'We hold these truths to be self-evident, that all men are created equal, that they are endowed by their Creator with certain unalienable Rights, that among these are Life, Liberty and the pursuit of Happiness.--That to secure these rights, Governments are instituted among Men, deriving their just powers from the consent of the governed, --That whenever any Form of Government becomes destructive of these ends, it is the Right of the People to alter or to abolish it, and to institute new Government, laying its foundation on such principles and organizing its powers in such form, as to them shall seem most likely to effect their Safety and Happiness. Prudence, indeed, will dictate that Governments long established should not be changed for light and transient causes; and accordingly all experience hath shewn, that mankind are more disposed to suffer, while evils are sufferable, than to right themselves by abolishing the forms to which they are accustomed. But when a long train of abuses and usurpations, pursuing invariably the same Object evinces a design to reduce them under absolute Despotism, it is their right, it is their duty, to throw off such Government, and to provide new Guards for their future security.--Such has been the patient sufferance of these Colonies; and such is now the necessity which constrains them to alter their former Systems of Government. The history of the present King of Great Britain is a history of repeated injuries and usurpations, all having in direct object the establishment of an absolute Tyranny over these States. To prove this, let Facts be submitted to a candid world.\\n', '\\n', 'He has refused his Assent to Laws, the most wholesome and necessary for the public good.\\n', '\\n', 'He has forbidden his Governors to pass Laws of immediate and pressing importance, unless suspended in their operation till his Assent should be obtained; and when so suspended, he has utterly neglected to attend to them.\\n', '\\n', 'He has refused to pass other Laws for the accommodation of large districts of people, unless those people would relinquish the right of Representation in the Legislature, a right inestimable to them and formidable to tyrants only.\\n', '\\n', 'He has called together legislative bodies at places unusual, uncomfortable, and distant from the depository of their public Records, for the sole purpose of fatiguing them into compliance with his measures.\\n', '\\n', 'He has dissolved Representative Houses repeatedly, for opposing with manly firmness his invasions on the rights of the people.\\n', '\\n', 'He has refused for a long time, after such dissolutions, to cause others to be elected; whereby the Legislative powers, incapable of Annihilation, have returned to the People at large for their exercise; the State remaining in the mean time exposed to all the dangers of invasion from without, and convulsions within.\\n', '\\n', 'He has endeavoured to prevent the population of these States; for that purpose obstructing the Laws for Naturalization of Foreigners; refusing to pass others to encourage their migrations hither, and raising the conditions of new Appropriations of Lands.\\n', '\\n', 'He has obstructed the Administration of Justice, by refusing his Assent to Laws for establishing Judiciary powers.\\n', '\\n', 'He has made Judges dependent on his Will alone, for the tenure of their offices, and the amount and payment of their salaries.\\n', '\\n', 'He has erected a multitude of New Offices, and sent hither swarms of Officers to harrass our people, and eat out their substance.\\n', '\\n', 'He has kept among us, in times of peace, Standing Armies without the Consent of our legislatures.\\n', '\\n', 'He has affected to render the Military independent of and superior to the Civil power.\\n', '\\n', 'He has combined with others to subject us to a jurisdiction foreign to our constitution, and unacknowledged by our laws; giving his Assent to their Acts of pretended Legislation:\\n', '\\n', 'For Quartering large bodies of armed troops among us:\\n', '\\n', 'For protecting them, by a mock Trial, from punishment for any Murders which they should commit on the Inhabitants of these States:\\n', '\\n', 'For cutting off our Trade with all parts of the world:\\n', '\\n', 'For imposing Taxes on us without our Consent:\\n', '\\n', 'For depriving us in many cases, of the benefits of Trial by Jury:\\n', '\\n', 'For transporting us beyond Seas to be tried for pretended offences\\n', '\\n', 'For abolishing the free System of English Laws in a neighbouring Province, establishing therein an Arbitrary government, and enlarging its Boundaries so as to render it at once an example and fit instrument for introducing the same absolute rule into these Colonies:\\n', '\\n', 'For taking away our Charters, abolishing our most valuable Laws, and altering fundamentally the Forms of our Governments:\\n', '\\n', 'For suspending our own Legislatures, and declaring themselves invested with power to legislate for us in all cases whatsoever.\\n', '\\n', 'He has abdicated Government here, by declaring us out of his Protection and waging War against us.\\n', '\\n', 'He has plundered our seas, ravaged our Coasts, burnt our towns, and destroyed the lives of our people.\\n', '\\n', 'He is at this time transporting large Armies of foreign Mercenaries to compleat the works of death, desolation and tyranny, already begun with circumstances of Cruelty & perfidy scarcely paralleled in the most barbarous ages, and totally unworthy the Head of a civilized nation.\\n', '\\n', 'He has constrained our fellow Citizens taken Captive on the high Seas to bear Arms against their Country, to become the executioners of their friends and Brethren, or to fall themselves by their Hands.\\n', '\\n', 'He has excited domestic insurrections amongst us, and has endeavoured to bring on the inhabitants of our frontiers, the merciless Indian Savages, whose known rule of warfare, is an undistinguished destruction of all ages, sexes and conditions.\\n', '\\n', 'In every stage of these Oppressions We have Petitioned for Redress in the most humble terms: Our repeated Petitions have been answered only by repeated injury. A Prince whose character is thus marked by every act which may define a Tyrant, is unfit to be the ruler of a free people.\\n', '\\n', 'Nor have We been wanting in attentions to our Brittish brethren. We have warned them from time to time of attempts by their legislature to extend an unwarrantable jurisdiction over us. We have reminded them of the circumstances of our emigration and settlement here. We have appealed to their native justice and magnanimity, and we have conjured them by the ties of our common kindred to disavow these usurpations, which, would inevitably interrupt our connections and correspondence. They too have been deaf to the voice of justice and of consanguinity. We must, therefore, acquiesce in the necessity, which denounces our Separation, and hold them, as we hold the rest of mankind, Enemies in War, in Peace Friends.\\n', '\\n', 'We, therefore, the Representatives of the United States of America, in General Congress, Assembled, appealing to the Supreme Judge of the world for the rectitude of our intentions, do, in the Name, and by Authority of the good People of these Colonies, solemnly publish and declare, That these United Colonies are, and of Right ought to be Free and Independent States; that they are Absolved from all Allegiance to the British Crown, and that all political connection between them and the State of Great Britain, is and ought to be totally dissolved; and that as Free and Independent States, they have full Power to levy War, conclude Peace, contract Alliances, establish Commerce, and to do all other Acts and Things which Independent States may of right do. And for the support of this Declaration, with a firm reliance on the protection of divine Providence, we mutually pledge to each other our Lives, our Fortunes and our sacred Honor.']\n",
      "[\"When in the Course of human events, it becomes necessary for one people to dissolve the political bands which have connected them with another, and to assume among the powers of the earth, the separate and equal station to which the Laws of Nature and of Nature's God entitle them, a decent respect to the opinions of mankind requires that they should declare the causes which impel them to the separation.\\n\", '\\n', 'We hold these truths to be self-evident, that all men are created equal, that they are endowed by their Creator with certain unalienable Rights, that among these are Life, Liberty and the pursuit of Happiness.--That to secure these rights, Governments are instituted among Men, deriving their just powers from the consent of the governed, --That whenever any Form of Government becomes destructive of these ends, it is the Right of the People to alter or to abolish it, and to institute new Government, laying its foundation on such principles and organizing its powers in such form, as to them shall seem most likely to effect their Safety and Happiness. Prudence, indeed, will dictate that Governments long established should not be changed for light and transient causes; and accordingly all experience hath shewn, that mankind are more disposed to suffer, while evils are sufferable, than to right themselves by abolishing the forms to which they are accustomed. But when a long train of abuses and usurpations, pursuing invariably the same Object evinces a design to reduce them under absolute Despotism, it is their right, it is their duty, to throw off such Government, and to provide new Guards for their future security.--Such has been the patient sufferance of these Colonies; and such is now the necessity which constrains them to alter their former Systems of Government. The history of the present King of Great Britain is a history of repeated injuries and usurpations, all having in direct object the establishment of an absolute Tyranny over these States. To prove this, let Facts be submitted to a candid world.\\n', '\\n', 'He has refused his Assent to Laws, the most wholesome and necessary for the public good.\\n', '\\n', 'He has forbidden his Governors to pass Laws of immediate and pressing importance, unless suspended in their operation till his Assent should be obtained; and when so suspended, he has utterly neglected to attend to them.\\n', '\\n', 'He has refused to pass other Laws for the accommodation of large districts of people, unless those people would relinquish the right of Representation in the Legislature, a right inestimable to them and formidable to tyrants only.\\n', '\\n', 'He has called together legislative bodies at places unusual, uncomfortable, and distant from the depository of their public Records, for the sole purpose of fatiguing them into compliance with his measures.\\n', '\\n', 'He has dissolved Representative Houses repeatedly, for opposing with manly firmness his invasions on the rights of the people.\\n', '\\n', 'He has refused for a long time, after such dissolutions, to cause others to be elected; whereby the Legislative powers, incapable of Annihilation, have returned to the People at large for their exercise; the State remaining in the mean time exposed to all the dangers of invasion from without, and convulsions within.\\n', '\\n', 'He has endeavoured to prevent the population of these States; for that purpose obstructing the Laws for Naturalization of Foreigners; refusing to pass others to encourage their migrations hither, and raising the conditions of new Appropriations of Lands.\\n', '\\n', 'He has obstructed the Administration of Justice, by refusing his Assent to Laws for establishing Judiciary powers.\\n', '\\n', 'He has made Judges dependent on his Will alone, for the tenure of their offices, and the amount and payment of their salaries.\\n', '\\n', 'He has erected a multitude of New Offices, and sent hither swarms of Officers to harrass our people, and eat out their substance.\\n', '\\n', 'He has kept among us, in times of peace, Standing Armies without the Consent of our legislatures.\\n', '\\n', 'He has affected to render the Military independent of and superior to the Civil power.\\n', '\\n', 'He has combined with others to subject us to a jurisdiction foreign to our constitution, and unacknowledged by our laws; giving his Assent to their Acts of pretended Legislation:\\n', '\\n', 'For Quartering large bodies of armed troops among us:\\n', '\\n', 'For protecting them, by a mock Trial, from punishment for any Murders which they should commit on the Inhabitants of these States:\\n', '\\n', 'For cutting off our Trade with all parts of the world:\\n', '\\n', 'For imposing Taxes on us without our Consent:\\n', '\\n', 'For depriving us in many cases, of the benefits of Trial by Jury:\\n', '\\n', 'For transporting us beyond Seas to be tried for pretended offences\\n', '\\n', 'For abolishing the free System of English Laws in a neighbouring Province, establishing therein an Arbitrary government, and enlarging its Boundaries so as to render it at once an example and fit instrument for introducing the same absolute rule into these Colonies:\\n', '\\n', 'For taking away our Charters, abolishing our most valuable Laws, and altering fundamentally the Forms of our Governments:\\n', '\\n', 'For suspending our own Legislatures, and declaring themselves invested with power to legislate for us in all cases whatsoever.\\n', '\\n', 'He has abdicated Government here, by declaring us out of his Protection and waging War against us.\\n', '\\n', 'He has plundered our seas, ravaged our Coasts, burnt our towns, and destroyed the lives of our people.\\n', '\\n', 'He is at this time transporting large Armies of foreign Mercenaries to compleat the works of death, desolation and tyranny, already begun with circumstances of Cruelty & perfidy scarcely paralleled in the most barbarous ages, and totally unworthy the Head of a civilized nation.\\n', '\\n', 'He has constrained our fellow Citizens taken Captive on the high Seas to bear Arms against their Country, to become the executioners of their friends and Brethren, or to fall themselves by their Hands.\\n', '\\n', 'He has excited domestic insurrections amongst us, and has endeavoured to bring on the inhabitants of our frontiers, the merciless Indian Savages, whose known rule of warfare, is an undistinguished destruction of all ages, sexes and conditions.\\n', '\\n', 'In every stage of these Oppressions We have Petitioned for Redress in the most humble terms: Our repeated Petitions have been answered only by repeated injury. A Prince whose character is thus marked by every act which may define a Tyrant, is unfit to be the ruler of a free people.\\n', '\\n', 'Nor have We been wanting in attentions to our Brittish brethren. We have warned them from time to time of attempts by their legislature to extend an unwarrantable jurisdiction over us. We have reminded them of the circumstances of our emigration and settlement here. We have appealed to their native justice and magnanimity, and we have conjured them by the ties of our common kindred to disavow these usurpations, which, would inevitably interrupt our connections and correspondence. They too have been deaf to the voice of justice and of consanguinity. We must, therefore, acquiesce in the necessity, which denounces our Separation, and hold them, as we hold the rest of mankind, Enemies in War, in Peace Friends.\\n', '\\n', 'We, therefore, the Representatives of the United States of America, in General Congress, Assembled, appealing to the Supreme Judge of the world for the rectitude of our intentions, do, in the Name, and by Authority of the good People of these Colonies, solemnly publish and declare, That these United Colonies are, and of Right ought to be Free and Independent States; that they are Absolved from all Allegiance to the British Crown, and that all political connection between them and the State of Great Britain, is and ought to be totally dissolved; and that as Free and Independent States, they have full Power to levy War, conclude Peace, contract Alliances, establish Commerce, and to do all other Acts and Things which Independent States may of right do. And for the support of this Declaration, with a firm reliance on the protection of divine Providence, we mutually pledge to each other our Lives, our Fortunes and our sacred Honor.']\n",
      "[\"When in the Course of human events, it becomes necessary for one people to dissolve the political bands which have connected them with another, and to assume among the powers of the earth, the separate and equal station to which the Laws of Nature and of Nature's God entitle them, a decent respect to the opinions of mankind requires that they should declare the causes which impel them to the separation.\\n\", '\\n', 'We hold these truths to be self-evident, that all men are created equal, that they are endowed by their Creator with certain unalienable Rights, that among these are Life, Liberty and the pursuit of Happiness.--That to secure these rights, Governments are instituted among Men, deriving their just powers from the consent of the governed, --That whenever any Form of Government becomes destructive of these ends, it is the Right of the People to alter or to abolish it, and to institute new Government, laying its foundation on such principles and organizing its powers in such form, as to them shall seem most likely to effect their Safety and Happiness. Prudence, indeed, will dictate that Governments long established should not be changed for light and transient causes; and accordingly all experience hath shewn, that mankind are more disposed to suffer, while evils are sufferable, than to right themselves by abolishing the forms to which they are accustomed. But when a long train of abuses and usurpations, pursuing invariably the same Object evinces a design to reduce them under absolute Despotism, it is their right, it is their duty, to throw off such Government, and to provide new Guards for their future security.--Such has been the patient sufferance of these Colonies; and such is now the necessity which constrains them to alter their former Systems of Government. The history of the present King of Great Britain is a history of repeated injuries and usurpations, all having in direct object the establishment of an absolute Tyranny over these States. To prove this, let Facts be submitted to a candid world.\\n', '\\n', 'He has refused his Assent to Laws, the most wholesome and necessary for the public good.\\n', '\\n', 'He has forbidden his Governors to pass Laws of immediate and pressing importance, unless suspended in their operation till his Assent should be obtained; and when so suspended, he has utterly neglected to attend to them.\\n', '\\n', 'He has refused to pass other Laws for the accommodation of large districts of people, unless those people would relinquish the right of Representation in the Legislature, a right inestimable to them and formidable to tyrants only.\\n', '\\n', 'He has called together legislative bodies at places unusual, uncomfortable, and distant from the depository of their public Records, for the sole purpose of fatiguing them into compliance with his measures.\\n', '\\n', 'He has dissolved Representative Houses repeatedly, for opposing with manly firmness his invasions on the rights of the people.\\n', '\\n', 'He has refused for a long time, after such dissolutions, to cause others to be elected; whereby the Legislative powers, incapable of Annihilation, have returned to the People at large for their exercise; the State remaining in the mean time exposed to all the dangers of invasion from without, and convulsions within.\\n', '\\n', 'He has endeavoured to prevent the population of these States; for that purpose obstructing the Laws for Naturalization of Foreigners; refusing to pass others to encourage their migrations hither, and raising the conditions of new Appropriations of Lands.\\n', '\\n', 'He has obstructed the Administration of Justice, by refusing his Assent to Laws for establishing Judiciary powers.\\n', '\\n', 'He has made Judges dependent on his Will alone, for the tenure of their offices, and the amount and payment of their salaries.\\n', '\\n', 'He has erected a multitude of New Offices, and sent hither swarms of Officers to harrass our people, and eat out their substance.\\n', '\\n', 'He has kept among us, in times of peace, Standing Armies without the Consent of our legislatures.\\n', '\\n', 'He has affected to render the Military independent of and superior to the Civil power.\\n', '\\n', 'He has combined with others to subject us to a jurisdiction foreign to our constitution, and unacknowledged by our laws; giving his Assent to their Acts of pretended Legislation:\\n', '\\n', 'For Quartering large bodies of armed troops among us:\\n', '\\n', 'For protecting them, by a mock Trial, from punishment for any Murders which they should commit on the Inhabitants of these States:\\n', '\\n', 'For cutting off our Trade with all parts of the world:\\n', '\\n', 'For imposing Taxes on us without our Consent:\\n', '\\n', 'For depriving us in many cases, of the benefits of Trial by Jury:\\n', '\\n', 'For transporting us beyond Seas to be tried for pretended offences\\n', '\\n', 'For abolishing the free System of English Laws in a neighbouring Province, establishing therein an Arbitrary government, and enlarging its Boundaries so as to render it at once an example and fit instrument for introducing the same absolute rule into these Colonies:\\n', '\\n', 'For taking away our Charters, abolishing our most valuable Laws, and altering fundamentally the Forms of our Governments:\\n', '\\n', 'For suspending our own Legislatures, and declaring themselves invested with power to legislate for us in all cases whatsoever.\\n', '\\n', 'He has abdicated Government here, by declaring us out of his Protection and waging War against us.\\n', '\\n', 'He has plundered our seas, ravaged our Coasts, burnt our towns, and destroyed the lives of our people.\\n', '\\n', 'He is at this time transporting large Armies of foreign Mercenaries to compleat the works of death, desolation and tyranny, already begun with circumstances of Cruelty & perfidy scarcely paralleled in the most barbarous ages, and totally unworthy the Head of a civilized nation.\\n', '\\n', 'He has constrained our fellow Citizens taken Captive on the high Seas to bear Arms against their Country, to become the executioners of their friends and Brethren, or to fall themselves by their Hands.\\n', '\\n', 'He has excited domestic insurrections amongst us, and has endeavoured to bring on the inhabitants of our frontiers, the merciless Indian Savages, whose known rule of warfare, is an undistinguished destruction of all ages, sexes and conditions.\\n', '\\n', 'In every stage of these Oppressions We have Petitioned for Redress in the most humble terms: Our repeated Petitions have been answered only by repeated injury. A Prince whose character is thus marked by every act which may define a Tyrant, is unfit to be the ruler of a free people.\\n', '\\n', 'Nor have We been wanting in attentions to our Brittish brethren. We have warned them from time to time of attempts by their legislature to extend an unwarrantable jurisdiction over us. We have reminded them of the circumstances of our emigration and settlement here. We have appealed to their native justice and magnanimity, and we have conjured them by the ties of our common kindred to disavow these usurpations, which, would inevitably interrupt our connections and correspondence. They too have been deaf to the voice of justice and of consanguinity. We must, therefore, acquiesce in the necessity, which denounces our Separation, and hold them, as we hold the rest of mankind, Enemies in War, in Peace Friends.\\n', '\\n', 'We, therefore, the Representatives of the United States of America, in General Congress, Assembled, appealing to the Supreme Judge of the world for the rectitude of our intentions, do, in the Name, and by Authority of the good People of these Colonies, solemnly publish and declare, That these United Colonies are, and of Right ought to be Free and Independent States; that they are Absolved from all Allegiance to the British Crown, and that all political connection between them and the State of Great Britain, is and ought to be totally dissolved; and that as Free and Independent States, they have full Power to levy War, conclude Peace, contract Alliances, establish Commerce, and to do all other Acts and Things which Independent States may of right do. And for the support of this Declaration, with a firm reliance on the protection of divine Providence, we mutually pledge to each other our Lives, our Fortunes and our sacred Honor.']\n",
      "[\"When in the Course of human events, it becomes necessary for one people to dissolve the political bands which have connected them with another, and to assume among the powers of the earth, the separate and equal station to which the Laws of Nature and of Nature's God entitle them, a decent respect to the opinions of mankind requires that they should declare the causes which impel them to the separation.\\n\", '\\n', 'We hold these truths to be self-evident, that all men are created equal, that they are endowed by their Creator with certain unalienable Rights, that among these are Life, Liberty and the pursuit of Happiness.--That to secure these rights, Governments are instituted among Men, deriving their just powers from the consent of the governed, --That whenever any Form of Government becomes destructive of these ends, it is the Right of the People to alter or to abolish it, and to institute new Government, laying its foundation on such principles and organizing its powers in such form, as to them shall seem most likely to effect their Safety and Happiness. Prudence, indeed, will dictate that Governments long established should not be changed for light and transient causes; and accordingly all experience hath shewn, that mankind are more disposed to suffer, while evils are sufferable, than to right themselves by abolishing the forms to which they are accustomed. But when a long train of abuses and usurpations, pursuing invariably the same Object evinces a design to reduce them under absolute Despotism, it is their right, it is their duty, to throw off such Government, and to provide new Guards for their future security.--Such has been the patient sufferance of these Colonies; and such is now the necessity which constrains them to alter their former Systems of Government. The history of the present King of Great Britain is a history of repeated injuries and usurpations, all having in direct object the establishment of an absolute Tyranny over these States. To prove this, let Facts be submitted to a candid world.\\n', '\\n', 'He has refused his Assent to Laws, the most wholesome and necessary for the public good.\\n', '\\n', 'He has forbidden his Governors to pass Laws of immediate and pressing importance, unless suspended in their operation till his Assent should be obtained; and when so suspended, he has utterly neglected to attend to them.\\n', '\\n', 'He has refused to pass other Laws for the accommodation of large districts of people, unless those people would relinquish the right of Representation in the Legislature, a right inestimable to them and formidable to tyrants only.\\n', '\\n', 'He has called together legislative bodies at places unusual, uncomfortable, and distant from the depository of their public Records, for the sole purpose of fatiguing them into compliance with his measures.\\n', '\\n', 'He has dissolved Representative Houses repeatedly, for opposing with manly firmness his invasions on the rights of the people.\\n', '\\n', 'He has refused for a long time, after such dissolutions, to cause others to be elected; whereby the Legislative powers, incapable of Annihilation, have returned to the People at large for their exercise; the State remaining in the mean time exposed to all the dangers of invasion from without, and convulsions within.\\n', '\\n', 'He has endeavoured to prevent the population of these States; for that purpose obstructing the Laws for Naturalization of Foreigners; refusing to pass others to encourage their migrations hither, and raising the conditions of new Appropriations of Lands.\\n', '\\n', 'He has obstructed the Administration of Justice, by refusing his Assent to Laws for establishing Judiciary powers.\\n', '\\n', 'He has made Judges dependent on his Will alone, for the tenure of their offices, and the amount and payment of their salaries.\\n', '\\n', 'He has erected a multitude of New Offices, and sent hither swarms of Officers to harrass our people, and eat out their substance.\\n', '\\n', 'He has kept among us, in times of peace, Standing Armies without the Consent of our legislatures.\\n', '\\n', 'He has affected to render the Military independent of and superior to the Civil power.\\n', '\\n', 'He has combined with others to subject us to a jurisdiction foreign to our constitution, and unacknowledged by our laws; giving his Assent to their Acts of pretended Legislation:\\n', '\\n', 'For Quartering large bodies of armed troops among us:\\n', '\\n', 'For protecting them, by a mock Trial, from punishment for any Murders which they should commit on the Inhabitants of these States:\\n', '\\n', 'For cutting off our Trade with all parts of the world:\\n', '\\n', 'For imposing Taxes on us without our Consent:\\n', '\\n', 'For depriving us in many cases, of the benefits of Trial by Jury:\\n', '\\n', 'For transporting us beyond Seas to be tried for pretended offences\\n', '\\n', 'For abolishing the free System of English Laws in a neighbouring Province, establishing therein an Arbitrary government, and enlarging its Boundaries so as to render it at once an example and fit instrument for introducing the same absolute rule into these Colonies:\\n', '\\n', 'For taking away our Charters, abolishing our most valuable Laws, and altering fundamentally the Forms of our Governments:\\n', '\\n', 'For suspending our own Legislatures, and declaring themselves invested with power to legislate for us in all cases whatsoever.\\n', '\\n', 'He has abdicated Government here, by declaring us out of his Protection and waging War against us.\\n', '\\n', 'He has plundered our seas, ravaged our Coasts, burnt our towns, and destroyed the lives of our people.\\n', '\\n', 'He is at this time transporting large Armies of foreign Mercenaries to compleat the works of death, desolation and tyranny, already begun with circumstances of Cruelty & perfidy scarcely paralleled in the most barbarous ages, and totally unworthy the Head of a civilized nation.\\n', '\\n', 'He has constrained our fellow Citizens taken Captive on the high Seas to bear Arms against their Country, to become the executioners of their friends and Brethren, or to fall themselves by their Hands.\\n', '\\n', 'He has excited domestic insurrections amongst us, and has endeavoured to bring on the inhabitants of our frontiers, the merciless Indian Savages, whose known rule of warfare, is an undistinguished destruction of all ages, sexes and conditions.\\n', '\\n', 'In every stage of these Oppressions We have Petitioned for Redress in the most humble terms: Our repeated Petitions have been answered only by repeated injury. A Prince whose character is thus marked by every act which may define a Tyrant, is unfit to be the ruler of a free people.\\n', '\\n', 'Nor have We been wanting in attentions to our Brittish brethren. We have warned them from time to time of attempts by their legislature to extend an unwarrantable jurisdiction over us. We have reminded them of the circumstances of our emigration and settlement here. We have appealed to their native justice and magnanimity, and we have conjured them by the ties of our common kindred to disavow these usurpations, which, would inevitably interrupt our connections and correspondence. They too have been deaf to the voice of justice and of consanguinity. We must, therefore, acquiesce in the necessity, which denounces our Separation, and hold them, as we hold the rest of mankind, Enemies in War, in Peace Friends.\\n', '\\n', 'We, therefore, the Representatives of the United States of America, in General Congress, Assembled, appealing to the Supreme Judge of the world for the rectitude of our intentions, do, in the Name, and by Authority of the good People of these Colonies, solemnly publish and declare, That these United Colonies are, and of Right ought to be Free and Independent States; that they are Absolved from all Allegiance to the British Crown, and that all political connection between them and the State of Great Britain, is and ought to be totally dissolved; and that as Free and Independent States, they have full Power to levy War, conclude Peace, contract Alliances, establish Commerce, and to do all other Acts and Things which Independent States may of right do. And for the support of this Declaration, with a firm reliance on the protection of divine Providence, we mutually pledge to each other our Lives, our Fortunes and our sacred Honor.']\n",
      "[\"When in the Course of human events, it becomes necessary for one people to dissolve the political bands which have connected them with another, and to assume among the powers of the earth, the separate and equal station to which the Laws of Nature and of Nature's God entitle them, a decent respect to the opinions of mankind requires that they should declare the causes which impel them to the separation.\\n\", '\\n', 'We hold these truths to be self-evident, that all men are created equal, that they are endowed by their Creator with certain unalienable Rights, that among these are Life, Liberty and the pursuit of Happiness.--That to secure these rights, Governments are instituted among Men, deriving their just powers from the consent of the governed, --That whenever any Form of Government becomes destructive of these ends, it is the Right of the People to alter or to abolish it, and to institute new Government, laying its foundation on such principles and organizing its powers in such form, as to them shall seem most likely to effect their Safety and Happiness. Prudence, indeed, will dictate that Governments long established should not be changed for light and transient causes; and accordingly all experience hath shewn, that mankind are more disposed to suffer, while evils are sufferable, than to right themselves by abolishing the forms to which they are accustomed. But when a long train of abuses and usurpations, pursuing invariably the same Object evinces a design to reduce them under absolute Despotism, it is their right, it is their duty, to throw off such Government, and to provide new Guards for their future security.--Such has been the patient sufferance of these Colonies; and such is now the necessity which constrains them to alter their former Systems of Government. The history of the present King of Great Britain is a history of repeated injuries and usurpations, all having in direct object the establishment of an absolute Tyranny over these States. To prove this, let Facts be submitted to a candid world.\\n', '\\n', 'He has refused his Assent to Laws, the most wholesome and necessary for the public good.\\n', '\\n', 'He has forbidden his Governors to pass Laws of immediate and pressing importance, unless suspended in their operation till his Assent should be obtained; and when so suspended, he has utterly neglected to attend to them.\\n', '\\n', 'He has refused to pass other Laws for the accommodation of large districts of people, unless those people would relinquish the right of Representation in the Legislature, a right inestimable to them and formidable to tyrants only.\\n', '\\n', 'He has called together legislative bodies at places unusual, uncomfortable, and distant from the depository of their public Records, for the sole purpose of fatiguing them into compliance with his measures.\\n', '\\n', 'He has dissolved Representative Houses repeatedly, for opposing with manly firmness his invasions on the rights of the people.\\n', '\\n', 'He has refused for a long time, after such dissolutions, to cause others to be elected; whereby the Legislative powers, incapable of Annihilation, have returned to the People at large for their exercise; the State remaining in the mean time exposed to all the dangers of invasion from without, and convulsions within.\\n', '\\n', 'He has endeavoured to prevent the population of these States; for that purpose obstructing the Laws for Naturalization of Foreigners; refusing to pass others to encourage their migrations hither, and raising the conditions of new Appropriations of Lands.\\n', '\\n', 'He has obstructed the Administration of Justice, by refusing his Assent to Laws for establishing Judiciary powers.\\n', '\\n', 'He has made Judges dependent on his Will alone, for the tenure of their offices, and the amount and payment of their salaries.\\n', '\\n', 'He has erected a multitude of New Offices, and sent hither swarms of Officers to harrass our people, and eat out their substance.\\n', '\\n', 'He has kept among us, in times of peace, Standing Armies without the Consent of our legislatures.\\n', '\\n', 'He has affected to render the Military independent of and superior to the Civil power.\\n', '\\n', 'He has combined with others to subject us to a jurisdiction foreign to our constitution, and unacknowledged by our laws; giving his Assent to their Acts of pretended Legislation:\\n', '\\n', 'For Quartering large bodies of armed troops among us:\\n', '\\n', 'For protecting them, by a mock Trial, from punishment for any Murders which they should commit on the Inhabitants of these States:\\n', '\\n', 'For cutting off our Trade with all parts of the world:\\n', '\\n', 'For imposing Taxes on us without our Consent:\\n', '\\n', 'For depriving us in many cases, of the benefits of Trial by Jury:\\n', '\\n', 'For transporting us beyond Seas to be tried for pretended offences\\n', '\\n', 'For abolishing the free System of English Laws in a neighbouring Province, establishing therein an Arbitrary government, and enlarging its Boundaries so as to render it at once an example and fit instrument for introducing the same absolute rule into these Colonies:\\n', '\\n', 'For taking away our Charters, abolishing our most valuable Laws, and altering fundamentally the Forms of our Governments:\\n', '\\n', 'For suspending our own Legislatures, and declaring themselves invested with power to legislate for us in all cases whatsoever.\\n', '\\n', 'He has abdicated Government here, by declaring us out of his Protection and waging War against us.\\n', '\\n', 'He has plundered our seas, ravaged our Coasts, burnt our towns, and destroyed the lives of our people.\\n', '\\n', 'He is at this time transporting large Armies of foreign Mercenaries to compleat the works of death, desolation and tyranny, already begun with circumstances of Cruelty & perfidy scarcely paralleled in the most barbarous ages, and totally unworthy the Head of a civilized nation.\\n', '\\n', 'He has constrained our fellow Citizens taken Captive on the high Seas to bear Arms against their Country, to become the executioners of their friends and Brethren, or to fall themselves by their Hands.\\n', '\\n', 'He has excited domestic insurrections amongst us, and has endeavoured to bring on the inhabitants of our frontiers, the merciless Indian Savages, whose known rule of warfare, is an undistinguished destruction of all ages, sexes and conditions.\\n', '\\n', 'In every stage of these Oppressions We have Petitioned for Redress in the most humble terms: Our repeated Petitions have been answered only by repeated injury. A Prince whose character is thus marked by every act which may define a Tyrant, is unfit to be the ruler of a free people.\\n', '\\n', 'Nor have We been wanting in attentions to our Brittish brethren. We have warned them from time to time of attempts by their legislature to extend an unwarrantable jurisdiction over us. We have reminded them of the circumstances of our emigration and settlement here. We have appealed to their native justice and magnanimity, and we have conjured them by the ties of our common kindred to disavow these usurpations, which, would inevitably interrupt our connections and correspondence. They too have been deaf to the voice of justice and of consanguinity. We must, therefore, acquiesce in the necessity, which denounces our Separation, and hold them, as we hold the rest of mankind, Enemies in War, in Peace Friends.\\n', '\\n', 'We, therefore, the Representatives of the United States of America, in General Congress, Assembled, appealing to the Supreme Judge of the world for the rectitude of our intentions, do, in the Name, and by Authority of the good People of these Colonies, solemnly publish and declare, That these United Colonies are, and of Right ought to be Free and Independent States; that they are Absolved from all Allegiance to the British Crown, and that all political connection between them and the State of Great Britain, is and ought to be totally dissolved; and that as Free and Independent States, they have full Power to levy War, conclude Peace, contract Alliances, establish Commerce, and to do all other Acts and Things which Independent States may of right do. And for the support of this Declaration, with a firm reliance on the protection of divine Providence, we mutually pledge to each other our Lives, our Fortunes and our sacred Honor.']\n",
      "[\"When in the Course of human events, it becomes necessary for one people to dissolve the political bands which have connected them with another, and to assume among the powers of the earth, the separate and equal station to which the Laws of Nature and of Nature's God entitle them, a decent respect to the opinions of mankind requires that they should declare the causes which impel them to the separation.\\n\", '\\n', 'We hold these truths to be self-evident, that all men are created equal, that they are endowed by their Creator with certain unalienable Rights, that among these are Life, Liberty and the pursuit of Happiness.--That to secure these rights, Governments are instituted among Men, deriving their just powers from the consent of the governed, --That whenever any Form of Government becomes destructive of these ends, it is the Right of the People to alter or to abolish it, and to institute new Government, laying its foundation on such principles and organizing its powers in such form, as to them shall seem most likely to effect their Safety and Happiness. Prudence, indeed, will dictate that Governments long established should not be changed for light and transient causes; and accordingly all experience hath shewn, that mankind are more disposed to suffer, while evils are sufferable, than to right themselves by abolishing the forms to which they are accustomed. But when a long train of abuses and usurpations, pursuing invariably the same Object evinces a design to reduce them under absolute Despotism, it is their right, it is their duty, to throw off such Government, and to provide new Guards for their future security.--Such has been the patient sufferance of these Colonies; and such is now the necessity which constrains them to alter their former Systems of Government. The history of the present King of Great Britain is a history of repeated injuries and usurpations, all having in direct object the establishment of an absolute Tyranny over these States. To prove this, let Facts be submitted to a candid world.\\n', '\\n', 'He has refused his Assent to Laws, the most wholesome and necessary for the public good.\\n', '\\n', 'He has forbidden his Governors to pass Laws of immediate and pressing importance, unless suspended in their operation till his Assent should be obtained; and when so suspended, he has utterly neglected to attend to them.\\n', '\\n', 'He has refused to pass other Laws for the accommodation of large districts of people, unless those people would relinquish the right of Representation in the Legislature, a right inestimable to them and formidable to tyrants only.\\n', '\\n', 'He has called together legislative bodies at places unusual, uncomfortable, and distant from the depository of their public Records, for the sole purpose of fatiguing them into compliance with his measures.\\n', '\\n', 'He has dissolved Representative Houses repeatedly, for opposing with manly firmness his invasions on the rights of the people.\\n', '\\n', 'He has refused for a long time, after such dissolutions, to cause others to be elected; whereby the Legislative powers, incapable of Annihilation, have returned to the People at large for their exercise; the State remaining in the mean time exposed to all the dangers of invasion from without, and convulsions within.\\n', '\\n', 'He has endeavoured to prevent the population of these States; for that purpose obstructing the Laws for Naturalization of Foreigners; refusing to pass others to encourage their migrations hither, and raising the conditions of new Appropriations of Lands.\\n', '\\n', 'He has obstructed the Administration of Justice, by refusing his Assent to Laws for establishing Judiciary powers.\\n', '\\n', 'He has made Judges dependent on his Will alone, for the tenure of their offices, and the amount and payment of their salaries.\\n', '\\n', 'He has erected a multitude of New Offices, and sent hither swarms of Officers to harrass our people, and eat out their substance.\\n', '\\n', 'He has kept among us, in times of peace, Standing Armies without the Consent of our legislatures.\\n', '\\n', 'He has affected to render the Military independent of and superior to the Civil power.\\n', '\\n', 'He has combined with others to subject us to a jurisdiction foreign to our constitution, and unacknowledged by our laws; giving his Assent to their Acts of pretended Legislation:\\n', '\\n', 'For Quartering large bodies of armed troops among us:\\n', '\\n', 'For protecting them, by a mock Trial, from punishment for any Murders which they should commit on the Inhabitants of these States:\\n', '\\n', 'For cutting off our Trade with all parts of the world:\\n', '\\n', 'For imposing Taxes on us without our Consent:\\n', '\\n', 'For depriving us in many cases, of the benefits of Trial by Jury:\\n', '\\n', 'For transporting us beyond Seas to be tried for pretended offences\\n', '\\n', 'For abolishing the free System of English Laws in a neighbouring Province, establishing therein an Arbitrary government, and enlarging its Boundaries so as to render it at once an example and fit instrument for introducing the same absolute rule into these Colonies:\\n', '\\n', 'For taking away our Charters, abolishing our most valuable Laws, and altering fundamentally the Forms of our Governments:\\n', '\\n', 'For suspending our own Legislatures, and declaring themselves invested with power to legislate for us in all cases whatsoever.\\n', '\\n', 'He has abdicated Government here, by declaring us out of his Protection and waging War against us.\\n', '\\n', 'He has plundered our seas, ravaged our Coasts, burnt our towns, and destroyed the lives of our people.\\n', '\\n', 'He is at this time transporting large Armies of foreign Mercenaries to compleat the works of death, desolation and tyranny, already begun with circumstances of Cruelty & perfidy scarcely paralleled in the most barbarous ages, and totally unworthy the Head of a civilized nation.\\n', '\\n', 'He has constrained our fellow Citizens taken Captive on the high Seas to bear Arms against their Country, to become the executioners of their friends and Brethren, or to fall themselves by their Hands.\\n', '\\n', 'He has excited domestic insurrections amongst us, and has endeavoured to bring on the inhabitants of our frontiers, the merciless Indian Savages, whose known rule of warfare, is an undistinguished destruction of all ages, sexes and conditions.\\n', '\\n', 'In every stage of these Oppressions We have Petitioned for Redress in the most humble terms: Our repeated Petitions have been answered only by repeated injury. A Prince whose character is thus marked by every act which may define a Tyrant, is unfit to be the ruler of a free people.\\n', '\\n', 'Nor have We been wanting in attentions to our Brittish brethren. We have warned them from time to time of attempts by their legislature to extend an unwarrantable jurisdiction over us. We have reminded them of the circumstances of our emigration and settlement here. We have appealed to their native justice and magnanimity, and we have conjured them by the ties of our common kindred to disavow these usurpations, which, would inevitably interrupt our connections and correspondence. They too have been deaf to the voice of justice and of consanguinity. We must, therefore, acquiesce in the necessity, which denounces our Separation, and hold them, as we hold the rest of mankind, Enemies in War, in Peace Friends.\\n', '\\n', 'We, therefore, the Representatives of the United States of America, in General Congress, Assembled, appealing to the Supreme Judge of the world for the rectitude of our intentions, do, in the Name, and by Authority of the good People of these Colonies, solemnly publish and declare, That these United Colonies are, and of Right ought to be Free and Independent States; that they are Absolved from all Allegiance to the British Crown, and that all political connection between them and the State of Great Britain, is and ought to be totally dissolved; and that as Free and Independent States, they have full Power to levy War, conclude Peace, contract Alliances, establish Commerce, and to do all other Acts and Things which Independent States may of right do. And for the support of this Declaration, with a firm reliance on the protection of divine Providence, we mutually pledge to each other our Lives, our Fortunes and our sacred Honor.']\n",
      "[\"When in the Course of human events, it becomes necessary for one people to dissolve the political bands which have connected them with another, and to assume among the powers of the earth, the separate and equal station to which the Laws of Nature and of Nature's God entitle them, a decent respect to the opinions of mankind requires that they should declare the causes which impel them to the separation.\\n\", '\\n', 'We hold these truths to be self-evident, that all men are created equal, that they are endowed by their Creator with certain unalienable Rights, that among these are Life, Liberty and the pursuit of Happiness.--That to secure these rights, Governments are instituted among Men, deriving their just powers from the consent of the governed, --That whenever any Form of Government becomes destructive of these ends, it is the Right of the People to alter or to abolish it, and to institute new Government, laying its foundation on such principles and organizing its powers in such form, as to them shall seem most likely to effect their Safety and Happiness. Prudence, indeed, will dictate that Governments long established should not be changed for light and transient causes; and accordingly all experience hath shewn, that mankind are more disposed to suffer, while evils are sufferable, than to right themselves by abolishing the forms to which they are accustomed. But when a long train of abuses and usurpations, pursuing invariably the same Object evinces a design to reduce them under absolute Despotism, it is their right, it is their duty, to throw off such Government, and to provide new Guards for their future security.--Such has been the patient sufferance of these Colonies; and such is now the necessity which constrains them to alter their former Systems of Government. The history of the present King of Great Britain is a history of repeated injuries and usurpations, all having in direct object the establishment of an absolute Tyranny over these States. To prove this, let Facts be submitted to a candid world.\\n', '\\n', 'He has refused his Assent to Laws, the most wholesome and necessary for the public good.\\n', '\\n', 'He has forbidden his Governors to pass Laws of immediate and pressing importance, unless suspended in their operation till his Assent should be obtained; and when so suspended, he has utterly neglected to attend to them.\\n', '\\n', 'He has refused to pass other Laws for the accommodation of large districts of people, unless those people would relinquish the right of Representation in the Legislature, a right inestimable to them and formidable to tyrants only.\\n', '\\n', 'He has called together legislative bodies at places unusual, uncomfortable, and distant from the depository of their public Records, for the sole purpose of fatiguing them into compliance with his measures.\\n', '\\n', 'He has dissolved Representative Houses repeatedly, for opposing with manly firmness his invasions on the rights of the people.\\n', '\\n', 'He has refused for a long time, after such dissolutions, to cause others to be elected; whereby the Legislative powers, incapable of Annihilation, have returned to the People at large for their exercise; the State remaining in the mean time exposed to all the dangers of invasion from without, and convulsions within.\\n', '\\n', 'He has endeavoured to prevent the population of these States; for that purpose obstructing the Laws for Naturalization of Foreigners; refusing to pass others to encourage their migrations hither, and raising the conditions of new Appropriations of Lands.\\n', '\\n', 'He has obstructed the Administration of Justice, by refusing his Assent to Laws for establishing Judiciary powers.\\n', '\\n', 'He has made Judges dependent on his Will alone, for the tenure of their offices, and the amount and payment of their salaries.\\n', '\\n', 'He has erected a multitude of New Offices, and sent hither swarms of Officers to harrass our people, and eat out their substance.\\n', '\\n', 'He has kept among us, in times of peace, Standing Armies without the Consent of our legislatures.\\n', '\\n', 'He has affected to render the Military independent of and superior to the Civil power.\\n', '\\n', 'He has combined with others to subject us to a jurisdiction foreign to our constitution, and unacknowledged by our laws; giving his Assent to their Acts of pretended Legislation:\\n', '\\n', 'For Quartering large bodies of armed troops among us:\\n', '\\n', 'For protecting them, by a mock Trial, from punishment for any Murders which they should commit on the Inhabitants of these States:\\n', '\\n', 'For cutting off our Trade with all parts of the world:\\n', '\\n', 'For imposing Taxes on us without our Consent:\\n', '\\n', 'For depriving us in many cases, of the benefits of Trial by Jury:\\n', '\\n', 'For transporting us beyond Seas to be tried for pretended offences\\n', '\\n', 'For abolishing the free System of English Laws in a neighbouring Province, establishing therein an Arbitrary government, and enlarging its Boundaries so as to render it at once an example and fit instrument for introducing the same absolute rule into these Colonies:\\n', '\\n', 'For taking away our Charters, abolishing our most valuable Laws, and altering fundamentally the Forms of our Governments:\\n', '\\n', 'For suspending our own Legislatures, and declaring themselves invested with power to legislate for us in all cases whatsoever.\\n', '\\n', 'He has abdicated Government here, by declaring us out of his Protection and waging War against us.\\n', '\\n', 'He has plundered our seas, ravaged our Coasts, burnt our towns, and destroyed the lives of our people.\\n', '\\n', 'He is at this time transporting large Armies of foreign Mercenaries to compleat the works of death, desolation and tyranny, already begun with circumstances of Cruelty & perfidy scarcely paralleled in the most barbarous ages, and totally unworthy the Head of a civilized nation.\\n', '\\n', 'He has constrained our fellow Citizens taken Captive on the high Seas to bear Arms against their Country, to become the executioners of their friends and Brethren, or to fall themselves by their Hands.\\n', '\\n', 'He has excited domestic insurrections amongst us, and has endeavoured to bring on the inhabitants of our frontiers, the merciless Indian Savages, whose known rule of warfare, is an undistinguished destruction of all ages, sexes and conditions.\\n', '\\n', 'In every stage of these Oppressions We have Petitioned for Redress in the most humble terms: Our repeated Petitions have been answered only by repeated injury. A Prince whose character is thus marked by every act which may define a Tyrant, is unfit to be the ruler of a free people.\\n', '\\n', 'Nor have We been wanting in attentions to our Brittish brethren. We have warned them from time to time of attempts by their legislature to extend an unwarrantable jurisdiction over us. We have reminded them of the circumstances of our emigration and settlement here. We have appealed to their native justice and magnanimity, and we have conjured them by the ties of our common kindred to disavow these usurpations, which, would inevitably interrupt our connections and correspondence. They too have been deaf to the voice of justice and of consanguinity. We must, therefore, acquiesce in the necessity, which denounces our Separation, and hold them, as we hold the rest of mankind, Enemies in War, in Peace Friends.\\n', '\\n', 'We, therefore, the Representatives of the United States of America, in General Congress, Assembled, appealing to the Supreme Judge of the world for the rectitude of our intentions, do, in the Name, and by Authority of the good People of these Colonies, solemnly publish and declare, That these United Colonies are, and of Right ought to be Free and Independent States; that they are Absolved from all Allegiance to the British Crown, and that all political connection between them and the State of Great Britain, is and ought to be totally dissolved; and that as Free and Independent States, they have full Power to levy War, conclude Peace, contract Alliances, establish Commerce, and to do all other Acts and Things which Independent States may of right do. And for the support of this Declaration, with a firm reliance on the protection of divine Providence, we mutually pledge to each other our Lives, our Fortunes and our sacred Honor.']\n",
      "[\"When in the Course of human events, it becomes necessary for one people to dissolve the political bands which have connected them with another, and to assume among the powers of the earth, the separate and equal station to which the Laws of Nature and of Nature's God entitle them, a decent respect to the opinions of mankind requires that they should declare the causes which impel them to the separation.\\n\", '\\n', 'We hold these truths to be self-evident, that all men are created equal, that they are endowed by their Creator with certain unalienable Rights, that among these are Life, Liberty and the pursuit of Happiness.--That to secure these rights, Governments are instituted among Men, deriving their just powers from the consent of the governed, --That whenever any Form of Government becomes destructive of these ends, it is the Right of the People to alter or to abolish it, and to institute new Government, laying its foundation on such principles and organizing its powers in such form, as to them shall seem most likely to effect their Safety and Happiness. Prudence, indeed, will dictate that Governments long established should not be changed for light and transient causes; and accordingly all experience hath shewn, that mankind are more disposed to suffer, while evils are sufferable, than to right themselves by abolishing the forms to which they are accustomed. But when a long train of abuses and usurpations, pursuing invariably the same Object evinces a design to reduce them under absolute Despotism, it is their right, it is their duty, to throw off such Government, and to provide new Guards for their future security.--Such has been the patient sufferance of these Colonies; and such is now the necessity which constrains them to alter their former Systems of Government. The history of the present King of Great Britain is a history of repeated injuries and usurpations, all having in direct object the establishment of an absolute Tyranny over these States. To prove this, let Facts be submitted to a candid world.\\n', '\\n', 'He has refused his Assent to Laws, the most wholesome and necessary for the public good.\\n', '\\n', 'He has forbidden his Governors to pass Laws of immediate and pressing importance, unless suspended in their operation till his Assent should be obtained; and when so suspended, he has utterly neglected to attend to them.\\n', '\\n', 'He has refused to pass other Laws for the accommodation of large districts of people, unless those people would relinquish the right of Representation in the Legislature, a right inestimable to them and formidable to tyrants only.\\n', '\\n', 'He has called together legislative bodies at places unusual, uncomfortable, and distant from the depository of their public Records, for the sole purpose of fatiguing them into compliance with his measures.\\n', '\\n', 'He has dissolved Representative Houses repeatedly, for opposing with manly firmness his invasions on the rights of the people.\\n', '\\n', 'He has refused for a long time, after such dissolutions, to cause others to be elected; whereby the Legislative powers, incapable of Annihilation, have returned to the People at large for their exercise; the State remaining in the mean time exposed to all the dangers of invasion from without, and convulsions within.\\n', '\\n', 'He has endeavoured to prevent the population of these States; for that purpose obstructing the Laws for Naturalization of Foreigners; refusing to pass others to encourage their migrations hither, and raising the conditions of new Appropriations of Lands.\\n', '\\n', 'He has obstructed the Administration of Justice, by refusing his Assent to Laws for establishing Judiciary powers.\\n', '\\n', 'He has made Judges dependent on his Will alone, for the tenure of their offices, and the amount and payment of their salaries.\\n', '\\n', 'He has erected a multitude of New Offices, and sent hither swarms of Officers to harrass our people, and eat out their substance.\\n', '\\n', 'He has kept among us, in times of peace, Standing Armies without the Consent of our legislatures.\\n', '\\n', 'He has affected to render the Military independent of and superior to the Civil power.\\n', '\\n', 'He has combined with others to subject us to a jurisdiction foreign to our constitution, and unacknowledged by our laws; giving his Assent to their Acts of pretended Legislation:\\n', '\\n', 'For Quartering large bodies of armed troops among us:\\n', '\\n', 'For protecting them, by a mock Trial, from punishment for any Murders which they should commit on the Inhabitants of these States:\\n', '\\n', 'For cutting off our Trade with all parts of the world:\\n', '\\n', 'For imposing Taxes on us without our Consent:\\n', '\\n', 'For depriving us in many cases, of the benefits of Trial by Jury:\\n', '\\n', 'For transporting us beyond Seas to be tried for pretended offences\\n', '\\n', 'For abolishing the free System of English Laws in a neighbouring Province, establishing therein an Arbitrary government, and enlarging its Boundaries so as to render it at once an example and fit instrument for introducing the same absolute rule into these Colonies:\\n', '\\n', 'For taking away our Charters, abolishing our most valuable Laws, and altering fundamentally the Forms of our Governments:\\n', '\\n', 'For suspending our own Legislatures, and declaring themselves invested with power to legislate for us in all cases whatsoever.\\n', '\\n', 'He has abdicated Government here, by declaring us out of his Protection and waging War against us.\\n', '\\n', 'He has plundered our seas, ravaged our Coasts, burnt our towns, and destroyed the lives of our people.\\n', '\\n', 'He is at this time transporting large Armies of foreign Mercenaries to compleat the works of death, desolation and tyranny, already begun with circumstances of Cruelty & perfidy scarcely paralleled in the most barbarous ages, and totally unworthy the Head of a civilized nation.\\n', '\\n', 'He has constrained our fellow Citizens taken Captive on the high Seas to bear Arms against their Country, to become the executioners of their friends and Brethren, or to fall themselves by their Hands.\\n', '\\n', 'He has excited domestic insurrections amongst us, and has endeavoured to bring on the inhabitants of our frontiers, the merciless Indian Savages, whose known rule of warfare, is an undistinguished destruction of all ages, sexes and conditions.\\n', '\\n', 'In every stage of these Oppressions We have Petitioned for Redress in the most humble terms: Our repeated Petitions have been answered only by repeated injury. A Prince whose character is thus marked by every act which may define a Tyrant, is unfit to be the ruler of a free people.\\n', '\\n', 'Nor have We been wanting in attentions to our Brittish brethren. We have warned them from time to time of attempts by their legislature to extend an unwarrantable jurisdiction over us. We have reminded them of the circumstances of our emigration and settlement here. We have appealed to their native justice and magnanimity, and we have conjured them by the ties of our common kindred to disavow these usurpations, which, would inevitably interrupt our connections and correspondence. They too have been deaf to the voice of justice and of consanguinity. We must, therefore, acquiesce in the necessity, which denounces our Separation, and hold them, as we hold the rest of mankind, Enemies in War, in Peace Friends.\\n', '\\n', 'We, therefore, the Representatives of the United States of America, in General Congress, Assembled, appealing to the Supreme Judge of the world for the rectitude of our intentions, do, in the Name, and by Authority of the good People of these Colonies, solemnly publish and declare, That these United Colonies are, and of Right ought to be Free and Independent States; that they are Absolved from all Allegiance to the British Crown, and that all political connection between them and the State of Great Britain, is and ought to be totally dissolved; and that as Free and Independent States, they have full Power to levy War, conclude Peace, contract Alliances, establish Commerce, and to do all other Acts and Things which Independent States may of right do. And for the support of this Declaration, with a firm reliance on the protection of divine Providence, we mutually pledge to each other our Lives, our Fortunes and our sacred Honor.']\n",
      "[\"When in the Course of human events, it becomes necessary for one people to dissolve the political bands which have connected them with another, and to assume among the powers of the earth, the separate and equal station to which the Laws of Nature and of Nature's God entitle them, a decent respect to the opinions of mankind requires that they should declare the causes which impel them to the separation.\\n\", '\\n', 'We hold these truths to be self-evident, that all men are created equal, that they are endowed by their Creator with certain unalienable Rights, that among these are Life, Liberty and the pursuit of Happiness.--That to secure these rights, Governments are instituted among Men, deriving their just powers from the consent of the governed, --That whenever any Form of Government becomes destructive of these ends, it is the Right of the People to alter or to abolish it, and to institute new Government, laying its foundation on such principles and organizing its powers in such form, as to them shall seem most likely to effect their Safety and Happiness. Prudence, indeed, will dictate that Governments long established should not be changed for light and transient causes; and accordingly all experience hath shewn, that mankind are more disposed to suffer, while evils are sufferable, than to right themselves by abolishing the forms to which they are accustomed. But when a long train of abuses and usurpations, pursuing invariably the same Object evinces a design to reduce them under absolute Despotism, it is their right, it is their duty, to throw off such Government, and to provide new Guards for their future security.--Such has been the patient sufferance of these Colonies; and such is now the necessity which constrains them to alter their former Systems of Government. The history of the present King of Great Britain is a history of repeated injuries and usurpations, all having in direct object the establishment of an absolute Tyranny over these States. To prove this, let Facts be submitted to a candid world.\\n', '\\n', 'He has refused his Assent to Laws, the most wholesome and necessary for the public good.\\n', '\\n', 'He has forbidden his Governors to pass Laws of immediate and pressing importance, unless suspended in their operation till his Assent should be obtained; and when so suspended, he has utterly neglected to attend to them.\\n', '\\n', 'He has refused to pass other Laws for the accommodation of large districts of people, unless those people would relinquish the right of Representation in the Legislature, a right inestimable to them and formidable to tyrants only.\\n', '\\n', 'He has called together legislative bodies at places unusual, uncomfortable, and distant from the depository of their public Records, for the sole purpose of fatiguing them into compliance with his measures.\\n', '\\n', 'He has dissolved Representative Houses repeatedly, for opposing with manly firmness his invasions on the rights of the people.\\n', '\\n', 'He has refused for a long time, after such dissolutions, to cause others to be elected; whereby the Legislative powers, incapable of Annihilation, have returned to the People at large for their exercise; the State remaining in the mean time exposed to all the dangers of invasion from without, and convulsions within.\\n', '\\n', 'He has endeavoured to prevent the population of these States; for that purpose obstructing the Laws for Naturalization of Foreigners; refusing to pass others to encourage their migrations hither, and raising the conditions of new Appropriations of Lands.\\n', '\\n', 'He has obstructed the Administration of Justice, by refusing his Assent to Laws for establishing Judiciary powers.\\n', '\\n', 'He has made Judges dependent on his Will alone, for the tenure of their offices, and the amount and payment of their salaries.\\n', '\\n', 'He has erected a multitude of New Offices, and sent hither swarms of Officers to harrass our people, and eat out their substance.\\n', '\\n', 'He has kept among us, in times of peace, Standing Armies without the Consent of our legislatures.\\n', '\\n', 'He has affected to render the Military independent of and superior to the Civil power.\\n', '\\n', 'He has combined with others to subject us to a jurisdiction foreign to our constitution, and unacknowledged by our laws; giving his Assent to their Acts of pretended Legislation:\\n', '\\n', 'For Quartering large bodies of armed troops among us:\\n', '\\n', 'For protecting them, by a mock Trial, from punishment for any Murders which they should commit on the Inhabitants of these States:\\n', '\\n', 'For cutting off our Trade with all parts of the world:\\n', '\\n', 'For imposing Taxes on us without our Consent:\\n', '\\n', 'For depriving us in many cases, of the benefits of Trial by Jury:\\n', '\\n', 'For transporting us beyond Seas to be tried for pretended offences\\n', '\\n', 'For abolishing the free System of English Laws in a neighbouring Province, establishing therein an Arbitrary government, and enlarging its Boundaries so as to render it at once an example and fit instrument for introducing the same absolute rule into these Colonies:\\n', '\\n', 'For taking away our Charters, abolishing our most valuable Laws, and altering fundamentally the Forms of our Governments:\\n', '\\n', 'For suspending our own Legislatures, and declaring themselves invested with power to legislate for us in all cases whatsoever.\\n', '\\n', 'He has abdicated Government here, by declaring us out of his Protection and waging War against us.\\n', '\\n', 'He has plundered our seas, ravaged our Coasts, burnt our towns, and destroyed the lives of our people.\\n', '\\n', 'He is at this time transporting large Armies of foreign Mercenaries to compleat the works of death, desolation and tyranny, already begun with circumstances of Cruelty & perfidy scarcely paralleled in the most barbarous ages, and totally unworthy the Head of a civilized nation.\\n', '\\n', 'He has constrained our fellow Citizens taken Captive on the high Seas to bear Arms against their Country, to become the executioners of their friends and Brethren, or to fall themselves by their Hands.\\n', '\\n', 'He has excited domestic insurrections amongst us, and has endeavoured to bring on the inhabitants of our frontiers, the merciless Indian Savages, whose known rule of warfare, is an undistinguished destruction of all ages, sexes and conditions.\\n', '\\n', 'In every stage of these Oppressions We have Petitioned for Redress in the most humble terms: Our repeated Petitions have been answered only by repeated injury. A Prince whose character is thus marked by every act which may define a Tyrant, is unfit to be the ruler of a free people.\\n', '\\n', 'Nor have We been wanting in attentions to our Brittish brethren. We have warned them from time to time of attempts by their legislature to extend an unwarrantable jurisdiction over us. We have reminded them of the circumstances of our emigration and settlement here. We have appealed to their native justice and magnanimity, and we have conjured them by the ties of our common kindred to disavow these usurpations, which, would inevitably interrupt our connections and correspondence. They too have been deaf to the voice of justice and of consanguinity. We must, therefore, acquiesce in the necessity, which denounces our Separation, and hold them, as we hold the rest of mankind, Enemies in War, in Peace Friends.\\n', '\\n', 'We, therefore, the Representatives of the United States of America, in General Congress, Assembled, appealing to the Supreme Judge of the world for the rectitude of our intentions, do, in the Name, and by Authority of the good People of these Colonies, solemnly publish and declare, That these United Colonies are, and of Right ought to be Free and Independent States; that they are Absolved from all Allegiance to the British Crown, and that all political connection between them and the State of Great Britain, is and ought to be totally dissolved; and that as Free and Independent States, they have full Power to levy War, conclude Peace, contract Alliances, establish Commerce, and to do all other Acts and Things which Independent States may of right do. And for the support of this Declaration, with a firm reliance on the protection of divine Providence, we mutually pledge to each other our Lives, our Fortunes and our sacred Honor.']\n",
      "[\"When in the Course of human events, it becomes necessary for one people to dissolve the political bands which have connected them with another, and to assume among the powers of the earth, the separate and equal station to which the Laws of Nature and of Nature's God entitle them, a decent respect to the opinions of mankind requires that they should declare the causes which impel them to the separation.\\n\", '\\n', 'We hold these truths to be self-evident, that all men are created equal, that they are endowed by their Creator with certain unalienable Rights, that among these are Life, Liberty and the pursuit of Happiness.--That to secure these rights, Governments are instituted among Men, deriving their just powers from the consent of the governed, --That whenever any Form of Government becomes destructive of these ends, it is the Right of the People to alter or to abolish it, and to institute new Government, laying its foundation on such principles and organizing its powers in such form, as to them shall seem most likely to effect their Safety and Happiness. Prudence, indeed, will dictate that Governments long established should not be changed for light and transient causes; and accordingly all experience hath shewn, that mankind are more disposed to suffer, while evils are sufferable, than to right themselves by abolishing the forms to which they are accustomed. But when a long train of abuses and usurpations, pursuing invariably the same Object evinces a design to reduce them under absolute Despotism, it is their right, it is their duty, to throw off such Government, and to provide new Guards for their future security.--Such has been the patient sufferance of these Colonies; and such is now the necessity which constrains them to alter their former Systems of Government. The history of the present King of Great Britain is a history of repeated injuries and usurpations, all having in direct object the establishment of an absolute Tyranny over these States. To prove this, let Facts be submitted to a candid world.\\n', '\\n', 'He has refused his Assent to Laws, the most wholesome and necessary for the public good.\\n', '\\n', 'He has forbidden his Governors to pass Laws of immediate and pressing importance, unless suspended in their operation till his Assent should be obtained; and when so suspended, he has utterly neglected to attend to them.\\n', '\\n', 'He has refused to pass other Laws for the accommodation of large districts of people, unless those people would relinquish the right of Representation in the Legislature, a right inestimable to them and formidable to tyrants only.\\n', '\\n', 'He has called together legislative bodies at places unusual, uncomfortable, and distant from the depository of their public Records, for the sole purpose of fatiguing them into compliance with his measures.\\n', '\\n', 'He has dissolved Representative Houses repeatedly, for opposing with manly firmness his invasions on the rights of the people.\\n', '\\n', 'He has refused for a long time, after such dissolutions, to cause others to be elected; whereby the Legislative powers, incapable of Annihilation, have returned to the People at large for their exercise; the State remaining in the mean time exposed to all the dangers of invasion from without, and convulsions within.\\n', '\\n', 'He has endeavoured to prevent the population of these States; for that purpose obstructing the Laws for Naturalization of Foreigners; refusing to pass others to encourage their migrations hither, and raising the conditions of new Appropriations of Lands.\\n', '\\n', 'He has obstructed the Administration of Justice, by refusing his Assent to Laws for establishing Judiciary powers.\\n', '\\n', 'He has made Judges dependent on his Will alone, for the tenure of their offices, and the amount and payment of their salaries.\\n', '\\n', 'He has erected a multitude of New Offices, and sent hither swarms of Officers to harrass our people, and eat out their substance.\\n', '\\n', 'He has kept among us, in times of peace, Standing Armies without the Consent of our legislatures.\\n', '\\n', 'He has affected to render the Military independent of and superior to the Civil power.\\n', '\\n', 'He has combined with others to subject us to a jurisdiction foreign to our constitution, and unacknowledged by our laws; giving his Assent to their Acts of pretended Legislation:\\n', '\\n', 'For Quartering large bodies of armed troops among us:\\n', '\\n', 'For protecting them, by a mock Trial, from punishment for any Murders which they should commit on the Inhabitants of these States:\\n', '\\n', 'For cutting off our Trade with all parts of the world:\\n', '\\n', 'For imposing Taxes on us without our Consent:\\n', '\\n', 'For depriving us in many cases, of the benefits of Trial by Jury:\\n', '\\n', 'For transporting us beyond Seas to be tried for pretended offences\\n', '\\n', 'For abolishing the free System of English Laws in a neighbouring Province, establishing therein an Arbitrary government, and enlarging its Boundaries so as to render it at once an example and fit instrument for introducing the same absolute rule into these Colonies:\\n', '\\n', 'For taking away our Charters, abolishing our most valuable Laws, and altering fundamentally the Forms of our Governments:\\n', '\\n', 'For suspending our own Legislatures, and declaring themselves invested with power to legislate for us in all cases whatsoever.\\n', '\\n', 'He has abdicated Government here, by declaring us out of his Protection and waging War against us.\\n', '\\n', 'He has plundered our seas, ravaged our Coasts, burnt our towns, and destroyed the lives of our people.\\n', '\\n', 'He is at this time transporting large Armies of foreign Mercenaries to compleat the works of death, desolation and tyranny, already begun with circumstances of Cruelty & perfidy scarcely paralleled in the most barbarous ages, and totally unworthy the Head of a civilized nation.\\n', '\\n', 'He has constrained our fellow Citizens taken Captive on the high Seas to bear Arms against their Country, to become the executioners of their friends and Brethren, or to fall themselves by their Hands.\\n', '\\n', 'He has excited domestic insurrections amongst us, and has endeavoured to bring on the inhabitants of our frontiers, the merciless Indian Savages, whose known rule of warfare, is an undistinguished destruction of all ages, sexes and conditions.\\n', '\\n', 'In every stage of these Oppressions We have Petitioned for Redress in the most humble terms: Our repeated Petitions have been answered only by repeated injury. A Prince whose character is thus marked by every act which may define a Tyrant, is unfit to be the ruler of a free people.\\n', '\\n', 'Nor have We been wanting in attentions to our Brittish brethren. We have warned them from time to time of attempts by their legislature to extend an unwarrantable jurisdiction over us. We have reminded them of the circumstances of our emigration and settlement here. We have appealed to their native justice and magnanimity, and we have conjured them by the ties of our common kindred to disavow these usurpations, which, would inevitably interrupt our connections and correspondence. They too have been deaf to the voice of justice and of consanguinity. We must, therefore, acquiesce in the necessity, which denounces our Separation, and hold them, as we hold the rest of mankind, Enemies in War, in Peace Friends.\\n', '\\n', 'We, therefore, the Representatives of the United States of America, in General Congress, Assembled, appealing to the Supreme Judge of the world for the rectitude of our intentions, do, in the Name, and by Authority of the good People of these Colonies, solemnly publish and declare, That these United Colonies are, and of Right ought to be Free and Independent States; that they are Absolved from all Allegiance to the British Crown, and that all political connection between them and the State of Great Britain, is and ought to be totally dissolved; and that as Free and Independent States, they have full Power to levy War, conclude Peace, contract Alliances, establish Commerce, and to do all other Acts and Things which Independent States may of right do. And for the support of this Declaration, with a firm reliance on the protection of divine Providence, we mutually pledge to each other our Lives, our Fortunes and our sacred Honor.']\n",
      "[\"When in the Course of human events, it becomes necessary for one people to dissolve the political bands which have connected them with another, and to assume among the powers of the earth, the separate and equal station to which the Laws of Nature and of Nature's God entitle them, a decent respect to the opinions of mankind requires that they should declare the causes which impel them to the separation.\\n\", '\\n', 'We hold these truths to be self-evident, that all men are created equal, that they are endowed by their Creator with certain unalienable Rights, that among these are Life, Liberty and the pursuit of Happiness.--That to secure these rights, Governments are instituted among Men, deriving their just powers from the consent of the governed, --That whenever any Form of Government becomes destructive of these ends, it is the Right of the People to alter or to abolish it, and to institute new Government, laying its foundation on such principles and organizing its powers in such form, as to them shall seem most likely to effect their Safety and Happiness. Prudence, indeed, will dictate that Governments long established should not be changed for light and transient causes; and accordingly all experience hath shewn, that mankind are more disposed to suffer, while evils are sufferable, than to right themselves by abolishing the forms to which they are accustomed. But when a long train of abuses and usurpations, pursuing invariably the same Object evinces a design to reduce them under absolute Despotism, it is their right, it is their duty, to throw off such Government, and to provide new Guards for their future security.--Such has been the patient sufferance of these Colonies; and such is now the necessity which constrains them to alter their former Systems of Government. The history of the present King of Great Britain is a history of repeated injuries and usurpations, all having in direct object the establishment of an absolute Tyranny over these States. To prove this, let Facts be submitted to a candid world.\\n', '\\n', 'He has refused his Assent to Laws, the most wholesome and necessary for the public good.\\n', '\\n', 'He has forbidden his Governors to pass Laws of immediate and pressing importance, unless suspended in their operation till his Assent should be obtained; and when so suspended, he has utterly neglected to attend to them.\\n', '\\n', 'He has refused to pass other Laws for the accommodation of large districts of people, unless those people would relinquish the right of Representation in the Legislature, a right inestimable to them and formidable to tyrants only.\\n', '\\n', 'He has called together legislative bodies at places unusual, uncomfortable, and distant from the depository of their public Records, for the sole purpose of fatiguing them into compliance with his measures.\\n', '\\n', 'He has dissolved Representative Houses repeatedly, for opposing with manly firmness his invasions on the rights of the people.\\n', '\\n', 'He has refused for a long time, after such dissolutions, to cause others to be elected; whereby the Legislative powers, incapable of Annihilation, have returned to the People at large for their exercise; the State remaining in the mean time exposed to all the dangers of invasion from without, and convulsions within.\\n', '\\n', 'He has endeavoured to prevent the population of these States; for that purpose obstructing the Laws for Naturalization of Foreigners; refusing to pass others to encourage their migrations hither, and raising the conditions of new Appropriations of Lands.\\n', '\\n', 'He has obstructed the Administration of Justice, by refusing his Assent to Laws for establishing Judiciary powers.\\n', '\\n', 'He has made Judges dependent on his Will alone, for the tenure of their offices, and the amount and payment of their salaries.\\n', '\\n', 'He has erected a multitude of New Offices, and sent hither swarms of Officers to harrass our people, and eat out their substance.\\n', '\\n', 'He has kept among us, in times of peace, Standing Armies without the Consent of our legislatures.\\n', '\\n', 'He has affected to render the Military independent of and superior to the Civil power.\\n', '\\n', 'He has combined with others to subject us to a jurisdiction foreign to our constitution, and unacknowledged by our laws; giving his Assent to their Acts of pretended Legislation:\\n', '\\n', 'For Quartering large bodies of armed troops among us:\\n', '\\n', 'For protecting them, by a mock Trial, from punishment for any Murders which they should commit on the Inhabitants of these States:\\n', '\\n', 'For cutting off our Trade with all parts of the world:\\n', '\\n', 'For imposing Taxes on us without our Consent:\\n', '\\n', 'For depriving us in many cases, of the benefits of Trial by Jury:\\n', '\\n', 'For transporting us beyond Seas to be tried for pretended offences\\n', '\\n', 'For abolishing the free System of English Laws in a neighbouring Province, establishing therein an Arbitrary government, and enlarging its Boundaries so as to render it at once an example and fit instrument for introducing the same absolute rule into these Colonies:\\n', '\\n', 'For taking away our Charters, abolishing our most valuable Laws, and altering fundamentally the Forms of our Governments:\\n', '\\n', 'For suspending our own Legislatures, and declaring themselves invested with power to legislate for us in all cases whatsoever.\\n', '\\n', 'He has abdicated Government here, by declaring us out of his Protection and waging War against us.\\n', '\\n', 'He has plundered our seas, ravaged our Coasts, burnt our towns, and destroyed the lives of our people.\\n', '\\n', 'He is at this time transporting large Armies of foreign Mercenaries to compleat the works of death, desolation and tyranny, already begun with circumstances of Cruelty & perfidy scarcely paralleled in the most barbarous ages, and totally unworthy the Head of a civilized nation.\\n', '\\n', 'He has constrained our fellow Citizens taken Captive on the high Seas to bear Arms against their Country, to become the executioners of their friends and Brethren, or to fall themselves by their Hands.\\n', '\\n', 'He has excited domestic insurrections amongst us, and has endeavoured to bring on the inhabitants of our frontiers, the merciless Indian Savages, whose known rule of warfare, is an undistinguished destruction of all ages, sexes and conditions.\\n', '\\n', 'In every stage of these Oppressions We have Petitioned for Redress in the most humble terms: Our repeated Petitions have been answered only by repeated injury. A Prince whose character is thus marked by every act which may define a Tyrant, is unfit to be the ruler of a free people.\\n', '\\n', 'Nor have We been wanting in attentions to our Brittish brethren. We have warned them from time to time of attempts by their legislature to extend an unwarrantable jurisdiction over us. We have reminded them of the circumstances of our emigration and settlement here. We have appealed to their native justice and magnanimity, and we have conjured them by the ties of our common kindred to disavow these usurpations, which, would inevitably interrupt our connections and correspondence. They too have been deaf to the voice of justice and of consanguinity. We must, therefore, acquiesce in the necessity, which denounces our Separation, and hold them, as we hold the rest of mankind, Enemies in War, in Peace Friends.\\n', '\\n', 'We, therefore, the Representatives of the United States of America, in General Congress, Assembled, appealing to the Supreme Judge of the world for the rectitude of our intentions, do, in the Name, and by Authority of the good People of these Colonies, solemnly publish and declare, That these United Colonies are, and of Right ought to be Free and Independent States; that they are Absolved from all Allegiance to the British Crown, and that all political connection between them and the State of Great Britain, is and ought to be totally dissolved; and that as Free and Independent States, they have full Power to levy War, conclude Peace, contract Alliances, establish Commerce, and to do all other Acts and Things which Independent States may of right do. And for the support of this Declaration, with a firm reliance on the protection of divine Providence, we mutually pledge to each other our Lives, our Fortunes and our sacred Honor.']\n",
      "[\"When in the Course of human events, it becomes necessary for one people to dissolve the political bands which have connected them with another, and to assume among the powers of the earth, the separate and equal station to which the Laws of Nature and of Nature's God entitle them, a decent respect to the opinions of mankind requires that they should declare the causes which impel them to the separation.\\n\", '\\n', 'We hold these truths to be self-evident, that all men are created equal, that they are endowed by their Creator with certain unalienable Rights, that among these are Life, Liberty and the pursuit of Happiness.--That to secure these rights, Governments are instituted among Men, deriving their just powers from the consent of the governed, --That whenever any Form of Government becomes destructive of these ends, it is the Right of the People to alter or to abolish it, and to institute new Government, laying its foundation on such principles and organizing its powers in such form, as to them shall seem most likely to effect their Safety and Happiness. Prudence, indeed, will dictate that Governments long established should not be changed for light and transient causes; and accordingly all experience hath shewn, that mankind are more disposed to suffer, while evils are sufferable, than to right themselves by abolishing the forms to which they are accustomed. But when a long train of abuses and usurpations, pursuing invariably the same Object evinces a design to reduce them under absolute Despotism, it is their right, it is their duty, to throw off such Government, and to provide new Guards for their future security.--Such has been the patient sufferance of these Colonies; and such is now the necessity which constrains them to alter their former Systems of Government. The history of the present King of Great Britain is a history of repeated injuries and usurpations, all having in direct object the establishment of an absolute Tyranny over these States. To prove this, let Facts be submitted to a candid world.\\n', '\\n', 'He has refused his Assent to Laws, the most wholesome and necessary for the public good.\\n', '\\n', 'He has forbidden his Governors to pass Laws of immediate and pressing importance, unless suspended in their operation till his Assent should be obtained; and when so suspended, he has utterly neglected to attend to them.\\n', '\\n', 'He has refused to pass other Laws for the accommodation of large districts of people, unless those people would relinquish the right of Representation in the Legislature, a right inestimable to them and formidable to tyrants only.\\n', '\\n', 'He has called together legislative bodies at places unusual, uncomfortable, and distant from the depository of their public Records, for the sole purpose of fatiguing them into compliance with his measures.\\n', '\\n', 'He has dissolved Representative Houses repeatedly, for opposing with manly firmness his invasions on the rights of the people.\\n', '\\n', 'He has refused for a long time, after such dissolutions, to cause others to be elected; whereby the Legislative powers, incapable of Annihilation, have returned to the People at large for their exercise; the State remaining in the mean time exposed to all the dangers of invasion from without, and convulsions within.\\n', '\\n', 'He has endeavoured to prevent the population of these States; for that purpose obstructing the Laws for Naturalization of Foreigners; refusing to pass others to encourage their migrations hither, and raising the conditions of new Appropriations of Lands.\\n', '\\n', 'He has obstructed the Administration of Justice, by refusing his Assent to Laws for establishing Judiciary powers.\\n', '\\n', 'He has made Judges dependent on his Will alone, for the tenure of their offices, and the amount and payment of their salaries.\\n', '\\n', 'He has erected a multitude of New Offices, and sent hither swarms of Officers to harrass our people, and eat out their substance.\\n', '\\n', 'He has kept among us, in times of peace, Standing Armies without the Consent of our legislatures.\\n', '\\n', 'He has affected to render the Military independent of and superior to the Civil power.\\n', '\\n', 'He has combined with others to subject us to a jurisdiction foreign to our constitution, and unacknowledged by our laws; giving his Assent to their Acts of pretended Legislation:\\n', '\\n', 'For Quartering large bodies of armed troops among us:\\n', '\\n', 'For protecting them, by a mock Trial, from punishment for any Murders which they should commit on the Inhabitants of these States:\\n', '\\n', 'For cutting off our Trade with all parts of the world:\\n', '\\n', 'For imposing Taxes on us without our Consent:\\n', '\\n', 'For depriving us in many cases, of the benefits of Trial by Jury:\\n', '\\n', 'For transporting us beyond Seas to be tried for pretended offences\\n', '\\n', 'For abolishing the free System of English Laws in a neighbouring Province, establishing therein an Arbitrary government, and enlarging its Boundaries so as to render it at once an example and fit instrument for introducing the same absolute rule into these Colonies:\\n', '\\n', 'For taking away our Charters, abolishing our most valuable Laws, and altering fundamentally the Forms of our Governments:\\n', '\\n', 'For suspending our own Legislatures, and declaring themselves invested with power to legislate for us in all cases whatsoever.\\n', '\\n', 'He has abdicated Government here, by declaring us out of his Protection and waging War against us.\\n', '\\n', 'He has plundered our seas, ravaged our Coasts, burnt our towns, and destroyed the lives of our people.\\n', '\\n', 'He is at this time transporting large Armies of foreign Mercenaries to compleat the works of death, desolation and tyranny, already begun with circumstances of Cruelty & perfidy scarcely paralleled in the most barbarous ages, and totally unworthy the Head of a civilized nation.\\n', '\\n', 'He has constrained our fellow Citizens taken Captive on the high Seas to bear Arms against their Country, to become the executioners of their friends and Brethren, or to fall themselves by their Hands.\\n', '\\n', 'He has excited domestic insurrections amongst us, and has endeavoured to bring on the inhabitants of our frontiers, the merciless Indian Savages, whose known rule of warfare, is an undistinguished destruction of all ages, sexes and conditions.\\n', '\\n', 'In every stage of these Oppressions We have Petitioned for Redress in the most humble terms: Our repeated Petitions have been answered only by repeated injury. A Prince whose character is thus marked by every act which may define a Tyrant, is unfit to be the ruler of a free people.\\n', '\\n', 'Nor have We been wanting in attentions to our Brittish brethren. We have warned them from time to time of attempts by their legislature to extend an unwarrantable jurisdiction over us. We have reminded them of the circumstances of our emigration and settlement here. We have appealed to their native justice and magnanimity, and we have conjured them by the ties of our common kindred to disavow these usurpations, which, would inevitably interrupt our connections and correspondence. They too have been deaf to the voice of justice and of consanguinity. We must, therefore, acquiesce in the necessity, which denounces our Separation, and hold them, as we hold the rest of mankind, Enemies in War, in Peace Friends.\\n', '\\n', 'We, therefore, the Representatives of the United States of America, in General Congress, Assembled, appealing to the Supreme Judge of the world for the rectitude of our intentions, do, in the Name, and by Authority of the good People of these Colonies, solemnly publish and declare, That these United Colonies are, and of Right ought to be Free and Independent States; that they are Absolved from all Allegiance to the British Crown, and that all political connection between them and the State of Great Britain, is and ought to be totally dissolved; and that as Free and Independent States, they have full Power to levy War, conclude Peace, contract Alliances, establish Commerce, and to do all other Acts and Things which Independent States may of right do. And for the support of this Declaration, with a firm reliance on the protection of divine Providence, we mutually pledge to each other our Lives, our Fortunes and our sacred Honor.']\n",
      "[\"When in the Course of human events, it becomes necessary for one people to dissolve the political bands which have connected them with another, and to assume among the powers of the earth, the separate and equal station to which the Laws of Nature and of Nature's God entitle them, a decent respect to the opinions of mankind requires that they should declare the causes which impel them to the separation.\\n\", '\\n', 'We hold these truths to be self-evident, that all men are created equal, that they are endowed by their Creator with certain unalienable Rights, that among these are Life, Liberty and the pursuit of Happiness.--That to secure these rights, Governments are instituted among Men, deriving their just powers from the consent of the governed, --That whenever any Form of Government becomes destructive of these ends, it is the Right of the People to alter or to abolish it, and to institute new Government, laying its foundation on such principles and organizing its powers in such form, as to them shall seem most likely to effect their Safety and Happiness. Prudence, indeed, will dictate that Governments long established should not be changed for light and transient causes; and accordingly all experience hath shewn, that mankind are more disposed to suffer, while evils are sufferable, than to right themselves by abolishing the forms to which they are accustomed. But when a long train of abuses and usurpations, pursuing invariably the same Object evinces a design to reduce them under absolute Despotism, it is their right, it is their duty, to throw off such Government, and to provide new Guards for their future security.--Such has been the patient sufferance of these Colonies; and such is now the necessity which constrains them to alter their former Systems of Government. The history of the present King of Great Britain is a history of repeated injuries and usurpations, all having in direct object the establishment of an absolute Tyranny over these States. To prove this, let Facts be submitted to a candid world.\\n', '\\n', 'He has refused his Assent to Laws, the most wholesome and necessary for the public good.\\n', '\\n', 'He has forbidden his Governors to pass Laws of immediate and pressing importance, unless suspended in their operation till his Assent should be obtained; and when so suspended, he has utterly neglected to attend to them.\\n', '\\n', 'He has refused to pass other Laws for the accommodation of large districts of people, unless those people would relinquish the right of Representation in the Legislature, a right inestimable to them and formidable to tyrants only.\\n', '\\n', 'He has called together legislative bodies at places unusual, uncomfortable, and distant from the depository of their public Records, for the sole purpose of fatiguing them into compliance with his measures.\\n', '\\n', 'He has dissolved Representative Houses repeatedly, for opposing with manly firmness his invasions on the rights of the people.\\n', '\\n', 'He has refused for a long time, after such dissolutions, to cause others to be elected; whereby the Legislative powers, incapable of Annihilation, have returned to the People at large for their exercise; the State remaining in the mean time exposed to all the dangers of invasion from without, and convulsions within.\\n', '\\n', 'He has endeavoured to prevent the population of these States; for that purpose obstructing the Laws for Naturalization of Foreigners; refusing to pass others to encourage their migrations hither, and raising the conditions of new Appropriations of Lands.\\n', '\\n', 'He has obstructed the Administration of Justice, by refusing his Assent to Laws for establishing Judiciary powers.\\n', '\\n', 'He has made Judges dependent on his Will alone, for the tenure of their offices, and the amount and payment of their salaries.\\n', '\\n', 'He has erected a multitude of New Offices, and sent hither swarms of Officers to harrass our people, and eat out their substance.\\n', '\\n', 'He has kept among us, in times of peace, Standing Armies without the Consent of our legislatures.\\n', '\\n', 'He has affected to render the Military independent of and superior to the Civil power.\\n', '\\n', 'He has combined with others to subject us to a jurisdiction foreign to our constitution, and unacknowledged by our laws; giving his Assent to their Acts of pretended Legislation:\\n', '\\n', 'For Quartering large bodies of armed troops among us:\\n', '\\n', 'For protecting them, by a mock Trial, from punishment for any Murders which they should commit on the Inhabitants of these States:\\n', '\\n', 'For cutting off our Trade with all parts of the world:\\n', '\\n', 'For imposing Taxes on us without our Consent:\\n', '\\n', 'For depriving us in many cases, of the benefits of Trial by Jury:\\n', '\\n', 'For transporting us beyond Seas to be tried for pretended offences\\n', '\\n', 'For abolishing the free System of English Laws in a neighbouring Province, establishing therein an Arbitrary government, and enlarging its Boundaries so as to render it at once an example and fit instrument for introducing the same absolute rule into these Colonies:\\n', '\\n', 'For taking away our Charters, abolishing our most valuable Laws, and altering fundamentally the Forms of our Governments:\\n', '\\n', 'For suspending our own Legislatures, and declaring themselves invested with power to legislate for us in all cases whatsoever.\\n', '\\n', 'He has abdicated Government here, by declaring us out of his Protection and waging War against us.\\n', '\\n', 'He has plundered our seas, ravaged our Coasts, burnt our towns, and destroyed the lives of our people.\\n', '\\n', 'He is at this time transporting large Armies of foreign Mercenaries to compleat the works of death, desolation and tyranny, already begun with circumstances of Cruelty & perfidy scarcely paralleled in the most barbarous ages, and totally unworthy the Head of a civilized nation.\\n', '\\n', 'He has constrained our fellow Citizens taken Captive on the high Seas to bear Arms against their Country, to become the executioners of their friends and Brethren, or to fall themselves by their Hands.\\n', '\\n', 'He has excited domestic insurrections amongst us, and has endeavoured to bring on the inhabitants of our frontiers, the merciless Indian Savages, whose known rule of warfare, is an undistinguished destruction of all ages, sexes and conditions.\\n', '\\n', 'In every stage of these Oppressions We have Petitioned for Redress in the most humble terms: Our repeated Petitions have been answered only by repeated injury. A Prince whose character is thus marked by every act which may define a Tyrant, is unfit to be the ruler of a free people.\\n', '\\n', 'Nor have We been wanting in attentions to our Brittish brethren. We have warned them from time to time of attempts by their legislature to extend an unwarrantable jurisdiction over us. We have reminded them of the circumstances of our emigration and settlement here. We have appealed to their native justice and magnanimity, and we have conjured them by the ties of our common kindred to disavow these usurpations, which, would inevitably interrupt our connections and correspondence. They too have been deaf to the voice of justice and of consanguinity. We must, therefore, acquiesce in the necessity, which denounces our Separation, and hold them, as we hold the rest of mankind, Enemies in War, in Peace Friends.\\n', '\\n', 'We, therefore, the Representatives of the United States of America, in General Congress, Assembled, appealing to the Supreme Judge of the world for the rectitude of our intentions, do, in the Name, and by Authority of the good People of these Colonies, solemnly publish and declare, That these United Colonies are, and of Right ought to be Free and Independent States; that they are Absolved from all Allegiance to the British Crown, and that all political connection between them and the State of Great Britain, is and ought to be totally dissolved; and that as Free and Independent States, they have full Power to levy War, conclude Peace, contract Alliances, establish Commerce, and to do all other Acts and Things which Independent States may of right do. And for the support of this Declaration, with a firm reliance on the protection of divine Providence, we mutually pledge to each other our Lives, our Fortunes and our sacred Honor.']\n",
      "[\"When in the Course of human events, it becomes necessary for one people to dissolve the political bands which have connected them with another, and to assume among the powers of the earth, the separate and equal station to which the Laws of Nature and of Nature's God entitle them, a decent respect to the opinions of mankind requires that they should declare the causes which impel them to the separation.\\n\", '\\n', 'We hold these truths to be self-evident, that all men are created equal, that they are endowed by their Creator with certain unalienable Rights, that among these are Life, Liberty and the pursuit of Happiness.--That to secure these rights, Governments are instituted among Men, deriving their just powers from the consent of the governed, --That whenever any Form of Government becomes destructive of these ends, it is the Right of the People to alter or to abolish it, and to institute new Government, laying its foundation on such principles and organizing its powers in such form, as to them shall seem most likely to effect their Safety and Happiness. Prudence, indeed, will dictate that Governments long established should not be changed for light and transient causes; and accordingly all experience hath shewn, that mankind are more disposed to suffer, while evils are sufferable, than to right themselves by abolishing the forms to which they are accustomed. But when a long train of abuses and usurpations, pursuing invariably the same Object evinces a design to reduce them under absolute Despotism, it is their right, it is their duty, to throw off such Government, and to provide new Guards for their future security.--Such has been the patient sufferance of these Colonies; and such is now the necessity which constrains them to alter their former Systems of Government. The history of the present King of Great Britain is a history of repeated injuries and usurpations, all having in direct object the establishment of an absolute Tyranny over these States. To prove this, let Facts be submitted to a candid world.\\n', '\\n', 'He has refused his Assent to Laws, the most wholesome and necessary for the public good.\\n', '\\n', 'He has forbidden his Governors to pass Laws of immediate and pressing importance, unless suspended in their operation till his Assent should be obtained; and when so suspended, he has utterly neglected to attend to them.\\n', '\\n', 'He has refused to pass other Laws for the accommodation of large districts of people, unless those people would relinquish the right of Representation in the Legislature, a right inestimable to them and formidable to tyrants only.\\n', '\\n', 'He has called together legislative bodies at places unusual, uncomfortable, and distant from the depository of their public Records, for the sole purpose of fatiguing them into compliance with his measures.\\n', '\\n', 'He has dissolved Representative Houses repeatedly, for opposing with manly firmness his invasions on the rights of the people.\\n', '\\n', 'He has refused for a long time, after such dissolutions, to cause others to be elected; whereby the Legislative powers, incapable of Annihilation, have returned to the People at large for their exercise; the State remaining in the mean time exposed to all the dangers of invasion from without, and convulsions within.\\n', '\\n', 'He has endeavoured to prevent the population of these States; for that purpose obstructing the Laws for Naturalization of Foreigners; refusing to pass others to encourage their migrations hither, and raising the conditions of new Appropriations of Lands.\\n', '\\n', 'He has obstructed the Administration of Justice, by refusing his Assent to Laws for establishing Judiciary powers.\\n', '\\n', 'He has made Judges dependent on his Will alone, for the tenure of their offices, and the amount and payment of their salaries.\\n', '\\n', 'He has erected a multitude of New Offices, and sent hither swarms of Officers to harrass our people, and eat out their substance.\\n', '\\n', 'He has kept among us, in times of peace, Standing Armies without the Consent of our legislatures.\\n', '\\n', 'He has affected to render the Military independent of and superior to the Civil power.\\n', '\\n', 'He has combined with others to subject us to a jurisdiction foreign to our constitution, and unacknowledged by our laws; giving his Assent to their Acts of pretended Legislation:\\n', '\\n', 'For Quartering large bodies of armed troops among us:\\n', '\\n', 'For protecting them, by a mock Trial, from punishment for any Murders which they should commit on the Inhabitants of these States:\\n', '\\n', 'For cutting off our Trade with all parts of the world:\\n', '\\n', 'For imposing Taxes on us without our Consent:\\n', '\\n', 'For depriving us in many cases, of the benefits of Trial by Jury:\\n', '\\n', 'For transporting us beyond Seas to be tried for pretended offences\\n', '\\n', 'For abolishing the free System of English Laws in a neighbouring Province, establishing therein an Arbitrary government, and enlarging its Boundaries so as to render it at once an example and fit instrument for introducing the same absolute rule into these Colonies:\\n', '\\n', 'For taking away our Charters, abolishing our most valuable Laws, and altering fundamentally the Forms of our Governments:\\n', '\\n', 'For suspending our own Legislatures, and declaring themselves invested with power to legislate for us in all cases whatsoever.\\n', '\\n', 'He has abdicated Government here, by declaring us out of his Protection and waging War against us.\\n', '\\n', 'He has plundered our seas, ravaged our Coasts, burnt our towns, and destroyed the lives of our people.\\n', '\\n', 'He is at this time transporting large Armies of foreign Mercenaries to compleat the works of death, desolation and tyranny, already begun with circumstances of Cruelty & perfidy scarcely paralleled in the most barbarous ages, and totally unworthy the Head of a civilized nation.\\n', '\\n', 'He has constrained our fellow Citizens taken Captive on the high Seas to bear Arms against their Country, to become the executioners of their friends and Brethren, or to fall themselves by their Hands.\\n', '\\n', 'He has excited domestic insurrections amongst us, and has endeavoured to bring on the inhabitants of our frontiers, the merciless Indian Savages, whose known rule of warfare, is an undistinguished destruction of all ages, sexes and conditions.\\n', '\\n', 'In every stage of these Oppressions We have Petitioned for Redress in the most humble terms: Our repeated Petitions have been answered only by repeated injury. A Prince whose character is thus marked by every act which may define a Tyrant, is unfit to be the ruler of a free people.\\n', '\\n', 'Nor have We been wanting in attentions to our Brittish brethren. We have warned them from time to time of attempts by their legislature to extend an unwarrantable jurisdiction over us. We have reminded them of the circumstances of our emigration and settlement here. We have appealed to their native justice and magnanimity, and we have conjured them by the ties of our common kindred to disavow these usurpations, which, would inevitably interrupt our connections and correspondence. They too have been deaf to the voice of justice and of consanguinity. We must, therefore, acquiesce in the necessity, which denounces our Separation, and hold them, as we hold the rest of mankind, Enemies in War, in Peace Friends.\\n', '\\n', 'We, therefore, the Representatives of the United States of America, in General Congress, Assembled, appealing to the Supreme Judge of the world for the rectitude of our intentions, do, in the Name, and by Authority of the good People of these Colonies, solemnly publish and declare, That these United Colonies are, and of Right ought to be Free and Independent States; that they are Absolved from all Allegiance to the British Crown, and that all political connection between them and the State of Great Britain, is and ought to be totally dissolved; and that as Free and Independent States, they have full Power to levy War, conclude Peace, contract Alliances, establish Commerce, and to do all other Acts and Things which Independent States may of right do. And for the support of this Declaration, with a firm reliance on the protection of divine Providence, we mutually pledge to each other our Lives, our Fortunes and our sacred Honor.']\n",
      "[\"When in the Course of human events, it becomes necessary for one people to dissolve the political bands which have connected them with another, and to assume among the powers of the earth, the separate and equal station to which the Laws of Nature and of Nature's God entitle them, a decent respect to the opinions of mankind requires that they should declare the causes which impel them to the separation.\\n\", '\\n', 'We hold these truths to be self-evident, that all men are created equal, that they are endowed by their Creator with certain unalienable Rights, that among these are Life, Liberty and the pursuit of Happiness.--That to secure these rights, Governments are instituted among Men, deriving their just powers from the consent of the governed, --That whenever any Form of Government becomes destructive of these ends, it is the Right of the People to alter or to abolish it, and to institute new Government, laying its foundation on such principles and organizing its powers in such form, as to them shall seem most likely to effect their Safety and Happiness. Prudence, indeed, will dictate that Governments long established should not be changed for light and transient causes; and accordingly all experience hath shewn, that mankind are more disposed to suffer, while evils are sufferable, than to right themselves by abolishing the forms to which they are accustomed. But when a long train of abuses and usurpations, pursuing invariably the same Object evinces a design to reduce them under absolute Despotism, it is their right, it is their duty, to throw off such Government, and to provide new Guards for their future security.--Such has been the patient sufferance of these Colonies; and such is now the necessity which constrains them to alter their former Systems of Government. The history of the present King of Great Britain is a history of repeated injuries and usurpations, all having in direct object the establishment of an absolute Tyranny over these States. To prove this, let Facts be submitted to a candid world.\\n', '\\n', 'He has refused his Assent to Laws, the most wholesome and necessary for the public good.\\n', '\\n', 'He has forbidden his Governors to pass Laws of immediate and pressing importance, unless suspended in their operation till his Assent should be obtained; and when so suspended, he has utterly neglected to attend to them.\\n', '\\n', 'He has refused to pass other Laws for the accommodation of large districts of people, unless those people would relinquish the right of Representation in the Legislature, a right inestimable to them and formidable to tyrants only.\\n', '\\n', 'He has called together legislative bodies at places unusual, uncomfortable, and distant from the depository of their public Records, for the sole purpose of fatiguing them into compliance with his measures.\\n', '\\n', 'He has dissolved Representative Houses repeatedly, for opposing with manly firmness his invasions on the rights of the people.\\n', '\\n', 'He has refused for a long time, after such dissolutions, to cause others to be elected; whereby the Legislative powers, incapable of Annihilation, have returned to the People at large for their exercise; the State remaining in the mean time exposed to all the dangers of invasion from without, and convulsions within.\\n', '\\n', 'He has endeavoured to prevent the population of these States; for that purpose obstructing the Laws for Naturalization of Foreigners; refusing to pass others to encourage their migrations hither, and raising the conditions of new Appropriations of Lands.\\n', '\\n', 'He has obstructed the Administration of Justice, by refusing his Assent to Laws for establishing Judiciary powers.\\n', '\\n', 'He has made Judges dependent on his Will alone, for the tenure of their offices, and the amount and payment of their salaries.\\n', '\\n', 'He has erected a multitude of New Offices, and sent hither swarms of Officers to harrass our people, and eat out their substance.\\n', '\\n', 'He has kept among us, in times of peace, Standing Armies without the Consent of our legislatures.\\n', '\\n', 'He has affected to render the Military independent of and superior to the Civil power.\\n', '\\n', 'He has combined with others to subject us to a jurisdiction foreign to our constitution, and unacknowledged by our laws; giving his Assent to their Acts of pretended Legislation:\\n', '\\n', 'For Quartering large bodies of armed troops among us:\\n', '\\n', 'For protecting them, by a mock Trial, from punishment for any Murders which they should commit on the Inhabitants of these States:\\n', '\\n', 'For cutting off our Trade with all parts of the world:\\n', '\\n', 'For imposing Taxes on us without our Consent:\\n', '\\n', 'For depriving us in many cases, of the benefits of Trial by Jury:\\n', '\\n', 'For transporting us beyond Seas to be tried for pretended offences\\n', '\\n', 'For abolishing the free System of English Laws in a neighbouring Province, establishing therein an Arbitrary government, and enlarging its Boundaries so as to render it at once an example and fit instrument for introducing the same absolute rule into these Colonies:\\n', '\\n', 'For taking away our Charters, abolishing our most valuable Laws, and altering fundamentally the Forms of our Governments:\\n', '\\n', 'For suspending our own Legislatures, and declaring themselves invested with power to legislate for us in all cases whatsoever.\\n', '\\n', 'He has abdicated Government here, by declaring us out of his Protection and waging War against us.\\n', '\\n', 'He has plundered our seas, ravaged our Coasts, burnt our towns, and destroyed the lives of our people.\\n', '\\n', 'He is at this time transporting large Armies of foreign Mercenaries to compleat the works of death, desolation and tyranny, already begun with circumstances of Cruelty & perfidy scarcely paralleled in the most barbarous ages, and totally unworthy the Head of a civilized nation.\\n', '\\n', 'He has constrained our fellow Citizens taken Captive on the high Seas to bear Arms against their Country, to become the executioners of their friends and Brethren, or to fall themselves by their Hands.\\n', '\\n', 'He has excited domestic insurrections amongst us, and has endeavoured to bring on the inhabitants of our frontiers, the merciless Indian Savages, whose known rule of warfare, is an undistinguished destruction of all ages, sexes and conditions.\\n', '\\n', 'In every stage of these Oppressions We have Petitioned for Redress in the most humble terms: Our repeated Petitions have been answered only by repeated injury. A Prince whose character is thus marked by every act which may define a Tyrant, is unfit to be the ruler of a free people.\\n', '\\n', 'Nor have We been wanting in attentions to our Brittish brethren. We have warned them from time to time of attempts by their legislature to extend an unwarrantable jurisdiction over us. We have reminded them of the circumstances of our emigration and settlement here. We have appealed to their native justice and magnanimity, and we have conjured them by the ties of our common kindred to disavow these usurpations, which, would inevitably interrupt our connections and correspondence. They too have been deaf to the voice of justice and of consanguinity. We must, therefore, acquiesce in the necessity, which denounces our Separation, and hold them, as we hold the rest of mankind, Enemies in War, in Peace Friends.\\n', '\\n', 'We, therefore, the Representatives of the United States of America, in General Congress, Assembled, appealing to the Supreme Judge of the world for the rectitude of our intentions, do, in the Name, and by Authority of the good People of these Colonies, solemnly publish and declare, That these United Colonies are, and of Right ought to be Free and Independent States; that they are Absolved from all Allegiance to the British Crown, and that all political connection between them and the State of Great Britain, is and ought to be totally dissolved; and that as Free and Independent States, they have full Power to levy War, conclude Peace, contract Alliances, establish Commerce, and to do all other Acts and Things which Independent States may of right do. And for the support of this Declaration, with a firm reliance on the protection of divine Providence, we mutually pledge to each other our Lives, our Fortunes and our sacred Honor.']\n",
      "[\"When in the Course of human events, it becomes necessary for one people to dissolve the political bands which have connected them with another, and to assume among the powers of the earth, the separate and equal station to which the Laws of Nature and of Nature's God entitle them, a decent respect to the opinions of mankind requires that they should declare the causes which impel them to the separation.\\n\", '\\n', 'We hold these truths to be self-evident, that all men are created equal, that they are endowed by their Creator with certain unalienable Rights, that among these are Life, Liberty and the pursuit of Happiness.--That to secure these rights, Governments are instituted among Men, deriving their just powers from the consent of the governed, --That whenever any Form of Government becomes destructive of these ends, it is the Right of the People to alter or to abolish it, and to institute new Government, laying its foundation on such principles and organizing its powers in such form, as to them shall seem most likely to effect their Safety and Happiness. Prudence, indeed, will dictate that Governments long established should not be changed for light and transient causes; and accordingly all experience hath shewn, that mankind are more disposed to suffer, while evils are sufferable, than to right themselves by abolishing the forms to which they are accustomed. But when a long train of abuses and usurpations, pursuing invariably the same Object evinces a design to reduce them under absolute Despotism, it is their right, it is their duty, to throw off such Government, and to provide new Guards for their future security.--Such has been the patient sufferance of these Colonies; and such is now the necessity which constrains them to alter their former Systems of Government. The history of the present King of Great Britain is a history of repeated injuries and usurpations, all having in direct object the establishment of an absolute Tyranny over these States. To prove this, let Facts be submitted to a candid world.\\n', '\\n', 'He has refused his Assent to Laws, the most wholesome and necessary for the public good.\\n', '\\n', 'He has forbidden his Governors to pass Laws of immediate and pressing importance, unless suspended in their operation till his Assent should be obtained; and when so suspended, he has utterly neglected to attend to them.\\n', '\\n', 'He has refused to pass other Laws for the accommodation of large districts of people, unless those people would relinquish the right of Representation in the Legislature, a right inestimable to them and formidable to tyrants only.\\n', '\\n', 'He has called together legislative bodies at places unusual, uncomfortable, and distant from the depository of their public Records, for the sole purpose of fatiguing them into compliance with his measures.\\n', '\\n', 'He has dissolved Representative Houses repeatedly, for opposing with manly firmness his invasions on the rights of the people.\\n', '\\n', 'He has refused for a long time, after such dissolutions, to cause others to be elected; whereby the Legislative powers, incapable of Annihilation, have returned to the People at large for their exercise; the State remaining in the mean time exposed to all the dangers of invasion from without, and convulsions within.\\n', '\\n', 'He has endeavoured to prevent the population of these States; for that purpose obstructing the Laws for Naturalization of Foreigners; refusing to pass others to encourage their migrations hither, and raising the conditions of new Appropriations of Lands.\\n', '\\n', 'He has obstructed the Administration of Justice, by refusing his Assent to Laws for establishing Judiciary powers.\\n', '\\n', 'He has made Judges dependent on his Will alone, for the tenure of their offices, and the amount and payment of their salaries.\\n', '\\n', 'He has erected a multitude of New Offices, and sent hither swarms of Officers to harrass our people, and eat out their substance.\\n', '\\n', 'He has kept among us, in times of peace, Standing Armies without the Consent of our legislatures.\\n', '\\n', 'He has affected to render the Military independent of and superior to the Civil power.\\n', '\\n', 'He has combined with others to subject us to a jurisdiction foreign to our constitution, and unacknowledged by our laws; giving his Assent to their Acts of pretended Legislation:\\n', '\\n', 'For Quartering large bodies of armed troops among us:\\n', '\\n', 'For protecting them, by a mock Trial, from punishment for any Murders which they should commit on the Inhabitants of these States:\\n', '\\n', 'For cutting off our Trade with all parts of the world:\\n', '\\n', 'For imposing Taxes on us without our Consent:\\n', '\\n', 'For depriving us in many cases, of the benefits of Trial by Jury:\\n', '\\n', 'For transporting us beyond Seas to be tried for pretended offences\\n', '\\n', 'For abolishing the free System of English Laws in a neighbouring Province, establishing therein an Arbitrary government, and enlarging its Boundaries so as to render it at once an example and fit instrument for introducing the same absolute rule into these Colonies:\\n', '\\n', 'For taking away our Charters, abolishing our most valuable Laws, and altering fundamentally the Forms of our Governments:\\n', '\\n', 'For suspending our own Legislatures, and declaring themselves invested with power to legislate for us in all cases whatsoever.\\n', '\\n', 'He has abdicated Government here, by declaring us out of his Protection and waging War against us.\\n', '\\n', 'He has plundered our seas, ravaged our Coasts, burnt our towns, and destroyed the lives of our people.\\n', '\\n', 'He is at this time transporting large Armies of foreign Mercenaries to compleat the works of death, desolation and tyranny, already begun with circumstances of Cruelty & perfidy scarcely paralleled in the most barbarous ages, and totally unworthy the Head of a civilized nation.\\n', '\\n', 'He has constrained our fellow Citizens taken Captive on the high Seas to bear Arms against their Country, to become the executioners of their friends and Brethren, or to fall themselves by their Hands.\\n', '\\n', 'He has excited domestic insurrections amongst us, and has endeavoured to bring on the inhabitants of our frontiers, the merciless Indian Savages, whose known rule of warfare, is an undistinguished destruction of all ages, sexes and conditions.\\n', '\\n', 'In every stage of these Oppressions We have Petitioned for Redress in the most humble terms: Our repeated Petitions have been answered only by repeated injury. A Prince whose character is thus marked by every act which may define a Tyrant, is unfit to be the ruler of a free people.\\n', '\\n', 'Nor have We been wanting in attentions to our Brittish brethren. We have warned them from time to time of attempts by their legislature to extend an unwarrantable jurisdiction over us. We have reminded them of the circumstances of our emigration and settlement here. We have appealed to their native justice and magnanimity, and we have conjured them by the ties of our common kindred to disavow these usurpations, which, would inevitably interrupt our connections and correspondence. They too have been deaf to the voice of justice and of consanguinity. We must, therefore, acquiesce in the necessity, which denounces our Separation, and hold them, as we hold the rest of mankind, Enemies in War, in Peace Friends.\\n', '\\n', 'We, therefore, the Representatives of the United States of America, in General Congress, Assembled, appealing to the Supreme Judge of the world for the rectitude of our intentions, do, in the Name, and by Authority of the good People of these Colonies, solemnly publish and declare, That these United Colonies are, and of Right ought to be Free and Independent States; that they are Absolved from all Allegiance to the British Crown, and that all political connection between them and the State of Great Britain, is and ought to be totally dissolved; and that as Free and Independent States, they have full Power to levy War, conclude Peace, contract Alliances, establish Commerce, and to do all other Acts and Things which Independent States may of right do. And for the support of this Declaration, with a firm reliance on the protection of divine Providence, we mutually pledge to each other our Lives, our Fortunes and our sacred Honor.']\n"
     ]
    }
   ],
   "source": [
    "file=open('test2.txt','r')\n",
    "lineall = file.readlines()\n",
    "for line in lineall:\n",
    "    print(lineall)"
   ]
  },
  {
   "cell_type": "code",
   "execution_count": 2,
   "metadata": {
    "hidden": true
   },
   "outputs": [
    {
     "name": "stdout",
     "output_type": "stream",
     "text": [
      "When in the Course of human events, it becomes necessary for one people to dissolve the political bands which have connected them with another, and to assume among the powers of the earth, the separate and equal station to which the Laws of Nature and of Nature's God entitle them, a decent respect to the opinions of mankind requires that they should declare the causes which impel them to the separation.\n",
      "\n",
      "We hold these truths to be self-evident, that all men are created equal, that they are endowed by their Creator with certain unalienable Rights, that among these are Life, Liberty and the pursuit of Happiness.--That to secure these rights, Governments are instituted among Men, deriving their just powers from the consent of the governed, --That whenever any Form of Government becomes destructive of these ends, it is the Right of the People to alter or to abolish it, and to institute new Government, laying its foundation on such principles and organizing its powers in such form, as to them shall seem most likely to effect their Safety and Happiness. Prudence, indeed, will dictate that Governments long established should not be changed for light and transient causes; and accordingly all experience hath shewn, that mankind are more disposed to suffer, while evils are sufferable, than to right themselves by abolishing the forms to which they are accustomed. But when a long train of abuses and usurpations, pursuing invariably the same Object evinces a design to reduce them under absolute Despotism, it is their right, it is their duty, to throw off such Government, and to provide new Guards for their future security.--Such has been the patient sufferance of these Colonies; and such is now the necessity which constrains them to alter their former Systems of Government. The history of the present King of Great Britain is a history of repeated injuries and usurpations, all having in direct object the establishment of an absolute Tyranny over these States. To prove this, let Facts be submitted to a candid world.\n",
      "\n",
      "He has refused his Assent to Laws, the most wholesome and necessary for the public good.\n",
      "\n",
      "He has forbidden his Governors to pass Laws of immediate and pressing importance, unless suspended in their operation till his Assent should be obtained; and when so suspended, he has utterly neglected to attend to them.\n",
      "\n",
      "He has refused to pass other Laws for the accommodation of large districts of people, unless those people would relinquish the right of Representation in the Legislature, a right inestimable to them and formidable to tyrants only.\n",
      "\n",
      "He has called together legislative bodies at places unusual, uncomfortable, and distant from the depository of their public Records, for the sole purpose of fatiguing them into compliance with his measures.\n",
      "\n",
      "He has dissolved Representative Houses repeatedly, for opposing with manly firmness his invasions on the rights of the people.\n",
      "\n",
      "He has refused for a long time, after such dissolutions, to cause others to be elected; whereby the Legislative powers, incapable of Annihilation, have returned to the People at large for their exercise; the State remaining in the mean time exposed to all the dangers of invasion from without, and convulsions within.\n",
      "\n",
      "He has endeavoured to prevent the population of these States; for that purpose obstructing the Laws for Naturalization of Foreigners; refusing to pass others to encourage their migrations hither, and raising the conditions of new Appropriations of Lands.\n",
      "\n",
      "He has obstructed the Administration of Justice, by refusing his Assent to Laws for establishing Judiciary powers.\n",
      "\n",
      "He has made Judges dependent on his Will alone, for the tenure of their offices, and the amount and payment of their salaries.\n",
      "\n",
      "He has erected a multitude of New Offices, and sent hither swarms of Officers to harrass our people, and eat out their substance.\n",
      "\n",
      "He has kept among us, in times of peace, Standing Armies without the Consent of our legislatures.\n",
      "\n",
      "He has affected to render the Military independent of and superior to the Civil power.\n",
      "\n",
      "He has combined with others to subject us to a jurisdiction foreign to our constitution, and unacknowledged by our laws; giving his Assent to their Acts of pretended Legislation:\n",
      "\n",
      "For Quartering large bodies of armed troops among us:\n",
      "\n",
      "For protecting them, by a mock Trial, from punishment for any Murders which they should commit on the Inhabitants of these States:\n",
      "\n",
      "For cutting off our Trade with all parts of the world:\n",
      "\n",
      "For imposing Taxes on us without our Consent:\n",
      "\n",
      "For depriving us in many cases, of the benefits of Trial by Jury:\n",
      "\n",
      "For transporting us beyond Seas to be tried for pretended offences\n",
      "\n",
      "For abolishing the free System of English Laws in a neighbouring Province, establishing therein an Arbitrary government, and enlarging its Boundaries so as to render it at once an example and fit instrument for introducing the same absolute rule into these Colonies:\n",
      "\n",
      "For taking away our Charters, abolishing our most valuable Laws, and altering fundamentally the Forms of our Governments:\n",
      "\n",
      "For suspending our own Legislatures, and declaring themselves invested with power to legislate for us in all cases whatsoever.\n",
      "\n",
      "He has abdicated Government here, by declaring us out of his Protection and waging War against us.\n",
      "\n",
      "He has plundered our seas, ravaged our Coasts, burnt our towns, and destroyed the lives of our people.\n",
      "\n",
      "He is at this time transporting large Armies of foreign Mercenaries to compleat the works of death, desolation and tyranny, already begun with circumstances of Cruelty & perfidy scarcely paralleled in the most barbarous ages, and totally unworthy the Head of a civilized nation.\n",
      "\n",
      "He has constrained our fellow Citizens taken Captive on the high Seas to bear Arms against their Country, to become the executioners of their friends and Brethren, or to fall themselves by their Hands.\n",
      "\n",
      "He has excited domestic insurrections amongst us, and has endeavoured to bring on the inhabitants of our frontiers, the merciless Indian Savages, whose known rule of warfare, is an undistinguished destruction of all ages, sexes and conditions.\n",
      "\n",
      "In every stage of these Oppressions We have Petitioned for Redress in the most humble terms: Our repeated Petitions have been answered only by repeated injury. A Prince whose character is thus marked by every act which may define a Tyrant, is unfit to be the ruler of a free people.\n",
      "\n",
      "Nor have We been wanting in attentions to our Brittish brethren. We have warned them from time to time of attempts by their legislature to extend an unwarrantable jurisdiction over us. We have reminded them of the circumstances of our emigration and settlement here. We have appealed to their native justice and magnanimity, and we have conjured them by the ties of our common kindred to disavow these usurpations, which, would inevitably interrupt our connections and correspondence. They too have been deaf to the voice of justice and of consanguinity. We must, therefore, acquiesce in the necessity, which denounces our Separation, and hold them, as we hold the rest of mankind, Enemies in War, in Peace Friends.\n",
      "\n",
      "We, therefore, the Representatives of the United States of America, in General Congress, Assembled, appealing to the Supreme Judge of the world for the rectitude of our intentions, do, in the Name, and by Authority of the good People of these Colonies, solemnly publish and declare, That these United Colonies are, and of Right ought to be Free and Independent States; that they are Absolved from all Allegiance to the British Crown, and that all political connection between them and the State of Great Britain, is and ought to be totally dissolved; and that as Free and Independent States, they have full Power to levy War, conclude Peace, contract Alliances, establish Commerce, and to do all other Acts and Things which Independent States may of right do. And for the support of this Declaration, with a firm reliance on the protection of divine Providence, we mutually pledge to each other our Lives, our Fortunes and our sacred Honor.\n"
     ]
    }
   ],
   "source": [
    "file=open('test2.txt','r')\n",
    "data = file.read()\n",
    "print(data)"
   ]
  },
  {
   "cell_type": "code",
   "execution_count": 1,
   "metadata": {
    "hidden": true
   },
   "outputs": [
    {
     "data": {
      "text/plain": [
       "3.141592653589793"
      ]
     },
     "execution_count": 1,
     "metadata": {},
     "output_type": "execute_result"
    }
   ],
   "source": [
    "import math\n",
    "math.pi\n"
   ]
  },
  {
   "cell_type": "code",
   "execution_count": 42,
   "metadata": {
    "hidden": true
   },
   "outputs": [
    {
     "name": "stdout",
     "output_type": "stream",
     "text": [
      "13 7 30 3.3333333333333335 1000 1 3\n"
     ]
    }
   ],
   "source": [
    "a=10\n",
    "b=3\n",
    "sum=a+b\n",
    "sub=a-b\n",
    "mul=a*b\n",
    "div=a/b\n",
    "power=a**b\n",
    "remainder=a%b  # 나머지\n",
    "quotient=a//b  # 몫\n",
    "print(sum, sub, mul, div, power, remainder, quotient)"
   ]
  },
  {
   "cell_type": "code",
   "execution_count": 43,
   "metadata": {
    "hidden": true
   },
   "outputs": [
    {
     "data": {
      "text/plain": [
       "'\"Python is very easy.\" he says.'"
      ]
     },
     "execution_count": 43,
     "metadata": {},
     "output_type": "execute_result"
    }
   ],
   "source": [
    "say = \"\\\"Python is very easy.\\\" he says.\"\n",
    "say"
   ]
  },
  {
   "cell_type": "code",
   "execution_count": 44,
   "metadata": {
    "hidden": true
   },
   "outputs": [
    {
     "data": {
      "text/plain": [
       "'Python is fun!'"
      ]
     },
     "execution_count": 44,
     "metadata": {},
     "output_type": "execute_result"
    }
   ],
   "source": [
    "a = \"Python\"\n",
    "b = \" is fun!\"\n",
    "a+b"
   ]
  },
  {
   "cell_type": "code",
   "execution_count": 46,
   "metadata": {
    "hidden": true
   },
   "outputs": [
    {
     "data": {
      "text/plain": [
       "'pythonpython'"
      ]
     },
     "execution_count": 46,
     "metadata": {},
     "output_type": "execute_result"
    }
   ],
   "source": [
    "c = \"python\"\n",
    "c * 2"
   ]
  },
  {
   "cell_type": "code",
   "execution_count": 47,
   "metadata": {
    "hidden": true
   },
   "outputs": [
    {
     "name": "stdout",
     "output_type": "stream",
     "text": [
      "==================================================\n",
      "My Program\n",
      "==================================================\n"
     ]
    }
   ],
   "source": [
    "print(\"=\" * 50)\n",
    "print(\"My Program\")\n",
    "print(\"=\" * 50)"
   ]
  },
  {
   "cell_type": "code",
   "execution_count": 48,
   "metadata": {
    "hidden": true
   },
   "outputs": [
    {
     "data": {
      "text/plain": [
       "'I eat 3 apples.'"
      ]
     },
     "execution_count": 48,
     "metadata": {},
     "output_type": "execute_result"
    }
   ],
   "source": [
    "\"I eat %d apples.\" % 3"
   ]
  },
  {
   "cell_type": "code",
   "execution_count": 49,
   "metadata": {
    "hidden": true
   },
   "outputs": [
    {
     "data": {
      "text/plain": [
       "'I eat five apples.'"
      ]
     },
     "execution_count": 49,
     "metadata": {},
     "output_type": "execute_result"
    }
   ],
   "source": [
    "\"I eat %s apples.\" % \"five\""
   ]
  },
  {
   "cell_type": "code",
   "execution_count": 50,
   "metadata": {
    "hidden": true
   },
   "outputs": [
    {
     "data": {
      "text/plain": [
       "'I eat 3 apples.'"
      ]
     },
     "execution_count": 50,
     "metadata": {},
     "output_type": "execute_result"
    }
   ],
   "source": [
    "number = 3\n",
    "\"I eat %d apples.\" % number"
   ]
  },
  {
   "cell_type": "code",
   "execution_count": 51,
   "metadata": {
    "hidden": true
   },
   "outputs": [
    {
     "data": {
      "text/plain": [
       "'I ate 10 apples. so I was sick for three days.'"
      ]
     },
     "execution_count": 51,
     "metadata": {},
     "output_type": "execute_result"
    }
   ],
   "source": [
    "number = 10\n",
    "day = \"three\"\n",
    "\"I ate %d apples. so I was sick for %s days.\" % (number, day)"
   ]
  },
  {
   "cell_type": "code",
   "execution_count": 52,
   "metadata": {
    "hidden": true
   },
   "outputs": [
    {
     "data": {
      "text/plain": [
       "'I eat 3 apples'"
      ]
     },
     "execution_count": 52,
     "metadata": {},
     "output_type": "execute_result"
    }
   ],
   "source": [
    " \"I eat {0} apples\".format(3)"
   ]
  },
  {
   "cell_type": "code",
   "execution_count": 53,
   "metadata": {
    "hidden": true
   },
   "outputs": [
    {
     "data": {
      "text/plain": [
       "'I eat five apples'"
      ]
     },
     "execution_count": 53,
     "metadata": {},
     "output_type": "execute_result"
    }
   ],
   "source": [
    "\"I eat {0} apples\".format(\"five\")"
   ]
  },
  {
   "cell_type": "code",
   "execution_count": 54,
   "metadata": {
    "hidden": true
   },
   "outputs": [
    {
     "data": {
      "text/plain": [
       "'I eat 3 apples'"
      ]
     },
     "execution_count": 54,
     "metadata": {},
     "output_type": "execute_result"
    }
   ],
   "source": [
    "number = 3\n",
    "\"I eat {0} apples\".format(number)"
   ]
  },
  {
   "cell_type": "code",
   "execution_count": 55,
   "metadata": {
    "hidden": true
   },
   "outputs": [
    {
     "data": {
      "text/plain": [
       "'I ate 10 apples. so I was sick for three days.'"
      ]
     },
     "execution_count": 55,
     "metadata": {},
     "output_type": "execute_result"
    }
   ],
   "source": [
    "number = 10\n",
    "day = \"three\"\n",
    "\"I ate {0} apples. so I was sick for {1} days.\".format(number, day)"
   ]
  },
  {
   "cell_type": "code",
   "execution_count": 56,
   "metadata": {
    "hidden": true
   },
   "outputs": [
    {
     "data": {
      "text/plain": [
       "'I ate 10 apples. so I was sick for 3 days.'"
      ]
     },
     "execution_count": 56,
     "metadata": {},
     "output_type": "execute_result"
    }
   ],
   "source": [
    "\"I ate {number} apples. so I was sick for {day} days.\".format(number=10, day=3)"
   ]
  },
  {
   "cell_type": "code",
   "execution_count": null,
   "metadata": {
    "hidden": true
   },
   "outputs": [],
   "source": []
  },
  {
   "cell_type": "code",
   "execution_count": 57,
   "metadata": {
    "hidden": true
   },
   "outputs": [
    {
     "data": {
      "text/plain": [
       "['Life', 'is', 'too', 'short']"
      ]
     },
     "execution_count": 57,
     "metadata": {},
     "output_type": "execute_result"
    }
   ],
   "source": [
    "a = \"Life is too short\"\n",
    "a.split()"
   ]
  },
  {
   "cell_type": "code",
   "execution_count": 58,
   "metadata": {
    "hidden": true
   },
   "outputs": [
    {
     "data": {
      "text/plain": [
       "['a', 'b', 'c', 'd']"
      ]
     },
     "execution_count": 58,
     "metadata": {},
     "output_type": "execute_result"
    }
   ],
   "source": [
    " a = \"a:b:c:d\"\n",
    "a.split(':')"
   ]
  },
  {
   "cell_type": "code",
   "execution_count": 59,
   "metadata": {
    "hidden": true
   },
   "outputs": [
    {
     "data": {
      "text/plain": [
       "['2019', '03', '01']"
      ]
     },
     "execution_count": 59,
     "metadata": {},
     "output_type": "execute_result"
    }
   ],
   "source": [
    " a = \"2019-03-01\"\n",
    "a.split('-')"
   ]
  },
  {
   "cell_type": "code",
   "execution_count": 68,
   "metadata": {
    "hidden": true
   },
   "outputs": [
    {
     "data": {
      "text/plain": [
       "[1, 2, 3, 4]"
      ]
     },
     "execution_count": 68,
     "metadata": {},
     "output_type": "execute_result"
    }
   ],
   "source": [
    "a = [1, 2, 3,4]\n",
    "a"
   ]
  },
  {
   "cell_type": "code",
   "execution_count": 65,
   "metadata": {
    "hidden": true
   },
   "outputs": [
    {
     "data": {
      "text/plain": [
       "1"
      ]
     },
     "execution_count": 65,
     "metadata": {},
     "output_type": "execute_result"
    }
   ],
   "source": [
    "a[0]"
   ]
  },
  {
   "cell_type": "code",
   "execution_count": 66,
   "metadata": {
    "hidden": true
   },
   "outputs": [
    {
     "data": {
      "text/plain": [
       "3"
      ]
     },
     "execution_count": 66,
     "metadata": {},
     "output_type": "execute_result"
    }
   ],
   "source": [
    "a[2]"
   ]
  },
  {
   "cell_type": "code",
   "execution_count": 67,
   "metadata": {
    "hidden": true
   },
   "outputs": [
    {
     "data": {
      "text/plain": [
       "3"
      ]
     },
     "execution_count": 67,
     "metadata": {},
     "output_type": "execute_result"
    }
   ],
   "source": [
    "a[0]+a[1]"
   ]
  },
  {
   "cell_type": "code",
   "execution_count": 76,
   "metadata": {
    "hidden": true
   },
   "outputs": [],
   "source": [
    "a = [1, 2, 3, 4, 5]\n",
    "b = a[:2]\n",
    "c = a[2:]"
   ]
  },
  {
   "cell_type": "code",
   "execution_count": 70,
   "metadata": {
    "hidden": true
   },
   "outputs": [
    {
     "data": {
      "text/plain": [
       "[1, 2]"
      ]
     },
     "execution_count": 70,
     "metadata": {},
     "output_type": "execute_result"
    }
   ],
   "source": [
    "b"
   ]
  },
  {
   "cell_type": "code",
   "execution_count": 71,
   "metadata": {
    "hidden": true
   },
   "outputs": [
    {
     "data": {
      "text/plain": [
       "[3, 4, 5]"
      ]
     },
     "execution_count": 71,
     "metadata": {},
     "output_type": "execute_result"
    }
   ],
   "source": [
    "c"
   ]
  },
  {
   "cell_type": "code",
   "execution_count": 103,
   "metadata": {
    "hidden": true
   },
   "outputs": [
    {
     "data": {
      "text/plain": [
       "[1, 2, 3, 4, 5, 6]"
      ]
     },
     "execution_count": 103,
     "metadata": {},
     "output_type": "execute_result"
    }
   ],
   "source": [
    "a = [1, 2, 3] \n",
    "b = [4, 5, 6] \n",
    "a + b "
   ]
  },
  {
   "cell_type": "code",
   "execution_count": 104,
   "metadata": {
    "hidden": true
   },
   "outputs": [
    {
     "data": {
      "text/plain": [
       "['a', 'b', 'd', 'e', 'f']"
      ]
     },
     "execution_count": 104,
     "metadata": {},
     "output_type": "execute_result"
    }
   ],
   "source": [
    "갑 = ['a','b'] \n",
    "을 = ['d','e','f'] \n",
    "갑+을"
   ]
  },
  {
   "cell_type": "code",
   "execution_count": 81,
   "metadata": {
    "hidden": true
   },
   "outputs": [
    {
     "data": {
      "text/plain": [
       "[1, 2, 3, 1, 2, 3]"
      ]
     },
     "execution_count": 81,
     "metadata": {},
     "output_type": "execute_result"
    }
   ],
   "source": [
    "a = [1, 2, 3]\n",
    "a * 2"
   ]
  },
  {
   "cell_type": "code",
   "execution_count": 82,
   "metadata": {
    "hidden": true
   },
   "outputs": [
    {
     "ename": "TypeError",
     "evalue": "unsupported operand type(s) for +: 'int' and 'str'",
     "output_type": "error",
     "traceback": [
      "\u001b[1;31m---------------------------------------------------------------------------\u001b[0m",
      "\u001b[1;31mTypeError\u001b[0m                                 Traceback (most recent call last)",
      "\u001b[1;32m<ipython-input-82-9bd90c6cc040>\u001b[0m in \u001b[0;36m<module>\u001b[1;34m()\u001b[0m\n\u001b[0;32m      1\u001b[0m \u001b[0ma\u001b[0m \u001b[1;33m=\u001b[0m \u001b[1;33m[\u001b[0m\u001b[1;36m1\u001b[0m\u001b[1;33m,\u001b[0m \u001b[1;36m2\u001b[0m\u001b[1;33m,\u001b[0m \u001b[1;36m3\u001b[0m\u001b[1;33m]\u001b[0m\u001b[1;33m\u001b[0m\u001b[0m\n\u001b[1;32m----> 2\u001b[1;33m \u001b[0ma\u001b[0m\u001b[1;33m[\u001b[0m\u001b[1;36m2\u001b[0m\u001b[1;33m]\u001b[0m \u001b[1;33m+\u001b[0m \u001b[1;34m\"hi\"\u001b[0m\u001b[1;33m\u001b[0m\u001b[0m\n\u001b[0m",
      "\u001b[1;31mTypeError\u001b[0m: unsupported operand type(s) for +: 'int' and 'str'"
     ]
    }
   ],
   "source": [
    "a = [1, 2, 3]\n",
    "a[2] + \"hi\""
   ]
  },
  {
   "cell_type": "code",
   "execution_count": 83,
   "metadata": {
    "hidden": true
   },
   "outputs": [
    {
     "data": {
      "text/plain": [
       "'3hi'"
      ]
     },
     "execution_count": 83,
     "metadata": {},
     "output_type": "execute_result"
    }
   ],
   "source": [
    "a = [1, 2, 3]\n",
    "str(a[2]) + \"hi\""
   ]
  },
  {
   "cell_type": "code",
   "execution_count": null,
   "metadata": {
    "hidden": true
   },
   "outputs": [],
   "source": []
  },
  {
   "cell_type": "code",
   "execution_count": 84,
   "metadata": {
    "hidden": true
   },
   "outputs": [
    {
     "data": {
      "text/plain": [
       "[1, 2, 3, 'b', 'c']"
      ]
     },
     "execution_count": 84,
     "metadata": {},
     "output_type": "execute_result"
    }
   ],
   "source": [
    "a = [1, 2, 3, 'a', 'b', 'c']\n",
    "a.remove('a')\n",
    "a"
   ]
  },
  {
   "cell_type": "code",
   "execution_count": 85,
   "metadata": {
    "hidden": true
   },
   "outputs": [
    {
     "data": {
      "text/plain": [
       "[1, 2, 3, 'a', 'c']"
      ]
     },
     "execution_count": 85,
     "metadata": {},
     "output_type": "execute_result"
    }
   ],
   "source": [
    "a = [1, 2, 3, 'a', 'b', 'c']\n",
    "a.pop(4)\n",
    "a"
   ]
  },
  {
   "cell_type": "code",
   "execution_count": 87,
   "metadata": {
    "hidden": true
   },
   "outputs": [
    {
     "data": {
      "text/plain": [
       "[1, 2, 3, 'a', 'c']"
      ]
     },
     "execution_count": 87,
     "metadata": {},
     "output_type": "execute_result"
    }
   ],
   "source": [
    "a = [1, 2, 3, 'a', 'b', 'c']\n",
    "del a[4]\n",
    "a"
   ]
  },
  {
   "cell_type": "code",
   "execution_count": 88,
   "metadata": {
    "hidden": true
   },
   "outputs": [
    {
     "data": {
      "text/plain": [
       "[1, 2, 4]"
      ]
     },
     "execution_count": 88,
     "metadata": {},
     "output_type": "execute_result"
    }
   ],
   "source": [
    "a = [1, 2, 3]\n",
    "a[2] = 4\n",
    "a"
   ]
  },
  {
   "cell_type": "code",
   "execution_count": 89,
   "metadata": {
    "hidden": true
   },
   "outputs": [
    {
     "data": {
      "text/plain": [
       "[1, 'a', 'b', 'c', 3]"
      ]
     },
     "execution_count": 89,
     "metadata": {},
     "output_type": "execute_result"
    }
   ],
   "source": [
    "a = [1, 2, 3]\n",
    "a[1:2] = ['a', 'b', 'c']\n",
    "a"
   ]
  },
  {
   "cell_type": "code",
   "execution_count": 90,
   "metadata": {
    "hidden": true
   },
   "outputs": [
    {
     "data": {
      "text/plain": [
       "[1, ['a', 'b', 'c'], 3]"
      ]
     },
     "execution_count": 90,
     "metadata": {},
     "output_type": "execute_result"
    }
   ],
   "source": [
    "a = [1, 2, 3]\n",
    "a[1] = ['a', 'b', 'c']\n",
    "a"
   ]
  },
  {
   "cell_type": "code",
   "execution_count": 92,
   "metadata": {
    "hidden": true
   },
   "outputs": [
    {
     "data": {
      "text/plain": [
       "[1, 2, 3, 4]"
      ]
     },
     "execution_count": 92,
     "metadata": {},
     "output_type": "execute_result"
    }
   ],
   "source": [
    "a = [1, 2, 3]\n",
    "a.append(4)\n",
    "a"
   ]
  },
  {
   "cell_type": "code",
   "execution_count": 93,
   "metadata": {
    "hidden": true
   },
   "outputs": [
    {
     "data": {
      "text/plain": [
       "[1, 2, 3, 4, 5]"
      ]
     },
     "execution_count": 93,
     "metadata": {},
     "output_type": "execute_result"
    }
   ],
   "source": [
    "a = [1,2,3]\n",
    "a.extend([4,5])\n",
    "a"
   ]
  },
  {
   "cell_type": "code",
   "execution_count": 95,
   "metadata": {
    "hidden": true
   },
   "outputs": [
    {
     "data": {
      "text/plain": [
       "[4, 1, 2, 3]"
      ]
     },
     "execution_count": 95,
     "metadata": {},
     "output_type": "execute_result"
    }
   ],
   "source": [
    "a = [1, 2, 3]\n",
    "a.insert(0, 4)\n",
    "a"
   ]
  },
  {
   "cell_type": "code",
   "execution_count": 96,
   "metadata": {
    "hidden": true
   },
   "outputs": [
    {
     "data": {
      "text/plain": [
       "[1, 2, 3, 4]"
      ]
     },
     "execution_count": 96,
     "metadata": {},
     "output_type": "execute_result"
    }
   ],
   "source": [
    "a = [1, 4, 3, 2]\n",
    "a.sort()\n",
    "a"
   ]
  },
  {
   "cell_type": "code",
   "execution_count": null,
   "metadata": {
    "hidden": true
   },
   "outputs": [],
   "source": []
  },
  {
   "cell_type": "code",
   "execution_count": 97,
   "metadata": {
    "hidden": true
   },
   "outputs": [
    {
     "data": {
      "text/plain": [
       "['b', 'c', 'a']"
      ]
     },
     "execution_count": 97,
     "metadata": {},
     "output_type": "execute_result"
    }
   ],
   "source": [
    "a = ['a', 'c', 'b']\n",
    "a.reverse()\n",
    "a"
   ]
  },
  {
   "cell_type": "code",
   "execution_count": 98,
   "metadata": {
    "hidden": true
   },
   "outputs": [
    {
     "data": {
      "text/plain": [
       "3"
      ]
     },
     "execution_count": 98,
     "metadata": {},
     "output_type": "execute_result"
    }
   ],
   "source": [
    "a = [1,2,3,5,7]\n",
    "a.index(5)"
   ]
  },
  {
   "cell_type": "code",
   "execution_count": null,
   "metadata": {
    "hidden": true
   },
   "outputs": [],
   "source": []
  },
  {
   "cell_type": "code",
   "execution_count": 105,
   "metadata": {
    "hidden": true
   },
   "outputs": [
    {
     "data": {
      "text/plain": [
       "(1, 2, 'a', 'b', 3, 4)"
      ]
     },
     "execution_count": 105,
     "metadata": {},
     "output_type": "execute_result"
    }
   ],
   "source": [
    "t1 = (1, 2, 'a', 'b')\n",
    "t2 = (3, 4)\n",
    "t1 + t2"
   ]
  },
  {
   "cell_type": "code",
   "execution_count": 106,
   "metadata": {
    "hidden": true
   },
   "outputs": [
    {
     "data": {
      "text/plain": [
       "(3, 4, 3, 4, 3, 4)"
      ]
     },
     "execution_count": 106,
     "metadata": {},
     "output_type": "execute_result"
    }
   ],
   "source": [
    "t2 * 3"
   ]
  },
  {
   "cell_type": "code",
   "execution_count": 107,
   "metadata": {
    "hidden": true
   },
   "outputs": [
    {
     "data": {
      "text/plain": [
       "'a'"
      ]
     },
     "execution_count": 107,
     "metadata": {},
     "output_type": "execute_result"
    }
   ],
   "source": [
    "t1[2]"
   ]
  },
  {
   "cell_type": "code",
   "execution_count": 108,
   "metadata": {
    "hidden": true
   },
   "outputs": [
    {
     "ename": "TypeError",
     "evalue": "'tuple' object doesn't support item deletion",
     "output_type": "error",
     "traceback": [
      "\u001b[1;31m---------------------------------------------------------------------------\u001b[0m",
      "\u001b[1;31mTypeError\u001b[0m                                 Traceback (most recent call last)",
      "\u001b[1;32m<ipython-input-108-31d7e764eb3e>\u001b[0m in \u001b[0;36m<module>\u001b[1;34m()\u001b[0m\n\u001b[0;32m      1\u001b[0m \u001b[0mt3\u001b[0m \u001b[1;33m=\u001b[0m \u001b[1;33m(\u001b[0m\u001b[1;36m1\u001b[0m\u001b[1;33m,\u001b[0m \u001b[1;36m2\u001b[0m\u001b[1;33m,\u001b[0m \u001b[1;34m'a'\u001b[0m\u001b[1;33m,\u001b[0m \u001b[1;34m'b'\u001b[0m\u001b[1;33m)\u001b[0m\u001b[1;33m\u001b[0m\u001b[0m\n\u001b[1;32m----> 2\u001b[1;33m \u001b[1;32mdel\u001b[0m \u001b[0mt3\u001b[0m\u001b[1;33m[\u001b[0m\u001b[1;36m0\u001b[0m\u001b[1;33m]\u001b[0m\u001b[1;33m\u001b[0m\u001b[0m\n\u001b[0m",
      "\u001b[1;31mTypeError\u001b[0m: 'tuple' object doesn't support item deletion"
     ]
    }
   ],
   "source": [
    "t3 = (1, 2, 'a', 'b')\n",
    "del t3[0]"
   ]
  },
  {
   "cell_type": "code",
   "execution_count": 109,
   "metadata": {
    "hidden": true
   },
   "outputs": [
    {
     "ename": "TypeError",
     "evalue": "'tuple' object does not support item assignment",
     "output_type": "error",
     "traceback": [
      "\u001b[1;31m---------------------------------------------------------------------------\u001b[0m",
      "\u001b[1;31mTypeError\u001b[0m                                 Traceback (most recent call last)",
      "\u001b[1;32m<ipython-input-109-ffad7a17908b>\u001b[0m in \u001b[0;36m<module>\u001b[1;34m()\u001b[0m\n\u001b[1;32m----> 1\u001b[1;33m \u001b[0mt3\u001b[0m\u001b[1;33m[\u001b[0m\u001b[1;36m2\u001b[0m\u001b[1;33m]\u001b[0m\u001b[1;33m=\u001b[0m\u001b[1;34m'c'\u001b[0m\u001b[1;33m\u001b[0m\u001b[0m\n\u001b[0m",
      "\u001b[1;31mTypeError\u001b[0m: 'tuple' object does not support item assignment"
     ]
    }
   ],
   "source": [
    "t3[2]='c'"
   ]
  },
  {
   "cell_type": "code",
   "execution_count": 114,
   "metadata": {
    "hidden": true
   },
   "outputs": [
    {
     "data": {
      "text/plain": [
       "{'김연아': '97', '박지성': '90', '손흥민': '85'}"
      ]
     },
     "execution_count": 114,
     "metadata": {},
     "output_type": "execute_result"
    }
   ],
   "source": [
    "dic1 = {'김연아':'97', '박지성':'90', '손흥민': '85'}\n",
    "dic1"
   ]
  },
  {
   "cell_type": "code",
   "execution_count": 115,
   "metadata": {
    "hidden": true
   },
   "outputs": [
    {
     "data": {
      "text/plain": [
       "'85'"
      ]
     },
     "execution_count": 115,
     "metadata": {},
     "output_type": "execute_result"
    }
   ],
   "source": [
    "dic1['손흥민']"
   ]
  },
  {
   "cell_type": "code",
   "execution_count": 116,
   "metadata": {
    "hidden": true
   },
   "outputs": [
    {
     "data": {
      "text/plain": [
       "'97'"
      ]
     },
     "execution_count": 116,
     "metadata": {},
     "output_type": "execute_result"
    }
   ],
   "source": [
    "dic1['김연아']"
   ]
  },
  {
   "cell_type": "code",
   "execution_count": 132,
   "metadata": {
    "hidden": true
   },
   "outputs": [
    {
     "data": {
      "text/plain": [
       "{'김연아': '97'}"
      ]
     },
     "execution_count": 132,
     "metadata": {},
     "output_type": "execute_result"
    }
   ],
   "source": [
    "dic2 = {'김연아':'97'}\n",
    "dic2"
   ]
  },
  {
   "cell_type": "code",
   "execution_count": 133,
   "metadata": {
    "hidden": true
   },
   "outputs": [
    {
     "data": {
      "text/plain": [
       "{'김연아': '97', '박지성': 90}"
      ]
     },
     "execution_count": 133,
     "metadata": {},
     "output_type": "execute_result"
    }
   ],
   "source": [
    "dic2['박지성']=90\n",
    "dic2"
   ]
  },
  {
   "cell_type": "code",
   "execution_count": 134,
   "metadata": {
    "hidden": true
   },
   "outputs": [
    {
     "data": {
      "text/plain": [
       "{'김연아': '97', '박지성': 90, '손흥민': 85}"
      ]
     },
     "execution_count": 134,
     "metadata": {},
     "output_type": "execute_result"
    }
   ],
   "source": [
    "dic2['손흥민']=85\n",
    "dic2"
   ]
  },
  {
   "cell_type": "code",
   "execution_count": 135,
   "metadata": {
    "hidden": true
   },
   "outputs": [
    {
     "data": {
      "text/plain": [
       "dict_keys(['김연아', '박지성', '손흥민'])"
      ]
     },
     "execution_count": 135,
     "metadata": {},
     "output_type": "execute_result"
    }
   ],
   "source": [
    "dic2.keys()"
   ]
  },
  {
   "cell_type": "code",
   "execution_count": 136,
   "metadata": {
    "hidden": true
   },
   "outputs": [
    {
     "data": {
      "text/plain": [
       "dict_values(['97', 90, 85])"
      ]
     },
     "execution_count": 136,
     "metadata": {},
     "output_type": "execute_result"
    }
   ],
   "source": [
    "dic2.values()"
   ]
  },
  {
   "cell_type": "code",
   "execution_count": 137,
   "metadata": {
    "hidden": true
   },
   "outputs": [
    {
     "data": {
      "text/plain": [
       "dict_items([('김연아', '97'), ('박지성', 90), ('손흥민', 85)])"
      ]
     },
     "execution_count": 137,
     "metadata": {},
     "output_type": "execute_result"
    }
   ],
   "source": [
    "dic2.items()"
   ]
  },
  {
   "cell_type": "code",
   "execution_count": 142,
   "metadata": {
    "hidden": true
   },
   "outputs": [
    {
     "data": {
      "text/plain": [
       "'97'"
      ]
     },
     "execution_count": 142,
     "metadata": {},
     "output_type": "execute_result"
    }
   ],
   "source": [
    "dic = {'김연아':'97', '박지성':'90', '손흥민': '85'}\n",
    "dic.get('김연아')"
   ]
  },
  {
   "cell_type": "code",
   "execution_count": 145,
   "metadata": {
    "hidden": true
   },
   "outputs": [
    {
     "data": {
      "text/plain": [
       "True"
      ]
     },
     "execution_count": 145,
     "metadata": {},
     "output_type": "execute_result"
    }
   ],
   "source": [
    "dic = {'김연아':'97', '박지성':'90', '손흥민': '85'}\n",
    "\"김연아\" in dic"
   ]
  },
  {
   "cell_type": "code",
   "execution_count": 146,
   "metadata": {
    "hidden": true
   },
   "outputs": [
    {
     "data": {
      "text/plain": [
       "False"
      ]
     },
     "execution_count": 146,
     "metadata": {},
     "output_type": "execute_result"
    }
   ],
   "source": [
    "'박항서' in dic"
   ]
  },
  {
   "cell_type": "code",
   "execution_count": 139,
   "metadata": {
    "hidden": true
   },
   "outputs": [
    {
     "data": {
      "text/plain": [
       "{}"
      ]
     },
     "execution_count": 139,
     "metadata": {},
     "output_type": "execute_result"
    }
   ],
   "source": [
    "dic2.clear()\n",
    "dic2"
   ]
  },
  {
   "cell_type": "code",
   "execution_count": 129,
   "metadata": {
    "hidden": true
   },
   "outputs": [
    {
     "data": {
      "text/plain": [
       "{'박지성': 90, '손흥민': 85}"
      ]
     },
     "execution_count": 129,
     "metadata": {},
     "output_type": "execute_result"
    }
   ],
   "source": [
    "del dic2['김연아']\n",
    "dic2"
   ]
  },
  {
   "cell_type": "code",
   "execution_count": null,
   "metadata": {
    "hidden": true
   },
   "outputs": [],
   "source": []
  },
  {
   "cell_type": "code",
   "execution_count": 147,
   "metadata": {
    "hidden": true
   },
   "outputs": [
    {
     "data": {
      "text/plain": [
       "{1, 2, 3, 4, 5}"
      ]
     },
     "execution_count": 147,
     "metadata": {},
     "output_type": "execute_result"
    }
   ],
   "source": [
    "s1 = set([1,2,3,4,5,5])\n",
    "s1"
   ]
  },
  {
   "cell_type": "code",
   "execution_count": 148,
   "metadata": {
    "hidden": true
   },
   "outputs": [
    {
     "data": {
      "text/plain": [
       "{'나', '바'}"
      ]
     },
     "execution_count": 148,
     "metadata": {},
     "output_type": "execute_result"
    }
   ],
   "source": [
    "s2 = set('바나나')\n",
    "s2"
   ]
  },
  {
   "cell_type": "code",
   "execution_count": 149,
   "metadata": {
    "hidden": true
   },
   "outputs": [
    {
     "data": {
      "text/plain": [
       "{'e', 'h', 'l', 'n', 'o', 's', 'u', 'v'}"
      ]
     },
     "execution_count": 149,
     "metadata": {},
     "output_type": "execute_result"
    }
   ],
   "source": [
    "s3 = set('hellovenus')\n",
    "s3"
   ]
  },
  {
   "cell_type": "code",
   "execution_count": 151,
   "metadata": {
    "hidden": true
   },
   "outputs": [],
   "source": [
    "s1 = set([1, 2, 3, 4, 5, 6])\n",
    "s2 = set([4, 5, 6, 7, 8, 9])"
   ]
  },
  {
   "cell_type": "code",
   "execution_count": 152,
   "metadata": {
    "hidden": true
   },
   "outputs": [
    {
     "data": {
      "text/plain": [
       "{4, 5, 6}"
      ]
     },
     "execution_count": 152,
     "metadata": {},
     "output_type": "execute_result"
    }
   ],
   "source": [
    "s1 & s2"
   ]
  },
  {
   "cell_type": "code",
   "execution_count": 153,
   "metadata": {
    "hidden": true
   },
   "outputs": [
    {
     "data": {
      "text/plain": [
       "{1, 2, 3, 4, 5, 6, 7, 8, 9}"
      ]
     },
     "execution_count": 153,
     "metadata": {},
     "output_type": "execute_result"
    }
   ],
   "source": [
    "s1 | s2"
   ]
  },
  {
   "cell_type": "code",
   "execution_count": 154,
   "metadata": {
    "hidden": true
   },
   "outputs": [
    {
     "data": {
      "text/plain": [
       "{1, 2, 3}"
      ]
     },
     "execution_count": 154,
     "metadata": {},
     "output_type": "execute_result"
    }
   ],
   "source": [
    "s1- s2"
   ]
  },
  {
   "cell_type": "code",
   "execution_count": 156,
   "metadata": {
    "hidden": true
   },
   "outputs": [
    {
     "data": {
      "text/plain": [
       "{1, 2, 3, 4}"
      ]
     },
     "execution_count": 156,
     "metadata": {},
     "output_type": "execute_result"
    }
   ],
   "source": [
    "s1 = set([1, 2, 3])\n",
    "s1.add(4)\n",
    "s1"
   ]
  },
  {
   "cell_type": "code",
   "execution_count": 157,
   "metadata": {
    "hidden": true
   },
   "outputs": [
    {
     "data": {
      "text/plain": [
       "{1, 2, 3, 4, 5, 6}"
      ]
     },
     "execution_count": 157,
     "metadata": {},
     "output_type": "execute_result"
    }
   ],
   "source": [
    "s1 = set([1, 2, 3])\n",
    "s1.update([4, 5, 6])\n",
    "s1"
   ]
  },
  {
   "cell_type": "code",
   "execution_count": null,
   "metadata": {
    "hidden": true
   },
   "outputs": [],
   "source": []
  },
  {
   "cell_type": "code",
   "execution_count": null,
   "metadata": {
    "hidden": true
   },
   "outputs": [],
   "source": []
  },
  {
   "cell_type": "code",
   "execution_count": 68,
   "metadata": {
    "hidden": true
   },
   "outputs": [
    {
     "data": {
      "text/plain": [
       "{'Chris': '555-1111', 'Katie': '555-2222', 'Joanne': '555-3333'}"
      ]
     },
     "execution_count": 68,
     "metadata": {},
     "output_type": "execute_result"
    }
   ],
   "source": [
    "phonebook = {'Chris' : '555-1111',  'Katie' : '555-2222',  'Joanne' : '555-3333'} \n",
    "phonebook"
   ]
  },
  {
   "cell_type": "code",
   "execution_count": 69,
   "metadata": {
    "hidden": true
   },
   "outputs": [
    {
     "data": {
      "text/plain": [
       "'555-1111'"
      ]
     },
     "execution_count": 69,
     "metadata": {},
     "output_type": "execute_result"
    }
   ],
   "source": [
    "# To retrieve a value from a dictionary\n",
    "phonebook['Chris']"
   ]
  },
  {
   "cell_type": "code",
   "execution_count": 74,
   "metadata": {
    "hidden": true
   },
   "outputs": [
    {
     "name": "stdout",
     "output_type": "stream",
     "text": [
      "555-1111\n"
     ]
    }
   ],
   "source": [
    "# Using the in and not in Operators to Test for a Value in a Dictionary\n",
    "\n",
    "if 'Chris' in phonebook: \n",
    "    print(phonebook['Chris'])"
   ]
  },
  {
   "cell_type": "code",
   "execution_count": 75,
   "metadata": {
    "hidden": true
   },
   "outputs": [
    {
     "name": "stdout",
     "output_type": "stream",
     "text": [
      "Joan is not found.\n"
     ]
    }
   ],
   "source": [
    "if 'Joan' not in phonebook: \n",
    "    print('Joan is not found.')"
   ]
  },
  {
   "cell_type": "code",
   "execution_count": 77,
   "metadata": {
    "hidden": true
   },
   "outputs": [
    {
     "data": {
      "text/plain": [
       "{'Chris': '555-1111',\n",
       " 'Katie': '555-2222',\n",
       " 'Joanne': '555-3333',\n",
       " 'Mike': '555-4444'}"
      ]
     },
     "execution_count": 77,
     "metadata": {},
     "output_type": "execute_result"
    }
   ],
   "source": [
    "# Adding Elements to an Existing Dictionary\n",
    "phonebook['Mike'] = '555-4444'\n",
    "phonebook"
   ]
  },
  {
   "cell_type": "code",
   "execution_count": 78,
   "metadata": {
    "hidden": true
   },
   "outputs": [
    {
     "data": {
      "text/plain": [
       "{'Katie': '555-2222', 'Joanne': '555-3333', 'Mike': '555-4444'}"
      ]
     },
     "execution_count": 78,
     "metadata": {},
     "output_type": "execute_result"
    }
   ],
   "source": [
    "# Deleting Elements\n",
    "del phonebook['Chris']\n",
    "phonebook"
   ]
  },
  {
   "cell_type": "code",
   "execution_count": null,
   "metadata": {
    "hidden": true
   },
   "outputs": [],
   "source": []
  },
  {
   "cell_type": "code",
   "execution_count": 79,
   "metadata": {
    "hidden": true
   },
   "outputs": [
    {
     "data": {
      "text/plain": [
       "{'Kayla': [88, 92, 100],\n",
       " 'Luis': [95, 74, 81],\n",
       " 'Sophie': [72, 88, 91],\n",
       " 'Ethan': [70, 75, 78]}"
      ]
     },
     "execution_count": 79,
     "metadata": {},
     "output_type": "execute_result"
    }
   ],
   "source": [
    "# Mixing Data Types in a Dictionary\n",
    "test_scores = { 'Kayla' : [88, 92, 100],  'Luis' : [95, 74, 81],  'Sophie' : [72, 88, 91],  'Ethan' : [70, 75, 78] }\n",
    "test_scores"
   ]
  },
  {
   "cell_type": "code",
   "execution_count": 80,
   "metadata": {
    "hidden": true
   },
   "outputs": [
    {
     "data": {
      "text/plain": [
       "{}"
      ]
     },
     "execution_count": 80,
     "metadata": {},
     "output_type": "execute_result"
    }
   ],
   "source": [
    "phonebook.clear()\n",
    "phonebook"
   ]
  },
  {
   "cell_type": "code",
   "execution_count": 82,
   "metadata": {
    "hidden": true
   },
   "outputs": [
    {
     "data": {
      "text/plain": [
       "'555-2222'"
      ]
     },
     "execution_count": 82,
     "metadata": {},
     "output_type": "execute_result"
    }
   ],
   "source": [
    "phonebook = {'Chris' : '555-1111',  'Katie' : '555-2222',  'Joanne' : '555-3333'} \n",
    "value = phonebook.get('Katie', 'Entry not found')\n",
    "value"
   ]
  },
  {
   "cell_type": "code",
   "execution_count": 83,
   "metadata": {
    "hidden": true
   },
   "outputs": [
    {
     "data": {
      "text/plain": [
       "'Entry not found'"
      ]
     },
     "execution_count": 83,
     "metadata": {},
     "output_type": "execute_result"
    }
   ],
   "source": [
    "phonebook = {'Chris' : '555-1111',  'Katie' : '555-2222',  'Joanne' : '555-3333'} \n",
    "value = phonebook.get('Mike', 'Entry not found')\n",
    "value"
   ]
  },
  {
   "cell_type": "code",
   "execution_count": 86,
   "metadata": {
    "hidden": true
   },
   "outputs": [
    {
     "data": {
      "text/plain": [
       "dict_items([('Chris', '555-1111'), ('Katie', '555-2222'), ('Joanne', '555-3333')])"
      ]
     },
     "execution_count": 86,
     "metadata": {},
     "output_type": "execute_result"
    }
   ],
   "source": [
    "phonebook = {'Chris' : '555-1111',  'Katie' : '555-2222',  'Joanne' : '555-3333'} \n",
    "phonebook.items()"
   ]
  },
  {
   "cell_type": "code",
   "execution_count": 85,
   "metadata": {
    "hidden": true
   },
   "outputs": [
    {
     "name": "stdout",
     "output_type": "stream",
     "text": [
      "Chris 555-1111\n",
      "Katie 555-2222\n",
      "Joanne 555-3333\n"
     ]
    }
   ],
   "source": [
    "phonebook = {'Chris' : '555-1111',  'Katie' : '555-2222',  'Joanne' : '555-3333'} \n",
    "\n",
    "for key, value in phonebook.items(): \n",
    "    print(key, value)"
   ]
  },
  {
   "cell_type": "code",
   "execution_count": 87,
   "metadata": {
    "hidden": true
   },
   "outputs": [
    {
     "data": {
      "text/plain": [
       "dict_keys(['Chris', 'Katie', 'Joanne'])"
      ]
     },
     "execution_count": 87,
     "metadata": {},
     "output_type": "execute_result"
    }
   ],
   "source": [
    "phonebook = {'Chris' : '555-1111',  'Katie' : '555-2222',  'Joanne' : '555-3333'} \n",
    "phonebook.keys()"
   ]
  },
  {
   "cell_type": "code",
   "execution_count": 88,
   "metadata": {
    "hidden": true
   },
   "outputs": [
    {
     "name": "stdout",
     "output_type": "stream",
     "text": [
      "Chris\n",
      "Katie\n",
      "Joanne\n"
     ]
    }
   ],
   "source": [
    "phonebook = {'Chris' : '555-1111',  'Katie' : '555-2222',  'Joanne' : '555-3333'} \n",
    "\n",
    "for key in phonebook.keys(): \n",
    "    print(key)"
   ]
  },
  {
   "cell_type": "code",
   "execution_count": 1,
   "metadata": {
    "hidden": true
   },
   "outputs": [
    {
     "name": "stdout",
     "output_type": "stream",
     "text": [
      "Chris 555-1111\n",
      "Katie 555-2222\n",
      "Joanne 555-3333\n"
     ]
    }
   ],
   "source": [
    "phonebook = {'Chris' : '555-1111',  'Katie' : '555-2222',  'Joanne' : '555-3333'} \n",
    "for key in phonebook: \n",
    "     print(key, phonebook[key])"
   ]
  },
  {
   "cell_type": "code",
   "execution_count": 93,
   "metadata": {
    "hidden": true
   },
   "outputs": [
    {
     "data": {
      "text/plain": [
       "dict_values(['555-1111', '555-2222', '555-3333'])"
      ]
     },
     "execution_count": 93,
     "metadata": {},
     "output_type": "execute_result"
    }
   ],
   "source": [
    "phonebook = {'Chris' : '555-1111',  'Katie' : '555-2222',  'Joanne' : '555-3333'} \n",
    "phonebook.values()"
   ]
  },
  {
   "cell_type": "code",
   "execution_count": 94,
   "metadata": {
    "hidden": true
   },
   "outputs": [
    {
     "name": "stdout",
     "output_type": "stream",
     "text": [
      "555-1111\n",
      "555-2222\n",
      "555-3333\n"
     ]
    }
   ],
   "source": [
    "phonebook = {'Chris' : '555-1111',  'Katie' : '555-2222',  'Joanne' : '555-3333'} \n",
    "\n",
    "for val in phonebook.values(): \n",
    "    print(val)"
   ]
  },
  {
   "cell_type": "code",
   "execution_count": 12,
   "metadata": {
    "hidden": true
   },
   "outputs": [
    {
     "data": {
      "text/plain": [
       "'555-1111'"
      ]
     },
     "execution_count": 12,
     "metadata": {},
     "output_type": "execute_result"
    }
   ],
   "source": [
    "phonebook = {'Chris' : '555-1111',  'Katie' : '555-2222',  'Joanne' : '555-3333'}\n",
    "phonenum = phonebook.pop('Chris', 'Entry not found')\n",
    "phonenum"
   ]
  },
  {
   "cell_type": "code",
   "execution_count": 13,
   "metadata": {
    "hidden": true
   },
   "outputs": [
    {
     "data": {
      "text/plain": [
       "{'Katie': '555-2222', 'Joanne': '555-3333'}"
      ]
     },
     "execution_count": 13,
     "metadata": {},
     "output_type": "execute_result"
    }
   ],
   "source": [
    "phonebook"
   ]
  },
  {
   "cell_type": "code",
   "execution_count": 3,
   "metadata": {
    "hidden": true
   },
   "outputs": [
    {
     "data": {
      "text/plain": [
       "'Entry not found'"
      ]
     },
     "execution_count": 3,
     "metadata": {},
     "output_type": "execute_result"
    }
   ],
   "source": [
    "phonebook = {'Chris' : '555-1111',  'Katie' : '555-2222',  'Joanne' : '555-3333'}\n",
    "phonenum = phonebook.pop('chris', 'Entry not found')\n",
    "phonenum"
   ]
  },
  {
   "cell_type": "code",
   "execution_count": 5,
   "metadata": {
    "hidden": true
   },
   "outputs": [
    {
     "data": {
      "text/plain": [
       "{}"
      ]
     },
     "execution_count": 5,
     "metadata": {},
     "output_type": "execute_result"
    }
   ],
   "source": [
    "phonebook.clear()\n",
    "phonebook"
   ]
  },
  {
   "cell_type": "code",
   "execution_count": 7,
   "metadata": {
    "hidden": true
   },
   "outputs": [
    {
     "data": {
      "text/plain": [
       "'555-2222'"
      ]
     },
     "execution_count": 7,
     "metadata": {},
     "output_type": "execute_result"
    }
   ],
   "source": [
    "phonebook = {'Chris':'555-1111', 'Katie':'555-2222'} \n",
    "value = phonebook.get('Katie', 'Entry not found')\n",
    "value"
   ]
  },
  {
   "cell_type": "code",
   "execution_count": 8,
   "metadata": {
    "hidden": true
   },
   "outputs": [
    {
     "data": {
      "text/plain": [
       "'Entry not found'"
      ]
     },
     "execution_count": 8,
     "metadata": {},
     "output_type": "execute_result"
    }
   ],
   "source": [
    "phonebook = {'Chris':'555-1111', 'Katie':'555-2222'} \n",
    "value = phonebook.get('katie', 'Entry not found')\n",
    "value"
   ]
  },
  {
   "cell_type": "code",
   "execution_count": 10,
   "metadata": {
    "hidden": true
   },
   "outputs": [
    {
     "data": {
      "text/plain": [
       "dict_items([('Chris', '555-1111'), ('Katie', '555-2222'), ('Joanne', '555-3333')])"
      ]
     },
     "execution_count": 10,
     "metadata": {},
     "output_type": "execute_result"
    }
   ],
   "source": [
    "phonebook = {'Chris' : '555-1111',  'Katie' : '555-2222',  'Joanne' : '555-3333'}\n",
    "phonebook.items()"
   ]
  },
  {
   "cell_type": "code",
   "execution_count": 11,
   "metadata": {
    "hidden": true
   },
   "outputs": [
    {
     "data": {
      "text/plain": [
       "dict_keys(['Chris', 'Katie', 'Joanne'])"
      ]
     },
     "execution_count": 11,
     "metadata": {},
     "output_type": "execute_result"
    }
   ],
   "source": [
    "phonebook.keys()"
   ]
  },
  {
   "cell_type": "code",
   "execution_count": 2,
   "metadata": {
    "hidden": true
   },
   "outputs": [
    {
     "name": "stdout",
     "output_type": "stream",
     "text": [
      "Friends and Their Phone numbers\n",
      "---------------------------\n",
      "1. Look up a phone unumber\n",
      "2. Add a new phone unumber\n",
      "3. Change a phone unumber\n",
      "4. Delete a phone unumber\n",
      "5. Quit the program\n",
      "\n",
      "Enter your choice: 2\n",
      "Enter a name: 이고려\n",
      "Enter a phone number: 010666839\n",
      "Friends and Their Phone numbers\n",
      "---------------------------\n",
      "1. Look up a phone unumber\n",
      "2. Add a new phone unumber\n",
      "3. Change a phone unumber\n",
      "4. Delete a phone unumber\n",
      "5. Quit the program\n",
      "\n",
      "Enter your choice: 2\n",
      "Enter a name: 박세종\n",
      "Enter a phone number: 01066772525\n",
      "Friends and Their Phone numbers\n",
      "---------------------------\n",
      "1. Look up a phone unumber\n",
      "2. Add a new phone unumber\n",
      "3. Change a phone unumber\n",
      "4. Delete a phone unumber\n",
      "5. Quit the program\n",
      "\n",
      "Enter your choice: 2\n",
      "Enter a name: 김연세\n",
      "Enter a phone number: 01082726666\n",
      "Friends and Their Phone numbers\n",
      "---------------------------\n",
      "1. Look up a phone unumber\n",
      "2. Add a new phone unumber\n",
      "3. Change a phone unumber\n",
      "4. Delete a phone unumber\n",
      "5. Quit the program\n",
      "\n",
      "Enter your choice: 1\n",
      "Enter a name: 이고려\n",
      "010666839\n",
      "Friends and Their Phone numbers\n",
      "---------------------------\n",
      "1. Look up a phone unumber\n",
      "2. Add a new phone unumber\n",
      "3. Change a phone unumber\n",
      "4. Delete a phone unumber\n",
      "5. Quit the program\n",
      "\n",
      "Enter your choice: 5\n"
     ]
    }
   ],
   "source": [
    "LOOK_UP = 1\n",
    "ADD = 2\n",
    "CHANGE = 3\n",
    "DELETE = 4\n",
    "QUIT = 5\n",
    "\n",
    "def main():\n",
    "    numbers = {}\n",
    "    choice = 0\n",
    "\n",
    "    while choice != QUIT:\n",
    "        choice = menu_choice()\n",
    "        if choice == LOOK_UP:\n",
    "            look_up(numbers)\n",
    "        elif choice == ADD:\n",
    "            add(numbers)\n",
    "        elif choice == CHANGE:\n",
    "            change(numbers)\n",
    "        elif choice == DELETE:\n",
    "            delete(numbers)\n",
    "\n",
    "def menu_choice():\n",
    "    print()\n",
    "    print('Friends and Their Phone numbers')\n",
    "    print('---------------------------')\n",
    "    print('1. Look up a phone unumber')\n",
    "    print('2. Add a new phone unumber')\n",
    "    print('3. Change a phone unumber')\n",
    "    print('4. Delete a phone unumber')\n",
    "    print('5. Quit the program')\n",
    "    print()\n",
    "    choice = int(input('Enter your choice: '))\n",
    "\n",
    "    while choice < LOOK_UP or choice > QUIT:\n",
    "        choice = int(input('Enter a valid choice: '))\n",
    "    return choice\n",
    "\n",
    "def look_up(numbers):\n",
    "    name = input('Enter a name: ')\n",
    "    print(numbers.get(name, 'Not found.'))\n",
    "\n",
    "def add(numbers):\n",
    "    name = input('Enter a name: ')\n",
    "    phonenum = input('Enter a phone number: ')\n",
    "    if name not in numbers:\n",
    "        numbers[name] = phonenum\n",
    "    else:\n",
    "        print('That entry already exists.')\n",
    "\n",
    "def change(numbers):\n",
    "    name = input('Enter a name: ')\n",
    "    if name in numbers:\n",
    "        phonenum = input('Enter the new phone number: ')\n",
    "        numbers[name] = phonenum\n",
    "    else:\n",
    "        print('That name is not found.')\n",
    "\n",
    "def delete(numbers):\n",
    "    name = input('Enter a name: ')\n",
    "    if name in numbers:\n",
    "        del numbers[name]\n",
    "    else:\n",
    "        print('That name is not found.')\n",
    "\n",
    "main()"
   ]
  },
  {
   "cell_type": "code",
   "execution_count": 24,
   "metadata": {
    "hidden": true
   },
   "outputs": [],
   "source": [
    "phonebook = {'Chris' : '555-1111',  'Katie' : '555-2222',  'Joanne' : '555-3333'} \n",
    "import pickle\n",
    "outfile = open('phonebook.dat', 'wb') \n",
    "pickle.dump(phonebook, outfile) \n",
    "outfile.close() "
   ]
  },
  {
   "cell_type": "code",
   "execution_count": 25,
   "metadata": {
    "hidden": true
   },
   "outputs": [],
   "source": [
    "import pickle\n",
    "infile = open('phonebook.dat', 'rb')\n",
    "pb = pickle.load(infile) \n",
    "infile.close()"
   ]
  },
  {
   "cell_type": "code",
   "execution_count": 26,
   "metadata": {
    "hidden": true
   },
   "outputs": [
    {
     "data": {
      "text/plain": [
       "{'Chris': '555-1111', 'Katie': '555-2222', 'Joanne': '555-3333'}"
      ]
     },
     "execution_count": 26,
     "metadata": {},
     "output_type": "execute_result"
    }
   ],
   "source": [
    "pb"
   ]
  },
  {
   "cell_type": "code",
   "execution_count": 1,
   "metadata": {
    "hidden": true
   },
   "outputs": [],
   "source": [
    "import pickle \n",
    "\n",
    "def main():\n",
    "    \n",
    "    phonebook = {'Chris' : '555-1111',  'Katie' : '555-2222',  'Joanne' : '555-3333'} \n",
    "    outfile = open('phonebook.dat', 'wb') \n",
    "    pickle.dump(phonebook, outfile) \n",
    "    outfile.close() \n",
    "\n",
    "main()"
   ]
  },
  {
   "cell_type": "code",
   "execution_count": 17,
   "metadata": {
    "hidden": true
   },
   "outputs": [],
   "source": [
    "def main():\n",
    "    infile = open('phonebook.dat', 'rb')\n",
    "    pb = pickle.load(infile) \n",
    "    infile.close()"
   ]
  },
  {
   "cell_type": "code",
   "execution_count": 18,
   "metadata": {
    "hidden": true
   },
   "outputs": [
    {
     "data": {
      "text/plain": [
       "{'Chris': '555-1111', 'Katie': '555-2222', 'Joanne': '555-3333'}"
      ]
     },
     "execution_count": 18,
     "metadata": {},
     "output_type": "execute_result"
    }
   ],
   "source": [
    "main()\n",
    "pb"
   ]
  },
  {
   "cell_type": "code",
   "execution_count": 21,
   "metadata": {
    "hidden": true
   },
   "outputs": [
    {
     "data": {
      "text/plain": [
       "{'Chris': '555-1111', 'Katie': '555-2222', 'Joanne': '555-3333'}"
      ]
     },
     "execution_count": 21,
     "metadata": {},
     "output_type": "execute_result"
    }
   ],
   "source": [
    "import pickle\n",
    "infile = open('phonebook.dat', 'rb')\n",
    "pb = pickle.load(infile) \n",
    "infile.close()\n",
    "pb"
   ]
  },
  {
   "cell_type": "code",
   "execution_count": 22,
   "metadata": {
    "hidden": true
   },
   "outputs": [],
   "source": [
    "def main():\n",
    "    infile = open('phonebook.dat', 'rb')\n",
    "    pb1 = pickle.load(infile) \n",
    "    infile.close()\n",
    "main()"
   ]
  },
  {
   "cell_type": "code",
   "execution_count": 23,
   "metadata": {
    "hidden": true
   },
   "outputs": [
    {
     "ename": "NameError",
     "evalue": "name 'pb1' is not defined",
     "output_type": "error",
     "traceback": [
      "\u001b[1;31m---------------------------------------------------------------------------\u001b[0m",
      "\u001b[1;31mNameError\u001b[0m                                 Traceback (most recent call last)",
      "\u001b[1;32m<ipython-input-23-e9ae004e4601>\u001b[0m in \u001b[0;36m<module>\u001b[1;34m()\u001b[0m\n\u001b[1;32m----> 1\u001b[1;33m \u001b[0mpb1\u001b[0m\u001b[1;33m\u001b[0m\u001b[0m\n\u001b[0m",
      "\u001b[1;31mNameError\u001b[0m: name 'pb1' is not defined"
     ]
    }
   ],
   "source": [
    "pb1"
   ]
  },
  {
   "cell_type": "code",
   "execution_count": null,
   "metadata": {
    "hidden": true
   },
   "outputs": [
    {
     "name": "stdout",
     "output_type": "stream",
     "text": [
      "{'Chris': '555-1111', 'Katie': '555-2222', 'Joanne': '555-3333'}\n"
     ]
    }
   ],
   "source": [
    "import pickle\n",
    "\n",
    "def main():\n",
    "    end_of_file=False\n",
    "    infile = open('phonebook.dat', 'rb')\n",
    "    \n",
    "    while not end_of_file:\n",
    "        try:\n",
    "            pb = pickle.load(infile) \n",
    "            print(pb)\n",
    "            \n",
    "        except EOFError:\n",
    "            endoffile=True\n",
    "            \n",
    "    infile.colse()\n",
    "    \n",
    "main()"
   ]
  },
  {
   "cell_type": "code",
   "execution_count": null,
   "metadata": {
    "hidden": true
   },
   "outputs": [],
   "source": []
  },
  {
   "cell_type": "code",
   "execution_count": 52,
   "metadata": {
    "hidden": true
   },
   "outputs": [
    {
     "name": "stdout",
     "output_type": "stream",
     "text": [
      "Name: hhh\n",
      "Age: 57\n",
      "Weight: 100\n",
      "Enter more data? (y/n): y\n",
      "Name: rrrr\n",
      "Age: 58\n",
      "Weight: 90\n",
      "Enter more data? (y/n): n\n"
     ]
    }
   ],
   "source": [
    "# This program demonstrates object pickling.\n",
    "import pickle\n",
    "\n",
    "# main function\n",
    "def main():\n",
    "    again = 'y'  # To control loop repetition\n",
    "    \n",
    "    # Open a file for binary writing.\n",
    "    out = open('info.dat', 'wb')\n",
    "\n",
    "    # Get data until the user wants to stop.\n",
    "    while again == 'y':\n",
    "        # Get data about a person and save it.\n",
    "        save_data(out)\n",
    "\n",
    "        # Does the user want to enter more data?\n",
    "        again = input('Enter more data? (y/n): ')\n",
    "\n",
    "    # Close the file.\n",
    "    out.close()\n",
    "\n",
    "# The save_data function gets data about a person, stores it in a dictionary, and then pickles the dictionary to the specified file.\n",
    "\n",
    "def save_data(file):\n",
    "    # Create an empty dictionary.\n",
    "    person = {}\n",
    "    \n",
    "    # Get data for a person and store it in the dictionary.\n",
    "    person['name'] = input('Name: ')\n",
    "    person['age'] = int(input('Age: '))\n",
    "    person['weight'] = float(input('Weight: '))\n",
    "\n",
    "    # Pickle the dictionary.\n",
    "    pickle.dump(person, file)\n",
    "\n",
    "# Call the main function.\n",
    "main()\n"
   ]
  },
  {
   "cell_type": "code",
   "execution_count": null,
   "metadata": {
    "hidden": true
   },
   "outputs": [],
   "source": []
  },
  {
   "cell_type": "code",
   "execution_count": null,
   "metadata": {
    "hidden": true
   },
   "outputs": [],
   "source": []
  },
  {
   "cell_type": "code",
   "execution_count": 158,
   "metadata": {
    "hidden": true
   },
   "outputs": [
    {
     "data": {
      "text/plain": [
       "{1, 3}"
      ]
     },
     "execution_count": 158,
     "metadata": {},
     "output_type": "execute_result"
    }
   ],
   "source": [
    "s1 = set([1, 2, 3])\n",
    "s1.remove(2)\n",
    "s1"
   ]
  },
  {
   "cell_type": "code",
   "execution_count": 159,
   "metadata": {
    "hidden": true
   },
   "outputs": [
    {
     "data": {
      "text/plain": [
       "False"
      ]
     },
     "execution_count": 159,
     "metadata": {},
     "output_type": "execute_result"
    }
   ],
   "source": [
    "1==2"
   ]
  },
  {
   "cell_type": "code",
   "execution_count": 160,
   "metadata": {
    "hidden": true
   },
   "outputs": [
    {
     "data": {
      "text/plain": [
       "False"
      ]
     },
     "execution_count": 160,
     "metadata": {},
     "output_type": "execute_result"
    }
   ],
   "source": [
    "2<1"
   ]
  },
  {
   "cell_type": "code",
   "execution_count": 161,
   "metadata": {
    "hidden": true
   },
   "outputs": [
    {
     "data": {
      "text/plain": [
       "True"
      ]
     },
     "execution_count": 161,
     "metadata": {},
     "output_type": "execute_result"
    }
   ],
   "source": [
    "3>2"
   ]
  },
  {
   "cell_type": "code",
   "execution_count": 163,
   "metadata": {
    "hidden": true
   },
   "outputs": [
    {
     "name": "stdout",
     "output_type": "stream",
     "text": [
      "4\n",
      "3\n",
      "2\n",
      "1\n"
     ]
    }
   ],
   "source": [
    "a = [1, 2, 3, 4]\n",
    "while a:\n",
    "        print(a.pop())\n"
   ]
  },
  {
   "cell_type": "code",
   "execution_count": 164,
   "metadata": {
    "hidden": true
   },
   "outputs": [
    {
     "data": {
      "text/plain": [
       "True"
      ]
     },
     "execution_count": 164,
     "metadata": {},
     "output_type": "execute_result"
    }
   ],
   "source": [
    "bool([1,2,3])"
   ]
  },
  {
   "cell_type": "code",
   "execution_count": 165,
   "metadata": {
    "hidden": true
   },
   "outputs": [
    {
     "data": {
      "text/plain": [
       "False"
      ]
     },
     "execution_count": 165,
     "metadata": {},
     "output_type": "execute_result"
    }
   ],
   "source": [
    " bool([])"
   ]
  },
  {
   "cell_type": "code",
   "execution_count": 166,
   "metadata": {
    "hidden": true
   },
   "outputs": [
    {
     "data": {
      "text/plain": [
       "True"
      ]
     },
     "execution_count": 166,
     "metadata": {},
     "output_type": "execute_result"
    }
   ],
   "source": [
    "bool(3)"
   ]
  },
  {
   "cell_type": "code",
   "execution_count": null,
   "metadata": {
    "hidden": true
   },
   "outputs": [],
   "source": []
  },
  {
   "cell_type": "code",
   "execution_count": 18,
   "metadata": {
    "hidden": true
   },
   "outputs": [
    {
     "data": {
      "text/plain": [
       "9.42477796076938"
      ]
     },
     "execution_count": 18,
     "metadata": {},
     "output_type": "execute_result"
    }
   ],
   "source": [
    "import math\n",
    "a=math.pi*3\n",
    "a"
   ]
  },
  {
   "cell_type": "code",
   "execution_count": 20,
   "metadata": {
    "hidden": true
   },
   "outputs": [
    {
     "data": {
      "text/plain": [
       "9.42477796076938"
      ]
     },
     "execution_count": 20,
     "metadata": {},
     "output_type": "execute_result"
    }
   ],
   "source": [
    "from math import *\n",
    "a=pi*3\n",
    "a"
   ]
  },
  {
   "cell_type": "markdown",
   "metadata": {
    "heading_collapsed": true
   },
   "source": [
    "# import module"
   ]
  },
  {
   "cell_type": "code",
   "execution_count": 1,
   "metadata": {
    "hidden": true
   },
   "outputs": [
    {
     "data": {
      "text/plain": [
       "3.0"
      ]
     },
     "execution_count": 1,
     "metadata": {},
     "output_type": "execute_result"
    }
   ],
   "source": [
    "import math\n",
    "x=9\n",
    "y=math.sqrt(x)  # 사용법 modulename.function()\n",
    "y"
   ]
  },
  {
   "cell_type": "code",
   "execution_count": 2,
   "metadata": {
    "hidden": true
   },
   "outputs": [
    {
     "data": {
      "text/plain": [
       "3.0"
      ]
     },
     "execution_count": 2,
     "metadata": {},
     "output_type": "execute_result"
    }
   ],
   "source": [
    "from math import sqrt\n",
    "x=9\n",
    "y=sqrt(x) # 사용법 function()\n",
    "y"
   ]
  },
  {
   "cell_type": "code",
   "execution_count": 3,
   "metadata": {
    "hidden": true
   },
   "outputs": [
    {
     "data": {
      "text/plain": [
       "3.0"
      ]
     },
     "execution_count": 3,
     "metadata": {},
     "output_type": "execute_result"
    }
   ],
   "source": [
    "from math import *\n",
    "x=9\n",
    "y=sqrt(x) # 사용법 function()\n",
    "y"
   ]
  },
  {
   "cell_type": "code",
   "execution_count": 4,
   "metadata": {
    "hidden": true
   },
   "outputs": [
    {
     "data": {
      "text/plain": [
       "3.0"
      ]
     },
     "execution_count": 4,
     "metadata": {},
     "output_type": "execute_result"
    }
   ],
   "source": [
    "import math as mt  #math의 alias로 mt를 정의\n",
    "x=9\n",
    "y=mt.sqrt(x) # 사용법 alis.function()\n",
    "y"
   ]
  },
  {
   "cell_type": "code",
   "execution_count": 4,
   "metadata": {
    "hidden": true
   },
   "outputs": [
    {
     "data": {
      "text/plain": [
       "<matplotlib.legend.Legend at 0x9aa2576128>"
      ]
     },
     "execution_count": 4,
     "metadata": {},
     "output_type": "execute_result"
    }
   ],
   "source": [
    "%matplotlib tk\n",
    "import numpy as np\n",
    "import matplotlib.pylab as plt\n",
    "\n",
    "x = np.linspace(0, 2, 100)\n",
    "\n",
    "plt.plot(x, x, label=\"linear\")\n",
    "plt.plot(x, x**2, label=\"quadratic\")\n",
    "plt.plot(x, x**3, label=\"cubic\")\n",
    "\n",
    "plt.xlabel('x');  plt.ylabel('y')\n",
    "\n",
    "plt.title(\"Simple curves\")\n",
    "\n",
    "plt.legend()"
   ]
  },
  {
   "cell_type": "code",
   "execution_count": null,
   "metadata": {
    "hidden": true
   },
   "outputs": [],
   "source": []
  },
  {
   "cell_type": "code",
   "execution_count": null,
   "metadata": {
    "hidden": true
   },
   "outputs": [],
   "source": []
  },
  {
   "cell_type": "code",
   "execution_count": null,
   "metadata": {
    "hidden": true
   },
   "outputs": [],
   "source": []
  },
  {
   "cell_type": "markdown",
   "metadata": {
    "heading_collapsed": true
   },
   "source": [
    "# class and object"
   ]
  },
  {
   "cell_type": "code",
   "execution_count": 204,
   "metadata": {
    "hidden": true
   },
   "outputs": [],
   "source": [
    "class Cal:\n",
    "    def __init__(self, first, second):\n",
    "        self.first = first\n",
    "        self.second = second\n",
    " \n",
    "    def sum(self):\n",
    "            sum = self.first + self.second\n",
    "            return sum"
   ]
  },
  {
   "cell_type": "code",
   "execution_count": 205,
   "metadata": {
    "hidden": true
   },
   "outputs": [],
   "source": [
    "a=Cal(5,3)"
   ]
  },
  {
   "cell_type": "code",
   "execution_count": 206,
   "metadata": {
    "hidden": true
   },
   "outputs": [
    {
     "data": {
      "text/plain": [
       "8"
      ]
     },
     "execution_count": 206,
     "metadata": {},
     "output_type": "execute_result"
    }
   ],
   "source": [
    "a.sum()"
   ]
  },
  {
   "cell_type": "code",
   "execution_count": null,
   "metadata": {
    "hidden": true
   },
   "outputs": [],
   "source": []
  },
  {
   "cell_type": "code",
   "execution_count": 171,
   "metadata": {
    "hidden": true
   },
   "outputs": [],
   "source": [
    "\n",
    "class Circle:   # Circle 객체를 생성한다.\n",
    "    count=0\n",
    "    def __init__(self, radius ):   # instance variable self.radiud initialize method\n",
    "        self.radius = radius\n",
    "        Circle.count+=1\n",
    "    def calcPerimeter(self):  # 둘레계산 method\n",
    "        perimeter=2 * self.radius * 3.14\n",
    "        return perimeter\n",
    "\n",
    "    def calcArea(self):  # 면적계산 method\n",
    "        area=self.radius * self.radius * 3.14\n",
    "        return area"
   ]
  },
  {
   "cell_type": "code",
   "execution_count": 172,
   "metadata": {
    "hidden": true
   },
   "outputs": [],
   "source": [
    "c1=Circle(6)"
   ]
  },
  {
   "cell_type": "code",
   "execution_count": 173,
   "metadata": {
    "hidden": true
   },
   "outputs": [
    {
     "name": "stdout",
     "output_type": "stream",
     "text": [
      "둘레는; 37.68\n"
     ]
    }
   ],
   "source": [
    "perimeter=c1.calcPerimeter()\n",
    "print(\"둘레는;\",perimeter)"
   ]
  },
  {
   "cell_type": "code",
   "execution_count": 174,
   "metadata": {
    "hidden": true
   },
   "outputs": [
    {
     "name": "stdout",
     "output_type": "stream",
     "text": [
      "면적은; 113.04\n"
     ]
    }
   ],
   "source": [
    "area=c1.calcArea()\n",
    "print(\"면적은;\",area)"
   ]
  },
  {
   "cell_type": "code",
   "execution_count": 175,
   "metadata": {
    "hidden": true
   },
   "outputs": [
    {
     "data": {
      "text/plain": [
       "6"
      ]
     },
     "execution_count": 175,
     "metadata": {},
     "output_type": "execute_result"
    }
   ],
   "source": [
    "c1.radius  # access the instance variable"
   ]
  },
  {
   "cell_type": "code",
   "execution_count": 176,
   "metadata": {
    "hidden": true
   },
   "outputs": [
    {
     "data": {
      "text/plain": [
       "1"
      ]
     },
     "execution_count": 176,
     "metadata": {},
     "output_type": "execute_result"
    }
   ],
   "source": [
    "Circle.count"
   ]
  },
  {
   "cell_type": "code",
   "execution_count": null,
   "metadata": {
    "hidden": true
   },
   "outputs": [],
   "source": []
  },
  {
   "cell_type": "code",
   "execution_count": null,
   "metadata": {
    "hidden": true
   },
   "outputs": [],
   "source": []
  },
  {
   "cell_type": "code",
   "execution_count": 27,
   "metadata": {
    "hidden": true
   },
   "outputs": [],
   "source": [
    "class Loan:\n",
    "    count=0\n",
    "    def __init__(self, rate,maturity, principal):\n",
    "        self.rate = rate\n",
    "        self.maturity = maturity\n",
    "        self.principal = principal\n",
    "        Loan.count+=1\n",
    "        \n",
    "    def monthlypay(self):\n",
    "        monthlypay = (self.principal * (self.rate/12)) /\\\n",
    "        (1 - (1 / (1 + (self.rate/12)) ** (self.maturity * 12)))\n",
    "        return monthlypay"
   ]
  },
  {
   "cell_type": "code",
   "execution_count": 28,
   "metadata": {
    "hidden": true
   },
   "outputs": [],
   "source": [
    "L1=Loan(0.05,20,100000000)"
   ]
  },
  {
   "cell_type": "code",
   "execution_count": 29,
   "metadata": {
    "hidden": true
   },
   "outputs": [
    {
     "data": {
      "text/plain": [
       "659955"
      ]
     },
     "execution_count": 29,
     "metadata": {},
     "output_type": "execute_result"
    }
   ],
   "source": [
    "월상환액=L1.monthlypay()\n",
    "int(월상환액)"
   ]
  },
  {
   "cell_type": "code",
   "execution_count": 180,
   "metadata": {
    "hidden": true
   },
   "outputs": [
    {
     "data": {
      "text/plain": [
       "100000000"
      ]
     },
     "execution_count": 180,
     "metadata": {},
     "output_type": "execute_result"
    }
   ],
   "source": [
    "L1.principal"
   ]
  },
  {
   "cell_type": "code",
   "execution_count": 181,
   "metadata": {
    "hidden": true
   },
   "outputs": [
    {
     "data": {
      "text/plain": [
       "1"
      ]
     },
     "execution_count": 181,
     "metadata": {},
     "output_type": "execute_result"
    }
   ],
   "source": [
    "Loan.count"
   ]
  },
  {
   "cell_type": "code",
   "execution_count": 182,
   "metadata": {
    "hidden": true
   },
   "outputs": [],
   "source": [
    "L2=Loan(0.04,10,100000000)"
   ]
  },
  {
   "cell_type": "code",
   "execution_count": 183,
   "metadata": {
    "hidden": true
   },
   "outputs": [
    {
     "data": {
      "text/plain": [
       "1012451"
      ]
     },
     "execution_count": 183,
     "metadata": {},
     "output_type": "execute_result"
    }
   ],
   "source": [
    "월상환액=L2.monthlypay()\n",
    "int(월상환액)"
   ]
  },
  {
   "cell_type": "code",
   "execution_count": 184,
   "metadata": {
    "hidden": true
   },
   "outputs": [
    {
     "data": {
      "text/plain": [
       "2"
      ]
     },
     "execution_count": 184,
     "metadata": {},
     "output_type": "execute_result"
    }
   ],
   "source": [
    "Loan.count"
   ]
  },
  {
   "cell_type": "code",
   "execution_count": null,
   "metadata": {
    "hidden": true
   },
   "outputs": [],
   "source": []
  },
  {
   "cell_type": "code",
   "execution_count": 203,
   "metadata": {
    "hidden": true
   },
   "outputs": [
    {
     "name": "stdout",
     "output_type": "stream",
     "text": [
      "연이자율 입력: 0.04\n",
      "만기 입력: 20\n",
      "대출원금 입력: 100000000\n",
      "대출원금은 100000000 입니다.\n",
      "월상환금은 605980.33 입니다.\n"
     ]
    }
   ],
   "source": [
    "def main():\n",
    "    \n",
    "    # 이자율 입력(소수점 단위)\n",
    "    rate = float(input (\"연이자율 입력: \"))\n",
    "    # 만기 입력(연단위)\n",
    "    maturity = int(input(\"만기 입력: \"))\n",
    "    # 대출원금 입력\n",
    "    principal = int(input( \"대출원금 입력: \"))\n",
    "    # Loan CLASS 객체 생성\n",
    "    loan_1 = Loan(rate, maturity,principal)\n",
    "    # 대출원금, 월상환액 출력\n",
    "    print(\"대출원금은\", loan_1.principal,\"입니다.\")\n",
    "    print(\"월상환금은\", format(loan_1.monthlypay(), '.2f'), \"입니다.\")\n",
    "\n",
    "main() # Call the main function"
   ]
  },
  {
   "cell_type": "code",
   "execution_count": null,
   "metadata": {
    "hidden": true
   },
   "outputs": [],
   "source": []
  },
  {
   "cell_type": "code",
   "execution_count": 156,
   "metadata": {
    "hidden": true
   },
   "outputs": [],
   "source": [
    "class Rectangle:\n",
    "    def __init__(self, width, height ):\n",
    "        self.width = width\n",
    "        self.height = height\n",
    "\n",
    "    def calcArea(self):\n",
    "        area=self.width * self.height\n",
    "        return area"
   ]
  },
  {
   "cell_type": "code",
   "execution_count": 157,
   "metadata": {
    "hidden": true
   },
   "outputs": [],
   "source": [
    "r1 = Rectangle(2, 3)"
   ]
  },
  {
   "cell_type": "code",
   "execution_count": 158,
   "metadata": {
    "hidden": true
   },
   "outputs": [
    {
     "name": "stdout",
     "output_type": "stream",
     "text": [
      "면적 =  6\n"
     ]
    }
   ],
   "source": [
    "area = r1.calcArea()\n",
    "print(\"면적 = \", area)"
   ]
  },
  {
   "cell_type": "code",
   "execution_count": 159,
   "metadata": {
    "hidden": true
   },
   "outputs": [
    {
     "data": {
      "text/plain": [
       "2"
      ]
     },
     "execution_count": 159,
     "metadata": {},
     "output_type": "execute_result"
    }
   ],
   "source": [
    "r1.width # instance variable is accessible since it it public data"
   ]
  },
  {
   "cell_type": "code",
   "execution_count": null,
   "metadata": {
    "hidden": true
   },
   "outputs": [],
   "source": []
  },
  {
   "cell_type": "code",
   "execution_count": 7,
   "metadata": {
    "hidden": true
   },
   "outputs": [
    {
     "name": "stdout",
     "output_type": "stream",
     "text": [
      "This side is up: Heads\n",
      "I am tossing the coin...\n",
      "This side is up: Heads\n"
     ]
    }
   ],
   "source": [
    "import random\n",
    "\n",
    "# The Coin class simulates a coin that can\n",
    "# be flipped.\n",
    "\n",
    "class Coin:\n",
    "    \n",
    "    # The __init__ method initializes the sideup data attribute with 'Heads'.\n",
    "    \n",
    "    def __init__(self):\n",
    "        self.sideup = 'Heads'\n",
    "\n",
    "    # The toss method generates a random number in the range of 0 through 1. If the number is 0, then sideup is set to 'Heads'.\n",
    "    # Otherwise, sideup is set to 'Tails'.\n",
    "    \n",
    "    def toss(self):\n",
    "        if random.randint(0, 1) == 0:\n",
    "            self.sideup = 'Heads'\n",
    "        else:\n",
    "            self.sideup = 'Tails'\n",
    "\n",
    "    # The get_sideup method returns the value referenced by sideup.\n",
    "    \n",
    "    def get_sideup(self):\n",
    "        return self.sideup\n",
    "\n",
    "# The main function.\n",
    "def main():\n",
    "    # Create an object from the Coin class.\n",
    "    my_coin = Coin()\n",
    "\n",
    "    # Display the side of the coin that is facing up.\n",
    "    print('This side is up:', my_coin.get_sideup())\n",
    "\n",
    "    # Toss the coin.\n",
    "    print('I am tossing the coin...')\n",
    "    my_coin.toss()\n",
    "\n",
    "    # Display the side of the coin that is facing up.\n",
    "    print('This side is up:', my_coin.get_sideup())\n",
    "    \n",
    "# Call the main function.\n",
    "main()\n"
   ]
  },
  {
   "cell_type": "code",
   "execution_count": 11,
   "metadata": {
    "hidden": true
   },
   "outputs": [
    {
     "name": "stdout",
     "output_type": "stream",
     "text": [
      "This side is up: Heads\n",
      "I am going to toss the coin ten times:\n",
      "Tails\n",
      "Tails\n",
      "Tails\n",
      "Heads\n",
      "Tails\n",
      "Tails\n",
      "Heads\n",
      "Heads\n",
      "Tails\n",
      "Tails\n"
     ]
    }
   ],
   "source": [
    "import random\n",
    "\n",
    "# The Coin class simulates a coin that can\n",
    "# be flipped.\n",
    "\n",
    "class Coin:\n",
    "    \n",
    "    # The __init__ method initializes the\n",
    "    # __sideup data attribute with 'Heads'.\n",
    "    \n",
    "    def __init__(self):\n",
    "        self.__sideup = 'Heads'\n",
    "\n",
    "    # The toss method generates a random number\n",
    "    # in the range of 0 through 1. If the number\n",
    "    # is 0, then sideup is set to 'Heads'.\n",
    "    # Otherwise, sideup is set to 'Tails'.\n",
    "    \n",
    "    def toss(self):\n",
    "        if random.randint(0, 1) == 0:\n",
    "            self.__sideup = 'Heads'\n",
    "        else:\n",
    "            self.__sideup = 'Tails'\n",
    "\n",
    "    # The get_sideup method returns the value referenced by sideup.\n",
    "    \n",
    "    def get_sideup(self):\n",
    "        return self.__sideup\n",
    "\n",
    "def main():\n",
    "    # Create an object from the Coin class.\n",
    "    coin1 = Coin()\n",
    "\n",
    "    # Display the side of the coin that is facing up.\n",
    "    print('This side is up:', coin1.get_sideup())\n",
    "\n",
    "    # Toss the coin.\n",
    "    print('I am going to toss the coin ten times:')\n",
    "    for count in range(10):\n",
    "        coin1.toss()\n",
    "        print(coin1.get_sideup())\n",
    "\n",
    "# Call the main function.\n",
    "main()\n"
   ]
  },
  {
   "cell_type": "code",
   "execution_count": 27,
   "metadata": {
    "hidden": true
   },
   "outputs": [],
   "source": [
    "import random\n",
    "\n",
    "# The Coin class simulates a coin that can\n",
    "# be flipped.\n",
    "\n",
    "class Coin:\n",
    "    \n",
    "    # The __init__ method initializes the\n",
    "    # __sideup data attribute with 'Heads'.\n",
    "    \n",
    "    def __init__(self):\n",
    "        self.__sideup = 'Heads'\n",
    "\n",
    "    # The toss method generates a random number\n",
    "    # in the range of 0 through 1. If the number\n",
    "    # is 0, then sideup is set to 'Heads'.\n",
    "    # Otherwise, sideup is set to 'Tails'.\n",
    "    \n",
    "    def toss(self):\n",
    "        if random.randint(0, 1) == 0:\n",
    "            self.__sideup = 'Heads'\n",
    "        else:\n",
    "            self.__sideup = 'Tails'\n",
    "\n",
    "    # The get_sideup method returns the value\n",
    "    # referenced by sideup.\n",
    "    \n",
    "    def get_sideup(self):\n",
    "        return self.__sideup\n"
   ]
  },
  {
   "cell_type": "code",
   "execution_count": null,
   "metadata": {
    "hidden": true
   },
   "outputs": [],
   "source": []
  },
  {
   "cell_type": "code",
   "execution_count": 26,
   "metadata": {
    "hidden": true
   },
   "outputs": [
    {
     "name": "stdout",
     "output_type": "stream",
     "text": [
      "Enter your starting balance: 90000\n",
      "How much were you paid this week? 800\n",
      "I will deposit that into your account.\n",
      "The balance is $90,800.00\n",
      "How much would you like to withdraw? 600\n",
      "600.0 is withdrawn from your account.\n",
      "The balance is $90,200.00\n"
     ]
    }
   ],
   "source": [
    "# The BankAccount class simulates a bank account.\n",
    "\n",
    "class BankAccount:\n",
    "    \n",
    "    def __init__(self, bal):\n",
    "        self.__balance = bal\n",
    "\n",
    "    def deposit(self, amount):\n",
    "        self.__balance = self.__balance+amount\n",
    "\n",
    "    def withdraw(self, amount):\n",
    "        if self.__balance >= amount:\n",
    "            self.__balance -= amount\n",
    "        else:\n",
    "            print('Error: Insufficient funds')\n",
    "\n",
    "    def get_balance(self):\n",
    "        return self.__balance\n",
    "\n",
    "    def __str__(self):\n",
    "        return 'The balance is $' + format(self.__balance, ',.2f')\n",
    "\n",
    "def main():\n",
    "    start_bal = float(input('Enter your starting balance: '))\n",
    "    acc1 = BankAccount(start_bal)\n",
    "    pay = float(input('How much were you paid this week? '))\n",
    "    print('I will deposit that into your account.')\n",
    "    acc1.deposit(pay)\n",
    "    print(acc1)\n",
    "\n",
    "    cash = float(input('How much would you like to withdraw? '))\n",
    "    print(cash, 'is withdrawn from your account.')\n",
    "    acc1.withdraw(cash)\n",
    "\n",
    "    print(acc1)\n",
    "\n",
    "main()"
   ]
  },
  {
   "cell_type": "code",
   "execution_count": 28,
   "metadata": {
    "hidden": true
   },
   "outputs": [
    {
     "name": "stdout",
     "output_type": "stream",
     "text": [
      "I have three coins with these sides up:\n",
      "Heads\n",
      "Heads\n",
      "Heads\n",
      "\n",
      "I am tossing all three coins...\n",
      "\n",
      "Now here are the sides that are up:\n",
      "Tails\n",
      "Tails\n",
      "Heads\n",
      "\n"
     ]
    }
   ],
   "source": [
    "# This program imports the simulation module and creates three instances of the Coin class.\n",
    "\n",
    "def main():\n",
    "    # Create three objects from the Coin class.\n",
    "    coin1 = Coin()\n",
    "    coin2 = Coin()\n",
    "    coin3 = Coin()\n",
    "\n",
    "    # Display the side of each coin that is facing up.\n",
    "    print('I have three coins with these sides up:')\n",
    "    print(coin1.get_sideup())\n",
    "    print(coin2.get_sideup())\n",
    "    print(coin3.get_sideup())\n",
    "    print()\n",
    "    \n",
    "    # Toss the coin.\n",
    "    print('I am tossing all three coins...')\n",
    "    print()\n",
    "    coin1.toss()\n",
    "    coin2.toss()\n",
    "    coin3.toss()\n",
    "\n",
    "    # Display the side of each coin that is facing up.\n",
    "    print('Now here are the sides that are up:')\n",
    "    print(coin1.get_sideup())\n",
    "    print(coin2.get_sideup())\n",
    "    print(coin3.get_sideup())\n",
    "    print()\n",
    "\n",
    "# Call the main function.\n",
    "main()\n"
   ]
  },
  {
   "cell_type": "code",
   "execution_count": null,
   "metadata": {
    "hidden": true
   },
   "outputs": [],
   "source": []
  },
  {
   "cell_type": "code",
   "execution_count": 56,
   "metadata": {
    "hidden": true
   },
   "outputs": [],
   "source": [
    "# The CellPhone class holds data about a cell phone.\n",
    "\n",
    "class CellPhone:\n",
    "\n",
    "    # The __init__ method initializes the attributes.\n",
    "    \n",
    "    def __init__(self, manufact, model, price):\n",
    "        self.__manufact = manufact\n",
    "        self.__model = model\n",
    "        self.__retail_price = price\n",
    "\n",
    "    # The set_manufact method accepts an argument for the phone's manufacturer.\n",
    "\n",
    "    def set_manufact(self, manufact):\n",
    "        self.__manufact = manufact\n",
    "\n",
    "    # The set_model method accepts an argument for the phone's model number.\n",
    "\n",
    "    def set_model(self, model):\n",
    "        self.__model = model\n",
    "\n",
    "    # The set_retail_price method accepts an argument for the phone's retail price.\n",
    "\n",
    "    def set_retail_price(self, price):\n",
    "        self.__retail_price = price\n",
    "\n",
    "    # The get_manufact method returns the phone's manufacturer.\n",
    "\n",
    "    def get_manufact(self):\n",
    "        return self.__manufact\n",
    "\n",
    "    # The get_model method returns the # phone's model number.\n",
    "\n",
    "    def get_model(self):\n",
    "        return self.__model\n",
    "\n",
    "    # The get_retail_price method returns the  phone's retail price.\n",
    "\n",
    "    def get_retail_price(self):\n",
    "        return self.__retail_price\n"
   ]
  },
  {
   "cell_type": "code",
   "execution_count": 31,
   "metadata": {
    "hidden": true
   },
   "outputs": [
    {
     "name": "stdout",
     "output_type": "stream",
     "text": [
      "Enter data for five phones.\n",
      "Phone number 1:\n",
      "Enter the manufacturer: rrrr\n",
      "Enter the model number: 7t\n",
      "Enter the retail price: 70\n",
      "Here is the data you entered:\n",
      "rrrr\n",
      "7t\n",
      "70.0\n",
      "\n"
     ]
    }
   ],
   "source": [
    "# This program creates five CellPhone objects and stores them in a list.\n",
    "\n",
    "def main():\n",
    "    # Get a list of CellPhone objects.\n",
    "    phones = make_list()\n",
    "\n",
    "    # Display the data in the list.\n",
    "    print('Here is the data you entered:')\n",
    "    display_list(phones)\n",
    "\n",
    "# The make_list function gets data from the user for five phones. The function returns a list of CellPhone objects containing the data.\n",
    "\n",
    "def make_list():\n",
    "    # Create an empty list.\n",
    "    phone_list = []\n",
    "\n",
    "    # Add five CellPhone objects to the list.\n",
    "    print('Enter data for five phones.')\n",
    "    \n",
    "    for i in range(1, 2):\n",
    "        # Get the phone data.\n",
    "        print('Phone number ' + str(i) + ':')\n",
    "        man = input('Enter the manufacturer: ')\n",
    "        mod = input('Enter the model number: ')\n",
    "        retail = float(input('Enter the retail price: '))\n",
    "\n",
    "        # Create a new CellPhone object in memory and assign it to the phone variable.\n",
    "        phone = CellPhone(man, mod, retail)\n",
    "\n",
    "        # Add the object to the list.\n",
    "        phone_list.append(phone)\n",
    "\n",
    "    return phone_list\n",
    "\n",
    "# The display_list function accepts a list containing CellPhone objects as an argument and displays the\n",
    "# data stored in each object.\n",
    "\n",
    "def display_list(phone_list):\n",
    "    for item in phone_list:\n",
    "        print(item.get_manufact())\n",
    "        print(item.get_model())\n",
    "        print(item.get_retail_price())\n",
    "        print()\n",
    "\n",
    "# Call the main function.\n",
    "main()\n"
   ]
  },
  {
   "cell_type": "code",
   "execution_count": 59,
   "metadata": {
    "hidden": true
   },
   "outputs": [
    {
     "name": "stdout",
     "output_type": "stream",
     "text": [
      "Enter the manufacturer: dd\n",
      "Enter the model number: th\n",
      "Enter the retail price: 60\n",
      "Enter more phone data? (y/n): n\n",
      "The data was written to cellphones.dat\n"
     ]
    }
   ],
   "source": [
    "# This program pickles CellPhone objects.\n",
    "import pickle\n",
    "\n",
    "# Constant for the filename.\n",
    "FILENAME = 'cellphones.dat'\n",
    "\n",
    "def main():\n",
    "    # Initialize a variable to control the loop.\n",
    "    again = 'y'\n",
    "\n",
    "    # Open a file.\n",
    "    out = open(FILENAME, 'wb')\n",
    "\n",
    "    # Get data from the user.\n",
    "    while again == 'y':\n",
    "        # Get cell phone data.\n",
    "        \n",
    "        man = input('Enter the manufacturer: ')\n",
    "        mod = input('Enter the model number: ')\n",
    "        retail = float(input('Enter the retail price: '))\n",
    "\n",
    "        # Create a CellPhone object.\n",
    "        phone = CellPhone(man, mod, retail)\n",
    "\n",
    "        # Pickle the object and write it to the file.\n",
    "        pickle.dump(phone, out)\n",
    "\n",
    "        # Get more cell phone data?\n",
    "        again = input('Enter more phone data? (y/n): ')\n",
    "\n",
    "    # Close the file.\n",
    "    out.close()\n",
    "    \n",
    "    print('The data was written to', FILENAME)\n",
    "\n",
    "# Call the main function.\n",
    "main()"
   ]
  },
  {
   "cell_type": "code",
   "execution_count": 61,
   "metadata": {
    "hidden": true
   },
   "outputs": [
    {
     "name": "stdout",
     "output_type": "stream",
     "text": [
      "Manufacturer: dd\n",
      "Model Number: th\n",
      "Retail Price: $60.00\n",
      "\n"
     ]
    }
   ],
   "source": [
    "# This program unpickles CellPhone objects.\n",
    "\n",
    "import pickle\n",
    "\n",
    "# Constant for the filename.\n",
    "FILENAME = 'cellphones.dat'\n",
    "\n",
    "def main():\n",
    "    fileend = False   # To indicate end of file\n",
    "    \n",
    "    # Open the file.\n",
    "    infile = open(FILENAME, 'rb')\n",
    "\n",
    "    # Read to the end of the file.\n",
    "    while not fileend:\n",
    "        try:\n",
    "            # Unpickle the next object.\n",
    "            phone = pickle.load(infile)\n",
    "\n",
    "            # Display the cell phone data.\n",
    "            display_data(phone)\n",
    "        except EOFError:\n",
    "            # Set the flag to indicate the end of the file has been reached.\n",
    "            fileend = True\n",
    "\n",
    "    # Close the file.\n",
    "    infile.close()\n",
    "\n",
    "# display_data function displays the data from the CellPhone object passed as an argument.\n",
    "def display_data(phone):\n",
    "    print('Manufacturer:', phone.get_manufact())\n",
    "    print('Model Number:', phone.get_model())\n",
    "    print('Retail Price: $',  format(phone.get_retail_price(), ',.2f'), sep='')\n",
    "    print()\n",
    "\n",
    "# Call the main function.\n",
    "main()\n"
   ]
  },
  {
   "cell_type": "code",
   "execution_count": null,
   "metadata": {
    "hidden": true
   },
   "outputs": [],
   "source": []
  },
  {
   "cell_type": "code",
   "execution_count": null,
   "metadata": {
    "hidden": true
   },
   "outputs": [],
   "source": []
  },
  {
   "cell_type": "markdown",
   "metadata": {
    "hidden": true
   },
   "source": [
    "## private data field"
   ]
  },
  {
   "cell_type": "code",
   "execution_count": null,
   "metadata": {
    "hidden": true
   },
   "outputs": [],
   "source": []
  },
  {
   "cell_type": "code",
   "execution_count": 215,
   "metadata": {
    "hidden": true
   },
   "outputs": [],
   "source": [
    "class Loan:\n",
    "    \n",
    "    def __init__(self, rate ,maturity , principal , borrower ):\n",
    "        self.__rate = rate\n",
    "        self.__maturity = maturity\n",
    "        self.__principal = principal\n",
    "        self.__borrower = borrower\n",
    "\n",
    "    def getrate(self):\n",
    "        return self.__rate\n",
    "    def getmaturity(self):\n",
    "        return self.__maturity\n",
    "    def getprincipal(self):\n",
    "        return self.__principal\n",
    "    def getborrower(self):\n",
    "        return self.__borrower\n",
    "    \n",
    "    def setrate(self, rate):\n",
    "        self.__rate = rate\n",
    "    def setmaturity(self, maturity):\n",
    "        self.__maturity = maturity\n",
    "    def setprincipal(self, principal):\n",
    "        self.__princiapl = principal\n",
    "    def setborrower(self, borrower):\n",
    "        self.__borrower = borrower\n",
    "\n",
    "    def monthlypayment(self):\n",
    "        monthlypayment = (self.__principal * (self.__rate/12)) / \\\n",
    "        (1 - (1 / (1 + (self.__rate/12)) ** (self.__maturity * 12)))\n",
    "        return monthlypayment"
   ]
  },
  {
   "cell_type": "code",
   "execution_count": 194,
   "metadata": {
    "hidden": true
   },
   "outputs": [],
   "source": [
    "L1=Loan(0.05,10,100000,\"이고려\")"
   ]
  },
  {
   "cell_type": "code",
   "execution_count": 195,
   "metadata": {
    "hidden": true
   },
   "outputs": [
    {
     "data": {
      "text/plain": [
       "1060.6551523907553"
      ]
     },
     "execution_count": 195,
     "metadata": {},
     "output_type": "execute_result"
    }
   ],
   "source": [
    "월상환액=L1.monthlypayment()\n",
    "월상환액"
   ]
  },
  {
   "cell_type": "code",
   "execution_count": 196,
   "metadata": {
    "hidden": true
   },
   "outputs": [
    {
     "ename": "AttributeError",
     "evalue": "'Loan' object has no attribute 'rate'",
     "output_type": "error",
     "traceback": [
      "\u001b[1;31m---------------------------------------------------------------------------\u001b[0m",
      "\u001b[1;31mAttributeError\u001b[0m                            Traceback (most recent call last)",
      "\u001b[1;32m<ipython-input-196-a97ab36ecf38>\u001b[0m in \u001b[0;36m<module>\u001b[1;34m()\u001b[0m\n\u001b[1;32m----> 1\u001b[1;33m \u001b[0mL1\u001b[0m\u001b[1;33m.\u001b[0m\u001b[0mrate\u001b[0m\u001b[1;33m\u001b[0m\u001b[0m\n\u001b[0m",
      "\u001b[1;31mAttributeError\u001b[0m: 'Loan' object has no attribute 'rate'"
     ]
    }
   ],
   "source": [
    "L1.rate"
   ]
  },
  {
   "cell_type": "code",
   "execution_count": 197,
   "metadata": {
    "hidden": true
   },
   "outputs": [
    {
     "data": {
      "text/plain": [
       "0.05"
      ]
     },
     "execution_count": 197,
     "metadata": {},
     "output_type": "execute_result"
    }
   ],
   "source": [
    "L1.getrate()"
   ]
  },
  {
   "cell_type": "code",
   "execution_count": 216,
   "metadata": {
    "hidden": true
   },
   "outputs": [
    {
     "name": "stdout",
     "output_type": "stream",
     "text": [
      "연이자율 입력: 0.05\n",
      "만기 입력: 2\n",
      "대출원금 입력: 10000\n",
      "차입자 입력: \"kim\"\n",
      "차입자 성명은 \"kim\" 입니다.\n",
      "월상환금은 438.71 입니다.\n"
     ]
    }
   ],
   "source": [
    "def main():\n",
    "    \n",
    "    # 이자율 입력(소수점 단위)\n",
    "    rate = eval(input (\"연이자율 입력: \"))\n",
    "    \n",
    "    # 만기 입력(연단위)\n",
    "    maturity = eval(input(\"만기 입력: \"))\n",
    "\n",
    "    # 대출원금 입력\n",
    "    principal = eval(input( \"대출원금 입력: \"))\n",
    "\n",
    "    # 차입자 입력\n",
    "    borrower = input(\"차입자 입력: \")\n",
    "\n",
    "    # Loan CLASS 객체 생성\n",
    "    loan = Loan(rate, maturity,principal, borrower)\n",
    "\n",
    "    # 차입자 , 월상환액 출력\n",
    "    print(\"차입자 성명은\", loan.getborrower(),\"입니다.\")\n",
    "    print(\"월상환금은\", format(loan.monthlypayment(), '.2f'), \"입니다.\")\n",
    "\n",
    "main() # Call the main function"
   ]
  },
  {
   "cell_type": "code",
   "execution_count": 49,
   "metadata": {
    "hidden": true
   },
   "outputs": [],
   "source": []
  },
  {
   "cell_type": "code",
   "execution_count": 50,
   "metadata": {
    "hidden": true
   },
   "outputs": [],
   "source": []
  },
  {
   "cell_type": "code",
   "execution_count": null,
   "metadata": {
    "hidden": true
   },
   "outputs": [],
   "source": []
  },
  {
   "cell_type": "code",
   "execution_count": null,
   "metadata": {
    "hidden": true
   },
   "outputs": [],
   "source": []
  },
  {
   "cell_type": "code",
   "execution_count": null,
   "metadata": {
    "hidden": true
   },
   "outputs": [],
   "source": []
  },
  {
   "cell_type": "code",
   "execution_count": null,
   "metadata": {
    "hidden": true
   },
   "outputs": [],
   "source": []
  },
  {
   "cell_type": "code",
   "execution_count": null,
   "metadata": {
    "hidden": true
   },
   "outputs": [],
   "source": []
  },
  {
   "cell_type": "code",
   "execution_count": null,
   "metadata": {
    "hidden": true
   },
   "outputs": [],
   "source": []
  },
  {
   "cell_type": "code",
   "execution_count": null,
   "metadata": {
    "hidden": true
   },
   "outputs": [],
   "source": []
  },
  {
   "cell_type": "markdown",
   "metadata": {
    "heading_collapsed": true
   },
   "source": [
    "# elementary programming"
   ]
  },
  {
   "cell_type": "code",
   "execution_count": null,
   "metadata": {
    "hidden": true
   },
   "outputs": [],
   "source": [
    "# 반지름을 radius에 할당한다.\n",
    "radius = 20\n",
    "\n",
    "# 넓이를 계산한다.\n",
    "area = radius * radius * 3.14159\n",
    "\n",
    "# 결과를 출력한다.\n",
    "print(\"반지름이\", radius, \"인 원의 넓이는\", area, \"입니다.\")"
   ]
  },
  {
   "cell_type": "code",
   "execution_count": 2,
   "metadata": {
    "hidden": true
   },
   "outputs": [
    {
     "name": "stdout",
     "output_type": "stream",
     "text": [
      "반지름을 입력하세요: 5\n",
      "반지름이 5 인 원의 넓이는 78.53975 입니다.\n"
     ]
    }
   ],
   "source": [
    "# 사용자로부터 반지름 값을 입력받는다.\n",
    "radius = eval(input(\"반지름을 입력하세요: \"))\n",
    "\n",
    "# 넓이를 계산한다.\n",
    "area = radius * radius * 3.14159\n",
    "\n",
    "# 결과를 출력한다.\n",
    "print(\"반지름이\", radius, \"인 원의 넓이는\", area, \"입니다.\")"
   ]
  },
  {
   "cell_type": "code",
   "execution_count": 3,
   "metadata": {
    "hidden": true
   },
   "outputs": [
    {
     "name": "stdout",
     "output_type": "stream",
     "text": [
      "세 개의 숫자를 콤마(,)로 구분하여 입력하세요: 3,4,6\n",
      "3 4 6 의 평균은 4.333333333333333 입니다.\n"
     ]
    }
   ],
   "source": [
    "# 사용자로부터 세 개의 숫자를 입력받는다.\n",
    "number1, number2, number3 = eval(input( \"세 개의 숫자를 콤마(,)로 구분하여 입력하세요: \"))\n",
    "\n",
    "# 평균을 계산한다.\n",
    "average = (number1 + number2 + number3) / 3\n",
    "\n",
    "# 결과를 출력한다.\n",
    "print(number1, number2, number3,\"의 평균은\", average, \"입니다.\")"
   ]
  },
  {
   "cell_type": "code",
   "execution_count": 147,
   "metadata": {
    "hidden": true
   },
   "outputs": [
    {
     "name": "stdout",
     "output_type": "stream",
     "text": [
      "총 구입액을 입력하세요: 245000\n",
      "부가세는 24500 입니다.\n"
     ]
    }
   ],
   "source": [
    "# 구매액 입력.\n",
    "purchaseAmount = eval(input(\"총 구입액을 입력하세요: \"))\n",
    "\n",
    "# 부가세 계산\n",
    "VAT = purchaseAmount * 0.1\n",
    "\n",
    "# 부가세를 정수로 출력\n",
    "print(\"부가세는\", int(VAT), \"입니다.\")"
   ]
  },
  {
   "cell_type": "code",
   "execution_count": 12,
   "metadata": {
    "hidden": true
   },
   "outputs": [
    {
     "name": "stdout",
     "output_type": "stream",
     "text": [
      "현재 시간은10:25:0 GMT 입니다.\n"
     ]
    }
   ],
   "source": [
    "import time\n",
    "\n",
    "currentTime = time.time() # 현재 시간을 얻어온다.\n",
    "\n",
    "# 1970년 1월 1일 자정 이후로의 전체 초 값을 얻어온다.\n",
    "totalSeconds = int(currentTime)\n",
    "\n",
    "# 현재 시간의 초 값을 계산한다.\n",
    "currentSecond = totalSeconds % 60\n",
    "\n",
    "# 전체 분 값을 계산한다.\n",
    "totalMinutes = totalSeconds // 60\n",
    "\n",
    "# 현재 시간의 분 값을 계산한다.\n",
    "currentMinute = totalMinutes % 60\n",
    "\n",
    "# 전체 시 값을 계산한다.\n",
    "totalHours = totalMinutes // 60\n",
    "\n",
    "# 현재 시간의 시 값을 계산한다.\n",
    "currentHour = totalHours % 24\n",
    "\n",
    "# 결과를 출력한다.\n",
    "print(\"현재 시간은\" + str(currentHour) + \":\"\n",
    "    + str(currentMinute) + \":\" + str(currentSecond) + \" GMT 입니다.\")"
   ]
  },
  {
   "cell_type": "code",
   "execution_count": 146,
   "metadata": {
    "hidden": true
   },
   "outputs": [
    {
     "name": "stdout",
     "output_type": "stream",
     "text": [
      "대출이자율을 입력하세요(예, 0.03): 0.05\n",
      "만기년수를 정수로 입력하세요(예, 2): 20\n",
      "대출원금을 입력하세요(예, 1000000: 100000000\n",
      "월상환금은 659955 입니다.\n",
      "총상환금은 158389377 입니다.\n"
     ]
    }
   ],
   "source": [
    "# 연이자율 입력\n",
    "annualrate = eval(input(\"대출이자율을 입력하세요(예, 0.03): \"))\n",
    "monthlyrate = annualrate / 12\n",
    "\n",
    "# 만기(년수) 입력\n",
    "maturity = eval(input(\"만기년수를 정수로 입력하세요(예, 2): \"))\n",
    "\n",
    "# 대출원금 입력\n",
    "principal = eval(input(\"대출원금을 입력하세요(예, 1000000: \"))\n",
    "\n",
    "# 월상환금 계산\n",
    "payment = (principal * monthlyrate) / (1- 1 / (1 + monthlyrate) ** (maturity * 12))\n",
    "\n",
    "# 총상환금을 계산\n",
    "totalpayment = payment * maturity * 12\n",
    "\n",
    "# 총이자액 계산\n",
    "totalinterest=totalpayment-principal\n",
    "\n",
    "# 결과 출력.\n",
    "print(\"월상환금은\", int(payment), \"입니다.\")\n",
    "print(\"총상환금은\", int(totalpayment), \"입니다.\")"
   ]
  },
  {
   "cell_type": "markdown",
   "metadata": {
    "heading_collapsed": true
   },
   "source": [
    "# math functions string objects"
   ]
  },
  {
   "cell_type": "code",
   "execution_count": 17,
   "metadata": {
    "hidden": true
   },
   "outputs": [
    {
     "name": "stdout",
     "output_type": "stream",
     "text": [
      "exp(1.0) = 2.718281828459045\n",
      "log(3.78) = 1.0\n",
      "log10(10, 10) = 1.0\n",
      "sqrt(4.0) = 2.0\n"
     ]
    }
   ],
   "source": [
    "import math # 수학 함수를 사용하기 위해 math 모듈을 임포트한다.\n",
    "\n",
    "# 수학 함수를 테스트한다.\n",
    "print(\"exp(1.0) =\", math.exp(1))\n",
    "print(\"log(3.78) =\", math.log(math.e))\n",
    "print(\"log10(10, 10) =\", math.log(10, 10))\n",
    "print(\"sqrt(4.0) =\", math.sqrt(4.0))\n"
   ]
  },
  {
   "cell_type": "code",
   "execution_count": null,
   "metadata": {
    "hidden": true
   },
   "outputs": [],
   "source": []
  },
  {
   "cell_type": "code",
   "execution_count": null,
   "metadata": {
    "hidden": true
   },
   "outputs": [],
   "source": []
  },
  {
   "cell_type": "markdown",
   "metadata": {
    "heading_collapsed": true
   },
   "source": [
    "# selections"
   ]
  },
  {
   "cell_type": "code",
   "execution_count": null,
   "metadata": {
    "hidden": true
   },
   "outputs": [],
   "source": [
    "# This program gets three test scores and displays their average.  \n",
    "# It congratulates the user if the average is a high score.\n",
    "\n",
    "# The high score variable holds the value that isconsidered a high score.\n",
    "\n",
    "high_score = 95\n",
    " \n",
    "# Get the three test scores.\n",
    "test1 = int(input('Enter the score for test 1: '))\n",
    "test2 = int(input('Enter the score for test 2: '))\n",
    "test3 = int(input('Enter the score for test 3: '))\n",
    "\n",
    "# Calculate the average test score.\n",
    "average = (test1 + test2 + test3) / 3\n",
    "\n",
    "# Print the average.\n",
    "print('The average score is', format(average,\",2f\")\n",
    "\n",
    "# If the average is a high score, congratulate the user.\n",
    "if average >= high_score:\n",
    "    print('Congratulations!')\n",
    "    print('That is a great average!')"
   ]
  },
  {
   "cell_type": "code",
   "execution_count": 9,
   "metadata": {
    "hidden": true
   },
   "outputs": [
    {
     "name": "stdout",
     "output_type": "stream",
     "text": [
      "Enter the number of hours worked: 50\n",
      "Enter the hourly pay rate: 20\n",
      "The gross pay is $1,100.00\n"
     ]
    }
   ],
   "source": [
    "# Variables to represent the base hours and the overtime multiplier.\n",
    "base_hours = 40       # Base hours per week\n",
    "ot_multiplier = 1.5   # Overtime multiplier\n",
    "\n",
    "# Get the hours worked and the hourly pay rate.\n",
    "workhours = float(input('Enter the number of hours worked: '))\n",
    "pay_rate = float(input('Enter the hourly pay rate: '))\n",
    "\n",
    "# Calculate and display the gross pay.\n",
    "if workhours > base_hours:\n",
    "    # Calculate the gross pay with overtime.\n",
    "    # First, get the number of overtime hours worked.\n",
    "    overtime_hours = workhours - base_hours\n",
    "\n",
    "    # Calculate the amount of overtime pay.\n",
    "    overtime_pay = overtime_hours * pay_rate * ot_multiplier\n",
    "\n",
    "    # Calculate the gross pay.\n",
    "    gross_pay = base_hours * pay_rate + overtime_pay\n",
    "else:\n",
    "    # Calculate the gross pay without overtime.\n",
    "    gross_pay = workhours * pay_rate\n",
    "\n",
    "# Display the gross pay.\n",
    "print('The gross pay is $', format(gross_pay, ',.2f'), sep='')"
   ]
  },
  {
   "cell_type": "code",
   "execution_count": 10,
   "metadata": {
    "hidden": true
   },
   "outputs": [
    {
     "name": "stdout",
     "output_type": "stream",
     "text": [
      "Enter the password: Python\n",
      "Sorry, that is the wrong password.\n"
     ]
    }
   ],
   "source": [
    "# This program compares two strings.\n",
    "# Get a password from the user.\n",
    "\n",
    "password = input('Enter the password: ')\n",
    "\n",
    "# Determine whether the correct password was entered.\n",
    "if password == 'pythoncode':\n",
    "    print('Password accepted.')\n",
    "else:\n",
    "    print('Sorry, that is the wrong password.')"
   ]
  },
  {
   "cell_type": "code",
   "execution_count": null,
   "metadata": {
    "hidden": true
   },
   "outputs": [],
   "source": [
    "# This program compare strings with the < operator.\n",
    "# Get two names from the user.\n",
    "name1 = input('Enter a name (last name first): ')\n",
    "name2 = input('Enter another name (last name first): ')\n",
    "    \n",
    "# Display the names in alphabetical order.\n",
    "print('Here are the names, listed alphabetically.')\n",
    "\n",
    "if name1 < name2:\n",
    "    print(name1)\n",
    "    print(name2)\n",
    "else:\n",
    "    print(name2)\n",
    "    print(name1)"
   ]
  },
  {
   "cell_type": "code",
   "execution_count": 11,
   "metadata": {
    "hidden": true
   },
   "outputs": [
    {
     "name": "stdout",
     "output_type": "stream",
     "text": [
      "수강생 1의 이름을 입력하세요: 이고려\n",
      "수강생 2의 이름을 입력하세요: 김연세\n",
      "가나다순 수강생입니다.\n",
      "김연세\n",
      "이고려\n"
     ]
    }
   ],
   "source": [
    "# This program compare strings with the < operator.\n",
    "# Get two names from the user.\n",
    "name1 = input('수강생 1의 이름을 입력하세요: ')\n",
    "name2 = input('수강생 2의 이름을 입력하세요: ')\n",
    "    \n",
    "# Display the names in alphabetical order.\n",
    "print('가나다순 수강생입니다.')\n",
    "\n",
    "if name1 < name2:\n",
    "    print(name1)\n",
    "    print(name2)\n",
    "else:\n",
    "    print(name2)\n",
    "    print(name1)"
   ]
  },
  {
   "cell_type": "code",
   "execution_count": 4,
   "metadata": {
    "hidden": true
   },
   "outputs": [
    {
     "name": "stdout",
     "output_type": "stream",
     "text": [
      "Enter your annual salary: 20000\n",
      "Enter the number of years employed: 6\n",
      "You must earn at least $30,000.00 per year to qualify.\n"
     ]
    }
   ],
   "source": [
    "# This program determines whether a bank customer qualifies for a loan.\n",
    "\n",
    "min_salary = 30000.0  # The minimum annual salary\n",
    "min_years = 2         # The minimum years on the job\n",
    "\n",
    "# Get the customer's annual salary.\n",
    "salary = float(input('Enter your annual salary: '))\n",
    "\n",
    "# Get the number of years on the current job.\n",
    "years_on_job = int(input('Enter the number of years employed: '))\n",
    "\n",
    "# Determine whether the customer qualifies.\n",
    "if salary >= min_salary:\n",
    "    if years_on_job >= min_years:\n",
    "        print('You qualify for the loan.')\n",
    "    else:\n",
    "        print('You must have been employed for at least', min_years, 'years to qualify.')\n",
    "else:\n",
    "    print('You must earn at least $', format(min_salary, ',.2f'),  ' per year to qualify.', sep='')\n"
   ]
  },
  {
   "cell_type": "code",
   "execution_count": 8,
   "metadata": {
    "hidden": true
   },
   "outputs": [
    {
     "name": "stdout",
     "output_type": "stream",
     "text": [
      "Enter your test score: 78\n",
      "Your grade is C.\n"
     ]
    }
   ],
   "source": [
    "# This program gets a numeric test score from the\n",
    "# user and displays the corresponding letter grade.\n",
    "\n",
    "# Variables to represent the grade thresholds\n",
    "A_score = 90\n",
    "B_score = 80\n",
    "C_score = 70\n",
    "D_score = 60\n",
    "\n",
    "# Get a test score from the user.\n",
    "score = int(input('Enter your test score: '))\n",
    " \n",
    "# Determine the grade.\n",
    "if score >= A_score:\n",
    "    print('Your grade is A.')\n",
    "else:\n",
    "    if score >= B_score:\n",
    "        print('Your grade is B.')\n",
    "    else:\n",
    "        if score >= C_score:\n",
    "            print('Your grade is C.')\n",
    "        else:\n",
    "            if score >= D_score:\n",
    "                print('Your grade is D.')\n",
    "            else:\n",
    "                print('Your grade is F.')"
   ]
  },
  {
   "cell_type": "code",
   "execution_count": null,
   "metadata": {
    "hidden": true
   },
   "outputs": [],
   "source": []
  },
  {
   "cell_type": "code",
   "execution_count": null,
   "metadata": {
    "hidden": true
   },
   "outputs": [],
   "source": [
    "# This program determines whether a bank customer qualifies for a loan.\n",
    "\n",
    "min_salary = 30000.0  # The minimum annual salary\n",
    "min_years = 2         # The minimum years on the job\n",
    "\n",
    "# Get the customer's annual salary.\n",
    "salary = float(input('Enter your annual salary: '))\n",
    "\n",
    "# Get the number of years on the current job.\n",
    "years_on_job = int(input('Enter the number of years employed: '))\n",
    "\n",
    "# Determine whether the customer qualifies.\n",
    "if salary >= min_salary and years_on_job >= min_years:\n",
    "    print('You qualify for the loan.')\n",
    "else:\n",
    "    print('You do not qualify for this loan.')\n",
    "\n"
   ]
  },
  {
   "cell_type": "code",
   "execution_count": null,
   "metadata": {
    "hidden": true
   },
   "outputs": [],
   "source": [
    "# This program determines whether a bank customer qualifies for a loan.\n",
    "\n",
    "min_salary = 30000.0  # The minimum annual salary\n",
    "min_years = 2         # The minimum years on the job\n",
    "\n",
    "# Get the customer's annual salary.\n",
    "salary = float(input('Enter your annual salary: '))\n",
    "\n",
    "# Get the number of years on the current job.\n",
    "years_on_job = int(input('Enter the number of ' +\n",
    "                         'years employed: '))\n",
    "\n",
    "# Determine whether the customer qualifies.\n",
    "if salary >= min_salary or years_on_job >= min_years:\n",
    "    print('You qualify for the loan.')\n",
    "else:\n",
    "    print('You do not qualify for this loan.')\n"
   ]
  },
  {
   "cell_type": "code",
   "execution_count": null,
   "metadata": {
    "hidden": true
   },
   "outputs": [],
   "source": []
  },
  {
   "cell_type": "code",
   "execution_count": null,
   "metadata": {
    "hidden": true
   },
   "outputs": [],
   "source": []
  },
  {
   "cell_type": "code",
   "execution_count": null,
   "metadata": {
    "hidden": true
   },
   "outputs": [],
   "source": []
  },
  {
   "cell_type": "code",
   "execution_count": 2,
   "metadata": {
    "hidden": true
   },
   "outputs": [
    {
     "name": "stdout",
     "output_type": "stream",
     "text": [
      "정수를 입력하세요: 5\n",
      "HiFive\n"
     ]
    }
   ],
   "source": [
    "number = eval(input(\"정수를 입력하세요: \"))\n",
    "\n",
    "if number % 5 == 0 :\n",
    "   print(\"HiFive\");\n",
    "\n",
    "if number % 2 == 0 :\n",
    "   print(\"HiEven\");\n"
   ]
  },
  {
   "cell_type": "code",
   "execution_count": 9,
   "metadata": {
    "hidden": true
   },
   "outputs": [
    {
     "name": "stdout",
     "output_type": "stream",
     "text": [
      "3 - 3은/는 얼마입니까? 4\n",
      "틀렸습니다.\n",
      " 3 - 3 은/는 0 입니다.\n"
     ]
    }
   ],
   "source": [
    "import random\n",
    "\n",
    "#  한 자리 정수를 생성한다.\n",
    "number1 = random.randint(0, 9)\n",
    "number2 = random.randint(0, 9)\n",
    "\n",
    "#  number1 < number2이면  두 수를 교환한다.\n",
    "if number1 < number2:\n",
    "    number1, number2 = number2, number1 # 동시 할당문\n",
    "\n",
    "#  \"number1 - number2은/는 얼마입니까?\"라고 묻는다.\n",
    "answer = input(str(number1) + \" - \" + str(number2) + \"은/는 얼마입니까? \")\n",
    "\n",
    "# 답을 검사하고 결과를 출력한다.\n",
    "if number1 - number2 == answer:\n",
    "    print(\"정답입니다!\")\n",
    "else:\n",
    "    print(\"틀렸습니다.\\n\", number1 , \"-\",number2, \"은/는\", number1 - number2, \"입니다.\")\n"
   ]
  },
  {
   "cell_type": "code",
   "execution_count": null,
   "metadata": {
    "hidden": true
   },
   "outputs": [],
   "source": []
  },
  {
   "cell_type": "code",
   "execution_count": 7,
   "metadata": {
    "hidden": true
   },
   "outputs": [
    {
     "data": {
      "text/html": [
       "<div>\n",
       "<style scoped>\n",
       "    .dataframe tbody tr th:only-of-type {\n",
       "        vertical-align: middle;\n",
       "    }\n",
       "\n",
       "    .dataframe tbody tr th {\n",
       "        vertical-align: top;\n",
       "    }\n",
       "\n",
       "    .dataframe thead th {\n",
       "        text-align: right;\n",
       "    }\n",
       "</style>\n",
       "<table border=\"1\" class=\"dataframe\">\n",
       "  <thead>\n",
       "    <tr style=\"text-align: right;\">\n",
       "      <th></th>\n",
       "      <th>이름</th>\n",
       "      <th>사용자 ID</th>\n",
       "      <th>중간고사</th>\n",
       "      <th>기말</th>\n",
       "      <th>평균</th>\n",
       "    </tr>\n",
       "  </thead>\n",
       "  <tbody>\n",
       "    <tr>\n",
       "      <th>0</th>\n",
       "      <td>CEN KAIHANG</td>\n",
       "      <td>2018390568</td>\n",
       "      <td>3.0</td>\n",
       "      <td>2.0</td>\n",
       "      <td>2.5</td>\n",
       "    </tr>\n",
       "    <tr>\n",
       "      <th>1</th>\n",
       "      <td>강무윤</td>\n",
       "      <td>2017270022</td>\n",
       "      <td>89.0</td>\n",
       "      <td>82.0</td>\n",
       "      <td>85.5</td>\n",
       "    </tr>\n",
       "    <tr>\n",
       "      <th>2</th>\n",
       "      <td>강민석</td>\n",
       "      <td>2013271117</td>\n",
       "      <td>76.0</td>\n",
       "      <td>70.0</td>\n",
       "      <td>73.0</td>\n",
       "    </tr>\n",
       "    <tr>\n",
       "      <th>3</th>\n",
       "      <td>강재욱</td>\n",
       "      <td>2017270021</td>\n",
       "      <td>79.0</td>\n",
       "      <td>40.0</td>\n",
       "      <td>59.5</td>\n",
       "    </tr>\n",
       "    <tr>\n",
       "      <th>4</th>\n",
       "      <td>강종원</td>\n",
       "      <td>2014280232</td>\n",
       "      <td>55.0</td>\n",
       "      <td>41.0</td>\n",
       "      <td>48.0</td>\n",
       "    </tr>\n",
       "  </tbody>\n",
       "</table>\n",
       "</div>"
      ],
      "text/plain": [
       "            이름      사용자 ID  중간고사    기말    평균\n",
       "0  CEN KAIHANG  2018390568   3.0   2.0   2.5\n",
       "1          강무윤  2017270022  89.0  82.0  85.5\n",
       "2          강민석  2013271117  76.0  70.0  73.0\n",
       "3          강재욱  2017270021  79.0  40.0  59.5\n",
       "4          강종원  2014280232  55.0  41.0  48.0"
      ]
     },
     "execution_count": 7,
     "metadata": {},
     "output_type": "execute_result"
    }
   ],
   "source": [
    "import pandas as pd\n",
    "roster=pd.read_excel('roster.xlsx')\n",
    "roster.head()"
   ]
  },
  {
   "cell_type": "code",
   "execution_count": 10,
   "metadata": {
    "hidden": true
   },
   "outputs": [
    {
     "data": {
      "text/html": [
       "<div>\n",
       "<style scoped>\n",
       "    .dataframe tbody tr th:only-of-type {\n",
       "        vertical-align: middle;\n",
       "    }\n",
       "\n",
       "    .dataframe tbody tr th {\n",
       "        vertical-align: top;\n",
       "    }\n",
       "\n",
       "    .dataframe thead th {\n",
       "        text-align: right;\n",
       "    }\n",
       "</style>\n",
       "<table border=\"1\" class=\"dataframe\">\n",
       "  <thead>\n",
       "    <tr style=\"text-align: right;\">\n",
       "      <th></th>\n",
       "      <th>이름</th>\n",
       "      <th>사용자 ID</th>\n",
       "      <th>중간고사</th>\n",
       "      <th>기말</th>\n",
       "      <th>평균</th>\n",
       "      <th>학점</th>\n",
       "    </tr>\n",
       "  </thead>\n",
       "  <tbody>\n",
       "    <tr>\n",
       "      <th>0</th>\n",
       "      <td>CEN KAIHANG</td>\n",
       "      <td>2018390568</td>\n",
       "      <td>3.000000</td>\n",
       "      <td>2.000000</td>\n",
       "      <td>2.500000</td>\n",
       "      <td>F</td>\n",
       "    </tr>\n",
       "    <tr>\n",
       "      <th>1</th>\n",
       "      <td>강무윤</td>\n",
       "      <td>2017270022</td>\n",
       "      <td>89.000000</td>\n",
       "      <td>82.000000</td>\n",
       "      <td>85.500000</td>\n",
       "      <td>A+</td>\n",
       "    </tr>\n",
       "    <tr>\n",
       "      <th>2</th>\n",
       "      <td>강민석</td>\n",
       "      <td>2013271117</td>\n",
       "      <td>76.000000</td>\n",
       "      <td>70.000000</td>\n",
       "      <td>73.000000</td>\n",
       "      <td>B+</td>\n",
       "    </tr>\n",
       "    <tr>\n",
       "      <th>3</th>\n",
       "      <td>강재욱</td>\n",
       "      <td>2017270021</td>\n",
       "      <td>79.000000</td>\n",
       "      <td>40.000000</td>\n",
       "      <td>59.500000</td>\n",
       "      <td>B</td>\n",
       "    </tr>\n",
       "    <tr>\n",
       "      <th>4</th>\n",
       "      <td>강종원</td>\n",
       "      <td>2014280232</td>\n",
       "      <td>55.000000</td>\n",
       "      <td>41.000000</td>\n",
       "      <td>48.000000</td>\n",
       "      <td>C+</td>\n",
       "    </tr>\n",
       "    <tr>\n",
       "      <th>5</th>\n",
       "      <td>고현건</td>\n",
       "      <td>2014280167</td>\n",
       "      <td>57.000000</td>\n",
       "      <td>46.000000</td>\n",
       "      <td>51.500000</td>\n",
       "      <td>B</td>\n",
       "    </tr>\n",
       "    <tr>\n",
       "      <th>6</th>\n",
       "      <td>곽재연</td>\n",
       "      <td>2018390752</td>\n",
       "      <td>31.000000</td>\n",
       "      <td>0.000000</td>\n",
       "      <td>15.500000</td>\n",
       "      <td>D</td>\n",
       "    </tr>\n",
       "    <tr>\n",
       "      <th>7</th>\n",
       "      <td>권기진</td>\n",
       "      <td>2017390037</td>\n",
       "      <td>61.000000</td>\n",
       "      <td>16.000000</td>\n",
       "      <td>38.500000</td>\n",
       "      <td>C</td>\n",
       "    </tr>\n",
       "    <tr>\n",
       "      <th>8</th>\n",
       "      <td>권다솜</td>\n",
       "      <td>2017380312</td>\n",
       "      <td>48.000000</td>\n",
       "      <td>41.000000</td>\n",
       "      <td>44.500000</td>\n",
       "      <td>C+</td>\n",
       "    </tr>\n",
       "    <tr>\n",
       "      <th>9</th>\n",
       "      <td>권두현</td>\n",
       "      <td>2018390541</td>\n",
       "      <td>32.000000</td>\n",
       "      <td>43.000000</td>\n",
       "      <td>37.500000</td>\n",
       "      <td>C</td>\n",
       "    </tr>\n",
       "    <tr>\n",
       "      <th>10</th>\n",
       "      <td>권신규</td>\n",
       "      <td>2017270034</td>\n",
       "      <td>46.000000</td>\n",
       "      <td>50.000000</td>\n",
       "      <td>48.000000</td>\n",
       "      <td>C+</td>\n",
       "    </tr>\n",
       "    <tr>\n",
       "      <th>11</th>\n",
       "      <td>권재욱</td>\n",
       "      <td>2018390721</td>\n",
       "      <td>52.000000</td>\n",
       "      <td>51.000000</td>\n",
       "      <td>51.500000</td>\n",
       "      <td>B</td>\n",
       "    </tr>\n",
       "    <tr>\n",
       "      <th>12</th>\n",
       "      <td>금동준</td>\n",
       "      <td>2012280113</td>\n",
       "      <td>89.000000</td>\n",
       "      <td>83.000000</td>\n",
       "      <td>86.000000</td>\n",
       "      <td>A+</td>\n",
       "    </tr>\n",
       "    <tr>\n",
       "      <th>13</th>\n",
       "      <td>김가림</td>\n",
       "      <td>2017380056</td>\n",
       "      <td>56.000000</td>\n",
       "      <td>70.000000</td>\n",
       "      <td>63.000000</td>\n",
       "      <td>B</td>\n",
       "    </tr>\n",
       "    <tr>\n",
       "      <th>14</th>\n",
       "      <td>김기광</td>\n",
       "      <td>2017380225</td>\n",
       "      <td>66.000000</td>\n",
       "      <td>54.000000</td>\n",
       "      <td>60.000000</td>\n",
       "      <td>B</td>\n",
       "    </tr>\n",
       "    <tr>\n",
       "      <th>15</th>\n",
       "      <td>김대운</td>\n",
       "      <td>2017270026</td>\n",
       "      <td>59.000000</td>\n",
       "      <td>54.000000</td>\n",
       "      <td>56.500000</td>\n",
       "      <td>B</td>\n",
       "    </tr>\n",
       "    <tr>\n",
       "      <th>16</th>\n",
       "      <td>김대현</td>\n",
       "      <td>2018390742</td>\n",
       "      <td>77.000000</td>\n",
       "      <td>96.000000</td>\n",
       "      <td>86.500000</td>\n",
       "      <td>A+</td>\n",
       "    </tr>\n",
       "    <tr>\n",
       "      <th>17</th>\n",
       "      <td>김동철</td>\n",
       "      <td>2011300031</td>\n",
       "      <td>51.000000</td>\n",
       "      <td>60.000000</td>\n",
       "      <td>55.500000</td>\n",
       "      <td>B</td>\n",
       "    </tr>\n",
       "    <tr>\n",
       "      <th>18</th>\n",
       "      <td>김명환</td>\n",
       "      <td>2014280043</td>\n",
       "      <td>27.000000</td>\n",
       "      <td>26.000000</td>\n",
       "      <td>26.500000</td>\n",
       "      <td>D+</td>\n",
       "    </tr>\n",
       "    <tr>\n",
       "      <th>19</th>\n",
       "      <td>김미가</td>\n",
       "      <td>2018380123</td>\n",
       "      <td>52.000000</td>\n",
       "      <td>35.000000</td>\n",
       "      <td>43.500000</td>\n",
       "      <td>C+</td>\n",
       "    </tr>\n",
       "    <tr>\n",
       "      <th>20</th>\n",
       "      <td>김민석</td>\n",
       "      <td>2014300016</td>\n",
       "      <td>23.000000</td>\n",
       "      <td>18.000000</td>\n",
       "      <td>20.500000</td>\n",
       "      <td>D+</td>\n",
       "    </tr>\n",
       "    <tr>\n",
       "      <th>21</th>\n",
       "      <td>김민성</td>\n",
       "      <td>2016260507</td>\n",
       "      <td>75.000000</td>\n",
       "      <td>60.000000</td>\n",
       "      <td>67.500000</td>\n",
       "      <td>B+</td>\n",
       "    </tr>\n",
       "    <tr>\n",
       "      <th>22</th>\n",
       "      <td>김민영</td>\n",
       "      <td>2015271056</td>\n",
       "      <td>87.000000</td>\n",
       "      <td>87.000000</td>\n",
       "      <td>87.000000</td>\n",
       "      <td>A+</td>\n",
       "    </tr>\n",
       "    <tr>\n",
       "      <th>23</th>\n",
       "      <td>김민지</td>\n",
       "      <td>2018390584</td>\n",
       "      <td>43.000000</td>\n",
       "      <td>28.000000</td>\n",
       "      <td>35.500000</td>\n",
       "      <td>C</td>\n",
       "    </tr>\n",
       "    <tr>\n",
       "      <th>24</th>\n",
       "      <td>김소혜</td>\n",
       "      <td>2016280270</td>\n",
       "      <td>95.000000</td>\n",
       "      <td>82.000000</td>\n",
       "      <td>88.500000</td>\n",
       "      <td>A+</td>\n",
       "    </tr>\n",
       "    <tr>\n",
       "      <th>25</th>\n",
       "      <td>김수현</td>\n",
       "      <td>2018390519</td>\n",
       "      <td>56.000000</td>\n",
       "      <td>22.000000</td>\n",
       "      <td>39.000000</td>\n",
       "      <td>C</td>\n",
       "    </tr>\n",
       "    <tr>\n",
       "      <th>26</th>\n",
       "      <td>김연주</td>\n",
       "      <td>2017390021</td>\n",
       "      <td>41.000000</td>\n",
       "      <td>55.000000</td>\n",
       "      <td>48.000000</td>\n",
       "      <td>C+</td>\n",
       "    </tr>\n",
       "    <tr>\n",
       "      <th>27</th>\n",
       "      <td>김예진</td>\n",
       "      <td>2015310053</td>\n",
       "      <td>11.000000</td>\n",
       "      <td>16.000000</td>\n",
       "      <td>13.500000</td>\n",
       "      <td>D</td>\n",
       "    </tr>\n",
       "    <tr>\n",
       "      <th>28</th>\n",
       "      <td>김장웅</td>\n",
       "      <td>2015270237</td>\n",
       "      <td>36.000000</td>\n",
       "      <td>41.000000</td>\n",
       "      <td>38.500000</td>\n",
       "      <td>C</td>\n",
       "    </tr>\n",
       "    <tr>\n",
       "      <th>29</th>\n",
       "      <td>김정수</td>\n",
       "      <td>2018390706</td>\n",
       "      <td>65.000000</td>\n",
       "      <td>61.000000</td>\n",
       "      <td>63.000000</td>\n",
       "      <td>B</td>\n",
       "    </tr>\n",
       "    <tr>\n",
       "      <th>...</th>\n",
       "      <td>...</td>\n",
       "      <td>...</td>\n",
       "      <td>...</td>\n",
       "      <td>...</td>\n",
       "      <td>...</td>\n",
       "      <td>...</td>\n",
       "    </tr>\n",
       "    <tr>\n",
       "      <th>103</th>\n",
       "      <td>정상열</td>\n",
       "      <td>2014280127</td>\n",
       "      <td>76.000000</td>\n",
       "      <td>54.000000</td>\n",
       "      <td>65.000000</td>\n",
       "      <td>B+</td>\n",
       "    </tr>\n",
       "    <tr>\n",
       "      <th>104</th>\n",
       "      <td>정시영</td>\n",
       "      <td>2013270031</td>\n",
       "      <td>87.000000</td>\n",
       "      <td>65.000000</td>\n",
       "      <td>76.000000</td>\n",
       "      <td>A</td>\n",
       "    </tr>\n",
       "    <tr>\n",
       "      <th>105</th>\n",
       "      <td>정혜라</td>\n",
       "      <td>2018390547</td>\n",
       "      <td>72.000000</td>\n",
       "      <td>30.000000</td>\n",
       "      <td>51.000000</td>\n",
       "      <td>B</td>\n",
       "    </tr>\n",
       "    <tr>\n",
       "      <th>106</th>\n",
       "      <td>제승하</td>\n",
       "      <td>2013300003</td>\n",
       "      <td>87.000000</td>\n",
       "      <td>67.000000</td>\n",
       "      <td>77.000000</td>\n",
       "      <td>A</td>\n",
       "    </tr>\n",
       "    <tr>\n",
       "      <th>107</th>\n",
       "      <td>조민제</td>\n",
       "      <td>2018390534</td>\n",
       "      <td>82.000000</td>\n",
       "      <td>76.000000</td>\n",
       "      <td>79.000000</td>\n",
       "      <td>A</td>\n",
       "    </tr>\n",
       "    <tr>\n",
       "      <th>108</th>\n",
       "      <td>조예덕</td>\n",
       "      <td>2013300021</td>\n",
       "      <td>91.000000</td>\n",
       "      <td>86.000000</td>\n",
       "      <td>88.500000</td>\n",
       "      <td>A+</td>\n",
       "    </tr>\n",
       "    <tr>\n",
       "      <th>109</th>\n",
       "      <td>조유진</td>\n",
       "      <td>2018390522</td>\n",
       "      <td>30.000000</td>\n",
       "      <td>21.000000</td>\n",
       "      <td>25.500000</td>\n",
       "      <td>D+</td>\n",
       "    </tr>\n",
       "    <tr>\n",
       "      <th>110</th>\n",
       "      <td>조윤선</td>\n",
       "      <td>2015280314</td>\n",
       "      <td>66.000000</td>\n",
       "      <td>52.000000</td>\n",
       "      <td>59.000000</td>\n",
       "      <td>B</td>\n",
       "    </tr>\n",
       "    <tr>\n",
       "      <th>111</th>\n",
       "      <td>조윤정</td>\n",
       "      <td>2017390391</td>\n",
       "      <td>62.000000</td>\n",
       "      <td>56.000000</td>\n",
       "      <td>59.000000</td>\n",
       "      <td>B</td>\n",
       "    </tr>\n",
       "    <tr>\n",
       "      <th>112</th>\n",
       "      <td>조윤진</td>\n",
       "      <td>2015280326</td>\n",
       "      <td>73.000000</td>\n",
       "      <td>68.000000</td>\n",
       "      <td>70.500000</td>\n",
       "      <td>B+</td>\n",
       "    </tr>\n",
       "    <tr>\n",
       "      <th>113</th>\n",
       "      <td>조하연</td>\n",
       "      <td>2015280208</td>\n",
       "      <td>0.000000</td>\n",
       "      <td>0.000000</td>\n",
       "      <td>0.000000</td>\n",
       "      <td>F</td>\n",
       "    </tr>\n",
       "    <tr>\n",
       "      <th>114</th>\n",
       "      <td>주세연</td>\n",
       "      <td>2017270043</td>\n",
       "      <td>66.000000</td>\n",
       "      <td>42.000000</td>\n",
       "      <td>54.000000</td>\n",
       "      <td>B</td>\n",
       "    </tr>\n",
       "    <tr>\n",
       "      <th>115</th>\n",
       "      <td>최세희</td>\n",
       "      <td>2016260654</td>\n",
       "      <td>73.000000</td>\n",
       "      <td>75.000000</td>\n",
       "      <td>74.000000</td>\n",
       "      <td>B+</td>\n",
       "    </tr>\n",
       "    <tr>\n",
       "      <th>116</th>\n",
       "      <td>최원상</td>\n",
       "      <td>2018390766</td>\n",
       "      <td>26.000000</td>\n",
       "      <td>0.000000</td>\n",
       "      <td>13.000000</td>\n",
       "      <td>D</td>\n",
       "    </tr>\n",
       "    <tr>\n",
       "      <th>117</th>\n",
       "      <td>최원태</td>\n",
       "      <td>2017380311</td>\n",
       "      <td>92.000000</td>\n",
       "      <td>72.000000</td>\n",
       "      <td>82.000000</td>\n",
       "      <td>A</td>\n",
       "    </tr>\n",
       "    <tr>\n",
       "      <th>118</th>\n",
       "      <td>최준오</td>\n",
       "      <td>2018390501</td>\n",
       "      <td>96.000000</td>\n",
       "      <td>96.000000</td>\n",
       "      <td>96.000000</td>\n",
       "      <td>A+</td>\n",
       "    </tr>\n",
       "    <tr>\n",
       "      <th>119</th>\n",
       "      <td>최지희</td>\n",
       "      <td>2016280265</td>\n",
       "      <td>88.000000</td>\n",
       "      <td>84.000000</td>\n",
       "      <td>86.000000</td>\n",
       "      <td>A+</td>\n",
       "    </tr>\n",
       "    <tr>\n",
       "      <th>120</th>\n",
       "      <td>최형진</td>\n",
       "      <td>2018390734</td>\n",
       "      <td>31.000000</td>\n",
       "      <td>41.000000</td>\n",
       "      <td>36.000000</td>\n",
       "      <td>C</td>\n",
       "    </tr>\n",
       "    <tr>\n",
       "      <th>121</th>\n",
       "      <td>최훈녕</td>\n",
       "      <td>2018390585</td>\n",
       "      <td>83.000000</td>\n",
       "      <td>76.000000</td>\n",
       "      <td>79.500000</td>\n",
       "      <td>A</td>\n",
       "    </tr>\n",
       "    <tr>\n",
       "      <th>122</th>\n",
       "      <td>편단비</td>\n",
       "      <td>2015270010</td>\n",
       "      <td>80.000000</td>\n",
       "      <td>65.000000</td>\n",
       "      <td>72.500000</td>\n",
       "      <td>B+</td>\n",
       "    </tr>\n",
       "    <tr>\n",
       "      <th>123</th>\n",
       "      <td>하승빈</td>\n",
       "      <td>2014300076</td>\n",
       "      <td>86.000000</td>\n",
       "      <td>81.000000</td>\n",
       "      <td>83.500000</td>\n",
       "      <td>A</td>\n",
       "    </tr>\n",
       "    <tr>\n",
       "      <th>124</th>\n",
       "      <td>하영일</td>\n",
       "      <td>2014280317</td>\n",
       "      <td>85.000000</td>\n",
       "      <td>88.000000</td>\n",
       "      <td>86.500000</td>\n",
       "      <td>A+</td>\n",
       "    </tr>\n",
       "    <tr>\n",
       "      <th>125</th>\n",
       "      <td>하정훈</td>\n",
       "      <td>2015280067</td>\n",
       "      <td>97.000000</td>\n",
       "      <td>93.000000</td>\n",
       "      <td>95.000000</td>\n",
       "      <td>A+</td>\n",
       "    </tr>\n",
       "    <tr>\n",
       "      <th>126</th>\n",
       "      <td>한상건</td>\n",
       "      <td>2016300036</td>\n",
       "      <td>41.000000</td>\n",
       "      <td>50.000000</td>\n",
       "      <td>45.500000</td>\n",
       "      <td>C+</td>\n",
       "    </tr>\n",
       "    <tr>\n",
       "      <th>127</th>\n",
       "      <td>한성근</td>\n",
       "      <td>2014300069</td>\n",
       "      <td>72.000000</td>\n",
       "      <td>82.000000</td>\n",
       "      <td>77.000000</td>\n",
       "      <td>A</td>\n",
       "    </tr>\n",
       "    <tr>\n",
       "      <th>128</th>\n",
       "      <td>허란</td>\n",
       "      <td>2014280416</td>\n",
       "      <td>81.000000</td>\n",
       "      <td>83.000000</td>\n",
       "      <td>82.000000</td>\n",
       "      <td>A</td>\n",
       "    </tr>\n",
       "    <tr>\n",
       "      <th>129</th>\n",
       "      <td>현희주</td>\n",
       "      <td>2017400028</td>\n",
       "      <td>37.000000</td>\n",
       "      <td>32.000000</td>\n",
       "      <td>34.500000</td>\n",
       "      <td>C</td>\n",
       "    </tr>\n",
       "    <tr>\n",
       "      <th>130</th>\n",
       "      <td>황은진</td>\n",
       "      <td>2018380042</td>\n",
       "      <td>39.000000</td>\n",
       "      <td>45.000000</td>\n",
       "      <td>42.000000</td>\n",
       "      <td>C+</td>\n",
       "    </tr>\n",
       "    <tr>\n",
       "      <th>131</th>\n",
       "      <td>NaN</td>\n",
       "      <td>NaN</td>\n",
       "      <td>NaN</td>\n",
       "      <td>NaN</td>\n",
       "      <td>NaN</td>\n",
       "      <td>F</td>\n",
       "    </tr>\n",
       "    <tr>\n",
       "      <th>132</th>\n",
       "      <td>NaN</td>\n",
       "      <td>평균</td>\n",
       "      <td>62.832061</td>\n",
       "      <td>57.761538</td>\n",
       "      <td>60.076336</td>\n",
       "      <td>B</td>\n",
       "    </tr>\n",
       "  </tbody>\n",
       "</table>\n",
       "<p>133 rows × 6 columns</p>\n",
       "</div>"
      ],
      "text/plain": [
       "              이름      사용자 ID       중간고사         기말         평균  학점\n",
       "0    CEN KAIHANG  2018390568   3.000000   2.000000   2.500000   F\n",
       "1            강무윤  2017270022  89.000000  82.000000  85.500000  A+\n",
       "2            강민석  2013271117  76.000000  70.000000  73.000000  B+\n",
       "3            강재욱  2017270021  79.000000  40.000000  59.500000   B\n",
       "4            강종원  2014280232  55.000000  41.000000  48.000000  C+\n",
       "5            고현건  2014280167  57.000000  46.000000  51.500000   B\n",
       "6            곽재연  2018390752  31.000000   0.000000  15.500000   D\n",
       "7            권기진  2017390037  61.000000  16.000000  38.500000   C\n",
       "8            권다솜  2017380312  48.000000  41.000000  44.500000  C+\n",
       "9            권두현  2018390541  32.000000  43.000000  37.500000   C\n",
       "10           권신규  2017270034  46.000000  50.000000  48.000000  C+\n",
       "11           권재욱  2018390721  52.000000  51.000000  51.500000   B\n",
       "12           금동준  2012280113  89.000000  83.000000  86.000000  A+\n",
       "13           김가림  2017380056  56.000000  70.000000  63.000000   B\n",
       "14           김기광  2017380225  66.000000  54.000000  60.000000   B\n",
       "15           김대운  2017270026  59.000000  54.000000  56.500000   B\n",
       "16           김대현  2018390742  77.000000  96.000000  86.500000  A+\n",
       "17           김동철  2011300031  51.000000  60.000000  55.500000   B\n",
       "18           김명환  2014280043  27.000000  26.000000  26.500000  D+\n",
       "19           김미가  2018380123  52.000000  35.000000  43.500000  C+\n",
       "20           김민석  2014300016  23.000000  18.000000  20.500000  D+\n",
       "21           김민성  2016260507  75.000000  60.000000  67.500000  B+\n",
       "22           김민영  2015271056  87.000000  87.000000  87.000000  A+\n",
       "23           김민지  2018390584  43.000000  28.000000  35.500000   C\n",
       "24           김소혜  2016280270  95.000000  82.000000  88.500000  A+\n",
       "25           김수현  2018390519  56.000000  22.000000  39.000000   C\n",
       "26           김연주  2017390021  41.000000  55.000000  48.000000  C+\n",
       "27           김예진  2015310053  11.000000  16.000000  13.500000   D\n",
       "28           김장웅  2015270237  36.000000  41.000000  38.500000   C\n",
       "29           김정수  2018390706  65.000000  61.000000  63.000000   B\n",
       "..           ...         ...        ...        ...        ...  ..\n",
       "103          정상열  2014280127  76.000000  54.000000  65.000000  B+\n",
       "104          정시영  2013270031  87.000000  65.000000  76.000000   A\n",
       "105          정혜라  2018390547  72.000000  30.000000  51.000000   B\n",
       "106          제승하  2013300003  87.000000  67.000000  77.000000   A\n",
       "107          조민제  2018390534  82.000000  76.000000  79.000000   A\n",
       "108          조예덕  2013300021  91.000000  86.000000  88.500000  A+\n",
       "109          조유진  2018390522  30.000000  21.000000  25.500000  D+\n",
       "110          조윤선  2015280314  66.000000  52.000000  59.000000   B\n",
       "111          조윤정  2017390391  62.000000  56.000000  59.000000   B\n",
       "112          조윤진  2015280326  73.000000  68.000000  70.500000  B+\n",
       "113          조하연  2015280208   0.000000   0.000000   0.000000   F\n",
       "114          주세연  2017270043  66.000000  42.000000  54.000000   B\n",
       "115          최세희  2016260654  73.000000  75.000000  74.000000  B+\n",
       "116          최원상  2018390766  26.000000   0.000000  13.000000   D\n",
       "117          최원태  2017380311  92.000000  72.000000  82.000000   A\n",
       "118          최준오  2018390501  96.000000  96.000000  96.000000  A+\n",
       "119          최지희  2016280265  88.000000  84.000000  86.000000  A+\n",
       "120          최형진  2018390734  31.000000  41.000000  36.000000   C\n",
       "121          최훈녕  2018390585  83.000000  76.000000  79.500000   A\n",
       "122          편단비  2015270010  80.000000  65.000000  72.500000  B+\n",
       "123          하승빈  2014300076  86.000000  81.000000  83.500000   A\n",
       "124          하영일  2014280317  85.000000  88.000000  86.500000  A+\n",
       "125          하정훈  2015280067  97.000000  93.000000  95.000000  A+\n",
       "126          한상건  2016300036  41.000000  50.000000  45.500000  C+\n",
       "127          한성근  2014300069  72.000000  82.000000  77.000000   A\n",
       "128           허란  2014280416  81.000000  83.000000  82.000000   A\n",
       "129          현희주  2017400028  37.000000  32.000000  34.500000   C\n",
       "130          황은진  2018380042  39.000000  45.000000  42.000000  C+\n",
       "131          NaN         NaN        NaN        NaN        NaN   F\n",
       "132          NaN          평균  62.832061  57.761538  60.076336   B\n",
       "\n",
       "[133 rows x 6 columns]"
      ]
     },
     "execution_count": 10,
     "metadata": {},
     "output_type": "execute_result"
    }
   ],
   "source": [
    "def grade(x):\n",
    "    if x>=85:\n",
    "        return \"A+\"\n",
    "    elif x>=76:\n",
    "        return \"A\"\n",
    "    elif x>=65:\n",
    "        return \"B+\"\n",
    "    elif x>=50:\n",
    "        return \"B\"\n",
    "    elif x>=40:\n",
    "        return \"C+\"\n",
    "    elif x>=30:\n",
    "        return \"C\"\n",
    "    elif x>=20:\n",
    "        return \"D+\"\n",
    "    elif x>=10:\n",
    "        return \"D\"\n",
    "    else:\n",
    "        return \"F\"\n",
    "    \n",
    "roster['학점']=roster[\"평균\"].apply(grade) \n",
    "roster"
   ]
  },
  {
   "cell_type": "code",
   "execution_count": 11,
   "metadata": {
    "hidden": true
   },
   "outputs": [
    {
     "data": {
      "text/html": [
       "<div>\n",
       "<style scoped>\n",
       "    .dataframe tbody tr th:only-of-type {\n",
       "        vertical-align: middle;\n",
       "    }\n",
       "\n",
       "    .dataframe tbody tr th {\n",
       "        vertical-align: top;\n",
       "    }\n",
       "\n",
       "    .dataframe thead th {\n",
       "        text-align: right;\n",
       "    }\n",
       "</style>\n",
       "<table border=\"1\" class=\"dataframe\">\n",
       "  <thead>\n",
       "    <tr style=\"text-align: right;\">\n",
       "      <th>col_0</th>\n",
       "      <th>인원</th>\n",
       "    </tr>\n",
       "    <tr>\n",
       "      <th>학점</th>\n",
       "      <th></th>\n",
       "    </tr>\n",
       "  </thead>\n",
       "  <tbody>\n",
       "    <tr>\n",
       "      <th>A</th>\n",
       "      <td>16</td>\n",
       "    </tr>\n",
       "    <tr>\n",
       "      <th>A+</th>\n",
       "      <td>23</td>\n",
       "    </tr>\n",
       "    <tr>\n",
       "      <th>B</th>\n",
       "      <td>31</td>\n",
       "    </tr>\n",
       "    <tr>\n",
       "      <th>B+</th>\n",
       "      <td>21</td>\n",
       "    </tr>\n",
       "    <tr>\n",
       "      <th>C</th>\n",
       "      <td>12</td>\n",
       "    </tr>\n",
       "    <tr>\n",
       "      <th>C+</th>\n",
       "      <td>14</td>\n",
       "    </tr>\n",
       "    <tr>\n",
       "      <th>D</th>\n",
       "      <td>5</td>\n",
       "    </tr>\n",
       "    <tr>\n",
       "      <th>D+</th>\n",
       "      <td>7</td>\n",
       "    </tr>\n",
       "    <tr>\n",
       "      <th>F</th>\n",
       "      <td>4</td>\n",
       "    </tr>\n",
       "  </tbody>\n",
       "</table>\n",
       "</div>"
      ],
      "text/plain": [
       "col_0  인원\n",
       "학점       \n",
       "A      16\n",
       "A+     23\n",
       "B      31\n",
       "B+     21\n",
       "C      12\n",
       "C+     14\n",
       "D       5\n",
       "D+      7\n",
       "F       4"
      ]
     },
     "execution_count": 11,
     "metadata": {},
     "output_type": "execute_result"
    }
   ],
   "source": [
    "학점별인원=pd.crosstab(index=roster['학점'],columns='인원')\n",
    "학점별인원"
   ]
  },
  {
   "cell_type": "code",
   "execution_count": null,
   "metadata": {
    "hidden": true
   },
   "outputs": [],
   "source": []
  },
  {
   "cell_type": "code",
   "execution_count": null,
   "metadata": {
    "hidden": true
   },
   "outputs": [],
   "source": []
  },
  {
   "cell_type": "markdown",
   "metadata": {
    "heading_collapsed": true
   },
   "source": [
    "# loop"
   ]
  },
  {
   "cell_type": "code",
   "execution_count": 27,
   "metadata": {
    "hidden": true
   },
   "outputs": [
    {
     "name": "stdout",
     "output_type": "stream",
     "text": [
      "6 - 6은/는 얼마입니까? 6\n",
      "틀렸습니다. 다시 해보세요. 6 - 6은/는 얼마입니까? 7\n",
      "틀렸습니다. 다시 해보세요. 6 - 6은/는 얼마입니까? 0\n",
      "정답!\n"
     ]
    }
   ],
   "source": [
    "import random\n",
    "\n",
    "# 두 개의 한 자리 정수를 랜덤으로 생성한다.\n",
    "number1 = random.randint(0, 9)\n",
    "number2 = random.randint(0, 9)\n",
    "\n",
    "# number1 < number2이면, number1과 number2를 교환한다.\n",
    "if number1 < number2:\n",
    "    number1, number2 = number2, number1\n",
    "\n",
    "# 사용자료부터 \"number1 - number2는 얼마입니까?\"에 대한 답을 입력받는다.\n",
    "answer = eval(input(str(number1) + \" - \" + str(number2) + \"은/는 얼마입니까? \"))\n",
    "\n",
    "# 정확한 답을 입력할 때까지 질문을 반복한다.\n",
    "while number1 - number2 != answer:  # !=  not equal\n",
    "    answer = eval(input(\"틀렸습니다. 다시 해보세요. \"+ str(number1) + \" - \" + str(number2) + \"은/는 얼마입니까? \"))\n",
    "\n",
    "print(\"정답!\")"
   ]
  },
  {
   "cell_type": "code",
   "execution_count": 1,
   "metadata": {
    "hidden": true
   },
   "outputs": [
    {
     "name": "stdout",
     "output_type": "stream",
     "text": [
      "0과 10 사이의 마법수를 맞춰보세요.\n",
      "수는 무엇일까요?: 6\n",
      "너무 큽니다.\n",
      "수는 무엇일까요?: 3\n",
      "너무 작습니다.\n",
      "수는 무엇일까요?: 5\n",
      "정답, 수는 5 입니다.\n"
     ]
    }
   ],
   "source": [
    "import random\n",
    "\n",
    "# 사용자가 맞춰야하는 수를 생성한다.\n",
    "number = random.randint(1, 10)\n",
    "\n",
    "print(\"0과 10 사이의 마법수를 맞춰보세요.\")\n",
    "\n",
    "guess = 100 # 0과 10사이가 아닌 값을 초기값으로 설정\n",
    "while guess != number:\n",
    "    # 사용자로부터 추측값을 입력받는다.\n",
    "    guess = eval(input(\"수는 무엇일까요?: \"))\n",
    "\n",
    "    if guess == number:\n",
    "        print(\"정답, 수는\", number, \"입니다.\")\n",
    "    elif guess > number:\n",
    "        print(\"너무 큽니다.\")\n",
    "    else:\n",
    "        print(\"너무 작습니다.\")"
   ]
  },
  {
   "cell_type": "code",
   "execution_count": null,
   "metadata": {
    "hidden": true
   },
   "outputs": [],
   "source": []
  },
  {
   "cell_type": "code",
   "execution_count": null,
   "metadata": {
    "hidden": true
   },
   "outputs": [],
   "source": []
  },
  {
   "cell_type": "code",
   "execution_count": 32,
   "metadata": {
    "hidden": true
   },
   "outputs": [
    {
     "name": "stdout",
     "output_type": "stream",
     "text": [
      "1번 학생은 합격입니다.\n",
      "2번 학생은 불합격입니다.\n",
      "3번 학생은 불합격입니다.\n",
      "4번 학생은 불합격입니다.\n",
      "5번 학생은 합격입니다.\n"
     ]
    }
   ],
   "source": [
    "grades = [90, 25, 67, 45, 80]\n",
    "\n",
    "number = 0 \n",
    "for g in grades: \n",
    "    number = number +1 \n",
    "    if g >= 70: \n",
    "        print(\"%d번 학생은 합격입니다.\" % number)  #문자열안에 수를 입력하는 방법\n",
    "    else: \n",
    "        print(\"%d번 학생은 불합격입니다.\" % number)"
   ]
  },
  {
   "cell_type": "code",
   "execution_count": 33,
   "metadata": {
    "hidden": true
   },
   "outputs": [
    {
     "name": "stdout",
     "output_type": "stream",
     "text": [
      "1번 학생 축하합니다. 합격입니다. \n",
      "5번 학생 축하합니다. 합격입니다. \n"
     ]
    }
   ],
   "source": [
    "gradess = [90, 25, 67, 45, 80]\n",
    "\n",
    "number = 0 \n",
    "for g in grades: \n",
    "    number = number +1 \n",
    "    if g < 70: continue \n",
    "    print(\"%d번 학생 축하합니다. 합격입니다. \" % number)"
   ]
  },
  {
   "cell_type": "code",
   "execution_count": 41,
   "metadata": {
    "hidden": true
   },
   "outputs": [
    {
     "name": "stdout",
     "output_type": "stream",
     "text": [
      "1부터 14 까지의 합은 105 입니다\n"
     ]
    }
   ],
   "source": [
    "sum = 0\n",
    "number = 0\n",
    "\n",
    "while number < 20:\n",
    "    number = number+1\n",
    "    sum = sum+number\n",
    "    if sum >= 100:\n",
    "        break\n",
    "\n",
    "print(\"1부터\", number, \"까지의 합은\", sum, \"입니다\")"
   ]
  },
  {
   "cell_type": "code",
   "execution_count": 35,
   "metadata": {
    "hidden": true
   },
   "outputs": [
    {
     "name": "stdout",
     "output_type": "stream",
     "text": [
      "2 4 6 8 10 12 14 16 18 \n",
      "3 6 9 12 15 18 21 24 27 \n",
      "4 8 12 16 20 24 28 32 36 \n",
      "5 10 15 20 25 30 35 40 45 \n",
      "6 12 18 24 30 36 42 48 54 \n",
      "7 14 21 28 35 42 49 56 63 \n",
      "8 16 24 32 40 48 56 64 72 \n",
      "9 18 27 36 45 54 63 72 81 \n"
     ]
    }
   ],
   "source": [
    "for i in range(2,10): \n",
    "    for j in range(1, 10): \n",
    "        print(i*j, end=\" \") # end를 넣어 준 이유는 해당 결과값을 출력할 때 다음줄로 넘기지 않고 그 줄에 계속해서 출력\n",
    "    print('') # print(' ')는 2단, 3단 등을 구분하기 위해 두 번째 for문이 끝나면 결과값을 다음 줄부터 출력"
   ]
  },
  {
   "cell_type": "code",
   "execution_count": 36,
   "metadata": {
    "hidden": true
   },
   "outputs": [
    {
     "data": {
      "text/plain": [
       "[3, 6, 9, 12]"
      ]
     },
     "execution_count": 36,
     "metadata": {},
     "output_type": "execute_result"
    }
   ],
   "source": [
    "a = [1,2,3,4]\n",
    "b = [num * 3 for num in a]\n",
    "b"
   ]
  },
  {
   "cell_type": "code",
   "execution_count": 37,
   "metadata": {
    "hidden": true
   },
   "outputs": [
    {
     "data": {
      "text/plain": [
       "[6, 12]"
      ]
     },
     "execution_count": 37,
     "metadata": {},
     "output_type": "execute_result"
    }
   ],
   "source": [
    "a = [1,2,3,4]\n",
    "c = [num * 3 for num in a if num % 2 == 0]  # 짝수만 3배\n",
    "c"
   ]
  },
  {
   "cell_type": "code",
   "execution_count": 1,
   "metadata": {
    "hidden": true
   },
   "outputs": [
    {
     "data": {
      "text/plain": [
       "[2,\n",
       " 4,\n",
       " 6,\n",
       " 8,\n",
       " 10,\n",
       " 12,\n",
       " 14,\n",
       " 16,\n",
       " 18,\n",
       " 3,\n",
       " 6,\n",
       " 9,\n",
       " 12,\n",
       " 15,\n",
       " 18,\n",
       " 21,\n",
       " 24,\n",
       " 27,\n",
       " 4,\n",
       " 8,\n",
       " 12,\n",
       " 16,\n",
       " 20,\n",
       " 24,\n",
       " 28,\n",
       " 32,\n",
       " 36,\n",
       " 5,\n",
       " 10,\n",
       " 15,\n",
       " 20,\n",
       " 25,\n",
       " 30,\n",
       " 35,\n",
       " 40,\n",
       " 45,\n",
       " 6,\n",
       " 12,\n",
       " 18,\n",
       " 24,\n",
       " 30,\n",
       " 36,\n",
       " 42,\n",
       " 48,\n",
       " 54,\n",
       " 7,\n",
       " 14,\n",
       " 21,\n",
       " 28,\n",
       " 35,\n",
       " 42,\n",
       " 49,\n",
       " 56,\n",
       " 63,\n",
       " 8,\n",
       " 16,\n",
       " 24,\n",
       " 32,\n",
       " 40,\n",
       " 48,\n",
       " 56,\n",
       " 64,\n",
       " 72,\n",
       " 9,\n",
       " 18,\n",
       " 27,\n",
       " 36,\n",
       " 45,\n",
       " 54,\n",
       " 63,\n",
       " 72,\n",
       " 81]"
      ]
     },
     "execution_count": 1,
     "metadata": {},
     "output_type": "execute_result"
    }
   ],
   "source": [
    "multable= [x*y for x in range(2,10) for y in range(1,10)]\n",
    "multable"
   ]
  },
  {
   "cell_type": "code",
   "execution_count": null,
   "metadata": {
    "hidden": true
   },
   "outputs": [],
   "source": []
  },
  {
   "cell_type": "code",
   "execution_count": 4,
   "metadata": {
    "hidden": true
   },
   "outputs": [
    {
     "name": "stdout",
     "output_type": "stream",
     "text": [
      "매출액을 입력하시요.: 10000000\n",
      "인센티브 비율을 소숫점으로 입력하시요.: 0.1\n",
      "인센티브 금액은 1,000,000.00 원입니다.\n",
      "인센티브 계산을 계속하려면 y를 입력하시요.:n\n"
     ]
    }
   ],
   "source": [
    "# This program calculates sales commissions.\n",
    "\n",
    "# Create a variable to control the loop.\n",
    "keep_going = 'y'\n",
    "\n",
    "# Calculate a series of commissions.\n",
    "while keep_going == 'y':\n",
    "    \n",
    "    # Get a salesperson's sales and commission rate.\n",
    "    sales = float(input('매출액을 입력하시요.: '))\n",
    "    comm_rate = float(input('인센티브 비율을 소숫점으로 입력하시요.: '))\n",
    "\n",
    "    # Calculate the commission.\n",
    "    commission = sales * comm_rate\n",
    "\n",
    "    # Display the commission.\n",
    "    print('인센티브 금액은', format(commission, ',.2f'),'원입니다.')  #sep옵션을 사용하여 띄어쓰기(공백) 말고 다른 문자를 넣음\n",
    "\n",
    "    # See if the user wants to do another one.\n",
    "    keep_going = input('인센티브 계산을 계속하려면 y를 입력하시요.:' )\n"
   ]
  },
  {
   "cell_type": "code",
   "execution_count": null,
   "metadata": {
    "hidden": true
   },
   "outputs": [],
   "source": [
    "# This program demonstrates an infinite loop.\n",
    "# Create a variable to control the loop.\n",
    "keep_going = 'y'\n",
    "\n",
    "# Warning! Infinite loop!\n",
    "\n",
    "while keep_going == 'y':\n",
    "    # Get a salesperson's sales and commission rate.\n",
    "    sales = float(input('Enter the amount of sales: '))\n",
    "    comm_rate = float(input('Enter the commission rate: '))\n",
    "\n",
    "    # Calculate the commission.\n",
    "    commission = sales * comm_rate\n",
    "\n",
    "    # Display the commission.\n",
    "    print('The commission is $', format(commission, ',.2f'), sep='')"
   ]
  },
  {
   "cell_type": "code",
   "execution_count": 5,
   "metadata": {
    "hidden": true
   },
   "outputs": [
    {
     "name": "stdout",
     "output_type": "stream",
     "text": [
      "측정한 온도를 입력: 99\n",
      "온도가 적당함\n",
      "15분후 다시 점검바람\n"
     ]
    }
   ],
   "source": [
    "# This program assists a technician in the process of checking a substance's temperature.\n",
    "\n",
    "max_temp = 102.5\n",
    "temperature = float(input(\"측정한 온도를 입력: \"))\n",
    "\n",
    "while temperature > max_temp:\n",
    "    print('온도가 너무 높음')\n",
    "    print('쿨링팬 작동 후 5분후에 다시 온도를 측정할 것')\n",
    "    temperature = float(input('재측정 온도 입력: '))\n",
    "\n",
    "# Remind the user to check the temperature again in 15 minutes.\n",
    "print('온도가 적당함')\n",
    "print('15분후 다시 점검바람')"
   ]
  },
  {
   "cell_type": "code",
   "execution_count": 7,
   "metadata": {
    "hidden": true
   },
   "outputs": [
    {
     "name": "stdout",
     "output_type": "stream",
     "text": [
      "I will display the numbers 1 through 5.\n",
      "1\n",
      "2\n",
      "3\n",
      "4\n",
      "5\n"
     ]
    }
   ],
   "source": [
    "# This program demonstrates a simple for loop\n",
    "# that uses a list of numbers.\n",
    "\n",
    "num_list=[1,2,3,4,5]\n",
    "print('I will display the numbers 1 through 5.')\n",
    "\n",
    "for num in num_list:\n",
    "    print(num)"
   ]
  },
  {
   "cell_type": "code",
   "execution_count": 8,
   "metadata": {
    "hidden": true
   },
   "outputs": [
    {
     "name": "stdout",
     "output_type": "stream",
     "text": [
      "I will display the odd numbers 1 through 9.\n",
      "1\n",
      "3\n",
      "5\n",
      "7\n",
      "9\n"
     ]
    }
   ],
   "source": [
    "# This program also demonstrates a simple for\n",
    "# loop that uses a list of numbers.\n",
    "\n",
    "print('I will display the odd numbers 1 through 9.')\n",
    "for num in [1, 3, 5, 7, 9]:\n",
    "    print(num)"
   ]
  },
  {
   "cell_type": "code",
   "execution_count": 9,
   "metadata": {
    "hidden": true
   },
   "outputs": [
    {
     "name": "stdout",
     "output_type": "stream",
     "text": [
      "Winken\n",
      "Blinken\n",
      "Nod\n"
     ]
    }
   ],
   "source": [
    "# This program also demonstrates a simple for loop that uses a list of strings.\n",
    "\n",
    "for name in ['Winken', 'Blinken', 'Nod']:\n",
    "    print(name)"
   ]
  },
  {
   "cell_type": "code",
   "execution_count": 2,
   "metadata": {
    "hidden": true
   },
   "outputs": [
    {
     "name": "stdout",
     "output_type": "stream",
     "text": [
      "range(0, 5)\n"
     ]
    }
   ],
   "source": [
    "list=range(5)\n",
    "print(list)"
   ]
  },
  {
   "cell_type": "code",
   "execution_count": 10,
   "metadata": {
    "hidden": true
   },
   "outputs": [
    {
     "name": "stdout",
     "output_type": "stream",
     "text": [
      "Hello world!\n",
      "Hello world!\n",
      "Hello world!\n",
      "Hello world!\n",
      "Hello world!\n"
     ]
    }
   ],
   "source": [
    "# This program demonstrates how the range function can be used with a for loop.\n",
    "\n",
    "# Print a message five times.\n",
    "for x in range(5):\n",
    "    print('Hello world!')"
   ]
  },
  {
   "cell_type": "code",
   "execution_count": 11,
   "metadata": {
    "hidden": true
   },
   "outputs": [
    {
     "name": "stdout",
     "output_type": "stream",
     "text": [
      "Number\tSquare\n",
      "--------------\n",
      "1 \t 1\n",
      "2 \t 4\n",
      "3 \t 9\n",
      "4 \t 16\n",
      "5 \t 25\n",
      "6 \t 36\n",
      "7 \t 49\n",
      "8 \t 64\n",
      "9 \t 81\n",
      "10 \t 100\n"
     ]
    }
   ],
   "source": [
    "# This program uses a loop to display a\n",
    "# table showing the numbers 1 through 10\n",
    "# and their squares.\n",
    "\n",
    "# Print the table headings.\n",
    "print('Number\\tSquare')\n",
    "print('--------------')\n",
    "\n",
    "# Print the numbers 1 through 10\n",
    "# and their squares.\n",
    "for number in range(1, 11):\n",
    "    square = number**2\n",
    "    print(number, '\\t', square)"
   ]
  },
  {
   "cell_type": "code",
   "execution_count": 12,
   "metadata": {
    "hidden": true
   },
   "outputs": [
    {
     "name": "stdout",
     "output_type": "stream",
     "text": [
      "KPH\tMPH\n",
      "--------------\n",
      "60 \t 37.3\n",
      "70 \t 43.5\n",
      "80 \t 49.7\n",
      "90 \t 55.9\n",
      "100 \t 62.1\n",
      "110 \t 68.4\n",
      "120 \t 74.6\n",
      "130 \t 80.8\n"
     ]
    }
   ],
   "source": [
    "start_speed = 60            # Starting speed\n",
    "end_speed = 131             # Ending speed\n",
    "increment = 10              # Speed increment\n",
    "conversion_factor = 0.6214  # Conversion factor\n",
    "\n",
    "# Print the table headings.\n",
    "print('KPH\\tMPH')\n",
    "print('--------------')\n",
    "\n",
    "# Print the speeds.\n",
    "for kph in range(start_speed, end_speed, increment):\n",
    "    mph = kph * conversion_factor\n",
    "    print(kph, '\\t', format(mph, '.1f'))"
   ]
  },
  {
   "cell_type": "code",
   "execution_count": 13,
   "metadata": {
    "hidden": true
   },
   "outputs": [
    {
     "name": "stdout",
     "output_type": "stream",
     "text": [
      "This program displays a list of numbers\n",
      "(starting at 1) and their squares.\n",
      "How high should I go? 7\n",
      "\n",
      "Number\tSquare\n",
      "--------------\n",
      "1 \t 1\n",
      "2 \t 4\n",
      "3 \t 9\n",
      "4 \t 16\n",
      "5 \t 25\n",
      "6 \t 36\n",
      "7 \t 49\n"
     ]
    }
   ],
   "source": [
    "# This program uses a loop to display a table of numbers and their squares.\n",
    "\n",
    "# Get the ending limit.\n",
    "print('This program displays a list of numbers')\n",
    "print('(starting at 1) and their squares.')\n",
    "end = int(input('How high should I go? '))\n",
    "    \n",
    "# Print the table headings.\n",
    "print()\n",
    "print('Number\\tSquare')\n",
    "print('--------------')\n",
    "\n",
    "# Print the numbers and their squares.\n",
    "for number in range(1, end + 1):\n",
    "    square = number**2\n",
    "    print(number, '\\t', square)"
   ]
  },
  {
   "cell_type": "code",
   "execution_count": 5,
   "metadata": {
    "hidden": true
   },
   "outputs": [
    {
     "name": "stdout",
     "output_type": "stream",
     "text": [
      "This program displays a list of numbers and their squares.\n",
      "Enter the starting number: 3\n",
      "Enter the ending number: 8\n",
      "\n",
      "Number\tSquare\n",
      "--------------\n",
      "3 \t 9\n",
      "4 \t 16\n",
      "5 \t 25\n",
      "6 \t 36\n",
      "7 \t 49\n",
      "8 \t 64\n"
     ]
    }
   ],
   "source": [
    "start = int(input('Enter the starting number: '))\n",
    "\n",
    "end = int(input('Enter the ending number: '))\n",
    "print('Number\\tSquare')\n",
    "print('--------------')\n",
    "\n",
    "for number in range(start, end + 1):\n",
    "    square = number**2\n",
    "    print(number, '\\t', square)"
   ]
  },
  {
   "cell_type": "code",
   "execution_count": 17,
   "metadata": {
    "hidden": true
   },
   "outputs": [
    {
     "name": "stdout",
     "output_type": "stream",
     "text": [
      "This program calculates the sum of 5 numbers you will enter.\n",
      "Enter a number: 55\n",
      "Enter a number: 7\n",
      "Enter a number: 34\n",
      "Enter a number: 55\n",
      "Enter a number: 88\n",
      "The total is 239.0\n"
     ]
    }
   ],
   "source": [
    "# This program calculates the sum of a series of numbers entered by the user.\n",
    "\n",
    "max = 5   # The maximum number\n",
    "\n",
    "# Initialize an accumulator variable.\n",
    "total = 0.0\n",
    "   \n",
    "# Explain what we are doing.\n",
    "print('This program calculates the sum of', max, 'numbers you will enter.')\n",
    "\n",
    "# Get the numbers and accumulate them.\n",
    "for counter in range(max):\n",
    "    number = int(input('Enter a number: '))\n",
    "    total = total + number\n",
    "\n",
    "# Display the total of the numbers.\n",
    "print('The total is', total)"
   ]
  },
  {
   "cell_type": "code",
   "execution_count": null,
   "metadata": {
    "hidden": true
   },
   "outputs": [],
   "source": [
    "4"
   ]
  },
  {
   "cell_type": "code",
   "execution_count": 18,
   "metadata": {
    "hidden": true
   },
   "outputs": [
    {
     "name": "stdout",
     "output_type": "stream",
     "text": [
      "Enter the property lot number\n",
      "Lot number: 100\n",
      "Enter the property value: 500000\n",
      "Property tax: $3,250.00\n",
      "Enter the next lot number or enter 0 to end the program.\n",
      "Lot number: 0\n"
     ]
    }
   ],
   "source": [
    "# This program displays property taxes.\n",
    "\n",
    "TAX_FACTOR = 0.0065   # Represents the tax factor.\n",
    "\n",
    "# Get the first lot number.\n",
    "print('Enter the property lot number')\n",
    "lot = int(input('Lot number: '))\n",
    "\n",
    "# Continue processing as long as the user\n",
    "# does not enter lot number 0.\n",
    "while lot != 0:\n",
    "    # Get the property value.\n",
    "    value = float(input('Enter the property value: '))\n",
    "\n",
    "    # Calculate the property's tax.\n",
    "    tax = value * TAX_FACTOR\n",
    "\n",
    "    # Display the tax.\n",
    "    print('Property tax: $', format(tax, ',.2f'), sep='')\n",
    "\n",
    "    # Get the next lot number.\n",
    "    print('Enter the next lot number or', 'enter 0 to end the program.')\n",
    "    lot = int(input('Lot number: '))"
   ]
  },
  {
   "cell_type": "code",
   "execution_count": 3,
   "metadata": {
    "hidden": true
   },
   "outputs": [
    {
     "data": {
      "text/plain": [
       "3.1622776601683795"
      ]
     },
     "execution_count": 3,
     "metadata": {},
     "output_type": "execute_result"
    }
   ],
   "source": [
    "import math\n",
    "x=math.sqrt(10)\n",
    "x"
   ]
  },
  {
   "cell_type": "code",
   "execution_count": 19,
   "metadata": {
    "hidden": true
   },
   "outputs": [
    {
     "name": "stdout",
     "output_type": "stream",
     "text": [
      "Enter the hours worked this week: 50\n",
      "Enter the hourly pay rate: 60\n",
      "Gross pay: $ 3,000.00\n"
     ]
    }
   ],
   "source": [
    "# This program displays gross pay.\n",
    "\n",
    "hours = int(input('Enter the hours worked this week: '))\n",
    "\n",
    "pay_rate = float(input('Enter the hourly pay rate: '))\n",
    "gross_pay = hours * pay_rate\n",
    "\n",
    "print('Gross pay: $', format(gross_pay, ',.2f'))"
   ]
  },
  {
   "cell_type": "code",
   "execution_count": 21,
   "metadata": {
    "hidden": true
   },
   "outputs": [
    {
     "name": "stdout",
     "output_type": "stream",
     "text": [
      "Enter the item's cost: 100\n",
      "Retail price: $250.00\n",
      "Do you have another item? (Enter y for yes): y\n",
      "Enter the item's cost: 120\n",
      "Retail price: $300.00\n",
      "Do you have another item? (Enter y for yes): n\n"
     ]
    }
   ],
   "source": [
    "# This program calculates retail prices.\n",
    "\n",
    "mark_up = 2.5  # The markup percentage\n",
    "another = 'y'  # Variable to control the loop.\n",
    "\n",
    "# Process one or more items.\n",
    "while another == 'y':\n",
    "    # Get the item's wholesale cost.\n",
    "    cost = float(input(\"Enter the item's cost: \"))\n",
    "\n",
    "    # Calculate the retail price.\n",
    "    retail = cost * mark_up\n",
    "\n",
    "    # Display the retail price.\n",
    "    print('Retail price: $', format(retail, ',.2f'), sep='')\n",
    "\n",
    "\n",
    "    # Do this again?\n",
    "    another = input('Do you have another item? ' + '(Enter y for yes): ')"
   ]
  },
  {
   "cell_type": "code",
   "execution_count": 22,
   "metadata": {
    "hidden": true
   },
   "outputs": [
    {
     "name": "stdout",
     "output_type": "stream",
     "text": [
      "Enter the item's  cost: -200\n",
      "ERROR: the cost cannot be negative.\n",
      "Enter the correct cost :200\n",
      "Retail price: $ 250.00\n",
      "Do you have another item? (Enter y for yes): n\n"
     ]
    }
   ],
   "source": [
    "# This program calculates retail prices.\n",
    "\n",
    "mark_up = 2.5  # The markup percentage\n",
    "another = 'y'  # Variable to control the loop.\n",
    "\n",
    "# Process one or more items.\n",
    "while another == 'y':\n",
    "    # Get the item's wholesale cost.\n",
    "    cost = float(input(\"Enter the item's  cost: \"))\n",
    "\n",
    "    # Validate the wholesale cost.\n",
    "    while cost < 0:\n",
    "        print('ERROR: the cost cannot be negative.')\n",
    "        cost = float(input('Enter the correct cost :'))\n",
    "    # Calculate the retail price.\n",
    "    retail = cost * mark_up\n",
    "\n",
    "    # Display the retail price.\n",
    "    print('Retail price: $', format(retail, ',.2f'))\n",
    "\n",
    "\n",
    "    # Do this again?\n",
    "    another = input('Do you have another item? ' + '(Enter y for yes): ')"
   ]
  },
  {
   "cell_type": "code",
   "execution_count": 24,
   "metadata": {
    "hidden": true
   },
   "outputs": [
    {
     "name": "stdout",
     "output_type": "stream",
     "text": [
      "How many students do you have? 2\n",
      "How many test scores per student? 2\n",
      "Student number 1\n",
      "-----------------\n",
      "Test number 1: 78\n",
      "Test number 2: 88\n",
      "The average for student number 1 is: 83.00\n",
      "Student number 2\n",
      "-----------------\n",
      "Test number 1: 89\n",
      "Test number 2: 90\n",
      "The average for student number 2 is: 89.50\n"
     ]
    }
   ],
   "source": [
    "# This program calculates an average score of the test scores for a given number of students.\n",
    "# It asks the user for the number of students and the number of test scores per student.\n",
    "\n",
    "# Get the number of students.\n",
    "num_students = int(input('How many students do you have? '))\n",
    "\n",
    "# Get the number of test scores per student.\n",
    "num_tests = int(input('How many test scores per student? '))\n",
    "\n",
    "# Determine each students average test score.\n",
    "\n",
    "for student in range(num_students):\n",
    "    # Initialize an accumulator for test scores.\n",
    "    total = 0.0\n",
    "    \n",
    "    # Get a student's test scores.\n",
    "    print('Student number', student + 1)\n",
    "    print('-----------------')\n",
    "    \n",
    "    for num in range(num_tests):\n",
    "        print('Test number', num + 1, end='')\n",
    "        score = float(input(': '))\n",
    "        # Add the score to the accumulator.\n",
    "        total += score\n",
    "\n",
    "    # Calculate the average test score for this student.\n",
    "    average = total / num_tests\n",
    "\n",
    "    # Display the average.\n",
    "    print('The average for student number', student + 1,  'is:', format(average, '.2f'))"
   ]
  },
  {
   "cell_type": "code",
   "execution_count": 25,
   "metadata": {
    "hidden": true
   },
   "outputs": [
    {
     "name": "stdout",
     "output_type": "stream",
     "text": [
      "How many rows? 4\n",
      "How many columns? 6\n",
      "******\n",
      "******\n",
      "******\n",
      "******\n"
     ]
    }
   ],
   "source": [
    "# This program displays a rectangular pattern\n",
    "# of asterisks.\n",
    "rows = int(input('How many rows? '))\n",
    "cols = int(input('How many columns? '))\n",
    "\n",
    "for r in range(rows):\n",
    "    for c in range(cols):\n",
    "        print('*', end='')\n",
    "    print()"
   ]
  },
  {
   "cell_type": "code",
   "execution_count": 26,
   "metadata": {
    "hidden": true
   },
   "outputs": [
    {
     "name": "stdout",
     "output_type": "stream",
     "text": [
      "*\n",
      "**\n",
      "***\n",
      "****\n",
      "*****\n",
      "******\n",
      "*******\n",
      "********\n"
     ]
    }
   ],
   "source": [
    "# This program displays a triangle pattern.\n",
    "base_size = 8\n",
    "\n",
    "for r in range(base_size):\n",
    "    for c in range(r + 1):\n",
    "        print('*', end='')\n",
    "    print()\n"
   ]
  },
  {
   "cell_type": "code",
   "execution_count": 27,
   "metadata": {
    "hidden": true
   },
   "outputs": [
    {
     "name": "stdout",
     "output_type": "stream",
     "text": [
      "#\n",
      " #\n",
      "  #\n",
      "   #\n",
      "    #\n",
      "     #\n"
     ]
    }
   ],
   "source": [
    "# This program displays a stair-step pattern.\n",
    "num_steps = 6\n",
    "\n",
    "for r in range(num_steps):\n",
    "   for c in range(r):\n",
    "      print(' ', end='')\n",
    "   print('#')\n"
   ]
  },
  {
   "cell_type": "code",
   "execution_count": null,
   "metadata": {
    "hidden": true
   },
   "outputs": [],
   "source": []
  },
  {
   "cell_type": "code",
   "execution_count": null,
   "metadata": {
    "hidden": true
   },
   "outputs": [],
   "source": []
  },
  {
   "cell_type": "code",
   "execution_count": null,
   "metadata": {
    "hidden": true
   },
   "outputs": [],
   "source": []
  },
  {
   "cell_type": "markdown",
   "metadata": {
    "heading_collapsed": true
   },
   "source": [
    "# function"
   ]
  },
  {
   "cell_type": "code",
   "execution_count": 2,
   "metadata": {
    "hidden": true
   },
   "outputs": [],
   "source": [
    "def Calc(first, second):\n",
    "        sum = first + second\n",
    "        sub=first - second\n",
    "        mul=first * second\n",
    "        div=first/second      \n",
    "        return sum, sub, mul, div"
   ]
  },
  {
   "cell_type": "code",
   "execution_count": 3,
   "metadata": {
    "hidden": true
   },
   "outputs": [
    {
     "data": {
      "text/plain": [
       "(14, 6, 40, 2.5)"
      ]
     },
     "execution_count": 3,
     "metadata": {},
     "output_type": "execute_result"
    }
   ],
   "source": [
    "x=Calc(10,4)\n",
    "x"
   ]
  },
  {
   "cell_type": "code",
   "execution_count": 8,
   "metadata": {
    "hidden": true
   },
   "outputs": [],
   "source": [
    "def sum(i1, i2):\n",
    "    sum = 0\n",
    "    for i in range(i1, i2 + 1):\n",
    "        sum= sum+i\n",
    "    return sum"
   ]
  },
  {
   "cell_type": "code",
   "execution_count": 9,
   "metadata": {
    "hidden": true
   },
   "outputs": [
    {
     "data": {
      "text/plain": [
       "165"
      ]
     },
     "execution_count": 9,
     "metadata": {},
     "output_type": "execute_result"
    }
   ],
   "source": [
    "a=sum(10,20)\n",
    "a"
   ]
  },
  {
   "cell_type": "code",
   "execution_count": 22,
   "metadata": {
    "hidden": true
   },
   "outputs": [],
   "source": [
    "\n",
    "def max(num1, num2):\n",
    "    if num1 > num2:\n",
    "        max = num1\n",
    "    else:\n",
    "        max = num2\n",
    "    return max"
   ]
  },
  {
   "cell_type": "code",
   "execution_count": 10,
   "metadata": {
    "hidden": true
   },
   "outputs": [
    {
     "data": {
      "text/plain": [
       "100"
      ]
     },
     "execution_count": 10,
     "metadata": {},
     "output_type": "execute_result"
    }
   ],
   "source": [
    "a=max(100,20)\n",
    "a"
   ]
  },
  {
   "cell_type": "code",
   "execution_count": 11,
   "metadata": {
    "hidden": true
   },
   "outputs": [
    {
     "name": "stdout",
     "output_type": "stream",
     "text": [
      "5 와/과 2 중에서 큰 수는 5 입니다.\n"
     ]
    }
   ],
   "source": [
    "# 두 수 중에서 큰 수를 반환한다.\n",
    "def max(num1, num2):\n",
    "    if num1 > num2:\n",
    "        max = num1\n",
    "    else:\n",
    "        max = num2\n",
    "    return max\n",
    "\n",
    "def main():\n",
    "   i = 5\n",
    "   j = 2\n",
    "   k = max(i, j) # max 함수를 호출한다.\n",
    "   print(i, \"와/과\", j, \"중에서 큰 수는\", k, \"입니다.\")\n",
    "\n",
    "main() # main 함수를 호출한다."
   ]
  },
  {
   "cell_type": "code",
   "execution_count": 12,
   "metadata": {
    "hidden": true
   },
   "outputs": [
    {
     "name": "stdout",
     "output_type": "stream",
     "text": [
      "첫번째 수 입력: 6.4\n",
      "두번째 수 입력: 8\n",
      "6.4 와/과 8 중에서 큰 수는 8 입니다.\n"
     ]
    }
   ],
   "source": [
    "# 두 수 중에서 큰 수를 반환한다.\n",
    "def max(num1, num2):\n",
    "    if num1 > num2:\n",
    "        max = num1\n",
    "    else:\n",
    "        max = num2\n",
    "    return max\n",
    "\n",
    "def main():\n",
    "    i = eval(input (\"첫번째 수 입력: \"))\n",
    "    j = eval(input (\"두번째 수 입력: \"))\n",
    "    k = max(i, j) # max 함수를 호출한다.\n",
    "    print(i, \"와/과\", j, \"중에서 큰 수는\", k, \"입니다.\")    \n",
    "\n",
    "main() # main 함수를 호출한다."
   ]
  },
  {
   "cell_type": "code",
   "execution_count": 16,
   "metadata": {
    "hidden": true
   },
   "outputs": [],
   "source": [
    "def Grade(score):\n",
    "    if score >= 90.0:\n",
    "        print('A')\n",
    "    elif score >= 80.0:\n",
    "        print('B')\n",
    "    elif score >= 70.0:\n",
    "        print('C')\n",
    "    elif score >= 60.0:\n",
    "        print('D')\n",
    "    else:\n",
    "        print('F')"
   ]
  },
  {
   "cell_type": "code",
   "execution_count": 20,
   "metadata": {
    "hidden": true
   },
   "outputs": [
    {
     "name": "stdout",
     "output_type": "stream",
     "text": [
      "C\n"
     ]
    }
   ],
   "source": [
    "Grade(70)"
   ]
  },
  {
   "cell_type": "code",
   "execution_count": 14,
   "metadata": {
    "hidden": true
   },
   "outputs": [
    {
     "name": "stdout",
     "output_type": "stream",
     "text": [
      "점수를 입력하세요: 66\n",
      "성적은 D\n",
      "입니다.\n"
     ]
    }
   ],
   "source": [
    "# 점수에 대한 성적을 출력한다.\n",
    "\n",
    "def Grade(score):\n",
    "    if score >= 90.0:\n",
    "        print('A')\n",
    "    elif score >= 80.0:\n",
    "        print('B')\n",
    "    elif score >= 70.0:\n",
    "        print('C')\n",
    "    elif score >= 60.0:\n",
    "        print('D')\n",
    "    else:\n",
    "        print('F')\n",
    "\n",
    "def main():\n",
    "    score = eval(input(\"점수를 입력하세요: \"))\n",
    "    print(\"성적은\", end = \" \")\n",
    "    Grade(score)  # return이 없는 함수는 statement로 호출\n",
    "    print(\"입니다.\")\n",
    "\n",
    "main() # main 함수를 호출한다."
   ]
  },
  {
   "cell_type": "code",
   "execution_count": 21,
   "metadata": {
    "hidden": true
   },
   "outputs": [
    {
     "name": "stdout",
     "output_type": "stream",
     "text": [
      "점수를 입력하세요: 78\n",
      "성적은 C 입니다.\n"
     ]
    }
   ],
   "source": [
    "# 점수에 대한 성적을 반환한다. \n",
    "def Grade(score):\n",
    "    if score >= 90.0:\n",
    "        return 'A'\n",
    "    elif score >= 80.0:\n",
    "        return 'B'\n",
    "    elif score >= 70.0:\n",
    "        return 'C'\n",
    "    elif score >= 60.0:\n",
    "        return 'D'\n",
    "    else:\n",
    "        return 'F'\n",
    "\n",
    "def main():\n",
    "    score = eval(input(\"점수를 입력하세요: \"))\n",
    "    print(\"성적은\", Grade(score), \"입니다.\") # return이 있는 함수는 함수값을  호출\n",
    "\n",
    "main() # main 함수를 호출한다."
   ]
  },
  {
   "cell_type": "code",
   "execution_count": null,
   "metadata": {
    "hidden": true
   },
   "outputs": [],
   "source": []
  },
  {
   "cell_type": "code",
   "execution_count": 27,
   "metadata": {
    "hidden": true
   },
   "outputs": [],
   "source": [
    "import math\n",
    "def circle(radius):\n",
    "        perimeter=2 * radius * math.pi\n",
    "        area=radius ** 2 * math.pi\n",
    "        return perimeter,area"
   ]
  },
  {
   "cell_type": "code",
   "execution_count": 30,
   "metadata": {
    "hidden": true
   },
   "outputs": [
    {
     "data": {
      "text/plain": [
       "(18.84955592153876, 28.274333882308138)"
      ]
     },
     "execution_count": 30,
     "metadata": {},
     "output_type": "execute_result"
    }
   ],
   "source": [
    "a=circle(3)\n",
    "a"
   ]
  },
  {
   "cell_type": "code",
   "execution_count": 179,
   "metadata": {
    "hidden": true
   },
   "outputs": [
    {
     "name": "stdout",
     "output_type": "stream",
     "text": [
      "이 함수는 컵을 온스단위로 측정합니다\n",
      "참고로 변환공식은 1 컵= 8온스 입니다\n",
      "컵의 수를 입력: 34\n",
      "34 컵은 272 온스입니다\n"
     ]
    }
   ],
   "source": [
    "# This program converts cups to fluid ounces.\n",
    "\n",
    "def main():\n",
    "    # display the intro screen.\n",
    "    intro()\n",
    "    \n",
    "    # Get the number of cups.\n",
    "    cups_needed = eval(input('컵의 수를 입력: '))\n",
    "    # Convert the cups to ounces.\n",
    "    cups_to_ounces(cups_needed)\n",
    "\n",
    "# The intro function displays an introductory screen.\n",
    "def intro():\n",
    "    print('이 함수는 컵을 온스단위로 측정합니다')\n",
    "    print('참고로 변환공식은 1 컵= 8온스 입니다')\n",
    "\n",
    "# The cups_to_ounces function accepts a number of cups and displays the equivalent number of ounces.\n",
    "\n",
    "def cups_to_ounces(cups):\n",
    "    ounces = cups * 8\n",
    "    print(cups, \"컵은\", ounces, '온스입니다')\n",
    "\n",
    "# Call the main function.\n",
    "main()\n"
   ]
  },
  {
   "cell_type": "code",
   "execution_count": 1,
   "metadata": {
    "hidden": true
   },
   "outputs": [],
   "source": [
    "# This program demonstrates a function.\n",
    "# First, we define a function named message.\n",
    "\n",
    "def message():\n",
    "    print('저는 이고려입니다')\n",
    "    print('고려대학교 세종캠퍼스 재학생입니다')"
   ]
  },
  {
   "cell_type": "code",
   "execution_count": 186,
   "metadata": {
    "hidden": true
   },
   "outputs": [
    {
     "name": "stdout",
     "output_type": "stream",
     "text": [
      "저는 이고려입니다\n",
      "고려대학교 세종캠퍼스 재학생입니다\n"
     ]
    }
   ],
   "source": [
    "# Call the message function.\n",
    "message()"
   ]
  },
  {
   "cell_type": "code",
   "execution_count": 184,
   "metadata": {
    "hidden": true
   },
   "outputs": [
    {
     "name": "stdout",
     "output_type": "stream",
     "text": [
      "저는 이고려입니다\n",
      "고려대학교 세종캠퍼스 재학생입니다\n"
     ]
    }
   ],
   "source": [
    "# This program demonstrates a function.\n",
    "# First, we define a function named message.\n",
    "\n",
    "def message():\n",
    "    print('저는 이고려입니다')\n",
    "    print('고려대학교 세종캠퍼스 재학생입니다')\n",
    "    \n",
    "# Call the message function.\n",
    "message()"
   ]
  },
  {
   "cell_type": "code",
   "execution_count": null,
   "metadata": {
    "hidden": true
   },
   "outputs": [],
   "source": []
  },
  {
   "cell_type": "code",
   "execution_count": 188,
   "metadata": {
    "hidden": true
   },
   "outputs": [
    {
     "name": "stdout",
     "output_type": "stream",
     "text": [
      "안녕하세요?\n",
      "저는 이고려입니다.\n",
      "고려대학교 세종캠퍼스 재학생입니다\n",
      "안녕히 계세요!\n"
     ]
    }
   ],
   "source": [
    "# This program has two functions. First we define the main function.\n",
    "def main():\n",
    "    print('안녕하세요?')\n",
    "    message()\n",
    "    print('안녕히 계세요!')\n",
    "\n",
    "# Next we define the message function.\n",
    "def message():\n",
    "    print('저는 이고려입니다.')\n",
    "    print('고려대학교 세종캠퍼스 재학생입니다')\n",
    "    \n",
    "# Call the main function.\n",
    "main()"
   ]
  },
  {
   "cell_type": "code",
   "execution_count": 189,
   "metadata": {
    "hidden": true
   },
   "outputs": [
    {
     "name": "stdout",
     "output_type": "stream",
     "text": [
      "This program tells you how to\n",
      "disassemble an ACME laundry dryer.\n",
      "There are 4 steps in the process.\n",
      "\n",
      "Press Enter to see Step 1.\n",
      "Step 1: Unplug the dryer and\n",
      "move it away from the wall.\n",
      "\n",
      "Press Enter to see Step 2.\n",
      "Step 2: Remove the six screws\n",
      "from the back of the dryer.\n",
      "\n",
      "Press Enter to see Step 3.\n",
      "Step 3: Remove the back panel\n",
      "from the dryer.\n",
      "\n",
      "Press Enter to see Step 4.\n",
      "Step 4: Pull the top of the\n",
      "dryer straight up.\n"
     ]
    }
   ],
   "source": [
    "# This program displays step-by-step instructions for disassembling an Acme dryer.\n",
    "\n",
    "def main():\n",
    "    # Display the start-up message.\n",
    "    startup_message()\n",
    "    input('Press Enter to see Step 1.')\n",
    "    # Display step 1.\n",
    "    step1()\n",
    "    input('Press Enter to see Step 2.')\n",
    "    # Display step 2.\n",
    "    step2()\n",
    "    input('Press Enter to see Step 3.')\n",
    "    # Display step 3.\n",
    "    step3()\n",
    "    input('Press Enter to see Step 4.')\n",
    "    # Display step 4.\n",
    "    step4()\n",
    "\n",
    "# The startup_message function displays the program's initial message on the screen.\n",
    "def startup_message():\n",
    "    print('This program tells you how to')\n",
    "    print('disassemble an ACME laundry dryer.')\n",
    "    print('There are 4 steps in the process.')\n",
    "    print()\n",
    "\n",
    "# The step1 function displays the instructions for step 1.\n",
    "def step1():\n",
    "    print('Step 1: Unplug the dryer and')\n",
    "    print('move it away from the wall.')\n",
    "    print()\n",
    "\n",
    "# The step2 function displays the instructions for step 2.\n",
    "def step2():\n",
    "    print('Step 2: Remove the six screws')\n",
    "    print('from the back of the dryer.')\n",
    "    print()\n",
    "\n",
    "# The step3 function displays the instructions for step 3.\n",
    "def step3():\n",
    "    print('Step 3: Remove the back panel')\n",
    "    print('from the dryer.')\n",
    "    print()\n",
    "\n",
    "# The step4 function displays the instructions for step 4.\n",
    "def step4():\n",
    "    print('Step 4: Pull the top of the')\n",
    "    print('dryer straight up.')\n",
    "\n",
    "# Call the main function to begin the program.\n",
    "main()"
   ]
  },
  {
   "cell_type": "code",
   "execution_count": 190,
   "metadata": {
    "hidden": true
   },
   "outputs": [
    {
     "name": "stdout",
     "output_type": "stream",
     "text": [
      "texas has 5000 birds.\n",
      "california has 8000 birds.\n"
     ]
    }
   ],
   "source": [
    "# This program demonstrates two functions that have local variables with the same name.\n",
    "\n",
    "def main():\n",
    "    # Call the texas function.\n",
    "    texas()\n",
    "    # Call the california function.\n",
    "    california()\n",
    "\n",
    "# Definition of the texas function. It createsa local variable named birds.\n",
    "def texas():\n",
    "    birds = 5000\n",
    "    print('texas has', birds, 'birds.')\n",
    "\n",
    "# Definition of the california function. It also creates a local variable named birds.\n",
    "def california():\n",
    "    birds = 8000\n",
    "    print('california has', birds, 'birds.')\n",
    "\n",
    "# Call the main function.\n",
    "main()"
   ]
  },
  {
   "cell_type": "code",
   "execution_count": 192,
   "metadata": {
    "hidden": true
   },
   "outputs": [
    {
     "name": "stdout",
     "output_type": "stream",
     "text": [
      "10\n"
     ]
    }
   ],
   "source": [
    "def main():\n",
    "    value = 5\n",
    "    show_double(value)\n",
    "\n",
    "# The show_double function accepts an argument and displays double its value.\n",
    "def show_double(number):\n",
    "    double = number * 2\n",
    "    print( double)\n",
    "\n",
    "# Call the main function.\n",
    "main()"
   ]
  },
  {
   "cell_type": "code",
   "execution_count": 196,
   "metadata": {
    "hidden": true
   },
   "outputs": [
    {
     "name": "stdout",
     "output_type": "stream",
     "text": [
      "12와 45의 합은:\n",
      "57 입니다\n"
     ]
    }
   ],
   "source": [
    "# This program demonstrates a function that acceptstwo arguments.\n",
    "\n",
    "def main():\n",
    "    print('12와 45의 합은:')\n",
    "    sum(12, 45)\n",
    "\n",
    "def sum(num1, num2):\n",
    "    sum = num1 + num2\n",
    "    print(sum, '입니다')\n",
    "    \n",
    "main()"
   ]
  },
  {
   "cell_type": "code",
   "execution_count": 199,
   "metadata": {
    "hidden": true
   },
   "outputs": [
    {
     "name": "stdout",
     "output_type": "stream",
     "text": [
      "이름을 입력하세요: 고려\n",
      "성을 입력하세요: 이\n",
      "당신의 이름은\n",
      "이고려 입니다\n"
     ]
    }
   ],
   "source": [
    "# This program demonstrates passing two string arguments to a function.\n",
    "\n",
    "def main():\n",
    "    first_name = input('이름을 입력하세요: ')\n",
    "    last_name = input('성을 입력하세요: ')\n",
    "    print('당신의 이름은')\n",
    "    name(first_name, last_name)\n",
    "\n",
    "def name(first, last):\n",
    "    print(last+first, '입니다')\n",
    "\n",
    "# Call the main function.\n",
    "main()"
   ]
  },
  {
   "cell_type": "code",
   "execution_count": 203,
   "metadata": {
    "hidden": true
   },
   "outputs": [
    {
     "name": "stdout",
     "output_type": "stream",
     "text": [
      "이자율을 소숫점으로 입력: 0.04\n",
      "만기를 연으로 입력: 3\n",
      "저축원금 입력: 1000000\n",
      "세전원리금은 120,000.04 입니다\n",
      "세금은 18,480.00 입니다\n",
      "세후원리금은 101,520.04 입니다\n"
     ]
    }
   ],
   "source": [
    "# This program demonstrates keyword arguments.\n",
    "\n",
    "def main():\n",
    "    rate = floate(input('이자율을 소숫점으로 입력: '))\n",
    "    maturity = int(input('만기를 연으로 입력: '))\n",
    "    deposit = int(input('저축원금 입력: '))\n",
    "    interest(rate, maturity, deposit)\n",
    "\n",
    "# 단리 정기예금 원리금과 이자 계산\n",
    "def interest(deposit, maturity, rate):\n",
    "    before_tax_sum = deposit * (1+rate *maturity)\n",
    "    print('세전원리금은', format(before_tax_sum, ',.2f'),  '입니다')\n",
    "\n",
    "# Call the main function.\n",
    "main()"
   ]
  },
  {
   "cell_type": "code",
   "execution_count": null,
   "metadata": {
    "hidden": true
   },
   "outputs": [],
   "source": []
  },
  {
   "cell_type": "code",
   "execution_count": 205,
   "metadata": {
    "hidden": true
   },
   "outputs": [],
   "source": [
    "# Create a global variable.\n",
    "my_value = 10\n",
    "\n",
    "# The show_value function prints the value of the global variable.\n",
    "def show_value():\n",
    "    print(my_value) # the global variable can be accessed anywhere"
   ]
  },
  {
   "cell_type": "code",
   "execution_count": 206,
   "metadata": {
    "hidden": true
   },
   "outputs": [
    {
     "name": "stdout",
     "output_type": "stream",
     "text": [
      "10\n"
     ]
    }
   ],
   "source": [
    "show_value()"
   ]
  },
  {
   "cell_type": "code",
   "execution_count": 207,
   "metadata": {
    "hidden": true
   },
   "outputs": [
    {
     "name": "stdout",
     "output_type": "stream",
     "text": [
      "Enter the gross pay: 100000\n",
      "Enter the amount of bonuses: 8000\n",
      "Contribution for gross pay: $5,000.00\n",
      "Contribution for bonuses: $400.00\n"
     ]
    }
   ],
   "source": [
    "# The following is used as a global constant to represent the contribution rate.\n",
    "CONTRIBUTION_RATE = 0.05\n",
    "\n",
    "def main():\n",
    "    gross_pay = float(input('Enter the gross pay: '))\n",
    "    bonus = float(input('Enter the amount of bonuses: '))\n",
    "    pay_contrib(gross_pay)\n",
    "    bonus_contrib(bonus)\n",
    "\n",
    "# The show_pay_contrib function accepts the gross pay as an argument.\n",
    "def pay_contrib(gross):\n",
    "    contrib = gross * CONTRIBUTION_RATE\n",
    "    print('Contribution for gross pay: $', format(contrib, ',.2f'), sep='')\n",
    "\n",
    "# The show_bonus_contrib function accepts the bonus amount as an argument.\n",
    "def bonus_contrib(bonus):\n",
    "    contrib = bonus * CONTRIBUTION_RATE\n",
    "    print('Contribution for bonuses: $', format(contrib, ',.2f'), sep='')\n",
    "\n",
    "# Call the main function.\n",
    "main()"
   ]
  },
  {
   "cell_type": "code",
   "execution_count": null,
   "metadata": {
    "hidden": true
   },
   "outputs": [],
   "source": []
  },
  {
   "cell_type": "code",
   "execution_count": null,
   "metadata": {
    "hidden": true
   },
   "outputs": [],
   "source": [
    "import random"
   ]
  },
  {
   "cell_type": "code",
   "execution_count": 218,
   "metadata": {
    "hidden": true
   },
   "outputs": [
    {
     "name": "stdout",
     "output_type": "stream",
     "text": [
      "Enter your age: 55\n",
      "Enter your best friend's age: 45\n",
      "Together you are 100 years old.\n"
     ]
    }
   ],
   "source": [
    "# This program uses the return value of a function.\n",
    "\n",
    "def main():\n",
    "    first_age = int(input('Enter your age: '))\n",
    "    second_age = int(input(\"Enter your best friend's age: \"))\n",
    "    total = sum(first_age, second_age)\n",
    "    print('Together you are', total, 'years old.')\n",
    "\n",
    "# The sum function accepts two numeric arguments and returns the sum of those arguments.\n",
    "def sum(x1, x2):\n",
    "    sum = x1 + x2\n",
    "    return sum\n",
    "\n",
    "# Call the main function.\n",
    "main()"
   ]
  },
  {
   "cell_type": "code",
   "execution_count": 217,
   "metadata": {
    "hidden": true
   },
   "outputs": [
    {
     "name": "stdout",
     "output_type": "stream",
     "text": [
      "Enter the item's regular price: 800\n",
      "The sale price is $640.00\n"
     ]
    }
   ],
   "source": [
    "# This program calculates a retail item's sale price.\n",
    "\n",
    "# DISCOUNT_PERCENTAGE is used as a global constant for the discount percentage.\n",
    "DISCOUNT_PERCENTAGE = 0.20\n",
    "\n",
    "# The main function.\n",
    "def main():\n",
    "    reg_price = regular_price()\n",
    "    sale_price = reg_price - discount_price(reg_price)\n",
    "    print('The sale price is $', format(sale_price, ',.2f'), sep='')\n",
    "\n",
    "def regular_price():\n",
    "    price = float(input(\"Enter the item's regular price: \"))\n",
    "    return price\n",
    "\n",
    "def discount_price(x):\n",
    "    return x * DISCOUNT_PERCENTAGE\n",
    "\n",
    "# Call the main function.\n",
    "main()"
   ]
  },
  {
   "cell_type": "code",
   "execution_count": 7,
   "metadata": {
    "hidden": true
   },
   "outputs": [
    {
     "name": "stdout",
     "output_type": "stream",
     "text": [
      "Enter the monthly sales: 60000\n",
      "Enter the amount of advanced pay, or enter 0 if no advanced pay was given.\n",
      "Advanced pay: 11000\n",
      "The pay is $-200.00\n",
      "The salesperson must reimburse the company.\n"
     ]
    }
   ],
   "source": [
    "# This program calculates a salesperson's pay.\n",
    "def main():\n",
    "    sales = get_sales()\n",
    "    advanced_pay = get_advanced_pay()\n",
    "    comm_rate = calc_comm_rate(sales)\n",
    "    pay = sales * comm_rate - advanced_pay\n",
    "    print('The pay is $', format(pay, ',.2f'), sep='')\n",
    "    if pay < 0:    \n",
    "        print('The salesperson must reimburse the company.')\n",
    "\n",
    "def get_sales():\n",
    "    monthly_sales = float(input('Enter the monthly sales: '))\n",
    "    return monthly_sales\n",
    "\n",
    "def get_advanced_pay():\n",
    "    print('Enter the amount of advanced pay, or enter 0 if no advanced pay was given.')\n",
    "    advanced = float(input('Advanced pay: '))\n",
    "    return advanced\n",
    "\n",
    "def calc_comm_rate(x):\n",
    "    if x < 10000.00:\n",
    "        rate = 0.10\n",
    "    elif x >= 10000 and x <= 14999.99:\n",
    "        rate = 0.12\n",
    "    elif x >= 15000 and x <= 17999.99:\n",
    "        rate = 0.14\n",
    "    elif x >= 18000 and x <= 21999.99:\n",
    "        rate = 0.16\n",
    "    else:\n",
    "        rate = 0.18\n",
    "    return rate\n",
    "\n",
    "# Call the main function\n",
    "main()"
   ]
  },
  {
   "cell_type": "code",
   "execution_count": null,
   "metadata": {
    "hidden": true
   },
   "outputs": [],
   "source": []
  },
  {
   "cell_type": "code",
   "execution_count": 13,
   "metadata": {
    "hidden": true
   },
   "outputs": [
    {
     "name": "stdout",
     "output_type": "stream",
     "text": [
      "importing Jupyter notebook from circle.ipynb\n",
      "importing Jupyter notebook from rectangle.ipynb\n",
      "        MENU\n",
      "1) Area of a circle\n",
      "2) Circumference of a circle\n",
      "3) Area of a rectangle\n",
      "4) Perimeter of a rectangle\n",
      "5) Quit\n",
      "Enter your choice: 3\n",
      "Enter the rectangle's width: 3\n",
      "Enter the rectangle's length: 5\n",
      "The area is 15.0\n",
      "        MENU\n",
      "1) Area of a circle\n",
      "2) Circumference of a circle\n",
      "3) Area of a rectangle\n",
      "4) Perimeter of a rectangle\n",
      "5) Quit\n",
      "Enter your choice: 5\n",
      "Exiting the program...\n"
     ]
    }
   ],
   "source": [
    "import import_ipynb\n",
    "from circle import *\n",
    "from rectangle import *\n",
    "\n",
    "# Constants for the menu choices\n",
    "AREA_CIRCLE = 1\n",
    "CIRCUMFERENCE = 2\n",
    "AREA_RECTANGLE= 3\n",
    "PERIMETER_RECTANGLE = 4\n",
    "QUIT = 5\n",
    "\n",
    "def main():\n",
    "    # The choice variable controls the loop and holds the user's menu choice.\n",
    "    choice = 0\n",
    "    while choice != QUIT:\n",
    "        menu()\n",
    "        choice = int(input('Enter your choice: '))\n",
    "        if choice == AREA_CIRCLE:\n",
    "            radius = float(input(\"Enter the circle's radius: \"))\n",
    "            print('The area is', area(radius))  # circle 모듈의 area 함수 호출          \n",
    "        elif choice == CIRCUMFERENCE:\n",
    "            radius = float(input(\"Enter the circle's radius: \"))\n",
    "            print('The circumference is', circumference(radius)) # circle 모듈의 circumference 함수 호출     \n",
    "        elif choice == AREA_RECTANGLE:\n",
    "            width = float(input(\"Enter the rectangle's width: \"))\n",
    "            length = float(input(\"Enter the rectangle's length: \"))\n",
    "            print('The area is', area(width, length)) # rectangle 모듈의 area 함수 호출    \n",
    "        elif choice == PERIMETER_RECTANGLE:\n",
    "            width = float(input(\"Enter the rectangle's width: \"))\n",
    "            length = float(input(\"Enter the rectangle's length: \"))\n",
    "            print('The perimeter is', perimeter(width, length)) # rectangle 모듈의 perimeter 함수 호출\n",
    "        elif choice == QUIT:\n",
    "            print('Exiting the program...')           \n",
    "        else:\n",
    "            print('Error: invalid selection.')\n",
    "    \n",
    "def menu():\n",
    "    print('        MENU')\n",
    "    print('1) Area of a circle')\n",
    "    print('2) Circumference of a circle')\n",
    "    print('3) Area of a rectangle')\n",
    "    print('4) Perimeter of a rectangle')\n",
    "    print('5) Quit')\n",
    "\n",
    "# Call the main function.\n",
    "main()"
   ]
  },
  {
   "cell_type": "code",
   "execution_count": 14,
   "metadata": {
    "hidden": true
   },
   "outputs": [
    {
     "name": "stdout",
     "output_type": "stream",
     "text": [
      "        MENU\n",
      "1) Area of a circle\n",
      "2) Circumference of a circle\n",
      "3) Area of a rectangle\n",
      "4) Perimeter of a rectangle\n",
      "5) Quit\n",
      "Enter your choice: 1\n",
      "Enter the circle's radius: 3\n",
      "The area is 28.274333882308138\n",
      "        MENU\n",
      "1) Area of a circle\n",
      "2) Circumference of a circle\n",
      "3) Area of a rectangle\n",
      "4) Perimeter of a rectangle\n",
      "5) Quit\n",
      "Enter your choice: 5\n",
      "Exiting the program...\n"
     ]
    }
   ],
   "source": [
    "# This program allows the user to choose various geometry calculations from a menu. \n",
    "# This program imports the circle and rectangle modules.\n",
    "\n",
    "import import_ipynb\n",
    "import circle\n",
    "import rectangle\n",
    "\n",
    "# Constants for the menu choices\n",
    "AREA_CIRCLE = 1\n",
    "CIRCUMFERENCE = 2\n",
    "AREA_RECTANGLE= 3\n",
    "PERIMETER_RECTANGLE = 4\n",
    "QUIT = 5\n",
    "\n",
    "# The main function.\n",
    "def main():\n",
    "    # The choice variable controls the loop and holds the user's menu choice.\n",
    "    choice = 0\n",
    "\n",
    "    while choice != QUIT:\n",
    "        \n",
    "        # display the menu.\n",
    "        menu()\n",
    "\n",
    "        # Get the user's choice.\n",
    "        choice = int(input('Enter your choice: '))\n",
    "\n",
    "        # Perform the selected action.\n",
    "        if choice == AREA_CIRCLE:\n",
    "            radius = float(input(\"Enter the circle's radius: \"))\n",
    "            print('The area is', circle.area(radius))  # circle 모듈의 area 함수 호출\n",
    "            \n",
    "        elif choice == CIRCUMFERENCE:\n",
    "            radius = float(input(\"Enter the circle's radius: \"))\n",
    "            print('The circumference is', circle.circumference(radius)) # circle 모듈의 circumference 함수 호출\n",
    "            \n",
    "        elif choice == AREA_RECTANGLE:\n",
    "            width = float(input(\"Enter the rectangle's width: \"))\n",
    "            length = float(input(\"Enter the rectangle's length: \"))\n",
    "            print('The area is', rectangle.area(width, length)) # rectangle 모듈의 area 함수 호출\n",
    "            \n",
    "        elif choice == PERIMETER_RECTANGLE:\n",
    "            width = float(input(\"Enter the rectangle's width: \"))\n",
    "            length = float(input(\"Enter the rectangle's length: \"))\n",
    "            print('The perimeter is', rectangle.perimeter(width, length)) # rectangle 모듈의 perimeter 함수 호출\n",
    "            \n",
    "        elif choice == QUIT:\n",
    "            print('Exiting the program...')\n",
    "            \n",
    "        else:\n",
    "            print('Error: invalid selection.')\n",
    "    \n",
    "# The display_menu function displays a menu.\n",
    "def menu():\n",
    "    print('        MENU')\n",
    "    print('1) Area of a circle')\n",
    "    print('2) Circumference of a circle')\n",
    "    print('3) Area of a rectangle')\n",
    "    print('4) Perimeter of a rectangle')\n",
    "    print('5) Quit')\n",
    "\n",
    "# Call the main function.\n",
    "main()\n"
   ]
  },
  {
   "cell_type": "code",
   "execution_count": null,
   "metadata": {
    "hidden": true
   },
   "outputs": [],
   "source": []
  },
  {
   "cell_type": "code",
   "execution_count": null,
   "metadata": {
    "hidden": true
   },
   "outputs": [],
   "source": [
    "\n",
    "  "
   ]
  },
  {
   "cell_type": "code",
   "execution_count": null,
   "metadata": {
    "hidden": true
   },
   "outputs": [],
   "source": []
  },
  {
   "cell_type": "markdown",
   "metadata": {
    "heading_collapsed": true
   },
   "source": [
    "# more strings and special methods"
   ]
  },
  {
   "cell_type": "code",
   "execution_count": 91,
   "metadata": {
    "hidden": true
   },
   "outputs": [
    {
     "name": "stdout",
     "output_type": "stream",
     "text": [
      "Enter a sentence: Today is Saturday.\n",
      "The letter T or t appears 2 times.\n"
     ]
    }
   ],
   "source": [
    "# This program counts the number of times the letter T (uppercase or lowercase) appears in a string.\n",
    "\n",
    "def main():\n",
    "    # Create a variable to use to hold the count.\n",
    "    # The variable must start with 0.\n",
    "    count = 0\n",
    "    \n",
    "    # Get a string from the user.\n",
    "    my_string = input('Enter a sentence: ')\n",
    "\n",
    "    # Count the Ts.\n",
    "    for ch in my_string:\n",
    "        if ch == 'T' or ch  == 't':\n",
    "            count = count+1\n",
    "\n",
    "    # Print the result.\n",
    "    print('The letter T or t appears', count, 'times.')\n",
    "\n",
    "# Call the main function.\n",
    "main()\n",
    "\n"
   ]
  },
  {
   "cell_type": "code",
   "execution_count": 92,
   "metadata": {
    "hidden": true
   },
   "outputs": [
    {
     "name": "stdout",
     "output_type": "stream",
     "text": [
      "문장을 입력하세요: 돈 돈 돈 하는 사람은 돈 사람이다\n",
      "돈은 4 번 검색되었습니다\n"
     ]
    }
   ],
   "source": [
    "def main():\n",
    "    # Create a variable to use to hold the count.\n",
    "    # The variable must start with 0.\n",
    "    count = 0\n",
    "    \n",
    "    # Get a string from the user.\n",
    "    my_string = input('문장을 입력하세요: ')\n",
    "\n",
    "    # Count the Ts.\n",
    "    for ch in my_string:\n",
    "        if ch == '돈':\n",
    "            count = count+1\n",
    "\n",
    "    # Print the result.\n",
    "    print('돈은', count, '번 검색되었습니다')\n",
    "\n",
    "# Call the main function.\n",
    "main()"
   ]
  },
  {
   "cell_type": "code",
   "execution_count": 61,
   "metadata": {
    "hidden": true
   },
   "outputs": [
    {
     "name": "stdout",
     "output_type": "stream",
     "text": [
      "Enter a string: abc12353\n",
      "This is what I found about that string:\n",
      "The string is alphanumeric.\n",
      "The letters in the string are all lowercase.\n"
     ]
    }
   ],
   "source": [
    "# This program demonstrates several string testing methods.\n",
    "\n",
    "def main():\n",
    "    # Get a string from the user.\n",
    "    user_string = input('Enter a string: ')\n",
    "\n",
    "    print('This is what I found about that string:')\n",
    "    \n",
    "    # Test the string.\n",
    "    if user_string.isalnum():\n",
    "        print('The string is alphanumeric.')\n",
    "    if user_string.isdigit():\n",
    "        print('The string contains only digits.')\n",
    "    if user_string.isalpha():\n",
    "        print('The string contains only alphabetic characters.')\n",
    "    if user_string.isspace():\n",
    "        print('The string contains only whitespace characters.')\n",
    "    if user_string.islower():\n",
    "        print('The letters in the string are all lowercase.')\n",
    "    if user_string.isupper():\n",
    "        print('The letters in the string are all uppercase.')\n",
    "\n",
    "# Call the main function.\n",
    "main();"
   ]
  },
  {
   "cell_type": "code",
   "execution_count": 58,
   "metadata": {
    "hidden": true
   },
   "outputs": [],
   "source": [
    "# The get_login_name function accepts a first name,\n",
    "# last name, and ID number as arguments. It returns\n",
    "# a system login name.\n",
    "\n",
    "def login_name(first, last, idnumber):\n",
    "    # Get the first three letters of the first name.\n",
    "    # If the name is less than 3 characters, the\n",
    "    # slice will return the entire first name.\n",
    "    set1 = first[0 : 3]\n",
    "\n",
    "    # Get the first three letters of the last name.\n",
    "    # If the name is less than 3 characters, the\n",
    "    # slice will return the entire last name.\n",
    "    set2 = last[0 : 3]\n",
    "\n",
    "    # Get the last three characters of the student ID.\n",
    "    # If the ID number is less than 3 characters, the\n",
    "    # slice will return the entire ID number.\n",
    "    set3 = idnumber[-3 :]\n",
    "\n",
    "    # Put the sets of characters together.\n",
    "    login_name = set1 + set2 + set3\n",
    "\n",
    "    # Return the login name.\n",
    "    return login_name\n",
    "\n",
    "# The valid_password function accepts a password as\n",
    "# an argument and returns either true or false to\n",
    "# indicate whether the password is valid. A valid\n",
    "# password must be at least 7 characters in length,\n",
    "# have at least one uppercase letter, one lowercase\n",
    "# letter, and one digit.\n",
    "\n",
    "def valid_password(password):\n",
    "    # Set the Boolean variables to false.\n",
    "    correct_length = False\n",
    "    has_uppercase = False\n",
    "    has_lowercase = False\n",
    "    has_digit = False\n",
    "\n",
    "    # Begin the validation. Start by testing the password's length.\n",
    "    if len(password) >= 7:\n",
    "        correct_length = True\n",
    "\n",
    "        # Test each character and set the appropriate flag when a required character is found.\n",
    "        for ch in password:\n",
    "            if ch.isupper():\n",
    "                has_uppercase = True\n",
    "            if ch.islower():\n",
    "                has_lowercase = True\n",
    "            if ch.isdigit():\n",
    "                has_digit = True\n",
    "\n",
    "    # Determine whether all of the requirements\n",
    "    # are met. If they are, set is_valid to true.\n",
    "    # Otherwise, set is_valid to false.\n",
    "    if correct_length and has_uppercase and has_lowercase and has_digit:\n",
    "        is_valid = True\n",
    "    else:\n",
    "        is_valid = False\n",
    "\n",
    "    # Return the is_valid variable.\n",
    "    return is_valid"
   ]
  },
  {
   "cell_type": "code",
   "execution_count": 59,
   "metadata": {
    "hidden": true
   },
   "outputs": [
    {
     "name": "stdout",
     "output_type": "stream",
     "text": [
      "Enter your first name: michael\n",
      "Enter your last name: park\n",
      "Enter your student ID number: 3897933\n",
      "Your system login name is:\n",
      "micpar933\n"
     ]
    }
   ],
   "source": [
    "# This program gets the user's first name, last name, and\n",
    "# student ID number. Using this data it generates a\n",
    "# system login name.\n",
    "\n",
    "def main():\n",
    "    # Get the user's first name, last name, and ID number.\n",
    "    first = input('Enter your first name: ')\n",
    "    last = input('Enter your last name: ')\n",
    "    idnumber = input('Enter your student ID number: ')\n",
    "\n",
    "    # Get the login name.\n",
    "    print('Your system login name is:')\n",
    "    print(login_name(first, last, idnumber))\n",
    "    \n",
    "# Call the main function.\n",
    "main()\n"
   ]
  },
  {
   "cell_type": "code",
   "execution_count": null,
   "metadata": {
    "hidden": true
   },
   "outputs": [],
   "source": []
  },
  {
   "cell_type": "code",
   "execution_count": 62,
   "metadata": {
    "hidden": true
   },
   "outputs": [
    {
     "name": "stdout",
     "output_type": "stream",
     "text": [
      "Z\n",
      "ZZ\n",
      "ZZZ\n",
      "ZZZZ\n",
      "ZZZZZ\n",
      "ZZZZZZ\n",
      "ZZZZZZZ\n",
      "ZZZZZZZZ\n",
      "ZZZZZZZZZ\n",
      "ZZZZZZZZ\n",
      "ZZZZZZZ\n",
      "ZZZZZZ\n",
      "ZZZZZ\n",
      "ZZZZ\n",
      "ZZZ\n",
      "ZZ\n",
      "Z\n"
     ]
    }
   ],
   "source": [
    "# This program demonstrates the repetition operator.\n",
    "\n",
    "def main():\n",
    "    # Print nine rows increasing in length.\n",
    "    for count in range(1, 10):\n",
    "        print('Z' * count)\n",
    "\n",
    "    # Print nine rows decreasing in length.\n",
    "    for count in range(8, 0, -1):\n",
    "        print('Z' * count)\n",
    "\n",
    "# Call the main function.\n",
    "main()\n"
   ]
  },
  {
   "cell_type": "code",
   "execution_count": 65,
   "metadata": {
    "hidden": true
   },
   "outputs": [
    {
     "name": "stdout",
     "output_type": "stream",
     "text": [
      "['One', 'two', 'three', 'four']\n"
     ]
    }
   ],
   "source": [
    "# This program demonstrates the split method.\n",
    "\n",
    "def main():\n",
    "   # Create a string with multiple words.\n",
    "   mystring = 'One two three four'\n",
    "\n",
    "   # Split the string.\n",
    "   wordlist = mystring.split()\n",
    "   print(wordlist)\n",
    "\n",
    "main()"
   ]
  },
  {
   "cell_type": "code",
   "execution_count": 67,
   "metadata": {
    "hidden": true
   },
   "outputs": [
    {
     "name": "stdout",
     "output_type": "stream",
     "text": [
      "Month: 11\n",
      "Day: 26\n",
      "Year: 2018\n"
     ]
    }
   ],
   "source": [
    "# This program calls the split method, using the\n",
    "# '/' character as a separator.\n",
    "\n",
    "def main():\n",
    "    # Create a string with a date.\n",
    "    date = '11/26/2018'\n",
    "\n",
    "    # Split the date.\n",
    "    datelist = date.split('/')\n",
    "\n",
    "    # Display each piece of the date.\n",
    "    print('Month:', datelist[0])\n",
    "    print('Day:', datelist[1])\n",
    "    print('Year:', datelist[2])\n",
    "\n",
    "# Call the main function.\n",
    "main()"
   ]
  },
  {
   "cell_type": "code",
   "execution_count": null,
   "metadata": {
    "hidden": true
   },
   "outputs": [],
   "source": []
  },
  {
   "cell_type": "code",
   "execution_count": null,
   "metadata": {
    "hidden": true
   },
   "outputs": [],
   "source": []
  },
  {
   "cell_type": "code",
   "execution_count": null,
   "metadata": {
    "hidden": true
   },
   "outputs": [],
   "source": []
  },
  {
   "cell_type": "code",
   "execution_count": null,
   "metadata": {
    "hidden": true
   },
   "outputs": [],
   "source": []
  },
  {
   "cell_type": "markdown",
   "metadata": {
    "heading_collapsed": true
   },
   "source": [
    "# GUI"
   ]
  },
  {
   "cell_type": "code",
   "execution_count": 142,
   "metadata": {
    "hidden": true
   },
   "outputs": [],
   "source": [
    "from tkinter import * # tkinter의 모든 정의를 임포트한다.\n",
    "\n",
    "window = Tk() # 창을 생성한다.\n",
    "label = Label(window, text = \"파이썬에 오신것을 환영합니다.\") # 레이블을 생성한다.\n",
    "button = Button(window, text = \"저를 클릭해주세요\") # 버튼을 생성한다.\n",
    "label.pack() # 창 내부에 레이블을 배치한다.\n",
    "button.pack() # 창 내부에 버튼을 배치한다.\n",
    "\n",
    "window.mainloop() # 이벤트 루프를 생성한다."
   ]
  },
  {
   "cell_type": "code",
   "execution_count": 143,
   "metadata": {
    "hidden": true
   },
   "outputs": [
    {
     "name": "stdout",
     "output_type": "stream",
     "text": [
      "OK 버튼이 클릭되었습니다.\n",
      "Cancel 버튼이 클릭되었습니다.\n",
      "OK 버튼이 클릭되었습니다.\n",
      "Cancel 버튼이 클릭되었습니다.\n"
     ]
    }
   ],
   "source": [
    "from tkinter import * # tkinter로부터 모든 정의를 임포트한다.\n",
    "\n",
    "def processOK():\n",
    "    print(\"OK 버튼이 클릭되었습니다.\")\n",
    "\n",
    "def processCancel():\n",
    "    print(\"Cancel 버튼이 클릭되었습니다.\")\n",
    "\n",
    "window = Tk() # 창을 생성한다.\n",
    "btOK = Button(window, text = \"OK\", fg = \"red\", command = processOK)\n",
    "btCancel = Button(window, text = \"Cancel\", bg = \"yellow\",\n",
    "                  command = processCancel)\n",
    "btOK.pack() # OK 버튼을 창 내부에 배치한다.\n",
    "btCancel.pack() # Cancel 버튼을 창 내부에 배치한다.\n",
    "\n",
    "window.mainloop() # 이벤트 루프를 생성한다."
   ]
  },
  {
   "cell_type": "code",
   "execution_count": 144,
   "metadata": {
    "hidden": true
   },
   "outputs": [
    {
     "name": "stdout",
     "output_type": "stream",
     "text": [
      "OK 버튼이 클릭되었습니다.\n",
      "Cancel 버튼이 클릭되었습니다.\n"
     ]
    },
    {
     "data": {
      "text/plain": [
       "<__main__.ProcessButtonEvent at 0x3bee75358>"
      ]
     },
     "execution_count": 144,
     "metadata": {},
     "output_type": "execute_result"
    }
   ],
   "source": [
    "from tkinter import * # tkinter의 모든 정의를 임포트한다.\n",
    "\n",
    "class ProcessButtonEvent:\n",
    "    def __init__(self):\n",
    "        window = Tk() # 창을 생성한다.\n",
    "        btOK = Button(window, text = \"OK\", fg = \"red\",\n",
    "                      command = self.processOK)\n",
    "        btCancel = Button(window, text = \"Cancel\", bg = \"yellow\",\n",
    "                          command = self.processCancel)\n",
    "        btOK.pack() # OK 버튼을 창 내부에 위치시킨다.\n",
    "        btCancel.pack() # Cancel 버튼을 창 내부에 위치시킨다.\n",
    "\n",
    "        window.mainloop() # 이벤트 루프를 생성한다.\n",
    "\n",
    "    def processOK(self):\n",
    "        print(\"OK 버튼이 클릭되었습니다.\")\n",
    "\n",
    "    def processCancel(self):\n",
    "        print(\"Cancel 버튼이 클릭되었습니다.\")\n",
    "\n",
    "ProcessButtonEvent() # __init__ 메소드를 호출하기 위해 객체를 생성한다."
   ]
  },
  {
   "cell_type": "code",
   "execution_count": null,
   "metadata": {
    "hidden": true
   },
   "outputs": [],
   "source": []
  },
  {
   "cell_type": "code",
   "execution_count": null,
   "metadata": {
    "hidden": true
   },
   "outputs": [],
   "source": []
  },
  {
   "cell_type": "markdown",
   "metadata": {},
   "source": [
    "# list"
   ]
  },
  {
   "cell_type": "code",
   "execution_count": 1,
   "metadata": {},
   "outputs": [
    {
     "name": "stdout",
     "output_type": "stream",
     "text": [
      "[1, 2, 3, 4]\n"
     ]
    }
   ],
   "source": [
    "x=[1,2,3,4]\n",
    "print(x)"
   ]
  },
  {
   "cell_type": "code",
   "execution_count": 1,
   "metadata": {},
   "outputs": [
    {
     "name": "stdout",
     "output_type": "stream",
     "text": [
      "Enter the number of days in business ih this week.\n",
      "3\n",
      "Enter the sales for each day.\n",
      "Day #1: 30\n",
      "Day #2: 70\n",
      "Day #3: 50\n",
      "[30.0, 70.0, 50.0]\n"
     ]
    }
   ],
   "source": [
    "print('Enter the number of days in business ih this week.')\n",
    "\n",
    "DAYS=int(input())\n",
    "sales = [0] * DAYS \n",
    "index = 0\n",
    "\n",
    "print('Enter the sales for each day.')\n",
    "\n",
    "while index < DAYS:\n",
    "    print('Day #', index + 1, ': ', sep='', end='')\n",
    "    sales[index] = float(input())\n",
    "    index = index+1\n",
    "print(sales)    "
   ]
  },
  {
   "cell_type": "code",
   "execution_count": 5,
   "metadata": {},
   "outputs": [
    {
     "name": "stdout",
     "output_type": "stream",
     "text": [
      "Enter the sales for each day.\n",
      "Day #1: 33\n",
      "Day #2: 33\n",
      "Day #3: 33\n",
      "Day #4: 33\n",
      "Day #5: 33\n",
      "[33.0, 33.0, 33.0, 33.0, 33.0]\n"
     ]
    }
   ],
   "source": [
    "# The NUM_DAYS constant holds the number of days that we will gather sales data for.\n",
    "\n",
    "NUM_DAYS = 5\n",
    "\n",
    "def main():\n",
    "    # Create a list to hold the sales\n",
    "    # for each day.\n",
    "    sales = [0] * NUM_DAYS  # create a null list of zeros\n",
    "\n",
    "    # Create a variable to hold an index.\n",
    "    index = 0\n",
    "\n",
    "    print('Enter the sales for each day.')\n",
    "    \n",
    "    # Get the sales for each day.\n",
    "    while index < NUM_DAYS:\n",
    "        print('Day #', index + 1, ': ', sep='', end='')\n",
    "        sales[index] = float(input())\n",
    "        index += 1\n",
    "        \n",
    "    print(sales)\n",
    "    \n",
    "# Call the main function.\n",
    "main()"
   ]
  },
  {
   "cell_type": "code",
   "execution_count": 6,
   "metadata": {},
   "outputs": [
    {
     "name": "stdout",
     "output_type": "stream",
     "text": [
      "Enter a product number: V475\n",
      "V475 was found in the list.\n"
     ]
    }
   ],
   "source": [
    "# This program demonstrates the in operator used with a list.\n",
    "\n",
    "def main():\n",
    "    products = ['V475', 'F987', 'Q143', 'R688']\n",
    "    good = input('Enter a product number: ')\n",
    "\n",
    "    if good in products:\n",
    "        print(good, 'was found in the list.')\n",
    "    else:\n",
    "        print(good, 'was not found in the list.')\n",
    "\n",
    "# Call the main function.\n",
    "main()"
   ]
  },
  {
   "cell_type": "code",
   "execution_count": 12,
   "metadata": {},
   "outputs": [
    {
     "name": "stdout",
     "output_type": "stream",
     "text": [
      "Enter a name: JJJ\n",
      "Do you want to add another name?\n",
      "Y = yes, anything else = no: Y\n",
      "\n",
      "Enter a name: KKK\n",
      "Do you want to add another name?\n",
      "Y = yes, anything else = no: Y\n",
      "\n",
      "Enter a name: TTT\n",
      "Do you want to add another name?\n",
      "Y = yes, anything else = no: k\n",
      "\n",
      "Here is the list of the names you entered.\n",
      "['JJJ', 'KKK', 'TTT']\n"
     ]
    }
   ],
   "source": [
    "# This program demonstrates how the append\n",
    "# method can be used to add items to a list.\n",
    "\n",
    "def main():\n",
    "    name_list = []\n",
    "    again = 'Y'\n",
    "    \n",
    "    while again.upper() == 'Y':\n",
    "        name = input('Enter a name: ')\n",
    "        name_list.append(name)\n",
    "        print('Do you want to add another name?')\n",
    "        again = input('Y = yes, anything else = no: ')\n",
    "        print()\n",
    "\n",
    "    print('Here is the list of the names you entered.')\n",
    "    print(name_list)\n",
    "main()"
   ]
  },
  {
   "cell_type": "code",
   "execution_count": null,
   "metadata": {},
   "outputs": [],
   "source": [
    "# This program demonstrates how to get the\n",
    "# index of an item in a list and then replace\n",
    "# that item with a new item.\n",
    "\n",
    "def main():\n",
    "    food = ['Pizza', 'Burgers', 'Chips']\n",
    "    print(food)\n",
    "    item = input('Which item should I change? ')\n",
    "\n",
    "    try:\n",
    "        item_index = food.index(item)\n",
    "        new_item = input('Enter the new food: ')\n",
    "        food[item_index] = new_item\n",
    "        print('Here is the revised list:')\n",
    "        print(food)\n",
    "        \n",
    "    except ValueError:\n",
    "        print('That item was not found in the list.')\n",
    "\n",
    "# Call the main function.\n",
    "main()"
   ]
  },
  {
   "cell_type": "code",
   "execution_count": 15,
   "metadata": {},
   "outputs": [
    {
     "name": "stdout",
     "output_type": "stream",
     "text": [
      "['James', 'Kathryn', 'Bill']\n",
      "['Joe', 'James', 'Kathryn', 'Bill']\n"
     ]
    }
   ],
   "source": [
    "def main():\n",
    "\n",
    "    names = ['James', 'Kathryn', 'Bill']\n",
    "    print(names)\n",
    "    # Insert a new name at element 0.\n",
    "    names.insert(0, 'Joe')\n",
    "    print(names)\n",
    "\n",
    "main()"
   ]
  },
  {
   "cell_type": "code",
   "execution_count": 17,
   "metadata": {},
   "outputs": [
    {
     "name": "stdout",
     "output_type": "stream",
     "text": [
      "['Pizza', 'Burgers', 'Chips']\n",
      "Which item should I remove? Chips\n",
      "Here is the revised list:\n",
      "['Pizza', 'Burgers']\n"
     ]
    }
   ],
   "source": [
    "# This program demonstrates how to use the remove\n",
    "# method to remove an item from a list.\n",
    "\n",
    "def main():\n",
    "    food = ['Pizza', 'Burgers', 'Chips']\n",
    "    print(food)\n",
    "    item = input('Which item should I remove? ')\n",
    "\n",
    "    try:\n",
    "        food.remove(item)\n",
    "        print(food)\n",
    "        \n",
    "    except ValueError:\n",
    "        print('That item was not found in the list.')\n",
    "\n",
    "# Call the main function.\n",
    "main()"
   ]
  },
  {
   "cell_type": "code",
   "execution_count": 18,
   "metadata": {},
   "outputs": [
    {
     "name": "stdout",
     "output_type": "stream",
     "text": [
      "Enter the hours worked by employee 1: 20\n",
      "Enter the hours worked by employee 2: 20\n",
      "Enter the hourly pay rate: 30\n",
      "Gross pay for employee 1: $600.00\n",
      "Gross pay for employee 2: $600.00\n"
     ]
    }
   ],
   "source": [
    "# This program calculates the gross pay for emoloyees.\n",
    "\n",
    "NUM_EMPLOYEES = 2\n",
    "\n",
    "def main():\n",
    "    hours = [0] * NUM_EMPLOYEES\n",
    "\n",
    "    for index in range(NUM_EMPLOYEES):\n",
    "        print('Enter the hours worked by employee ', index + 1, ': ', sep='', end='')\n",
    "        hours[index] = float(input())\n",
    "    pay_rate = float(input('Enter the hourly pay rate: '))\n",
    "\n",
    "    for index in range(NUM_EMPLOYEES):\n",
    "        gross_pay = hours[index] * pay_rate\n",
    "        print('Gross pay for employee ', index + 1, ': $', format(gross_pay, ',.2f'), sep='')\n",
    "\n",
    "# Call the main function.\n",
    "main()"
   ]
  },
  {
   "cell_type": "code",
   "execution_count": 19,
   "metadata": {},
   "outputs": [
    {
     "name": "stdout",
     "output_type": "stream",
     "text": [
      "The total of the elements is 30\n"
     ]
    }
   ],
   "source": [
    "# This program calculates the total of the values in a list.\n",
    "\n",
    "def main():\n",
    "    # Create a list.\n",
    "    numbers = [2, 4, 6, 8, 10]\n",
    "    total = 0\n",
    "    \n",
    "    for value in numbers:\n",
    "        total =total+ value\n",
    "    print('The total of the elements is', total)\n",
    "\n",
    "# Call the main function.\n",
    "main()"
   ]
  },
  {
   "cell_type": "code",
   "execution_count": 20,
   "metadata": {},
   "outputs": [
    {
     "name": "stdout",
     "output_type": "stream",
     "text": [
      "The average of the elements is 5.1\n"
     ]
    }
   ],
   "source": [
    "# This program calculates the average of the values in a list.\n",
    "\n",
    "def main():\n",
    "    scores = [2.5, 7.3, 6.5, 4.0, 5.2]\n",
    "    total = 0.0\n",
    "    \n",
    "    for value in scores:\n",
    "        total += value\n",
    "        \n",
    "    average = total / len(scores)\n",
    "    print('The average of the elements is', average)\n",
    "\n",
    "main()"
   ]
  },
  {
   "cell_type": "code",
   "execution_count": 22,
   "metadata": {},
   "outputs": [
    {
     "name": "stdout",
     "output_type": "stream",
     "text": [
      "The total is 30\n"
     ]
    }
   ],
   "source": [
    "# This program uses a function to calculate the total of the values in a list.\n",
    "\n",
    "def main():\n",
    "    number_list = [2, 4, 6, 8, 10]\n",
    "    print('The total is', calc_total(number_list))\n",
    "\n",
    "def calc_total(values):\n",
    "    total = 0\n",
    "    for num in values:\n",
    "        total += num\n",
    "    return total\n",
    "\n",
    "# Call the main function.\n",
    "main()\n"
   ]
  },
  {
   "cell_type": "code",
   "execution_count": 23,
   "metadata": {},
   "outputs": [
    {
     "name": "stdout",
     "output_type": "stream",
     "text": [
      "Enter a test score: 78\n",
      "Do you want to add another score?\n",
      "y = yes, anything else = no: y\n",
      "Enter a test score: 88\n",
      "Do you want to add another score?\n",
      "y = yes, anything else = no: y\n",
      "Enter a test score: 79\n",
      "Do you want to add another score?\n",
      "y = yes, anything else = no: y\n",
      "Enter a test score: 55\n",
      "Do you want to add another score?\n",
      "y = yes, anything else = no: n\n",
      "The average, with the lowest score dropped is: 81.66666666666667\n"
     ]
    }
   ],
   "source": [
    "# This program gets a series of test scores and\n",
    "# calculates the average of the scores with the\n",
    "# lowest score dropped.\n",
    "\n",
    "def main():\n",
    "    # Get the test scores from the user.\n",
    "    scores = get_scores()\n",
    "\n",
    "    # Get the total of the test scores.\n",
    "    total = calc_total(scores)\n",
    "\n",
    "    # Get the lowest test score.\n",
    "    lowest = min(scores)\n",
    "\n",
    "    # Subtract the lowest score from the total.\n",
    "    total = total-lowest\n",
    "\n",
    "    # Calculate the average. Note that we divide\n",
    "    # by 1 less than the number of scores because\n",
    "    # the lowest score was dropped.\n",
    "    average = total / (len(scores) - 1)\n",
    "\n",
    "    # Display the average.\n",
    "    print('The average, with the lowest score dropped', 'is:', average)\n",
    "\n",
    "# The get_scores function gets a series of test\n",
    "# scores from the user and stores them in a list.\n",
    "# A reference to the list is returned.\n",
    "\n",
    "def get_scores():\n",
    "    # Create an empty list.\n",
    "    test_scores = []\n",
    "    \n",
    "    again = 'y'\n",
    "    while again == 'y':\n",
    "        # Get a score and add it to the list.\n",
    "        value = float(input('Enter a test score: '))\n",
    "        test_scores.append(value)\n",
    "        print('Do you want to add another score?')\n",
    "        again = input('y = yes, anything else = no: ')\n",
    "\n",
    "    return test_scores\n",
    "\n",
    "# The get_total function accepts a list as an argument returns the total of the values in the list.\n",
    "\n",
    "def calc_total(values):\n",
    "    total = 0.0\n",
    "    \n",
    "    # Calculate the total of the list elements.\n",
    "    for num in values:\n",
    "        total += num\n",
    "\n",
    "    return total\n",
    "\n",
    "# Call the main function.\n",
    "main()\n"
   ]
  },
  {
   "cell_type": "code",
   "execution_count": 24,
   "metadata": {},
   "outputs": [],
   "source": [
    "def main():\n",
    "    cities = ['New York', 'Boston', 'Atlanta', 'Dallas']\n",
    "    outfile = open('cities.txt', 'w')\n",
    "    outfile.writelines(cities)\n",
    "    outfile.close()\n",
    "main()"
   ]
  },
  {
   "cell_type": "code",
   "execution_count": 28,
   "metadata": {},
   "outputs": [
    {
     "name": "stdout",
     "output_type": "stream",
     "text": [
      "['New YorkBostonAtlantaDallas']\n"
     ]
    }
   ],
   "source": [
    "def main():\n",
    "    infile = open('cities.txt', 'r')\n",
    "    cities = infile.readlines()\n",
    "    infile.close()\n",
    "    print(cities)\n",
    "main()"
   ]
  },
  {
   "cell_type": "code",
   "execution_count": 29,
   "metadata": {},
   "outputs": [
    {
     "name": "stdout",
     "output_type": "stream",
     "text": [
      "['New YorkBostonAtlantaDallas']\n"
     ]
    }
   ],
   "source": [
    "# This program reads a file's contents into a list.\n",
    "\n",
    "def main():\n",
    "    # Open a file for reading.\n",
    "    infile = open('cities.txt', 'r')\n",
    "\n",
    "    # Read the contents of the file into a list.\n",
    "    cities = infile.readlines()\n",
    "    \n",
    "    # Close the file.\n",
    "    infile.close()\n",
    "\n",
    "    # Strip the \\n from each element.\n",
    "    index = 0\n",
    "    while index < len(cities):\n",
    "        cities[index] = cities[index].rstrip('\\n')\n",
    "        index += 1\n",
    "\n",
    "    # Print the contents of the list.\n",
    "    print(cities)\n",
    "\n",
    "# Call the main function.\n",
    "main()\n"
   ]
  },
  {
   "cell_type": "code",
   "execution_count": 30,
   "metadata": {},
   "outputs": [],
   "source": [
    "# This program saves a list of numbers to a file.\n",
    "\n",
    "def main():\n",
    "    # Create a list of numbers.\n",
    "    numbers = [1, 2, 3, 4, 5, 6, 7]\n",
    "\n",
    "    # Open a file for writing.\n",
    "    outfile = open('numberlist.txt', 'w')\n",
    "\n",
    "    # Write the list to the file.\n",
    "    for item in numbers:\n",
    "        outfile.write(str(item) + '\\n')\n",
    "\n",
    "    # Close the file.\n",
    "    outfile.close()\n",
    "\n",
    "# Call the main function.\n",
    "main()\n"
   ]
  },
  {
   "cell_type": "code",
   "execution_count": 31,
   "metadata": {},
   "outputs": [
    {
     "name": "stdout",
     "output_type": "stream",
     "text": [
      "[1, 2, 3, 4, 5, 6, 7]\n"
     ]
    }
   ],
   "source": [
    "# This program reads numbers from a file into a list.\n",
    "\n",
    "def main():\n",
    "    # Open a file for reading.\n",
    "    infile = open('numberlist.txt', 'r')\n",
    "\n",
    "    # Read the contents of the file into a list.\n",
    "    numbers = infile.readlines()\n",
    "    \n",
    "    # Close the file.\n",
    "    infile.close()\n",
    "\n",
    "    # Convert each element to an int.\n",
    "    index = 0\n",
    "    while index < len(numbers):\n",
    "        numbers[index] = int(numbers[index])\n",
    "        index += 1\n",
    "\n",
    "    # Print the contents of the list.\n",
    "    print(numbers)\n",
    "\n",
    "# Call the main function.\n",
    "main()\n"
   ]
  },
  {
   "cell_type": "code",
   "execution_count": 32,
   "metadata": {},
   "outputs": [
    {
     "name": "stdout",
     "output_type": "stream",
     "text": [
      "[[21, 17, 17, 84], [52, 22, 52, 20], [65, 55, 3, 36]]\n"
     ]
    }
   ],
   "source": [
    "# This program assigns random numbers to\n",
    "# a two-dimensional list.\n",
    "import random\n",
    "\n",
    "# Constants for rows and columns\n",
    "ROWS = 3\n",
    "COLS = 4\n",
    "\n",
    "def main():\n",
    "    # Create a two-dimensional list.\n",
    "    values = [[0, 0, 0, 0],\n",
    "              [0, 0, 0, 0],\n",
    "              [0, 0, 0, 0]]\n",
    "\n",
    "    # Fill the list with random numbers.\n",
    "    for r in range(ROWS):\n",
    "        for c in range(COLS):\n",
    "            values[r][c] = random.randint(1, 100)\n",
    "\n",
    "    print(values)\n",
    "\n",
    "# Call the main function.\n",
    "main()"
   ]
  },
  {
   "cell_type": "code",
   "execution_count": 34,
   "metadata": {},
   "outputs": [
    {
     "data": {
      "image/png": "[encoded data removed]",
      "text/plain": [
       "<Figure size 432x288 with 1 Axes>"
      ]
     },
     "metadata": {
      "needs_background": "light"
     },
     "output_type": "display_data"
    }
   ],
   "source": [
    "# This program displays a simple line graph.\n",
    "import matplotlib.pyplot as plt\n",
    "\n",
    "def main():\n",
    "    # Create lists with the X and Y coordinates of each data point.\n",
    "    xs = [0, 1, 2, 3, 4]\n",
    "    ys = [0, 3, 1, 5, 2]\n",
    "\n",
    "    # Build the line graph.\n",
    "    plt.plot(xs, ys)\n",
    "    \n",
    "    # Display the line graph.\n",
    "    plt.show()\n",
    "\n",
    "# Call the main function.\n",
    "main()\n"
   ]
  },
  {
   "cell_type": "code",
   "execution_count": 37,
   "metadata": {},
   "outputs": [
    {
     "data": {
      "image/png": "[encoded data removed]",
      "text/plain": [
       "<Figure size 432x288 with 1 Axes>"
      ]
     },
     "metadata": {
      "needs_background": "light"
     },
     "output_type": "display_data"
    }
   ],
   "source": [
    "# This program displays a simple line graph.\n",
    "import matplotlib.pyplot as plt\n",
    "\n",
    "def main():\n",
    "    # Create lists with the X and Y coordinates of each data point.\n",
    "    xs = [0, 1, 2, 3, 4]\n",
    "    ys = [0, 3, 1, 5, 2]\n",
    "\n",
    "    # Build the line graph.\n",
    "    plt.plot(xs, ys)\n",
    "\n",
    "    # Add a title.\n",
    "    plt.title('Sample Data')\n",
    "\n",
    "    # Add labels to the axes.\n",
    "    plt.xlabel('This is the X axis')\n",
    "    plt.ylabel('This is the Y axis')\n",
    "\n",
    "    # Add a grid.\n",
    "    plt.grid(True)\n",
    "\n",
    "    # Display the line graph.\n",
    "    plt.show()\n",
    "\n",
    "# Call the main function.\n",
    "main()"
   ]
  },
  {
   "cell_type": "code",
   "execution_count": 38,
   "metadata": {},
   "outputs": [
    {
     "data": {
      "image/png": "[encoded data removed]",
      "text/plain": [
       "<Figure size 432x288 with 1 Axes>"
      ]
     },
     "metadata": {
      "needs_background": "light"
     },
     "output_type": "display_data"
    }
   ],
   "source": [
    "# This program displays a simple line graph.\n",
    "import matplotlib.pyplot as plt\n",
    "\n",
    "def main():\n",
    "    # Create lists with the X and Y coordinates of each data point.\n",
    "    xs = [0, 1, 2, 3, 4]\n",
    "    ys = [0, 3, 1, 5, 2]\n",
    "    \n",
    "    # Build the line graph.\n",
    "    plt.plot(xs, ys)\n",
    "\n",
    "    # Add a title.\n",
    "    plt.title('Sample Data')\n",
    "\n",
    "    # Add labels to the axes.\n",
    "    plt.xlabel('This is the X axis')\n",
    "    plt.ylabel('This is the Y axis')\n",
    "\n",
    "    # Set the axis limits.\n",
    "    plt.xlim(xmin=-1, xmax=10)\n",
    "    plt.ylim(ymin=-1, ymax=6)\n",
    "\n",
    "    # Add a grid.\n",
    "    plt.grid(True)\n",
    "\n",
    "    # Display the line graph.\n",
    "    plt.show()\n",
    "\n",
    "# Call the main function.\n",
    "main()\n"
   ]
  },
  {
   "cell_type": "code",
   "execution_count": 41,
   "metadata": {},
   "outputs": [
    {
     "data": {
      "image/png": "[encoded data removed]",
      "text/plain": [
       "<Figure size 432x288 with 1 Axes>"
      ]
     },
     "metadata": {
      "needs_background": "light"
     },
     "output_type": "display_data"
    }
   ],
   "source": [
    "# This program displays a simple line graph.\n",
    "import matplotlib.pyplot as plt\n",
    "\n",
    "def main():\n",
    "    # Create lists with the X and Y coordinates of each data point.\n",
    "    xs = [0, 1, 2, 3, 4]\n",
    "    ys = [0, 3, 1, 5, 2]\n",
    "    \n",
    "    # Build the line graph.\n",
    "    plt.plot(xs, ys)\n",
    "\n",
    "    # Add a title.\n",
    "    plt.title('Sales by Year')\n",
    "\n",
    "    # Add labels to the axes.\n",
    "    plt.xlabel('Year')\n",
    "    plt.ylabel('Sales')\n",
    "\n",
    "    # Customize the tick marks.\n",
    "    plt.xticks([0, 1, 2, 3, 4],\n",
    "               ['2016', '2017', '2018', '2019', '2020'])\n",
    "    plt.yticks([0, 1, 2, 3, 4, 5],\n",
    "               ['$0m', '$1m', '$2m', '$3m', '$4m', '$5m'])\n",
    "\n",
    "    # Add a grid.\n",
    "    plt.grid(True)\n",
    "\n",
    "    # Display the line graph.\n",
    "    plt.show()\n",
    "\n",
    "# Call the main function.\n",
    "main()"
   ]
  },
  {
   "cell_type": "code",
   "execution_count": 40,
   "metadata": {},
   "outputs": [
    {
     "data": {
      "image/png": "[encoded data removed]",
      "text/plain": [
       "<Figure size 432x288 with 1 Axes>"
      ]
     },
     "metadata": {
      "needs_background": "light"
     },
     "output_type": "display_data"
    }
   ],
   "source": [
    "# This program displays a simple line graph.\n",
    "import matplotlib.pyplot as plt\n",
    "\n",
    "def main():\n",
    "    # Create lists with the X and Y coordinates of each data point.\n",
    "    x_coords = [0, 1, 2, 3, 4]\n",
    "    y_coords = [0, 3, 1, 5, 2]\n",
    "    \n",
    "    # Build the line graph with the markers\n",
    "    plt.plot(x_coords, y_coords, marker='o')\n",
    "\n",
    "    # Add a title.\n",
    "    plt.title('Sales by Year')\n",
    "\n",
    "    # Add labels to the axes.\n",
    "    plt.xlabel('Year')\n",
    "    plt.ylabel('Sales')\n",
    "\n",
    "    # Customize the tick marks.\n",
    "    plt.xticks([0, 1, 2, 3, 4],\n",
    "               ['2016', '2017', '2018', '2019', '2020'])\n",
    "    plt.yticks([0, 1, 2, 3, 4, 5],\n",
    "               ['$0m', '$1m', '$2m', '$3m', '$4m', '$5m'])\n",
    "\n",
    "    # Add a grid.\n",
    "    plt.grid(True)\n",
    "\n",
    "    # Display the line graph.\n",
    "    plt.show()\n",
    "\n",
    "# Call the main function.\n",
    "main()\n"
   ]
  },
  {
   "cell_type": "code",
   "execution_count": 42,
   "metadata": {},
   "outputs": [
    {
     "data": {
      "image/png": "[encoded data removed]",
      "text/plain": [
       "<Figure size 432x288 with 1 Axes>"
      ]
     },
     "metadata": {
      "needs_background": "light"
     },
     "output_type": "display_data"
    }
   ],
   "source": [
    "# This program displays a simple bar chart.\n",
    "import matplotlib.pyplot as plt\n",
    "\n",
    "def main():\n",
    "    # Create a list with the X coordinates of each bar's left edge.\n",
    "    left_edges = [0, 10, 20, 30, 40]\n",
    "\n",
    "    # Create a list with the heights of each bar.\n",
    "    heights = [100, 200, 300, 400, 500]\n",
    "    \n",
    "    # Build the bar chart.\n",
    "    plt.bar(left_edges, heights)\n",
    "\n",
    "    # Display the bar chart.\n",
    "    plt.show()\n",
    "\n",
    "# Call the main function.\n",
    "main()\n"
   ]
  },
  {
   "cell_type": "code",
   "execution_count": 47,
   "metadata": {},
   "outputs": [
    {
     "data": {
      "image/png": "[encoded data removed]",
      "text/plain": [
       "<Figure size 432x288 with 1 Axes>"
      ]
     },
     "metadata": {
      "needs_background": "light"
     },
     "output_type": "display_data"
    }
   ],
   "source": [
    "# This program displays a simple bar chart.\n",
    "import matplotlib.pyplot as plt\n",
    "\n",
    "def main():\n",
    "    # Create a list with the X coordinates of each bar's left edge.\n",
    "    left_edges = [0, 10, 20, 30, 40]\n",
    "\n",
    "    # Create a list with the heights of each bar.\n",
    "    heights = [100, 200, 300, 400, 500]\n",
    "    \n",
    "    # Build the bar chart.\n",
    "    plt.bar(left_edges, heights, width=3)\n",
    "\n",
    "    # Display the bar chart.\n",
    "    plt.show()\n",
    "\n",
    "# Call the main function.\n",
    "main()\n"
   ]
  },
  {
   "cell_type": "code",
   "execution_count": 44,
   "metadata": {},
   "outputs": [
    {
     "data": {
      "image/png": "[encoded data removed]",
      "text/plain": [
       "<Figure size 432x288 with 1 Axes>"
      ]
     },
     "metadata": {
      "needs_background": "light"
     },
     "output_type": "display_data"
    }
   ],
   "source": [
    "# This program displays a sales chart.\n",
    "import matplotlib.pyplot as plt\n",
    "\n",
    "def main():\n",
    "    # Create a list with the X coordinates of each bar's left edge.\n",
    "    left_edges = [0, 10, 20, 30, 40]\n",
    "\n",
    "    # Create a list with the heights of each bar.\n",
    "    heights = [100, 200, 300, 400, 500]\n",
    "\n",
    "    # Create a variable for the bar width.\n",
    "    bar_width = 10\n",
    "    \n",
    "    # Build the bar chart.\n",
    "    plt.bar(left_edges, heights, bar_width, color=('r', 'g', 'b', 'w', 'k'))\n",
    "\n",
    "    # Add a title.\n",
    "    plt.title('Sales by Year')\n",
    "\n",
    "    # Add labels to the axes.\n",
    "    plt.xlabel('Year')\n",
    "    plt.ylabel('Sales')\n",
    "\n",
    "    # Customize the tick marks.\n",
    "    plt.xticks([5, 15, 25, 35, 45],\n",
    "               ['2016', '2017', '2018', '2019', '2020'])\n",
    "    plt.yticks([0, 100, 200, 300, 400, 500],\n",
    "               ['$0m', '$1m', '$2m', '$3m', '$4m', '$5m'])\n",
    "\n",
    "    # Display the bar chart.\n",
    "    plt.show()\n",
    "\n",
    "# Call the main function.\n",
    "main()\n"
   ]
  },
  {
   "cell_type": "code",
   "execution_count": 48,
   "metadata": {},
   "outputs": [
    {
     "data": {
      "image/png": "[encoded data removed]",
      "text/plain": [
       "<Figure size 432x288 with 1 Axes>"
      ]
     },
     "metadata": {},
     "output_type": "display_data"
    }
   ],
   "source": [
    "# This program displays a simple pie chart.\n",
    "import matplotlib.pyplot as plt\n",
    "\n",
    "def main():\n",
    "    # Create a list of values\n",
    "    values = [20, 60, 80, 40]\n",
    "\n",
    "    # Create a pie chart from the values.\n",
    "    plt.pie(values)\n",
    "    \n",
    "    # Display the pie chart.\n",
    "    plt.show()\n",
    "\n",
    "# Call the main function.\n",
    "main()\n"
   ]
  },
  {
   "cell_type": "code",
   "execution_count": 51,
   "metadata": {},
   "outputs": [
    {
     "data": {
      "image/png": "[encoded data removed]",
      "text/plain": [
       "<Figure size 432x288 with 1 Axes>"
      ]
     },
     "metadata": {},
     "output_type": "display_data"
    }
   ],
   "source": [
    "# This program displays a simple pie chart.\n",
    "import matplotlib.pyplot as plt\n",
    "\n",
    "def main():\n",
    "    sales = [100, 400, 300, 600]\n",
    "    labellist = ['1st Qtr', '2nd Qtr', '3rd Qtr', '4th Qtr']\n",
    "\n",
    "    plt.pie(sales, labels=labellist)\n",
    "    plt.title('Sales by Quarter')\n",
    "    plt.show()\n",
    "\n",
    "# Call the main function.\n",
    "main()\n"
   ]
  },
  {
   "cell_type": "code",
   "execution_count": null,
   "metadata": {},
   "outputs": [],
   "source": []
  },
  {
   "cell_type": "markdown",
   "metadata": {
    "heading_collapsed": true
   },
   "source": [
    "# dictionary and set"
   ]
  },
  {
   "cell_type": "code",
   "execution_count": null,
   "metadata": {
    "hidden": true
   },
   "outputs": [],
   "source": []
  },
  {
   "cell_type": "code",
   "execution_count": null,
   "metadata": {
    "hidden": true
   },
   "outputs": [],
   "source": []
  },
  {
   "cell_type": "code",
   "execution_count": null,
   "metadata": {
    "hidden": true
   },
   "outputs": [],
   "source": []
  },
  {
   "cell_type": "code",
   "execution_count": null,
   "metadata": {
    "hidden": true
   },
   "outputs": [],
   "source": []
  },
  {
   "cell_type": "code",
   "execution_count": null,
   "metadata": {
    "hidden": true
   },
   "outputs": [],
   "source": []
  },
  {
   "cell_type": "code",
   "execution_count": null,
   "metadata": {
    "hidden": true
   },
   "outputs": [],
   "source": []
  },
  {
   "cell_type": "code",
   "execution_count": null,
   "metadata": {
    "hidden": true
   },
   "outputs": [],
   "source": []
  },
  {
   "cell_type": "code",
   "execution_count": null,
   "metadata": {
    "hidden": true
   },
   "outputs": [],
   "source": []
  },
  {
   "cell_type": "code",
   "execution_count": null,
   "metadata": {
    "hidden": true
   },
   "outputs": [],
   "source": []
  },
  {
   "cell_type": "code",
   "execution_count": null,
   "metadata": {
    "hidden": true
   },
   "outputs": [],
   "source": []
  },
  {
   "cell_type": "code",
   "execution_count": null,
   "metadata": {
    "hidden": true
   },
   "outputs": [],
   "source": []
  },
  {
   "cell_type": "code",
   "execution_count": null,
   "metadata": {
    "hidden": true
   },
   "outputs": [],
   "source": []
  },
  {
   "cell_type": "code",
   "execution_count": null,
   "metadata": {
    "hidden": true
   },
   "outputs": [],
   "source": []
  },
  {
   "cell_type": "code",
   "execution_count": null,
   "metadata": {
    "hidden": true
   },
   "outputs": [],
   "source": []
  },
  {
   "cell_type": "code",
   "execution_count": null,
   "metadata": {
    "hidden": true
   },
   "outputs": [],
   "source": []
  },
  {
   "cell_type": "code",
   "execution_count": null,
   "metadata": {
    "hidden": true
   },
   "outputs": [],
   "source": []
  },
  {
   "cell_type": "code",
   "execution_count": null,
   "metadata": {
    "hidden": true
   },
   "outputs": [],
   "source": []
  },
  {
   "cell_type": "code",
   "execution_count": null,
   "metadata": {
    "hidden": true
   },
   "outputs": [],
   "source": []
  },
  {
   "cell_type": "code",
   "execution_count": null,
   "metadata": {
    "hidden": true
   },
   "outputs": [],
   "source": []
  },
  {
   "cell_type": "markdown",
   "metadata": {
    "heading_collapsed": true
   },
   "source": [
    "# multi dimension list"
   ]
  },
  {
   "cell_type": "code",
   "execution_count": null,
   "metadata": {
    "hidden": true
   },
   "outputs": [],
   "source": []
  },
  {
   "cell_type": "markdown",
   "metadata": {},
   "source": [
    "# ch inheritance and polymorphism"
   ]
  },
  {
   "cell_type": "code",
   "execution_count": null,
   "metadata": {},
   "outputs": [],
   "source": []
  },
  {
   "cell_type": "markdown",
   "metadata": {},
   "source": [
    "## inheritance"
   ]
  },
  {
   "cell_type": "code",
   "execution_count": 72,
   "metadata": {},
   "outputs": [],
   "source": [
    "class Person:\n",
    "    def __init__(self, first, last):\n",
    "        self.firstname = first\n",
    "        self.lastname = last\n",
    "\n",
    "    def Name(self):\n",
    "        return self.lastname + \" \" + self.firstname\n",
    "\n",
    "class Employee(Person):\n",
    "    def __init__(self, first, last, staffnum):\n",
    "        super().__init__( first, last)\n",
    "        self.staffnum = staffnum\n",
    "\n",
    "    def Employee(self):\n",
    "        return self.Name() + \", \" +  self.staffnum\n"
   ]
  },
  {
   "cell_type": "code",
   "execution_count": 77,
   "metadata": {},
   "outputs": [
    {
     "data": {
      "text/plain": [
       "'김 명랑'"
      ]
     },
     "execution_count": 77,
     "metadata": {},
     "output_type": "execute_result"
    }
   ],
   "source": [
    "사원 = Person(\"명랑\", \"김\")\n",
    "사원이름=사원.Name()\n",
    "사원이름"
   ]
  },
  {
   "cell_type": "code",
   "execution_count": 74,
   "metadata": {},
   "outputs": [
    {
     "data": {
      "text/plain": [
       "'이 고려, 1007'"
      ]
     },
     "execution_count": 74,
     "metadata": {},
     "output_type": "execute_result"
    }
   ],
   "source": [
    "사원1= Employee(\"고려\", \"이\", \"1007\")\n",
    "사원1이름번호=사원1.Employee()\n",
    "사원1이름번호"
   ]
  },
  {
   "cell_type": "code",
   "execution_count": 76,
   "metadata": {},
   "outputs": [
    {
     "data": {
      "text/plain": [
       "'박 연세, 1010'"
      ]
     },
     "execution_count": 76,
     "metadata": {},
     "output_type": "execute_result"
    }
   ],
   "source": [
    "사원2= Employee(\"연세\", \"박\", \"1010\")\n",
    "사원2이름번호=사원2.Employee()\n",
    "사원2이름번호"
   ]
  },
  {
   "cell_type": "code",
   "execution_count": null,
   "metadata": {},
   "outputs": [],
   "source": []
  },
  {
   "cell_type": "code",
   "execution_count": null,
   "metadata": {},
   "outputs": [],
   "source": []
  },
  {
   "cell_type": "code",
   "execution_count": 123,
   "metadata": {},
   "outputs": [],
   "source": [
    "class Cal:\n",
    "    def __init__(self, first, second):\n",
    "        self.first = first\n",
    "        self.second = second\n",
    " \n",
    "    def sum(self):\n",
    "        sum = self.first + self.second\n",
    "        return sum\n",
    "        \n",
    "class Cal_1(Cal):\n",
    "    def __init__(self, first, second):\n",
    "        super().__init__( first,second)\n",
    "\n",
    "    def mul(self):\n",
    "        mul=self.first * self.second\n",
    "        return mul      \n",
    "        \n",
    "    def sub(self):\n",
    "        sub=self.first - self.second\n",
    "        return sub  "
   ]
  },
  {
   "cell_type": "code",
   "execution_count": 126,
   "metadata": {},
   "outputs": [],
   "source": [
    "a=Cal_1(100,3)"
   ]
  },
  {
   "cell_type": "code",
   "execution_count": 127,
   "metadata": {},
   "outputs": [
    {
     "data": {
      "text/plain": [
       "300"
      ]
     },
     "execution_count": 127,
     "metadata": {},
     "output_type": "execute_result"
    }
   ],
   "source": [
    "a.mul()"
   ]
  },
  {
   "cell_type": "code",
   "execution_count": 128,
   "metadata": {},
   "outputs": [
    {
     "data": {
      "text/plain": [
       "97"
      ]
     },
     "execution_count": 128,
     "metadata": {},
     "output_type": "execute_result"
    }
   ],
   "source": [
    "a.sub()"
   ]
  },
  {
   "cell_type": "code",
   "execution_count": 129,
   "metadata": {},
   "outputs": [
    {
     "data": {
      "text/plain": [
       "103"
      ]
     },
     "execution_count": 129,
     "metadata": {},
     "output_type": "execute_result"
    }
   ],
   "source": [
    "a.sum()  #Cal로부터 sum function을 상속받았기 때문에 실행가능"
   ]
  },
  {
   "cell_type": "code",
   "execution_count": null,
   "metadata": {},
   "outputs": [],
   "source": []
  },
  {
   "cell_type": "code",
   "execution_count": null,
   "metadata": {},
   "outputs": [],
   "source": []
  },
  {
   "cell_type": "code",
   "execution_count": null,
   "metadata": {},
   "outputs": [],
   "source": []
  },
  {
   "cell_type": "code",
   "execution_count": 61,
   "metadata": {},
   "outputs": [],
   "source": [
    "class Loan:\n",
    "    \n",
    "    def __init__(self, rate,maturity, principal):\n",
    "        self.rate = rate\n",
    "        self.maturity = maturity\n",
    "        self.principal = principal\n",
    "    \n",
    "    def monthlypay(self):\n",
    "        monthlypay = (self.principal * (self.rate/12))/ \\\n",
    "        (1 - (1 / (1 + (self.rate/12)) ** (self.maturity * 12)))\n",
    "        return monthlypay\n",
    "    \n",
    "class Loan_1(Loan):\n",
    "    def __init__(self,rate,maturity, principal,borrower):\n",
    "        super().__init__(rate,maturity, principal)\n",
    "        self.borrower=borrower\n",
    "\n",
    "    def totalpay(self):\n",
    "        totalpay=self.monthlypay()*self.maturity*12\n",
    "        return totalpay\n",
    "    \n",
    "    def totalinterest(self):\n",
    "        totalinterest=self.totalpay()-self.principal\n",
    "        return totalinterest"
   ]
  },
  {
   "cell_type": "code",
   "execution_count": 62,
   "metadata": {},
   "outputs": [
    {
     "name": "stdout",
     "output_type": "stream",
     "text": [
      "차입자는 이고려 입니다.\n",
      "월상환액은 18,416.52 입니다.\n",
      "총상환액은 1,104,991.32 입니다.\n",
      "총이자금액은 104,991.32 입니다.\n"
     ]
    }
   ],
   "source": [
    "\n",
    "x=Loan_1(0.04, 5,1000000,\"이고려\")\n",
    "print(\"차입자는\", x.borrower,\"입니다.\")\n",
    "print(\"월상환액은\", format(x.monthlypay(),',.2f'), \"입니다.\")\n",
    "print(\"총상환액은\", format(x.totalpay(), ',.2f'), \"입니다.\")\n",
    "print(\"총이자금액은\",format(x.totalinterest(),',.2f'), \"입니다.\")"
   ]
  },
  {
   "cell_type": "code",
   "execution_count": 20,
   "metadata": {},
   "outputs": [],
   "source": [
    "class Cal:\n",
    "    def __init__(self, first, second):\n",
    "        self.first = first\n",
    "        self.second = second\n",
    " \n",
    "    def sum(self):\n",
    "        sum = self.first + self.second\n",
    "        return sum\n",
    "        \n",
    "class Cal_1(Cal):\n",
    "    def __init__(self, first, second):\n",
    "        super().__init__( first,second)\n",
    "\n",
    "    def addsub(self):\n",
    "        sum=super().sum()\n",
    "        sub=self.first - self.second\n",
    "        return sum,sub                         "
   ]
  },
  {
   "cell_type": "code",
   "execution_count": 19,
   "metadata": {},
   "outputs": [
    {
     "data": {
      "text/plain": [
       "(10, 6)"
      ]
     },
     "execution_count": 19,
     "metadata": {},
     "output_type": "execute_result"
    }
   ],
   "source": [
    "T1=Cal_1(8,2)\n",
    "addsub=T1.addsub()\n",
    "addsub"
   ]
  },
  {
   "cell_type": "code",
   "execution_count": null,
   "metadata": {},
   "outputs": [],
   "source": []
  },
  {
   "cell_type": "code",
   "execution_count": null,
   "metadata": {},
   "outputs": [],
   "source": []
  },
  {
   "cell_type": "code",
   "execution_count": null,
   "metadata": {},
   "outputs": [],
   "source": []
  },
  {
   "cell_type": "markdown",
   "metadata": {},
   "source": [
    "## overriding"
   ]
  },
  {
   "cell_type": "code",
   "execution_count": 81,
   "metadata": {},
   "outputs": [],
   "source": [
    "#overriding\n",
    "\n",
    "class Person:\n",
    "    def __init__(self, first, last, age):\n",
    "        self.firstname = first\n",
    "        self.lastname = last\n",
    "        self.age = age\n",
    "\n",
    "    def __str__(self):\n",
    "        return self.lastname + \" \" + self.firstname + \", \" + str(self.age)\n",
    "\n",
    "class Employee(Person):\n",
    "\n",
    "    def __init__(self, first, last, age, staffnum):\n",
    "        super().__init__(first, last, age)\n",
    "        self.staffnum = staffnum\n",
    "\n",
    "    def __str__(self):\n",
    "        return super().__str__() + \", \" +  self.staffnum #subclass 문자열함수가 superclass의 문자열 함수를 overriding\n"
   ]
  },
  {
   "cell_type": "code",
   "execution_count": 87,
   "metadata": {},
   "outputs": [
    {
     "name": "stdout",
     "output_type": "stream",
     "text": [
      "박 보람, 45, 1010\n"
     ]
    }
   ],
   "source": [
    "사원3= Employee(\"보람\", \"박\",\"45\" , \"1010\")\n",
    "print(사원3)"
   ]
  },
  {
   "cell_type": "code",
   "execution_count": 1,
   "metadata": {},
   "outputs": [],
   "source": [
    "class Person:\n",
    "    def greeting(self):\n",
    "        print('안녕하세요.')\n",
    " \n",
    "class Student(Person):\n",
    "    def greeting(self):\n",
    "        print('안녕하세요. 저는 고려대 재학생입니다.')"
   ]
  },
  {
   "cell_type": "code",
   "execution_count": 2,
   "metadata": {},
   "outputs": [
    {
     "name": "stdout",
     "output_type": "stream",
     "text": [
      "안녕하세요.\n"
     ]
    }
   ],
   "source": [
    "이고려 = Person()\n",
    "이고려.greeting()"
   ]
  },
  {
   "cell_type": "code",
   "execution_count": 3,
   "metadata": {},
   "outputs": [
    {
     "name": "stdout",
     "output_type": "stream",
     "text": [
      "안녕하세요. 저는 고려대 재학생입니다.\n"
     ]
    }
   ],
   "source": [
    "이고려 = Student()\n",
    "이고려.greeting()"
   ]
  },
  {
   "cell_type": "code",
   "execution_count": null,
   "metadata": {},
   "outputs": [],
   "source": []
  },
  {
   "cell_type": "code",
   "execution_count": 6,
   "metadata": {},
   "outputs": [],
   "source": [
    "class Person:\n",
    "    def greeting(self):\n",
    "        print('안녕하세요.')\n",
    " \n",
    "class Student(Person):\n",
    "    def greeting(self):\n",
    "        super().greeting()                            # supercalss 메서드 호출\n",
    "        print('저는 고려대 재학생입니다.')    # 중복 문구 '안녕하세요'' 삭제\n",
    " "
   ]
  },
  {
   "cell_type": "code",
   "execution_count": 7,
   "metadata": {},
   "outputs": [
    {
     "name": "stdout",
     "output_type": "stream",
     "text": [
      "안녕하세요.\n",
      "저는 고려대 재학생입니다.\n"
     ]
    }
   ],
   "source": [
    "이고려 = Student()\n",
    "이고려.greeting()"
   ]
  },
  {
   "cell_type": "code",
   "execution_count": 15,
   "metadata": {},
   "outputs": [],
   "source": [
    "class Creditcard:\n",
    "    \n",
    "    def __init__(self,months, amount):\n",
    "        self.months = months\n",
    "        self.amount = amount\n",
    "    \n",
    "    def monthlypay(self):\n",
    "        monthlypay = self.amount/self.months\n",
    "        return monthlypay\n",
    "    \n",
    "class Creditcard_1(Creditcard):\n",
    "    def __init__(self,months, amount,rate,remainingmonths):\n",
    "        super().__init__(months, amount)\n",
    "        self.rate = rate\n",
    "        self.remainingmonths=remainingmonths\n",
    "        \n",
    "    def monthlypay(self):\n",
    "        principal=super().monthlypay()\n",
    "        interest=principal*(self.remainingmonths)*(self.rate/12)\n",
    "        totalpay=principal+interest\n",
    "        return totalpay"
   ]
  },
  {
   "cell_type": "code",
   "execution_count": 18,
   "metadata": {},
   "outputs": [
    {
     "data": {
      "text/plain": [
       "100000"
      ]
     },
     "execution_count": 18,
     "metadata": {},
     "output_type": "execute_result"
    }
   ],
   "source": [
    "C1=Creditcard(10,1000000)\n",
    "월상환원금=C1.monthlypay()\n",
    "int(월상환원금)"
   ]
  },
  {
   "cell_type": "code",
   "execution_count": 17,
   "metadata": {},
   "outputs": [
    {
     "data": {
      "text/plain": [
       "113333"
      ]
     },
     "execution_count": 17,
     "metadata": {},
     "output_type": "execute_result"
    }
   ],
   "source": [
    "C2=Creditcard_1(10,1000000,0.2,8)\n",
    "월상환금=C2.monthlypay()\n",
    "int(월상환금)"
   ]
  },
  {
   "cell_type": "code",
   "execution_count": 64,
   "metadata": {},
   "outputs": [
    {
     "name": "stdout",
     "output_type": "stream",
     "text": [
      "할부개월수 입력: 10\n",
      "카드사용액입력: 1000000\n",
      "할부수수료율을 입력: 0.15\n",
      "잔존회차 입력: 2\n",
      "\n",
      "카드사용액은 1000000 원입니다.\n",
      "할부월수는 10 개월입니다.\n",
      "남은 개월수는 2 개월입니다.\n",
      "다음 결제일 상환원금은 100,000.00 원입니다.\n",
      "다음 결제일 총상환금은 102,500.00 원입니다.\n"
     ]
    }
   ],
   "source": [
    "class Creditcard:\n",
    "    \n",
    "    def __init__(self,months, amount):\n",
    "        self.months = months\n",
    "        self.amount = amount\n",
    "    \n",
    "    def monthlypay(self):\n",
    "        monthlypay = self.amount/self.months\n",
    "        return monthlypay\n",
    "    \n",
    "class Creditcard_1(Creditcard):\n",
    "    def __init__(self,months, amount,rate,remainingmonths):\n",
    "        super().__init__(months, amount)\n",
    "        self.rate = rate\n",
    "        self.remainingmonths=remainingmonths\n",
    "        \n",
    "    def monthlypay(self):\n",
    "        principal=super().monthlypay()\n",
    "        interest=principal*(self.remainingmonths)*(self.rate/12)\n",
    "        totalpay=principal+interest\n",
    "        return totalpay\n",
    "\n",
    "def main():\n",
    "    \n",
    "    months = eval(input (\"할부개월수 입력: \"))\n",
    "    amount = eval(input(\"카드사용액입력: \"))\n",
    "    rate = eval(input( \"할부수수료율을 입력: \"))\n",
    "    remainingmonths = eval(input( \"잔존회차 입력: \"))\n",
    "    x = Creditcard(months, amount)\n",
    "    y = Creditcard_1(months, amount,rate,remainingmonths)\n",
    "\n",
    "    # 출력\n",
    "    print()\n",
    "    print(\"카드사용액은\", x.amount,\"원입니다.\")\n",
    "    print(\"할부월수는\", x.months,\"개월입니다.\")\n",
    "    print(\"남은 개월수는\", y.remainingmonths,\"개월입니다.\")\n",
    "    print(\"다음 결제일 상환원금은\", format(x.monthlypay(), ',.2f'), \"원입니다.\")\n",
    "    print(\"다음 결제일 총상환금은\", format(y.monthlypay(), ',.2f'), \"원입니다.\")\n",
    "\n",
    "main() # Call the main function"
   ]
  },
  {
   "cell_type": "code",
   "execution_count": null,
   "metadata": {},
   "outputs": [],
   "source": []
  },
  {
   "cell_type": "code",
   "execution_count": null,
   "metadata": {},
   "outputs": [],
   "source": []
  },
  {
   "cell_type": "code",
   "execution_count": null,
   "metadata": {},
   "outputs": [],
   "source": []
  },
  {
   "cell_type": "code",
   "execution_count": null,
   "metadata": {},
   "outputs": [],
   "source": []
  },
  {
   "cell_type": "markdown",
   "metadata": {},
   "source": [
    "## polymorphism"
   ]
  },
  {
   "cell_type": "code",
   "execution_count": 227,
   "metadata": {},
   "outputs": [],
   "source": [
    "class Animal:\n",
    "    def __init__(self, name):\n",
    "        self.name = name\n",
    "    def move(self):\n",
    "        print(\"move\")\n",
    "    def speak(self):  # abstract function\n",
    "        pass\n",
    " \n",
    "class Dog (Animal):\n",
    "    def speak(self):  # speak함수가 멍멍을 인쇄\n",
    "        print(\"멍멍\")\n",
    " \n",
    "class Cat (Animal): # speak함수가 야옹을 인쇄\n",
    "    def speak(self):\n",
    "        print(\"야옹\")"
   ]
  },
  {
   "cell_type": "code",
   "execution_count": 228,
   "metadata": {},
   "outputs": [
    {
     "name": "stdout",
     "output_type": "stream",
     "text": [
      "멍멍\n"
     ]
    }
   ],
   "source": [
    "dog1=Dog('초롱이')\n",
    "dog1.speak()"
   ]
  },
  {
   "cell_type": "code",
   "execution_count": 229,
   "metadata": {},
   "outputs": [
    {
     "name": "stdout",
     "output_type": "stream",
     "text": [
      "야옹\n"
     ]
    }
   ],
   "source": [
    "cat1=Cat('페르샨')\n",
    "cat1.speak()"
   ]
  },
  {
   "cell_type": "code",
   "execution_count": 107,
   "metadata": {},
   "outputs": [
    {
     "name": "stdout",
     "output_type": "stream",
     "text": [
      "멍멍\n"
     ]
    }
   ],
   "source": [
    "dog1.speak()"
   ]
  },
  {
   "cell_type": "code",
   "execution_count": 100,
   "metadata": {},
   "outputs": [
    {
     "name": "stdout",
     "output_type": "stream",
     "text": [
      "멍멍\n",
      "야옹\n"
     ]
    }
   ],
   "source": [
    "animals = [Dog('초롱이'), Cat('페르샨')]\n",
    "for a in animals:\n",
    "    a.speak()"
   ]
  },
  {
   "cell_type": "code",
   "execution_count": 223,
   "metadata": {},
   "outputs": [],
   "source": [
    "class Loan:\n",
    "    \n",
    "    def __init__(self, rate,maturity, principal):\n",
    "        self.rate = rate\n",
    "        self.maturity = maturity\n",
    "        self.principal = principal\n",
    "    \n",
    "    def monthlypay(self):\n",
    "        pass\n",
    "    \n",
    "class Loan_1(Loan):\n",
    "    def __init__(self,rate,maturity, principa):\n",
    "        super().__init__(rate,maturity, principal)\n",
    "        \n",
    "    def monthlypay(self):   #원리금균등분할상환 월상환액\n",
    "        monthlypay = (self.principal * (self.rate/12)) / (1 - (1 / (1 + (self.rate/12)) ** (self.maturity * 12)))\n",
    "        return monthlypay\n",
    "\n",
    "class Loan_2(Loan):\n",
    "    def __init__(self,rate,maturity, principa):\n",
    "        super().__init__(rate,maturity, principal)\n",
    "        \n",
    "    def monthlypay(self):   #원금균등분할상환 월원금상환액\n",
    "        monthlypay = self.principal/(12*self.maturity)\n",
    "        return monthlypay   "
   ]
  },
  {
   "cell_type": "code",
   "execution_count": 224,
   "metadata": {},
   "outputs": [
    {
     "data": {
      "text/plain": [
       "2997089"
      ]
     },
     "execution_count": 224,
     "metadata": {},
     "output_type": "execute_result"
    }
   ],
   "source": [
    "L1 = Loan_1(0.05,3,1000000)\n",
    "월상환금=L1.monthlypay()\n",
    "int(월상환금)"
   ]
  },
  {
   "cell_type": "code",
   "execution_count": 226,
   "metadata": {},
   "outputs": [
    {
     "data": {
      "text/plain": [
       "2777777"
      ]
     },
     "execution_count": 226,
     "metadata": {},
     "output_type": "execute_result"
    }
   ],
   "source": [
    "L1 = Loan_2(0.05,3,1000000)\n",
    "월상환원금=L1.monthlypay()\n",
    "int(월상환원금)"
   ]
  },
  {
   "cell_type": "code",
   "execution_count": null,
   "metadata": {},
   "outputs": [],
   "source": []
  },
  {
   "cell_type": "code",
   "execution_count": null,
   "metadata": {},
   "outputs": [],
   "source": []
  },
  {
   "cell_type": "markdown",
   "metadata": {
    "heading_collapsed": true
   },
   "source": [
    "# files and exceptions"
   ]
  },
  {
   "cell_type": "code",
   "execution_count": 75,
   "metadata": {
    "hidden": true
   },
   "outputs": [
    {
     "name": "stdout",
     "output_type": "stream",
     "text": [
      "John Locke\n",
      "David Hume\n",
      "Edmund Burke\n",
      "\n"
     ]
    }
   ],
   "source": [
    "# This program reads and displays the contents of the philosophers.txt file.\n",
    "\n",
    "def main():\n",
    "    # Open a file named philosophers.txt.\n",
    "    file = open('philosophers.txt', 'r')\n",
    "\n",
    "    # Read the file's contents.\n",
    "    file_contents = file.read()\n",
    "\n",
    "    # Close the file.\n",
    "    file.close()\n",
    "\n",
    "    # Print the data that was read into\n",
    "    # memory.\n",
    "    print(file_contents)\n",
    "\n",
    "# Call the main function.\n",
    "main()\n"
   ]
  },
  {
   "cell_type": "code",
   "execution_count": 77,
   "metadata": {
    "hidden": true
   },
   "outputs": [
    {
     "name": "stdout",
     "output_type": "stream",
     "text": [
      "John Locke\n",
      "\n",
      "David Hume\n",
      "\n"
     ]
    }
   ],
   "source": [
    "# This program reads the contents of the philosophers.txt file one line at a time.\n",
    "\n",
    "def main():\n",
    "    # Open a file named philosophers.txt.\n",
    "    file = open('philosophers.txt', 'r')\n",
    "\n",
    "    # Read three lines from the file\n",
    "    line1 = file.readline()\n",
    "    line2 = file.readline()\n",
    "\n",
    "    # Close the file.\n",
    "    file.close()\n",
    "\n",
    "    # Print the data that was read into  memory.\n",
    "    print(line1)\n",
    "    print(line2)\n",
    "\n",
    "\n",
    "# Call the main function.\n",
    "main()\n"
   ]
  },
  {
   "cell_type": "code",
   "execution_count": null,
   "metadata": {
    "hidden": true
   },
   "outputs": [],
   "source": [
    "# This program reads the contents of the philosophers.txt file one line at a time.\n",
    "\n",
    "def main():\n",
    "    # Open a file named philosophers.txt.\n",
    "    infile = open('philosophers.txt', 'r')\n",
    "\n",
    "    # Read three lines from the file\n",
    "    line1 = infile.readline()\n",
    "    line2 = infile.readline()\n",
    "    line3 = infile.readline()\n",
    "\n",
    "    # Close the file.\n",
    "    infile.close()\n",
    "\n",
    "    # Print the data that was read into\n",
    "    # memory.\n",
    "    print(line1)\n",
    "    print(line2)\n",
    "    print(line3)\n",
    "\n",
    "# Call the main function.\n",
    "main()\n"
   ]
  },
  {
   "cell_type": "code",
   "execution_count": 78,
   "metadata": {
    "hidden": true
   },
   "outputs": [
    {
     "name": "stdout",
     "output_type": "stream",
     "text": [
      "Enter the names of three friends.\n",
      "Friend #1: fff\n",
      "Friend #2: eee\n",
      "Friend #3: uuu\n",
      "The names were written to friends.txt.\n"
     ]
    }
   ],
   "source": [
    "# This program gets three names from the user  and writes them to a file.\n",
    "\n",
    "def main():\n",
    "\n",
    "    print('Enter the names of three friends.')\n",
    "    name1 = input('Friend 1: ')\n",
    "    name2 = input('Friend 2: ')\n",
    "    name3 = input('Friend 3: ')\n",
    "\n",
    "    # Open a file named friends.txt.\n",
    "    myfile = open('friends.txt', 'w')\n",
    "\n",
    "    # Write the names to the file.\n",
    "    myfile.write(name1 + '\\n')\n",
    "    myfile.write(name2 + '\\n')\n",
    "    myfile.write(name3 + '\\n')\n",
    "\n",
    " # Close the file.\n",
    "    myfile.close()\n",
    "    \n",
    "    print('The names were written to friends.txt.')\n",
    "\n",
    "main()"
   ]
  },
  {
   "cell_type": "code",
   "execution_count": 80,
   "metadata": {
    "hidden": true
   },
   "outputs": [
    {
     "name": "stdout",
     "output_type": "stream",
     "text": [
      "John Locke\n",
      "David Hume\n",
      "Edmund Burke\n"
     ]
    }
   ],
   "source": [
    "# This program reads the contents of the philosophers.txt file one line at a time.\n",
    "\n",
    "def main():\n",
    "    # Open a file named philosophers.txt.\n",
    "    infile = open('philosophers.txt', 'r')\n",
    "\n",
    "    # Read three lines from the file\n",
    "    line1 = infile.readline()\n",
    "    line2 = infile.readline()\n",
    "    line3 = infile.readline()\n",
    "\n",
    "    # Strip the \\n from each string. To avoid blank bewteen each line\n",
    "    line1 = line1.rstrip('\\n')\n",
    "    line2 = line2.rstrip('\\n')\n",
    "    line3 = line3.rstrip('\\n')\n",
    "\n",
    "    # Close the file.\n",
    "    infile.close()\n",
    "\n",
    "    # Print the data that was read into\n",
    "    # memory.\n",
    "    print(line1)\n",
    "    print(line2)\n",
    "    print(line3)\n",
    "\n",
    "# Call the main function.\n",
    "main()\n"
   ]
  },
  {
   "cell_type": "code",
   "execution_count": 81,
   "metadata": {
    "hidden": true
   },
   "outputs": [
    {
     "name": "stdout",
     "output_type": "stream",
     "text": [
      "Enter a number: 4\n",
      "Enter another number: 6\n",
      "Enter another number: 7\n",
      "Data written to numbers.txt\n"
     ]
    }
   ],
   "source": [
    "# This program demonstrates how numbers must be converted to strings before they are written to a text file.\n",
    "\n",
    "def main():\n",
    "    # Open a file for writing.\n",
    "    outfile = open('numbers.txt', 'w')\n",
    "\n",
    "    # Get three numbers from the user.\n",
    "    num1 = int(input('Enter a number: '))\n",
    "    num2 = int(input('Enter another number: '))\n",
    "    num3 = int(input('Enter another number: '))\n",
    "\n",
    "    # Write the numbers to the file.\n",
    "    outfile.write(str(num1) + '\\n')\n",
    "    outfile.write(str(num2) + '\\n')\n",
    "    outfile.write(str(num3) + '\\n')\n",
    "\n",
    "    # Close the file.\n",
    "    outfile.close()\n",
    "    print('Data written to numbers.txt')\n",
    "\n",
    "# Call the main function.\n",
    "main()\n"
   ]
  },
  {
   "cell_type": "code",
   "execution_count": 82,
   "metadata": {
    "hidden": true
   },
   "outputs": [
    {
     "name": "stdout",
     "output_type": "stream",
     "text": [
      "The numbers are: 4 6 7\n",
      "Their total is: 17\n"
     ]
    }
   ],
   "source": [
    "# This program demonstrates how numbers that are read from a file must be converted from strings\n",
    "# before they are used in a math operation.\n",
    "\n",
    "def main():\n",
    "    # Open a file for reading.\n",
    "    infile = open('numbers.txt', 'r')\n",
    "\n",
    "    # Read three numbers from the file.\n",
    "    num1 = int(infile.readline())\n",
    "    num2 = int(infile.readline())\n",
    "    num3 = int(infile.readline())\n",
    "\n",
    "    # Close the file.\n",
    "    infile.close()\n",
    "\n",
    "    # Add the three numbers.\n",
    "    total = num1 + num2 + num3\n",
    "\n",
    "    # Display the numbers and their total.\n",
    "    print('The numbers are:', num1, num2, num3)\n",
    "    print('Their total is:', total)\n",
    "\n",
    "# Call the main function.\n",
    "main()\n"
   ]
  },
  {
   "cell_type": "code",
   "execution_count": null,
   "metadata": {
    "hidden": true
   },
   "outputs": [],
   "source": []
  },
  {
   "cell_type": "code",
   "execution_count": 83,
   "metadata": {
    "hidden": true
   },
   "outputs": [
    {
     "name": "stdout",
     "output_type": "stream",
     "text": [
      "For how many days do you have sales? 3\n",
      "Enter the sales for day #1: 40\n",
      "Enter the sales for day #2: 55\n",
      "Enter the sales for day #3: 44\n",
      "Data written to sales.txt.\n"
     ]
    }
   ],
   "source": [
    "# This program prompts the user for sales amounts and writes those amounts to the sales.txt file.\n",
    "\n",
    "def main():\n",
    "    # Get the number of days.\n",
    "    num_days = int(input('For how many days do ' + 'you have sales? '))\n",
    "\n",
    "    # Open a new file named sales.txt.\n",
    "    sales_file = open('sales.txt', 'w')\n",
    "\n",
    "    # Get the amount of sales for each day and write\n",
    "    # it to the file.\n",
    "    for count in range(1, num_days + 1):\n",
    "        # Get the sales for a day.\n",
    "        sales = float(input('Enter the sales for day #' + \\\n",
    "                            str(count) + ': '))\n",
    "\n",
    "        # Write the sales amount to the file.\n",
    "        sales_file.write(str(sales) + '\\n')\n",
    "\n",
    "    # Close the file.\n",
    "    sales_file.close()\n",
    "    print('Data written to sales.txt.')\n",
    "\n",
    "# Call the main function.\n",
    "main()\n"
   ]
  },
  {
   "cell_type": "code",
   "execution_count": 84,
   "metadata": {
    "hidden": true
   },
   "outputs": [
    {
     "name": "stdout",
     "output_type": "stream",
     "text": [
      "40.00\n",
      "55.00\n",
      "44.00\n"
     ]
    }
   ],
   "source": [
    "# This program uses the for loop to read all of the values in the sales.txt file.\n",
    "\n",
    "def main():\n",
    "    # Open the sales.txt file for reading.\n",
    "    sales_file = open('sales.txt', 'r')\n",
    "\n",
    "    # Read all the lines from the file.\n",
    "    for line in sales_file:\n",
    "        # Convert line to a float.\n",
    "        amount = float(line)\n",
    "        # Format and display the amount.\n",
    "        print(format(amount, '.2f'))\n",
    "        \n",
    "    # Close the file.\n",
    "    sales_file.close()\n",
    "\n",
    "# Call the main function.\n",
    "main()\n"
   ]
  },
  {
   "cell_type": "code",
   "execution_count": 85,
   "metadata": {
    "hidden": true
   },
   "outputs": [
    {
     "name": "stdout",
     "output_type": "stream",
     "text": [
      "How many videos are in the project? 2\n",
      "Enter the running times for each video.\n",
      "Video #1: 45\n",
      "Video #2: 24\n",
      "The times have been saved to video_times.txt.\n"
     ]
    }
   ],
   "source": [
    "# This program saves a sequence of video running times to the video_times.txt file.\n",
    "\n",
    "def main():\n",
    "    # Get the number of videos in the project.\n",
    "    num_videos = int(input('How many videos are in the project? '))\n",
    "\n",
    "    # Open the file to hold the running times.\n",
    "    video_file = open('video_times.txt', 'w')\n",
    "\n",
    "    # Get each video's running time and write\n",
    "    # it to the file.\n",
    "    print('Enter the running times for each video.')\n",
    "    for count in range(1, num_videos + 1):\n",
    "        run_time = float(input('Video #' + str(count) + ': '))\n",
    "        video_file.write(str(run_time) + '\\n')\n",
    "\n",
    "    # Close the file.\n",
    "    video_file.close()\n",
    "    print('The times have been saved to video_times.txt.')\n",
    "\n",
    "# Call the main function.\n",
    "main()\n"
   ]
  },
  {
   "cell_type": "code",
   "execution_count": 86,
   "metadata": {
    "hidden": true
   },
   "outputs": [
    {
     "name": "stdout",
     "output_type": "stream",
     "text": [
      "Here are the running times for each video:\n",
      "Video #1: 45.0\n",
      "Video #2: 24.0\n",
      "The total running time is 69.0 seconds.\n"
     ]
    }
   ],
   "source": [
    "# This program reads the values in the video_times.txt file and calculates their total.\n",
    "\n",
    "def main():\n",
    "    # Open the video_times.txt file for reading.\n",
    "    video_file = open('video_times.txt', 'r')\n",
    "\n",
    "    # Initialize an accumulator to 0.0.\n",
    "    total = 0.0\n",
    "\n",
    "    # Initialize a variable to keep count of the videos.\n",
    "    count = 0\n",
    "\n",
    "    print('Here are the running times for each video:')\n",
    "    \n",
    "    # Get the values from the file and total them.\n",
    "    for line in video_file:\n",
    "        # Convert a line to a float.\n",
    "        run_time = float(line)\n",
    "\n",
    "        # Add 1 to the count variable.\n",
    "        count += 1\n",
    "        \n",
    "        # Display the time.\n",
    "        print('Video #', count, ': ', run_time, sep='')\n",
    "\n",
    "        # Add the time to total.\n",
    "        total += run_time\n",
    "\n",
    "    # Close the file.\n",
    "    video_file.close()\n",
    "\n",
    "    # Display the total of the running times.\n",
    "    print('The total running time is', total, 'seconds.')\n",
    "\n",
    "# Call the main function.\n",
    "main()\n"
   ]
  },
  {
   "cell_type": "code",
   "execution_count": null,
   "metadata": {
    "hidden": true
   },
   "outputs": [],
   "source": []
  },
  {
   "cell_type": "code",
   "execution_count": null,
   "metadata": {
    "hidden": true
   },
   "outputs": [],
   "source": []
  },
  {
   "cell_type": "code",
   "execution_count": null,
   "metadata": {
    "hidden": true
   },
   "outputs": [],
   "source": []
  },
  {
   "cell_type": "code",
   "execution_count": 72,
   "metadata": {
    "hidden": true
   },
   "outputs": [
    {
     "name": "stdout",
     "output_type": "stream",
     "text": [
      "How many hours did you work? 30\n",
      "Enter your hourly pay rate: 30\n",
      "Gross pay: $ 900.00enjoy your life"
     ]
    }
   ],
   "source": [
    "# This program calculates gross pay.\n",
    "\n",
    "def main():\n",
    "    try:\n",
    "        # Get the number of hours worked.\n",
    "        hours = int(input('How many hours did you work? '))\n",
    "\n",
    "        # Get the hourly pay rate.\n",
    "        pay_rate = float(input('Enter your hourly pay rate: '))\n",
    "\n",
    "        # Calculate the gross pay.\n",
    "        gross_pay = hours * pay_rate\n",
    "\n",
    "        # Display the gross pay.\n",
    "        print('Gross pay: $', format(gross_pay, ',.2f'), end='enjoy your life')\n",
    "        \n",
    "    except ValueError:\n",
    "        print('ERROR: Hours worked and hourly pay rate must')\n",
    "        print('be valid integers.')\n",
    "\n",
    "# Call the main function.\n",
    "main()"
   ]
  },
  {
   "cell_type": "code",
   "execution_count": 87,
   "metadata": {
    "hidden": true
   },
   "outputs": [
    {
     "name": "stdout",
     "output_type": "stream",
     "text": [
      "How many employee records do you want to create? 2\n",
      "Enter data for employee #1\n",
      "Name: ttt\n",
      "ID number: 1\n",
      "Department: ko\n",
      "\n",
      "Enter data for employee #2\n",
      "Name: ddd\n",
      "ID number: 2\n",
      "Department: org\n",
      "\n",
      "Employee records written to employees.txt.\n"
     ]
    }
   ],
   "source": [
    "# This program gets employee data from the user and saves it as records in the employee.txt file.\n",
    "\n",
    "def main():\n",
    "    # Get the number of employee records to create.\n",
    "    num_emp = int(input('How many employee records ' +  'do you want to create? '))\n",
    "\n",
    "    # Open a file for writing.\n",
    "    emp = open('employees.txt', 'w')\n",
    "\n",
    "    # Get each employee's data and write it to the file.\n",
    "    for count in range(1, num_emp + 1):\n",
    "        # Get the data for an employee.\n",
    "        print('Enter data for employee #', count, sep='')\n",
    "        name = input('Name: ')\n",
    "        id_num = input('ID number: ')\n",
    "        dept = input('Department: ')\n",
    "\n",
    "        # Write the data as a record to the file.\n",
    "        emp.write(name + '\\n')\n",
    "        emp.write(id_num + '\\n')\n",
    "        emp.write(dept + '\\n')\n",
    "\n",
    "        # Display a blank line.\n",
    "        print()\n",
    "\n",
    "    # Close the file.\n",
    "    emp.close()\n",
    "    print('Employee records written to employees.txt.')\n",
    "\n",
    "# Call the main function.\n",
    "main()"
   ]
  },
  {
   "cell_type": "code",
   "execution_count": 88,
   "metadata": {
    "hidden": true
   },
   "outputs": [
    {
     "name": "stdout",
     "output_type": "stream",
     "text": [
      "Name: ttt\n",
      "ID: 1\n",
      "Dept: ko\n",
      "\n",
      "Name: ddd\n",
      "ID: 2\n",
      "Dept: org\n",
      "\n"
     ]
    }
   ],
   "source": [
    "# This program displays the records that are in the employees.txt file.\n",
    "\n",
    "def main():\n",
    "    # Open the employees.txt file.\n",
    "    emp_file = open('employees.txt', 'r')\n",
    "\n",
    "    # Read the first line from the file, which is\n",
    "    # the name field of the first record.\n",
    "    name = emp_file.readline()\n",
    "\n",
    "    # If a field was read, continue processing.\n",
    "    while name != '':\n",
    "        # Read the ID number field.\n",
    "        id_num = emp_file.readline()\n",
    "\n",
    "        # Read the department field.\n",
    "        dept = emp_file.readline()\n",
    "\n",
    "        # Strip the newlines from the fields.\n",
    "        name = name.rstrip('\\n')\n",
    "        id_num = id_num.rstrip('\\n')\n",
    "        dept = dept.rstrip('\\n')\n",
    "\n",
    "        # Display the record.\n",
    "        print('Name:', name)\n",
    "        print('ID:', id_num)\n",
    "        print('Dept:', dept)\n",
    "        print()\n",
    "\n",
    "        # Read the name field of the next record.\n",
    "        name = emp_file.readline()\n",
    "\n",
    "    # Close the file.\n",
    "    emp_file.close()\n",
    "\n",
    "# Call the main function.\n",
    "main()\n"
   ]
  },
  {
   "cell_type": "code",
   "execution_count": 89,
   "metadata": {
    "hidden": true
   },
   "outputs": [
    {
     "name": "stdout",
     "output_type": "stream",
     "text": [
      "Enter the following coffee data:\n",
      "Description: eee\n",
      "Quantity (in pounds): 20\n",
      "Do you want to add another record?\n",
      "Y = yes, anything else = no: no\n",
      "Data appended to coffee.txt.\n"
     ]
    }
   ],
   "source": [
    "# This program adds coffee inventory records to the coffee.txt file.\n",
    "\n",
    "def main():\n",
    "    # Create a variable to control the loop.\n",
    "    another = 'y'\n",
    "\n",
    "    # Open the coffee.txt file in append mode.\n",
    "    coffee_file = open('coffee.txt', 'a')\n",
    "\n",
    "    # Add records to the file.\n",
    "    while another == 'y' or another == 'Y':\n",
    "        # Get the coffee record data.\n",
    "        print('Enter the following coffee data:')\n",
    "        descr = input('Description: ')\n",
    "        qty = int(input('Quantity (in pounds): '))\n",
    "\n",
    "        # Append the data to the file.\n",
    "        coffee_file.write(descr + '\\n')\n",
    "        coffee_file.write(str(qty) + '\\n')\n",
    "\n",
    "        # Determine whether the user wants to add another record to the file.\n",
    "        print('Do you want to add another record?')\n",
    "        another = input('Y = yes, anything else = no: ')\n",
    "\n",
    "    # Close the file.\n",
    "    coffee_file.close()\n",
    "    print('Data appended to coffee.txt.')\n",
    "\n",
    "# Call the main function.\n",
    "main()"
   ]
  },
  {
   "cell_type": "code",
   "execution_count": 90,
   "metadata": {
    "hidden": true
   },
   "outputs": [
    {
     "name": "stdout",
     "output_type": "stream",
     "text": [
      "Description: eee\n",
      "Quantity: 20.0\n"
     ]
    }
   ],
   "source": [
    "# This program displays the records in the coffee.txt file.\n",
    "\n",
    "def main():\n",
    "    # Open the coffee.txt file.\n",
    "    coffee_file = open('coffee.txt', 'r')\n",
    "\n",
    "    # Read the first record's description field.\n",
    "    descr = coffee_file.readline()\n",
    "\n",
    "    # Read the rest of the file.\n",
    "    while descr != '':\n",
    "        # Read the quantity field.\n",
    "        qty = float(coffee_file.readline())\n",
    "\n",
    "        # Strip the \\n from the description.\n",
    "        descr = descr.rstrip('\\n')\n",
    "\n",
    "        # Display the record.\n",
    "        print('Description:', descr)\n",
    "        print('Quantity:', qty)\n",
    "\n",
    "        # Read the next description.\n",
    "        descr = coffee_file.readline()\n",
    "\n",
    "    # Close the file.\n",
    "    coffee_file.close()\n",
    "\n",
    "# Call the main function.\n",
    "main()"
   ]
  },
  {
   "cell_type": "code",
   "execution_count": null,
   "metadata": {
    "hidden": true
   },
   "outputs": [],
   "source": []
  },
  {
   "cell_type": "code",
   "execution_count": null,
   "metadata": {
    "hidden": true
   },
   "outputs": [],
   "source": []
  },
  {
   "cell_type": "code",
   "execution_count": null,
   "metadata": {
    "hidden": true
   },
   "outputs": [],
   "source": []
  }
 ],
 "metadata": {
  "kernelspec": {
   "display_name": "Python 3",
   "language": "python",
   "name": "python3"
  },
  "language_info": {
   "codemirror_mode": {
    "name": "ipython",
    "version": 3
   },
   "file_extension": ".py",
   "mimetype": "text/x-python",
   "name": "python",
   "nbconvert_exporter": "python",
   "pygments_lexer": "ipython3",
   "version": "3.6.6"
  },
  "toc": {
   "base_numbering": 1,
   "nav_menu": {},
   "number_sections": true,
   "sideBar": true,
   "skip_h1_title": false,
   "title_cell": "Table of Contents",
   "title_sidebar": "Contents",
   "toc_cell": false,
   "toc_position": {},
   "toc_section_display": true,
   "toc_window_display": false
  },
  "varInspector": {
   "cols": {
    "lenName": 16,
    "lenType": 16,
    "lenVar": 40
   },
   "kernels_config": {
    "python": {
     "delete_cmd_postfix": "",
     "delete_cmd_prefix": "del ",
     "library": "var_list.py",
     "varRefreshCmd": "print(var_dic_list())"
    },
    "r": {
     "delete_cmd_postfix": ") ",
     "delete_cmd_prefix": "rm(",
     "library": "var_list.r",
     "varRefreshCmd": "cat(var_dic_list()) "
    }
   },
   "oldHeight": 122.8,
   "position": {
    "height": "143.6px",
    "left": "1010px",
    "right": "20px",
    "top": "119px",
    "width": "250px"
   },
   "types_to_exclude": [
    "module",
    "function",
    "builtin_function_or_method",
    "instance",
    "_Feature"
   ],
   "varInspector_section_display": "block",
   "window_display": false
  }
 },
 "nbformat": 4,
 "nbformat_minor": 2
}
