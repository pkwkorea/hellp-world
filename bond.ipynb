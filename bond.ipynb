{
 "cells": [
  {
   "cell_type": "markdown",
   "metadata": {},
   "source": [
    "# coupon bond pricing function"
   ]
  },
  {
   "cell_type": "code",
   "execution_count": 5,
   "metadata": {},
   "outputs": [],
   "source": [
    "# This is a python function for calculating price of copon bond\n",
    "# face=par value                couponrate=coupon rate\n",
    "# d= number of days to first coupon from today   \n",
    "# q= coupon interval(days) \n",
    "# n=number of remaining coupons   m=coupon frequency per year\n",
    "# yield=bond yield\n",
    "\n",
    "import numpy as np\n",
    "def couponprice(face,couponrate,d,q,n,m,bondyield):\n",
    "\n",
    "    l=np.ones((1,n))\n",
    "    coupon=face*(couponrate/m)\n",
    "    coupons=coupon*l\n",
    "    periodyield=1+(bondyield/m)\n",
    "    exponents=(d/q)+np.array(range(n))\n",
    "    pvfs=np.reciprocal(periodyield**exponents)\n",
    "    price=np.sum(coupons*pvfs)+face*pvfs[n-1]\n",
    "\n",
    "    return price "
   ]
  },
  {
   "cell_type": "code",
   "execution_count": 6,
   "metadata": {},
   "outputs": [
    {
     "name": "stdout",
     "output_type": "stream",
     "text": [
      "Coupon bond price is: 11,124.28\n"
     ]
    }
   ],
   "source": [
    "bondprice=couponprice(10000,0.05,89,182,7,2,0.01822)\n",
    "print(\"Coupon bond price is:\",format(bondprice, \",.2f\"))"
   ]
  },
  {
   "cell_type": "code",
   "execution_count": null,
   "metadata": {},
   "outputs": [],
   "source": []
  },
  {
   "cell_type": "code",
   "execution_count": null,
   "metadata": {},
   "outputs": [],
   "source": []
  },
  {
   "cell_type": "markdown",
   "metadata": {},
   "source": [
    "# coupon pricing and return calculation function"
   ]
  },
  {
   "cell_type": "code",
   "execution_count": 1,
   "metadata": {},
   "outputs": [],
   "source": [
    "# This is a python function for calculating price and buy and hold investment return of copon bond\n",
    "# face=par value                couponrate=coupon rate\n",
    "# d= number of days to first coupon from today   \n",
    "# q= coupon interval(days) \n",
    "# n=number of remaining coupons   m=coupon frequency per year\n",
    "# yield=bond yield\n",
    "\n",
    "def pricereturn(face,couponrate,d,q,n,m,bondyield):\n",
    "\n",
    "    l=np.ones((1,n))\n",
    "    coupon=face*(couponrate/m)\n",
    "    coupons=coupon*l\n",
    "    periodyield=1+(bondyield/m)\n",
    "    exponents=(d/q)+np.array(range(n))\n",
    "    fvfs=periodyield**exponents\n",
    "    price=np.sum(coupons/fvfs)+face/fvfs[n-1]\n",
    "    investmentperiod=(d+q*(n-1))/365\n",
    "    investmentreturn= ((face+(coupon*n))/price-1)*(1/investmentperiod)\n",
    "\n",
    "    return price ,investmentreturn"
   ]
  },
  {
   "cell_type": "code",
   "execution_count": 2,
   "metadata": {},
   "outputs": [
    {
     "name": "stdout",
     "output_type": "stream",
     "text": [
      "coupon bond price is;\n",
      "11124.281840124768\n",
      "buy and hold investment return is;\n",
      "0.017384001182745856\n"
     ]
    }
   ],
   "source": [
    "x=pricereturn(10000,0.05,89,182,7,2,0.01822)\n",
    "price=x[0]; investmentreturn=x[1]\n",
    "print(\"coupon bond price is;\");print(price)\n",
    "print(\"buy and hold investment return is;\"); print(investmentreturn)"
   ]
  },
  {
   "cell_type": "code",
   "execution_count": 7,
   "metadata": {},
   "outputs": [],
   "source": [
    "import numpy as np\n",
    "def portvar(x):\n",
    "        H=np.array([[0.3, 0.03],[0.03, 0.4]])\n",
    "        var=x.dot(H).dot(x.T)\n",
    "        return var"
   ]
  },
  {
   "cell_type": "code",
   "execution_count": 8,
   "metadata": {},
   "outputs": [
    {
     "name": "stdout",
     "output_type": "stream",
     "text": [
      "Portfolio variance is: 0.1900\n"
     ]
    }
   ],
   "source": [
    "x=np.array([0.5,0.5])\n",
    "portvar=portvar(x)\n",
    "print(\"Portfolio variance is:\", format(portvar,\".4f\"))"
   ]
  },
  {
   "cell_type": "markdown",
   "metadata": {},
   "source": [
    "# yield curve riding strategy with paralell shift"
   ]
  },
  {
   "cell_type": "code",
   "execution_count": 42,
   "metadata": {},
   "outputs": [
    {
     "name": "stdout",
     "output_type": "stream",
     "text": [
      "buy price is;\n",
      "11124.281840124768\n",
      "sell price is;\n",
      "10246.88913387443\n",
      "investment period is;\n",
      "2.2383561643835614\n",
      "expected return from yield curve riding strategy is;\n",
      "0.014964085343248496\n"
     ]
    }
   ],
   "source": [
    "# this is to calculate investment return from yield curve riding strategy\n",
    "# d1= number of days to first coupon from buy date\n",
    "# n1=number of coupons to receive\n",
    "# d2= number of days to first coupon from sell date\n",
    "# n2=number of coupons remaining after sell date through maturity\n",
    "# q= coupon interval(days) \n",
    "# m=coupon frequency per year\n",
    "\n",
    "\n",
    "face=10000;  couponrate=0.05; d1=89; d2=182; q=182; n1=5; n2=2; m=2;\n",
    "buyyield=0.01822\n",
    "shift=0.01\n",
    "sellyield=0.01485+shift # sellyield is an original yield on curve plus shift\n",
    "\n",
    "x=pricereturn(face, couponrate, d1,q,n1+n2,m,buyyield) ;  buyprice=x[0]\n",
    "y=pricereturn(face, couponrate, d2,q,n2,m,sellyield) ;   sellprice=y[0]\n",
    "coupon=(face*couponrate)/m\n",
    "totalcoupon=coupon*n1\n",
    "investperiod=(d1+q*(n1-1))/365\n",
    "exreturn= ((sellprice+totalcoupon)/buyprice -1) *(1/investperiod)\n",
    "\n",
    "print(\"buy price is;\"); print(buyprice);\n",
    "print(\"sell price is;\"); print(sellprice);\n",
    "print(\"investment period is;\"); print(investperiod);\n",
    "print(\"expected return from yield curve riding strategy is;\"); print(exreturn)"
   ]
  },
  {
   "cell_type": "markdown",
   "metadata": {},
   "source": [
    "# yield curve riding with no shift;holding period"
   ]
  },
  {
   "cell_type": "code",
   "execution_count": 45,
   "metadata": {},
   "outputs": [
    {
     "name": "stdout",
     "output_type": "stream",
     "text": [
      "buy price is;\n",
      "11124.281840124768\n",
      "sell price is;\n",
      "10661.100404712628\n",
      "investment period is;\n",
      "1.2410958904109588\n",
      "expected return from yield curve riding strategy is;\n",
      "0.020774469242919407\n"
     ]
    }
   ],
   "source": [
    "# this is to calculate investment return from yield curve riding strategy\n",
    "# d1= number of days to first coupon from buy date\n",
    "# n1=number of coupons to receive\n",
    "# d2= number of days to first coupon from sell date\n",
    "# n2=number of coupons remaining after sell date through maturity\n",
    "# q= coupon interval(days) \n",
    "# m=coupon frequency per year\n",
    "\n",
    "\n",
    "face=10000;  couponrate=0.05; d1=89; d2=182; q=182; n1=3; n2=4; m=2;\n",
    "buyyield=0.01822\n",
    "sellyield=0.01627 # sellyield is an original yield on curve\n",
    "\n",
    "x=pricereturn(face, couponrate, d1,q,n1+n2,m,buyyield) ;  buyprice=x[0]\n",
    "y=pricereturn(face, couponrate, d2,q,n2,m,sellyield) ;   sellprice=y[0]\n",
    "\n",
    "coupon=(face*couponrate)/m\n",
    "totalcoupon=coupon*n1\n",
    "investperiod=(d1+q*(n1-1))/365\n",
    "exreturn= ((sellprice+totalcoupon)/buyprice -1) *(1/investperiod)\n",
    "\n",
    "print(\"buy price is;\"); print(buyprice);\n",
    "print(\"sell price is;\"); print(sellprice);\n",
    "print(\"investment period is;\"); print(investperiod);\n",
    "print(\"expected return from yield curve riding strategy is;\"); print(exreturn)"
   ]
  },
  {
   "cell_type": "code",
   "execution_count": null,
   "metadata": {},
   "outputs": [],
   "source": []
  }
 ],
 "metadata": {
  "kernelspec": {
   "display_name": "Python 3",
   "language": "python",
   "name": "python3"
  },
  "language_info": {
   "codemirror_mode": {
    "name": "ipython",
    "version": 3
   },
   "file_extension": ".py",
   "mimetype": "text/x-python",
   "name": "python",
   "nbconvert_exporter": "python",
   "pygments_lexer": "ipython3",
   "version": "3.6.6"
  },
  "toc": {
   "base_numbering": 1,
   "nav_menu": {},
   "number_sections": true,
   "sideBar": true,
   "skip_h1_title": false,
   "title_cell": "Table of Contents",
   "title_sidebar": "Contents",
   "toc_cell": false,
   "toc_position": {},
   "toc_section_display": true,
   "toc_window_display": false
  },
  "varInspector": {
   "cols": {
    "lenName": 16,
    "lenType": 16,
    "lenVar": 40
   },
   "kernels_config": {
    "python": {
     "delete_cmd_postfix": "",
     "delete_cmd_prefix": "del ",
     "library": "var_list.py",
     "varRefreshCmd": "print(var_dic_list())"
    },
    "r": {
     "delete_cmd_postfix": ") ",
     "delete_cmd_prefix": "rm(",
     "library": "var_list.r",
     "varRefreshCmd": "cat(var_dic_list()) "
    }
   },
   "types_to_exclude": [
    "module",
    "function",
    "builtin_function_or_method",
    "instance",
    "_Feature"
   ],
   "window_display": false
  }
 },
 "nbformat": 4,
 "nbformat_minor": 2
}
