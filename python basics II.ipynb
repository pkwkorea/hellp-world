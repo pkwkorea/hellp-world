{
 "cells": [
  {
   "cell_type": "markdown",
   "metadata": {
    "heading_collapsed": true
   },
   "source": [
    "# data types and input"
   ]
  },
  {
   "cell_type": "code",
   "execution_count": 27,
   "metadata": {
    "hidden": true
   },
   "outputs": [
    {
     "data": {
      "text/plain": [
       "16"
      ]
     },
     "execution_count": 27,
     "metadata": {},
     "output_type": "execute_result"
    }
   ],
   "source": [
    "4**2"
   ]
  },
  {
   "cell_type": "code",
   "execution_count": 2,
   "metadata": {
    "hidden": true
   },
   "outputs": [
    {
     "name": "stdout",
     "output_type": "stream",
     "text": [
      "4.5\n"
     ]
    }
   ],
   "source": [
    "a=4.5\n",
    "print(a)"
   ]
  },
  {
   "cell_type": "code",
   "execution_count": 29,
   "metadata": {
    "hidden": true,
    "scrolled": true
   },
   "outputs": [
    {
     "data": {
      "text/plain": [
       "625"
      ]
     },
     "execution_count": 29,
     "metadata": {},
     "output_type": "execute_result"
    }
   ],
   "source": [
    "x=5\n",
    "y=x**4\n",
    "y"
   ]
  },
  {
   "cell_type": "code",
   "execution_count": 32,
   "metadata": {
    "hidden": true
   },
   "outputs": [
    {
     "data": {
      "text/plain": [
       "20"
      ]
     },
     "execution_count": 32,
     "metadata": {},
     "output_type": "execute_result"
    }
   ],
   "source": [
    "a=4\n",
    "b=5\n",
    "c=a*b\n",
    "c"
   ]
  },
  {
   "cell_type": "code",
   "execution_count": 3,
   "metadata": {
    "hidden": true
   },
   "outputs": [
    {
     "data": {
      "text/plain": [
       "'Michael'"
      ]
     },
     "execution_count": 3,
     "metadata": {},
     "output_type": "execute_result"
    }
   ],
   "source": [
    "x=\"Michael\"\n",
    "x"
   ]
  },
  {
   "cell_type": "code",
   "execution_count": 4,
   "metadata": {
    "hidden": true
   },
   "outputs": [
    {
     "data": {
      "text/plain": [
       "'M'"
      ]
     },
     "execution_count": 4,
     "metadata": {},
     "output_type": "execute_result"
    }
   ],
   "source": [
    "x0=x[0]\n",
    "x0"
   ]
  },
  {
   "cell_type": "code",
   "execution_count": 5,
   "metadata": {
    "hidden": true
   },
   "outputs": [
    {
     "data": {
      "text/plain": [
       "'c'"
      ]
     },
     "execution_count": 5,
     "metadata": {},
     "output_type": "execute_result"
    }
   ],
   "source": [
    "x2=x[2]\n",
    "x2"
   ]
  },
  {
   "cell_type": "code",
   "execution_count": 34,
   "metadata": {
    "hidden": true
   },
   "outputs": [
    {
     "name": "stdout",
     "output_type": "stream",
     "text": [
      "원금을 입력하시오: 1000000\n",
      "이자율을 소수로 입력하시오: 0.036\n",
      "연간 복리횟수(예; 월복리인 경우 12)를 입력하시오: 12\n",
      "만기를 연단위로 입력하시오: 2\n",
      "원금 1000000.0의 원리금 합계는 1074539.5191333515 입니다.\n"
     ]
    }
   ],
   "source": [
    "# 원금을 입력한다\n",
    "\n",
    "pv = float(input('원금을 입력하시오: '))\n",
    "\n",
    "# 연이자율을 입력한다\n",
    "rate = float(input('이자율을 소수로 입력하시오: '))\n",
    "\n",
    "# 연간 복리횟수를 입력한다\n",
    "m = int(input('연간 복리횟수(예; 월복리인 경우 12)를 입력하시오: '))\n",
    "\n",
    "# Get the number of years that the money will appreciate.\n",
    "\n",
    "years = eval(input('만기를 연단위로 입력하시오: '))\n",
    "\n",
    "# 월복리 가정시 미래 원리금합계를 계산한다\n",
    "fv=pv*((1+rate/m)**(m*years))\n",
    "\n",
    "# Display the amount needed to deposit.\n",
    "print('원금', str(pv)+'의 원리금 합계는' , fv, '입니다.')"
   ]
  },
  {
   "cell_type": "code",
   "execution_count": 35,
   "metadata": {
    "hidden": true
   },
   "outputs": [
    {
     "name": "stdout",
     "output_type": "stream",
     "text": [
      "One\n",
      "Two\n",
      "Three\n"
     ]
    }
   ],
   "source": [
    "print('One')\n",
    "print('Two')\n",
    "print('Three')"
   ]
  },
  {
   "cell_type": "code",
   "execution_count": 36,
   "metadata": {
    "hidden": true
   },
   "outputs": [
    {
     "name": "stdout",
     "output_type": "stream",
     "text": [
      "One Two Three\n"
     ]
    }
   ],
   "source": [
    "print('One', end=' ')\n",
    "print('Two', end=' ')\n",
    "print('Three')"
   ]
  },
  {
   "cell_type": "code",
   "execution_count": 37,
   "metadata": {
    "hidden": true
   },
   "outputs": [
    {
     "name": "stdout",
     "output_type": "stream",
     "text": [
      "OneTwoThree\n"
     ]
    }
   ],
   "source": [
    "print('One', end='')\n",
    "print('Two', end='')\n",
    "print('Three')"
   ]
  },
  {
   "cell_type": "code",
   "execution_count": 38,
   "metadata": {
    "hidden": true
   },
   "outputs": [
    {
     "name": "stdout",
     "output_type": "stream",
     "text": [
      "One Two Three\n"
     ]
    }
   ],
   "source": [
    "print('One', 'Two', 'Three') "
   ]
  },
  {
   "cell_type": "code",
   "execution_count": 39,
   "metadata": {
    "hidden": true
   },
   "outputs": [
    {
     "name": "stdout",
     "output_type": "stream",
     "text": [
      "OneTwoThree\n"
     ]
    }
   ],
   "source": [
    "print('One', 'Two', 'Three', sep='') "
   ]
  },
  {
   "cell_type": "code",
   "execution_count": 40,
   "metadata": {
    "hidden": true
   },
   "outputs": [
    {
     "name": "stdout",
     "output_type": "stream",
     "text": [
      "One*Two*Three\n"
     ]
    }
   ],
   "source": [
    "print('One', 'Two', 'Three', sep='*') "
   ]
  },
  {
   "cell_type": "code",
   "execution_count": 41,
   "metadata": {
    "hidden": true
   },
   "outputs": [
    {
     "name": "stdout",
     "output_type": "stream",
     "text": [
      "One\n",
      "Two\n",
      "Three\n"
     ]
    }
   ],
   "source": [
    "print('One\\Two\\nThree')"
   ]
  },
  {
   "cell_type": "code",
   "execution_count": 42,
   "metadata": {
    "hidden": true
   },
   "outputs": [
    {
     "name": "stdout",
     "output_type": "stream",
     "text": [
      "Mon\tTues\tWed\n",
      "Thur\tFri\tSat\n"
     ]
    }
   ],
   "source": [
    "print('Mon\\tTues\\tWed')\n",
    "print('Thur\\tFri\\tSat')"
   ]
  },
  {
   "cell_type": "code",
   "execution_count": 43,
   "metadata": {
    "hidden": true
   },
   "outputs": [
    {
     "name": "stdout",
     "output_type": "stream",
     "text": [
      "Your assignment is to read \"Hamlet\" by tomorrow.\n"
     ]
    }
   ],
   "source": [
    "print(\"Your assignment is to read \\\"Hamlet\\\" by tomorrow.\")"
   ]
  },
  {
   "cell_type": "code",
   "execution_count": 45,
   "metadata": {
    "hidden": true
   },
   "outputs": [
    {
     "name": "stdout",
     "output_type": "stream",
     "text": [
      "Enter the amount of sales for each day and press Enter.\n"
     ]
    }
   ],
   "source": [
    "print('Enter the amount of ' \\\n",
    "      + 'sales for each day and ' \\\n",
    "      + 'press Enter.')"
   ]
  },
  {
   "cell_type": "code",
   "execution_count": 48,
   "metadata": {
    "hidden": true
   },
   "outputs": [
    {
     "name": "stdout",
     "output_type": "stream",
     "text": [
      "55.400000%\n"
     ]
    }
   ],
   "source": [
    "print(format(0.554, '%'))"
   ]
  },
  {
   "cell_type": "code",
   "execution_count": 49,
   "metadata": {
    "hidden": true
   },
   "outputs": [
    {
     "name": "stdout",
     "output_type": "stream",
     "text": [
      "55.4%\n"
     ]
    }
   ],
   "source": [
    "print(format(0.554, '.1%'))"
   ]
  },
  {
   "cell_type": "code",
   "execution_count": 50,
   "metadata": {
    "hidden": true
   },
   "outputs": [
    {
     "name": "stdout",
     "output_type": "stream",
     "text": [
      "123456\n"
     ]
    }
   ],
   "source": [
    "print(format(123456, 'd'))"
   ]
  },
  {
   "cell_type": "code",
   "execution_count": 51,
   "metadata": {
    "hidden": true
   },
   "outputs": [
    {
     "name": "stdout",
     "output_type": "stream",
     "text": [
      "123,456\n"
     ]
    }
   ],
   "source": [
    "print(format(123456, ',d'))"
   ]
  },
  {
   "cell_type": "code",
   "execution_count": 52,
   "metadata": {
    "hidden": true
   },
   "outputs": [
    {
     "name": "stdout",
     "output_type": "stream",
     "text": [
      "   123,456\n"
     ]
    }
   ],
   "source": [
    "print(format(123456, '10,d'))"
   ]
  },
  {
   "cell_type": "code",
   "execution_count": 54,
   "metadata": {
    "hidden": true
   },
   "outputs": [
    {
     "ename": "NameError",
     "evalue": "name 'z' is not defined",
     "output_type": "error",
     "traceback": [
      "\u001b[1;31m---------------------------------------------------------------------------\u001b[0m",
      "\u001b[1;31mNameError\u001b[0m                                 Traceback (most recent call last)",
      "\u001b[1;32m<ipython-input-54-3b714e75ff43>\u001b[0m in \u001b[0;36m<module>\u001b[1;34m()\u001b[0m\n\u001b[0;32m      1\u001b[0m \u001b[0ma\u001b[0m\u001b[1;33m=\u001b[0m\u001b[1;36m2\u001b[0m\u001b[1;33m\u001b[0m\u001b[0m\n\u001b[1;32m----> 2\u001b[1;33m \u001b[0mc\u001b[0m\u001b[1;33m=\u001b[0m\u001b[0ma\u001b[0m\u001b[1;33m*\u001b[0m\u001b[0mz\u001b[0m\u001b[1;33m\u001b[0m\u001b[0m\n\u001b[0m\u001b[0;32m      3\u001b[0m \u001b[0mprint\u001b[0m\u001b[1;33m(\u001b[0m\u001b[0mc\u001b[0m\u001b[1;33m)\u001b[0m\u001b[1;33m\u001b[0m\u001b[0m\n",
      "\u001b[1;31mNameError\u001b[0m: name 'z' is not defined"
     ]
    }
   ],
   "source": [
    "a=2\n",
    "c=a*z\n",
    "print(c)"
   ]
  },
  {
   "cell_type": "markdown",
   "metadata": {
    "heading_collapsed": true
   },
   "source": [
    "# dictionary and set"
   ]
  },
  {
   "cell_type": "code",
   "execution_count": 1,
   "metadata": {
    "hidden": true
   },
   "outputs": [
    {
     "data": {
      "text/plain": [
       "{'Chris': '555-1111', 'Katie': '555-2222', 'Joanne': '555-3333'}"
      ]
     },
     "execution_count": 1,
     "metadata": {},
     "output_type": "execute_result"
    }
   ],
   "source": [
    "phonebook = {'Chris' : '555-1111',  'Katie' : '555-2222',  'Joanne' : '555-3333'} \n",
    "phonebook"
   ]
  },
  {
   "cell_type": "code",
   "execution_count": 2,
   "metadata": {
    "hidden": true
   },
   "outputs": [
    {
     "ename": "KeyError",
     "evalue": "'chris'",
     "output_type": "error",
     "traceback": [
      "\u001b[1;31m---------------------------------------------------------------------------\u001b[0m",
      "\u001b[1;31mKeyError\u001b[0m                                  Traceback (most recent call last)",
      "\u001b[1;32m<ipython-input-2-8b50a6c3ec49>\u001b[0m in \u001b[0;36m<module>\u001b[1;34m()\u001b[0m\n\u001b[0;32m      1\u001b[0m \u001b[1;31m# To retrieve a value from a dictionary\u001b[0m\u001b[1;33m\u001b[0m\u001b[1;33m\u001b[0m\u001b[0m\n\u001b[1;32m----> 2\u001b[1;33m \u001b[0mphonebook\u001b[0m\u001b[1;33m[\u001b[0m\u001b[1;34m'chris'\u001b[0m\u001b[1;33m]\u001b[0m\u001b[1;33m\u001b[0m\u001b[0m\n\u001b[0m",
      "\u001b[1;31mKeyError\u001b[0m: 'chris'"
     ]
    }
   ],
   "source": [
    "# To retrieve a value from a dictionary\n",
    "phonebook['chris']"
   ]
  },
  {
   "cell_type": "code",
   "execution_count": 3,
   "metadata": {
    "hidden": true
   },
   "outputs": [
    {
     "data": {
      "text/plain": [
       "3"
      ]
     },
     "execution_count": 3,
     "metadata": {},
     "output_type": "execute_result"
    }
   ],
   "source": [
    "num_items=len(phonebook)\n",
    "num_items"
   ]
  },
  {
   "cell_type": "code",
   "execution_count": null,
   "metadata": {
    "hidden": true
   },
   "outputs": [],
   "source": []
  },
  {
   "cell_type": "code",
   "execution_count": 4,
   "metadata": {
    "hidden": true
   },
   "outputs": [
    {
     "data": {
      "text/plain": [
       "{'name': 'Kevin Smith', 'id': 12345, 'payrate': 25.75}"
      ]
     },
     "execution_count": 4,
     "metadata": {},
     "output_type": "execute_result"
    }
   ],
   "source": [
    "employee = {'name' : 'Kevin Smith', 'id' : 12345, 'payrate' : 25.75 }\n",
    "employee"
   ]
  },
  {
   "cell_type": "code",
   "execution_count": 5,
   "metadata": {
    "hidden": true
   },
   "outputs": [
    {
     "name": "stdout",
     "output_type": "stream",
     "text": [
      "\n",
      "Friends and Their Phone numbers\n",
      "---------------------------\n",
      "1. Look up a phone unumber\n",
      "2. Add a new phone unumber\n",
      "3. Change a phone unumber\n",
      "4. Delete a phone unumber\n",
      "5. Quit the program\n",
      "\n",
      "Enter your choice: 2\n",
      "Enter a name: jjj\n",
      "Enter a phone number: 01033445566\n",
      "\n",
      "Friends and Their Phone numbers\n",
      "---------------------------\n",
      "1. Look up a phone unumber\n",
      "2. Add a new phone unumber\n",
      "3. Change a phone unumber\n",
      "4. Delete a phone unumber\n",
      "5. Quit the program\n",
      "\n",
      "Enter your choice: 2\n",
      "Enter a name: klk\n",
      "Enter a phone number: 01023452344\n",
      "\n",
      "Friends and Their Phone numbers\n",
      "---------------------------\n",
      "1. Look up a phone unumber\n",
      "2. Add a new phone unumber\n",
      "3. Change a phone unumber\n",
      "4. Delete a phone unumber\n",
      "5. Quit the program\n",
      "\n",
      "Enter your choice: 2\n",
      "Enter a name: dye\n",
      "Enter a phone number: 01087564456\n",
      "\n",
      "Friends and Their Phone numbers\n",
      "---------------------------\n",
      "1. Look up a phone unumber\n",
      "2. Add a new phone unumber\n",
      "3. Change a phone unumber\n",
      "4. Delete a phone unumber\n",
      "5. Quit the program\n",
      "\n",
      "Enter your choice: 1\n",
      "Enter a name: jjj\n",
      "01033445566\n",
      "\n",
      "Friends and Their Phone numbers\n",
      "---------------------------\n",
      "1. Look up a phone unumber\n",
      "2. Add a new phone unumber\n",
      "3. Change a phone unumber\n",
      "4. Delete a phone unumber\n",
      "5. Quit the program\n",
      "\n",
      "Enter your choice: 5\n"
     ]
    }
   ],
   "source": [
    "LOOK_UP = 1\n",
    "ADD = 2\n",
    "CHANGE = 3\n",
    "DELETE = 4\n",
    "QUIT = 5\n",
    "\n",
    "def main():\n",
    "    numbers = {}\n",
    "    choice = 0\n",
    "\n",
    "    while choice != QUIT:\n",
    "        choice = menu_choice()\n",
    "        if choice == LOOK_UP:\n",
    "            look_up(numbers)\n",
    "        elif choice == ADD:\n",
    "            add(numbers)\n",
    "        elif choice == CHANGE:\n",
    "            change(numbers)\n",
    "        elif choice == DELETE:\n",
    "            delete(numbers)\n",
    "\n",
    "def menu_choice():\n",
    "    print()\n",
    "    print('Friends and Their Phone numbers')\n",
    "    print('---------------------------')\n",
    "    print('1. Look up a phone unumber')\n",
    "    print('2. Add a new phone unumber')\n",
    "    print('3. Change a phone unumber')\n",
    "    print('4. Delete a phone unumber')\n",
    "    print('5. Quit the program')\n",
    "    print()\n",
    "    choice = int(input('Enter your choice: '))\n",
    "\n",
    "    while choice < LOOK_UP or choice > QUIT:\n",
    "        choice = int(input('Enter a valid choice: '))\n",
    "    return choice\n",
    "\n",
    "def look_up(numbers):\n",
    "    name = input('Enter a name: ')\n",
    "    print(numbers.get(name, 'Not found.'))\n",
    "\n",
    "def add(numbers):\n",
    "    name = input('Enter a name: ')\n",
    "    phonenum = input('Enter a phone number: ')\n",
    "    if name not in numbers:\n",
    "        numbers[name] = phonenum\n",
    "    else:\n",
    "        print('That entry already exists.')\n",
    "\n",
    "def change(numbers):\n",
    "    name = input('Enter a name: ')\n",
    "    if name in numbers:\n",
    "        phonenum = input('Enter the new phone number: ')\n",
    "        numbers[name] = phonenum\n",
    "    else:\n",
    "        print('That name is not found.')\n",
    "\n",
    "def delete(numbers):\n",
    "    name = input('Enter a name: ')\n",
    "    if name in numbers:\n",
    "        del numbers[name]\n",
    "    else:\n",
    "        print('That name is not found.')\n",
    "\n",
    "main()"
   ]
  },
  {
   "cell_type": "code",
   "execution_count": 27,
   "metadata": {
    "hidden": true
   },
   "outputs": [],
   "source": [
    "phonebook = {'Chris' : '555-1111',  'Katie' : '555-2222',  'Joanne' : '555-3333'}\n",
    "\n",
    "import pickle \n",
    "\n",
    "def main(): \n",
    "    outfile = open('phonebook.dat', 'wb') \n",
    "    pickle.dump(phonebook, outfile) \n",
    "    outfile.close() \n",
    "\n",
    "main()"
   ]
  },
  {
   "cell_type": "code",
   "execution_count": 29,
   "metadata": {
    "hidden": true
   },
   "outputs": [],
   "source": [
    "def main():\n",
    "    infile = open('phonebook.dat', 'rb')\n",
    "    pb = pickle.load(infile)\n",
    "    infile.close()\n",
    "main()"
   ]
  },
  {
   "cell_type": "code",
   "execution_count": 30,
   "metadata": {
    "hidden": true
   },
   "outputs": [
    {
     "ename": "NameError",
     "evalue": "name 'pb' is not defined",
     "output_type": "error",
     "traceback": [
      "\u001b[1;31m---------------------------------------------------------------------------\u001b[0m",
      "\u001b[1;31mNameError\u001b[0m                                 Traceback (most recent call last)",
      "\u001b[1;32m<ipython-input-30-25805818847d>\u001b[0m in \u001b[0;36m<module>\u001b[1;34m()\u001b[0m\n\u001b[1;32m----> 1\u001b[1;33m \u001b[0mprint\u001b[0m\u001b[1;33m(\u001b[0m\u001b[0mpb\u001b[0m\u001b[1;33m)\u001b[0m\u001b[1;33m\u001b[0m\u001b[0m\n\u001b[0m",
      "\u001b[1;31mNameError\u001b[0m: name 'pb' is not defined"
     ]
    }
   ],
   "source": [
    "print(pb)"
   ]
  },
  {
   "cell_type": "code",
   "execution_count": 6,
   "metadata": {
    "hidden": true
   },
   "outputs": [
    {
     "name": "stdout",
     "output_type": "stream",
     "text": [
      "Name: jjj\n",
      "Age: 30\n",
      "Weight: 10\n",
      "Enter more data? (y/n): y\n",
      "Name: jhk\n",
      "Age: 40\n",
      "Weight: 90\n",
      "Enter more data? (y/n): y\n",
      "Name: try\n",
      "Age: 46\n",
      "Weight: 120\n",
      "Enter more data? (y/n): n\n"
     ]
    }
   ],
   "source": [
    "# This program demonstrates object pickling.\n",
    "import pickle\n",
    "\n",
    "# main function\n",
    "def main():\n",
    "    again = 'y'  # To control loop repetition\n",
    "    output_file = open('info.dat', 'wb')\n",
    "\n",
    "    while again.lower() == 'y':\n",
    "        save_data(output_file)\n",
    "        again = input('Enter more data? (y/n): ')\n",
    "    output_file.close()\n",
    "\n",
    "def save_data(file):\n",
    "    person = {}\n",
    "    person['name'] = input('Name: ')\n",
    "    person['age'] = int(input('Age: '))\n",
    "    person['weight'] = float(input('Weight: '))\n",
    "    pickle.dump(person, file)\n",
    "\n",
    "# Call the main function.\n",
    "main()"
   ]
  },
  {
   "cell_type": "code",
   "execution_count": 7,
   "metadata": {
    "hidden": true
   },
   "outputs": [
    {
     "name": "stdout",
     "output_type": "stream",
     "text": [
      "Name: jjj\n",
      "Age: 30\n",
      "Weight: 10.0\n",
      "\n",
      "Name: jhk\n",
      "Age: 40\n",
      "Weight: 90.0\n",
      "\n",
      "Name: try\n",
      "Age: 46\n",
      "Weight: 120.0\n",
      "\n"
     ]
    }
   ],
   "source": [
    "# This program demonstrates object unpickling.\n",
    "import pickle\n",
    "\n",
    "# main function\n",
    "def main():\n",
    "    end_of_file = False  # To indicate end of file\n",
    "    input_file = open('info.dat', 'rb')\n",
    "\n",
    "    while not end_of_file:\n",
    "        try:\n",
    "            person = pickle.load(input_file)\n",
    "            display_data(person)\n",
    "        except EOFError:\n",
    "            end_of_file = True\n",
    "    input_file.close()\n",
    "\n",
    "def display_data(person):\n",
    "    print('Name:', person['name'])\n",
    "    print('Age:', person['age'])\n",
    "    print('Weight:', person['weight'])\n",
    "    print()\n",
    "main()"
   ]
  },
  {
   "cell_type": "code",
   "execution_count": null,
   "metadata": {
    "hidden": true
   },
   "outputs": [],
   "source": []
  },
  {
   "cell_type": "code",
   "execution_count": null,
   "metadata": {
    "hidden": true
   },
   "outputs": [],
   "source": []
  },
  {
   "cell_type": "markdown",
   "metadata": {},
   "source": [
    "# if selection"
   ]
  },
  {
   "cell_type": "code",
   "execution_count": 61,
   "metadata": {},
   "outputs": [
    {
     "name": "stdout",
     "output_type": "stream",
     "text": [
      "Enter the score for test 1: 98\n",
      "Enter the score for test 2: 99\n",
      "Enter the score for test 3: 96\n",
      "The average score is 97.67\n",
      "Congratulations!\n",
      "That is a great average!\n"
     ]
    }
   ],
   "source": [
    "# It congratulates the user if the average is a high score.\n",
    "# This program gets three test scores and displays\n",
    "# their average.  It congratulates the user if the\n",
    "# average is a high score.\n",
    "\n",
    "# The high score variable holds the value that is \n",
    "# considered a high score.\n",
    "\n",
    "high_score = 95\n",
    " \n",
    "# Get the three test scores.\n",
    "test1 = int(input('Enter the score for test 1: '))\n",
    "test2 = int(input('Enter the score for test 2: '))\n",
    "test3 = int(input('Enter the score for test 3: '))\n",
    "\n",
    "# Calculate the average test score.\n",
    "average = (test1 + test2 + test3) / 3\n",
    "\n",
    "# Print the average.\n",
    "print('The average score is', format(average,'.2f'))\n",
    "\n",
    "# If the average is a high score,\n",
    "# congratulate the user.\n",
    "if average >= high_score:\n",
    "    print('Congratulations!')\n",
    "    print('That is a great average!')"
   ]
  },
  {
   "cell_type": "code",
   "execution_count": 62,
   "metadata": {},
   "outputs": [
    {
     "name": "stdout",
     "output_type": "stream",
     "text": [
      "Enter the number of hours worked: 50\n",
      "Enter the hourly pay rate: 40\n",
      "The gross pay is $2,200.00\n"
     ]
    }
   ],
   "source": [
    "# Variables to represent the base hours and the overtime multiplier.\n",
    "\n",
    "base_hours = 40       # Base hours per week\n",
    "ot_multiplier = 1.5   # Overtime multiplier\n",
    "\n",
    "workhours = float(input('Enter the number of hours worked: '))\n",
    "pay_rate = float(input('Enter the hourly pay rate: '))\n",
    "\n",
    "if workhours > base_hours:\n",
    "    overtime_hours = workhours - base_hours\n",
    "    overtime_pay = overtime_hours * pay_rate * ot_multiplier\n",
    "    gross_pay = base_hours * pay_rate + overtime_pay\n",
    "    \n",
    "else:\n",
    "    gross_pay = workhours * pay_rate\n",
    "\n",
    "print('The gross pay is $', format(gross_pay, ',.2f'), sep='')"
   ]
  },
  {
   "cell_type": "code",
   "execution_count": 64,
   "metadata": {},
   "outputs": [
    {
     "name": "stdout",
     "output_type": "stream",
     "text": [
      "Enter your annual salary: 40000\n",
      "Enter the number of years employed: 4\n",
      "You qualify for the loan.\n"
     ]
    }
   ],
   "source": [
    "# This program determines whether a bank customer qualifies for a loan.\n",
    "\n",
    "min_salary = 30000.0  # The minimum annual salary\n",
    "min_years = 2         # The minimum years on the job\n",
    "\n",
    "# Get the customer's annual salary.\n",
    "salary = float(input('Enter your annual salary: '))\n",
    "\n",
    "# Get the number of years on the current job.\n",
    "years_on_job = int(input('Enter the number of years employed: '))\n",
    "\n",
    "# Determine whether the customer qualifies.\n",
    "if salary >= min_salary:\n",
    "    if years_on_job >= min_years:\n",
    "        print('You qualify for the loan.')\n",
    "    else:\n",
    "        print('You must have been employed for at least', min_years, 'years to qualify.')\n",
    "else:\n",
    "    print('You must earn at least $', format(min_salary, ',.2f'),  ' per year to qualify.', sep='')"
   ]
  },
  {
   "cell_type": "code",
   "execution_count": 65,
   "metadata": {},
   "outputs": [
    {
     "name": "stdout",
     "output_type": "stream",
     "text": [
      "Enter your test score: 89\n",
      "Your grade is B.\n"
     ]
    }
   ],
   "source": [
    "# This program gets a numeric test score from the\n",
    "# user and displays the corresponding letter grade.\n",
    "\n",
    "# Get a test score from the user.\n",
    "score = int(input('Enter your test score: '))\n",
    " \n",
    "# Determine the grade.\n",
    "if score >= 90:\n",
    "    print('Your grade is A.')\n",
    "else:\n",
    "    if score >= 80:\n",
    "        print('Your grade is B.')\n",
    "    else:\n",
    "        if score >= 70:\n",
    "            print('Your grade is C.')\n",
    "        else:\n",
    "            if score >= 60:\n",
    "                print('Your grade is D.')\n",
    "            else:\n",
    "                print('Your grade is F.')"
   ]
  },
  {
   "cell_type": "code",
   "execution_count": 67,
   "metadata": {},
   "outputs": [
    {
     "name": "stdout",
     "output_type": "stream",
     "text": [
      "Enter your test score: 78\n",
      "Your grade is C.\n"
     ]
    }
   ],
   "source": [
    "score = int(input('Enter your test score: '))\n",
    " \n",
    "# Determine the grade.\n",
    "if score >= 90:\n",
    "    print('Your grade is A.')\n",
    "    \n",
    "elif score >= 80:\n",
    "        print('Your grade is B.')\n",
    "        \n",
    "elif score >= 70:\n",
    "        print('Your grade is C.')\n",
    "        \n",
    "elif score >= 60:\n",
    "        print('Your grade is D.')\n",
    "        \n",
    "else:\n",
    "        print('Your grade is F.')"
   ]
  },
  {
   "cell_type": "code",
   "execution_count": 68,
   "metadata": {},
   "outputs": [],
   "source": [
    "def grade(score):\n",
    "    if score >= 90:\n",
    "        return 'A'\n",
    "    elif score >= 80:   \n",
    "        return 'B'\n",
    "    elif score >= 70:  \n",
    "        return 'C'\n",
    "    elif score >= 60:\n",
    "        return 'D'\n",
    "    else:\n",
    "        return 'F'"
   ]
  },
  {
   "cell_type": "code",
   "execution_count": 69,
   "metadata": {},
   "outputs": [
    {
     "data": {
      "text/plain": [
       "'B'"
      ]
     },
     "execution_count": 69,
     "metadata": {},
     "output_type": "execute_result"
    }
   ],
   "source": [
    "mygrade=grade(88)\n",
    "mygrade"
   ]
  },
  {
   "cell_type": "code",
   "execution_count": 72,
   "metadata": {},
   "outputs": [
    {
     "name": "stdout",
     "output_type": "stream",
     "text": [
      "Enter your annual salary: 40000\n",
      "Enter the number of years employed: 4\n",
      "You qualify for the loan.\n"
     ]
    }
   ],
   "source": [
    "# This program determines whether a bank customer qualifies for a loan.\n",
    "\n",
    "min_salary = 30000.0  # The minimum annual salary\n",
    "min_years = 2         # The minimum years on the job\n",
    "\n",
    "salary = float(input('Enter your annual salary: '))\n",
    "years_on_job = int(input('Enter the number of years employed: '))\n",
    "\n",
    "if salary >= min_salary and years_on_job >= min_years:\n",
    "    print('You qualify for the loan.')\n",
    "else:\n",
    "    print('You do not qualify for this loan.')"
   ]
  },
  {
   "cell_type": "code",
   "execution_count": 73,
   "metadata": {},
   "outputs": [
    {
     "name": "stdout",
     "output_type": "stream",
     "text": [
      "Enter your annual salary: 20000\n",
      "Enter the number of years employed: 4\n",
      "You qualify for the loan.\n"
     ]
    }
   ],
   "source": [
    "# This program determines whether a bank customer qualifies for a loan.\n",
    "\n",
    "min_salary = 30000.0  \n",
    "min_years = 2         \n",
    "\n",
    "salary = float(input('Enter your annual salary: '))\n",
    "years_on_job = int(input('Enter the number of ' +\n",
    "                         'years employed: '))\n",
    "\n",
    "if salary >= min_salary or years_on_job >= min_years:\n",
    "    print('You qualify for the loan.')\n",
    "else:\n",
    "    print('You do not qualify for this loan.')"
   ]
  },
  {
   "cell_type": "code",
   "execution_count": 6,
   "metadata": {},
   "outputs": [
    {
     "name": "stdout",
     "output_type": "stream",
     "text": [
      "Enter your sales amount:30000\n",
      "You have not met your sales quota!\n"
     ]
    }
   ],
   "source": [
    "sales=int(input(\"Enter your sales amount:\"))\n",
    "\n",
    "if sales >= 50000.0:\n",
    "    sales_quota = True\n",
    "else:\n",
    "    sales_quota = False\n",
    "\n",
    "if sales_quota==True:\n",
    "    print('You have met your sales quota!')\n",
    "else :\n",
    "    print('You have not met your sales quota!')"
   ]
  },
  {
   "cell_type": "markdown",
   "metadata": {
    "heading_collapsed": true
   },
   "source": [
    "# loop"
   ]
  },
  {
   "cell_type": "code",
   "execution_count": 1,
   "metadata": {
    "hidden": true
   },
   "outputs": [
    {
     "name": "stdout",
     "output_type": "stream",
     "text": [
      "매출액을 입력하시요.: 10000\n",
      "인센티브 비율을 소숫점으로 입력하시요.: 0.2\n",
      "인센티브 금액은 2,000.00 원입니다.\n",
      "인센티브 계산을 계속하려면 y를 입력하시요.:y\n",
      "매출액을 입력하시요.: 20000\n",
      "인센티브 비율을 소숫점으로 입력하시요.: 0.2\n",
      "인센티브 금액은 4,000.00 원입니다.\n",
      "인센티브 계산을 계속하려면 y를 입력하시요.:n\n"
     ]
    }
   ],
   "source": [
    "# This program calculates sales commissions.\n",
    "# Create a variable to control the loop.\n",
    "keep_going = 'y'\n",
    "\n",
    "# Calculate a series of commissions.\n",
    "while keep_going == 'y':\n",
    "    sales = float(input('매출액을 입력하시요.: '))\n",
    "    comm_rate = float(input('인센티브 비율을 소숫점으로 입력하시요.: '))\n",
    "    commission = sales * comm_rate\n",
    "    print('인센티브 금액은', format(commission, ',.2f'),'원입니다.')  \n",
    "    keep_going = input('인센티브 계산을 계속하려면 y를 입력하시요.:' )"
   ]
  },
  {
   "cell_type": "code",
   "execution_count": 2,
   "metadata": {
    "hidden": true
   },
   "outputs": [
    {
     "name": "stdout",
     "output_type": "stream",
     "text": [
      "측정한 온도를 입력: 85\n",
      "온도가 너무 높음\n",
      "쿨링팬 작동 후 5분후에 다시 온도를 측정할 것\n",
      "재측정 온도 입력: 68\n",
      "온도가 적당함\n",
      "15분후 다시 점검바람\n"
     ]
    }
   ],
   "source": [
    "# This program assists a technician in the process of checking a substance's temperature.\n",
    "\n",
    "max_temp = 70\n",
    "temperature = float(input(\"측정한 온도를 입력: \"))\n",
    "\n",
    "while temperature > max_temp:\n",
    "    print('온도가 너무 높음')\n",
    "    print('쿨링팬 작동 후 5분후에 다시 온도를 측정할 것')\n",
    "    temperature = float(input('재측정 온도 입력: '))\n",
    "\n",
    "# Remind the user to check the temperature again in 15 minutes.\n",
    "print('온도가 적당함')\n",
    "print('15분후 다시 점검바람')"
   ]
  },
  {
   "cell_type": "code",
   "execution_count": 4,
   "metadata": {
    "hidden": true
   },
   "outputs": [
    {
     "name": "stdout",
     "output_type": "stream",
     "text": [
      "I will display the numbers 1 through 5.\n",
      "1\n",
      "2\n",
      "3\n",
      "4\n",
      "5\n"
     ]
    }
   ],
   "source": [
    "# This program demonstrates a simple for loop\n",
    "# that uses a list of numbers.\n",
    "\n",
    "print('I will display the numbers 1 through 5.')\n",
    "\n",
    "num_list=[1,2,3,4,5]\n",
    "for num in num_list:\n",
    "    print(num)"
   ]
  },
  {
   "cell_type": "code",
   "execution_count": 5,
   "metadata": {
    "hidden": true
   },
   "outputs": [
    {
     "name": "stdout",
     "output_type": "stream",
     "text": [
      "Winken\n",
      "Blinken\n",
      "Nod\n"
     ]
    }
   ],
   "source": [
    "# This program also demonstrates a simple for loop that uses a list of strings.\n",
    "\n",
    "for name in ['Winken', 'Blinken', 'Nod']:\n",
    "    print(name)"
   ]
  },
  {
   "cell_type": "code",
   "execution_count": 6,
   "metadata": {
    "hidden": true
   },
   "outputs": [
    {
     "name": "stdout",
     "output_type": "stream",
     "text": [
      "Enter the starting number: 3\n",
      "Enter the ending number: 7\n",
      "Number\tSquare\n",
      "--------------\n",
      "3 \t 9\n",
      "4 \t 16\n",
      "5 \t 25\n",
      "6 \t 36\n",
      "7 \t 49\n"
     ]
    }
   ],
   "source": [
    "start = int(input('Enter the starting number: '))\n",
    "end = int(input('Enter the ending number: '))\n",
    "print('Number\\tSquare')\n",
    "print('--------------')\n",
    "\n",
    "for number in range(start, end + 1):\n",
    "    square = number**2\n",
    "    print(number, '\\t', square)"
   ]
  },
  {
   "cell_type": "code",
   "execution_count": 7,
   "metadata": {
    "hidden": true
   },
   "outputs": [
    {
     "name": "stdout",
     "output_type": "stream",
     "text": [
      "This program calculates the sum of 5 numbers you will enter.\n",
      "Enter a number: 40\n",
      "Enter a number: 50\n",
      "Enter a number: 60\n",
      "Enter a number: 50\n",
      "Enter a number: 40\n",
      "The total is 240.0\n"
     ]
    }
   ],
   "source": [
    "max = 5   # The maximum number\n",
    "total = 0.0\n",
    "   \n",
    "print('This program calculates the sum of', max, 'numbers you will enter.')\n",
    "\n",
    "for counter in range(max):\n",
    "    number = int(input('Enter a number: '))\n",
    "    total = total + number\n",
    "\n",
    "print('The total is', total)"
   ]
  },
  {
   "cell_type": "code",
   "execution_count": 1,
   "metadata": {
    "hidden": true
   },
   "outputs": [
    {
     "name": "stdout",
     "output_type": "stream",
     "text": [
      "Lot number: 1\n",
      "Enter the property value: 100000\n",
      "Property tax: $650.00\n",
      "Lot number: 2\n",
      "Enter the property value: 200000\n",
      "Property tax: $1,300.00\n",
      "Lot number: 0\n"
     ]
    }
   ],
   "source": [
    "taxrate = 0.0065   \n",
    "\n",
    "lot = int(input('Lot number: '))\n",
    "\n",
    "while lot != 0:\n",
    "    value = float(input('Enter the property value: '))\n",
    "    tax = value * taxrate\n",
    "    print('Property tax: $', format(tax, ',.2f'), sep='')\n",
    "\n",
    "    lot = int(input('Lot number: '))"
   ]
  },
  {
   "cell_type": "code",
   "execution_count": 3,
   "metadata": {
    "hidden": true
   },
   "outputs": [
    {
     "name": "stdout",
     "output_type": "stream",
     "text": [
      "Enter the item's  cost: -100\n",
      "ERROR: the cost cannot be negative.\n",
      "Enter the correct cost :100\n",
      "Retail price: $ 250.00\n",
      "Do you have another item? (Enter y for yes): y\n",
      "Enter the item's  cost: 200\n",
      "Retail price: $ 500.00\n",
      "Do you have another item? (Enter y for yes): n\n"
     ]
    }
   ],
   "source": [
    "mark_up = 2.5  # The markup percentage\n",
    "another = 'y'  # Variable to control the loop.\n",
    "\n",
    "while another == 'y':\n",
    "    cost = float(input(\"Enter the item's  cost: \"))\n",
    "\n",
    "    while cost < 0:    # Validate the wholesale cost.\n",
    "        print('ERROR: the cost cannot be negative.')\n",
    "        cost = float(input('Enter the correct cost :'))\n",
    "\n",
    "    retail = cost * mark_up\n",
    "    print('Retail price: $', format(retail, ',.2f'))\n",
    "    \n",
    "    another = input('Do you have another item? ' + '(Enter y for yes): ')"
   ]
  },
  {
   "cell_type": "code",
   "execution_count": null,
   "metadata": {
    "hidden": true
   },
   "outputs": [],
   "source": []
  },
  {
   "cell_type": "code",
   "execution_count": null,
   "metadata": {
    "hidden": true
   },
   "outputs": [],
   "source": [
    "for hours in range(24):\n",
    "    for minutes in range(60):\n",
    "        for seconds in range(60):\n",
    "            print(hours, ':', minutes, ':', seconds)"
   ]
  },
  {
   "cell_type": "code",
   "execution_count": 6,
   "metadata": {
    "hidden": true
   },
   "outputs": [
    {
     "name": "stdout",
     "output_type": "stream",
     "text": [
      "How many students do you have? 3\n",
      "How many test scores per student? 2\n",
      "Student number 1\n",
      "-----------------\n",
      "Test number 1: 78\n",
      "Test number 2: 56\n",
      "The average for student number 1 is: 67.00\n",
      "Student number 2\n",
      "-----------------\n",
      "Test number 1: 88\n",
      "Test number 2: 79\n",
      "The average for student number 2 is: 83.50\n",
      "Student number 3\n",
      "-----------------\n",
      "Test number 1: 66\n",
      "Test number 2: 78\n",
      "The average for student number 3 is: 72.00\n"
     ]
    }
   ],
   "source": [
    "# This program calculates an average score of the test scores for a given number of students.\n",
    "\n",
    "num_students = int(input('How many students do you have? '))\n",
    "num_tests = int(input('How many test scores per student? '))\n",
    "\n",
    "for student in range(num_students):\n",
    "    total = 0.0\n",
    "    print('Student number', student + 1)\n",
    "    print('-----------------')\n",
    "    \n",
    "    for num in range(num_tests):\n",
    "        print('Test number', num + 1, end='')\n",
    "        score = float(input(': '))\n",
    "        total += score\n",
    "    average = total / num_tests\n",
    "    \n",
    "    print('The average for student number', student + 1,  'is:', format(average, '.2f'))"
   ]
  },
  {
   "cell_type": "code",
   "execution_count": 20,
   "metadata": {
    "hidden": true
   },
   "outputs": [
    {
     "name": "stdout",
     "output_type": "stream",
     "text": [
      "카드사용금액 입력:300000\n",
      "할부수수료율 입력:0.18\n",
      "할부개월수 입력:6\n",
      "회차 \t 기초원금 \t 월상환액 \t 수수료 상환원금 \t 기말원금\n",
      "-----------------------------------------------------------------------------\n",
      "1 \t 300,000 \t 54,500 \t 4,500 \t 50,000 \t 250,000\n",
      "2 \t 250,000 \t 53,750 \t 3,750 \t 50,000 \t 200,000\n",
      "3 \t 200,000 \t 53,000 \t 3,000 \t 50,000 \t 150,000\n",
      "4 \t 150,000 \t 52,250 \t 2,250 \t 50,000 \t 100,000\n",
      "5 \t 100,000 \t 51,500 \t 1,500 \t 50,000 \t 50,000\n",
      "6 \t 50,000 \t 50,750 \t 750 \t 50,000 \t 0\n"
     ]
    }
   ],
   "source": [
    "# 신용카드 할부 스케쥴\n",
    "\n",
    "def main():\n",
    "    \n",
    "    principal=int(input(\"카드사용금액 입력:\"))\n",
    "    rate=float(input(\"할부수수료율 입력:\"))\n",
    "    months=int(input(\"할부개월수 입력:\"))\n",
    "\n",
    "    principalpay=principal/(months)\n",
    "    print(\"회차\",\"\\t\" ,\"기초원금\",\"\\t\" ,\"월상환액\",\"\\t\" ,\"수수료\" ,\"상환원금\",\"\\t\" ,\"기말원금\")\n",
    "    print(\"-----------------------------------------------------------------------------\")\n",
    "    \n",
    "    begBal = principal\n",
    "\n",
    "    for num in range(1, months+1):\n",
    "        fee = begBal * (rate /12)\n",
    "        payment=principalpay+fee\n",
    "        endBal = begBal - principalpay\n",
    "        print(num,\"\\t\" , format(begBal, \",.0f\"), \"\\t\" ,format(payment, \",.0f\"),\"\\t\" , format(fee, \",.0f\"),\"\\t\" , \\\n",
    "        format(principalpay, \",.0f\"),\"\\t\" , format(endBal, \",.0f\"))\n",
    "        begBal = endBal\n",
    "    \n",
    "main()"
   ]
  },
  {
   "cell_type": "code",
   "execution_count": 36,
   "metadata": {
    "hidden": true
   },
   "outputs": [
    {
     "name": "stdout",
     "output_type": "stream",
     "text": [
      "회차 \t 기초원금 \t 월상환액 \t 수수료 상환원금 \t 기말원금\n",
      "-------------------------------------------------------------------------\n",
      "1 \t 500,000 \t 58,750 \t 8,750 \t 50,000 \t 450,000\n",
      "2 \t 450,000 \t 52,875 \t 7,875 \t 45,000 \t 405,000\n",
      "3 \t 405,000 \t 47,588 \t 7,087 \t 40,500 \t 364,500\n",
      "4 \t 364,500 \t 42,829 \t 6,379 \t 36,450 \t 328,050\n",
      "5 \t 328,050 \t 38,546 \t 5,741 \t 32,805 \t 295,245\n",
      "6 \t 295,245 \t 34,691 \t 5,167 \t 29,524 \t 265,720\n",
      "7 \t 265,720 \t 31,222 \t 4,650 \t 26,572 \t 239,148\n",
      "8 \t 239,148 \t 28,100 \t 4,185 \t 23,915 \t 215,234\n",
      "9 \t 215,234 \t 25,290 \t 3,767 \t 21,523 \t 193,710\n",
      "10 \t 193,710 \t 22,761 \t 3,390 \t 19,371 \t 174,339\n",
      "11 \t 174,339 \t 20,485 \t 3,051 \t 17,434 \t 156,905\n",
      "12 \t 156,905 \t 18,436 \t 2,746 \t 15,691 \t 141,215\n",
      "13 \t 141,215 \t 16,593 \t 2,471 \t 14,121 \t 127,093\n",
      "14 \t 127,093 \t 14,933 \t 2,224 \t 12,709 \t 114,384\n",
      "15 \t 114,384 \t 13,440 \t 2,002 \t 11,438 \t 102,946\n",
      "16 \t 102,946 \t 12,096 \t 1,802 \t 10,295 \t 92,651\n",
      "17 \t 92,651 \t 11,621 \t 1,621 \t 10,000 \t 82,651\n",
      "18 \t 82,651 \t 11,446 \t 1,446 \t 10,000 \t 72,651\n",
      "19 \t 72,651 \t 11,271 \t 1,271 \t 10,000 \t 62,651\n",
      "20 \t 62,651 \t 11,096 \t 1,096 \t 10,000 \t 52,651\n",
      "21 \t 52,651 \t 10,921 \t 921 \t 10,000 \t 42,651\n",
      "22 \t 42,651 \t 10,746 \t 746 \t 10,000 \t 32,651\n",
      "23 \t 32,651 \t 10,571 \t 571 \t 10,000 \t 22,651\n",
      "24 \t 22,651 \t 10,396 \t 396 \t 10,000 \t 12,651\n",
      "25 \t 12,651 \t 10,221 \t 221 \t 10,000 \t 2,651\n",
      "26 \t 2,651 \t 2,697 \t 46 \t 2,651 \t 0\n"
     ]
    }
   ],
   "source": [
    "# 신용카드 회전결제 스케쥴\n",
    "\n",
    "def main():\n",
    "    \n",
    "    principal=500000\n",
    "    rate=0.21\n",
    "    ratio=0.1\n",
    "    minimumpay=10000\n",
    "    \n",
    "    print(\"회차\", \"\\t\",\"기초원금\",\"\\t\" ,\"월상환액\",\"\\t\" ,\"수수료\" ,\"상환원금\",\"\\t\" ,\"기말원금\")\n",
    "    print(\"-------------------------------------------------------------------------\")\n",
    "    \n",
    "    begBal = principal\n",
    "    count=0\n",
    "\n",
    "    while begBal> 0:\n",
    "        count=count+1\n",
    "        principalpay=begBal*ratio\n",
    "        \n",
    "        if principalpay>minimumpay:\n",
    "            principalpay=principalpay\n",
    "        else:\n",
    "            principalpay=minimumpay\n",
    "        fee = begBal * (rate /12)\n",
    "        \n",
    "        if begBal<minimumpay:\n",
    "            principalpay=begBal\n",
    "            \n",
    "        endBal = begBal - principalpay\n",
    "        payment=principalpay+fee\n",
    "        \n",
    "        print(count,  \"\\t\", format(begBal, \",.0f\"), \"\\t\" ,format(payment, \",.0f\"),\"\\t\" , format(fee, \",.0f\"),\"\\t\" , \\\n",
    "        format(principalpay, \",.0f\"),\"\\t\" , format(endBal, \",.0f\"))\n",
    "        begBal = endBal\n",
    "    \n",
    "main()"
   ]
  },
  {
   "cell_type": "code",
   "execution_count": null,
   "metadata": {
    "hidden": true
   },
   "outputs": [],
   "source": []
  },
  {
   "cell_type": "markdown",
   "metadata": {
    "heading_collapsed": true
   },
   "source": [
    "# function"
   ]
  },
  {
   "cell_type": "code",
   "execution_count": 1,
   "metadata": {
    "hidden": true
   },
   "outputs": [
    {
     "name": "stdout",
     "output_type": "stream",
     "text": [
      "This program tells you how to disassemble an ACME laundry dryer.\n",
      "There are 4 steps in the process.\n",
      "Press Enter to see Step 1.\n",
      "Step 1: Unplug the dryer and move it away from the wall.\n",
      "Press Enter to see Step 2.\n",
      "Step 2: Remove the six screws from the back of the dryer.\n",
      "Press Enter to see Step 3.\n",
      "Step 3: Remove the back panel from the dryer.\n",
      "Press Enter to see Step 4.\n",
      "Step 4: Pull the top of the dryer straight up.\n"
     ]
    }
   ],
   "source": [
    "# This program displays step-by-step instructions for disassembling an Acme dryer.\n",
    "def main():\n",
    "    startup_message()\n",
    "    input('Press Enter to see Step 1.')\n",
    "    step1()\n",
    "    input('Press Enter to see Step 2.')\n",
    "    step2()\n",
    "    input('Press Enter to see Step 3.')\n",
    "    step3()\n",
    "    input('Press Enter to see Step 4.')\n",
    "    step4()\n",
    "\n",
    "def startup_message():\n",
    "    print('This program tells you how to disassemble an ACME laundry dryer.')\n",
    "    print('There are 4 steps in the process.')\n",
    "\n",
    "def step1():\n",
    "    print('Step 1: Unplug the dryer and move it away from the wall.')\n",
    "\n",
    "def step2():\n",
    "    print('Step 2: Remove the six screws from the back of the dryer.')\n",
    "\n",
    "def step3():\n",
    "    print('Step 3: Remove the back panel from the dryer.')\n",
    "\n",
    "def step4():\n",
    "    print('Step 4: Pull the top of the dryer straight up.')\n",
    "main()"
   ]
  },
  {
   "cell_type": "code",
   "execution_count": 2,
   "metadata": {
    "hidden": true
   },
   "outputs": [
    {
     "name": "stdout",
     "output_type": "stream",
     "text": [
      "The value is 99\n",
      "I am changing the value.\n",
      "Now the value is 0\n",
      "Back in main the value is 99\n"
     ]
    }
   ],
   "source": [
    "def main():\n",
    "    value = 99\n",
    "    print('The value is', value)\n",
    "    change_me(value)\n",
    "    print('Back in main the value is', value)\n",
    "\n",
    "def change_me(arg):\n",
    "    print('I am changing the value.')\n",
    "    arg = 0\n",
    "    print('Now the value is', arg)\n",
    "\n",
    "# Call the main  function.\n",
    "main()"
   ]
  },
  {
   "cell_type": "code",
   "execution_count": 9,
   "metadata": {
    "hidden": true
   },
   "outputs": [
    {
     "name": "stdout",
     "output_type": "stream",
     "text": [
      "이자율을 소숫점으로 입력: 0.02\n",
      "만기를 연으로 입력: 2\n",
      "저축원금 입력: 100\n",
      "세전원리금은 104.00 입니다\n"
     ]
    }
   ],
   "source": [
    "def main():\n",
    "    interest_rate = float(input('이자율을 소숫점으로 입력: '))\n",
    "    years = int(input('만기를 연으로 입력: '))\n",
    "    principal = int(input('저축원금 입력: '))\n",
    "    interest(principal, years, interest_rate)\n",
    "\n",
    "# 단리 정기예금 원리금과 이자 계산\n",
    "def interest(deposit, maturity, rate):\n",
    "    before_tax_sum = deposit * (1+rate *maturity)\n",
    "    print('세전원리금은', format(before_tax_sum, ',.2f'),  '입니다')\n",
    "\n",
    "# Call the main function.\n",
    "main()"
   ]
  },
  {
   "cell_type": "code",
   "execution_count": 8,
   "metadata": {
    "hidden": true
   },
   "outputs": [
    {
     "name": "stdout",
     "output_type": "stream",
     "text": [
      "세전원리금은 104.00 입니다\n"
     ]
    }
   ],
   "source": [
    "# This program demonstrates keyword arguments.\n",
    "def main():\n",
    "    interest(rate=0.02, maturity=2, deposit=100)\n",
    "\n",
    "# 단리 정기예금 원리금과 이자 계산\n",
    "def interest(deposit, maturity, rate):\n",
    "    before_tax_sum = deposit * (1+rate *maturity)\n",
    "    print('세전원리금은', format(before_tax_sum, ',.2f'),  '입니다')\n",
    "\n",
    "# Call the main function.\n",
    "main()"
   ]
  },
  {
   "cell_type": "code",
   "execution_count": 11,
   "metadata": {
    "hidden": true
   },
   "outputs": [],
   "source": [
    "import random"
   ]
  },
  {
   "cell_type": "code",
   "execution_count": null,
   "metadata": {
    "hidden": true
   },
   "outputs": [],
   "source": [
    "import math"
   ]
  },
  {
   "cell_type": "code",
   "execution_count": 12,
   "metadata": {
    "hidden": true
   },
   "outputs": [
    {
     "name": "stdout",
     "output_type": "stream",
     "text": [
      "74 5\n"
     ]
    }
   ],
   "source": [
    "import random\n",
    "random.seed(10)\n",
    "num1=random.randint(1,100)\n",
    "num2=random.randint(1,100)\n",
    "print(num1,num2)"
   ]
  },
  {
   "cell_type": "code",
   "execution_count": 13,
   "metadata": {
    "hidden": true
   },
   "outputs": [
    {
     "name": "stdout",
     "output_type": "stream",
     "text": [
      "74 5\n"
     ]
    }
   ],
   "source": [
    "import random\n",
    "random.seed(10)\n",
    "num1=random.randint(1,100)\n",
    "num2=random.randint(1,100)\n",
    "print(num1,num2)"
   ]
  },
  {
   "cell_type": "code",
   "execution_count": 14,
   "metadata": {
    "hidden": true
   },
   "outputs": [],
   "source": [
    "def sum(num1,num2):\n",
    "    result=num1+num2\n",
    "    return result"
   ]
  },
  {
   "cell_type": "code",
   "execution_count": 16,
   "metadata": {
    "hidden": true
   },
   "outputs": [
    {
     "data": {
      "text/plain": [
       "5"
      ]
     },
     "execution_count": 16,
     "metadata": {},
     "output_type": "execute_result"
    }
   ],
   "source": [
    "total=sum(2,3)\n",
    "total"
   ]
  },
  {
   "cell_type": "code",
   "execution_count": 1,
   "metadata": {
    "hidden": true
   },
   "outputs": [
    {
     "name": "stdout",
     "output_type": "stream",
     "text": [
      "원금 입력;1000000\n",
      "만기 년수 입력2\n",
      "세전 원리금; 1,035,000.00\n"
     ]
    }
   ],
   "source": [
    "# 만기별 이자율을 반영한 정기예금 원리금 계산\n",
    "\n",
    "def main():\n",
    "    principal=int(input(\"원금 입력;\"))\n",
    "    maturity = float(input('만기 년수 입력'))\n",
    "    rate = calc_rate(maturity)\n",
    "    before_tax_sum = principal *(1+rate*maturity) \n",
    "    print('세전 원리금; ', format(before_tax_sum, ',.2f'), sep='')\n",
    "\n",
    "def calc_rate(x):\n",
    "    if x < 0.25:\n",
    "        rate = 0.0135\n",
    "    elif x >= 0.25 and x < 0.5:\n",
    "        rate = 0.0145\n",
    "    elif x >= 0.5 and x < 1:\n",
    "        rate = 0.0155\n",
    "    elif x >=1  and x <2:\n",
    "        rate = 0.0165\n",
    "    elif x >=2  and x <3:\n",
    "        rate = 0.0175\n",
    "    else:\n",
    "        rate = 0.0185\n",
    "    return rate\n",
    "\n",
    "main()"
   ]
  },
  {
   "cell_type": "code",
   "execution_count": 27,
   "metadata": {
    "hidden": true
   },
   "outputs": [
    {
     "name": "stdout",
     "output_type": "stream",
     "text": [
      "Enter your name: 이고려\n",
      "My name is 이고려\n"
     ]
    }
   ],
   "source": [
    "myname=get_name()\n",
    "print('My name is',myname)\n",
    "\n",
    "def get_name():\n",
    "    name = input('Enter your name: ')\n",
    "    return name"
   ]
  },
  {
   "cell_type": "code",
   "execution_count": 29,
   "metadata": {
    "hidden": true
   },
   "outputs": [
    {
     "name": "stdout",
     "output_type": "stream",
     "text": [
      "Enter a number: 5\n",
      "The number is odd.\n"
     ]
    }
   ],
   "source": [
    "def main():\n",
    "    number = int(input('Enter a number: '))\n",
    "    if is_even(number):\n",
    "        print('The number is even.')\n",
    "    else:\n",
    "        print('The number is odd.')\n",
    "\n",
    "def is_even(number):\n",
    "    if (number % 2) == 0:\n",
    "        status = True\n",
    "    else:\n",
    "        status = False\n",
    "    return status\n",
    "\n",
    "main()"
   ]
  },
  {
   "cell_type": "code",
   "execution_count": 32,
   "metadata": {
    "hidden": true
   },
   "outputs": [],
   "source": [
    "def calc(num1,num2):\n",
    "    total=num1+num2\n",
    "    mul=num1*num2\n",
    "    return total,mul"
   ]
  },
  {
   "cell_type": "code",
   "execution_count": 35,
   "metadata": {
    "hidden": true
   },
   "outputs": [
    {
     "name": "stdout",
     "output_type": "stream",
     "text": [
      "9 20\n"
     ]
    }
   ],
   "source": [
    "total,mul=calc(4,5)\n",
    "print(total, mul)"
   ]
  },
  {
   "cell_type": "code",
   "execution_count": 36,
   "metadata": {
    "hidden": true
   },
   "outputs": [
    {
     "name": "stdout",
     "output_type": "stream",
     "text": [
      "(9, 20)\n"
     ]
    }
   ],
   "source": [
    "result=calc(4,5)\n",
    "print(result)"
   ]
  },
  {
   "cell_type": "code",
   "execution_count": 37,
   "metadata": {
    "hidden": true
   },
   "outputs": [
    {
     "name": "stdout",
     "output_type": "stream",
     "text": [
      "Enter the item's regular price: 800\n",
      "The sale price is $640.00\n"
     ]
    }
   ],
   "source": [
    "# This program calculates a retail item's sale price.\n",
    "\n",
    "# DISCOUNT_PERCENTAGE is used as a global constant for the discount percentage.\n",
    "DISCOUNT_PERCENTAGE = 0.20\n",
    "\n",
    "# The main function.\n",
    "def main():\n",
    "    reg_price = regular_price()\n",
    "    sale_price = reg_price - discount(reg_price)\n",
    "    print('The sale price is $', format(sale_price, ',.2f'), sep='')\n",
    "\n",
    "def regular_price():\n",
    "    price = float(input(\"Enter the item's regular price: \"))\n",
    "    return price\n",
    "\n",
    "def discount(x):\n",
    "    return x * DISCOUNT_PERCENTAGE\n",
    "\n",
    "# Call the main function.\n",
    "main()"
   ]
  },
  {
   "cell_type": "code",
   "execution_count": null,
   "metadata": {
    "hidden": true
   },
   "outputs": [],
   "source": [
    "# Mortgage amortization\n",
    "def main():\n",
    "    \n",
    "    principal=int(input(\"대출원금 입력:\"))\n",
    "    rate=float(input(\"이자율 입력:\"))\n",
    "    maturity=int(input(\"만기년수 입력:\"))\n",
    "\n",
    "    payment = (principal * (rate/12)) /(1 - (1 / (1 + (rate/12)) ** (maturity * 12)))\n",
    "    print(\"회차\",\"\\t\" ,\"기초원금\",\"\\t\" ,\"월상환액\",\"\\t\" ,\"이자\",\"\\t\" ,\"\\t\" ,\"상환원금\",\"\\t\" ,\"기말원금\")\n",
    "    print(\"-------------------------------------------------------------------------------\")\n",
    "    \n",
    "    begBal = principal\n",
    "\n",
    "    for num in range(1, maturity*12+1):\n",
    "        interest = begBal * (rate /12)\n",
    "        principalpay = payment - interest\n",
    "        endBal = begBal - principalpay\n",
    "\n",
    "        print(num,\"\\t\" , format(begBal, \",.0f\"), \"\\t\" ,format(payment, \",.0f\"),\"\\t\" , format(interest, \",.0f\"),\"\\t\" , \\\n",
    "        format(principalpay, \",.0f\"),\"\\t\" , format(endBal, \",.0f\"))\n",
    "        begBal = endBal\n",
    "    \n",
    "main()"
   ]
  },
  {
   "cell_type": "code",
   "execution_count": null,
   "metadata": {
    "hidden": true
   },
   "outputs": [],
   "source": []
  },
  {
   "cell_type": "markdown",
   "metadata": {
    "heading_collapsed": true
   },
   "source": [
    "# list and tuples"
   ]
  },
  {
   "cell_type": "code",
   "execution_count": 6,
   "metadata": {
    "hidden": true
   },
   "outputs": [
    {
     "data": {
      "text/plain": [
       "[2, 4, 6, 8, 10]"
      ]
     },
     "execution_count": 6,
     "metadata": {},
     "output_type": "execute_result"
    }
   ],
   "source": [
    "even_numbers = [2, 4, 6, 8, 10]\n",
    "even_numbers"
   ]
  },
  {
   "cell_type": "code",
   "execution_count": 7,
   "metadata": {
    "hidden": true
   },
   "outputs": [
    {
     "data": {
      "text/plain": [
       "6"
      ]
     },
     "execution_count": 7,
     "metadata": {},
     "output_type": "execute_result"
    }
   ],
   "source": [
    "num1=even_numbers[2]\n",
    "num1  # num1 is a number not a list."
   ]
  },
  {
   "cell_type": "code",
   "execution_count": 8,
   "metadata": {
    "hidden": true
   },
   "outputs": [
    {
     "data": {
      "text/plain": [
       "['Molly', 'Steven', 'Will', 'Alicia', 'Adriana']"
      ]
     },
     "execution_count": 8,
     "metadata": {},
     "output_type": "execute_result"
    }
   ],
   "source": [
    "names = ['Molly', 'Steven', 'Will', 'Alicia', 'Adriana']\n",
    "names"
   ]
  },
  {
   "cell_type": "code",
   "execution_count": 9,
   "metadata": {
    "hidden": true
   },
   "outputs": [
    {
     "data": {
      "text/plain": [
       "'Alicia'"
      ]
     },
     "execution_count": 9,
     "metadata": {},
     "output_type": "execute_result"
    }
   ],
   "source": [
    "name1=names[3]\n",
    "name1  #name1 is a string , not a list."
   ]
  },
  {
   "cell_type": "code",
   "execution_count": 38,
   "metadata": {
    "hidden": true
   },
   "outputs": [
    {
     "data": {
      "text/plain": [
       "[1, 2, 3, 1, 2, 3, 1, 2, 3]"
      ]
     },
     "execution_count": 38,
     "metadata": {},
     "output_type": "execute_result"
    }
   ],
   "source": [
    "numbers = [1, 2, 3] * 3 \n",
    "numbers"
   ]
  },
  {
   "cell_type": "code",
   "execution_count": 2,
   "metadata": {
    "hidden": true
   },
   "outputs": [
    {
     "name": "stdout",
     "output_type": "stream",
     "text": [
      "99\n",
      "100\n",
      "101\n",
      "102\n"
     ]
    }
   ],
   "source": [
    "numbers = [99, 100, 101, 102]\n",
    "for n in numbers:\n",
    "    print(n)"
   ]
  },
  {
   "cell_type": "code",
   "execution_count": 3,
   "metadata": {
    "hidden": true
   },
   "outputs": [
    {
     "data": {
      "text/plain": [
       "4"
      ]
     },
     "execution_count": 3,
     "metadata": {},
     "output_type": "execute_result"
    }
   ],
   "source": [
    "my_list = [10, 20, 30, 40]\n",
    "size = len(my_list)\n",
    "size"
   ]
  },
  {
   "cell_type": "code",
   "execution_count": 4,
   "metadata": {
    "hidden": true
   },
   "outputs": [
    {
     "name": "stdout",
     "output_type": "stream",
     "text": [
      "[1, 2, 3, 4, 5]\n",
      "[99, 2, 3, 4, 5]\n"
     ]
    }
   ],
   "source": [
    "numbers = [1, 2, 3, 4, 5]\n",
    "print(numbers)\n",
    "numbers[0] = 99\n",
    "print(numbers)"
   ]
  },
  {
   "cell_type": "code",
   "execution_count": 5,
   "metadata": {
    "hidden": true
   },
   "outputs": [
    {
     "data": {
      "text/plain": [
       "[1, 2, 3, 4, 5, 6, 7, 8]"
      ]
     },
     "execution_count": 5,
     "metadata": {},
     "output_type": "execute_result"
    }
   ],
   "source": [
    "list1 = [1, 2, 3, 4]\n",
    "list2 = [5, 6, 7, 8]\n",
    "list1 =list1+ list2\n",
    "list1"
   ]
  },
  {
   "cell_type": "code",
   "execution_count": 6,
   "metadata": {
    "hidden": true
   },
   "outputs": [
    {
     "name": "stdout",
     "output_type": "stream",
     "text": [
      "['Pizza', 'Burgers', 'Chips']\n",
      "Which item should I change? Chips\n",
      "Enter the new food: French Fries\n",
      "Here is the revised list:\n",
      "['Pizza', 'Burgers', 'French Fries']\n"
     ]
    }
   ],
   "source": [
    "# This program demonstrates how to get the\n",
    "# index of an item in a list and then replace\n",
    "# that item with a new item.\n",
    "\n",
    "def main():\n",
    "    food = ['Pizza', 'Burgers', 'Chips']\n",
    "    print(food)\n",
    "    item = input('Which item should I change? ')\n",
    "\n",
    "    try:\n",
    "        item_index = food.index(item)\n",
    "        new_item = input('Enter the new food: ')\n",
    "        food[item_index] = new_item\n",
    "        print('Here is the revised list:')\n",
    "        print(food)\n",
    "        \n",
    "    except ValueError:\n",
    "        print('That item was not found in the list.')\n",
    "\n",
    "# Call the main function.\n",
    "main()"
   ]
  },
  {
   "cell_type": "code",
   "execution_count": 8,
   "metadata": {
    "hidden": true
   },
   "outputs": [
    {
     "name": "stdout",
     "output_type": "stream",
     "text": [
      "Enter a number: 2\n",
      "Do you want to add another number?\n",
      "y = yes, anything else = no: y\n",
      "Enter a number: 4\n",
      "Do you want to add another number?\n",
      "y = yes, anything else = no: y\n",
      "Enter a number: 3\n",
      "Do you want to add another number?\n",
      "y = yes, anything else = no: y\n",
      "Enter a number: 6\n",
      "Do you want to add another number?\n",
      "y = yes, anything else = no: y\n",
      "Enter a number: 8\n",
      "Do you want to add another number?\n",
      "y = yes, anything else = no: u\n",
      "The numbers in the list are:\n",
      "[2, 4, 3, 6, 8]\n"
     ]
    }
   ],
   "source": [
    "# This program uses a function to create a list.\n",
    "# The function returns a reference to the list.\n",
    "\n",
    "def main():\n",
    "    numbers = get_values()\n",
    "    print('The numbers in the list are:')\n",
    "    print(numbers)\n",
    "\n",
    "def get_values():\n",
    "    values = []\n",
    "    again = 'Y'\n",
    "    while again.upper() == 'Y':\n",
    "        num = int(input('Enter a number: '))\n",
    "        values.append(num)\n",
    "        print('Do you want to add another number?')\n",
    "        again = input('y = yes, anything else = no: ')\n",
    "    return values\n",
    "\n",
    "main()"
   ]
  },
  {
   "cell_type": "code",
   "execution_count": 10,
   "metadata": {
    "hidden": true
   },
   "outputs": [],
   "source": [
    "scores = [[0, 0, 0],[0, 0, 0],[0, 0, 0]]"
   ]
  },
  {
   "cell_type": "code",
   "execution_count": 11,
   "metadata": {
    "hidden": true
   },
   "outputs": [],
   "source": [
    "# This program saves a list of strings to a file.\n",
    "\n",
    "def main():\n",
    "    cities = ['New York', 'Boston', 'Atlanta', 'Dallas']\n",
    "    outfile = open('cities.txt', 'w')\n",
    "    for item in cities:\n",
    "        outfile.write(item + '\\n')\n",
    "    outfile.close()\n",
    "\n",
    "main()"
   ]
  },
  {
   "cell_type": "code",
   "execution_count": 12,
   "metadata": {
    "hidden": true
   },
   "outputs": [
    {
     "name": "stdout",
     "output_type": "stream",
     "text": [
      "['New York', 'Boston', 'Atlanta', 'Dallas']\n"
     ]
    }
   ],
   "source": [
    "# This program reads a file's contents into a list.\n",
    "\n",
    "def main():\n",
    "    infile = open('cities.txt', 'r')\n",
    "    cities = infile.readlines()\n",
    "    infile.close()\n",
    "\n",
    "    # Strip the \\n from each element.\n",
    "    index = 0\n",
    "    while index < len(cities):\n",
    "        cities[index] = cities[index].rstrip('\\n')\n",
    "        index += 1\n",
    "    print(cities)\n",
    "\n",
    "main()"
   ]
  },
  {
   "cell_type": "code",
   "execution_count": 13,
   "metadata": {
    "hidden": true
   },
   "outputs": [],
   "source": [
    "# This program saves a list of numbers to a file.\n",
    "\n",
    "def main():\n",
    "    numbers = [1, 2, 3, 4, 5, 6, 7]\n",
    "    outfile = open('numberlist.txt', 'w')\n",
    "\n",
    "    for item in numbers:\n",
    "        outfile.write(str(item) + '\\n')\n",
    "    outfile.close()\n",
    "\n",
    "main()"
   ]
  },
  {
   "cell_type": "code",
   "execution_count": 14,
   "metadata": {
    "hidden": true
   },
   "outputs": [
    {
     "name": "stdout",
     "output_type": "stream",
     "text": [
      "['1\\n', '2\\n', '3\\n', '4\\n', '5\\n', '6\\n', '7\\n']\n"
     ]
    }
   ],
   "source": [
    "# This program reads numbers from a file into a list.\n",
    "\n",
    "def main():\n",
    "    infile = open('numberlist.txt', 'r')\n",
    "    numbers = infile.readlines()\n",
    "    infile.close()\n",
    "    print(numbers)\n",
    "main()"
   ]
  },
  {
   "cell_type": "code",
   "execution_count": 15,
   "metadata": {
    "hidden": true
   },
   "outputs": [
    {
     "name": "stdout",
     "output_type": "stream",
     "text": [
      "[1, 2, 3, 4, 5, 6, 7]\n"
     ]
    }
   ],
   "source": [
    "def main():\n",
    "    infile = open('numberlist.txt', 'r')\n",
    "    numbers = infile.readlines()\n",
    "    infile.close()\n",
    "    \n",
    "       # Convert each element to an int.\n",
    "    index = 0\n",
    "    while index < len(numbers):\n",
    "        numbers[index] = int(numbers[index])\n",
    "        index = index+1\n",
    "    print(numbers)\n",
    "main()"
   ]
  },
  {
   "cell_type": "code",
   "execution_count": 28,
   "metadata": {
    "hidden": true
   },
   "outputs": [
    {
     "data": {
      "image/png": "[encoded data removed]",
      "text/plain": [
       "<Figure size 432x288 with 1 Axes>"
      ]
     },
     "metadata": {
      "needs_background": "light"
     },
     "output_type": "display_data"
    }
   ],
   "source": [
    "# This program displays a simple line graph.\n",
    "import matplotlib.pyplot as plt\n",
    "\n",
    "def main():\n",
    "    xs = [0, 1, 2, 3, 4]\n",
    "    ys = [0, 3, 1, 5, 2]\n",
    "\n",
    "    plt.plot(xs, ys,color='b', marker='o')\n",
    "    plt.show()\n",
    "\n",
    "# Call the main function.\n",
    "main()"
   ]
  },
  {
   "cell_type": "code",
   "execution_count": 31,
   "metadata": {
    "hidden": true
   },
   "outputs": [],
   "source": [
    "%matplotlib tk\n",
    "import matplotlib.pyplot as plt\n",
    "\n",
    "def main():\n",
    "    x_coords = [0, 1, 2, 3, 4]\n",
    "    y_coords = [0, 3, 1, 5, 2]\n",
    "\n",
    "    plt.plot(x_coords, y_coords,color='b', marker='o',label=\"sales by year\")\n",
    "    plt.title('Sales by Year')\n",
    "    plt.xlabel('Year')\n",
    "    plt.ylabel('Sales')\n",
    "    plt.xlim(xmin=0, xmax=6)\n",
    "    plt.ylim(ymin=0, ymax=6)\n",
    "    plt.xticks([0, 1, 2, 3, 4],\n",
    "               ['2016', '2017', '2018', '2019', '2020'])\n",
    "    plt.yticks([0, 1, 2, 3, 4, 5],\n",
    "               ['$0m', '$1m', '$2m', '$3m', '$4m', '$5m'])\n",
    "    \n",
    "    plt.grid(True)\n",
    "    plt.legend(loc='upper left')\n",
    "    plt.show()\n",
    "main()"
   ]
  },
  {
   "cell_type": "code",
   "execution_count": null,
   "metadata": {
    "hidden": true
   },
   "outputs": [],
   "source": []
  },
  {
   "cell_type": "markdown",
   "metadata": {
    "heading_collapsed": true
   },
   "source": [
    "# class"
   ]
  },
  {
   "cell_type": "code",
   "execution_count": 32,
   "metadata": {
    "hidden": true
   },
   "outputs": [],
   "source": [
    "import import_ipynb\n",
    "from loan import *\n",
    "L1=Loan(0.05, 3,1000000)"
   ]
  },
  {
   "cell_type": "code",
   "execution_count": 34,
   "metadata": {
    "hidden": true
   },
   "outputs": [
    {
     "data": {
      "text/plain": [
       "29970.897104665546"
      ]
     },
     "execution_count": 34,
     "metadata": {},
     "output_type": "execute_result"
    }
   ],
   "source": [
    "payment=L1.monthlypay()\n",
    "payment"
   ]
  },
  {
   "cell_type": "code",
   "execution_count": 36,
   "metadata": {
    "hidden": true
   },
   "outputs": [],
   "source": [
    "import import_ipynb\n",
    "import loan\n",
    "L1=loan.Loan(0.05, 3,1000000)"
   ]
  },
  {
   "cell_type": "code",
   "execution_count": 37,
   "metadata": {
    "hidden": true
   },
   "outputs": [
    {
     "data": {
      "text/plain": [
       "29970.897104665546"
      ]
     },
     "execution_count": 37,
     "metadata": {},
     "output_type": "execute_result"
    }
   ],
   "source": [
    "payment=L1.monthlypay()\n",
    "payment"
   ]
  },
  {
   "cell_type": "code",
   "execution_count": 2,
   "metadata": {
    "hidden": true
   },
   "outputs": [
    {
     "name": "stdout",
     "output_type": "stream",
     "text": [
      "Enter your starting balance: 10000\n",
      "How much were you paid this week? 500\n",
      "You will deposit that into your account.\n",
      "New balance after deposit is: 10500.0\n",
      "How much would you like to withdraw? 200\n",
      "200.0 is withdrawn from your account.\n",
      "New balance after withdrawl is: 10700.0\n"
     ]
    }
   ],
   "source": [
    "class BankAccount:\n",
    "    \n",
    "    def __init__(self, bal):\n",
    "        self.balance = bal\n",
    "    def deposit(self, amount):\n",
    "        self.balance = self.balance+amount\n",
    "        return self.balance\n",
    "    def withdraw(self, amount):\n",
    "        if self.balance >= amount:\n",
    "            self.balance = self.balance-amount\n",
    "        else:\n",
    "            print('Error: Insufficient funds')\n",
    "        return self.balance\n",
    "\n",
    "def main():\n",
    "    start_bal = float(input('Enter your starting balance: '))\n",
    "    acc1 = BankAccount(start_bal)\n",
    "    pay = float(input('How much were you paid this week? '))\n",
    "    print('You will deposit that into your account.')\n",
    "    newbal=acc1.deposit(pay)\n",
    "    print('New balance after deposit is:', newbal)\n",
    "\n",
    "    cash = float(input('How much would you like to withdraw? '))\n",
    "    print(cash, 'is withdrawn from your account.')\n",
    "    newbal=acc1.deposit(cash)\n",
    "    print( 'New balance after withdrawl is:',newbal)\n",
    "main()"
   ]
  },
  {
   "cell_type": "code",
   "execution_count": null,
   "metadata": {
    "hidden": true
   },
   "outputs": [],
   "source": []
  },
  {
   "cell_type": "code",
   "execution_count": 1,
   "metadata": {
    "hidden": true
   },
   "outputs": [
    {
     "name": "stdout",
     "output_type": "stream",
     "text": [
      "연이자율 입력:0.06\n",
      "만기년수 입력:5\n",
      "원금 입력:30000000\n",
      "\n",
      "월상환금은 579,984 입니다.\n",
      "1회차이자는 150,000 입니다.\n",
      "1회차원금상환액은 429,984 입니다.\n",
      "상환후원금잔액은 29,850,000 입니다.\n",
      "총이자 부담액은 4,799,043 입니다.\n"
     ]
    }
   ],
   "source": [
    "class Loan:\n",
    "    \n",
    "    def __init__(self, rate,maturity, principal):\n",
    "        self.rate = rate\n",
    "        self.maturity = maturity\n",
    "        self.principal = principal\n",
    "    \n",
    "    def monthlypay(self):\n",
    "        payment = (self.principal * (self.rate/12)) /\\\n",
    "        (1 - (1 / (1 + (self.rate/12)) ** (self.maturity * 12)))\n",
    "        return payment\n",
    "    \n",
    "    def interest(self):\n",
    "        firstinterest= (self.principal * (self.rate/12)) \n",
    "        return firstinterest   \n",
    "   \n",
    "    def principalpay(self):\n",
    "        principalpay= self.monthlypay() -self.interest()\n",
    "        return principalpay\n",
    "    \n",
    "    def balance(self):\n",
    "        balance=self.principal-self.interest()\n",
    "        return balance\n",
    "    \n",
    "    def totalinterest(self):\n",
    "        totalinterest=self.monthlypay()*self.maturity*12-self.principal\n",
    "        return totalinterest\n",
    "\n",
    "def main():\n",
    "    \n",
    "    rate = float(input(\"연이자율 입력:\"))\n",
    "    maturity = int(input(\"만기년수 입력:\"))\n",
    "    principal = int(input(\"원금 입력:\"))\n",
    "\n",
    "    # 객체 생성\n",
    "    x = Loan(rate,maturity,principal)\n",
    "  \n",
    "    print()\n",
    "    print(\"월상환금은\", format(x.monthlypay(), ',.0f'), \"입니다.\")\n",
    "    print(\"1회차이자는\", format(x.interest(), ',.0f'), \"입니다.\")\n",
    "    print(\"1회차원금상환액은\", format(x.principalpay(), ',.0f'), \"입니다.\")\n",
    "    print(\"상환후원금잔액은\", format(x.balance(), ',.0f'), \"입니다.\")\n",
    "    print(\"총이자 부담액은\", format(x.totalinterest(), ',.0f'), \"입니다.\")\n",
    "\n",
    "main()"
   ]
  },
  {
   "cell_type": "markdown",
   "metadata": {
    "heading_collapsed": true
   },
   "source": [
    "# module import"
   ]
  },
  {
   "cell_type": "code",
   "execution_count": 39,
   "metadata": {
    "hidden": true
   },
   "outputs": [
    {
     "data": {
      "text/plain": [
       "2.302585092994046"
      ]
     },
     "execution_count": 39,
     "metadata": {},
     "output_type": "execute_result"
    }
   ],
   "source": [
    "import math\n",
    "a=math.log(10)\n",
    "a"
   ]
  },
  {
   "cell_type": "code",
   "execution_count": 40,
   "metadata": {
    "hidden": true
   },
   "outputs": [
    {
     "data": {
      "text/plain": [
       "4.605170185988092"
      ]
     },
     "execution_count": 40,
     "metadata": {},
     "output_type": "execute_result"
    }
   ],
   "source": [
    "import math as m\n",
    "b=m.log(100)\n",
    "b"
   ]
  },
  {
   "cell_type": "code",
   "execution_count": 41,
   "metadata": {
    "hidden": true
   },
   "outputs": [
    {
     "data": {
      "text/plain": [
       "6.907755278982137"
      ]
     },
     "execution_count": 41,
     "metadata": {},
     "output_type": "execute_result"
    }
   ],
   "source": [
    "from math import *\n",
    "c=log(1000)\n",
    "c"
   ]
  },
  {
   "cell_type": "code",
   "execution_count": 2,
   "metadata": {
    "hidden": true
   },
   "outputs": [
    {
     "name": "stdout",
     "output_type": "stream",
     "text": [
      "importing Jupyter notebook from circle.ipynb\n",
      "Circle area is: 12.57\n",
      "Circle circumference is: 12.57\n"
     ]
    }
   ],
   "source": [
    "import import_ipynb\n",
    "from circle import *\n",
    "r=2\n",
    "area=area(r)\n",
    "circum=circumference(r)\n",
    "print(\"Circle area is:\", format(area,\".2f\"))\n",
    "print(\"Circle circumference is:\", format(circum,\".2f\"))"
   ]
  },
  {
   "cell_type": "markdown",
   "metadata": {
    "heading_collapsed": true
   },
   "source": [
    "# ihheritance and polymorphism"
   ]
  },
  {
   "cell_type": "code",
   "execution_count": 51,
   "metadata": {
    "hidden": true
   },
   "outputs": [],
   "source": [
    "# The Automobile class holds general data about an automobile in inventory.\n",
    "\n",
    "class Automobile:\n",
    "    def __init__(self, make, model, mileage, price):\n",
    "        self.__make = make\n",
    "        self.__model = model\n",
    "        self.__mileage = mileage\n",
    "        self.__price = price\n",
    "\n",
    "    def set_make(self, make):\n",
    "        self.__make = make\n",
    "    def set_model(self, model):\n",
    "        self.__model = model\n",
    "    def set_mileage(self, mileage):\n",
    "        self.__mileage = mileage\n",
    "    def set_price(self, price):\n",
    "        self.__price = price\n",
    "\n",
    "    def get_make(self):\n",
    "        return self.__make\n",
    "    def get_model(self):\n",
    "        return self.__model\n",
    "    def get_mileage(self):\n",
    "        return self.__mileage\n",
    "    def get_price(self):\n",
    "        return self.__price\n",
    "\n",
    "class Car(Automobile):\n",
    "    def __init__(self, make, model, mileage, price, doors):\n",
    "        Automobile.__init__(self, make, model, mileage, price)\n",
    "        self.__doors = doors\n",
    "    def set_doors(self, doors):\n",
    "        self.__doors = doors\n",
    "    def get_doors(self):\n",
    "        return self.__doors\n",
    "\n",
    "class Truck(Automobile):\n",
    "    def __init__(self, make, model, mileage, price, drive_type):\n",
    "        Automobile.__init__(self, make, model, mileage, price)\n",
    "        self.__drive_type = drive_type\n",
    "    def set_drive_type(self, drive_type):\n",
    "        self.__drive_type = drive_type\n",
    "    def get_drive_type(self):\n",
    "        return self.__drive_type\n",
    "\n",
    "class SUV(Automobile):\n",
    "    def __init__(self, make, model, mileage, price, pass_cap):\n",
    "        Automobile.__init__(self, make, model, mileage, price)\n",
    "        self.__pass_cap = pass_cap\n",
    "    def set_pass_cap(self, pass_cap):\n",
    "        self.__pass_cap = pass_cap\n",
    "    def get_pass_cap(self):\n",
    "        return self.__pass_cap"
   ]
  },
  {
   "cell_type": "code",
   "execution_count": 9,
   "metadata": {
    "hidden": true
   },
   "outputs": [
    {
     "name": "stdout",
     "output_type": "stream",
     "text": [
      "USED PASSENGER CAR INVENTORY\n",
      "===================\n",
      "Make: Audi\n",
      "Model: 2007\n",
      "Mileage: 12500\n",
      "Price: 21500.0\n",
      "Number of doors: 4\n"
     ]
    }
   ],
   "source": [
    "# This program demonstrates the Car class.\n",
    "\n",
    "def main():\n",
    "    used_car = Car('Audi', 2007, 12500, 21500.00, 4)\n",
    "\n",
    "    # Display the car's data.\n",
    "    print('USED PASSENGER CAR INVENTORY')\n",
    "    print('===================')\n",
    "    print('Make:', used_car.get_make())\n",
    "    print('Model:', used_car.get_model())\n",
    "    print('Mileage:', used_car.get_mileage())\n",
    "    print('Price:', used_car.get_price())\n",
    "    print('Number of doors:', used_car.get_doors())\n",
    "\n",
    "# Call the main function.\n",
    "main()"
   ]
  },
  {
   "cell_type": "code",
   "execution_count": 10,
   "metadata": {
    "hidden": true
   },
   "outputs": [
    {
     "name": "stdout",
     "output_type": "stream",
     "text": [
      "USED CAR INVENTORY\n",
      "===================\n",
      "The following car is in inventory:\n",
      "Make: BMW\n",
      "Model: 2001\n",
      "Mileage: 70000\n",
      "Price: 15000.0\n",
      "Number of doors: 4\n",
      "\n",
      "The following pickup truck is in inventory.\n",
      "Make: Toyota\n",
      "Model: 2002\n",
      "Mileage: 40000\n",
      "Price: 12000.0\n",
      "Drive type: 4WD\n",
      "\n",
      "The following SUV is in inventory.\n",
      "Make: Volvo\n",
      "Model: 2000\n",
      "Mileage: 30000\n",
      "Price: 18500.0\n",
      "Passenger Capacity: 8\n"
     ]
    }
   ],
   "source": [
    "# This program creates a Car object, a Truck object, and an SUV object.\n",
    "\n",
    "def main():\n",
    "    car = Car('BMW', 2001, 70000, 15000.0, 4)\n",
    "    truck = Truck('Toyota', 2002, 40000, 12000.0, '4WD')\n",
    "    suv = SUV('Volvo', 2000, 30000, 18500.0, 8)\n",
    "\n",
    "    print('USED CAR INVENTORY')\n",
    "    print('===================')\n",
    "    \n",
    "    # Display the car's data.\n",
    "    print('The following car is in inventory:')\n",
    "    print('Make:', car.get_make())\n",
    "    print('Model:', car.get_model())\n",
    "    print('Mileage:', car.get_mileage())\n",
    "    print('Price:', car.get_price())\n",
    "    print('Number of doors:', car.get_doors())\n",
    "    print()\n",
    "    \n",
    "    # Display the truck's data.\n",
    "    print('The following pickup truck is in inventory.')\n",
    "    print('Make:', truck.get_make())\n",
    "    print('Model:', truck.get_model())\n",
    "    print('Mileage:', truck.get_mileage())\n",
    "    print('Price:', truck.get_price())\n",
    "    print('Drive type:', truck.get_drive_type())\n",
    "    print()\n",
    "    \n",
    "    # Display the SUV's data.\n",
    "    print('The following SUV is in inventory.')\n",
    "    print('Make:', suv.get_make())\n",
    "    print('Model:', suv.get_model())\n",
    "    print('Mileage:', suv.get_mileage())\n",
    "    print('Price:', suv.get_price())\n",
    "    print('Passenger Capacity:', suv.get_pass_cap())\n",
    "\n",
    "# Call the main function.\n",
    "main()"
   ]
  },
  {
   "cell_type": "code",
   "execution_count": 55,
   "metadata": {
    "hidden": true
   },
   "outputs": [],
   "source": [
    "class Loan:\n",
    "    \n",
    "    def __init__(self, rate,maturity, principal):\n",
    "        self.rate = rate\n",
    "        self.maturity = maturity\n",
    "        self.principal = principal\n",
    "    \n",
    "    def monthlypay(self):\n",
    "        monthlypay = (self.principal * (self.rate/12))/ \\\n",
    "        (1 - (1 / (1 + (self.rate/12)) ** (self.maturity * 12)))\n",
    "        return monthlypay\n",
    "    \n",
    "class Loan_1(Loan):\n",
    "    def __init__(self,rate,maturity, principal,borrower):\n",
    "        super().__init__(rate,maturity, principal)\n",
    "        self.borrower=borrower\n",
    "\n",
    "    def totalpay(self):\n",
    "        payment=super().monthlypay()\n",
    "        totalpay=payment*self.maturity*12\n",
    "        return totalpay\n",
    "    \n",
    "    def totalinterest(self):\n",
    "        total=self.totalpay()\n",
    "        totalinterest=total-self.principal\n",
    "        return totalinterest"
   ]
  },
  {
   "cell_type": "code",
   "execution_count": 57,
   "metadata": {
    "hidden": true
   },
   "outputs": [
    {
     "name": "stdout",
     "output_type": "stream",
     "text": [
      "차입자는 이고려 입니다.\n",
      "월상환액은 18,416.52 입니다.\n",
      "총상환액은 1,104,991.32 입니다.\n",
      "총이자금액은 104,991.32 입니다.\n"
     ]
    }
   ],
   "source": [
    "def main():\n",
    "    \n",
    "    x=Loan_1(0.04, 5,1000000,\"이고려\")\n",
    "    print(\"차입자는\", x.borrower,\"입니다.\")\n",
    "    print(\"월상환액은\", format(x.monthlypay(),',.2f'), \"입니다.\")\n",
    "    print(\"총상환액은\", format(x.totalpay(), ',.2f'), \"입니다.\")\n",
    "    print(\"총이자금액은\",format(x.totalinterest(),',.2f'), \"입니다.\")\n",
    "\n",
    "main()"
   ]
  },
  {
   "cell_type": "code",
   "execution_count": 62,
   "metadata": {
    "hidden": true
   },
   "outputs": [
    {
     "name": "stdout",
     "output_type": "stream",
     "text": [
      "할부개월수 입력: 10\n",
      "카드사용액입력: 1000000\n",
      "할부수수료율을 입력: 0.15\n",
      "잔존회차 입력: 3\n",
      "다음 결제일 총상환금은 103,750.00 원입니다.\n"
     ]
    }
   ],
   "source": [
    "class Creditcard:\n",
    "    \n",
    "    def __init__(self,months, amount):\n",
    "        self.months = months\n",
    "        self.amount = amount\n",
    "    \n",
    "    def monthlypay(self):\n",
    "        monthlypay = self.amount/self.months\n",
    "        return monthlypay\n",
    "    \n",
    "class Creditcard_1(Creditcard):\n",
    "    def __init__(self,months, amount,rate,remainingmonths):\n",
    "        super().__init__(months, amount)\n",
    "        self.rate = rate\n",
    "        self.remainingmonths=remainingmonths\n",
    "        \n",
    "    def monthlypay(self):\n",
    "        principal=super().monthlypay()\n",
    "        interest=principal*(self.remainingmonths)*(self.rate/12)\n",
    "        totalpay=principal+interest\n",
    "        return totalpay\n",
    "\n",
    "def main():\n",
    "    \n",
    "    months = int(input (\"할부개월수 입력: \"))\n",
    "    amount = int(input(\"카드사용액입력: \"))\n",
    "    rate = float(input( \"할부수수료율을 입력: \"))\n",
    "    remainingmonths = int(input( \"잔존회차 입력: \"))\n",
    "    y = Creditcard_1(months, amount,rate,remainingmonths)\n",
    "\n",
    "    if isinstance(y, Creditcard_1):\n",
    "        print(\"다음 결제일 총상환금은\", format(y.monthlypay(), ',.2f'), \"원입니다.\")\n",
    "    else:\n",
    "        print('wrong object')\n",
    "\n",
    "main() # Call the main function"
   ]
  },
  {
   "cell_type": "code",
   "execution_count": 7,
   "metadata": {
    "hidden": true
   },
   "outputs": [],
   "source": [
    "class Install:\n",
    "    \n",
    "    def __init__(self, rate,maturity, amount):\n",
    "        self.rate = rate\n",
    "        self.maturity = maturity\n",
    "        self.amount = amount\n",
    "    \n",
    "    def total(self):\n",
    "        before_tax_sum=(self.amount*(12*self.maturity)*(2+(12*self.maturity+1)*(self.rate/12)))/2\n",
    "        return before_tax_sum\n",
    "    \n",
    "class Install_sub(Install):\n",
    "    def __init__(self,rate,maturity, amount):\n",
    "        super().__init__(rate,maturity, amount)\n",
    "\n",
    "    def interest(self):\n",
    "        totalamount=super().total()\n",
    "        interest=totalamount-(self.amount*12*self.maturity)\n",
    "        return interest"
   ]
  },
  {
   "cell_type": "code",
   "execution_count": 10,
   "metadata": {
    "hidden": true
   },
   "outputs": [
    {
     "name": "stdout",
     "output_type": "stream",
     "text": [
      "18,832,500.0 832,500.0\n"
     ]
    }
   ],
   "source": [
    "install1=Install_sub(0.03,3,500000)\n",
    "세전원리금=install1.total()\n",
    "이자=install1.interest()\n",
    "print(format(세전원리금,',.1f'), format(이자, ',.1f'))"
   ]
  },
  {
   "cell_type": "code",
   "execution_count": null,
   "metadata": {
    "hidden": true
   },
   "outputs": [],
   "source": []
  },
  {
   "cell_type": "code",
   "execution_count": null,
   "metadata": {
    "hidden": true
   },
   "outputs": [],
   "source": []
  },
  {
   "cell_type": "markdown",
   "metadata": {
    "heading_collapsed": true
   },
   "source": [
    "# RECURSION"
   ]
  },
  {
   "cell_type": "code",
   "execution_count": 13,
   "metadata": {
    "hidden": true
   },
   "outputs": [
    {
     "name": "stdout",
     "output_type": "stream",
     "text": [
      "This is not a recursive function.\n"
     ]
    }
   ],
   "source": [
    "def main():\n",
    "    message(5)\n",
    "\n",
    "def message(times):\n",
    "    if times > 0:\n",
    "        print('This is not a recursive function.')\n",
    "\n",
    "# Call the main function.\n",
    "main()\n"
   ]
  },
  {
   "cell_type": "code",
   "execution_count": 14,
   "metadata": {
    "hidden": true
   },
   "outputs": [
    {
     "name": "stdout",
     "output_type": "stream",
     "text": [
      "This is a recursive function.\n",
      "This is a recursive function.\n",
      "This is a recursive function.\n"
     ]
    }
   ],
   "source": [
    "# This program has a recursive function.\n",
    "\n",
    "def main():\n",
    "    # By passing the argument 3 to the message\n",
    "    # function we are telling it to display the\n",
    "    # message five times.\n",
    "    message(3)\n",
    "\n",
    "def message(times):\n",
    "    if times > 0:\n",
    "        print('This is a recursive function.')\n",
    "        message(times - 1)\n",
    "\n",
    "# Call the main function.\n",
    "main()\n"
   ]
  },
  {
   "cell_type": "code",
   "execution_count": 26,
   "metadata": {
    "hidden": true
   },
   "outputs": [
    {
     "data": {
      "text/plain": [
       "3628800"
      ]
     },
     "execution_count": 26,
     "metadata": {},
     "output_type": "execute_result"
    }
   ],
   "source": [
    "# This program uses recursion to calculate the factorial of a number.\n",
    "\n",
    "def factorial(num):\n",
    "    if num == 0:\n",
    "        return 1\n",
    "    else:\n",
    "        return num * factorial(num - 1)\n",
    "    \n",
    "fact=factorial(10)\n",
    "fact"
   ]
  },
  {
   "cell_type": "code",
   "execution_count": 24,
   "metadata": {
    "hidden": true
   },
   "outputs": [
    {
     "name": "stdout",
     "output_type": "stream",
     "text": [
      "Enter a nonnegative integer: 3\n",
      "The factorial of 3 is 6\n"
     ]
    }
   ],
   "source": [
    "# This program uses recursion to calculate the factorial of a number.\n",
    "\n",
    "def main():\n",
    "    # Get a number from the user.\n",
    "    number = int(input('Enter a nonnegative integer: '))\n",
    "\n",
    "    # Get the factorial of the number.\n",
    "    fact = factorial(number)\n",
    "\n",
    "    # Display the factorial.\n",
    "    print('The factorial of', number, 'is', fact)\n",
    "\n",
    "# The factorial function uses recursion to\n",
    "# calculate the factorial of its argument,\n",
    "# which is assumed to be nonnegative.\n",
    "def factorial(num):\n",
    "    if num == 0:\n",
    "        return 1\n",
    "    else:\n",
    "        return num * factorial(num - 1)\n",
    "\n",
    "# Call the main function.\n",
    "main()"
   ]
  },
  {
   "cell_type": "code",
   "execution_count": 17,
   "metadata": {
    "hidden": true
   },
   "outputs": [
    {
     "name": "stdout",
     "output_type": "stream",
     "text": [
      "The sum of items 2 through 5 is 18\n"
     ]
    }
   ],
   "source": [
    "# This program demonstrates the range_sum function.\n",
    "\n",
    "def main():\n",
    "    # Create a list of numbers.\n",
    "    numbers = [1, 2, 3, 4, 5, 6, 7, 8, 9]\n",
    "\n",
    "    # Get the sum of the items at indexes 2\n",
    "    # through 5.\n",
    "    my_sum = range_sum(numbers, 2, 5)\n",
    "\n",
    "    # Display the sum.\n",
    "    print('The sum of items 2 through 5 is', my_sum)\n",
    "    \n",
    "# The range_sum function returns the sum of a specified\n",
    "# range of items in num_list. The start parameter\n",
    "# specifies the index of the starting item. The end\n",
    "# parameter specifies the index of the ending item.\n",
    "def range_sum(num_list, start, end):\n",
    "    if start > end:\n",
    "        return 0\n",
    "    else:\n",
    "        return num_list[start] + range_sum(num_list, start + 1, end)\n",
    "\n",
    "# Call the main function.\n",
    "main()"
   ]
  },
  {
   "cell_type": "code",
   "execution_count": null,
   "metadata": {
    "hidden": true
   },
   "outputs": [],
   "source": []
  },
  {
   "cell_type": "markdown",
   "metadata": {},
   "source": [
    "# numpy"
   ]
  },
  {
   "cell_type": "code",
   "execution_count": 15,
   "metadata": {},
   "outputs": [
    {
     "name": "stdout",
     "output_type": "stream",
     "text": [
      "연금액 입력:5000000\n",
      "이자율 입력:0.05\n",
      "연간 연금횟수 입력:12\n",
      "총 연금횟수 입력:240\n",
      "연금의 미래가치는 2,055,168,343 입니다\n"
     ]
    }
   ],
   "source": [
    "# annuity future value calculation\n",
    "# A=payment r=period rate n=number of total payments m=number of payments per year\n",
    "\n",
    "import numpy as np\n",
    "\n",
    "def main():\n",
    "    \n",
    "    A=int(input(\"연금액 입력:\"))\n",
    "    r=float(input(\"이자율 입력:\"))\n",
    "    m=int(input(\"연간 연금횟수 입력:\"))\n",
    "    n=int(input(\"총 연금횟수 입력:\"))\n",
    "\n",
    "    \n",
    "    CF=np.ones((1,n))*A\n",
    "    exponents=np.array(range(0,n))\n",
    "    fvfs=(1+r/m)**exponents\n",
    "    annuityfv=np.sum(CF*fvfs)\n",
    "    print(\"연금의 미래가치는\",format(annuityfv,\",.0f\"), \"입니다\")\n",
    "    \n",
    "main()"
   ]
  },
  {
   "cell_type": "code",
   "execution_count": null,
   "metadata": {},
   "outputs": [],
   "source": []
  },
  {
   "cell_type": "code",
   "execution_count": null,
   "metadata": {},
   "outputs": [],
   "source": []
  }
 ],
 "metadata": {
  "kernelspec": {
   "display_name": "Python 3",
   "language": "python",
   "name": "python3"
  },
  "language_info": {
   "codemirror_mode": {
    "name": "ipython",
    "version": 3
   },
   "file_extension": ".py",
   "mimetype": "text/x-python",
   "name": "python",
   "nbconvert_exporter": "python",
   "pygments_lexer": "ipython3",
   "version": "3.6.6"
  },
  "toc": {
   "base_numbering": 1,
   "nav_menu": {},
   "number_sections": true,
   "sideBar": true,
   "skip_h1_title": false,
   "title_cell": "Table of Contents",
   "title_sidebar": "Contents",
   "toc_cell": false,
   "toc_position": {},
   "toc_section_display": true,
   "toc_window_display": false
  },
  "varInspector": {
   "cols": {
    "lenName": 16,
    "lenType": 16,
    "lenVar": 40
   },
   "kernels_config": {
    "python": {
     "delete_cmd_postfix": "",
     "delete_cmd_prefix": "del ",
     "library": "var_list.py",
     "varRefreshCmd": "print(var_dic_list())"
    },
    "r": {
     "delete_cmd_postfix": ") ",
     "delete_cmd_prefix": "rm(",
     "library": "var_list.r",
     "varRefreshCmd": "cat(var_dic_list()) "
    }
   },
   "types_to_exclude": [
    "module",
    "function",
    "builtin_function_or_method",
    "instance",
    "_Feature"
   ],
   "window_display": false
  }
 },
 "nbformat": 4,
 "nbformat_minor": 2
}
