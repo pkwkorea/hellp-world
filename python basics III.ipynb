{
 "cells": [
  {
   "cell_type": "markdown",
   "metadata": {
    "heading_collapsed": true
   },
   "source": [
    "# files"
   ]
  },
  {
   "cell_type": "code",
   "execution_count": 99,
   "metadata": {
    "hidden": true
   },
   "outputs": [
    {
     "name": "stdout",
     "output_type": "stream",
     "text": [
      "text file exists\n"
     ]
    }
   ],
   "source": [
    "import os.path\n",
    "if os.path.isfile(\"coffee.txt\"):\n",
    "    print(\"text file exists\")\n",
    "else:\n",
    "    print(\"text file does not exist\")"
   ]
  },
  {
   "cell_type": "code",
   "execution_count": 65,
   "metadata": {
    "hidden": true
   },
   "outputs": [],
   "source": [
    "def main():\n",
    "    # Open a file named philosophers.txt.\n",
    "    outfile = open('philosophers.txt', 'w')\n",
    "\n",
    "    # Write the names of three philosphers to the file.\n",
    "    outfile.write('John Locke\\n')\n",
    "    outfile.write('David Hume\\n')\n",
    "    outfile.write('Edmund Burke\\n')\n",
    "\n",
    "    # Close the file.\n",
    "    outfile.close()\n",
    "\n",
    "main()"
   ]
  },
  {
   "cell_type": "code",
   "execution_count": 66,
   "metadata": {
    "hidden": true
   },
   "outputs": [
    {
     "name": "stdout",
     "output_type": "stream",
     "text": [
      "John Locke\n",
      "David Hume\n",
      "Edmund Burke\n",
      "\n"
     ]
    }
   ],
   "source": [
    "def main():\n",
    "    # Open a file named philosophers.txt.\n",
    "    infile = open('philosophers.txt', 'r')\n",
    "    # Read the file's contents.\n",
    "    file_contents = infile.read()\n",
    "    # Close the file.\n",
    "    infile.close()\n",
    "    # Print the data that was read into\n",
    "    # memory.\n",
    "    print(file_contents)\n",
    "\n",
    "# Call the main function.\n",
    "main()"
   ]
  },
  {
   "cell_type": "code",
   "execution_count": 4,
   "metadata": {
    "hidden": true
   },
   "outputs": [
    {
     "name": "stdout",
     "output_type": "stream",
     "text": [
      "John Locke\n",
      "\n",
      "David Hume\n",
      "\n",
      "Edmund Burke\n",
      "\n"
     ]
    }
   ],
   "source": [
    "def main():\n",
    "    # Open a file named philosophers.txt.\n",
    "    infile = open('philosophers.txt', 'r')\n",
    "    # Read three lines from the file\n",
    "    line1 = infile.readline()\n",
    "    line2 = infile.readline()\n",
    "    line3 = infile.readline()\n",
    "    # Close the file.\n",
    "    infile.close()\n",
    "    # Print the data that was read into memory.\n",
    "    print(line1)\n",
    "    print(line2)\n",
    "    print(line3)\n",
    "\n",
    "# Call the main function.\n",
    "main()\n"
   ]
  },
  {
   "cell_type": "code",
   "execution_count": 46,
   "metadata": {
    "hidden": true
   },
   "outputs": [
    {
     "name": "stdout",
     "output_type": "stream",
     "text": [
      "Enter the names of three friends.\n",
      "Friend #1: minho kim\n",
      "Friend #2: junho lee\n",
      "Friend #3: jane park\n"
     ]
    }
   ],
   "source": [
    "def main():\n",
    "    print('Enter the names of three friends.')\n",
    "    name1 = input('Friend #1: ')\n",
    "    name2 = input('Friend #2: ')\n",
    "    name3 = input('Friend #3: ')\n",
    "    \n",
    "    myfile = open('friends.txt', 'w')\n",
    "\n",
    "    # Write the names to the file.\n",
    "    myfile.write(name1 + '\\n')\n",
    "    myfile.write(name2 + '\\n')\n",
    "    myfile.write(name3 + '\\n')\n",
    "\n",
    "    # Close the file.\n",
    "    myfile.close()\n",
    "\n",
    "main()"
   ]
  },
  {
   "cell_type": "code",
   "execution_count": 6,
   "metadata": {
    "hidden": true
   },
   "outputs": [
    {
     "name": "stdout",
     "output_type": "stream",
     "text": [
      "John Locke\n",
      "David Hume\n",
      "Edmund Burke\n"
     ]
    }
   ],
   "source": [
    "def main():\n",
    "    infile = open('philosophers.txt', 'r')\n",
    "\n",
    "    line1 = infile.readline()\n",
    "    line2 = infile.readline()\n",
    "    line3 = infile.readline()\n",
    "\n",
    "    line1 = line1.rstrip('\\n')\n",
    "    line2 = line2.rstrip('\\n')\n",
    "    line3 = line3.rstrip('\\n')\n",
    "\n",
    "    infile.close()\n",
    "    \n",
    "    print(line1)\n",
    "    print(line2)\n",
    "    print(line3)\n",
    "\n",
    "# Call the main function.\n",
    "main()"
   ]
  },
  {
   "cell_type": "code",
   "execution_count": 47,
   "metadata": {
    "hidden": true
   },
   "outputs": [],
   "source": [
    "def main():\n",
    "    myfile = open('friends.txt', 'a')\n",
    "    myfile.write('Matt\\n')\n",
    "    myfile.write('Chris\\n')\n",
    "    myfile.write('Suze\\n')\n",
    "    myfile.close()\n",
    "    \n",
    "main()"
   ]
  },
  {
   "cell_type": "code",
   "execution_count": 49,
   "metadata": {
    "hidden": true
   },
   "outputs": [
    {
     "name": "stdout",
     "output_type": "stream",
     "text": [
      "Enter a number: 33\n",
      "Enter another number: 44\n",
      "Enter another number: 55\n"
     ]
    }
   ],
   "source": [
    "def main():\n",
    "    outfile = open('numbers.txt', 'w')\n",
    "    num1 = int(input('Enter a number: '))\n",
    "    num2 = int(input('Enter another number: '))\n",
    "    num3 = int(input('Enter another number: '))\n",
    "\n",
    "    outfile.write(str(num1) + '\\n')\n",
    "    outfile.write(str(num2) + '\\n')\n",
    "    outfile.write(str(num3) + '\\n')\n",
    "\n",
    "    outfile.close()\n",
    "\n",
    "main()"
   ]
  },
  {
   "cell_type": "code",
   "execution_count": 8,
   "metadata": {
    "hidden": true
   },
   "outputs": [
    {
     "name": "stdout",
     "output_type": "stream",
     "text": [
      "The numbers are: 34 46 24\n",
      "Their total is: 104\n"
     ]
    }
   ],
   "source": [
    "def main():\n",
    "    infile = open('numbers.txt', 'r')\n",
    "    num1 = int(infile.readline())\n",
    "    num2 = int(infile.readline())\n",
    "    num3 = int(infile.readline())\n",
    "    infile.close()\n",
    "\n",
    "    total = num1 + num2 + num3\n",
    "    print('The numbers are:', num1, num2, num3)\n",
    "    print('Their total is:', total)\n",
    "\n",
    "main()"
   ]
  },
  {
   "cell_type": "code",
   "execution_count": 51,
   "metadata": {
    "hidden": true
   },
   "outputs": [
    {
     "name": "stdout",
     "output_type": "stream",
     "text": [
      "For how many days do you have sales? 3\n",
      "Enter the sales for day #1: 10\n",
      "Enter the sales for day #2: 20\n",
      "Enter the sales for day #3: 30\n"
     ]
    }
   ],
   "source": [
    "def main():\n",
    "    num_days = int(input('For how many days do '+ 'you have sales? '))\n",
    "    sales_file = open('sales.txt', 'w')\n",
    "\n",
    "    for count in range(1, num_days + 1):\n",
    "        sales = float(input('Enter the sales for day #' +  str(count) + ': '))\n",
    "        sales_file.write(str(sales) + '\\n')\n",
    "\n",
    "    sales_file.close()\n",
    "    \n",
    "main()"
   ]
  },
  {
   "cell_type": "code",
   "execution_count": 52,
   "metadata": {
    "hidden": true
   },
   "outputs": [
    {
     "name": "stdout",
     "output_type": "stream",
     "text": [
      "10.00\n",
      "20.00\n",
      "30.00\n"
     ]
    }
   ],
   "source": [
    "def main():\n",
    "    sales_file = open('sales.txt', 'r')\n",
    "    line = sales_file.readline()\n",
    "\n",
    "    while line != '':\n",
    "        amount = float(line)\n",
    "        print(format(amount, '.2f'))\n",
    "        line = sales_file.readline()\n",
    "        \n",
    "    sales_file.close()\n",
    "\n",
    "main()\n"
   ]
  },
  {
   "cell_type": "code",
   "execution_count": 53,
   "metadata": {
    "hidden": true
   },
   "outputs": [
    {
     "name": "stdout",
     "output_type": "stream",
     "text": [
      "10.00\n",
      "20.00\n",
      "30.00\n"
     ]
    }
   ],
   "source": [
    "def main():\n",
    "    sales_file = open('sales.txt', 'r')\n",
    "\n",
    "    for line in sales_file:\n",
    "        amount = float(line)\n",
    "        print(format(amount, '.2f'))\n",
    "        \n",
    "    sales_file.close()\n",
    "\n",
    "main()\n"
   ]
  },
  {
   "cell_type": "code",
   "execution_count": 121,
   "metadata": {
    "hidden": true
   },
   "outputs": [
    {
     "name": "stdout",
     "output_type": "stream",
     "text": [
      "1.00\n",
      "2.00\n"
     ]
    }
   ],
   "source": [
    "def main():\n",
    "    sales_file = open('sales.txt', 'r')\n",
    "\n",
    "    for line in range(1,3):\n",
    "        amount = float(line)\n",
    "        print(format(amount, '.2f'))\n",
    "        \n",
    "    sales_file.close()\n",
    "\n",
    "main()"
   ]
  },
  {
   "cell_type": "code",
   "execution_count": 20,
   "metadata": {
    "hidden": true
   },
   "outputs": [
    {
     "name": "stdout",
     "output_type": "stream",
     "text": [
      "How many videos are in the project? 3\n",
      "Enter the running times for each video.\n",
      "Video #1: 78\n",
      "Video #2: 66\n",
      "Video #3: 88\n",
      "The times have been saved to video_times.txt.\n"
     ]
    }
   ],
   "source": [
    "def main():\n",
    "    num_videos = int(input('How many videos are in the project? '))\n",
    "    video_file = open('video_times.txt', 'w')\n",
    "\n",
    "    print('Enter the running times for each video.')\n",
    "    for count in range(1, num_videos + 1):\n",
    "        run_time = float(input('Video #' + str(count) + ': '))\n",
    "        video_file.write(str(run_time) + '\\n')\n",
    "\n",
    "    video_file.close()\n",
    "\n",
    "main()"
   ]
  },
  {
   "cell_type": "code",
   "execution_count": 21,
   "metadata": {
    "hidden": true
   },
   "outputs": [
    {
     "name": "stdout",
     "output_type": "stream",
     "text": [
      "Here are the running times for each video:\n",
      "Video #1: 78.0\n",
      "Video #2: 66.0\n",
      "Video #3: 88.0\n",
      "The total running time is 232.0 seconds.\n"
     ]
    }
   ],
   "source": [
    "def main():\n",
    "    video_file = open('video_times.txt', 'r')\n",
    "    total = 0.0\n",
    "    count = 0\n",
    "    print('Here are the running times for each video:')\n",
    "    \n",
    "    for line in video_file:\n",
    "        run_time = float(line)\n",
    "        count += 1\n",
    "        print('Video #', count, ': ', run_time, sep='')\n",
    "        total += run_time\n",
    "\n",
    "    video_file.close()\n",
    "\n",
    "    print('The total running time is', total, 'seconds.')\n",
    "\n",
    "main()"
   ]
  },
  {
   "cell_type": "code",
   "execution_count": 54,
   "metadata": {
    "hidden": true
   },
   "outputs": [
    {
     "name": "stdout",
     "output_type": "stream",
     "text": [
      "How many employee records do you want to create? 3\n",
      "Enter data for employee #1\n",
      "Name: minho lee\n",
      "ID number: 10\n",
      "Department: marketing\n",
      "Enter data for employee #2\n",
      "Name: junho park\n",
      "ID number: 20\n",
      "Department: planning\n",
      "Enter data for employee #3\n",
      "Name: Jane kim\n",
      "ID number: 30\n",
      "Department: accounting\n"
     ]
    }
   ],
   "source": [
    "def main():\n",
    "    # Get the number of employee records to create.\n",
    "    num_emps = int(input('How many employee records do you want to create? '))\n",
    "    emp_file = open('employees.txt', 'w')\n",
    "\n",
    "    for count in range(1, num_emps + 1):\n",
    "        print('Enter data for employee #', count, sep='')\n",
    "        name = input('Name: ')\n",
    "        id_num = input('ID number: ')\n",
    "        dept = input('Department: ')\n",
    "        emp_file.write(name + '\\n')\n",
    "        emp_file.write(id_num + '\\n')\n",
    "        emp_file.write(dept + '\\n')\n",
    "\n",
    "    emp_file.close()\n",
    "\n",
    "main()"
   ]
  },
  {
   "cell_type": "code",
   "execution_count": 55,
   "metadata": {
    "hidden": true
   },
   "outputs": [
    {
     "name": "stdout",
     "output_type": "stream",
     "text": [
      "Name: minho lee\n",
      "ID: 10\n",
      "Dept: marketing\n",
      "\n",
      "Name: junho park\n",
      "ID: 20\n",
      "Dept: planning\n",
      "\n",
      "Name: Jane kim\n",
      "ID: 30\n",
      "Dept: accounting\n",
      "\n"
     ]
    }
   ],
   "source": [
    "def main():\n",
    "    emp_file = open('employees.txt', 'r')\n",
    "    name = emp_file.readline()\n",
    "\n",
    "    while name != '':\n",
    "        id_num = emp_file.readline()\n",
    "        dept = emp_file.readline()\n",
    "        name = name.rstrip('\\n')\n",
    "        id_num = id_num.rstrip('\\n')\n",
    "        dept = dept.rstrip('\\n')\n",
    "\n",
    "        print('Name:', name)\n",
    "        print('ID:', id_num)\n",
    "        print('Dept:', dept)\n",
    "        print()\n",
    "\n",
    "        # Read the name field of the next record.\n",
    "        name = emp_file.readline()\n",
    "\n",
    "    emp_file.close()\n",
    "\n",
    "main()"
   ]
  },
  {
   "cell_type": "code",
   "execution_count": 83,
   "metadata": {
    "hidden": true
   },
   "outputs": [
    {
     "name": "stdout",
     "output_type": "stream",
     "text": [
      "How many recores do you want to create? 3\n",
      "Enter data for coffee brand #1\n",
      "Brand: brazil\n",
      "Quantity: 20\n",
      "Enter data for coffee brand #2\n",
      "Brand: mexico\n",
      "Quantity: 30\n",
      "Enter data for coffee brand #3\n",
      "Brand: vietnam\n",
      "Quantity: 50\n"
     ]
    }
   ],
   "source": [
    "def main():\n",
    "    num_coffee = int(input('How many recores do you want to create? '))\n",
    "    coffee_file = open('coffee.txt', 'w')\n",
    "\n",
    "    for coffee in range(1, num_coffee + 1):\n",
    "        print('Enter data for coffee brand #', coffee, sep='')\n",
    "        brand = input('Brand: ')\n",
    "        quant = int(input('Quantity: '))\n",
    "        coffee_file.write(brand + '\\n')\n",
    "        coffee_file.write(str(quant) + '\\n')\n",
    "\n",
    "    coffee_file.close()\n",
    "\n",
    "main()"
   ]
  },
  {
   "cell_type": "code",
   "execution_count": 108,
   "metadata": {
    "hidden": true
   },
   "outputs": [
    {
     "name": "stdout",
     "output_type": "stream",
     "text": [
      "Enter the following coffee data:\n",
      "Brand: chile\n",
      "Quantity : 33\n",
      "Do you want to add another record?\n",
      "Y = yes, anything else = no: n\n"
     ]
    }
   ],
   "source": [
    "def main():\n",
    "    another = 'y'\n",
    "    coffee_file = open('coffee.txt', 'a')\n",
    "\n",
    "    while another == 'y' or another == 'Y':\n",
    "        print('Enter the following coffee data:')\n",
    "        brand = input('Brand: ')\n",
    "        Quant = int(input('Quantity : '))\n",
    "\n",
    "        # Append the data to the file.\n",
    "        coffee_file.write(brand + '\\n')\n",
    "        coffee_file.write(str(Quant) + '\\n')\n",
    "\n",
    "        print('Do you want to add another record?')\n",
    "        another = input('Y = yes, anything else = no: ')\n",
    "\n",
    "    coffee_file.close()\n",
    "\n",
    "main()"
   ]
  },
  {
   "cell_type": "code",
   "execution_count": 109,
   "metadata": {
    "hidden": true
   },
   "outputs": [
    {
     "name": "stdout",
     "output_type": "stream",
     "text": [
      "Brand: brazil\n",
      "Quantity: 20.0\n",
      "Brand: mexico\n",
      "Quantity: 30.0\n",
      "Brand: vietnam\n",
      "Quantity: 50.0\n",
      "Brand: chile\n",
      "Quantity: 33.0\n"
     ]
    }
   ],
   "source": [
    "def main():\n",
    "    coffee_file = open('coffee.txt', 'r')\n",
    "    # Read the first line of the file.\n",
    "    descr = coffee_file.readline()\n",
    "\n",
    "    # Read the rest of the file.\n",
    "    while descr != '':\n",
    "        qty = float(coffee_file.readline())\n",
    "        descr = descr.rstrip('\\n')\n",
    "        print('Brand:', descr)\n",
    "        print('Quantity:', qty)\n",
    "        # Read the next description.\n",
    "        descr = coffee_file.readline()\n",
    "\n",
    "    coffee_file.close()\n",
    "\n",
    "main()"
   ]
  },
  {
   "cell_type": "code",
   "execution_count": 110,
   "metadata": {
    "hidden": true
   },
   "outputs": [
    {
     "name": "stdout",
     "output_type": "stream",
     "text": [
      "Enter a brand to search for: chile\n",
      "Brand: chile\n",
      "Quantity: 33.0\n"
     ]
    }
   ],
   "source": [
    "def main():\n",
    "    found = False\n",
    "    search = input('Enter a brand to search for: ')\n",
    "    coffee_file = open('coffee.txt', 'r')\n",
    "    descr = coffee_file.readline()\n",
    "\n",
    "    while descr != '':\n",
    "        qty = float(coffee_file.readline())\n",
    "        descr = descr.rstrip('\\n')\n",
    "        if descr == search:\n",
    "            print('Brand:', descr)\n",
    "            print('Quantity:', qty)\n",
    "            found = True\n",
    "        descr = coffee_file.readline()\n",
    "\n",
    "    coffee_file.close()\n",
    "\n",
    "    if not found:\n",
    "        print('That item was not found in the file.')\n",
    "\n",
    "main()"
   ]
  },
  {
   "cell_type": "code",
   "execution_count": 111,
   "metadata": {
    "hidden": true
   },
   "outputs": [
    {
     "name": "stdout",
     "output_type": "stream",
     "text": [
      "Enter a brand to modify: chile\n",
      "Enter the new quantity: 25\n"
     ]
    }
   ],
   "source": [
    "import os, shutil  # Needed for the remove and rename functions\n",
    "\n",
    "def main():\n",
    "    found = False\n",
    "    search = input('Enter a brand to modify: ')\n",
    "    new_qty = int(input('Enter the new quantity: '))\n",
    "    coffee_file = open('coffee.txt', 'r')\n",
    "    temp_file = open('temp.txt', 'w')\n",
    "    descr = coffee_file.readline()\n",
    "\n",
    "    while descr != '':\n",
    "        qty = float(coffee_file.readline())\n",
    "        descr = descr.rstrip('\\n')\n",
    "        if descr == search:\n",
    "            temp_file.write(descr + '\\n')\n",
    "            temp_file.write(str(new_qty) + '\\n')\n",
    "            found = True\n",
    "        else:\n",
    "            temp_file.write(descr + '\\n')\n",
    "            temp_file.write(str(qty) + '\\n')\n",
    "        descr = coffee_file.readline()\n",
    "    coffee_file.close()\n",
    "    temp_file.close()\n",
    "    os.remove('coffee.txt')\n",
    "    shutil.move('temp.txt', 'coffee.txt')\n",
    "\n",
    "    if not found:\n",
    "        print('That item was not found in the file.')\n",
    "main()\n"
   ]
  },
  {
   "cell_type": "code",
   "execution_count": 112,
   "metadata": {
    "hidden": true
   },
   "outputs": [
    {
     "name": "stdout",
     "output_type": "stream",
     "text": [
      "Which coffee brand do you want to delete? chile\n"
     ]
    }
   ],
   "source": [
    "import os,shutil\n",
    "def main():\n",
    "    found = False\n",
    "    search = input('Which coffee brand do you want to delete? ')\n",
    "    coffee_file = open('coffee.txt', 'r')\n",
    "    temp_file = open('temp.txt', 'w')\n",
    "    descr = coffee_file.readline()\n",
    "\n",
    "    while descr != '':\n",
    "        qty = float(coffee_file.readline())\n",
    "        descr = descr.rstrip('\\n')\n",
    "\n",
    "        if descr != search:\n",
    "            temp_file.write(descr + '\\n')\n",
    "            temp_file.write(str(qty) + '\\n')\n",
    "        else:\n",
    "            found = True\n",
    "        descr = coffee_file.readline()\n",
    "\n",
    "    coffee_file.close()\n",
    "    temp_file.close()\n",
    "    os.remove('coffee.txt')\n",
    "    shutil.move('temp.txt', 'coffee.txt')\n",
    "    if not found:\n",
    "        print('That item was not found in the file.')\n",
    "main()"
   ]
  },
  {
   "cell_type": "markdown",
   "metadata": {
    "heading_collapsed": true
   },
   "source": [
    "# exceptions"
   ]
  },
  {
   "cell_type": "code",
   "execution_count": 29,
   "metadata": {
    "hidden": true
   },
   "outputs": [
    {
     "name": "stdout",
     "output_type": "stream",
     "text": [
      "Enter a number: 3\n",
      "Enter another number: 0\n"
     ]
    },
    {
     "ename": "ZeroDivisionError",
     "evalue": "division by zero",
     "output_type": "error",
     "traceback": [
      "\u001b[1;31m---------------------------------------------------------------------------\u001b[0m",
      "\u001b[1;31mZeroDivisionError\u001b[0m                         Traceback (most recent call last)",
      "\u001b[1;32m<ipython-input-29-6f8809a0007d>\u001b[0m in \u001b[0;36m<module>\u001b[1;34m()\u001b[0m\n\u001b[0;32m     11\u001b[0m \u001b[1;33m\u001b[0m\u001b[0m\n\u001b[0;32m     12\u001b[0m \u001b[1;31m# Call the main function.\u001b[0m\u001b[1;33m\u001b[0m\u001b[1;33m\u001b[0m\u001b[0m\n\u001b[1;32m---> 13\u001b[1;33m \u001b[0mmain\u001b[0m\u001b[1;33m(\u001b[0m\u001b[1;33m)\u001b[0m\u001b[1;33m\u001b[0m\u001b[0m\n\u001b[0m",
      "\u001b[1;32m<ipython-input-29-6f8809a0007d>\u001b[0m in \u001b[0;36mmain\u001b[1;34m()\u001b[0m\n\u001b[0;32m      7\u001b[0m \u001b[1;33m\u001b[0m\u001b[0m\n\u001b[0;32m      8\u001b[0m     \u001b[1;31m# Divide num1 by num2 and display the result.\u001b[0m\u001b[1;33m\u001b[0m\u001b[1;33m\u001b[0m\u001b[0m\n\u001b[1;32m----> 9\u001b[1;33m     \u001b[0mresult\u001b[0m \u001b[1;33m=\u001b[0m \u001b[0mnum1\u001b[0m \u001b[1;33m/\u001b[0m \u001b[0mnum2\u001b[0m\u001b[1;33m\u001b[0m\u001b[0m\n\u001b[0m\u001b[0;32m     10\u001b[0m     \u001b[0mprint\u001b[0m\u001b[1;33m(\u001b[0m\u001b[0mnum1\u001b[0m\u001b[1;33m,\u001b[0m \u001b[1;34m'divided by'\u001b[0m\u001b[1;33m,\u001b[0m \u001b[0mnum2\u001b[0m\u001b[1;33m,\u001b[0m \u001b[1;34m'is'\u001b[0m\u001b[1;33m,\u001b[0m \u001b[0mresult\u001b[0m\u001b[1;33m)\u001b[0m\u001b[1;33m\u001b[0m\u001b[0m\n\u001b[0;32m     11\u001b[0m \u001b[1;33m\u001b[0m\u001b[0m\n",
      "\u001b[1;31mZeroDivisionError\u001b[0m: division by zero"
     ]
    }
   ],
   "source": [
    "# This program divides a number by another number.\n",
    "\n",
    "def main():\n",
    "    # Get two numbers.\n",
    "    num1 = int(input('Enter a number: '))\n",
    "    num2 = int(input('Enter another number: '))\n",
    "\n",
    "    # Divide num1 by num2 and display the result.\n",
    "    result = num1 / num2\n",
    "    print(num1, 'divided by', num2, 'is', result)\n",
    "\n",
    "# Call the main function.\n",
    "main()"
   ]
  },
  {
   "cell_type": "code",
   "execution_count": 113,
   "metadata": {
    "code_folding": [
     0
    ],
    "hidden": true
   },
   "outputs": [
    {
     "name": "stdout",
     "output_type": "stream",
     "text": [
      "Enter a number: 3\n",
      "Enter another number: 0\n",
      "Cannot divide by zero.\n"
     ]
    }
   ],
   "source": [
    "def main():\n",
    "    num1 = int(input('Enter a number: '))\n",
    "    num2 = int(input('Enter another number: '))\n",
    "\n",
    "    if num2 != 0:\n",
    "        result = num1 / num2\n",
    "        print(num1, 'divided by', num2, 'is', result)\n",
    "    else:\n",
    "        print('Cannot divide by zero.')\n",
    "\n",
    "main()"
   ]
  },
  {
   "cell_type": "code",
   "execution_count": 114,
   "metadata": {
    "hidden": true
   },
   "outputs": [
    {
     "name": "stdout",
     "output_type": "stream",
     "text": [
      "How many hours did you work? fifty\n"
     ]
    },
    {
     "ename": "ValueError",
     "evalue": "invalid literal for int() with base 10: 'fifty'",
     "output_type": "error",
     "traceback": [
      "\u001b[1;31m---------------------------------------------------------------------------\u001b[0m",
      "\u001b[1;31mValueError\u001b[0m                                Traceback (most recent call last)",
      "\u001b[1;32m<ipython-input-114-b49b60e0749b>\u001b[0m in \u001b[0;36m<module>\u001b[1;34m()\u001b[0m\n\u001b[0;32m      6\u001b[0m     \u001b[0mprint\u001b[0m\u001b[1;33m(\u001b[0m\u001b[1;34m'Gross pay: $'\u001b[0m\u001b[1;33m,\u001b[0m \u001b[0mformat\u001b[0m\u001b[1;33m(\u001b[0m\u001b[0mgross_pay\u001b[0m\u001b[1;33m,\u001b[0m \u001b[1;34m',.2f'\u001b[0m\u001b[1;33m)\u001b[0m\u001b[1;33m,\u001b[0m \u001b[0msep\u001b[0m\u001b[1;33m=\u001b[0m\u001b[1;34m''\u001b[0m\u001b[1;33m)\u001b[0m\u001b[1;33m\u001b[0m\u001b[0m\n\u001b[0;32m      7\u001b[0m \u001b[1;33m\u001b[0m\u001b[0m\n\u001b[1;32m----> 8\u001b[1;33m \u001b[0mmain\u001b[0m\u001b[1;33m(\u001b[0m\u001b[1;33m)\u001b[0m\u001b[1;33m\u001b[0m\u001b[0m\n\u001b[0m",
      "\u001b[1;32m<ipython-input-114-b49b60e0749b>\u001b[0m in \u001b[0;36mmain\u001b[1;34m()\u001b[0m\n\u001b[0;32m      1\u001b[0m \u001b[1;32mdef\u001b[0m \u001b[0mmain\u001b[0m\u001b[1;33m(\u001b[0m\u001b[1;33m)\u001b[0m\u001b[1;33m:\u001b[0m\u001b[1;33m\u001b[0m\u001b[0m\n\u001b[0;32m      2\u001b[0m \u001b[1;33m\u001b[0m\u001b[0m\n\u001b[1;32m----> 3\u001b[1;33m     \u001b[0mhours\u001b[0m \u001b[1;33m=\u001b[0m \u001b[0mint\u001b[0m\u001b[1;33m(\u001b[0m\u001b[0minput\u001b[0m\u001b[1;33m(\u001b[0m\u001b[1;34m'How many hours did you work? '\u001b[0m\u001b[1;33m)\u001b[0m\u001b[1;33m)\u001b[0m\u001b[1;33m\u001b[0m\u001b[0m\n\u001b[0m\u001b[0;32m      4\u001b[0m     \u001b[0mpay_rate\u001b[0m \u001b[1;33m=\u001b[0m \u001b[0mfloat\u001b[0m\u001b[1;33m(\u001b[0m\u001b[0minput\u001b[0m\u001b[1;33m(\u001b[0m\u001b[1;34m'Enter your hourly pay rate: '\u001b[0m\u001b[1;33m)\u001b[0m\u001b[1;33m)\u001b[0m\u001b[1;33m\u001b[0m\u001b[0m\n\u001b[0;32m      5\u001b[0m     \u001b[0mgross_pay\u001b[0m \u001b[1;33m=\u001b[0m \u001b[0mhours\u001b[0m \u001b[1;33m*\u001b[0m \u001b[0mpay_rate\u001b[0m\u001b[1;33m\u001b[0m\u001b[0m\n",
      "\u001b[1;31mValueError\u001b[0m: invalid literal for int() with base 10: 'fifty'"
     ]
    }
   ],
   "source": [
    "def main():\n",
    "    \n",
    "    hours = int(input('How many hours did you work? '))\n",
    "    pay_rate = float(input('Enter your hourly pay rate: '))\n",
    "    gross_pay = hours * pay_rate\n",
    "    print('Gross pay: $', format(gross_pay, ',.2f'), sep='')\n",
    "    \n",
    "main()"
   ]
  },
  {
   "cell_type": "code",
   "execution_count": 34,
   "metadata": {
    "code_folding": [],
    "hidden": true
   },
   "outputs": [
    {
     "name": "stdout",
     "output_type": "stream",
     "text": [
      "How many hours did you work? forty\n",
      "ERROR: Hours worked and hourly pay rate must\n",
      "be valid integers.\n"
     ]
    }
   ],
   "source": [
    "def main():\n",
    "    try:\n",
    "        hours = int(input('How many hours did you work? '))\n",
    "        pay_rate = float(input('Enter your hourly pay rate: '))\n",
    "        gross_pay = hours * pay_rate\n",
    "        print('Gross pay: $', format(gross_pay, ',.2f'), sep='')\n",
    "        \n",
    "    except ValueError:\n",
    "        print('ERROR: Hours worked and hourly pay rate must')\n",
    "        print('be valid integers.')\n",
    "main()"
   ]
  },
  {
   "cell_type": "code",
   "execution_count": 35,
   "metadata": {
    "hidden": true
   },
   "outputs": [
    {
     "name": "stdout",
     "output_type": "stream",
     "text": [
      "Enter a filename: as\n"
     ]
    },
    {
     "ename": "FileNotFoundError",
     "evalue": "[Errno 2] No such file or directory: 'as'",
     "output_type": "error",
     "traceback": [
      "\u001b[1;31m---------------------------------------------------------------------------\u001b[0m",
      "\u001b[1;31mFileNotFoundError\u001b[0m                         Traceback (most recent call last)",
      "\u001b[1;32m<ipython-input-35-ad858cb4175d>\u001b[0m in \u001b[0;36m<module>\u001b[1;34m()\u001b[0m\n\u001b[0;32m     19\u001b[0m \u001b[1;33m\u001b[0m\u001b[0m\n\u001b[0;32m     20\u001b[0m \u001b[1;31m# Call the main function.\u001b[0m\u001b[1;33m\u001b[0m\u001b[1;33m\u001b[0m\u001b[0m\n\u001b[1;32m---> 21\u001b[1;33m \u001b[0mmain\u001b[0m\u001b[1;33m(\u001b[0m\u001b[1;33m)\u001b[0m\u001b[1;33m\u001b[0m\u001b[0m\n\u001b[0m",
      "\u001b[1;32m<ipython-input-35-ad858cb4175d>\u001b[0m in \u001b[0;36mmain\u001b[1;34m()\u001b[0m\n\u001b[0;32m      7\u001b[0m \u001b[1;33m\u001b[0m\u001b[0m\n\u001b[0;32m      8\u001b[0m     \u001b[1;31m# Open the file.\u001b[0m\u001b[1;33m\u001b[0m\u001b[1;33m\u001b[0m\u001b[0m\n\u001b[1;32m----> 9\u001b[1;33m     \u001b[0minfile\u001b[0m \u001b[1;33m=\u001b[0m \u001b[0mopen\u001b[0m\u001b[1;33m(\u001b[0m\u001b[0mfilename\u001b[0m\u001b[1;33m,\u001b[0m \u001b[1;34m'r'\u001b[0m\u001b[1;33m)\u001b[0m\u001b[1;33m\u001b[0m\u001b[0m\n\u001b[0m\u001b[0;32m     10\u001b[0m \u001b[1;33m\u001b[0m\u001b[0m\n\u001b[0;32m     11\u001b[0m     \u001b[1;31m# Read the file's contents.\u001b[0m\u001b[1;33m\u001b[0m\u001b[1;33m\u001b[0m\u001b[0m\n",
      "\u001b[1;31mFileNotFoundError\u001b[0m: [Errno 2] No such file or directory: 'as'"
     ]
    }
   ],
   "source": [
    "def main():\n",
    "    filename = input('Enter a filename: ')\n",
    "    infile = open(filename, 'r')\n",
    "    contents = infile.read()\n",
    "    print(contents)\n",
    "    infile.close()\n",
    "main()"
   ]
  },
  {
   "cell_type": "code",
   "execution_count": 115,
   "metadata": {
    "hidden": true
   },
   "outputs": [
    {
     "name": "stdout",
     "output_type": "stream",
     "text": [
      "Enter a filename: as\n",
      "An error occurred trying to read the file as\n"
     ]
    }
   ],
   "source": [
    "def main():\n",
    "    filename = input('Enter a filename: ')\n",
    "    try:\n",
    "        infile = open(filename, 'r')\n",
    "        contents = infile.read()\n",
    "        print(contents)\n",
    "        infile.close()\n",
    "        \n",
    "    except IOError:\n",
    "        print('An error occurred trying to read the file', filename)\n",
    "\n",
    "main()"
   ]
  },
  {
   "cell_type": "code",
   "execution_count": 37,
   "metadata": {
    "hidden": true
   },
   "outputs": [
    {
     "name": "stdout",
     "output_type": "stream",
     "text": [
      "An error occured trying to read the file.\n"
     ]
    }
   ],
   "source": [
    "def main():\n",
    "    total = 0.0\n",
    "    try:\n",
    "        infile = open('sales_data.txt', 'r')\n",
    "        for line in infile:\n",
    "            amount = float(line)\n",
    "            total += amount\n",
    "        infile.close()\n",
    "        print(format(total, ',.2f'))\n",
    "        \n",
    "    except IOError:\n",
    "        print('An error occured trying to read the file.')\n",
    "        \n",
    "    except ValueError:\n",
    "        print('Non-numeric data found in the file.')\n",
    "\n",
    "    except:\n",
    "        print('An error occured.')\n",
    "\n",
    "main()"
   ]
  },
  {
   "cell_type": "code",
   "execution_count": 38,
   "metadata": {
    "hidden": true
   },
   "outputs": [
    {
     "name": "stdout",
     "output_type": "stream",
     "text": [
      "An error occurred.\n"
     ]
    }
   ],
   "source": [
    "def main():\n",
    "    total = 0.0\n",
    "    try:\n",
    "        infile = open('sales_data.txt', 'r')\n",
    "        for line in infile:\n",
    "            amount = float(line)\n",
    "            total += amount\n",
    "        infile.close()\n",
    "        print(format(total, ',.2f'))\n",
    "        \n",
    "    except:\n",
    "        print('An error occurred.')\n",
    "\n",
    "main()"
   ]
  },
  {
   "cell_type": "code",
   "execution_count": 120,
   "metadata": {
    "hidden": true
   },
   "outputs": [
    {
     "name": "stdout",
     "output_type": "stream",
     "text": [
      "How many hours did you work? 40\n",
      "Enter your hourly pay rate: ten\n",
      "could not convert string to float: 'ten'\n"
     ]
    }
   ],
   "source": [
    "def main():\n",
    "    try:\n",
    "        hours = int(input('How many hours did you work? '))\n",
    "        pay_rate = float(input('Enter your hourly pay rate: '))\n",
    "        gross_pay = hours * pay_rate\n",
    "        print('Gross pay: $', format(gross_pay, ',.2f'), sep='')\n",
    "        \n",
    "    except ValueError as err:\n",
    "        print(err)\n",
    "main()"
   ]
  },
  {
   "cell_type": "code",
   "execution_count": 40,
   "metadata": {
    "hidden": true
   },
   "outputs": [
    {
     "name": "stdout",
     "output_type": "stream",
     "text": [
      "[Errno 2] No such file or directory: 'sales_data.txt'\n"
     ]
    }
   ],
   "source": [
    "# This program displays the total of the\n",
    "# amounts in the sales_data.txt file.\n",
    "\n",
    "def main():\n",
    "    # Initialize an accumulator.\n",
    "    total = 0.0\n",
    "    \n",
    "    try:\n",
    "        # Open the sales_data.txt file.\n",
    "        infile = open('sales_data.txt', 'r')\n",
    "\n",
    "        # Read the values from the file and\n",
    "        # accumulate them.\n",
    "        for line in infile:\n",
    "            amount = float(line)\n",
    "            total += amount\n",
    "\n",
    "        # Close the file.\n",
    "        infile.close()\n",
    "\n",
    "        # Print the total.\n",
    "        print(format(total, ',.2f'))\n",
    "    except Exception as err:\n",
    "        print(err)\n",
    "\n",
    "# Call the main function.\n",
    "main()\n"
   ]
  },
  {
   "cell_type": "code",
   "execution_count": 41,
   "metadata": {
    "hidden": true
   },
   "outputs": [
    {
     "name": "stdout",
     "output_type": "stream",
     "text": [
      "[Errno 2] No such file or directory: 'sales_data.txt'\n"
     ]
    }
   ],
   "source": [
    "def main():\n",
    "    total = 0.0\n",
    "    try:\n",
    "        infile = open('sales_data.txt', 'r')\n",
    "\n",
    "        for line in infile:\n",
    "            amount = float(line)\n",
    "            total += amount\n",
    "        infile.close()\n",
    "        \n",
    "    except Exception as err:\n",
    "        print(err)\n",
    "    else:\n",
    "        print(format(total, ',.2f'))\n",
    "\n",
    "# Call the main function.\n",
    "main()"
   ]
  },
  {
   "cell_type": "markdown",
   "metadata": {
    "heading_collapsed": true
   },
   "source": [
    "# module import"
   ]
  },
  {
   "cell_type": "code",
   "execution_count": 1,
   "metadata": {
    "hidden": true
   },
   "outputs": [
    {
     "name": "stdout",
     "output_type": "stream",
     "text": [
      "importing Jupyter notebook from circle.ipynb\n",
      "50.26548245743669\n"
     ]
    }
   ],
   "source": [
    "import import_ipynb\n",
    "from circle import *\n",
    "\n",
    "radius=4\n",
    "a=circle_area(radius)\n",
    "print(a)"
   ]
  },
  {
   "cell_type": "code",
   "execution_count": 2,
   "metadata": {
    "hidden": true
   },
   "outputs": [
    {
     "name": "stdout",
     "output_type": "stream",
     "text": [
      "importing Jupyter notebook from rectangle.ipynb\n",
      "20 18\n"
     ]
    }
   ],
   "source": [
    "import import_ipynb\n",
    "from rectangle import *\n",
    "\n",
    "w,h=4,5\n",
    "area=rect_area(w,h)\n",
    "perimeter=rect_perim(w,h)\n",
    "print(area, perimeter)"
   ]
  },
  {
   "cell_type": "code",
   "execution_count": 3,
   "metadata": {
    "hidden": true
   },
   "outputs": [
    {
     "name": "stdout",
     "output_type": "stream",
     "text": [
      "        MENU\n",
      "1) Area of a rectangle\n",
      "2) Perimeter of a rectangle\n",
      "3) Quit\n",
      "Enter your choice: 3\n",
      "Exiting the program...\n"
     ]
    }
   ],
   "source": [
    "import import_ipynb\n",
    "from rectangle import *\n",
    "\n",
    "# Constants for the menu choices\n",
    "AREA_RECTANGLE= 1\n",
    "PERIMETER = 2\n",
    "QUIT = 3\n",
    "\n",
    "def main():\n",
    "    # The choice variable controls the loop and holds the user's menu choice.\n",
    "    choice = 0\n",
    "    while choice != QUIT:\n",
    "        menu()\n",
    "        choice = int(input('Enter your choice: '))\n",
    "        if choice == AREA_RECTANGLE:\n",
    "            width = float(input(\"Enter the rectangle's width: \"))\n",
    "            length = float(input(\"Enter the rectangle's length: \"))\n",
    "            area=rect_area(width, length)\n",
    "            print('The area is', format(area,'.2f'))        \n",
    "        elif choice == PERIMETER:\n",
    "            width = float(input(\"Enter the rectangle's width: \"))\n",
    "            length = float(input(\"Enter the rectangle's length: \"))\n",
    "            perimeter=rect_perim(width, length)\n",
    "            print('The perimeter is', format(perimeter,'.2f')) \n",
    "\n",
    "        elif choice == QUIT:\n",
    "            print('Exiting the program...')           \n",
    "        else:\n",
    "            print('Error: invalid selection.')\n",
    "    \n",
    "def menu():\n",
    "    print('        MENU')\n",
    "    print('1) Area of a rectangle')\n",
    "    print('2) Perimeter of a rectangle')\n",
    "    print('3) Quit')\n",
    "\n",
    "# Call the main function.\n",
    "main()"
   ]
  },
  {
   "cell_type": "markdown",
   "metadata": {},
   "source": [
    "# list and tuples"
   ]
  },
  {
   "cell_type": "code",
   "execution_count": 9,
   "metadata": {},
   "outputs": [
    {
     "name": "stdout",
     "output_type": "stream",
     "text": [
      "4 3\n"
     ]
    }
   ],
   "source": [
    "a=[1,2,3,4]\n",
    "print(a[-1],a[-2])"
   ]
  },
  {
   "cell_type": "code",
   "execution_count": 14,
   "metadata": {},
   "outputs": [
    {
     "name": "stdout",
     "output_type": "stream",
     "text": [
      "[1, 2, 3, 4]\n",
      "[1, 2, 5, 4]\n"
     ]
    }
   ],
   "source": [
    "a=[1,2,3,4]\n",
    "print(a)\n",
    "a[2]=5\n",
    "print(a)"
   ]
  },
  {
   "cell_type": "code",
   "execution_count": 11,
   "metadata": {},
   "outputs": [
    {
     "data": {
      "text/plain": [
       "40"
      ]
     },
     "execution_count": 11,
     "metadata": {},
     "output_type": "execute_result"
    }
   ],
   "source": [
    "my_list=[10,20,30,40]\n",
    "my_list[len(my_list)-1]"
   ]
  },
  {
   "cell_type": "code",
   "execution_count": 5,
   "metadata": {},
   "outputs": [
    {
     "name": "stdout",
     "output_type": "stream",
     "text": [
      "[0, 0, 0, 0]\n",
      "\n",
      "[10, 20, 30, 40]\n"
     ]
    }
   ],
   "source": [
    "null_list=[0]*4\n",
    "print(null_list)\n",
    "null_list[0]=10\n",
    "null_list[1]=20\n",
    "null_list[2]=30\n",
    "null_list[3]=40\n",
    "print()\n",
    "print(null_list)"
   ]
  },
  {
   "cell_type": "code",
   "execution_count": 15,
   "metadata": {},
   "outputs": [
    {
     "name": "stdout",
     "output_type": "stream",
     "text": [
      "[[29, 22, 22, 10], [69, 41, 47, 94], [49, 45, 42, 99]]\n"
     ]
    }
   ],
   "source": [
    "import random\n",
    "\n",
    "ROWS = 3\n",
    "COLS = 4\n",
    "\n",
    "def main():\n",
    "    values = [[0, 0, 0, 0],\n",
    "              [0, 0, 0, 0],\n",
    "              [0, 0, 0, 0]]\n",
    "\n",
    "    for r in range(ROWS):\n",
    "        for c in range(COLS):\n",
    "            values[r][c] = random.randint(1, 100)\n",
    "\n",
    "    print(values)\n",
    "\n",
    "main()"
   ]
  },
  {
   "cell_type": "code",
   "execution_count": 21,
   "metadata": {},
   "outputs": [
    {
     "data": {
      "text/plain": [
       "(1, 2, 3)"
      ]
     },
     "execution_count": 21,
     "metadata": {},
     "output_type": "execute_result"
    }
   ],
   "source": [
    "tuple_1=(1,2,3,4)\n",
    "tuple_1[0:3]"
   ]
  },
  {
   "cell_type": "code",
   "execution_count": 17,
   "metadata": {},
   "outputs": [
    {
     "name": "stdout",
     "output_type": "stream",
     "text": [
      "(1, 2, 3, 4)\n",
      "[1, 2, 3, 4]\n"
     ]
    }
   ],
   "source": [
    "a=[1,2,3,4]\n",
    "b=tuple(a)\n",
    "c=list(b)\n",
    "print(b)\n",
    "print(c)"
   ]
  },
  {
   "cell_type": "code",
   "execution_count": 2,
   "metadata": {},
   "outputs": [
    {
     "name": "stdout",
     "output_type": "stream",
     "text": [
      "The average of the elements is 5.1\n"
     ]
    }
   ],
   "source": [
    "def main():\n",
    "    scores = (2.5, 7.3, 6.5, 4.0, 5.2)\n",
    "    total = 0.0\n",
    "    \n",
    "    for value in scores:\n",
    "        total += value\n",
    "        \n",
    "    average = total / len(scores)\n",
    "    print('The average of the elements is', average)\n",
    "\n",
    "main()"
   ]
  },
  {
   "cell_type": "code",
   "execution_count": null,
   "metadata": {},
   "outputs": [],
   "source": []
  }
 ],
 "metadata": {
  "kernelspec": {
   "display_name": "Python 3",
   "language": "python",
   "name": "python3"
  },
  "language_info": {
   "codemirror_mode": {
    "name": "ipython",
    "version": 3
   },
   "file_extension": ".py",
   "mimetype": "text/x-python",
   "name": "python",
   "nbconvert_exporter": "python",
   "pygments_lexer": "ipython3",
   "version": "3.6.6"
  },
  "toc": {
   "base_numbering": 1,
   "nav_menu": {},
   "number_sections": true,
   "sideBar": true,
   "skip_h1_title": false,
   "title_cell": "Table of Contents",
   "title_sidebar": "Contents",
   "toc_cell": false,
   "toc_position": {},
   "toc_section_display": true,
   "toc_window_display": false
  },
  "varInspector": {
   "cols": {
    "lenName": 16,
    "lenType": 16,
    "lenVar": 40
   },
   "kernels_config": {
    "python": {
     "delete_cmd_postfix": "",
     "delete_cmd_prefix": "del ",
     "library": "var_list.py",
     "varRefreshCmd": "print(var_dic_list())"
    },
    "r": {
     "delete_cmd_postfix": ") ",
     "delete_cmd_prefix": "rm(",
     "library": "var_list.r",
     "varRefreshCmd": "cat(var_dic_list()) "
    }
   },
   "position": {
    "height": "143.6px",
    "left": "910px",
    "right": "20px",
    "top": "119px",
    "width": "350px"
   },
   "types_to_exclude": [
    "module",
    "function",
    "builtin_function_or_method",
    "instance",
    "_Feature"
   ],
   "window_display": false
  }
 },
 "nbformat": 4,
 "nbformat_minor": 2
}
